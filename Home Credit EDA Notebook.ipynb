{
 "cells": [
  {
   "cell_type": "markdown",
   "id": "ae4f1164",
   "metadata": {
    "toc": true
   },
   "source": [
    "<h1>Table of Contents<span class=\"tocSkip\"></span></h1>\n",
    "<div class=\"toc\"><ul class=\"toc-item\"><li><span><a href=\"#Title:-Group-2-Home-Credit-Exploratory-Data-Analysis\" data-toc-modified-id=\"Title:-Group-2-Home-Credit-Exploratory-Data-Analysis-1\">Title: Group 2 Home Credit Exploratory Data Analysis</a></span></li><li><span><a href=\"#Question-List\" data-toc-modified-id=\"Question-List-2\">Question List</a></span></li><li><span><a href=\"#Introduction\" data-toc-modified-id=\"Introduction-3\">Introduction</a></span></li><li><span><a href=\"#Description-of-the-Data\" data-toc-modified-id=\"Description-of-the-Data-4\">Description of the Data</a></span><ul class=\"toc-item\"><li><span><a href=\"#Data-Sets-Used-in-Project\" data-toc-modified-id=\"Data-Sets-Used-in-Project-4.1\"><strong>Data Sets Used in Project</strong></a></span><ul class=\"toc-item\"><li><span><a href=\"#application_train.csv\" data-toc-modified-id=\"application_train.csv-4.1.1\">application_train.csv</a></span></li><li><span><a href=\"#application_test.csv\" data-toc-modified-id=\"application_test.csv-4.1.2\">application_test.csv</a></span></li><li><span><a href=\"#bureau.csv\" data-toc-modified-id=\"bureau.csv-4.1.3\">bureau.csv</a></span></li><li><span><a href=\"#bureau_balance.csv\" data-toc-modified-id=\"bureau_balance.csv-4.1.4\">bureau_balance.csv</a></span></li><li><span><a href=\"#credit_card_balance.csv\" data-toc-modified-id=\"credit_card_balance.csv-4.1.5\">credit_card_balance.csv</a></span></li><li><span><a href=\"#HomeCredit_columns_descriptions.csv\" data-toc-modified-id=\"HomeCredit_columns_descriptions.csv-4.1.6\">HomeCredit_columns_descriptions.csv</a></span></li><li><span><a href=\"#installments_payments.csv\" data-toc-modified-id=\"installments_payments.csv-4.1.7\">installments_payments.csv</a></span></li><li><span><a href=\"#POS_CASH_balance.csv\" data-toc-modified-id=\"POS_CASH_balance.csv-4.1.8\">POS_CASH_balance.csv</a></span></li><li><span><a href=\"#previous_application.csv\" data-toc-modified-id=\"previous_application.csv-4.1.9\">previous_application.csv</a></span></li><li><span><a href=\"#sample_submission.csv\" data-toc-modified-id=\"sample_submission.csv-4.1.10\">sample_submission.csv</a></span></li></ul></li><li><span><a href=\"#Summary-of-the-Data\" data-toc-modified-id=\"Summary-of-the-Data-4.2\">Summary of the Data</a></span><ul class=\"toc-item\"><li><ul class=\"toc-item\"><li><span><a href=\"#Installing-Necessary-Packagees\" data-toc-modified-id=\"Installing-Necessary-Packagees-4.2.0.1\">Installing Necessary Packagees</a></span></li><li><span><a href=\"#Importing-Necessary-Packages\" data-toc-modified-id=\"Importing-Necessary-Packages-4.2.0.2\">Importing Necessary Packages</a></span></li><li><span><a href=\"#Making-the-dataframes-for-each-of-our-CSV-files\" data-toc-modified-id=\"Making-the-dataframes-for-each-of-our-CSV-files-4.2.0.3\">Making the dataframes for each of our CSV files</a></span></li><li><span><a href=\"#Printing-the-shape-of-each-of-our-dataframes-for-the-row-and-columns\" data-toc-modified-id=\"Printing-the-shape-of-each-of-our-dataframes-for-the-row-and-columns-4.2.0.4\">Printing the shape of each of our dataframes for the row and columns</a></span></li><li><span><a href=\"#Printing-the-top-5-rows-of-each-dataframe\" data-toc-modified-id=\"Printing-the-top-5-rows-of-each-dataframe-4.2.0.5\">Printing the top 5 rows of each dataframe</a></span></li><li><span><a href=\"#Printing-the-Common-Columns\" data-toc-modified-id=\"Printing-the-Common-Columns-4.2.0.6\">Printing the Common Columns</a></span></li><li><span><a href=\"#Printing-General-Info-for-Each-Dataframe\" data-toc-modified-id=\"Printing-General-Info-for-Each-Dataframe-4.2.0.7\">Printing General Info for Each Dataframe</a></span></li><li><span><a href=\"#Exploring-summary-stats-of-the-numeric-columns\" data-toc-modified-id=\"Exploring-summary-stats-of-the-numeric-columns-4.2.0.8\">Exploring summary stats of the numeric columns</a></span></li><li><span><a href=\"#Exploring-the-categorical-variables-in-the-dataframes\" data-toc-modified-id=\"Exploring-the-categorical-variables-in-the-dataframes-4.2.0.9\">Exploring the categorical variables in the dataframes</a></span></li><li><span><a href=\"#Getting-the-unique-values-for-the-categorical-columns-in-the-dataframe\" data-toc-modified-id=\"Getting-the-unique-values-for-the-categorical-columns-in-the-dataframe-4.2.0.10\">Getting the unique values for the categorical columns in the dataframe</a></span></li></ul></li></ul></li></ul></li><li><span><a href=\"#Discussion-of-Missing-Data\" data-toc-modified-id=\"Discussion-of-Missing-Data-5\">Discussion of Missing Data</a></span><ul class=\"toc-item\"><li><ul class=\"toc-item\"><li><ul class=\"toc-item\"><li><span><a href=\"#Re-examining-the-shape-of-the-test-and-training-set\" data-toc-modified-id=\"Re-examining-the-shape-of-the-test-and-training-set-5.0.0.1\">Re-examining the shape of the test and training set</a></span></li><li><span><a href=\"#Evaluating-the-missing-data-from-the-dataframes\" data-toc-modified-id=\"Evaluating-the-missing-data-from-the-dataframes-5.0.0.2\">Evaluating the missing data from the dataframes</a></span></li><li><span><a href=\"#Filtering-missing-values-and-printing-summary-metrics\" data-toc-modified-id=\"Filtering-missing-values-and-printing-summary-metrics-5.0.0.3\">Filtering missing values and printing summary metrics</a></span></li></ul></li></ul></li></ul></li><li><span><a href=\"#Exploratory-of-Visualizations\" data-toc-modified-id=\"Exploratory-of-Visualizations-6\">Exploratory of Visualizations</a></span><ul class=\"toc-item\"><li><ul class=\"toc-item\"><li><ul class=\"toc-item\"><li><span><a href=\"#Exploring-Gender-Distribution-of-Sample\" data-toc-modified-id=\"Exploring-Gender-Distribution-of-Sample-6.0.0.1\">Exploring Gender Distribution of Sample</a></span></li><li><span><a href=\"#Visualizing-Education-of-Sample-Applicants\" data-toc-modified-id=\"Visualizing-Education-of-Sample-Applicants-6.0.0.2\">Visualizing Education of Sample Applicants</a></span></li><li><span><a href=\"#Plotting-the-distribution-of-age-in-years-of-sample-applicants\" data-toc-modified-id=\"Plotting-the-distribution-of-age-in-years-of-sample-applicants-6.0.0.3\">Plotting the distribution of age in years of sample applicants</a></span></li><li><span><a href=\"#Visualizing-client-accompaniment-during-application\" data-toc-modified-id=\"Visualizing-client-accompaniment-during-application-6.0.0.4\">Visualizing client accompaniment during application</a></span></li><li><span><a href=\"#Visualizing-Top-Organization-Distributions\" data-toc-modified-id=\"Visualizing-Top-Organization-Distributions-6.0.0.5\">Visualizing Top Organization Distributions</a></span></li><li><span><a href=\"#Plotting-distribution-of-Housing-Type-by-sample-applicants\" data-toc-modified-id=\"Plotting-distribution-of-Housing-Type-by-sample-applicants-6.0.0.6\">Plotting distribution of Housing Type by sample applicants</a></span></li></ul></li></ul></li></ul></li><li><span><a href=\"#Results\" data-toc-modified-id=\"Results-7\">Results</a></span></li><li><span><a href=\"#Group-Members-and-Participation\" data-toc-modified-id=\"Group-Members-and-Participation-8\">Group Members and Participation</a></span></li></ul></div>"
   ]
  },
  {
   "cell_type": "markdown",
   "id": "4796c196",
   "metadata": {},
   "source": [
    "# Title: Group 2 Home Credit Exploratory Data Analysis"
   ]
  },
  {
   "cell_type": "markdown",
   "id": "a50f4703",
   "metadata": {},
   "source": [
    "# Question List"
   ]
  },
  {
   "cell_type": "markdown",
   "id": "99721e27",
   "metadata": {},
   "source": [
    "* What is the target variable?\n",
    "* What is our business and analytic problem?\n",
    "* What do each of the datasets have in common?\n",
    "* What information can we draw from in our datasets that will help us understand if a person may be trustworhty or not to borrow?\n",
    "* Are there any missing variables in our data set that we need to remove?\n",
    "* What demographic do we want to try and visualize that are in our data?\n",
    "* How can we use our EDA to lead into our project modeling?"
   ]
  },
  {
   "cell_type": "markdown",
   "id": "5d43d5f7",
   "metadata": {},
   "source": [
    "# Introduction"
   ]
  },
  {
   "cell_type": "markdown",
   "id": "2f95347c",
   "metadata": {},
   "source": [
    "**Project Goal:** Home Credit will be able to identify if a customer is a safe candidate to lend to, then create a personalized customer loan and repayment plan to be accountable for, resulting in an increase in revenue, improved customer experience, and lower default rates.\n",
    "\n",
    "\n",
    "**Business Problem:** Home Credit desires to know safe borrowers in a customer base that is unfamiliar with banking and give the customer a plan for successful loan repayment. Lending to those who are more likely to default on loans decreases the profits of Home Credit and results in negative customer experiences.\n",
    "\n",
    "**Analytic Problem:**\n",
    "\n",
    "The **target variable** is specificially customers that do have a negative history of repayment to lend to, and postive repayment. Represented in the application_train/test.csv sets of binary where 1 = Not trust worthy borrower (Client with payment difficulties), 0 = Trustworthy borrower (client with good repayment history).\n",
    "\n",
    "* Predict which customers will be good borrowers, using a classification method based on customer financial behavior data.\n",
    "\n",
    "* Use a regression method to see the relationship that a trust worthy customer has to other attributes about them.\n",
    "\n"
   ]
  },
  {
   "cell_type": "markdown",
   "id": "8170a613",
   "metadata": {},
   "source": [
    "# Description of the Data"
   ]
  },
  {
   "cell_type": "markdown",
   "id": "be3eb054",
   "metadata": {},
   "source": [
    "## **Data Sets Used in Project**\n",
    "\n",
    "\n",
    "### application_train.csv\n",
    "* application_train.csv: \n",
    "\n",
    "\n",
    "    * Main dataset. This file contains the information of the target variable as binary for trustworthy to loan to.\n",
    "   \n",
    "\n",
    "\n",
    "| Column                          | Description                                                                                          |\n",
    "|---------------------------------|------------------------------------------------------------------------------------------------------|\n",
    "| SK_ID_CURR                      | ID of loan in our sample                                                                             |\n",
    "| TARGET                          | Target variable (1 - client with payment difficulties: he/she had late payment more than X days on at least one of the first Y installments of the loan in our sample, 0 - all other cases)  |\n",
    "| NAME_CONTRACT_TYPE              | Identification if loan is cash or revolving                                                          |\n",
    "| CODE_GENDER                     | Gender of the client                                                                                 |\n",
    "| FLAG_OWN_CAR                    | Flag if the client owns a car                                                                        |\n",
    "| FLAG_OWN_REALTY                 | Flag if the client owns a house or flat                                                              |\n",
    "| CNT_CHILDREN                    | Number of children the client has                                                                    |\n",
    "| AMT_INCOME_TOTAL                | Income of the client                                                                                 |\n",
    "| AMT_CREDIT                      | Credit amount of the loan                                                                            |\n",
    "| AMT_ANNUITY                     | Loan annuity                                                                                         |\n",
    "| AMT_GOODS_PRICE                 | For consumer loans it is the price of the goods for which the loan is given                           |\n",
    "| NAME_TYPE_SUITE                 | Who was accompanying client when he was applying for the loan                                        |\n",
    "| NAME_INCOME_TYPE                | Clients income type (businessman, working, maternity leave,...)                                      |\n",
    "| NAME_EDUCATION_TYPE             | Level of highest education the client achieved                                                       |\n",
    "| NAME_FAMILY_STATUS              | Family status of the client                                                                          |\n",
    "| NAME_HOUSING_TYPE               | What is the housing situation of the client (renting, living with parents, ...)                      |\n",
    "| REGION_POPULATION_RELATIVE      | Normalized population of region where client lives (higher number means the client lives in...       |\n",
    "| DAYS_BIRTH                      | Client's age in days at the time of application                                                      |\n",
    "| DAYS_EMPLOYED                   | How many days before the application the person started current employment                           |\n",
    "| DAYS_REGISTRATION               | How many days before the application did client change his registration                              |\n",
    "| DAYS_ID_PUBLISH                 | How many days before the application did client change the identity document with which he...        |\n",
    "| OWN_CAR_AGE                     | Age of client's car                                                                                  |\n",
    "| FLAG_MOBIL                      | Did client provide mobile phone (1=YES, 0=NO)                                                        |\n",
    "| FLAG_EMP_PHONE                  | Did client provide work phone (1=YES, 0=NO)                                                          |\n",
    "| FLAG_WORK_PHONE                 | Did client provide home phone (1=YES, 0=NO)                                                          |\n",
    "| FLAG_CONT_MOBILE                | Was mobile phone reachable (1=YES, 0=NO)                                                             |\n",
    "| FLAG_PHONE                      | Did client provide home phone (1=YES, 0=NO)                                                          |\n",
    "| FLAG_EMAIL                      | Did client provide email (1=YES, 0=NO)                                                               |\n",
    "| OCCUPATION_TYPE                 | What kind of occupation does the client have                                                         |\n",
    "| CNT_FAM_MEMBERS                 | How many family members does client have                                                             |\n",
    "| REGION_RATING_CLIENT            | Our rating of the region where client lives (1,2,3)                                                  |\n",
    "| REGION_RATING_CLIENT_W_CITY     | Our rating of the region where client lives with taking city into account (1,2,3)                    |\n",
    "| WEEKDAY_APPR_PROCESS_START      | On which day of the week did the client apply for the loan                                           |\n",
    "| HOUR_APPR_PROCESS_START         | Approximately at what hour did the client apply for the loan                                         |\n",
    "| REG_REGION_NOT_LIVE_REGION      | Flag if client's permanent address does not match contact address (1=different, 0=same, at region level        |\n",
    "| REG_REGION_NOT_WORK_REGION      | Flag if client's permanent address does not match work address (1=different, 0=same, at region level)                                 |\n",
    "| LIVE_REGION_NOT_WORK_REGION     | Flag if client's contact address does not match work address (1=different, 0=same, at region level)                                    |\n",
    "| REG_CITY_NOT_LIVE_CITY          | Flag if client's permanent address does not match contact address (1=different, 0=same, at city level)                                 |\n",
    "| REG_CITY_NOT_WORK_CITY          | Flag if client's permanent address does not match work address (1=different, 0=same, at city level)                                    |\n",
    "| LIVE_CITY_NOT_WORK_CITY         | Flag if client's contact address does not match work address (1=different, 0=same, at city level)                                       |\n",
    "| ORGANIZATION_TYPE               | Type of organization where client works                                                                                                 |\n",
    "| EXT_SOURCE_1                    | Normalized score from external data source                                                                                             |\n",
    "| EXT_SOURCE_2                    | Normalized score from external data source                                                                                             |\n",
    "| EXT_SOURCE_3                    | Normalized score from external data source                                                                                             |\n",
    "| APARTMENTS_AVG                  | Normalized information about building where the client lives, average apartment size, common area, etc.                                |\n",
    "| BASEMENTAREA_AVG                | Normalized information about building where the client lives, average basement area, common area, etc.                                 |\n",
    "| YEARS_BEGINEXPLUATATION_AVG     | Normalized information about building where the client lives, average years of building exploitation, etc.                             |\n",
    "| YEARS_BUILD_AVG                 | Normalized information about building where the client lives, average years since building construction, etc.                          |\n",
    "| COMMONAREA_AVG                  | Normalized information about building where the client lives, average common area, etc.                                                |\n",
    "| ELEVATORS_AVG                   | Normalized information about building where the client lives, average number of elevators, etc.                                       |\n",
    "| ENTRANCES_AVG                   | Normalized information about building where the client lives, average number of entrances, etc.                                       |\n",
    "| FLOORSMAX_AVG                   | Normalized information about building where the client lives, average maximum number of floors, etc.                                   |\n",
    "| FLOORSMIN_AVG                   | Normalized information about building where the client lives, average minimum number of floors, etc.                                   |\n",
    "| LANDAREA_AVG                    | Normalized information about building where the client lives, average land area, etc.                                                  |\n",
    "| LIVINGAPARTMENTS_AVG            | Normalized information about building where the client lives, average living area of apartments, etc.                                  |\n",
    "| LIVINGAREA_AVG                  | Normalized information about building where the client lives, average living area, etc.                                                |\n",
    "| NONLIVINGAPARTMENTS_AVG         | Normalized information about building where the client lives, average non-living area of apartments, etc.                              |\n",
    "| NONLIVINGAREA_AVG               | Normalized information about building where the client lives, average non-living area, etc.                                            |\n",
    "| APARTMENTS_MODE                 | Normalized information about building where the client lives, modus (most common) apartment size, common area, etc.                   |\n",
    "| BASEMENTAREA_MODE               | Normalized information about building where the client lives, modus (most common) basement area, common area, etc.                    |\n",
    "| YEARS_BEGINEXPLUATATION_MODE    | Normalized information about building |\n",
    "| YEARS_BUILD_AVG            | Normalized information about building where the client lives, What is average (_AVG suffix), modus (_MODE suffix), median (_MEDI suffix) apartment size, common area, living area, age of building, number of elevators, number of entrances, state of the building, number of floor   |\n",
    "| COMMONAREA_AVG             | Normalized information about building where the client lives, What is average (_AVG suffix), modus (_MODE suffix), median (_MEDI suffix) apartment size, common area, living area, age of building, number of elevators, number of entrances, state of the building, number of floor   |\n",
    "| ELEVATORS_AVG              | Normalized information about building where the client lives, What is average (_AVG suffix), modus (_MODE suffix), median (_MEDI suffix) apartment size, common area, living area, age of building, number of elevators, number of entrances, state of the building, number of floor   |\n",
    "| ENTRANCES_AVG              | Normalized information about building where the client lives, What is average (_AVG suffix), modus (_MODE suffix), median (_MEDI suffix) apartment size, common area, living area, age of building, number of elevators, number of entrances, state of the building, number of floor   |\n",
    "| FLOORSMAX_AVG              | Normalized information about building where the client lives, What is average (_AVG suffix), modus (_MODE suffix), median (_MEDI suffix) apartment size, common area, living area, age of building, number of elevators, number of entrances, state of the building, number of floor   |\n",
    "| FLOORSMIN_AVG              | Normalized information about building where the client lives, What is average (_AVG suffix), modus (_MODE suffix), median (_MEDI suffix) apartment size, common area, living area, age of building, number of elevators, number of entrances, state of the building, number of floor   |\n",
    "| LANDAREA_AVG               | Normalized information about building where the client lives, What is average (_AVG suffix), modus (_MODE suffix), median (_MEDI suffix) apartment size, common area, living area, age of building, number of elevators, number of entrances, state of the building, number of floor   |\n",
    "| LIVINGAPARTMENTS_AVG       | Normalized information about building where the client lives, What is average (_AVG suffix), modus (_MODE suffix), median (_MEDI suffix) apartment size, common area, living area, age of building, number of elevators, number of entrances, state of the building, number of floor   |\n",
    "| LIVINGAREA_AVG             | Normalized information about building where the client lives, What is average (_AVG suffix), modus (_MODE suffix), median (_MEDI suffix) apartment size, common area, living area, age of building, number of elevators, number of entrances, state of the building, number of floor   |\n",
    "| NONLIVINGAPARTMENTS_AVG    | Normalized information about building where the client lives, What is average (_AVG suffix), modus (_MODE suffix), median (_MEDI suffix) apartment size, common area, living area, age of building, number of elevators, number of entrances, state of the building, number of floor   |\n",
    "| NONLIVINGAREA_AVG         | Normalized information about building where the client lives, What is average (_AVG suffix), modus (_MODE suffix), median (_MEDI suffix) apartment size, common area, living area, age of building, number of elevators, number of entrances, state of the building, number of floor |\n",
    "| APARTMENTS_MODE           | Normalized information about building where the client lives, What is average (_AVG suffix), modus (_MODE suffix), median (_MEDI suffix) apartment size, common area, living area, age of building, number of elevators, number of entrances, state of the building, number of floor |\n",
    "| BASEMENTAREA_MODE         | Normalized information about building where the client lives, What is average (_AVG suffix), modus (_MODE suffix), median (_MEDI suffix) apartment size, common area, living area, age of building, number of elevators, number of entrances, state of the building, number of floor |\n",
    "| YEARS_BEGINEXPLUATATION_MODE | Normalized information about building where the client lives, What is average (_AVG suffix), modus (_MODE suffix), median (_MEDI suffix) apartment size, common area, living area, age of building, number of elevators, number of entrances, state of the building, number of floor |\n",
    "| YEARS_BUILD_MODE          | Normalized information about building where the client lives, What is average (_AVG suffix), modus (_MODE suffix), median (_MEDI suffix) apartment size, common area, living area, age of building, number of elevators, number of entrances, state of the building, number of floor |\n",
    "| COMMONAREA_MODE           | Normalized information about building where the client lives, What is average (_AVG suffix), modus (_MODE suffix), median (_MEDI suffix) apartment size, common area, living area, age of building, number of elevators, number of entrances, state of the building, number of floor |\n",
    "| ELEVATORS_MODE            | Normalized information about building where the client lives, What is average (_AVG suffix), modus (_MODE suffix), median (_MEDI suffix) apartment size, common area, living area, age of building, number of elevators, number of entrances, state of the building, number of floor |\n",
    "| ENTRANCES_MODE            | Normalized information about building where the client lives, What is average (_AVG suffix), modus (_MODE suffix), median (_MEDI suffix) apartment size, common area, living area, age of building, number of elevators, number of entrances, state of the building, number of floor |\n",
    "| FLOORSMAX_MODE            | Normalized information about building where the client lives, What is average (_AVG suffix), modus (_MODE suffix), median (_MEDI suffix) apartment size, common area, living area, age of building, number of elevators, number of entrances, state of the building, number of floor |\n",
    "| FLOORSMIN_MODE            | Normalized information about building where the client lives, What is average (_AVG suffix), modus (_MODE suffix), median (_MEDI suffix) apartment size, common area, living area, age of building, number of elevators, number of entrances, state of the building, number of floor |\n",
    "| LANDAREA_MODE             | Normalized information about building where the client lives, What is average (_AVG suffix), modus (_MODE suffix), median (_MEDI suffix) apartment size, common area, living area, age of building, number of elevators, number of entrances, state of the building, number of floor |\n",
    "| LIVINGAPARTMENTS_MODE     | Normalized information about building where the client lives, What is average (_AVG suffix), modus (_MODE suffix), median (_MEDI suffix) apartment size, common area, living area, age of building, number of elevators, number of entrances, state of the building, number of floor |\n",
    "| LIVINGAREA_MODE           | Normalized information about building where the client lives, What is average (_AVG suffix), modus (_MODE suffix), median (_MEDI suffix) apartment size, common area, living area, age of building, number of elevators, number of entrances, state of the building, number of floor |\n",
    "| NONLIVINGAPARTMENTS_MODE  | Normalized information about building where the client lives, What is average (_AVG suffix), modus (_MODE suffix), median (_MEDI suffix) apartment size, common area, living area, age of building, number of elevators, number of entrances, state of the building, number of floor |\n",
    "| NONLIVINGAREA_MODE        | Normalized information about building where the client lives, What is average (_AVG suffix), modus (_MODE suffix), median (_MEDI suffix) apartment size, common area, living area, age of building, number of elevators, number of entrances, state of the building, number of floor |\n",
    "| FLOORSMIN_MODE            | Normalized information about building where the client lives, such as the mode (most common) value for the number of floors in the building           |\n",
    "| FLOORSMIN_MEDI            | Normalized information about building where the client lives, such as the median value for the number of floors in the building                   |\n",
    "| FLOORSMAX_MODE            | Normalized information about building where the client lives, such as the mode (most common) value for the highest floor in the building            |\n",
    "| FLOORSMAX_MEDI            | Normalized information about building where the client lives, such as the median value for the highest floor in the building                        |\n",
    "| YEARS_BUILD_MODE          | Normalized information about building where the client lives, such as the mode (most common) value for the age of the building                       |\n",
    "| YEARS_BUILD_MEDI          | Normalized information about building where the client lives, such as the median value for the age of the building                                   |\n",
    "| COMMONAREA_MODE           | Normalized information about the common areas in the building where the client lives, such as the mode (most common) value for the common area size |\n",
    "| COMMONAREA_MEDI           | Normalized information about the common areas in the building where the client lives, such as the median value for the common area size                 |\n",
    "| ELEVATORS_MODE            | Normalized information about the elevators in the building where the client lives, such as the mode (most common) value for the number of elevators   |\n",
    "| ELEVATORS_MEDI            | Normalized information about the elevators in the building where the client lives, such as the median value for the number of elevators               |\n",
    "| ENTRANCES_MODE            | Normalized information about the entrances in the building where the client lives, such as the mode (most common) value for the number of entrances   |\n",
    "| ENTRANCES_MEDI            | Normalized information about the entrances in the building where the client lives, such as the median value for the number of entrances               |\n",
    "| LANDAREA_MODE             | Normalized information about the land area of the building where the client lives, such as the mode (most common) value for the land area               |\n",
    "| LANDAREA_MEDI             | Normalized information about the land area of the building where the client lives, such as the median value for the land area                           |\n",
    "| LIVINGAPARTMENTS_MODE     | Normalized information about the living apartments in the building where the client lives, such as the mode (most common) value for the apartment size|\n",
    "| LIVINGAPARTMENTS_MEDI     | Normalized information about the living apartments in the building where the client lives, such as the median value for the apartment size            |\n",
    "| LIVINGAREA_MODE           | Normalized information about the living area in the building where the client lives, such as the mode (most common) value for the living area size    |\n",
    "| LIVINGAREA_MEDI           | Normalized information about the living area in the building where the client lives, such as the median value for the living area size                |\n",
    "| NONLIVINGAPARTMENTS_MODE  | Normalized information about the non-living apartments in the building where the client lives, such as the mode (most common) value for the apartment size|\n",
    "| NONLIVINGAPARTMENTS_MEDI  | Normalized information about the non-living apartments in the building where the client lives, such as the median value for the apartment size            |\n",
    "| NONLIVINGAREA_MODE        | Normalized information about the non-living area in the building where the client lives, such as the mode (most common) value for the non-living area size|\n",
    "| NONLIVINGAREA_MEDI        | Normalized information about the non-living area in the building where the client lives, such as the median value for the non-living area size            |\n",
    "| FONDKAPREMONT_MODE        | Normalized information about the fund kapremont (capital repairs) mode for the building where the client lives                                      |\n",
    "| HOUSETYPE_MODE            | Normalized information about the type of house in which the client lives                                                                       |\n",
    "| TOTALAREA_MODE            | Normalized information about the total area of the building where the client lives, such as the mode (most common) value for the total area            |\n",
    "| WALLSMATERIAL_MODE        | Normalized information about the wall material used in the building where the client lives                                                     |\n",
    "| EMERGENCYSTATE_MODE       | Normalized information about the emergency state of the building where the client lives                                                       |\n",
    "| OBS_30_CNT_SOCIAL_CIRCLE  | Number of observations of clients' social surroundings with observable 30 DPD (days past due) default                                  |\n",
    "| DEF_30_CNT_SOCIAL_CIRCLE  | Number of clients' social surroundings with 30 DPD (days past due) default                                    |\n",
    "| OBS_60_CNT_SOCIAL_CIRCLE  | Number of observations of clients' social surroundings with observable 60 DPD (days past due) default                                    |\n",
    "| DEF_60_CNT_SOCIAL_CIRCLE  | Number of clients' social surroundings with 60 DPD (days past due) default                                    |\n",
    "| DAYS_LAST_PHONE_CHANGE    | Number of days since the client last changed their phone number                                   |\n",
    "| FLAG_DOCUMENT_2           | Indicates if there is a second document provided by the client                                   |\n",
    "| FLAG_DOCUMENT_3           | Indicates if there is a third document provided by the client                                    |\n",
    "| FLAG_DOCUMENT_4           | Indicates if there is a fourth document provided by the client                                   |\n",
    "| FLAG_DOCUMENT_5           | Indicates if there is a fifth document provided by the client                                    |\n",
    "| FLAG_DOCUMENT_6           | Indicates if there is a sixth document provided by the client                                   |\n",
    "| FLAG_DOCUMENT_7           | Indicates if there is a seventh document provided by the client                                 |\n",
    "| FLAG_DOCUMENT_8           | Indicates if there is an eighth document provided by the client                                 |\n",
    "| FLAG_DOCUMENT_9           | Indicates if there is a ninth document provided by the client                                   |\n",
    "| FLAG_DOCUMENT_10          | Indicates if there is a tenth document provided by the client                                  |\n",
    "| FLAG_DOCUMENT_11          | Indicates if there is an eleventh document provided by the client                               |\n",
    "| FLAG_DOCUMENT_12          | Indicates if there is a twelfth document provided by the client                                 |\n",
    "| FLAG_DOCUMENT_13          | Indicates if there is a thirteenth document provided by the client                              |\n",
    "| FLAG_DOCUMENT_14          | Indicates if there is a fourteenth document provided by the client                              |\n",
    "| FLAG_DOCUMENT_15          | Indicates if there is a fifteenth document provided by the client                               |\n",
    "| FLAG_DOCUMENT_16          | Indicates if there is a sixteenth document provided by the client                               |\n",
    "| FLAG_DOCUMENT_17          | Indicates if there is a seventeenth document provided by the client                             |\n",
    "| FLAG_DOCUMENT_18          | Indicates if there is an eighteenth document provided by the client                             |\n",
    "| FLAG_DOCUMENT_19          | Indicates if there is a nineteenth document provided by the client                              |\n",
    "| FLAG_DOCUMENT_20          | Indicates if there is a twentieth document provided by the client                               |\n",
    "| FLAG_DOCUMENT_21          | Indicates if there is a twenty-first document provided by the client                            |\n",
    "| AMT_REQ_CREDIT_BUREAU_HOUR          | Number of enquiries to Credit Bureau about the client one hour before application |\n",
    "| AMT_REQ_CREDIT_BUREAU_DAY           | Number of enquiries to Credit Bureau about the client one day before application (excluding one hour before application) |\n",
    "| AMT_REQ_CREDIT_BUREAU_WEEK          | Number of enquiries to Credit Bureau about the client one week before application (excluding one day before application) |\n",
    "| AMT_REQ_CREDIT_BUREAU_MON           | Number of enquiries to Credit Bureau about the client one month before application (excluding one week before application) |\n",
    "| AMT_REQ_CREDIT_BUREAU_QRT           | Number of enquiries to Credit Bureau about the client three months before application (excluding one month before application) |\n",
    "| AMT_REQ_CREDIT_BUREAU_YEAR          | Number of enquiries to Credit Bureau about the client one year (excluding last three months before application) |\n",
    "\n",
    "\n",
    "\n",
    "\n",
    "### application_test.csv\n",
    "* application_test.csv: \n",
    "\n",
    "    * Main dataset, but does not include the Target variable information.\n",
    "    * Same variables as application_train.csv, other no Target variable here.\n",
    "\n",
    "\n",
    "### bureau.csv\n",
    "* bureau.csv:\n",
    "    * Each clients previous credit history provided by the Credit Bureau\n",
    "    * Each customer has may have multiple rows. Each row is a new credit history that a customer may have had.\n",
    "    \n",
    "\n",
    "\n",
    "| Column                    | Description                                                                                                            |\n",
    "|---------------------------|------------------------------------------------------------------------------------------------------------------------|\n",
    "| SK_ID_CURR                | ID of loan in our sample - one loan in our sample can have 0, 1, 2 or more related previous credits in credit bureau |\n",
    "| SK_BUREAU_ID              | Recoded ID of previous Credit Bureau credit related to our loan (unique coding for each loan application)             |\n",
    "| CREDIT_ACTIVE             | Status of the Credit Bureau (CB) reported credits                                                                     |\n",
    "| CREDIT_CURRENCY           | Recoded currency of the Credit Bureau credit                                                                           |\n",
    "| DAYS_CREDIT               | How many days before current application did client apply for Credit Bureau credit                                     |\n",
    "| CREDIT_DAY_OVERDUE        | Number of days past due on CB credit at the time of application for related loan in our sample                        |\n",
    "| DAYS_CREDIT_ENDDATE       | Remaining duration of CB credit (in days) at the time of application in Home Credit                                   |\n",
    "| DAYS_ENDDATE_FACT         | Days since CB credit ended at the time of application in Home Credit (only for closed credit)                         |\n",
    "| AMT_CREDIT_MAX_OVERDUE    | Maximal amount overdue on the Credit Bureau credit so far (at application date of loan in our sample)                 |\n",
    "| CNT_CREDIT_PROLONG        | How many times was the Credit Bureau credit prolonged                                                                 |\n",
    "| AMT_CREDIT_SUM            | Current credit amount for the Credit Bureau credit                                                                    |\n",
    "| AMT_CREDIT_SUM_DEBT       | Current debt on Credit Bureau credit                                                                                   |\n",
    "| AMT_CREDIT_SUM_LIMIT      | Current credit limit of credit card reported in Credit Bureau                                                         |\n",
    "| AMT_CREDIT_SUM_OVERDUE    | Current amount overdue on Credit Bureau credit                                                                         |\n",
    "| CREDIT_TYPE               | Type of Credit Bureau credit (Car, cash, ...)                                                                          |\n",
    "| DAYS_CREDIT_UPDATE        | How many days before loan application did last information about the Credit Bureau credit come                        |\n",
    "| AMT_ANNUITY               | Annuity of the Credit Bureau credit                                                                                    |\n",
    "\n",
    "\n",
    "\n",
    "### bureau_balance.csv\n",
    "* bureau_balance.csv:\n",
    "    * Monthly balances in previous credits from Credit Bureau. \n",
    "    * Each row is every month to the Credit Bureau\n",
    "\n",
    "\n",
    "\n",
    "\n",
    "|        Columns        |                                           Description                                           |\n",
    "|-----------------------|-----------------------------------------------------------------------------------------------|\n",
    "| SK_BUREAU_ID          | Recoded ID of Credit Bureau credit (unique coding for each application) - use this to join to CREDIT_BUREAU table |\n",
    "| MONTHS_BALANCE        | Month of balance relative to application date (-1 means the freshest balance date)              |\n",
    "| STATUS                | Status of Credit Bureau loan during the month (active, closed, DPD0-30,… [C means closed, X means status unknown, 0 means no DPD, 1 means maximal did during month between 1-30, 2 means DPD 31-60,… 5 means DPD 120+ or sold or written off ]) |\n",
    "\n",
    "\n",
    "\n",
    "### credit_card_balance.csv\n",
    "* credit_card_balance.csv:\n",
    "    * Previous credit cards the customer has had with Home Credit. \n",
    "    * One row for each month of history on the previous credit with Home Credit.\n",
    "    \n",
    "|              Columns                |                            Description                           |\n",
    "|-------------------------------------|-----------------------------------------------------------------|\n",
    "| SK_ID_PREV                          | ID of previous credit in Home Credit related to loan in our sample. (One loan in our sample can have 0, 1, 2 or more previous loans in Home Credit) |\n",
    "| SK_ID_CURR                          | ID of loan in our sample                                          |\n",
    "| MONTHS_BALANCE                      | Month of balance relative to application date (-1 means the freshest balance date) |\n",
    "| AMT_BALANCE                         | Balance during the month of previous credit                       |\n",
    "| AMT_CREDIT_LIMIT_ACTUAL             | Credit card limit during the month of the previous credit         |\n",
    "| AMT_DRAWINGS_ATM_CURRENT            | Amount drawing at ATM during the month of the previous credit     |\n",
    "| AMT_DRAWINGS_CURRENT                | Amount drawing during the month of the previous credit            |\n",
    "| AMT_DRAWINGS_OTHER_CURRENT          | Amount of other drawings during the month of the previous credit  |\n",
    "| AMT_DRAWINGS_POS_CURRENT            | Amount drawing or buying goods during the month of the previous credit |\n",
    "| AMT_INST_MIN_REGULARITY             | Minimal installment for this month of the previous credit         |\n",
    "| AMT_PAYMENT_CURRENT                 | How much did the client pay during the month on the previous credit |\n",
    "| AMT_PAYMENT_TOTAL_CURRENT           | How much did the client pay during the month in total on the previous credit |\n",
    "| AMT_RECEIVABLE_PRINCIPAL            | Amount receivable for principal on the previous credit            |\n",
    "| AMT_RECIVABLE                       | Amount receivable on the previous credit                          |\n",
    "| AMT_TOTAL_RECEIVABLE                | Total amount receivable on the previous credit                    |\n",
    "| CNT_DRAWINGS_ATM_CURRENT            | Number of drawings at ATM during this month on the previous credit |\n",
    "| CNT_DRAWINGS_CURRENT                | Number of drawings during this month on the previous credit       |\n",
    "| CNT_DRAWINGS_OTHER_CURRENT          | Number of other drawings during this month on the previous credit |\n",
    "| CNT_DRAWINGS_POS_CURRENT            | Number of drawings for goods during this month on the previous credit |\n",
    "| CNT_INSTALMENT_MATURE_CUM           | Number of paid installments on the previous credit               |\n",
    "| NAME_CONTRACT_STATUS                | Contract status (active signed, ...) on the previous credit       |\n",
    "| SK_DPD                              | DPD (Days past due) during the month on the previous credit       |\n",
    "| SK_DPD_DEF                          | DPD (Days past due) during the month with tolerance (debts with low loan amounts are ignored) of the previous credit |\n",
    "\n",
    "\n",
    "### HomeCredit_columns_descriptions.csv\n",
    "\n",
    "\n",
    "* HomeCredit_columns_description:\n",
    "    * Contains descriptions of each of the columns within the datasets. \n",
    "\n",
    "### installments_payments.csv\n",
    "* installments_payments.csv:\n",
    "    * Repayment history of each of the loans of Home Credit. \n",
    "    * One row for every payment that was made\n",
    "    * A row for each missed payment. \n",
    "    \n",
    "    \n",
    "|          Columns          |                                Description                                 |\n",
    "|---------------------------|------------------------------------------------------------------------------|\n",
    "| SK_ID_PREV                | ID of previous credit in Home credit related to loan in our sample. (One loan in our sample can have 0, 1, 2 or more previous loans in Home Credit) |\n",
    "| SK_ID_CURR                | ID of loan in our sample                                                    |\n",
    "| NUM_INSTALMENT_VERSION    | Version of installment calendar (0 is for credit card) of previous credit. Change of installment version from month to month signifies that some parameter of payment calendar has changed |\n",
    "| NUM_INSTALMENT_NUMBER     | On which installment we observe payment                                      |\n",
    "| DAYS_INSTALMENT           | When the installment of previous credit was supposed to be paid (relative to application date of current loan) |\n",
    "| DAYS_ENTRY_PAYMENT        | When the installments of previous credit were actually paid (relative to application date of current loan) |\n",
    "| AMT_INSTALMENT            | What was the prescribed installment amount of previous credit on this installment |\n",
    "| AMT_PAYMENT               | What the client actually paid on the previous credit on this installment      |\n",
    "\n",
    "\n",
    "### POS_CASH_balance.csv\n",
    "* POS_CASH_balance.csv:\n",
    "    * Month of the point of sales and cash loans  with Home Credit.\n",
    "    * One row for each month of history of every previous credit with Home Credit related to each of the loans.\n",
    "    \n",
    "    \n",
    "|         Columns        |                                        Description                                        |\n",
    "|------------------------|-------------------------------------------------------------------------------------------|\n",
    "|       SK_ID_PREV       | ID of previous credit in Home Credit related to loan in our sample. (One loan in our sample can have 0, 1, 2, or more previous loans in Home Credit) |\n",
    "|       SK_ID_CURR       |                         ID of loan in our sample                                          |\n",
    "|     MONTHS_BALANCE     |           Month of balance relative to application date (-1 means the freshest monthly snapshot, 0 means the information at application)           |\n",
    "|    CNT_INSTALMENT      |                      Term of previous credit (can change over time)                       |\n",
    "| CNT_INSTALMENT_FUTURE  |                 Installments left to pay on the previous credit                           |\n",
    "| NAME_CONTRACT_STATUS   |                           Contract status during the month                                |\n",
    "|         SK_DPD         |                 DPD (days past due) during the month of previous credit                    |\n",
    "|       SK_DPD_DEF       |    DPD during the month with tolerance (debts with low loan amounts are ignored)          |\n",
    "\n",
    "\n",
    "### previous_application.csv\n",
    "* previous_application.csv:\n",
    "    * All previous loan applications of customers with Home Credit\n",
    "    \n",
    "    \n",
    "|             Columns             |                                      Description                                      |\n",
    "|---------------------------------|----------------------------------------------------------------------------------------|\n",
    "| SK_ID_PREV                      | ID of previous credit in Home Credit related to loan in our sample                      |\n",
    "| SK_ID_CURR                      | ID of loan in our sample                                                               |\n",
    "| NAME_CONTRACT_TYPE              | Contract product type (Cash loan, consumer loan [POS], ...) of the previous application |\n",
    "| AMT_ANNUITY                     | Annuity of previous application                                                        |\n",
    "| AMT_APPLICATION                 | For how much credit did the client ask on the previous application                       |\n",
    "| AMT_CREDIT                      | Final credit amount on the previous application                                        |\n",
    "| AMT_DOWN_PAYMENT                | Down payment on the previous application                                               |\n",
    "| AMT_GOODS_PRICE                 | Goods price of good that the client asked for (if applicable) on the previous application |\n",
    "| WEEKDAY_APPR_PROCESS_START      | On which day of the week did the client apply for the previous application              |\n",
    "| HOUR_APPR_PROCESS_START         | Approximately at what hour of the day did the client apply for the previous application |\n",
    "| FLAG_LAST_APPL_PER_CONTRACT     | Flag if it was the last application for the previous contract                           |\n",
    "| NFLAG_LAST_APPL_IN_DAY          | Flag if the application was the last application per day of the client                  |\n",
    "| NFLAG_MICRO_CASH                | Flag for Micro finance loan                                                            |\n",
    "| RATE_DOWN_PAYMENT               | Down payment rate normalized on the previous credit                                    |\n",
    "| RATE_INTEREST_PRIMARY           | Interest rate normalized on the previous credit                                        |\n",
    "| RATE_INTEREST_PRIVILEGED        | Interest rate normalized on the previous credit                                        |\n",
    "| NAME_CASH_LOAN_PURPOSE          | Purpose of the cash loan                                                               |\n",
    "| NAME_CONTRACT_STATUS            | Contract status (approved, cancelled, ...) of the previous application                 |\n",
    "| DAYS_DECISION                   | Relative to the current application, when was the decision about the previous application made |\n",
    "| NAME_PAYMENT_TYPE               | Payment method that the client chose to pay for the previous application               |\n",
    "| CODE_REJECT_REASON              | Reason why the previous application was rejected                                       |\n",
    "| NAME_TYPE_SUITE                 | Who accompanied the client when applying for the previous application                  |\n",
    "| NAME_CLIENT_TYPE                | Whether the client was an old or new client when applying for the previous application |\n",
    "| NAME_GOODS_CATEGORY             | What kind of goods did the client apply for in the previous application                 |\n",
    "| NAME_PORTFOLIO                  | Whether the previous application was for CASH, POS, CAR, etc.                          |\n",
    "| NAME_PRODUCT_TYPE               | Whether the previous application was x-sell or walk-in                                 |\n",
    "| CHANNEL_TYPE                    | Through which channel we acquired the client on the previous application               |\n",
    "| SELLERPLACE_AREA                | Selling area of the seller place of the previous application                           |\n",
    "| NAME_SELLER_INDUSTRY            | The industry of the seller                                                            |\n",
    "| CNT_PAYMENT                     | Term of the previous credit at the application of the previous application             |\n",
    "| NAME_YIELD_GROUP                | Grouped interest rate into small, medium, and high of the previous application         |\n",
    "| PRODUCT_COMBINATION             | Detailed product combination of the previous application                               |\n",
    "| DAYS_FIRST_DRAWING              | Relative to the application date of the current application, when was the first disbursement of the previous application |\n",
    "| DAYS_FIRST_DUE                  | Relative to the application date of the current application, when was the first due supposed to be of the previous application |\n",
    "| DAYS_LAST_DUE_1ST_VERSION       | Relative to the application date of the current application, when was the first due of the previous application |\n",
    "| DAYS_LAST_DUE                   | Relative to the application date of the current application, when was the last due date of the previous application |\n",
    "| DAYS_TERMINATION                | Relative to the application date of the current application, when was the expected termination of the previous application |\n",
    "| NFLAG_INSURED_ON_APPROVAL       | Whether the client requested insurance during the previous application                  |\n",
    "\n",
    "\n",
    "### sample_submission.csv\n",
    "* sample_submission.csv:\n",
    "    * A sample of classifying each of the customers using a classification based on the Target variable of being Trustworthy to loan to or not. "
   ]
  },
  {
   "cell_type": "markdown",
   "id": "f3e211e0",
   "metadata": {},
   "source": [
    "## Summary of the Data"
   ]
  },
  {
   "cell_type": "markdown",
   "id": "5a245ded",
   "metadata": {},
   "source": [
    "In this section I go into a deeper analysis on each of the datasets provided. Datasets that were provided that are not relevant to the output of our analaysis are the sample_submission.csv and HomeCredit_columns_description. These dataframes will be removed within the analysis. All others will be used. Within the analysis I take the steps of finding the shapes of the dataframes, examining the first 5 rows each dataframe using the head() function, discovering common columns that each dataframe with each other, print the info for each of the dataframe variable objects, get summary statistics for each of the variables in teh dataframes, gather information about the categorical variables used in the dataframes, and printing lists of each of the unique value in the categorical variables of the data frames. \n",
    "\n",
    "Within the datasets it is most interesting to see that the variables sk_id_curr occurs very often across each dataframe. Although this cannot just be removed once because it is different per each dataset. It is also interesting to note that this variable should be sure to be factored and not an integer, so the numbering does not affect our analysis. In our next steps, we would want to make sure each variable is assigned the correct datatype of float, integer, categorical, or factor.\n",
    "\n",
    "\n",
    "\n",
    "Each of the dataframes has an interesting way of interacting with one another that we can use to determine our target variable of whether the borrower is trustworthy or not within our training set. "
   ]
  },
  {
   "cell_type": "markdown",
   "id": "b61e04c1",
   "metadata": {},
   "source": [
    "#### Installing Necessary Packagees"
   ]
  },
  {
   "cell_type": "code",
   "execution_count": 78,
   "id": "a0870a86",
   "metadata": {},
   "outputs": [],
   "source": [
    "# !pip install pandas\n",
    "# !pip install numpy"
   ]
  },
  {
   "cell_type": "markdown",
   "id": "0bbccabc",
   "metadata": {},
   "source": [
    "#### Importing Necessary Packages"
   ]
  },
  {
   "cell_type": "code",
   "execution_count": 79,
   "id": "f26ae493",
   "metadata": {},
   "outputs": [],
   "source": [
    "import pandas as pd\n",
    "import numpy as np"
   ]
  },
  {
   "cell_type": "markdown",
   "id": "362a6437",
   "metadata": {},
   "source": [
    "#### Making the dataframes for each of our CSV files"
   ]
  },
  {
   "cell_type": "code",
   "execution_count": 80,
   "id": "10ffa8eb",
   "metadata": {},
   "outputs": [],
   "source": [
    "# Making Dataframes of each of the CSV Files\n",
    "\n",
    "applicationtestDF = pd.read_csv(\"application_test.csv\")\n",
    "applicationtrainDF = pd.read_csv(\"application_train.csv\")\n",
    "bureauDF = pd.read_csv(\"bureau.csv\")\n",
    "bureaubalanceDF = pd.read_csv(\"bureau_balance.csv\")\n",
    "creditcardbalanceDF = pd.read_csv(\"credit_card_balance.csv\")\n",
    "# HomeCreditDescriptionsDF = pd.read_csv(\"HomeCredit_columns_description.csv\", encoding='latin1')\n",
    "installmentpaymentsDF = pd.read_csv(\"installments_payments.csv\")\n",
    "poscashDF = pd.read_csv(\"POS_CASH_balance.csv\")\n",
    "previousDF = pd.read_csv(\"previous_application.csv\")"
   ]
  },
  {
   "cell_type": "markdown",
   "id": "0c0320dd",
   "metadata": {},
   "source": [
    "#### Printing the shape of each of our dataframes for the row and columns"
   ]
  },
  {
   "cell_type": "code",
   "execution_count": 82,
   "id": "1ac453d8",
   "metadata": {},
   "outputs": [
    {
     "name": "stdout",
     "output_type": "stream",
     "text": [
      "(48744, 121)\n",
      "(307511, 122)\n",
      "(1716428, 17)\n",
      "(27299925, 3)\n",
      "(3840312, 23)\n",
      "(13605401, 8)\n",
      "(10001358, 8)\n",
      "(1670214, 37)\n"
     ]
    }
   ],
   "source": [
    "# Printing the shape of each of the dataframes\n",
    "dataframes = [applicationtestDF, applicationtrainDF, bureauDF, bureaubalanceDF, creditcardbalanceDF, installmentpaymentsDF, poscashDF, previousDF]\n",
    "\n",
    "for df in dataframes:\n",
    "    print(df.shape)\n"
   ]
  },
  {
   "cell_type": "markdown",
   "id": "422012c0",
   "metadata": {},
   "source": [
    "#### Printing the top 5 rows of each dataframe"
   ]
  },
  {
   "cell_type": "code",
   "execution_count": 83,
   "id": "22803f2a",
   "metadata": {},
   "outputs": [
    {
     "name": "stdout",
     "output_type": "stream",
     "text": [
      "   SK_ID_CURR NAME_CONTRACT_TYPE CODE_GENDER FLAG_OWN_CAR FLAG_OWN_REALTY  \\\n",
      "0      100001         Cash loans           F            N               Y   \n",
      "1      100005         Cash loans           M            N               Y   \n",
      "2      100013         Cash loans           M            Y               Y   \n",
      "3      100028         Cash loans           F            N               Y   \n",
      "4      100038         Cash loans           M            Y               N   \n",
      "\n",
      "   CNT_CHILDREN  AMT_INCOME_TOTAL  AMT_CREDIT  AMT_ANNUITY  AMT_GOODS_PRICE  \\\n",
      "0             0          135000.0    568800.0      20560.5         450000.0   \n",
      "1             0           99000.0    222768.0      17370.0         180000.0   \n",
      "2             0          202500.0    663264.0      69777.0         630000.0   \n",
      "3             2          315000.0   1575000.0      49018.5        1575000.0   \n",
      "4             1          180000.0    625500.0      32067.0         625500.0   \n",
      "\n",
      "   ... FLAG_DOCUMENT_18 FLAG_DOCUMENT_19 FLAG_DOCUMENT_20 FLAG_DOCUMENT_21  \\\n",
      "0  ...                0                0                0                0   \n",
      "1  ...                0                0                0                0   \n",
      "2  ...                0                0                0                0   \n",
      "3  ...                0                0                0                0   \n",
      "4  ...                0                0                0                0   \n",
      "\n",
      "  AMT_REQ_CREDIT_BUREAU_HOUR  AMT_REQ_CREDIT_BUREAU_DAY  \\\n",
      "0                        0.0                        0.0   \n",
      "1                        0.0                        0.0   \n",
      "2                        0.0                        0.0   \n",
      "3                        0.0                        0.0   \n",
      "4                        NaN                        NaN   \n",
      "\n",
      "   AMT_REQ_CREDIT_BUREAU_WEEK  AMT_REQ_CREDIT_BUREAU_MON  \\\n",
      "0                         0.0                        0.0   \n",
      "1                         0.0                        0.0   \n",
      "2                         0.0                        0.0   \n",
      "3                         0.0                        0.0   \n",
      "4                         NaN                        NaN   \n",
      "\n",
      "   AMT_REQ_CREDIT_BUREAU_QRT  AMT_REQ_CREDIT_BUREAU_YEAR  \n",
      "0                        0.0                         0.0  \n",
      "1                        0.0                         3.0  \n",
      "2                        1.0                         4.0  \n",
      "3                        0.0                         3.0  \n",
      "4                        NaN                         NaN  \n",
      "\n",
      "[5 rows x 121 columns]\n",
      "   SK_ID_CURR  TARGET NAME_CONTRACT_TYPE CODE_GENDER FLAG_OWN_CAR  \\\n",
      "0      100002       1         Cash loans           M            N   \n",
      "1      100003       0         Cash loans           F            N   \n",
      "2      100004       0    Revolving loans           M            Y   \n",
      "3      100006       0         Cash loans           F            N   \n",
      "4      100007       0         Cash loans           M            N   \n",
      "\n",
      "  FLAG_OWN_REALTY  CNT_CHILDREN  AMT_INCOME_TOTAL  AMT_CREDIT  AMT_ANNUITY  \\\n",
      "0               Y             0          202500.0    406597.5      24700.5   \n",
      "1               N             0          270000.0   1293502.5      35698.5   \n",
      "2               Y             0           67500.0    135000.0       6750.0   \n",
      "3               Y             0          135000.0    312682.5      29686.5   \n",
      "4               Y             0          121500.0    513000.0      21865.5   \n",
      "\n",
      "   ...  FLAG_DOCUMENT_18 FLAG_DOCUMENT_19 FLAG_DOCUMENT_20 FLAG_DOCUMENT_21  \\\n",
      "0  ...                 0                0                0                0   \n",
      "1  ...                 0                0                0                0   \n",
      "2  ...                 0                0                0                0   \n",
      "3  ...                 0                0                0                0   \n",
      "4  ...                 0                0                0                0   \n",
      "\n",
      "  AMT_REQ_CREDIT_BUREAU_HOUR AMT_REQ_CREDIT_BUREAU_DAY  \\\n",
      "0                        0.0                       0.0   \n",
      "1                        0.0                       0.0   \n",
      "2                        0.0                       0.0   \n",
      "3                        NaN                       NaN   \n",
      "4                        0.0                       0.0   \n",
      "\n",
      "   AMT_REQ_CREDIT_BUREAU_WEEK  AMT_REQ_CREDIT_BUREAU_MON  \\\n",
      "0                         0.0                        0.0   \n",
      "1                         0.0                        0.0   \n",
      "2                         0.0                        0.0   \n",
      "3                         NaN                        NaN   \n",
      "4                         0.0                        0.0   \n",
      "\n",
      "   AMT_REQ_CREDIT_BUREAU_QRT  AMT_REQ_CREDIT_BUREAU_YEAR  \n",
      "0                        0.0                         1.0  \n",
      "1                        0.0                         0.0  \n",
      "2                        0.0                         0.0  \n",
      "3                        NaN                         NaN  \n",
      "4                        0.0                         0.0  \n",
      "\n",
      "[5 rows x 122 columns]\n",
      "   SK_ID_CURR  SK_ID_BUREAU CREDIT_ACTIVE CREDIT_CURRENCY  DAYS_CREDIT  \\\n",
      "0      215354       5714462        Closed      currency 1         -497   \n",
      "1      215354       5714463        Active      currency 1         -208   \n",
      "2      215354       5714464        Active      currency 1         -203   \n",
      "3      215354       5714465        Active      currency 1         -203   \n",
      "4      215354       5714466        Active      currency 1         -629   \n",
      "\n",
      "   CREDIT_DAY_OVERDUE  DAYS_CREDIT_ENDDATE  DAYS_ENDDATE_FACT  \\\n",
      "0                   0               -153.0             -153.0   \n",
      "1                   0               1075.0                NaN   \n",
      "2                   0                528.0                NaN   \n",
      "3                   0                  NaN                NaN   \n",
      "4                   0               1197.0                NaN   \n",
      "\n",
      "   AMT_CREDIT_MAX_OVERDUE  CNT_CREDIT_PROLONG  AMT_CREDIT_SUM  \\\n",
      "0                     NaN                   0         91323.0   \n",
      "1                     NaN                   0        225000.0   \n",
      "2                     NaN                   0        464323.5   \n",
      "3                     NaN                   0         90000.0   \n",
      "4                 77674.5                   0       2700000.0   \n",
      "\n",
      "   AMT_CREDIT_SUM_DEBT  AMT_CREDIT_SUM_LIMIT  AMT_CREDIT_SUM_OVERDUE  \\\n",
      "0                  0.0                   NaN                     0.0   \n",
      "1             171342.0                   NaN                     0.0   \n",
      "2                  NaN                   NaN                     0.0   \n",
      "3                  NaN                   NaN                     0.0   \n",
      "4                  NaN                   NaN                     0.0   \n",
      "\n",
      "       CREDIT_TYPE  DAYS_CREDIT_UPDATE  AMT_ANNUITY  \n",
      "0  Consumer credit                -131          NaN  \n",
      "1      Credit card                 -20          NaN  \n",
      "2  Consumer credit                 -16          NaN  \n",
      "3      Credit card                 -16          NaN  \n",
      "4  Consumer credit                 -21          NaN  \n",
      "   SK_ID_BUREAU  MONTHS_BALANCE STATUS\n",
      "0       5715448               0      C\n",
      "1       5715448              -1      C\n",
      "2       5715448              -2      C\n",
      "3       5715448              -3      C\n",
      "4       5715448              -4      C\n",
      "   SK_ID_PREV  SK_ID_CURR  MONTHS_BALANCE  AMT_BALANCE  \\\n",
      "0     2562384      378907              -6       56.970   \n",
      "1     2582071      363914              -1    63975.555   \n",
      "2     1740877      371185              -7    31815.225   \n",
      "3     1389973      337855              -4   236572.110   \n",
      "4     1891521      126868              -1   453919.455   \n",
      "\n",
      "   AMT_CREDIT_LIMIT_ACTUAL  AMT_DRAWINGS_ATM_CURRENT  AMT_DRAWINGS_CURRENT  \\\n",
      "0                   135000                       0.0                 877.5   \n",
      "1                    45000                    2250.0                2250.0   \n",
      "2                   450000                       0.0                   0.0   \n",
      "3                   225000                    2250.0                2250.0   \n",
      "4                   450000                       0.0               11547.0   \n",
      "\n",
      "   AMT_DRAWINGS_OTHER_CURRENT  AMT_DRAWINGS_POS_CURRENT  \\\n",
      "0                         0.0                     877.5   \n",
      "1                         0.0                       0.0   \n",
      "2                         0.0                       0.0   \n",
      "3                         0.0                       0.0   \n",
      "4                         0.0                   11547.0   \n",
      "\n",
      "   AMT_INST_MIN_REGULARITY  ...  AMT_RECIVABLE  AMT_TOTAL_RECEIVABLE  \\\n",
      "0                 1700.325  ...          0.000                 0.000   \n",
      "1                 2250.000  ...      64875.555             64875.555   \n",
      "2                 2250.000  ...      31460.085             31460.085   \n",
      "3                11795.760  ...     233048.970            233048.970   \n",
      "4                22924.890  ...     453919.455            453919.455   \n",
      "\n",
      "   CNT_DRAWINGS_ATM_CURRENT  CNT_DRAWINGS_CURRENT  CNT_DRAWINGS_OTHER_CURRENT  \\\n",
      "0                       0.0                     1                         0.0   \n",
      "1                       1.0                     1                         0.0   \n",
      "2                       0.0                     0                         0.0   \n",
      "3                       1.0                     1                         0.0   \n",
      "4                       0.0                     1                         0.0   \n",
      "\n",
      "   CNT_DRAWINGS_POS_CURRENT  CNT_INSTALMENT_MATURE_CUM  NAME_CONTRACT_STATUS  \\\n",
      "0                       1.0                       35.0                Active   \n",
      "1                       0.0                       69.0                Active   \n",
      "2                       0.0                       30.0                Active   \n",
      "3                       0.0                       10.0                Active   \n",
      "4                       1.0                      101.0                Active   \n",
      "\n",
      "   SK_DPD  SK_DPD_DEF  \n",
      "0       0           0  \n",
      "1       0           0  \n",
      "2       0           0  \n",
      "3       0           0  \n",
      "4       0           0  \n",
      "\n",
      "[5 rows x 23 columns]\n",
      "   SK_ID_PREV  SK_ID_CURR  NUM_INSTALMENT_VERSION  NUM_INSTALMENT_NUMBER  \\\n",
      "0     1054186      161674                     1.0                      6   \n",
      "1     1330831      151639                     0.0                     34   \n",
      "2     2085231      193053                     2.0                      1   \n",
      "3     2452527      199697                     1.0                      3   \n",
      "4     2714724      167756                     1.0                      2   \n",
      "\n",
      "   DAYS_INSTALMENT  DAYS_ENTRY_PAYMENT  AMT_INSTALMENT  AMT_PAYMENT  \n",
      "0          -1180.0             -1187.0        6948.360     6948.360  \n",
      "1          -2156.0             -2156.0        1716.525     1716.525  \n",
      "2            -63.0               -63.0       25425.000    25425.000  \n",
      "3          -2418.0             -2426.0       24350.130    24350.130  \n",
      "4          -1383.0             -1366.0        2165.040     2160.585  \n",
      "   SK_ID_PREV  SK_ID_CURR  MONTHS_BALANCE  CNT_INSTALMENT  \\\n",
      "0     1803195      182943             -31            48.0   \n",
      "1     1715348      367990             -33            36.0   \n",
      "2     1784872      397406             -32            12.0   \n",
      "3     1903291      269225             -35            48.0   \n",
      "4     2341044      334279             -35            36.0   \n",
      "\n",
      "   CNT_INSTALMENT_FUTURE NAME_CONTRACT_STATUS  SK_DPD  SK_DPD_DEF  \n",
      "0                   45.0               Active       0           0  \n",
      "1                   35.0               Active       0           0  \n",
      "2                    9.0               Active       0           0  \n",
      "3                   42.0               Active       0           0  \n",
      "4                   35.0               Active       0           0  \n",
      "   SK_ID_PREV  SK_ID_CURR NAME_CONTRACT_TYPE  AMT_ANNUITY  AMT_APPLICATION  \\\n",
      "0     2030495      271877     Consumer loans     1730.430          17145.0   \n",
      "1     2802425      108129         Cash loans    25188.615         607500.0   \n",
      "2     2523466      122040         Cash loans    15060.735         112500.0   \n",
      "3     2819243      176158         Cash loans    47041.335         450000.0   \n",
      "4     1784265      202054         Cash loans    31924.395         337500.0   \n",
      "\n",
      "   AMT_CREDIT  AMT_DOWN_PAYMENT  AMT_GOODS_PRICE WEEKDAY_APPR_PROCESS_START  \\\n",
      "0     17145.0               0.0          17145.0                   SATURDAY   \n",
      "1    679671.0               NaN         607500.0                   THURSDAY   \n",
      "2    136444.5               NaN         112500.0                    TUESDAY   \n",
      "3    470790.0               NaN         450000.0                     MONDAY   \n",
      "4    404055.0               NaN         337500.0                   THURSDAY   \n",
      "\n",
      "   HOUR_APPR_PROCESS_START  ... NAME_SELLER_INDUSTRY  CNT_PAYMENT  \\\n",
      "0                       15  ...         Connectivity         12.0   \n",
      "1                       11  ...                  XNA         36.0   \n",
      "2                       11  ...                  XNA         12.0   \n",
      "3                        7  ...                  XNA         12.0   \n",
      "4                        9  ...                  XNA         24.0   \n",
      "\n",
      "   NAME_YIELD_GROUP       PRODUCT_COMBINATION  DAYS_FIRST_DRAWING  \\\n",
      "0            middle  POS mobile with interest            365243.0   \n",
      "1        low_action          Cash X-Sell: low            365243.0   \n",
      "2              high         Cash X-Sell: high            365243.0   \n",
      "3            middle       Cash X-Sell: middle            365243.0   \n",
      "4              high         Cash Street: high                 NaN   \n",
      "\n",
      "  DAYS_FIRST_DUE DAYS_LAST_DUE_1ST_VERSION  DAYS_LAST_DUE DAYS_TERMINATION  \\\n",
      "0          -42.0                     300.0          -42.0            -37.0   \n",
      "1         -134.0                     916.0       365243.0         365243.0   \n",
      "2         -271.0                      59.0       365243.0         365243.0   \n",
      "3         -482.0                    -152.0         -182.0           -177.0   \n",
      "4            NaN                       NaN            NaN              NaN   \n",
      "\n",
      "  NFLAG_INSURED_ON_APPROVAL  \n",
      "0                       0.0  \n",
      "1                       1.0  \n",
      "2                       1.0  \n",
      "3                       1.0  \n",
      "4                       NaN  \n",
      "\n",
      "[5 rows x 37 columns]\n"
     ]
    }
   ],
   "source": [
    "# Printing the head of each of the dataframes\n",
    "dataframes = [applicationtestDF, applicationtrainDF, bureauDF, bureaubalanceDF, creditcardbalanceDF, installmentpaymentsDF, poscashDF, previousDF]\n",
    "\n",
    "for df in dataframes:\n",
    "    print(df.head(n=5))\n",
    "\n",
    "    "
   ]
  },
  {
   "cell_type": "markdown",
   "id": "cf10280a",
   "metadata": {},
   "source": [
    "#### Printing the Common Columns"
   ]
  },
  {
   "cell_type": "code",
   "execution_count": 86,
   "id": "8015a94e",
   "metadata": {},
   "outputs": [
    {
     "name": "stdout",
     "output_type": "stream",
     "text": [
      "fondkapremont_mode, cnt_fam_members, housetype_mode, obs_30_cnt_social_circle, flag_document_11, amt_req_credit_bureau_mon, flag_email, days_id_publish, flag_document_7, occupation_type, flag_mobil, amt_credit, obs_60_cnt_social_circle, name_family_status, years_beginexpluatation_medi, name_housing_type, landarea_avg, def_30_cnt_social_circle, flag_document_19, live_region_not_work_region, live_city_not_work_city, floorsmax_avg, flag_document_17, flag_document_14, flag_document_13, apartments_medi, flag_document_20, region_rating_client_w_city, years_build_medi, flag_document_9, name_education_type, flag_own_realty, amt_req_credit_bureau_qrt, years_beginexpluatation_mode, flag_document_8, commonarea_medi, elevators_mode, entrances_medi, hour_appr_process_start, basementarea_medi, commonarea_avg, basementarea_avg, amt_annuity, livingapartments_mode, flag_document_4, years_build_mode, reg_region_not_live_region, organization_type, flag_document_21, flag_document_5, amt_req_credit_bureau_day, totalarea_mode, livingapartments_avg, flag_document_6, ext_source_3, code_gender, landarea_mode, sk_id_curr, livingarea_medi, amt_req_credit_bureau_year, reg_city_not_live_city, days_last_phone_change, reg_region_not_work_region, nonlivingapartments_medi, name_type_suite, nonlivingapartments_mode, name_income_type, flag_document_3, livingapartments_medi, own_car_age, emergencystate_mode, amt_income_total, region_population_relative, days_employed, flag_work_phone, landarea_medi, reg_city_not_work_city, weekday_appr_process_start, years_build_avg, commonarea_mode, nonlivingarea_mode, flag_document_16, flag_document_15, amt_goods_price, amt_req_credit_bureau_hour, amt_req_credit_bureau_week, cnt_children, flag_emp_phone, flag_phone, floorsmin_avg, flag_document_18, nonlivingarea_avg, basementarea_mode, livingarea_avg, nonlivingarea_medi, flag_document_2, region_rating_client, name_contract_type, days_registration, nonlivingapartments_avg, def_60_cnt_social_circle, elevators_medi, floorsmin_medi, apartments_mode, days_birth, apartments_avg, elevators_avg, livingarea_mode, years_beginexpluatation_avg, wallsmaterial_mode, floorsmin_mode, ext_source_2, flag_cont_mobile, entrances_avg, entrances_mode, flag_document_10, ext_source_1, floorsmax_medi, floorsmax_mode, flag_document_12, flag_own_car\n",
      "amt_annuity, sk_id_curr\n",
      "No common columns found.\n",
      "sk_id_curr\n",
      "sk_id_curr\n",
      "sk_id_curr\n",
      "amt_credit, hour_appr_process_start, name_contract_type, name_type_suite, amt_annuity, sk_id_curr, weekday_appr_process_start, amt_goods_price\n",
      "amt_annuity, sk_id_curr\n",
      "No common columns found.\n",
      "sk_id_curr\n",
      "sk_id_curr\n",
      "sk_id_curr\n",
      "amt_credit, hour_appr_process_start, name_contract_type, name_type_suite, amt_annuity, sk_id_curr, weekday_appr_process_start, amt_goods_price\n",
      "sk_id_bureau\n",
      "sk_id_curr\n",
      "sk_id_curr\n",
      "sk_id_curr\n",
      "amt_annuity, sk_id_curr\n",
      "months_balance\n",
      "No common columns found.\n",
      "months_balance\n",
      "No common columns found.\n",
      "sk_id_prev, sk_id_curr\n",
      "sk_dpd_def, sk_id_prev, sk_dpd, sk_id_curr, months_balance, name_contract_status\n",
      "sk_id_prev, name_contract_status, sk_id_curr\n",
      "sk_id_prev, sk_id_curr\n",
      "sk_id_prev, sk_id_curr\n",
      "sk_id_prev, name_contract_status, sk_id_curr\n"
     ]
    }
   ],
   "source": [
    "# Printing out the common columns amongst the dataframes\n",
    "\n",
    "datasets = [applicationtrainDF, bureauDF, bureaubalanceDF, creditcardbalanceDF, installmentpaymentsDF, poscashDF, previousDF]\n",
    "\n",
    "\n",
    "# Get the column names from each DataFrame\n",
    "columns = [set(df.columns.str.strip().str.lower().tolist()) for df in dataframes]\n",
    "\n",
    "# Initialize a list to store the common columns for each comparison\n",
    "common_columns = []\n",
    "\n",
    "# Iterate over the dataframes\n",
    "for i in range(len(dataframes)):\n",
    "    for j in range(i + 1, len(dataframes)):\n",
    "        df1 = dataframes[i]\n",
    "        df2 = dataframes[j]\n",
    "        \n",
    "        # Get the column names for the current pair of dataframes\n",
    "        columns_df1 = columns[i]\n",
    "        columns_df2 = columns[j]\n",
    "        \n",
    "        # Find the common columns between the two dataframes\n",
    "        common = columns_df1.intersection(columns_df2)\n",
    "        \n",
    "        # Append the common columns for the current pair\n",
    "        common_columns.append((common))\n",
    "\n",
    "# Print the common column names for each pair of dataframes\n",
    "for common in common_columns:\n",
    "    if len(common) == 0:\n",
    "        print(\"No common columns found.\")\n",
    "    else:\n",
    "        print(\", \".join(common))\n",
    "\n",
    "\n"
   ]
  },
  {
   "cell_type": "markdown",
   "id": "7e17d86f",
   "metadata": {},
   "source": [
    "#### Printing General Info for Each Dataframe"
   ]
  },
  {
   "cell_type": "code",
   "execution_count": 88,
   "id": "0a207cbf",
   "metadata": {},
   "outputs": [
    {
     "name": "stdout",
     "output_type": "stream",
     "text": [
      "<class 'pandas.core.frame.DataFrame'>\n",
      "RangeIndex: 48744 entries, 0 to 48743\n",
      "Columns: 121 entries, SK_ID_CURR to AMT_REQ_CREDIT_BUREAU_YEAR\n",
      "dtypes: float64(65), int64(40), object(16)\n",
      "memory usage: 45.0+ MB\n",
      "None\n",
      "<class 'pandas.core.frame.DataFrame'>\n",
      "RangeIndex: 307511 entries, 0 to 307510\n",
      "Columns: 122 entries, SK_ID_CURR to AMT_REQ_CREDIT_BUREAU_YEAR\n",
      "dtypes: float64(65), int64(41), object(16)\n",
      "memory usage: 286.2+ MB\n",
      "None\n",
      "<class 'pandas.core.frame.DataFrame'>\n",
      "RangeIndex: 1716428 entries, 0 to 1716427\n",
      "Data columns (total 17 columns):\n",
      " #   Column                  Dtype  \n",
      "---  ------                  -----  \n",
      " 0   SK_ID_CURR              int64  \n",
      " 1   SK_ID_BUREAU            int64  \n",
      " 2   CREDIT_ACTIVE           object \n",
      " 3   CREDIT_CURRENCY         object \n",
      " 4   DAYS_CREDIT             int64  \n",
      " 5   CREDIT_DAY_OVERDUE      int64  \n",
      " 6   DAYS_CREDIT_ENDDATE     float64\n",
      " 7   DAYS_ENDDATE_FACT       float64\n",
      " 8   AMT_CREDIT_MAX_OVERDUE  float64\n",
      " 9   CNT_CREDIT_PROLONG      int64  \n",
      " 10  AMT_CREDIT_SUM          float64\n",
      " 11  AMT_CREDIT_SUM_DEBT     float64\n",
      " 12  AMT_CREDIT_SUM_LIMIT    float64\n",
      " 13  AMT_CREDIT_SUM_OVERDUE  float64\n",
      " 14  CREDIT_TYPE             object \n",
      " 15  DAYS_CREDIT_UPDATE      int64  \n",
      " 16  AMT_ANNUITY             float64\n",
      "dtypes: float64(8), int64(6), object(3)\n",
      "memory usage: 222.6+ MB\n",
      "None\n",
      "<class 'pandas.core.frame.DataFrame'>\n",
      "RangeIndex: 27299925 entries, 0 to 27299924\n",
      "Data columns (total 3 columns):\n",
      " #   Column          Dtype \n",
      "---  ------          ----- \n",
      " 0   SK_ID_BUREAU    int64 \n",
      " 1   MONTHS_BALANCE  int64 \n",
      " 2   STATUS          object\n",
      "dtypes: int64(2), object(1)\n",
      "memory usage: 624.8+ MB\n",
      "None\n",
      "<class 'pandas.core.frame.DataFrame'>\n",
      "RangeIndex: 3840312 entries, 0 to 3840311\n",
      "Data columns (total 23 columns):\n",
      " #   Column                      Dtype  \n",
      "---  ------                      -----  \n",
      " 0   SK_ID_PREV                  int64  \n",
      " 1   SK_ID_CURR                  int64  \n",
      " 2   MONTHS_BALANCE              int64  \n",
      " 3   AMT_BALANCE                 float64\n",
      " 4   AMT_CREDIT_LIMIT_ACTUAL     int64  \n",
      " 5   AMT_DRAWINGS_ATM_CURRENT    float64\n",
      " 6   AMT_DRAWINGS_CURRENT        float64\n",
      " 7   AMT_DRAWINGS_OTHER_CURRENT  float64\n",
      " 8   AMT_DRAWINGS_POS_CURRENT    float64\n",
      " 9   AMT_INST_MIN_REGULARITY     float64\n",
      " 10  AMT_PAYMENT_CURRENT         float64\n",
      " 11  AMT_PAYMENT_TOTAL_CURRENT   float64\n",
      " 12  AMT_RECEIVABLE_PRINCIPAL    float64\n",
      " 13  AMT_RECIVABLE               float64\n",
      " 14  AMT_TOTAL_RECEIVABLE        float64\n",
      " 15  CNT_DRAWINGS_ATM_CURRENT    float64\n",
      " 16  CNT_DRAWINGS_CURRENT        int64  \n",
      " 17  CNT_DRAWINGS_OTHER_CURRENT  float64\n",
      " 18  CNT_DRAWINGS_POS_CURRENT    float64\n",
      " 19  CNT_INSTALMENT_MATURE_CUM   float64\n",
      " 20  NAME_CONTRACT_STATUS        object \n",
      " 21  SK_DPD                      int64  \n",
      " 22  SK_DPD_DEF                  int64  \n",
      "dtypes: float64(15), int64(7), object(1)\n",
      "memory usage: 673.9+ MB\n",
      "None\n",
      "<class 'pandas.core.frame.DataFrame'>\n",
      "RangeIndex: 13605401 entries, 0 to 13605400\n",
      "Data columns (total 8 columns):\n",
      " #   Column                  Dtype  \n",
      "---  ------                  -----  \n",
      " 0   SK_ID_PREV              int64  \n",
      " 1   SK_ID_CURR              int64  \n",
      " 2   NUM_INSTALMENT_VERSION  float64\n",
      " 3   NUM_INSTALMENT_NUMBER   int64  \n",
      " 4   DAYS_INSTALMENT         float64\n",
      " 5   DAYS_ENTRY_PAYMENT      float64\n",
      " 6   AMT_INSTALMENT          float64\n",
      " 7   AMT_PAYMENT             float64\n",
      "dtypes: float64(5), int64(3)\n",
      "memory usage: 830.4 MB\n",
      "None\n",
      "<class 'pandas.core.frame.DataFrame'>\n",
      "RangeIndex: 10001358 entries, 0 to 10001357\n",
      "Data columns (total 8 columns):\n",
      " #   Column                 Dtype  \n",
      "---  ------                 -----  \n",
      " 0   SK_ID_PREV             int64  \n",
      " 1   SK_ID_CURR             int64  \n",
      " 2   MONTHS_BALANCE         int64  \n",
      " 3   CNT_INSTALMENT         float64\n",
      " 4   CNT_INSTALMENT_FUTURE  float64\n",
      " 5   NAME_CONTRACT_STATUS   object \n",
      " 6   SK_DPD                 int64  \n",
      " 7   SK_DPD_DEF             int64  \n",
      "dtypes: float64(2), int64(5), object(1)\n",
      "memory usage: 610.4+ MB\n",
      "None\n",
      "<class 'pandas.core.frame.DataFrame'>\n",
      "RangeIndex: 1670214 entries, 0 to 1670213\n",
      "Data columns (total 37 columns):\n",
      " #   Column                       Non-Null Count    Dtype  \n",
      "---  ------                       --------------    -----  \n",
      " 0   SK_ID_PREV                   1670214 non-null  int64  \n",
      " 1   SK_ID_CURR                   1670214 non-null  int64  \n",
      " 2   NAME_CONTRACT_TYPE           1670214 non-null  object \n",
      " 3   AMT_ANNUITY                  1297979 non-null  float64\n",
      " 4   AMT_APPLICATION              1670214 non-null  float64\n",
      " 5   AMT_CREDIT                   1670213 non-null  float64\n",
      " 6   AMT_DOWN_PAYMENT             774370 non-null   float64\n",
      " 7   AMT_GOODS_PRICE              1284699 non-null  float64\n",
      " 8   WEEKDAY_APPR_PROCESS_START   1670214 non-null  object \n",
      " 9   HOUR_APPR_PROCESS_START      1670214 non-null  int64  \n",
      " 10  FLAG_LAST_APPL_PER_CONTRACT  1670214 non-null  object \n",
      " 11  NFLAG_LAST_APPL_IN_DAY       1670214 non-null  int64  \n",
      " 12  RATE_DOWN_PAYMENT            774370 non-null   float64\n",
      " 13  RATE_INTEREST_PRIMARY        5951 non-null     float64\n",
      " 14  RATE_INTEREST_PRIVILEGED     5951 non-null     float64\n",
      " 15  NAME_CASH_LOAN_PURPOSE       1670214 non-null  object \n",
      " 16  NAME_CONTRACT_STATUS         1670214 non-null  object \n",
      " 17  DAYS_DECISION                1670214 non-null  int64  \n",
      " 18  NAME_PAYMENT_TYPE            1670214 non-null  object \n",
      " 19  CODE_REJECT_REASON           1670214 non-null  object \n",
      " 20  NAME_TYPE_SUITE              849809 non-null   object \n",
      " 21  NAME_CLIENT_TYPE             1670214 non-null  object \n",
      " 22  NAME_GOODS_CATEGORY          1670214 non-null  object \n",
      " 23  NAME_PORTFOLIO               1670214 non-null  object \n",
      " 24  NAME_PRODUCT_TYPE            1670214 non-null  object \n",
      " 25  CHANNEL_TYPE                 1670214 non-null  object \n",
      " 26  SELLERPLACE_AREA             1670214 non-null  int64  \n",
      " 27  NAME_SELLER_INDUSTRY         1670214 non-null  object \n",
      " 28  CNT_PAYMENT                  1297984 non-null  float64\n",
      " 29  NAME_YIELD_GROUP             1670214 non-null  object \n",
      " 30  PRODUCT_COMBINATION          1669868 non-null  object \n",
      " 31  DAYS_FIRST_DRAWING           997149 non-null   float64\n",
      " 32  DAYS_FIRST_DUE               997149 non-null   float64\n",
      " 33  DAYS_LAST_DUE_1ST_VERSION    997149 non-null   float64\n",
      " 34  DAYS_LAST_DUE                997149 non-null   float64\n",
      " 35  DAYS_TERMINATION             997149 non-null   float64\n",
      " 36  NFLAG_INSURED_ON_APPROVAL    997149 non-null   float64\n",
      "dtypes: float64(15), int64(6), object(16)\n",
      "memory usage: 471.5+ MB\n",
      "None\n"
     ]
    }
   ],
   "source": [
    "# Printing info about each of the dataframes\n",
    "dataframes = [applicationtestDF, applicationtrainDF, bureauDF, bureaubalanceDF, creditcardbalanceDF, installmentpaymentsDF, poscashDF, previousDF]\n",
    "\n",
    "for df in dataframes:\n",
    "    print(df.info())"
   ]
  },
  {
   "cell_type": "markdown",
   "id": "78da5035",
   "metadata": {},
   "source": [
    "#### Exploring summary stats of the numeric columns"
   ]
  },
  {
   "cell_type": "code",
   "execution_count": 89,
   "id": "52b9059a",
   "metadata": {},
   "outputs": [
    {
     "name": "stdout",
     "output_type": "stream",
     "text": [
      "          SK_ID_CURR  CNT_CHILDREN  AMT_INCOME_TOTAL    AMT_CREDIT  \\\n",
      "count   48744.000000  48744.000000      4.874400e+04  4.874400e+04   \n",
      "mean   277796.676350      0.397054      1.784318e+05  5.167404e+05   \n",
      "std    103169.547296      0.709047      1.015226e+05  3.653970e+05   \n",
      "min    100001.000000      0.000000      2.694150e+04  4.500000e+04   \n",
      "25%    188557.750000      0.000000      1.125000e+05  2.606400e+05   \n",
      "50%    277549.000000      0.000000      1.575000e+05  4.500000e+05   \n",
      "75%    367555.500000      1.000000      2.250000e+05  6.750000e+05   \n",
      "max    456250.000000     20.000000      4.410000e+06  2.245500e+06   \n",
      "\n",
      "         AMT_ANNUITY  AMT_GOODS_PRICE  REGION_POPULATION_RELATIVE  \\\n",
      "count   48720.000000     4.874400e+04                48744.000000   \n",
      "mean    29426.240209     4.626188e+05                    0.021226   \n",
      "std     16016.368315     3.367102e+05                    0.014428   \n",
      "min      2295.000000     4.500000e+04                    0.000253   \n",
      "25%     17973.000000     2.250000e+05                    0.010006   \n",
      "50%     26199.000000     3.960000e+05                    0.018850   \n",
      "75%     37390.500000     6.300000e+05                    0.028663   \n",
      "max    180576.000000     2.245500e+06                    0.072508   \n",
      "\n",
      "         DAYS_BIRTH  DAYS_EMPLOYED  DAYS_REGISTRATION  ...  FLAG_DOCUMENT_18  \\\n",
      "count  48744.000000   48744.000000       48744.000000  ...      48744.000000   \n",
      "mean  -16068.084605   67485.366322       -4967.652716  ...          0.001559   \n",
      "std     4325.900393  144348.507136        3552.612035  ...          0.039456   \n",
      "min   -25195.000000  -17463.000000      -23722.000000  ...          0.000000   \n",
      "25%   -19637.000000   -2910.000000       -7459.250000  ...          0.000000   \n",
      "50%   -15785.000000   -1293.000000       -4490.000000  ...          0.000000   \n",
      "75%   -12496.000000    -296.000000       -1901.000000  ...          0.000000   \n",
      "max    -7338.000000  365243.000000           0.000000  ...          1.000000   \n",
      "\n",
      "       FLAG_DOCUMENT_19  FLAG_DOCUMENT_20  FLAG_DOCUMENT_21  \\\n",
      "count           48744.0           48744.0           48744.0   \n",
      "mean                0.0               0.0               0.0   \n",
      "std                 0.0               0.0               0.0   \n",
      "min                 0.0               0.0               0.0   \n",
      "25%                 0.0               0.0               0.0   \n",
      "50%                 0.0               0.0               0.0   \n",
      "75%                 0.0               0.0               0.0   \n",
      "max                 0.0               0.0               0.0   \n",
      "\n",
      "       AMT_REQ_CREDIT_BUREAU_HOUR  AMT_REQ_CREDIT_BUREAU_DAY  \\\n",
      "count                42695.000000               42695.000000   \n",
      "mean                     0.002108                   0.001803   \n",
      "std                      0.046373                   0.046132   \n",
      "min                      0.000000                   0.000000   \n",
      "25%                      0.000000                   0.000000   \n",
      "50%                      0.000000                   0.000000   \n",
      "75%                      0.000000                   0.000000   \n",
      "max                      2.000000                   2.000000   \n",
      "\n",
      "       AMT_REQ_CREDIT_BUREAU_WEEK  AMT_REQ_CREDIT_BUREAU_MON  \\\n",
      "count                42695.000000               42695.000000   \n",
      "mean                     0.002787                   0.009299   \n",
      "std                      0.054037                   0.110924   \n",
      "min                      0.000000                   0.000000   \n",
      "25%                      0.000000                   0.000000   \n",
      "50%                      0.000000                   0.000000   \n",
      "75%                      0.000000                   0.000000   \n",
      "max                      2.000000                   6.000000   \n",
      "\n",
      "       AMT_REQ_CREDIT_BUREAU_QRT  AMT_REQ_CREDIT_BUREAU_YEAR  \n",
      "count               42695.000000                42695.000000  \n",
      "mean                    0.546902                    1.983769  \n",
      "std                     0.693305                    1.838873  \n",
      "min                     0.000000                    0.000000  \n",
      "25%                     0.000000                    0.000000  \n",
      "50%                     0.000000                    2.000000  \n",
      "75%                     1.000000                    3.000000  \n",
      "max                     7.000000                   17.000000  \n",
      "\n",
      "[8 rows x 105 columns]\n",
      "          SK_ID_CURR         TARGET   CNT_CHILDREN  AMT_INCOME_TOTAL  \\\n",
      "count  307511.000000  307511.000000  307511.000000      3.075110e+05   \n",
      "mean   278180.518577       0.080729       0.417052      1.687979e+05   \n",
      "std    102790.175348       0.272419       0.722121      2.371231e+05   \n",
      "min    100002.000000       0.000000       0.000000      2.565000e+04   \n",
      "25%    189145.500000       0.000000       0.000000      1.125000e+05   \n",
      "50%    278202.000000       0.000000       0.000000      1.471500e+05   \n",
      "75%    367142.500000       0.000000       1.000000      2.025000e+05   \n",
      "max    456255.000000       1.000000      19.000000      1.170000e+08   \n",
      "\n",
      "         AMT_CREDIT    AMT_ANNUITY  AMT_GOODS_PRICE  \\\n",
      "count  3.075110e+05  307499.000000     3.072330e+05   \n",
      "mean   5.990260e+05   27108.573909     5.383962e+05   \n",
      "std    4.024908e+05   14493.737315     3.694465e+05   \n",
      "min    4.500000e+04    1615.500000     4.050000e+04   \n",
      "25%    2.700000e+05   16524.000000     2.385000e+05   \n",
      "50%    5.135310e+05   24903.000000     4.500000e+05   \n",
      "75%    8.086500e+05   34596.000000     6.795000e+05   \n",
      "max    4.050000e+06  258025.500000     4.050000e+06   \n",
      "\n",
      "       REGION_POPULATION_RELATIVE     DAYS_BIRTH  DAYS_EMPLOYED  ...  \\\n",
      "count               307511.000000  307511.000000  307511.000000  ...   \n",
      "mean                     0.020868  -16036.995067   63815.045904  ...   \n",
      "std                      0.013831    4363.988632  141275.766519  ...   \n",
      "min                      0.000290  -25229.000000  -17912.000000  ...   \n",
      "25%                      0.010006  -19682.000000   -2760.000000  ...   \n",
      "50%                      0.018850  -15750.000000   -1213.000000  ...   \n",
      "75%                      0.028663  -12413.000000    -289.000000  ...   \n",
      "max                      0.072508   -7489.000000  365243.000000  ...   \n",
      "\n",
      "       FLAG_DOCUMENT_18  FLAG_DOCUMENT_19  FLAG_DOCUMENT_20  FLAG_DOCUMENT_21  \\\n",
      "count     307511.000000     307511.000000     307511.000000     307511.000000   \n",
      "mean           0.008130          0.000595          0.000507          0.000335   \n",
      "std            0.089798          0.024387          0.022518          0.018299   \n",
      "min            0.000000          0.000000          0.000000          0.000000   \n",
      "25%            0.000000          0.000000          0.000000          0.000000   \n",
      "50%            0.000000          0.000000          0.000000          0.000000   \n",
      "75%            0.000000          0.000000          0.000000          0.000000   \n",
      "max            1.000000          1.000000          1.000000          1.000000   \n",
      "\n",
      "       AMT_REQ_CREDIT_BUREAU_HOUR  AMT_REQ_CREDIT_BUREAU_DAY  \\\n",
      "count               265992.000000              265992.000000   \n",
      "mean                     0.006402                   0.007000   \n",
      "std                      0.083849                   0.110757   \n",
      "min                      0.000000                   0.000000   \n",
      "25%                      0.000000                   0.000000   \n",
      "50%                      0.000000                   0.000000   \n",
      "75%                      0.000000                   0.000000   \n",
      "max                      4.000000                   9.000000   \n",
      "\n",
      "       AMT_REQ_CREDIT_BUREAU_WEEK  AMT_REQ_CREDIT_BUREAU_MON  \\\n",
      "count               265992.000000              265992.000000   \n",
      "mean                     0.034362                   0.267395   \n",
      "std                      0.204685                   0.916002   \n",
      "min                      0.000000                   0.000000   \n",
      "25%                      0.000000                   0.000000   \n",
      "50%                      0.000000                   0.000000   \n",
      "75%                      0.000000                   0.000000   \n",
      "max                      8.000000                  27.000000   \n",
      "\n",
      "       AMT_REQ_CREDIT_BUREAU_QRT  AMT_REQ_CREDIT_BUREAU_YEAR  \n",
      "count              265992.000000               265992.000000  \n",
      "mean                    0.265474                    1.899974  \n",
      "std                     0.794056                    1.869295  \n",
      "min                     0.000000                    0.000000  \n",
      "25%                     0.000000                    0.000000  \n",
      "50%                     0.000000                    1.000000  \n",
      "75%                     0.000000                    3.000000  \n",
      "max                   261.000000                   25.000000  \n",
      "\n",
      "[8 rows x 106 columns]\n"
     ]
    },
    {
     "name": "stdout",
     "output_type": "stream",
     "text": [
      "         SK_ID_CURR  SK_ID_BUREAU   DAYS_CREDIT  CREDIT_DAY_OVERDUE  \\\n",
      "count  1.716428e+06  1.716428e+06  1.716428e+06        1.716428e+06   \n",
      "mean   2.782149e+05  5.924434e+06 -1.142108e+03        8.181666e-01   \n",
      "std    1.029386e+05  5.322657e+05  7.951649e+02        3.654443e+01   \n",
      "min    1.000010e+05  5.000000e+06 -2.922000e+03        0.000000e+00   \n",
      "25%    1.888668e+05  5.463954e+06 -1.666000e+03        0.000000e+00   \n",
      "50%    2.780550e+05  5.926304e+06 -9.870000e+02        0.000000e+00   \n",
      "75%    3.674260e+05  6.385681e+06 -4.740000e+02        0.000000e+00   \n",
      "max    4.562550e+05  6.843457e+06  0.000000e+00        2.792000e+03   \n",
      "\n",
      "       DAYS_CREDIT_ENDDATE  DAYS_ENDDATE_FACT  AMT_CREDIT_MAX_OVERDUE  \\\n",
      "count         1.610875e+06       1.082775e+06            5.919400e+05   \n",
      "mean          5.105174e+02      -1.017437e+03            3.825418e+03   \n",
      "std           4.994220e+03       7.140106e+02            2.060316e+05   \n",
      "min          -4.206000e+04      -4.202300e+04            0.000000e+00   \n",
      "25%          -1.138000e+03      -1.489000e+03            0.000000e+00   \n",
      "50%          -3.300000e+02      -8.970000e+02            0.000000e+00   \n",
      "75%           4.740000e+02      -4.250000e+02            0.000000e+00   \n",
      "max           3.119900e+04       0.000000e+00            1.159872e+08   \n",
      "\n",
      "       CNT_CREDIT_PROLONG  AMT_CREDIT_SUM  AMT_CREDIT_SUM_DEBT  \\\n",
      "count        1.716428e+06    1.716415e+06         1.458759e+06   \n",
      "mean         6.410406e-03    3.549946e+05         1.370851e+05   \n",
      "std          9.622391e-02    1.149811e+06         6.774011e+05   \n",
      "min          0.000000e+00    0.000000e+00        -4.705600e+06   \n",
      "25%          0.000000e+00    5.130000e+04         0.000000e+00   \n",
      "50%          0.000000e+00    1.255185e+05         0.000000e+00   \n",
      "75%          0.000000e+00    3.150000e+05         4.015350e+04   \n",
      "max          9.000000e+00    5.850000e+08         1.701000e+08   \n",
      "\n",
      "       AMT_CREDIT_SUM_LIMIT  AMT_CREDIT_SUM_OVERDUE  DAYS_CREDIT_UPDATE  \\\n",
      "count          1.124648e+06            1.716428e+06        1.716428e+06   \n",
      "mean           6.229515e+03            3.791276e+01       -5.937483e+02   \n",
      "std            4.503203e+04            5.937650e+03        7.207473e+02   \n",
      "min           -5.864061e+05            0.000000e+00       -4.194700e+04   \n",
      "25%            0.000000e+00            0.000000e+00       -9.080000e+02   \n",
      "50%            0.000000e+00            0.000000e+00       -3.950000e+02   \n",
      "75%            0.000000e+00            0.000000e+00       -3.300000e+01   \n",
      "max            4.705600e+06            3.756681e+06        3.720000e+02   \n",
      "\n",
      "        AMT_ANNUITY  \n",
      "count  4.896370e+05  \n",
      "mean   1.571276e+04  \n",
      "std    3.258269e+05  \n",
      "min    0.000000e+00  \n",
      "25%    0.000000e+00  \n",
      "50%    0.000000e+00  \n",
      "75%    1.350000e+04  \n",
      "max    1.184534e+08  \n",
      "       SK_ID_BUREAU  MONTHS_BALANCE\n",
      "count  2.729992e+07    2.729992e+07\n",
      "mean   6.036297e+06   -3.074169e+01\n",
      "std    4.923489e+05    2.386451e+01\n",
      "min    5.001709e+06   -9.600000e+01\n",
      "25%    5.730933e+06   -4.600000e+01\n",
      "50%    6.070821e+06   -2.500000e+01\n",
      "75%    6.431951e+06   -1.100000e+01\n",
      "max    6.842888e+06    0.000000e+00\n",
      "         SK_ID_PREV    SK_ID_CURR  MONTHS_BALANCE   AMT_BALANCE  \\\n",
      "count  3.840312e+06  3.840312e+06    3.840312e+06  3.840312e+06   \n",
      "mean   1.904504e+06  2.783242e+05   -3.452192e+01  5.830016e+04   \n",
      "std    5.364695e+05  1.027045e+05    2.666775e+01  1.063070e+05   \n",
      "min    1.000018e+06  1.000060e+05   -9.600000e+01 -4.202502e+05   \n",
      "25%    1.434385e+06  1.895170e+05   -5.500000e+01  0.000000e+00   \n",
      "50%    1.897122e+06  2.783960e+05   -2.800000e+01  0.000000e+00   \n",
      "75%    2.369328e+06  3.675800e+05   -1.100000e+01  8.904669e+04   \n",
      "max    2.843496e+06  4.562500e+05   -1.000000e+00  1.505902e+06   \n",
      "\n",
      "       AMT_CREDIT_LIMIT_ACTUAL  AMT_DRAWINGS_ATM_CURRENT  \\\n",
      "count             3.840312e+06              3.090496e+06   \n",
      "mean              1.538080e+05              5.961325e+03   \n",
      "std               1.651457e+05              2.822569e+04   \n",
      "min               0.000000e+00             -6.827310e+03   \n",
      "25%               4.500000e+04              0.000000e+00   \n",
      "50%               1.125000e+05              0.000000e+00   \n",
      "75%               1.800000e+05              0.000000e+00   \n",
      "max               1.350000e+06              2.115000e+06   \n",
      "\n",
      "       AMT_DRAWINGS_CURRENT  AMT_DRAWINGS_OTHER_CURRENT  \\\n",
      "count          3.840312e+06                3.090496e+06   \n",
      "mean           7.433388e+03                2.881696e+02   \n",
      "std            3.384608e+04                8.201989e+03   \n",
      "min           -6.211620e+03                0.000000e+00   \n",
      "25%            0.000000e+00                0.000000e+00   \n",
      "50%            0.000000e+00                0.000000e+00   \n",
      "75%            0.000000e+00                0.000000e+00   \n",
      "max            2.287098e+06                1.529847e+06   \n",
      "\n",
      "       AMT_DRAWINGS_POS_CURRENT  AMT_INST_MIN_REGULARITY  ...  \\\n",
      "count              3.090496e+06             3.535076e+06  ...   \n",
      "mean               2.968805e+03             3.540204e+03  ...   \n",
      "std                2.079689e+04             5.600154e+03  ...   \n",
      "min                0.000000e+00             0.000000e+00  ...   \n",
      "25%                0.000000e+00             0.000000e+00  ...   \n",
      "50%                0.000000e+00             0.000000e+00  ...   \n",
      "75%                0.000000e+00             6.633911e+03  ...   \n",
      "max                2.239274e+06             2.028820e+05  ...   \n",
      "\n",
      "       AMT_RECEIVABLE_PRINCIPAL  AMT_RECIVABLE  AMT_TOTAL_RECEIVABLE  \\\n",
      "count              3.840312e+06   3.840312e+06          3.840312e+06   \n",
      "mean               5.596588e+04   5.808881e+04          5.809829e+04   \n",
      "std                1.025336e+05   1.059654e+05          1.059718e+05   \n",
      "min               -4.233058e+05  -4.202502e+05         -4.202502e+05   \n",
      "25%                0.000000e+00   0.000000e+00          0.000000e+00   \n",
      "50%                0.000000e+00   0.000000e+00          0.000000e+00   \n",
      "75%                8.535924e+04   8.889949e+04          8.891451e+04   \n",
      "max                1.472317e+06   1.493338e+06          1.493338e+06   \n",
      "\n",
      "       CNT_DRAWINGS_ATM_CURRENT  CNT_DRAWINGS_CURRENT  \\\n",
      "count              3.090496e+06          3.840312e+06   \n",
      "mean               3.094490e-01          7.031439e-01   \n",
      "std                1.100401e+00          3.190347e+00   \n",
      "min                0.000000e+00          0.000000e+00   \n",
      "25%                0.000000e+00          0.000000e+00   \n",
      "50%                0.000000e+00          0.000000e+00   \n",
      "75%                0.000000e+00          0.000000e+00   \n",
      "max                5.100000e+01          1.650000e+02   \n",
      "\n",
      "       CNT_DRAWINGS_OTHER_CURRENT  CNT_DRAWINGS_POS_CURRENT  \\\n",
      "count                3.090496e+06              3.090496e+06   \n",
      "mean                 4.812496e-03              5.594791e-01   \n",
      "std                  8.263861e-02              3.240649e+00   \n",
      "min                  0.000000e+00              0.000000e+00   \n",
      "25%                  0.000000e+00              0.000000e+00   \n",
      "50%                  0.000000e+00              0.000000e+00   \n",
      "75%                  0.000000e+00              0.000000e+00   \n",
      "max                  1.200000e+01              1.650000e+02   \n",
      "\n",
      "       CNT_INSTALMENT_MATURE_CUM        SK_DPD    SK_DPD_DEF  \n",
      "count               3.535076e+06  3.840312e+06  3.840312e+06  \n",
      "mean                2.082508e+01  9.283667e+00  3.316220e-01  \n",
      "std                 2.005149e+01  9.751570e+01  2.147923e+01  \n",
      "min                 0.000000e+00  0.000000e+00  0.000000e+00  \n",
      "25%                 4.000000e+00  0.000000e+00  0.000000e+00  \n",
      "50%                 1.500000e+01  0.000000e+00  0.000000e+00  \n",
      "75%                 3.200000e+01  0.000000e+00  0.000000e+00  \n",
      "max                 1.200000e+02  3.260000e+03  3.260000e+03  \n",
      "\n",
      "[8 rows x 22 columns]\n",
      "         SK_ID_PREV    SK_ID_CURR  NUM_INSTALMENT_VERSION  \\\n",
      "count  1.360540e+07  1.360540e+07            1.360540e+07   \n",
      "mean   1.903365e+06  2.784449e+05            8.566373e-01   \n",
      "std    5.362029e+05  1.027183e+05            1.035216e+00   \n",
      "min    1.000001e+06  1.000010e+05            0.000000e+00   \n",
      "25%    1.434191e+06  1.896390e+05            0.000000e+00   \n",
      "50%    1.896520e+06  2.786850e+05            1.000000e+00   \n",
      "75%    2.369094e+06  3.675300e+05            1.000000e+00   \n",
      "max    2.843499e+06  4.562550e+05            1.780000e+02   \n",
      "\n",
      "       NUM_INSTALMENT_NUMBER  DAYS_INSTALMENT  DAYS_ENTRY_PAYMENT  \\\n",
      "count           1.360540e+07     1.360540e+07        1.360250e+07   \n",
      "mean            1.887090e+01    -1.042270e+03       -1.051114e+03   \n",
      "std             2.666407e+01     8.009463e+02        8.005859e+02   \n",
      "min             1.000000e+00    -2.922000e+03       -4.921000e+03   \n",
      "25%             4.000000e+00    -1.654000e+03       -1.662000e+03   \n",
      "50%             8.000000e+00    -8.180000e+02       -8.270000e+02   \n",
      "75%             1.900000e+01    -3.610000e+02       -3.700000e+02   \n",
      "max             2.770000e+02    -1.000000e+00       -1.000000e+00   \n",
      "\n",
      "       AMT_INSTALMENT   AMT_PAYMENT  \n",
      "count    1.360540e+07  1.360250e+07  \n",
      "mean     1.705091e+04  1.723822e+04  \n",
      "std      5.057025e+04  5.473578e+04  \n",
      "min      0.000000e+00  0.000000e+00  \n",
      "25%      4.226085e+03  3.398265e+03  \n",
      "50%      8.884080e+03  8.125515e+03  \n",
      "75%      1.671021e+04  1.610842e+04  \n",
      "max      3.771488e+06  3.771488e+06  \n"
     ]
    },
    {
     "name": "stdout",
     "output_type": "stream",
     "text": [
      "         SK_ID_PREV    SK_ID_CURR  MONTHS_BALANCE  CNT_INSTALMENT  \\\n",
      "count  1.000136e+07  1.000136e+07    1.000136e+07    9.975287e+06   \n",
      "mean   1.903217e+06  2.784039e+05   -3.501259e+01    1.708965e+01   \n",
      "std    5.358465e+05  1.027637e+05    2.606657e+01    1.199506e+01   \n",
      "min    1.000001e+06  1.000010e+05   -9.600000e+01    1.000000e+00   \n",
      "25%    1.434405e+06  1.895500e+05   -5.400000e+01    1.000000e+01   \n",
      "50%    1.896565e+06  2.786540e+05   -2.800000e+01    1.200000e+01   \n",
      "75%    2.368963e+06  3.674290e+05   -1.300000e+01    2.400000e+01   \n",
      "max    2.843499e+06  4.562550e+05   -1.000000e+00    9.200000e+01   \n",
      "\n",
      "       CNT_INSTALMENT_FUTURE        SK_DPD    SK_DPD_DEF  \n",
      "count           9.975271e+06  1.000136e+07  1.000136e+07  \n",
      "mean            1.048384e+01  1.160693e+01  6.544684e-01  \n",
      "std             1.110906e+01  1.327140e+02  3.276249e+01  \n",
      "min             0.000000e+00  0.000000e+00  0.000000e+00  \n",
      "25%             3.000000e+00  0.000000e+00  0.000000e+00  \n",
      "50%             7.000000e+00  0.000000e+00  0.000000e+00  \n",
      "75%             1.400000e+01  0.000000e+00  0.000000e+00  \n",
      "max             8.500000e+01  4.231000e+03  3.595000e+03  \n",
      "         SK_ID_PREV    SK_ID_CURR   AMT_ANNUITY  AMT_APPLICATION  \\\n",
      "count  1.670214e+06  1.670214e+06  1.297979e+06     1.670214e+06   \n",
      "mean   1.923089e+06  2.783572e+05  1.595512e+04     1.752339e+05   \n",
      "std    5.325980e+05  1.028148e+05  1.478214e+04     2.927798e+05   \n",
      "min    1.000001e+06  1.000010e+05  0.000000e+00     0.000000e+00   \n",
      "25%    1.461857e+06  1.893290e+05  6.321780e+03     1.872000e+04   \n",
      "50%    1.923110e+06  2.787145e+05  1.125000e+04     7.104600e+04   \n",
      "75%    2.384280e+06  3.675140e+05  2.065842e+04     1.803600e+05   \n",
      "max    2.845382e+06  4.562550e+05  4.180581e+05     6.905160e+06   \n",
      "\n",
      "         AMT_CREDIT  AMT_DOWN_PAYMENT  AMT_GOODS_PRICE  \\\n",
      "count  1.670213e+06      7.743700e+05     1.284699e+06   \n",
      "mean   1.961140e+05      6.697402e+03     2.278473e+05   \n",
      "std    3.185746e+05      2.092150e+04     3.153966e+05   \n",
      "min    0.000000e+00     -9.000000e-01     0.000000e+00   \n",
      "25%    2.416050e+04      0.000000e+00     5.084100e+04   \n",
      "50%    8.054100e+04      1.638000e+03     1.123200e+05   \n",
      "75%    2.164185e+05      7.740000e+03     2.340000e+05   \n",
      "max    6.905160e+06      3.060045e+06     6.905160e+06   \n",
      "\n",
      "       HOUR_APPR_PROCESS_START  NFLAG_LAST_APPL_IN_DAY  RATE_DOWN_PAYMENT  \\\n",
      "count             1.670214e+06            1.670214e+06      774370.000000   \n",
      "mean              1.248418e+01            9.964675e-01           0.079637   \n",
      "std               3.334028e+00            5.932963e-02           0.107823   \n",
      "min               0.000000e+00            0.000000e+00          -0.000015   \n",
      "25%               1.000000e+01            1.000000e+00           0.000000   \n",
      "50%               1.200000e+01            1.000000e+00           0.051605   \n",
      "75%               1.500000e+01            1.000000e+00           0.108909   \n",
      "max               2.300000e+01            1.000000e+00           1.000000   \n",
      "\n",
      "       ...  RATE_INTEREST_PRIVILEGED  DAYS_DECISION  SELLERPLACE_AREA  \\\n",
      "count  ...               5951.000000   1.670214e+06      1.670214e+06   \n",
      "mean   ...                  0.773503  -8.806797e+02      3.139511e+02   \n",
      "std    ...                  0.100879   7.790997e+02      7.127443e+03   \n",
      "min    ...                  0.373150  -2.922000e+03     -1.000000e+00   \n",
      "25%    ...                  0.715645  -1.300000e+03     -1.000000e+00   \n",
      "50%    ...                  0.835095  -5.810000e+02      3.000000e+00   \n",
      "75%    ...                  0.852537  -2.800000e+02      8.200000e+01   \n",
      "max    ...                  1.000000  -1.000000e+00      4.000000e+06   \n",
      "\n",
      "        CNT_PAYMENT  DAYS_FIRST_DRAWING  DAYS_FIRST_DUE  \\\n",
      "count  1.297984e+06       997149.000000   997149.000000   \n",
      "mean   1.605408e+01       342209.855039    13826.269337   \n",
      "std    1.456729e+01        88916.115833    72444.869708   \n",
      "min    0.000000e+00        -2922.000000    -2892.000000   \n",
      "25%    6.000000e+00       365243.000000    -1628.000000   \n",
      "50%    1.200000e+01       365243.000000     -831.000000   \n",
      "75%    2.400000e+01       365243.000000     -411.000000   \n",
      "max    8.400000e+01       365243.000000   365243.000000   \n",
      "\n",
      "       DAYS_LAST_DUE_1ST_VERSION  DAYS_LAST_DUE  DAYS_TERMINATION  \\\n",
      "count              997149.000000  997149.000000     997149.000000   \n",
      "mean                33767.774054   76582.403064      81992.343838   \n",
      "std                106857.034789  149647.415123     153303.516729   \n",
      "min                 -2801.000000   -2889.000000      -2874.000000   \n",
      "25%                 -1242.000000   -1314.000000      -1270.000000   \n",
      "50%                  -361.000000    -537.000000       -499.000000   \n",
      "75%                   129.000000     -74.000000        -44.000000   \n",
      "max                365243.000000  365243.000000     365243.000000   \n",
      "\n",
      "       NFLAG_INSURED_ON_APPROVAL  \n",
      "count              997149.000000  \n",
      "mean                    0.332570  \n",
      "std                     0.471134  \n",
      "min                     0.000000  \n",
      "25%                     0.000000  \n",
      "50%                     0.000000  \n",
      "75%                     1.000000  \n",
      "max                     1.000000  \n",
      "\n",
      "[8 rows x 21 columns]\n"
     ]
    }
   ],
   "source": [
    "# Get summary statistics of the numerical columns\n",
    "dataframes = [applicationtestDF, applicationtrainDF, bureauDF, bureaubalanceDF, creditcardbalanceDF, installmentpaymentsDF, poscashDF, previousDF]\n",
    "\n",
    "for df in dataframes:\n",
    "    print(df.describe())"
   ]
  },
  {
   "cell_type": "markdown",
   "id": "7fe78b78",
   "metadata": {},
   "source": [
    "#### Exploring the categorical variables in the dataframes"
   ]
  },
  {
   "cell_type": "code",
   "execution_count": 90,
   "id": "72c17ece",
   "metadata": {},
   "outputs": [
    {
     "name": "stdout",
     "output_type": "stream",
     "text": [
      "       NAME_CONTRACT_TYPE CODE_GENDER FLAG_OWN_CAR FLAG_OWN_REALTY  \\\n",
      "count               48744       48744        48744           48744   \n",
      "unique                  2           2            2               2   \n",
      "top            Cash loans           F            N               Y   \n",
      "freq                48305       32678        32311           33658   \n",
      "\n",
      "       NAME_TYPE_SUITE NAME_INCOME_TYPE            NAME_EDUCATION_TYPE  \\\n",
      "count            47833            48744                          48744   \n",
      "unique               7                7                              5   \n",
      "top      Unaccompanied          Working  Secondary / secondary special   \n",
      "freq             39727            24533                          33988   \n",
      "\n",
      "       NAME_FAMILY_STATUS  NAME_HOUSING_TYPE OCCUPATION_TYPE  \\\n",
      "count               48744              48744           33139   \n",
      "unique                  5                  6              18   \n",
      "top               Married  House / apartment        Laborers   \n",
      "freq                32283              43645            8655   \n",
      "\n",
      "       WEEKDAY_APPR_PROCESS_START       ORGANIZATION_TYPE FONDKAPREMONT_MODE  \\\n",
      "count                       48744                   48744              15947   \n",
      "unique                          7                      58                  4   \n",
      "top                       TUESDAY  Business Entity Type 3   reg oper account   \n",
      "freq                         9751                   10840              12124   \n",
      "\n",
      "        HOUSETYPE_MODE WALLSMATERIAL_MODE EMERGENCYSTATE_MODE  \n",
      "count            25125              24851               26535  \n",
      "unique               3                  7                   2  \n",
      "top     block of flats              Panel                  No  \n",
      "freq             24659              11269               26179  \n",
      "       NAME_CONTRACT_TYPE CODE_GENDER FLAG_OWN_CAR FLAG_OWN_REALTY  \\\n",
      "count              307511      307511       307511          307511   \n",
      "unique                  2           3            2               2   \n",
      "top            Cash loans           F            N               Y   \n",
      "freq               278232      202448       202924          213312   \n",
      "\n",
      "       NAME_TYPE_SUITE NAME_INCOME_TYPE            NAME_EDUCATION_TYPE  \\\n",
      "count           306219           307511                         307511   \n",
      "unique               7                8                              5   \n",
      "top      Unaccompanied          Working  Secondary / secondary special   \n",
      "freq            248526           158774                         218391   \n",
      "\n",
      "       NAME_FAMILY_STATUS  NAME_HOUSING_TYPE OCCUPATION_TYPE  \\\n",
      "count              307511             307511          211120   \n",
      "unique                  6                  6              18   \n",
      "top               Married  House / apartment        Laborers   \n",
      "freq               196432             272868           55186   \n",
      "\n",
      "       WEEKDAY_APPR_PROCESS_START       ORGANIZATION_TYPE FONDKAPREMONT_MODE  \\\n",
      "count                      307511                  307511              97216   \n",
      "unique                          7                      58                  4   \n",
      "top                       TUESDAY  Business Entity Type 3   reg oper account   \n",
      "freq                        53901                   67992              73830   \n",
      "\n",
      "        HOUSETYPE_MODE WALLSMATERIAL_MODE EMERGENCYSTATE_MODE  \n",
      "count           153214             151170              161756  \n",
      "unique               3                  7                   2  \n",
      "top     block of flats              Panel                  No  \n",
      "freq            150503              66040              159428  \n",
      "       CREDIT_ACTIVE CREDIT_CURRENCY      CREDIT_TYPE\n",
      "count        1716428         1716428          1716428\n",
      "unique             4               4               15\n",
      "top           Closed      currency 1  Consumer credit\n",
      "freq         1079273         1715020          1251615\n",
      "          STATUS\n",
      "count   27299925\n",
      "unique         8\n",
      "top            C\n",
      "freq    13646993\n",
      "       NAME_CONTRACT_STATUS\n",
      "count               3840312\n",
      "unique                    7\n",
      "top                  Active\n",
      "freq                3698436\n",
      "       NAME_CONTRACT_STATUS\n",
      "count              10001358\n",
      "unique                    9\n",
      "top                  Active\n",
      "freq                9151119\n",
      "       NAME_CONTRACT_TYPE WEEKDAY_APPR_PROCESS_START  \\\n",
      "count             1670214                    1670214   \n",
      "unique                  4                          7   \n",
      "top            Cash loans                    TUESDAY   \n",
      "freq               747553                     255118   \n",
      "\n",
      "       FLAG_LAST_APPL_PER_CONTRACT NAME_CASH_LOAN_PURPOSE  \\\n",
      "count                      1670214                1670214   \n",
      "unique                           2                     25   \n",
      "top                              Y                    XAP   \n",
      "freq                       1661739                 922661   \n",
      "\n",
      "       NAME_CONTRACT_STATUS      NAME_PAYMENT_TYPE CODE_REJECT_REASON  \\\n",
      "count               1670214                1670214            1670214   \n",
      "unique                    4                      4                  9   \n",
      "top                Approved  Cash through the bank                XAP   \n",
      "freq                1036781                1033552            1353093   \n",
      "\n",
      "       NAME_TYPE_SUITE NAME_CLIENT_TYPE NAME_GOODS_CATEGORY NAME_PORTFOLIO  \\\n",
      "count           849809          1670214             1670214        1670214   \n",
      "unique               7                4                  28              5   \n",
      "top      Unaccompanied         Repeater                 XNA            POS   \n",
      "freq            508970          1231261              950809         691011   \n",
      "\n",
      "       NAME_PRODUCT_TYPE             CHANNEL_TYPE NAME_SELLER_INDUSTRY  \\\n",
      "count            1670214                  1670214              1670214   \n",
      "unique                 3                        8                   11   \n",
      "top                  XNA  Credit and cash offices                  XNA   \n",
      "freq             1063666                   719968               855720   \n",
      "\n",
      "       NAME_YIELD_GROUP PRODUCT_COMBINATION  \n",
      "count           1670214             1669868  \n",
      "unique                5                  17  \n",
      "top                 XNA                Cash  \n",
      "freq             517215              285990  \n"
     ]
    }
   ],
   "source": [
    "# Getting information about the categorical columns\n",
    "# installmentpaymentsDF does not include any categorical data so we do not include it.\n",
    "\n",
    "dataframes = [applicationtestDF, applicationtrainDF, bureauDF, bureaubalanceDF, creditcardbalanceDF, poscashDF, previousDF]\n",
    "\n",
    "for df in dataframes:\n",
    "    print(df.describe(include='object'))"
   ]
  },
  {
   "cell_type": "markdown",
   "id": "96ab3010",
   "metadata": {},
   "source": [
    "#### Getting the unique values for the categorical columns in the dataframe"
   ]
  },
  {
   "cell_type": "code",
   "execution_count": 30,
   "id": "de49f525",
   "metadata": {},
   "outputs": [
    {
     "name": "stdout",
     "output_type": "stream",
     "text": [
      "NAME_CONTRACT_TYPE: ['Cash loans' 'Revolving loans']\n",
      "CODE_GENDER: ['F' 'M']\n",
      "FLAG_OWN_CAR: ['N' 'Y']\n",
      "FLAG_OWN_REALTY: ['Y' 'N']\n",
      "NAME_TYPE_SUITE: ['Unaccompanied' nan 'Family' 'Spouse, partner' 'Group of people'\n",
      " 'Other_B' 'Children' 'Other_A']\n",
      "NAME_INCOME_TYPE: ['Working' 'State servant' 'Pensioner' 'Commercial associate'\n",
      " 'Businessman' 'Student' 'Unemployed']\n",
      "NAME_EDUCATION_TYPE: ['Higher education' 'Secondary / secondary special' 'Incomplete higher'\n",
      " 'Lower secondary' 'Academic degree']\n",
      "NAME_FAMILY_STATUS: ['Married' 'Single / not married' 'Civil marriage' 'Widow' 'Separated']\n",
      "NAME_HOUSING_TYPE: ['House / apartment' 'With parents' 'Rented apartment'\n",
      " 'Municipal apartment' 'Office apartment' 'Co-op apartment']\n",
      "OCCUPATION_TYPE: [nan 'Low-skill Laborers' 'Drivers' 'Sales staff' 'High skill tech staff'\n",
      " 'Core staff' 'Laborers' 'Managers' 'Accountants' 'Medicine staff'\n",
      " 'Security staff' 'Private service staff' 'Secretaries' 'Cleaning staff'\n",
      " 'Cooking staff' 'HR staff' 'Waiters/barmen staff' 'Realty agents'\n",
      " 'IT staff']\n",
      "WEEKDAY_APPR_PROCESS_START: ['TUESDAY' 'FRIDAY' 'MONDAY' 'WEDNESDAY' 'THURSDAY' 'SATURDAY' 'SUNDAY']\n",
      "ORGANIZATION_TYPE: ['Kindergarten' 'Self-employed' 'Transport: type 3'\n",
      " 'Business Entity Type 3' 'Government' 'Industry: type 9' 'School'\n",
      " 'Trade: type 2' 'XNA' 'Services' 'Bank' 'Industry: type 3' 'Other'\n",
      " 'Trade: type 6' 'Industry: type 12' 'Trade: type 7' 'Postal' 'Medicine'\n",
      " 'Housing' 'Business Entity Type 2' 'Construction' 'Military'\n",
      " 'Industry: type 4' 'Trade: type 3' 'Legal Services' 'Security'\n",
      " 'Industry: type 11' 'University' 'Business Entity Type 1' 'Agriculture'\n",
      " 'Security Ministries' 'Transport: type 2' 'Industry: type 7'\n",
      " 'Transport: type 4' 'Telecom' 'Emergency' 'Police' 'Industry: type 1'\n",
      " 'Transport: type 1' 'Electricity' 'Industry: type 5' 'Hotel' 'Restaurant'\n",
      " 'Advertising' 'Mobile' 'Trade: type 1' 'Industry: type 8' 'Realtor'\n",
      " 'Cleaning' 'Industry: type 2' 'Trade: type 4' 'Industry: type 6'\n",
      " 'Culture' 'Insurance' 'Religion' 'Industry: type 13' 'Industry: type 10'\n",
      " 'Trade: type 5']\n",
      "FONDKAPREMONT_MODE: [nan 'reg oper account' 'not specified' 'org spec account'\n",
      " 'reg oper spec account']\n",
      "HOUSETYPE_MODE: ['block of flats' nan 'specific housing' 'terraced house']\n",
      "WALLSMATERIAL_MODE: ['Stone, brick' nan 'Panel' 'Block' 'Wooden' 'Mixed' 'Monolithic' 'Others']\n",
      "EMERGENCYSTATE_MODE: ['No' nan 'Yes']\n",
      "NAME_CONTRACT_TYPE: ['Cash loans' 'Revolving loans']\n",
      "CODE_GENDER: ['M' 'F' 'XNA']\n",
      "FLAG_OWN_CAR: ['N' 'Y']\n",
      "FLAG_OWN_REALTY: ['Y' 'N']\n",
      "NAME_TYPE_SUITE: ['Unaccompanied' 'Family' 'Spouse, partner' 'Children' 'Other_A' nan\n",
      " 'Other_B' 'Group of people']\n",
      "NAME_INCOME_TYPE: ['Working' 'State servant' 'Commercial associate' 'Pensioner' 'Unemployed'\n",
      " 'Student' 'Businessman' 'Maternity leave']\n",
      "NAME_EDUCATION_TYPE: ['Secondary / secondary special' 'Higher education' 'Incomplete higher'\n",
      " 'Lower secondary' 'Academic degree']\n",
      "NAME_FAMILY_STATUS: ['Single / not married' 'Married' 'Civil marriage' 'Widow' 'Separated'\n",
      " 'Unknown']\n",
      "NAME_HOUSING_TYPE: ['House / apartment' 'Rented apartment' 'With parents'\n",
      " 'Municipal apartment' 'Office apartment' 'Co-op apartment']\n",
      "OCCUPATION_TYPE: ['Laborers' 'Core staff' 'Accountants' 'Managers' nan 'Drivers'\n",
      " 'Sales staff' 'Cleaning staff' 'Cooking staff' 'Private service staff'\n",
      " 'Medicine staff' 'Security staff' 'High skill tech staff'\n",
      " 'Waiters/barmen staff' 'Low-skill Laborers' 'Realty agents' 'Secretaries'\n",
      " 'IT staff' 'HR staff']\n",
      "WEEKDAY_APPR_PROCESS_START: ['WEDNESDAY' 'MONDAY' 'THURSDAY' 'SUNDAY' 'SATURDAY' 'FRIDAY' 'TUESDAY']\n",
      "ORGANIZATION_TYPE: ['Business Entity Type 3' 'School' 'Government' 'Religion' 'Other' 'XNA'\n",
      " 'Electricity' 'Medicine' 'Business Entity Type 2' 'Self-employed'\n",
      " 'Transport: type 2' 'Construction' 'Housing' 'Kindergarten'\n",
      " 'Trade: type 7' 'Industry: type 11' 'Military' 'Services'\n",
      " 'Security Ministries' 'Transport: type 4' 'Industry: type 1' 'Emergency'\n",
      " 'Security' 'Trade: type 2' 'University' 'Transport: type 3' 'Police'\n",
      " 'Business Entity Type 1' 'Postal' 'Industry: type 4' 'Agriculture'\n",
      " 'Restaurant' 'Culture' 'Hotel' 'Industry: type 7' 'Trade: type 3'\n",
      " 'Industry: type 3' 'Bank' 'Industry: type 9' 'Insurance' 'Trade: type 6'\n",
      " 'Industry: type 2' 'Transport: type 1' 'Industry: type 12' 'Mobile'\n",
      " 'Trade: type 1' 'Industry: type 5' 'Industry: type 10' 'Legal Services'\n",
      " 'Advertising' 'Trade: type 5' 'Cleaning' 'Industry: type 13'\n",
      " 'Trade: type 4' 'Telecom' 'Industry: type 8' 'Realtor' 'Industry: type 6']\n",
      "FONDKAPREMONT_MODE: ['reg oper account' nan 'org spec account' 'reg oper spec account'\n",
      " 'not specified']\n",
      "HOUSETYPE_MODE: ['block of flats' nan 'terraced house' 'specific housing']\n",
      "WALLSMATERIAL_MODE: ['Stone, brick' 'Block' nan 'Panel' 'Mixed' 'Wooden' 'Others' 'Monolithic']\n",
      "EMERGENCYSTATE_MODE: ['No' nan 'Yes']\n",
      "CREDIT_ACTIVE: ['Closed' 'Active' 'Sold' 'Bad debt']\n",
      "CREDIT_CURRENCY: ['currency 1' 'currency 2' 'currency 4' 'currency 3']\n",
      "CREDIT_TYPE: ['Consumer credit' 'Credit card' 'Mortgage' 'Car loan' 'Microloan'\n",
      " 'Loan for working capital replenishment' 'Loan for business development'\n",
      " 'Real estate loan' 'Unknown type of loan' 'Another type of loan'\n",
      " 'Cash loan (non-earmarked)' 'Loan for the purchase of equipment'\n",
      " 'Mobile operator loan' 'Interbank credit'\n",
      " 'Loan for purchase of shares (margin lending)']\n",
      "STATUS: ['C' '0' 'X' '1' '2' '3' '5' '4']\n",
      "NAME_CONTRACT_STATUS: ['Active' 'Completed' 'Demand' 'Signed' 'Sent proposal' 'Refused'\n",
      " 'Approved']\n",
      "Table: ['application_{train|test}.csv' 'bureau.csv' 'bureau_balance.csv'\n",
      " 'POS_CASH_balance.csv' 'credit_card_balance.csv'\n",
      " 'previous_application.csv' 'installments_payments.csv']\n",
      "Row: ['SK_ID_CURR' 'TARGET' 'NAME_CONTRACT_TYPE' 'CODE_GENDER' 'FLAG_OWN_CAR'\n",
      " 'FLAG_OWN_REALTY' 'CNT_CHILDREN' 'AMT_INCOME_TOTAL' 'AMT_CREDIT'\n",
      " 'AMT_ANNUITY' 'AMT_GOODS_PRICE' 'NAME_TYPE_SUITE' 'NAME_INCOME_TYPE'\n",
      " 'NAME_EDUCATION_TYPE' 'NAME_FAMILY_STATUS' 'NAME_HOUSING_TYPE'\n",
      " 'REGION_POPULATION_RELATIVE' 'DAYS_BIRTH' 'DAYS_EMPLOYED'\n",
      " 'DAYS_REGISTRATION' 'DAYS_ID_PUBLISH' 'OWN_CAR_AGE' 'FLAG_MOBIL'\n",
      " 'FLAG_EMP_PHONE' 'FLAG_WORK_PHONE' 'FLAG_CONT_MOBILE' 'FLAG_PHONE'\n",
      " 'FLAG_EMAIL' 'OCCUPATION_TYPE' 'CNT_FAM_MEMBERS' 'REGION_RATING_CLIENT'\n",
      " 'REGION_RATING_CLIENT_W_CITY' 'WEEKDAY_APPR_PROCESS_START'\n",
      " 'HOUR_APPR_PROCESS_START' 'REG_REGION_NOT_LIVE_REGION'\n",
      " 'REG_REGION_NOT_WORK_REGION' 'LIVE_REGION_NOT_WORK_REGION'\n",
      " 'REG_CITY_NOT_LIVE_CITY' 'REG_CITY_NOT_WORK_CITY'\n",
      " 'LIVE_CITY_NOT_WORK_CITY' 'ORGANIZATION_TYPE' 'EXT_SOURCE_1'\n",
      " 'EXT_SOURCE_2' 'EXT_SOURCE_3' 'APARTMENTS_AVG' 'BASEMENTAREA_AVG'\n",
      " 'YEARS_BEGINEXPLUATATION_AVG' 'YEARS_BUILD_AVG' 'COMMONAREA_AVG'\n",
      " 'ELEVATORS_AVG' 'ENTRANCES_AVG' 'FLOORSMAX_AVG' 'FLOORSMIN_AVG'\n",
      " 'LANDAREA_AVG' 'LIVINGAPARTMENTS_AVG' 'LIVINGAREA_AVG'\n",
      " 'NONLIVINGAPARTMENTS_AVG' 'NONLIVINGAREA_AVG' 'APARTMENTS_MODE'\n",
      " 'BASEMENTAREA_MODE' 'YEARS_BEGINEXPLUATATION_MODE' 'YEARS_BUILD_MODE'\n",
      " 'COMMONAREA_MODE' 'ELEVATORS_MODE' 'ENTRANCES_MODE' 'FLOORSMAX_MODE'\n",
      " 'FLOORSMIN_MODE' 'LANDAREA_MODE' 'LIVINGAPARTMENTS_MODE'\n",
      " 'LIVINGAREA_MODE' 'NONLIVINGAPARTMENTS_MODE' 'NONLIVINGAREA_MODE'\n",
      " 'APARTMENTS_MEDI' 'BASEMENTAREA_MEDI' 'YEARS_BEGINEXPLUATATION_MEDI'\n",
      " 'YEARS_BUILD_MEDI' 'COMMONAREA_MEDI' 'ELEVATORS_MEDI' 'ENTRANCES_MEDI'\n",
      " 'FLOORSMAX_MEDI' 'FLOORSMIN_MEDI' 'LANDAREA_MEDI' 'LIVINGAPARTMENTS_MEDI'\n",
      " 'LIVINGAREA_MEDI' 'NONLIVINGAPARTMENTS_MEDI' 'NONLIVINGAREA_MEDI'\n",
      " 'FONDKAPREMONT_MODE' 'HOUSETYPE_MODE' 'TOTALAREA_MODE'\n",
      " 'WALLSMATERIAL_MODE' 'EMERGENCYSTATE_MODE' 'OBS_30_CNT_SOCIAL_CIRCLE'\n",
      " 'DEF_30_CNT_SOCIAL_CIRCLE' 'OBS_60_CNT_SOCIAL_CIRCLE'\n",
      " 'DEF_60_CNT_SOCIAL_CIRCLE' 'DAYS_LAST_PHONE_CHANGE' 'FLAG_DOCUMENT_2'\n",
      " 'FLAG_DOCUMENT_3' 'FLAG_DOCUMENT_4' 'FLAG_DOCUMENT_5' 'FLAG_DOCUMENT_6'\n",
      " 'FLAG_DOCUMENT_7' 'FLAG_DOCUMENT_8' 'FLAG_DOCUMENT_9' 'FLAG_DOCUMENT_10'\n",
      " 'FLAG_DOCUMENT_11' 'FLAG_DOCUMENT_12' 'FLAG_DOCUMENT_13'\n",
      " 'FLAG_DOCUMENT_14' 'FLAG_DOCUMENT_15' 'FLAG_DOCUMENT_16'\n",
      " 'FLAG_DOCUMENT_17' 'FLAG_DOCUMENT_18' 'FLAG_DOCUMENT_19'\n",
      " 'FLAG_DOCUMENT_20' 'FLAG_DOCUMENT_21' 'AMT_REQ_CREDIT_BUREAU_HOUR'\n",
      " 'AMT_REQ_CREDIT_BUREAU_DAY' 'AMT_REQ_CREDIT_BUREAU_WEEK'\n",
      " 'AMT_REQ_CREDIT_BUREAU_MON' 'AMT_REQ_CREDIT_BUREAU_QRT'\n",
      " 'AMT_REQ_CREDIT_BUREAU_YEAR' 'SK_BUREAU_ID' 'CREDIT_ACTIVE'\n",
      " 'CREDIT_CURRENCY' 'DAYS_CREDIT' 'CREDIT_DAY_OVERDUE'\n",
      " 'DAYS_CREDIT_ENDDATE' 'DAYS_ENDDATE_FACT' 'AMT_CREDIT_MAX_OVERDUE'\n",
      " 'CNT_CREDIT_PROLONG' 'AMT_CREDIT_SUM' 'AMT_CREDIT_SUM_DEBT'\n",
      " 'AMT_CREDIT_SUM_LIMIT' 'AMT_CREDIT_SUM_OVERDUE' 'CREDIT_TYPE'\n",
      " 'DAYS_CREDIT_UPDATE' 'MONTHS_BALANCE' 'STATUS' 'SK_ID_PREV '\n",
      " 'CNT_INSTALMENT' 'CNT_INSTALMENT_FUTURE' 'NAME_CONTRACT_STATUS' 'SK_DPD'\n",
      " 'SK_DPD_DEF' 'AMT_BALANCE' 'AMT_CREDIT_LIMIT_ACTUAL'\n",
      " 'AMT_DRAWINGS_ATM_CURRENT' 'AMT_DRAWINGS_CURRENT'\n",
      " 'AMT_DRAWINGS_OTHER_CURRENT' 'AMT_DRAWINGS_POS_CURRENT'\n",
      " 'AMT_INST_MIN_REGULARITY' 'AMT_PAYMENT_CURRENT'\n",
      " 'AMT_PAYMENT_TOTAL_CURRENT' 'AMT_RECEIVABLE_PRINCIPAL' 'AMT_RECIVABLE'\n",
      " 'AMT_TOTAL_RECEIVABLE' 'CNT_DRAWINGS_ATM_CURRENT' 'CNT_DRAWINGS_CURRENT'\n",
      " 'CNT_DRAWINGS_OTHER_CURRENT' 'CNT_DRAWINGS_POS_CURRENT'\n",
      " 'CNT_INSTALMENT_MATURE_CUM' 'AMT_APPLICATION' 'AMT_DOWN_PAYMENT'\n",
      " 'FLAG_LAST_APPL_PER_CONTRACT' 'NFLAG_LAST_APPL_IN_DAY' 'NFLAG_MICRO_CASH'\n",
      " 'RATE_DOWN_PAYMENT' 'RATE_INTEREST_PRIMARY' 'RATE_INTEREST_PRIVILEGED'\n",
      " 'NAME_CASH_LOAN_PURPOSE' 'DAYS_DECISION' 'NAME_PAYMENT_TYPE'\n",
      " 'CODE_REJECT_REASON' 'NAME_CLIENT_TYPE' 'NAME_GOODS_CATEGORY'\n",
      " 'NAME_PORTFOLIO' 'NAME_PRODUCT_TYPE' 'CHANNEL_TYPE' 'SELLERPLACE_AREA'\n",
      " 'NAME_SELLER_INDUSTRY' 'CNT_PAYMENT' 'NAME_YIELD_GROUP'\n",
      " 'PRODUCT_COMBINATION' 'DAYS_FIRST_DRAWING' 'DAYS_FIRST_DUE'\n",
      " 'DAYS_LAST_DUE_1ST_VERSION' 'DAYS_LAST_DUE' 'DAYS_TERMINATION'\n",
      " 'NFLAG_INSURED_ON_APPROVAL' 'NUM_INSTALMENT_VERSION'\n",
      " 'NUM_INSTALMENT_NUMBER' 'DAYS_INSTALMENT' 'DAYS_ENTRY_PAYMENT'\n",
      " 'AMT_INSTALMENT' 'AMT_PAYMENT']\n",
      "Description: ['ID of loan in our sample'\n",
      " 'Target variable (1 - client with payment difficulties: he/she had late payment more than X days on at least one of the first Y installments of the loan in our sample, 0 - all other cases)'\n",
      " 'Identification if loan is cash or revolving' 'Gender of the client'\n",
      " 'Flag if the client owns a car' 'Flag if client owns a house or flat'\n",
      " 'Number of children the client has' 'Income of the client'\n",
      " 'Credit amount of the loan' 'Loan annuity'\n",
      " 'For consumer loans it is the price of the goods for which the loan is given'\n",
      " 'Who was accompanying client when he was applying for the loan'\n",
      " 'Clients income type (businessman, working, maternity leave,\\x85)'\n",
      " 'Level of highest education the client achieved'\n",
      " 'Family status of the client'\n",
      " 'What is the housing situation of the client (renting, living with parents, ...)'\n",
      " 'Normalized population of region where client lives (higher number means the client lives in more populated region)'\n",
      " \"Client's age in days at the time of application\"\n",
      " 'How many days before the application the person started current employment'\n",
      " 'How many days before the application did client change his registration'\n",
      " 'How many days before the application did client change the identity document with which he applied for the loan'\n",
      " \"Age of client's car\" 'Did client provide mobile phone (1=YES, 0=NO)'\n",
      " 'Did client provide work phone (1=YES, 0=NO)'\n",
      " 'Did client provide home phone (1=YES, 0=NO)'\n",
      " 'Was mobile phone reachable (1=YES, 0=NO)'\n",
      " 'Did client provide email (1=YES, 0=NO)'\n",
      " 'What kind of occupation does the client have'\n",
      " 'How many family members does client have'\n",
      " 'Our rating of the region where client lives (1,2,3)'\n",
      " 'Our rating of the region where client lives with taking city into account (1,2,3)'\n",
      " 'On which day of the week did the client apply for the loan'\n",
      " 'Approximately at what hour did the client apply for the loan'\n",
      " \"Flag if client's permanent address does not match contact address (1=different, 0=same, at region level)\"\n",
      " \"Flag if client's permanent address does not match work address (1=different, 0=same, at region level)\"\n",
      " \"Flag if client's contact address does not match work address (1=different, 0=same, at region level)\"\n",
      " \"Flag if client's permanent address does not match contact address (1=different, 0=same, at city level)\"\n",
      " \"Flag if client's permanent address does not match work address (1=different, 0=same, at city level)\"\n",
      " \"Flag if client's contact address does not match work address (1=different, 0=same, at city level)\"\n",
      " 'Type of organization where client works'\n",
      " 'Normalized score from external data source'\n",
      " 'Normalized information about building where the client lives, What is average (_AVG suffix), modus (_MODE suffix), median (_MEDI suffix) apartment size, common area, living area, age of building, number of elevators, number of entrances, state of the building, number of floor'\n",
      " \"How many observation of client's social surroundings with observable 30 DPD (days past due) default\"\n",
      " \"How many observation of client's social surroundings defaulted on 30 DPD (days past due) \"\n",
      " \"How many observation of client's social surroundings with observable 60 DPD (days past due) default\"\n",
      " \"How many observation of client's social surroundings defaulted on 60 (days past due) DPD\"\n",
      " 'How many days before application did client change phone'\n",
      " 'Did client provide document 2' 'Did client provide document 3'\n",
      " 'Did client provide document 4' 'Did client provide document 5'\n",
      " 'Did client provide document 6' 'Did client provide document 7'\n",
      " 'Did client provide document 8' 'Did client provide document 9'\n",
      " 'Did client provide document 10' 'Did client provide document 11'\n",
      " 'Did client provide document 12' 'Did client provide document 13'\n",
      " 'Did client provide document 14' 'Did client provide document 15'\n",
      " 'Did client provide document 16' 'Did client provide document 17'\n",
      " 'Did client provide document 18' 'Did client provide document 19'\n",
      " 'Did client provide document 20' 'Did client provide document 21'\n",
      " 'Number of enquiries to Credit Bureau about the client one hour before application'\n",
      " 'Number of enquiries to Credit Bureau about the client one day before application (excluding one hour before application)'\n",
      " 'Number of enquiries to Credit Bureau about the client one week before application (excluding one day before application)'\n",
      " 'Number of enquiries to Credit Bureau about the client one month before application (excluding one week before application)'\n",
      " 'Number of enquiries to Credit Bureau about the client 3 month before application (excluding one month before application)'\n",
      " 'Number of enquiries to Credit Bureau about the client one day year (excluding last 3 months before application)'\n",
      " 'ID of loan in our sample - one loan in our sample can have 0,1,2 or more related previous credits in credit bureau '\n",
      " 'Recoded ID of previous Credit Bureau credit related to our loan (unique coding for each loan application)'\n",
      " 'Status of the Credit Bureau (CB) reported credits'\n",
      " 'Recoded currency of the Credit Bureau credit'\n",
      " 'How many days before current application did client apply for Credit Bureau credit'\n",
      " 'Number of days past due on CB credit at the time of application for related loan in our sample'\n",
      " 'Remaining duration of CB credit (in days) at the time of application in Home Credit'\n",
      " 'Days since CB credit ended at the time of application in Home Credit (only for closed credit)'\n",
      " 'Maximal amount overdue on the Credit Bureau credit so far (at application date of loan in our sample)'\n",
      " 'How many times was the Credit Bureau credit prolonged'\n",
      " 'Current credit amount for the Credit Bureau credit'\n",
      " 'Current debt on Credit Bureau credit'\n",
      " 'Current credit limit of credit card reported in Credit Bureau'\n",
      " 'Current amount overdue on Credit Bureau credit'\n",
      " 'Type of Credit Bureau credit (Car, cash,...)'\n",
      " 'How many days before loan application did last information about the Credit Bureau credit come'\n",
      " 'Annuity of the Credit Bureau credit'\n",
      " 'Recoded ID of Credit Bureau credit (unique coding for each application) - use this to join to CREDIT_BUREAU table '\n",
      " 'Month of balance relative to application date (-1 means the freshest balance date)'\n",
      " 'Status of Credit Bureau loan during the month (active, closed, DPD0-30,\\x85 [C means closed, X means status unknown, 0 means no DPD, 1 means maximal did during month between 1-30, 2 means DPD 31-60,\\x85 5 means DPD 120+ or sold or written off ] )'\n",
      " 'ID of previous credit in Home Credit related to loan in our sample. (One loan in our sample can have 0,1,2 or more previous loans in Home Credit)'\n",
      " 'Month of balance relative to application date (-1 means the information to the freshest monthly snapshot, 0 means the information at application - often it will be the same as -1 as many banks are not updating the information to Credit Bureau regularly )'\n",
      " 'Term of previous credit (can change over time)'\n",
      " 'Installments left to pay on the previous credit'\n",
      " 'Contract status during the month'\n",
      " 'DPD (days past due) during the month of previous credit'\n",
      " 'DPD during the month with tolerance (debts with low loan amounts are ignored) of the previous credit'\n",
      " 'ID of previous credit in Home credit related to loan in our sample. (One loan in our sample can have 0,1,2 or more previous loans in Home Credit)'\n",
      " 'Balance during the month of previous credit'\n",
      " 'Credit card limit during the month of the previous credit'\n",
      " 'Amount drawing at ATM during the month of the previous credit'\n",
      " 'Amount drawing during the month of the previous credit'\n",
      " 'Amount of other drawings during the month of the previous credit'\n",
      " 'Amount drawing or buying goods during the month of the previous credit'\n",
      " 'Minimal installment for this month of the previous credit'\n",
      " 'How much did the client pay during the month on the previous credit'\n",
      " 'How much did the client pay during the month in total on the previous credit'\n",
      " 'Amount receivable for principal on the previous credit'\n",
      " 'Amount receivable on the previous credit'\n",
      " 'Total amount receivable on the previous credit'\n",
      " 'Number of drawings at ATM during this month on the previous credit'\n",
      " 'Number of drawings during this month on the previous credit'\n",
      " 'Number of other drawings during this month on the previous credit'\n",
      " 'Number of drawings for goods during this month on the previous credit'\n",
      " 'Number of paid installments on the previous credit'\n",
      " 'Contract status (active signed,...) on the previous credit'\n",
      " 'DPD (Days past due) during the month on the previous credit'\n",
      " 'DPD (Days past due) during the month with tolerance (debts with low loan amounts are ignored) of the previous credit'\n",
      " 'ID of previous credit in Home credit related to loan in our sample. (One loan in our sample can have 0,1,2 or more previous loan applications in Home Credit, previous application could, but not necessarily have to lead to credit) '\n",
      " 'Contract product type (Cash loan, consumer loan [POS] ,...) of the previous application'\n",
      " 'Annuity of previous application'\n",
      " 'For how much credit did client ask on the previous application'\n",
      " 'Final credit amount on the previous application. This differs from AMT_APPLICATION in a way that the AMT_APPLICATION is the amount for which the client initially applied for, but during our approval process he could have received different amount - AMT_CREDIT'\n",
      " 'Down payment on the previous application'\n",
      " 'Goods price of good that client asked for (if applicable) on the previous application'\n",
      " 'On which day of the week did the client apply for previous application'\n",
      " 'Approximately at what day hour did the client apply for the previous application'\n",
      " 'Flag if it was last application for the previous contract. Sometimes by mistake of client or our clerk there could be more applications for one single contract'\n",
      " 'Flag if the application was the last application per day of the client. Sometimes clients apply for more applications a day. Rarely it could also be error in our system that one application is in the database twice'\n",
      " 'Flag Micro finance loan'\n",
      " 'Down payment rate normalized on previous credit'\n",
      " 'Interest rate normalized on previous credit' 'Purpose of the cash loan'\n",
      " 'Contract status (approved, cancelled, ...) of previous application'\n",
      " 'Relative to current application when was the decision about previous application made'\n",
      " 'Payment method that client chose to pay for the previous application'\n",
      " 'Why was the previous application rejected'\n",
      " 'Who accompanied client when applying for the previous application'\n",
      " 'Was the client old or new client when applying for the previous application'\n",
      " 'What kind of goods did the client apply for in the previous application'\n",
      " 'Was the previous application for CASH, POS, CAR, \\x85'\n",
      " 'Was the previous application x-sell o walk-in'\n",
      " 'Through which channel we acquired the client on the previous application'\n",
      " 'Selling area of seller place of the previous application'\n",
      " 'The industry of the seller'\n",
      " 'Term of previous credit at application of the previous application'\n",
      " 'Grouped interest rate into small medium and high of the previous application'\n",
      " 'Detailed product combination of the previous application'\n",
      " 'Relative to application date of current application when was the first disbursement of the previous application'\n",
      " 'Relative to application date of current application when was the first due supposed to be of the previous application'\n",
      " 'Relative to application date of current application when was the first due of the previous application'\n",
      " 'Relative to application date of current application when was the last due date of the previous application'\n",
      " 'Relative to application date of current application when was the expected termination of the previous application'\n",
      " 'Did the client requested insurance during the previous application'\n",
      " 'Version of installment calendar (0 is for credit card) of previous credit. Change of installment version from month to month signifies that some parameter of payment calendar has changed'\n",
      " 'On which installment we observe payment'\n",
      " 'When the installment of previous credit was supposed to be paid (relative to application date of current loan)'\n",
      " 'When was the installments of previous credit paid actually (relative to application date of current loan)'\n",
      " 'What was the prescribed installment amount of previous credit on this installment'\n",
      " 'What the client actually paid on previous credit on this installment']\n",
      "Special: [nan 'normalized ' 'time only relative to the application' 'rounded'\n",
      " 'normalized' 'hashed' 'recoded' 'grouped']\n"
     ]
    },
    {
     "name": "stdout",
     "output_type": "stream",
     "text": [
      "NAME_CONTRACT_STATUS: ['Active' 'Completed' 'Signed' 'Approved' 'Returned to the store' 'Demand'\n",
      " 'Canceled' 'XNA' 'Amortized debt']\n",
      "NAME_CONTRACT_TYPE: ['Consumer loans' 'Cash loans' 'Revolving loans' 'XNA']\n",
      "WEEKDAY_APPR_PROCESS_START: ['SATURDAY' 'THURSDAY' 'TUESDAY' 'MONDAY' 'FRIDAY' 'SUNDAY' 'WEDNESDAY']\n",
      "FLAG_LAST_APPL_PER_CONTRACT: ['Y' 'N']\n",
      "NAME_CASH_LOAN_PURPOSE: ['XAP' 'XNA' 'Repairs' 'Everyday expenses' 'Car repairs'\n",
      " 'Building a house or an annex' 'Other' 'Journey'\n",
      " 'Purchase of electronic equipment' 'Medicine' 'Payments on other loans'\n",
      " 'Urgent needs' 'Buying a used car' 'Buying a new car'\n",
      " 'Buying a holiday home / land' 'Education' 'Buying a home' 'Furniture'\n",
      " 'Buying a garage' 'Business development' 'Wedding / gift / holiday'\n",
      " 'Hobby' 'Gasification / water supply' 'Refusal to name the goal'\n",
      " 'Money for a third person']\n",
      "NAME_CONTRACT_STATUS: ['Approved' 'Refused' 'Canceled' 'Unused offer']\n",
      "NAME_PAYMENT_TYPE: ['Cash through the bank' 'XNA' 'Non-cash from your account'\n",
      " 'Cashless from the account of the employer']\n",
      "CODE_REJECT_REASON: ['XAP' 'HC' 'LIMIT' 'CLIENT' 'SCOFR' 'SCO' 'XNA' 'VERIF' 'SYSTEM']\n",
      "NAME_TYPE_SUITE: [nan 'Unaccompanied' 'Spouse, partner' 'Family' 'Children' 'Other_B'\n",
      " 'Other_A' 'Group of people']\n",
      "NAME_CLIENT_TYPE: ['Repeater' 'New' 'Refreshed' 'XNA']\n",
      "NAME_GOODS_CATEGORY: ['Mobile' 'XNA' 'Consumer Electronics' 'Construction Materials'\n",
      " 'Auto Accessories' 'Photo / Cinema Equipment' 'Computers' 'Audio/Video'\n",
      " 'Medicine' 'Clothing and Accessories' 'Furniture' 'Sport and Leisure'\n",
      " 'Homewares' 'Gardening' 'Jewelry' 'Vehicles' 'Education'\n",
      " 'Medical Supplies' 'Other' 'Direct Sales' 'Office Appliances' 'Fitness'\n",
      " 'Tourism' 'Insurance' 'Additional Service' 'Weapon' 'Animals'\n",
      " 'House Construction']\n",
      "NAME_PORTFOLIO: ['POS' 'Cash' 'XNA' 'Cards' 'Cars']\n",
      "NAME_PRODUCT_TYPE: ['XNA' 'x-sell' 'walk-in']\n",
      "CHANNEL_TYPE: ['Country-wide' 'Contact center' 'Credit and cash offices' 'Stone'\n",
      " 'Regional / Local' 'AP+ (Cash loan)' 'Channel of corporate sales'\n",
      " 'Car dealer']\n",
      "NAME_SELLER_INDUSTRY: ['Connectivity' 'XNA' 'Consumer electronics' 'Industry' 'Clothing'\n",
      " 'Furniture' 'Construction' 'Jewelry' 'Auto technology' 'MLM partners'\n",
      " 'Tourism']\n",
      "NAME_YIELD_GROUP: ['middle' 'low_action' 'high' 'low_normal' 'XNA']\n",
      "PRODUCT_COMBINATION: ['POS mobile with interest' 'Cash X-Sell: low' 'Cash X-Sell: high'\n",
      " 'Cash X-Sell: middle' 'Cash Street: high' 'Cash'\n",
      " 'POS household without interest' 'POS household with interest'\n",
      " 'POS other with interest' 'Card X-Sell' 'POS mobile without interest'\n",
      " 'Card Street' 'POS industry with interest' 'Cash Street: low'\n",
      " 'POS industry without interest' 'Cash Street: middle'\n",
      " 'POS others without interest' nan]\n"
     ]
    }
   ],
   "source": [
    "# Get the unique values in each categorical column\n",
    "def get_unique_values(data):\n",
    "    unique_values = {}\n",
    "    for column in data.select_dtypes(include='object'):\n",
    "        unique_values[column] = data[column].unique()\n",
    "\n",
    "    for column, values in unique_values.items():\n",
    "        print(f\"{column}: {values}\")\n",
    "\n",
    "        \n",
    "# Example usage with multiple DataFrames        \n",
    "get_unique_values(applicationtestDF)\n",
    "get_unique_values(applicationtrainDF)\n",
    "get_unique_values(bureauDF)\n",
    "get_unique_values(bureaubalanceDF)\n",
    "get_unique_values(creditcardbalanceDF)\n",
    "get_unique_values(HomeCreditDescriptionsDF)\n",
    "get_unique_values(installmentpaymentsDF)\n",
    "get_unique_values(poscashDF)\n",
    "get_unique_values(previousDF)\n"
   ]
  },
  {
   "cell_type": "markdown",
   "id": "8b945ebd",
   "metadata": {},
   "source": [
    "# Discussion of Missing Data"
   ]
  },
  {
   "cell_type": "markdown",
   "id": "65b20f99",
   "metadata": {},
   "source": [
    "Both the application.train dataset and application.test dataset contain missing values. Deciding whether to remove the rows that contain missing values, excluding certain variables, or imputing the missing values can potentionally have a high impact on our model's ability to predict our target variable accurately.  "
   ]
  },
  {
   "cell_type": "markdown",
   "id": "257a49ff",
   "metadata": {},
   "source": [
    "#### Re-examining the shape of the test and training set"
   ]
  },
  {
   "cell_type": "code",
   "execution_count": 91,
   "id": "701b76ea",
   "metadata": {},
   "outputs": [
    {
     "name": "stdout",
     "output_type": "stream",
     "text": [
      "(307511, 122)\n",
      "(48744, 121)\n"
     ]
    }
   ],
   "source": [
    "#Shape of the train and test set\n",
    "\n",
    "#training set\n",
    "num_rows_train = applicationtrainDF.shape\n",
    "print(num_rows_train)\n",
    "\n",
    "#test set\n",
    "num_rows_test = applicationtestDF.shape\n",
    "print(num_rows_test)"
   ]
  },
  {
   "cell_type": "markdown",
   "id": "ee09c058",
   "metadata": {},
   "source": [
    "There are 50 variables in both data sets where 40% or more of their values are null. Nearly all of those variables involve a applicant's information about their living accomodations. "
   ]
  },
  {
   "cell_type": "markdown",
   "id": "13435cb5",
   "metadata": {},
   "source": [
    "#### Evaluating the missing data from the dataframes"
   ]
  },
  {
   "cell_type": "code",
   "execution_count": 92,
   "id": "10e7ee6c",
   "metadata": {},
   "outputs": [
    {
     "name": "stdout",
     "output_type": "stream",
     "text": [
      "                              Missing Count  Percentage\n",
      "COMMONAREA_MEDI                      214865   69.872297\n",
      "COMMONAREA_AVG                       214865   69.872297\n",
      "COMMONAREA_MODE                      214865   69.872297\n",
      "NONLIVINGAPARTMENTS_MEDI             213514   69.432963\n",
      "NONLIVINGAPARTMENTS_MODE             213514   69.432963\n",
      "NONLIVINGAPARTMENTS_AVG              213514   69.432963\n",
      "FONDKAPREMONT_MODE                   210295   68.386172\n",
      "LIVINGAPARTMENTS_MODE                210199   68.354953\n",
      "LIVINGAPARTMENTS_MEDI                210199   68.354953\n",
      "LIVINGAPARTMENTS_AVG                 210199   68.354953\n",
      "FLOORSMIN_MODE                       208642   67.848630\n",
      "FLOORSMIN_MEDI                       208642   67.848630\n",
      "FLOORSMIN_AVG                        208642   67.848630\n",
      "YEARS_BUILD_MODE                     204488   66.497784\n",
      "YEARS_BUILD_MEDI                     204488   66.497784\n",
      "YEARS_BUILD_AVG                      204488   66.497784\n",
      "OWN_CAR_AGE                          202929   65.990810\n",
      "LANDAREA_AVG                         182590   59.376738\n",
      "LANDAREA_MEDI                        182590   59.376738\n",
      "LANDAREA_MODE                        182590   59.376738\n",
      "BASEMENTAREA_MEDI                    179943   58.515956\n",
      "BASEMENTAREA_AVG                     179943   58.515956\n",
      "BASEMENTAREA_MODE                    179943   58.515956\n",
      "EXT_SOURCE_1                         173378   56.381073\n",
      "NONLIVINGAREA_MEDI                   169682   55.179164\n",
      "NONLIVINGAREA_MODE                   169682   55.179164\n",
      "NONLIVINGAREA_AVG                    169682   55.179164\n",
      "ELEVATORS_MEDI                       163891   53.295980\n",
      "ELEVATORS_MODE                       163891   53.295980\n",
      "ELEVATORS_AVG                        163891   53.295980\n",
      "WALLSMATERIAL_MODE                   156341   50.840783\n",
      "APARTMENTS_MODE                      156061   50.749729\n",
      "APARTMENTS_MEDI                      156061   50.749729\n",
      "APARTMENTS_AVG                       156061   50.749729\n",
      "ENTRANCES_MODE                       154828   50.348768\n",
      "ENTRANCES_AVG                        154828   50.348768\n",
      "ENTRANCES_MEDI                       154828   50.348768\n",
      "LIVINGAREA_MEDI                      154350   50.193326\n",
      "LIVINGAREA_MODE                      154350   50.193326\n",
      "LIVINGAREA_AVG                       154350   50.193326\n",
      "HOUSETYPE_MODE                       154297   50.176091\n",
      "FLOORSMAX_MEDI                       153020   49.760822\n",
      "FLOORSMAX_AVG                        153020   49.760822\n",
      "FLOORSMAX_MODE                       153020   49.760822\n",
      "YEARS_BEGINEXPLUATATION_AVG          150007   48.781019\n",
      "YEARS_BEGINEXPLUATATION_MEDI         150007   48.781019\n",
      "YEARS_BEGINEXPLUATATION_MODE         150007   48.781019\n",
      "TOTALAREA_MODE                       148431   48.268517\n",
      "EMERGENCYSTATE_MODE                  145755   47.398304\n",
      "OCCUPATION_TYPE                       96391   31.345545\n",
      "EXT_SOURCE_3                          60965   19.825307\n",
      "AMT_REQ_CREDIT_BUREAU_WEEK            41519   13.501631\n",
      "AMT_REQ_CREDIT_BUREAU_DAY             41519   13.501631\n",
      "AMT_REQ_CREDIT_BUREAU_MON             41519   13.501631\n",
      "AMT_REQ_CREDIT_BUREAU_QRT             41519   13.501631\n",
      "AMT_REQ_CREDIT_BUREAU_HOUR            41519   13.501631\n",
      "AMT_REQ_CREDIT_BUREAU_YEAR            41519   13.501631\n",
      "NAME_TYPE_SUITE                        1292    0.420148\n",
      "DEF_30_CNT_SOCIAL_CIRCLE               1021    0.332021\n",
      "OBS_60_CNT_SOCIAL_CIRCLE               1021    0.332021\n",
      "DEF_60_CNT_SOCIAL_CIRCLE               1021    0.332021\n",
      "OBS_30_CNT_SOCIAL_CIRCLE               1021    0.332021\n",
      "EXT_SOURCE_2                            660    0.214626\n",
      "AMT_GOODS_PRICE                         278    0.090403\n",
      "AMT_ANNUITY                              12    0.003902\n",
      "CNT_FAM_MEMBERS                           2    0.000650\n",
      "DAYS_LAST_PHONE_CHANGE                    1    0.000325\n"
     ]
    }
   ],
   "source": [
    "#Missing count and percentage of each column in training set\n",
    "\n",
    "#Check for null and provide a count of the total \n",
    "missing_train = applicationtrainDF.isnull().sum()\n",
    "\n",
    "#Filter for any columns that have greater than 0 null values\n",
    "missing_train = missing_train[missing_train > 0]\n",
    "\n",
    "#Sort the column in descending order based on count\n",
    "missing_train = missing_train.sort_values(ascending=False)\n",
    "\n",
    "#Provide a percentage of missing values in each column\n",
    "percent_missing_train = (missing_train / len(applicationtrainDF)) * 100\n",
    "\n",
    "#Create a data frame that includes the missing count and percentages\n",
    "missing_data_train = pd.DataFrame({'Missing Count': missing_train, 'Percentage': percent_missing_train})\n",
    "\n",
    "#Display all the columns based on the above criteria\n",
    "with pd.option_context('display.max_rows', None):\n",
    "    print(missing_data_train)"
   ]
  },
  {
   "cell_type": "code",
   "execution_count": 93,
   "id": "1bf83ba5",
   "metadata": {},
   "outputs": [
    {
     "name": "stdout",
     "output_type": "stream",
     "text": [
      "                              Missing Count  Percentage\n",
      "COMMONAREA_MODE                       33495   68.716150\n",
      "COMMONAREA_MEDI                       33495   68.716150\n",
      "COMMONAREA_AVG                        33495   68.716150\n",
      "NONLIVINGAPARTMENTS_MEDI              33347   68.412523\n",
      "NONLIVINGAPARTMENTS_AVG               33347   68.412523\n",
      "NONLIVINGAPARTMENTS_MODE              33347   68.412523\n",
      "FONDKAPREMONT_MODE                    32797   67.284179\n",
      "LIVINGAPARTMENTS_MODE                 32780   67.249302\n",
      "LIVINGAPARTMENTS_MEDI                 32780   67.249302\n",
      "LIVINGAPARTMENTS_AVG                  32780   67.249302\n",
      "FLOORSMIN_MEDI                        32466   66.605121\n",
      "FLOORSMIN_MODE                        32466   66.605121\n",
      "FLOORSMIN_AVG                         32466   66.605121\n",
      "OWN_CAR_AGE                           32312   66.289184\n",
      "YEARS_BUILD_AVG                       31818   65.275726\n",
      "YEARS_BUILD_MEDI                      31818   65.275726\n",
      "YEARS_BUILD_MODE                      31818   65.275726\n",
      "LANDAREA_MODE                         28254   57.964057\n",
      "LANDAREA_AVG                          28254   57.964057\n",
      "LANDAREA_MEDI                         28254   57.964057\n",
      "BASEMENTAREA_MEDI                     27641   56.706466\n",
      "BASEMENTAREA_AVG                      27641   56.706466\n",
      "BASEMENTAREA_MODE                     27641   56.706466\n",
      "NONLIVINGAREA_MEDI                    26084   53.512227\n",
      "NONLIVINGAREA_MODE                    26084   53.512227\n",
      "NONLIVINGAREA_AVG                     26084   53.512227\n",
      "ELEVATORS_MEDI                        25189   51.676104\n",
      "ELEVATORS_MODE                        25189   51.676104\n",
      "ELEVATORS_AVG                         25189   51.676104\n",
      "WALLSMATERIAL_MODE                    23893   49.017315\n",
      "APARTMENTS_MODE                       23887   49.005006\n",
      "APARTMENTS_MEDI                       23887   49.005006\n",
      "APARTMENTS_AVG                        23887   49.005006\n",
      "HOUSETYPE_MODE                        23619   48.455194\n",
      "ENTRANCES_MODE                        23579   48.373133\n",
      "ENTRANCES_MEDI                        23579   48.373133\n",
      "ENTRANCES_AVG                         23579   48.373133\n",
      "LIVINGAREA_AVG                        23552   48.317742\n",
      "LIVINGAREA_MEDI                       23552   48.317742\n",
      "LIVINGAREA_MODE                       23552   48.317742\n",
      "FLOORSMAX_MEDI                        23321   47.843837\n",
      "FLOORSMAX_MODE                        23321   47.843837\n",
      "FLOORSMAX_AVG                         23321   47.843837\n",
      "YEARS_BEGINEXPLUATATION_MEDI          22856   46.889874\n",
      "YEARS_BEGINEXPLUATATION_MODE          22856   46.889874\n",
      "YEARS_BEGINEXPLUATATION_AVG           22856   46.889874\n",
      "TOTALAREA_MODE                        22624   46.413918\n",
      "EMERGENCYSTATE_MODE                   22209   45.562531\n",
      "EXT_SOURCE_1                          20532   42.122107\n",
      "OCCUPATION_TYPE                       15605   32.014197\n",
      "EXT_SOURCE_3                           8668   17.782701\n",
      "AMT_REQ_CREDIT_BUREAU_MON              6049   12.409732\n",
      "AMT_REQ_CREDIT_BUREAU_HOUR             6049   12.409732\n",
      "AMT_REQ_CREDIT_BUREAU_QRT              6049   12.409732\n",
      "AMT_REQ_CREDIT_BUREAU_WEEK             6049   12.409732\n",
      "AMT_REQ_CREDIT_BUREAU_DAY              6049   12.409732\n",
      "AMT_REQ_CREDIT_BUREAU_YEAR             6049   12.409732\n",
      "NAME_TYPE_SUITE                         911    1.868948\n",
      "DEF_60_CNT_SOCIAL_CIRCLE                 29    0.059495\n",
      "OBS_60_CNT_SOCIAL_CIRCLE                 29    0.059495\n",
      "DEF_30_CNT_SOCIAL_CIRCLE                 29    0.059495\n",
      "OBS_30_CNT_SOCIAL_CIRCLE                 29    0.059495\n",
      "AMT_ANNUITY                              24    0.049237\n",
      "EXT_SOURCE_2                              8    0.016412\n"
     ]
    }
   ],
   "source": [
    "#See how many columns in applicationtestDF have null values\n",
    "\n",
    "#Check for null and provide a count of the total \n",
    "missing_test = applicationtestDF.isnull().sum()\n",
    "\n",
    "#Filter for any columns that have greater than 0 null values\n",
    "missing_test = missing_test[missing_test > 0]\n",
    "\n",
    "#Sort the column in descending order based on count\n",
    "missing_test = missing_test.sort_values(ascending=False)\n",
    "\n",
    "#Provide a percentage of missing values in each column\n",
    "percent_missing_test = (missing_test / len(applicationtestDF)) * 100\n",
    "\n",
    "#Create a data frame that includes the missing count and percentages\n",
    "missing_data_test = pd.DataFrame({'Missing Count': missing_test, 'Percentage': percent_missing_test})\n",
    "\n",
    "#Display all the columns based on the above criteria\n",
    "with pd.option_context('display.max_rows', None):\n",
    "    print(missing_data_test)\n"
   ]
  },
  {
   "cell_type": "markdown",
   "id": "70d2bc8a",
   "metadata": {},
   "source": [
    "The variables that are missing more than 40% of their values have been normalized. Their values range from 0-1. "
   ]
  },
  {
   "cell_type": "markdown",
   "id": "89436f75",
   "metadata": {},
   "source": [
    "#### Filtering missing values and printing summary metrics"
   ]
  },
  {
   "cell_type": "code",
   "execution_count": 17,
   "id": "42ec2f29",
   "metadata": {},
   "outputs": [
    {
     "name": "stdout",
     "output_type": "stream",
     "text": [
      "       COMMONAREA_MEDI  COMMONAREA_AVG  COMMONAREA_MODE  \\\n",
      "count     92646.000000    92646.000000     92646.000000   \n",
      "mean          0.044595        0.044621         0.042553   \n",
      "std           0.076144        0.076036         0.074445   \n",
      "min           0.000000        0.000000         0.000000   \n",
      "25%           0.007900        0.007800         0.007200   \n",
      "50%           0.020800        0.021100         0.019000   \n",
      "75%           0.051300        0.051500         0.049000   \n",
      "max           1.000000        1.000000         1.000000   \n",
      "\n",
      "       NONLIVINGAPARTMENTS_MEDI  NONLIVINGAPARTMENTS_MODE  \\\n",
      "count              93997.000000              93997.000000   \n",
      "mean                   0.008651                  0.008076   \n",
      "std                    0.047415                  0.046276   \n",
      "min                    0.000000                  0.000000   \n",
      "25%                    0.000000                  0.000000   \n",
      "50%                    0.000000                  0.000000   \n",
      "75%                    0.003900                  0.003900   \n",
      "max                    1.000000                  1.000000   \n",
      "\n",
      "       NONLIVINGAPARTMENTS_AVG  LIVINGAPARTMENTS_MODE  LIVINGAPARTMENTS_MEDI  \\\n",
      "count             93997.000000           97312.000000           97312.000000   \n",
      "mean                  0.008809               0.105645               0.101954   \n",
      "std                   0.047732               0.097880               0.093642   \n",
      "min                   0.000000               0.000000               0.000000   \n",
      "25%                   0.000000               0.054200               0.051300   \n",
      "50%                   0.000000               0.077100               0.076100   \n",
      "75%                   0.003900               0.131300               0.123100   \n",
      "max                   1.000000               1.000000               1.000000   \n",
      "\n",
      "       LIVINGAPARTMENTS_AVG  FLOORSMIN_MODE  ...  LIVINGAREA_MEDI  \\\n",
      "count          97312.000000    98869.000000  ...    153161.000000   \n",
      "mean               0.100775        0.228058  ...         0.108607   \n",
      "std                0.092576        0.161160  ...         0.112260   \n",
      "min                0.000000        0.000000  ...         0.000000   \n",
      "25%                0.050400        0.083300  ...         0.045700   \n",
      "50%                0.075600        0.208300  ...         0.074900   \n",
      "75%                0.121000        0.375000  ...         0.130300   \n",
      "max                1.000000        1.000000  ...         1.000000   \n",
      "\n",
      "       LIVINGAREA_MODE  LIVINGAREA_AVG  FLOORSMAX_MEDI  FLOORSMAX_AVG  \\\n",
      "count    153161.000000   153161.000000   154491.000000  154491.000000   \n",
      "mean          0.105975        0.107399        0.225897       0.226282   \n",
      "std           0.111845        0.110565        0.145067       0.144641   \n",
      "min           0.000000        0.000000        0.000000       0.000000   \n",
      "25%           0.042700        0.045300        0.166700       0.166700   \n",
      "50%           0.073100        0.074500        0.166700       0.166700   \n",
      "75%           0.125200        0.129900        0.333300       0.333300   \n",
      "max           1.000000        1.000000        1.000000       1.000000   \n",
      "\n",
      "       FLOORSMAX_MODE  YEARS_BEGINEXPLUATATION_AVG  \\\n",
      "count   154491.000000                157504.000000   \n",
      "mean         0.222315                     0.977735   \n",
      "std          0.143709                     0.059223   \n",
      "min          0.000000                     0.000000   \n",
      "25%          0.166700                     0.976700   \n",
      "50%          0.166700                     0.981600   \n",
      "75%          0.333300                     0.986600   \n",
      "max          1.000000                     1.000000   \n",
      "\n",
      "       YEARS_BEGINEXPLUATATION_MEDI  YEARS_BEGINEXPLUATATION_MODE  \\\n",
      "count                 157504.000000                 157504.000000   \n",
      "mean                       0.977752                      0.977065   \n",
      "std                        0.059897                      0.064575   \n",
      "min                        0.000000                      0.000000   \n",
      "25%                        0.976700                      0.976700   \n",
      "50%                        0.981600                      0.981600   \n",
      "75%                        0.986600                      0.986600   \n",
      "max                        1.000000                      1.000000   \n",
      "\n",
      "       TOTALAREA_MODE  \n",
      "count   159080.000000  \n",
      "mean         0.102547  \n",
      "std          0.107462  \n",
      "min          0.000000  \n",
      "25%          0.041200  \n",
      "50%          0.068800  \n",
      "75%          0.127600  \n",
      "max          1.000000  \n",
      "\n",
      "[8 rows x 45 columns]\n"
     ]
    }
   ],
   "source": [
    "#Summary Metrics of the training set\n",
    "\n",
    "# Filter columns with over 40% null values\n",
    "missingdata_columns = missing_data_train[missing_data_train['Percentage'] > 40].index\n",
    "\n",
    "# Calculate summary metrics for filtered columns\n",
    "summary_metrics = applicationtrainDF[missingdata_columns].describe(include=np.number)\n",
    "\n",
    "#Display summary metrics\n",
    "print(summary_metrics)"
   ]
  },
  {
   "cell_type": "code",
   "execution_count": 18,
   "id": "6cf7555c",
   "metadata": {},
   "outputs": [
    {
     "name": "stdout",
     "output_type": "stream",
     "text": [
      "        COMMONAREA_MEDI  NONLIVINGAPARTMENTS_AVG\n",
      "0                0.0144                   0.0000\n",
      "1                0.0608                   0.0039\n",
      "13               0.0585                   0.0000\n",
      "14               0.1150                   0.0193\n",
      "18               0.0018                   0.0000\n",
      "...                 ...                      ...\n",
      "307495           0.0137                   0.0039\n",
      "307505           0.1441                   0.0154\n",
      "307506           0.0203                   0.0753\n",
      "307507           0.0022                   0.0000\n",
      "307508           0.0124                   0.0000\n",
      "\n",
      "[88507 rows x 2 columns]\n"
     ]
    }
   ],
   "source": [
    "#View 2 of the columns' data from the summary metrics info above\n",
    "\n",
    "#Identify the two columns\n",
    "two_columns = [\"COMMONAREA_MEDI\", \"NONLIVINGAPARTMENTS_AVG\"]\n",
    "\n",
    "#create a dataframe of those columns where the rows do not contain null values\n",
    "two_columns_df = applicationtrainDF[applicationtrainDF[two_columns].notnull().all(axis=1)]\n",
    "\n",
    "#display the dataframe of the two columns\n",
    "print(two_columns_df[two_columns])"
   ]
  },
  {
   "cell_type": "markdown",
   "id": "5c5c1356",
   "metadata": {},
   "source": [
    "As we progress in our model building process, we need to analyze the greater than 40% null value variables and how they interact with the model using a subsample of the training dataset. The sample should contain the rows of these variables that are not null to see if they are statiscally significant to the model. If they are stasticially significant, we can then choose to either impute the data or build our model off only the subsample of the dataset. If we were to use only 30% of the training dataset, we'd still have a sample size of around 92,000. "
   ]
  },
  {
   "cell_type": "code",
   "execution_count": 19,
   "id": "dcfe160b",
   "metadata": {},
   "outputs": [
    {
     "name": "stdout",
     "output_type": "stream",
     "text": [
      "        EXT_SOURCE_3  AMT_REQ_CREDIT_BUREAU_WEEK  AMT_REQ_CREDIT_BUREAU_DAY  \\\n",
      "count  246546.000000               265992.000000              265992.000000   \n",
      "mean        0.510853                    0.034362                   0.007000   \n",
      "std         0.194844                    0.204685                   0.110757   \n",
      "min         0.000527                    0.000000                   0.000000   \n",
      "25%         0.370650                    0.000000                   0.000000   \n",
      "50%         0.535276                    0.000000                   0.000000   \n",
      "75%         0.669057                    0.000000                   0.000000   \n",
      "max         0.896010                    8.000000                   9.000000   \n",
      "\n",
      "       AMT_REQ_CREDIT_BUREAU_MON  AMT_REQ_CREDIT_BUREAU_QRT  \\\n",
      "count              265992.000000              265992.000000   \n",
      "mean                    0.267395                   0.265474   \n",
      "std                     0.916002                   0.794056   \n",
      "min                     0.000000                   0.000000   \n",
      "25%                     0.000000                   0.000000   \n",
      "50%                     0.000000                   0.000000   \n",
      "75%                     0.000000                   0.000000   \n",
      "max                    27.000000                 261.000000   \n",
      "\n",
      "       AMT_REQ_CREDIT_BUREAU_HOUR  AMT_REQ_CREDIT_BUREAU_YEAR  \\\n",
      "count               265992.000000               265992.000000   \n",
      "mean                     0.006402                    1.899974   \n",
      "std                      0.083849                    1.869295   \n",
      "min                      0.000000                    0.000000   \n",
      "25%                      0.000000                    0.000000   \n",
      "50%                      0.000000                    1.000000   \n",
      "75%                      0.000000                    3.000000   \n",
      "max                      4.000000                   25.000000   \n",
      "\n",
      "       DEF_30_CNT_SOCIAL_CIRCLE  OBS_60_CNT_SOCIAL_CIRCLE  \\\n",
      "count             306490.000000             306490.000000   \n",
      "mean                   0.143421                  1.405292   \n",
      "std                    0.446698                  2.379803   \n",
      "min                    0.000000                  0.000000   \n",
      "25%                    0.000000                  0.000000   \n",
      "50%                    0.000000                  0.000000   \n",
      "75%                    0.000000                  2.000000   \n",
      "max                   34.000000                344.000000   \n",
      "\n",
      "       DEF_60_CNT_SOCIAL_CIRCLE  OBS_30_CNT_SOCIAL_CIRCLE  EXT_SOURCE_2  \\\n",
      "count             306490.000000             306490.000000  3.068510e+05   \n",
      "mean                   0.100049                  1.422245  5.143927e-01   \n",
      "std                    0.362291                  2.400989  1.910602e-01   \n",
      "min                    0.000000                  0.000000  8.173617e-08   \n",
      "25%                    0.000000                  0.000000  3.924574e-01   \n",
      "50%                    0.000000                  0.000000  5.659614e-01   \n",
      "75%                    0.000000                  2.000000  6.636171e-01   \n",
      "max                   24.000000                348.000000  8.549997e-01   \n",
      "\n",
      "       AMT_GOODS_PRICE    AMT_ANNUITY  CNT_FAM_MEMBERS  DAYS_LAST_PHONE_CHANGE  \n",
      "count     3.072330e+05  307499.000000    307509.000000           307510.000000  \n",
      "mean      5.383962e+05   27108.573909         2.152665             -962.858788  \n",
      "std       3.694465e+05   14493.737315         0.910682              826.808487  \n",
      "min       4.050000e+04    1615.500000         1.000000            -4292.000000  \n",
      "25%       2.385000e+05   16524.000000         2.000000            -1570.000000  \n",
      "50%       4.500000e+05   24903.000000         2.000000             -757.000000  \n",
      "75%       6.795000e+05   34596.000000         3.000000             -274.000000  \n",
      "max       4.050000e+06  258025.500000        20.000000                0.000000  \n"
     ]
    }
   ],
   "source": [
    "#Summary Metrics of the training set\n",
    "\n",
    "# Filter columns with UNDER 40% null values\n",
    "missingdata_columns2 = missing_data_train[missing_data_train['Percentage'] < 40].index\n",
    "\n",
    "# Calculate summary metrics for filtered columns\n",
    "summary_metrics2 = applicationtrainDF[missingdata_columns2].describe(include=np.number)\n",
    "\n",
    "#Display summary metrics\n",
    "print(summary_metrics2)"
   ]
  },
  {
   "cell_type": "markdown",
   "id": "4e5a5906",
   "metadata": {},
   "source": [
    "When examining the variables that contain less than 40% null values, we can see that we need to take care of some possible outliers in the data. The max values listed on the summary stastics for some of the variables is well above 2 standard deviations from the mean. "
   ]
  },
  {
   "cell_type": "markdown",
   "id": "937ad95a",
   "metadata": {},
   "source": [
    "# Exploratory of Visualizations"
   ]
  },
  {
   "cell_type": "code",
   "execution_count": 22,
   "id": "69cb9963",
   "metadata": {},
   "outputs": [
    {
     "name": "stdout",
     "output_type": "stream",
     "text": [
      "Collecting matplotlib\n",
      "  Downloading matplotlib-3.7.1-cp310-cp310-win_amd64.whl (7.6 MB)\n",
      "     ---------------------------------------- 7.6/7.6 MB 19.5 MB/s eta 0:00:00\n",
      "Requirement already satisfied: packaging>=20.0 in c:\\users\\jusha\\new folder\\lib\\site-packages (from matplotlib) (23.0)\n",
      "Collecting cycler>=0.10\n",
      "  Using cached cycler-0.11.0-py3-none-any.whl (6.4 kB)\n",
      "Requirement already satisfied: python-dateutil>=2.7 in c:\\users\\jusha\\new folder\\lib\\site-packages (from matplotlib) (2.8.2)\n",
      "Collecting pyparsing>=2.3.1\n",
      "  Using cached pyparsing-3.0.9-py3-none-any.whl (98 kB)\n",
      "Collecting contourpy>=1.0.1\n",
      "  Downloading contourpy-1.1.0-cp310-cp310-win_amd64.whl (470 kB)\n",
      "     ------------------------------------- 470.4/470.4 kB 28.8 MB/s eta 0:00:00\n",
      "Requirement already satisfied: pillow>=6.2.0 in c:\\users\\jusha\\new folder\\lib\\site-packages (from matplotlib) (9.4.0)\n",
      "Collecting kiwisolver>=1.0.1\n",
      "  Downloading kiwisolver-1.4.4-cp310-cp310-win_amd64.whl (55 kB)\n",
      "     ---------------------------------------- 55.3/55.3 kB 2.8 MB/s eta 0:00:00\n",
      "Collecting fonttools>=4.22.0\n",
      "  Downloading fonttools-4.40.0-cp310-cp310-win_amd64.whl (1.9 MB)\n",
      "     ---------------------------------------- 1.9/1.9 MB 17.8 MB/s eta 0:00:00\n",
      "Requirement already satisfied: numpy>=1.20 in c:\\users\\jusha\\new folder\\lib\\site-packages (from matplotlib) (1.24.3)\n",
      "Requirement already satisfied: six>=1.5 in c:\\users\\jusha\\new folder\\lib\\site-packages (from python-dateutil>=2.7->matplotlib) (1.16.0)\n",
      "Installing collected packages: pyparsing, kiwisolver, fonttools, cycler, contourpy, matplotlib\n",
      "Successfully installed contourpy-1.1.0 cycler-0.11.0 fonttools-4.40.0 kiwisolver-1.4.4 matplotlib-3.7.1 pyparsing-3.0.9\n",
      "Requirement already satisfied: plotly in c:\\users\\jusha\\new folder\\lib\\site-packages (5.9.0)\n",
      "Requirement already satisfied: tenacity>=6.2.0 in c:\\users\\jusha\\new folder\\lib\\site-packages (from plotly) (8.2.2)\n"
     ]
    }
   ],
   "source": [
    "# Installing necessary packages\n",
    "# !pip install matplotlib\n",
    "# !pip install plotly"
   ]
  },
  {
   "cell_type": "code",
   "execution_count": 94,
   "id": "db590014",
   "metadata": {},
   "outputs": [],
   "source": [
    "import matplotlib.pyplot as plt\n",
    "import numpy as np\n",
    "import plotly.graph_objects as go\n",
    "import plotly.express as px\n"
   ]
  },
  {
   "cell_type": "markdown",
   "id": "b9a595a6",
   "metadata": {},
   "source": [
    "#### Exploring Gender Distribution of Sample"
   ]
  },
  {
   "cell_type": "code",
   "execution_count": 97,
   "id": "f3a1b42a",
   "metadata": {},
   "outputs": [
    {
     "data": {
      "image/png": "[encoded data removed]",
      "text/plain": [
       "<Figure size 800x600 with 1 Axes>"
      ]
     },
     "metadata": {},
     "output_type": "display_data"
    }
   ],
   "source": [
    "# Gender Distribution\n",
    "plt.figure(figsize=(8, 6))\n",
    "gender_counts = two_columns_df['CODE_GENDER'].value_counts()\n",
    "plt.bar(gender_counts.index, gender_counts.values)\n",
    "plt.xlabel('Gender')\n",
    "plt.ylabel('Count')\n",
    "plt.title('Gender Distribution')\n",
    "plt.show()\n",
    "\n",
    "gender_summary = gender_counts.reset_index().rename(columns={'index': 'Gender', 'Gender': 'Count'})\n"
   ]
  },
  {
   "cell_type": "markdown",
   "id": "4e7aaef3",
   "metadata": {},
   "source": [
    "#### Visualizing Education of Sample Applicants"
   ]
  },
  {
   "cell_type": "code",
   "execution_count": 98,
   "id": "8405602b",
   "metadata": {},
   "outputs": [
    {
     "data": {
      "application/vnd.plotly.v1+json": {
       "config": {
        "plotlyServerURL": "https://plot.ly"
       },
       "data": [
        {
         "domain": {
          "x": [
           0,
           1
          ],
          "y": [
           0,
           1
          ]
         },
         "hole": 0.5,
         "hovertemplate": "labels=%{label}<br>value=%{value}<extra></extra>",
         "labels": [
          "Secondary / secondary special",
          "Higher education",
          "Incomplete higher",
          "Lower secondary",
          "Academic degree"
         ],
         "legendgroup": "",
         "name": "",
         "showlegend": true,
         "type": "pie",
         "values": [
          58435,
          25848,
          3436,
          724,
          64
         ]
        }
       ],
       "layout": {
        "legend": {
         "tracegroupgap": 0
        },
        "template": {
         "data": {
          "bar": [
           {
            "error_x": {
             "color": "#2a3f5f"
            },
            "error_y": {
             "color": "#2a3f5f"
            },
            "marker": {
             "line": {
              "color": "#E5ECF6",
              "width": 0.5
             },
             "pattern": {
              "fillmode": "overlay",
              "size": 10,
              "solidity": 0.2
             }
            },
            "type": "bar"
           }
          ],
          "barpolar": [
           {
            "marker": {
             "line": {
              "color": "#E5ECF6",
              "width": 0.5
             },
             "pattern": {
              "fillmode": "overlay",
              "size": 10,
              "solidity": 0.2
             }
            },
            "type": "barpolar"
           }
          ],
          "carpet": [
           {
            "aaxis": {
             "endlinecolor": "#2a3f5f",
             "gridcolor": "white",
             "linecolor": "white",
             "minorgridcolor": "white",
             "startlinecolor": "#2a3f5f"
            },
            "baxis": {
             "endlinecolor": "#2a3f5f",
             "gridcolor": "white",
             "linecolor": "white",
             "minorgridcolor": "white",
             "startlinecolor": "#2a3f5f"
            },
            "type": "carpet"
           }
          ],
          "choropleth": [
           {
            "colorbar": {
             "outlinewidth": 0,
             "ticks": ""
            },
            "type": "choropleth"
           }
          ],
          "contour": [
           {
            "colorbar": {
             "outlinewidth": 0,
             "ticks": ""
            },
            "colorscale": [
             [
              0,
              "#0d0887"
             ],
             [
              0.1111111111111111,
              "#46039f"
             ],
             [
              0.2222222222222222,
              "#7201a8"
             ],
             [
              0.3333333333333333,
              "#9c179e"
             ],
             [
              0.4444444444444444,
              "#bd3786"
             ],
             [
              0.5555555555555556,
              "#d8576b"
             ],
             [
              0.6666666666666666,
              "#ed7953"
             ],
             [
              0.7777777777777778,
              "#fb9f3a"
             ],
             [
              0.8888888888888888,
              "#fdca26"
             ],
             [
              1,
              "#f0f921"
             ]
            ],
            "type": "contour"
           }
          ],
          "contourcarpet": [
           {
            "colorbar": {
             "outlinewidth": 0,
             "ticks": ""
            },
            "type": "contourcarpet"
           }
          ],
          "heatmap": [
           {
            "colorbar": {
             "outlinewidth": 0,
             "ticks": ""
            },
            "colorscale": [
             [
              0,
              "#0d0887"
             ],
             [
              0.1111111111111111,
              "#46039f"
             ],
             [
              0.2222222222222222,
              "#7201a8"
             ],
             [
              0.3333333333333333,
              "#9c179e"
             ],
             [
              0.4444444444444444,
              "#bd3786"
             ],
             [
              0.5555555555555556,
              "#d8576b"
             ],
             [
              0.6666666666666666,
              "#ed7953"
             ],
             [
              0.7777777777777778,
              "#fb9f3a"
             ],
             [
              0.8888888888888888,
              "#fdca26"
             ],
             [
              1,
              "#f0f921"
             ]
            ],
            "type": "heatmap"
           }
          ],
          "heatmapgl": [
           {
            "colorbar": {
             "outlinewidth": 0,
             "ticks": ""
            },
            "colorscale": [
             [
              0,
              "#0d0887"
             ],
             [
              0.1111111111111111,
              "#46039f"
             ],
             [
              0.2222222222222222,
              "#7201a8"
             ],
             [
              0.3333333333333333,
              "#9c179e"
             ],
             [
              0.4444444444444444,
              "#bd3786"
             ],
             [
              0.5555555555555556,
              "#d8576b"
             ],
             [
              0.6666666666666666,
              "#ed7953"
             ],
             [
              0.7777777777777778,
              "#fb9f3a"
             ],
             [
              0.8888888888888888,
              "#fdca26"
             ],
             [
              1,
              "#f0f921"
             ]
            ],
            "type": "heatmapgl"
           }
          ],
          "histogram": [
           {
            "marker": {
             "pattern": {
              "fillmode": "overlay",
              "size": 10,
              "solidity": 0.2
             }
            },
            "type": "histogram"
           }
          ],
          "histogram2d": [
           {
            "colorbar": {
             "outlinewidth": 0,
             "ticks": ""
            },
            "colorscale": [
             [
              0,
              "#0d0887"
             ],
             [
              0.1111111111111111,
              "#46039f"
             ],
             [
              0.2222222222222222,
              "#7201a8"
             ],
             [
              0.3333333333333333,
              "#9c179e"
             ],
             [
              0.4444444444444444,
              "#bd3786"
             ],
             [
              0.5555555555555556,
              "#d8576b"
             ],
             [
              0.6666666666666666,
              "#ed7953"
             ],
             [
              0.7777777777777778,
              "#fb9f3a"
             ],
             [
              0.8888888888888888,
              "#fdca26"
             ],
             [
              1,
              "#f0f921"
             ]
            ],
            "type": "histogram2d"
           }
          ],
          "histogram2dcontour": [
           {
            "colorbar": {
             "outlinewidth": 0,
             "ticks": ""
            },
            "colorscale": [
             [
              0,
              "#0d0887"
             ],
             [
              0.1111111111111111,
              "#46039f"
             ],
             [
              0.2222222222222222,
              "#7201a8"
             ],
             [
              0.3333333333333333,
              "#9c179e"
             ],
             [
              0.4444444444444444,
              "#bd3786"
             ],
             [
              0.5555555555555556,
              "#d8576b"
             ],
             [
              0.6666666666666666,
              "#ed7953"
             ],
             [
              0.7777777777777778,
              "#fb9f3a"
             ],
             [
              0.8888888888888888,
              "#fdca26"
             ],
             [
              1,
              "#f0f921"
             ]
            ],
            "type": "histogram2dcontour"
           }
          ],
          "mesh3d": [
           {
            "colorbar": {
             "outlinewidth": 0,
             "ticks": ""
            },
            "type": "mesh3d"
           }
          ],
          "parcoords": [
           {
            "line": {
             "colorbar": {
              "outlinewidth": 0,
              "ticks": ""
             }
            },
            "type": "parcoords"
           }
          ],
          "pie": [
           {
            "automargin": true,
            "type": "pie"
           }
          ],
          "scatter": [
           {
            "fillpattern": {
             "fillmode": "overlay",
             "size": 10,
             "solidity": 0.2
            },
            "type": "scatter"
           }
          ],
          "scatter3d": [
           {
            "line": {
             "colorbar": {
              "outlinewidth": 0,
              "ticks": ""
             }
            },
            "marker": {
             "colorbar": {
              "outlinewidth": 0,
              "ticks": ""
             }
            },
            "type": "scatter3d"
           }
          ],
          "scattercarpet": [
           {
            "marker": {
             "colorbar": {
              "outlinewidth": 0,
              "ticks": ""
             }
            },
            "type": "scattercarpet"
           }
          ],
          "scattergeo": [
           {
            "marker": {
             "colorbar": {
              "outlinewidth": 0,
              "ticks": ""
             }
            },
            "type": "scattergeo"
           }
          ],
          "scattergl": [
           {
            "marker": {
             "colorbar": {
              "outlinewidth": 0,
              "ticks": ""
             }
            },
            "type": "scattergl"
           }
          ],
          "scattermapbox": [
           {
            "marker": {
             "colorbar": {
              "outlinewidth": 0,
              "ticks": ""
             }
            },
            "type": "scattermapbox"
           }
          ],
          "scatterpolar": [
           {
            "marker": {
             "colorbar": {
              "outlinewidth": 0,
              "ticks": ""
             }
            },
            "type": "scatterpolar"
           }
          ],
          "scatterpolargl": [
           {
            "marker": {
             "colorbar": {
              "outlinewidth": 0,
              "ticks": ""
             }
            },
            "type": "scatterpolargl"
           }
          ],
          "scatterternary": [
           {
            "marker": {
             "colorbar": {
              "outlinewidth": 0,
              "ticks": ""
             }
            },
            "type": "scatterternary"
           }
          ],
          "surface": [
           {
            "colorbar": {
             "outlinewidth": 0,
             "ticks": ""
            },
            "colorscale": [
             [
              0,
              "#0d0887"
             ],
             [
              0.1111111111111111,
              "#46039f"
             ],
             [
              0.2222222222222222,
              "#7201a8"
             ],
             [
              0.3333333333333333,
              "#9c179e"
             ],
             [
              0.4444444444444444,
              "#bd3786"
             ],
             [
              0.5555555555555556,
              "#d8576b"
             ],
             [
              0.6666666666666666,
              "#ed7953"
             ],
             [
              0.7777777777777778,
              "#fb9f3a"
             ],
             [
              0.8888888888888888,
              "#fdca26"
             ],
             [
              1,
              "#f0f921"
             ]
            ],
            "type": "surface"
           }
          ],
          "table": [
           {
            "cells": {
             "fill": {
              "color": "#EBF0F8"
             },
             "line": {
              "color": "white"
             }
            },
            "header": {
             "fill": {
              "color": "#C8D4E3"
             },
             "line": {
              "color": "white"
             }
            },
            "type": "table"
           }
          ]
         },
         "layout": {
          "annotationdefaults": {
           "arrowcolor": "#2a3f5f",
           "arrowhead": 0,
           "arrowwidth": 1
          },
          "autotypenumbers": "strict",
          "coloraxis": {
           "colorbar": {
            "outlinewidth": 0,
            "ticks": ""
           }
          },
          "colorscale": {
           "diverging": [
            [
             0,
             "#8e0152"
            ],
            [
             0.1,
             "#c51b7d"
            ],
            [
             0.2,
             "#de77ae"
            ],
            [
             0.3,
             "#f1b6da"
            ],
            [
             0.4,
             "#fde0ef"
            ],
            [
             0.5,
             "#f7f7f7"
            ],
            [
             0.6,
             "#e6f5d0"
            ],
            [
             0.7,
             "#b8e186"
            ],
            [
             0.8,
             "#7fbc41"
            ],
            [
             0.9,
             "#4d9221"
            ],
            [
             1,
             "#276419"
            ]
           ],
           "sequential": [
            [
             0,
             "#0d0887"
            ],
            [
             0.1111111111111111,
             "#46039f"
            ],
            [
             0.2222222222222222,
             "#7201a8"
            ],
            [
             0.3333333333333333,
             "#9c179e"
            ],
            [
             0.4444444444444444,
             "#bd3786"
            ],
            [
             0.5555555555555556,
             "#d8576b"
            ],
            [
             0.6666666666666666,
             "#ed7953"
            ],
            [
             0.7777777777777778,
             "#fb9f3a"
            ],
            [
             0.8888888888888888,
             "#fdca26"
            ],
            [
             1,
             "#f0f921"
            ]
           ],
           "sequentialminus": [
            [
             0,
             "#0d0887"
            ],
            [
             0.1111111111111111,
             "#46039f"
            ],
            [
             0.2222222222222222,
             "#7201a8"
            ],
            [
             0.3333333333333333,
             "#9c179e"
            ],
            [
             0.4444444444444444,
             "#bd3786"
            ],
            [
             0.5555555555555556,
             "#d8576b"
            ],
            [
             0.6666666666666666,
             "#ed7953"
            ],
            [
             0.7777777777777778,
             "#fb9f3a"
            ],
            [
             0.8888888888888888,
             "#fdca26"
            ],
            [
             1,
             "#f0f921"
            ]
           ]
          },
          "colorway": [
           "#636efa",
           "#EF553B",
           "#00cc96",
           "#ab63fa",
           "#FFA15A",
           "#19d3f3",
           "#FF6692",
           "#B6E880",
           "#FF97FF",
           "#FECB52"
          ],
          "font": {
           "color": "#2a3f5f"
          },
          "geo": {
           "bgcolor": "white",
           "lakecolor": "white",
           "landcolor": "#E5ECF6",
           "showlakes": true,
           "showland": true,
           "subunitcolor": "white"
          },
          "hoverlabel": {
           "align": "left"
          },
          "hovermode": "closest",
          "mapbox": {
           "style": "light"
          },
          "paper_bgcolor": "white",
          "plot_bgcolor": "#E5ECF6",
          "polar": {
           "angularaxis": {
            "gridcolor": "white",
            "linecolor": "white",
            "ticks": ""
           },
           "bgcolor": "#E5ECF6",
           "radialaxis": {
            "gridcolor": "white",
            "linecolor": "white",
            "ticks": ""
           }
          },
          "scene": {
           "xaxis": {
            "backgroundcolor": "#E5ECF6",
            "gridcolor": "white",
            "gridwidth": 2,
            "linecolor": "white",
            "showbackground": true,
            "ticks": "",
            "zerolinecolor": "white"
           },
           "yaxis": {
            "backgroundcolor": "#E5ECF6",
            "gridcolor": "white",
            "gridwidth": 2,
            "linecolor": "white",
            "showbackground": true,
            "ticks": "",
            "zerolinecolor": "white"
           },
           "zaxis": {
            "backgroundcolor": "#E5ECF6",
            "gridcolor": "white",
            "gridwidth": 2,
            "linecolor": "white",
            "showbackground": true,
            "ticks": "",
            "zerolinecolor": "white"
           }
          },
          "shapedefaults": {
           "line": {
            "color": "#2a3f5f"
           }
          },
          "ternary": {
           "aaxis": {
            "gridcolor": "white",
            "linecolor": "white",
            "ticks": ""
           },
           "baxis": {
            "gridcolor": "white",
            "linecolor": "white",
            "ticks": ""
           },
           "bgcolor": "#E5ECF6",
           "caxis": {
            "gridcolor": "white",
            "linecolor": "white",
            "ticks": ""
           }
          },
          "title": {
           "x": 0.05
          },
          "xaxis": {
           "automargin": true,
           "gridcolor": "white",
           "linecolor": "white",
           "ticks": "",
           "title": {
            "standoff": 15
           },
           "zerolinecolor": "white",
           "zerolinewidth": 2
          },
          "yaxis": {
           "automargin": true,
           "gridcolor": "white",
           "linecolor": "white",
           "ticks": "",
           "title": {
            "standoff": 15
           },
           "zerolinecolor": "white",
           "zerolinewidth": 2
          }
         }
        },
        "title": {
         "text": "Education of Applicants"
        }
       }
      },
      "text/html": [
       "<div>                            <div id=\"a5f5236c-3591-456e-9217-b8a106b917b9\" class=\"plotly-graph-div\" style=\"height:525px; width:100%;\"></div>            <script type=\"text/javascript\">                require([\"plotly\"], function(Plotly) {                    window.PLOTLYENV=window.PLOTLYENV || {};                                    if (document.getElementById(\"a5f5236c-3591-456e-9217-b8a106b917b9\")) {                    Plotly.newPlot(                        \"a5f5236c-3591-456e-9217-b8a106b917b9\",                        [{\"domain\":{\"x\":[0.0,1.0],\"y\":[0.0,1.0]},\"hole\":0.5,\"hovertemplate\":\"labels=%{label}<br>value=%{value}<extra></extra>\",\"labels\":[\"Secondary / secondary special\",\"Higher education\",\"Incomplete higher\",\"Lower secondary\",\"Academic degree\"],\"legendgroup\":\"\",\"name\":\"\",\"showlegend\":true,\"values\":[58435,25848,3436,724,64],\"type\":\"pie\"}],                        {\"template\":{\"data\":{\"histogram2dcontour\":[{\"type\":\"histogram2dcontour\",\"colorbar\":{\"outlinewidth\":0,\"ticks\":\"\"},\"colorscale\":[[0.0,\"#0d0887\"],[0.1111111111111111,\"#46039f\"],[0.2222222222222222,\"#7201a8\"],[0.3333333333333333,\"#9c179e\"],[0.4444444444444444,\"#bd3786\"],[0.5555555555555556,\"#d8576b\"],[0.6666666666666666,\"#ed7953\"],[0.7777777777777778,\"#fb9f3a\"],[0.8888888888888888,\"#fdca26\"],[1.0,\"#f0f921\"]]}],\"choropleth\":[{\"type\":\"choropleth\",\"colorbar\":{\"outlinewidth\":0,\"ticks\":\"\"}}],\"histogram2d\":[{\"type\":\"histogram2d\",\"colorbar\":{\"outlinewidth\":0,\"ticks\":\"\"},\"colorscale\":[[0.0,\"#0d0887\"],[0.1111111111111111,\"#46039f\"],[0.2222222222222222,\"#7201a8\"],[0.3333333333333333,\"#9c179e\"],[0.4444444444444444,\"#bd3786\"],[0.5555555555555556,\"#d8576b\"],[0.6666666666666666,\"#ed7953\"],[0.7777777777777778,\"#fb9f3a\"],[0.8888888888888888,\"#fdca26\"],[1.0,\"#f0f921\"]]}],\"heatmap\":[{\"type\":\"heatmap\",\"colorbar\":{\"outlinewidth\":0,\"ticks\":\"\"},\"colorscale\":[[0.0,\"#0d0887\"],[0.1111111111111111,\"#46039f\"],[0.2222222222222222,\"#7201a8\"],[0.3333333333333333,\"#9c179e\"],[0.4444444444444444,\"#bd3786\"],[0.5555555555555556,\"#d8576b\"],[0.6666666666666666,\"#ed7953\"],[0.7777777777777778,\"#fb9f3a\"],[0.8888888888888888,\"#fdca26\"],[1.0,\"#f0f921\"]]}],\"heatmapgl\":[{\"type\":\"heatmapgl\",\"colorbar\":{\"outlinewidth\":0,\"ticks\":\"\"},\"colorscale\":[[0.0,\"#0d0887\"],[0.1111111111111111,\"#46039f\"],[0.2222222222222222,\"#7201a8\"],[0.3333333333333333,\"#9c179e\"],[0.4444444444444444,\"#bd3786\"],[0.5555555555555556,\"#d8576b\"],[0.6666666666666666,\"#ed7953\"],[0.7777777777777778,\"#fb9f3a\"],[0.8888888888888888,\"#fdca26\"],[1.0,\"#f0f921\"]]}],\"contourcarpet\":[{\"type\":\"contourcarpet\",\"colorbar\":{\"outlinewidth\":0,\"ticks\":\"\"}}],\"contour\":[{\"type\":\"contour\",\"colorbar\":{\"outlinewidth\":0,\"ticks\":\"\"},\"colorscale\":[[0.0,\"#0d0887\"],[0.1111111111111111,\"#46039f\"],[0.2222222222222222,\"#7201a8\"],[0.3333333333333333,\"#9c179e\"],[0.4444444444444444,\"#bd3786\"],[0.5555555555555556,\"#d8576b\"],[0.6666666666666666,\"#ed7953\"],[0.7777777777777778,\"#fb9f3a\"],[0.8888888888888888,\"#fdca26\"],[1.0,\"#f0f921\"]]}],\"surface\":[{\"type\":\"surface\",\"colorbar\":{\"outlinewidth\":0,\"ticks\":\"\"},\"colorscale\":[[0.0,\"#0d0887\"],[0.1111111111111111,\"#46039f\"],[0.2222222222222222,\"#7201a8\"],[0.3333333333333333,\"#9c179e\"],[0.4444444444444444,\"#bd3786\"],[0.5555555555555556,\"#d8576b\"],[0.6666666666666666,\"#ed7953\"],[0.7777777777777778,\"#fb9f3a\"],[0.8888888888888888,\"#fdca26\"],[1.0,\"#f0f921\"]]}],\"mesh3d\":[{\"type\":\"mesh3d\",\"colorbar\":{\"outlinewidth\":0,\"ticks\":\"\"}}],\"scatter\":[{\"fillpattern\":{\"fillmode\":\"overlay\",\"size\":10,\"solidity\":0.2},\"type\":\"scatter\"}],\"parcoords\":[{\"type\":\"parcoords\",\"line\":{\"colorbar\":{\"outlinewidth\":0,\"ticks\":\"\"}}}],\"scatterpolargl\":[{\"type\":\"scatterpolargl\",\"marker\":{\"colorbar\":{\"outlinewidth\":0,\"ticks\":\"\"}}}],\"bar\":[{\"error_x\":{\"color\":\"#2a3f5f\"},\"error_y\":{\"color\":\"#2a3f5f\"},\"marker\":{\"line\":{\"color\":\"#E5ECF6\",\"width\":0.5},\"pattern\":{\"fillmode\":\"overlay\",\"size\":10,\"solidity\":0.2}},\"type\":\"bar\"}],\"scattergeo\":[{\"type\":\"scattergeo\",\"marker\":{\"colorbar\":{\"outlinewidth\":0,\"ticks\":\"\"}}}],\"scatterpolar\":[{\"type\":\"scatterpolar\",\"marker\":{\"colorbar\":{\"outlinewidth\":0,\"ticks\":\"\"}}}],\"histogram\":[{\"marker\":{\"pattern\":{\"fillmode\":\"overlay\",\"size\":10,\"solidity\":0.2}},\"type\":\"histogram\"}],\"scattergl\":[{\"type\":\"scattergl\",\"marker\":{\"colorbar\":{\"outlinewidth\":0,\"ticks\":\"\"}}}],\"scatter3d\":[{\"type\":\"scatter3d\",\"line\":{\"colorbar\":{\"outlinewidth\":0,\"ticks\":\"\"}},\"marker\":{\"colorbar\":{\"outlinewidth\":0,\"ticks\":\"\"}}}],\"scattermapbox\":[{\"type\":\"scattermapbox\",\"marker\":{\"colorbar\":{\"outlinewidth\":0,\"ticks\":\"\"}}}],\"scatterternary\":[{\"type\":\"scatterternary\",\"marker\":{\"colorbar\":{\"outlinewidth\":0,\"ticks\":\"\"}}}],\"scattercarpet\":[{\"type\":\"scattercarpet\",\"marker\":{\"colorbar\":{\"outlinewidth\":0,\"ticks\":\"\"}}}],\"carpet\":[{\"aaxis\":{\"endlinecolor\":\"#2a3f5f\",\"gridcolor\":\"white\",\"linecolor\":\"white\",\"minorgridcolor\":\"white\",\"startlinecolor\":\"#2a3f5f\"},\"baxis\":{\"endlinecolor\":\"#2a3f5f\",\"gridcolor\":\"white\",\"linecolor\":\"white\",\"minorgridcolor\":\"white\",\"startlinecolor\":\"#2a3f5f\"},\"type\":\"carpet\"}],\"table\":[{\"cells\":{\"fill\":{\"color\":\"#EBF0F8\"},\"line\":{\"color\":\"white\"}},\"header\":{\"fill\":{\"color\":\"#C8D4E3\"},\"line\":{\"color\":\"white\"}},\"type\":\"table\"}],\"barpolar\":[{\"marker\":{\"line\":{\"color\":\"#E5ECF6\",\"width\":0.5},\"pattern\":{\"fillmode\":\"overlay\",\"size\":10,\"solidity\":0.2}},\"type\":\"barpolar\"}],\"pie\":[{\"automargin\":true,\"type\":\"pie\"}]},\"layout\":{\"autotypenumbers\":\"strict\",\"colorway\":[\"#636efa\",\"#EF553B\",\"#00cc96\",\"#ab63fa\",\"#FFA15A\",\"#19d3f3\",\"#FF6692\",\"#B6E880\",\"#FF97FF\",\"#FECB52\"],\"font\":{\"color\":\"#2a3f5f\"},\"hovermode\":\"closest\",\"hoverlabel\":{\"align\":\"left\"},\"paper_bgcolor\":\"white\",\"plot_bgcolor\":\"#E5ECF6\",\"polar\":{\"bgcolor\":\"#E5ECF6\",\"angularaxis\":{\"gridcolor\":\"white\",\"linecolor\":\"white\",\"ticks\":\"\"},\"radialaxis\":{\"gridcolor\":\"white\",\"linecolor\":\"white\",\"ticks\":\"\"}},\"ternary\":{\"bgcolor\":\"#E5ECF6\",\"aaxis\":{\"gridcolor\":\"white\",\"linecolor\":\"white\",\"ticks\":\"\"},\"baxis\":{\"gridcolor\":\"white\",\"linecolor\":\"white\",\"ticks\":\"\"},\"caxis\":{\"gridcolor\":\"white\",\"linecolor\":\"white\",\"ticks\":\"\"}},\"coloraxis\":{\"colorbar\":{\"outlinewidth\":0,\"ticks\":\"\"}},\"colorscale\":{\"sequential\":[[0.0,\"#0d0887\"],[0.1111111111111111,\"#46039f\"],[0.2222222222222222,\"#7201a8\"],[0.3333333333333333,\"#9c179e\"],[0.4444444444444444,\"#bd3786\"],[0.5555555555555556,\"#d8576b\"],[0.6666666666666666,\"#ed7953\"],[0.7777777777777778,\"#fb9f3a\"],[0.8888888888888888,\"#fdca26\"],[1.0,\"#f0f921\"]],\"sequentialminus\":[[0.0,\"#0d0887\"],[0.1111111111111111,\"#46039f\"],[0.2222222222222222,\"#7201a8\"],[0.3333333333333333,\"#9c179e\"],[0.4444444444444444,\"#bd3786\"],[0.5555555555555556,\"#d8576b\"],[0.6666666666666666,\"#ed7953\"],[0.7777777777777778,\"#fb9f3a\"],[0.8888888888888888,\"#fdca26\"],[1.0,\"#f0f921\"]],\"diverging\":[[0,\"#8e0152\"],[0.1,\"#c51b7d\"],[0.2,\"#de77ae\"],[0.3,\"#f1b6da\"],[0.4,\"#fde0ef\"],[0.5,\"#f7f7f7\"],[0.6,\"#e6f5d0\"],[0.7,\"#b8e186\"],[0.8,\"#7fbc41\"],[0.9,\"#4d9221\"],[1,\"#276419\"]]},\"xaxis\":{\"gridcolor\":\"white\",\"linecolor\":\"white\",\"ticks\":\"\",\"title\":{\"standoff\":15},\"zerolinecolor\":\"white\",\"automargin\":true,\"zerolinewidth\":2},\"yaxis\":{\"gridcolor\":\"white\",\"linecolor\":\"white\",\"ticks\":\"\",\"title\":{\"standoff\":15},\"zerolinecolor\":\"white\",\"automargin\":true,\"zerolinewidth\":2},\"scene\":{\"xaxis\":{\"backgroundcolor\":\"#E5ECF6\",\"gridcolor\":\"white\",\"linecolor\":\"white\",\"showbackground\":true,\"ticks\":\"\",\"zerolinecolor\":\"white\",\"gridwidth\":2},\"yaxis\":{\"backgroundcolor\":\"#E5ECF6\",\"gridcolor\":\"white\",\"linecolor\":\"white\",\"showbackground\":true,\"ticks\":\"\",\"zerolinecolor\":\"white\",\"gridwidth\":2},\"zaxis\":{\"backgroundcolor\":\"#E5ECF6\",\"gridcolor\":\"white\",\"linecolor\":\"white\",\"showbackground\":true,\"ticks\":\"\",\"zerolinecolor\":\"white\",\"gridwidth\":2}},\"shapedefaults\":{\"line\":{\"color\":\"#2a3f5f\"}},\"annotationdefaults\":{\"arrowcolor\":\"#2a3f5f\",\"arrowhead\":0,\"arrowwidth\":1},\"geo\":{\"bgcolor\":\"white\",\"landcolor\":\"#E5ECF6\",\"subunitcolor\":\"white\",\"showland\":true,\"showlakes\":true,\"lakecolor\":\"white\"},\"title\":{\"x\":0.05},\"mapbox\":{\"style\":\"light\"}}},\"legend\":{\"tracegroupgap\":0},\"title\":{\"text\":\"Education of Applicants\"}},                        {\"responsive\": true}                    ).then(function(){\n",
       "                            \n",
       "var gd = document.getElementById('a5f5236c-3591-456e-9217-b8a106b917b9');\n",
       "var x = new MutationObserver(function (mutations, observer) {{\n",
       "        var display = window.getComputedStyle(gd).display;\n",
       "        if (!display || display === 'none') {{\n",
       "            console.log([gd, 'removed!']);\n",
       "            Plotly.purge(gd);\n",
       "            observer.disconnect();\n",
       "        }}\n",
       "}});\n",
       "\n",
       "// Listen for the removal of the full notebook cells\n",
       "var notebookContainer = gd.closest('#notebook-container');\n",
       "if (notebookContainer) {{\n",
       "    x.observe(notebookContainer, {childList: true});\n",
       "}}\n",
       "\n",
       "// Listen for the clearing of the current output cell\n",
       "var outputEl = gd.closest('.output');\n",
       "if (outputEl) {{\n",
       "    x.observe(outputEl, {childList: true});\n",
       "}}\n",
       "\n",
       "                        })                };                });            </script>        </div>"
      ]
     },
     "metadata": {},
     "output_type": "display_data"
    }
   ],
   "source": [
    "#Education of the applicants\n",
    "temp = two_columns_df[\"NAME_EDUCATION_TYPE\"].value_counts()\n",
    "\n",
    "df = pd.DataFrame({'labels': temp.index,\n",
    "                   'values': temp.values})\n",
    "\n",
    "fig = px.pie(df, names='labels', values='values', title='Education of Applicants', hole=0.5)\n",
    "fig.show()"
   ]
  },
  {
   "cell_type": "markdown",
   "id": "41ecb7bf",
   "metadata": {},
   "source": [
    "#### Plotting the distribution of age in years of sample applicants"
   ]
  },
  {
   "cell_type": "code",
   "execution_count": 100,
   "id": "acba98de",
   "metadata": {},
   "outputs": [
    {
     "data": {
      "image/png": "[encoded data removed]",
      "text/plain": [
       "<Figure size 800x600 with 1 Axes>"
      ]
     },
     "metadata": {},
     "output_type": "display_data"
    }
   ],
   "source": [
    "# Plot the distribution of ages in years\n",
    "plt.figure(figsize=(8, 6))\n",
    "plt.hist(np.abs(two_columns_df['DAYS_BIRTH'] / 365), edgecolor='k', bins=25)\n",
    "plt.title('Age of Client')\n",
    "plt.xlabel('Age (years)')\n",
    "plt.ylabel('Count')\n",
    "plt.show()\n"
   ]
  },
  {
   "cell_type": "markdown",
   "id": "41121ec6",
   "metadata": {},
   "source": [
    "#### Visualizing client accompaniment during application"
   ]
  },
  {
   "cell_type": "code",
   "execution_count": 101,
   "id": "efb7f356",
   "metadata": {},
   "outputs": [
    {
     "data": {
      "application/vnd.plotly.v1+json": {
       "config": {
        "plotlyServerURL": "https://plot.ly"
       },
       "data": [
        {
         "type": "bar",
         "x": [
          "Unaccompanied",
          "Family",
          "Spouse, partner",
          "Children",
          "Other_B",
          "Other_A",
          "Group of people"
         ],
         "y": [
          83.20962433321984,
          11.598002496878902,
          3.256157076381796,
          1.007831120190671,
          0.5311542390194076,
          0.3177845874475088,
          0.0794461468618772
         ]
        }
       ],
       "layout": {
        "template": {
         "data": {
          "bar": [
           {
            "error_x": {
             "color": "#2a3f5f"
            },
            "error_y": {
             "color": "#2a3f5f"
            },
            "marker": {
             "line": {
              "color": "#E5ECF6",
              "width": 0.5
             },
             "pattern": {
              "fillmode": "overlay",
              "size": 10,
              "solidity": 0.2
             }
            },
            "type": "bar"
           }
          ],
          "barpolar": [
           {
            "marker": {
             "line": {
              "color": "#E5ECF6",
              "width": 0.5
             },
             "pattern": {
              "fillmode": "overlay",
              "size": 10,
              "solidity": 0.2
             }
            },
            "type": "barpolar"
           }
          ],
          "carpet": [
           {
            "aaxis": {
             "endlinecolor": "#2a3f5f",
             "gridcolor": "white",
             "linecolor": "white",
             "minorgridcolor": "white",
             "startlinecolor": "#2a3f5f"
            },
            "baxis": {
             "endlinecolor": "#2a3f5f",
             "gridcolor": "white",
             "linecolor": "white",
             "minorgridcolor": "white",
             "startlinecolor": "#2a3f5f"
            },
            "type": "carpet"
           }
          ],
          "choropleth": [
           {
            "colorbar": {
             "outlinewidth": 0,
             "ticks": ""
            },
            "type": "choropleth"
           }
          ],
          "contour": [
           {
            "colorbar": {
             "outlinewidth": 0,
             "ticks": ""
            },
            "colorscale": [
             [
              0,
              "#0d0887"
             ],
             [
              0.1111111111111111,
              "#46039f"
             ],
             [
              0.2222222222222222,
              "#7201a8"
             ],
             [
              0.3333333333333333,
              "#9c179e"
             ],
             [
              0.4444444444444444,
              "#bd3786"
             ],
             [
              0.5555555555555556,
              "#d8576b"
             ],
             [
              0.6666666666666666,
              "#ed7953"
             ],
             [
              0.7777777777777778,
              "#fb9f3a"
             ],
             [
              0.8888888888888888,
              "#fdca26"
             ],
             [
              1,
              "#f0f921"
             ]
            ],
            "type": "contour"
           }
          ],
          "contourcarpet": [
           {
            "colorbar": {
             "outlinewidth": 0,
             "ticks": ""
            },
            "type": "contourcarpet"
           }
          ],
          "heatmap": [
           {
            "colorbar": {
             "outlinewidth": 0,
             "ticks": ""
            },
            "colorscale": [
             [
              0,
              "#0d0887"
             ],
             [
              0.1111111111111111,
              "#46039f"
             ],
             [
              0.2222222222222222,
              "#7201a8"
             ],
             [
              0.3333333333333333,
              "#9c179e"
             ],
             [
              0.4444444444444444,
              "#bd3786"
             ],
             [
              0.5555555555555556,
              "#d8576b"
             ],
             [
              0.6666666666666666,
              "#ed7953"
             ],
             [
              0.7777777777777778,
              "#fb9f3a"
             ],
             [
              0.8888888888888888,
              "#fdca26"
             ],
             [
              1,
              "#f0f921"
             ]
            ],
            "type": "heatmap"
           }
          ],
          "heatmapgl": [
           {
            "colorbar": {
             "outlinewidth": 0,
             "ticks": ""
            },
            "colorscale": [
             [
              0,
              "#0d0887"
             ],
             [
              0.1111111111111111,
              "#46039f"
             ],
             [
              0.2222222222222222,
              "#7201a8"
             ],
             [
              0.3333333333333333,
              "#9c179e"
             ],
             [
              0.4444444444444444,
              "#bd3786"
             ],
             [
              0.5555555555555556,
              "#d8576b"
             ],
             [
              0.6666666666666666,
              "#ed7953"
             ],
             [
              0.7777777777777778,
              "#fb9f3a"
             ],
             [
              0.8888888888888888,
              "#fdca26"
             ],
             [
              1,
              "#f0f921"
             ]
            ],
            "type": "heatmapgl"
           }
          ],
          "histogram": [
           {
            "marker": {
             "pattern": {
              "fillmode": "overlay",
              "size": 10,
              "solidity": 0.2
             }
            },
            "type": "histogram"
           }
          ],
          "histogram2d": [
           {
            "colorbar": {
             "outlinewidth": 0,
             "ticks": ""
            },
            "colorscale": [
             [
              0,
              "#0d0887"
             ],
             [
              0.1111111111111111,
              "#46039f"
             ],
             [
              0.2222222222222222,
              "#7201a8"
             ],
             [
              0.3333333333333333,
              "#9c179e"
             ],
             [
              0.4444444444444444,
              "#bd3786"
             ],
             [
              0.5555555555555556,
              "#d8576b"
             ],
             [
              0.6666666666666666,
              "#ed7953"
             ],
             [
              0.7777777777777778,
              "#fb9f3a"
             ],
             [
              0.8888888888888888,
              "#fdca26"
             ],
             [
              1,
              "#f0f921"
             ]
            ],
            "type": "histogram2d"
           }
          ],
          "histogram2dcontour": [
           {
            "colorbar": {
             "outlinewidth": 0,
             "ticks": ""
            },
            "colorscale": [
             [
              0,
              "#0d0887"
             ],
             [
              0.1111111111111111,
              "#46039f"
             ],
             [
              0.2222222222222222,
              "#7201a8"
             ],
             [
              0.3333333333333333,
              "#9c179e"
             ],
             [
              0.4444444444444444,
              "#bd3786"
             ],
             [
              0.5555555555555556,
              "#d8576b"
             ],
             [
              0.6666666666666666,
              "#ed7953"
             ],
             [
              0.7777777777777778,
              "#fb9f3a"
             ],
             [
              0.8888888888888888,
              "#fdca26"
             ],
             [
              1,
              "#f0f921"
             ]
            ],
            "type": "histogram2dcontour"
           }
          ],
          "mesh3d": [
           {
            "colorbar": {
             "outlinewidth": 0,
             "ticks": ""
            },
            "type": "mesh3d"
           }
          ],
          "parcoords": [
           {
            "line": {
             "colorbar": {
              "outlinewidth": 0,
              "ticks": ""
             }
            },
            "type": "parcoords"
           }
          ],
          "pie": [
           {
            "automargin": true,
            "type": "pie"
           }
          ],
          "scatter": [
           {
            "fillpattern": {
             "fillmode": "overlay",
             "size": 10,
             "solidity": 0.2
            },
            "type": "scatter"
           }
          ],
          "scatter3d": [
           {
            "line": {
             "colorbar": {
              "outlinewidth": 0,
              "ticks": ""
             }
            },
            "marker": {
             "colorbar": {
              "outlinewidth": 0,
              "ticks": ""
             }
            },
            "type": "scatter3d"
           }
          ],
          "scattercarpet": [
           {
            "marker": {
             "colorbar": {
              "outlinewidth": 0,
              "ticks": ""
             }
            },
            "type": "scattercarpet"
           }
          ],
          "scattergeo": [
           {
            "marker": {
             "colorbar": {
              "outlinewidth": 0,
              "ticks": ""
             }
            },
            "type": "scattergeo"
           }
          ],
          "scattergl": [
           {
            "marker": {
             "colorbar": {
              "outlinewidth": 0,
              "ticks": ""
             }
            },
            "type": "scattergl"
           }
          ],
          "scattermapbox": [
           {
            "marker": {
             "colorbar": {
              "outlinewidth": 0,
              "ticks": ""
             }
            },
            "type": "scattermapbox"
           }
          ],
          "scatterpolar": [
           {
            "marker": {
             "colorbar": {
              "outlinewidth": 0,
              "ticks": ""
             }
            },
            "type": "scatterpolar"
           }
          ],
          "scatterpolargl": [
           {
            "marker": {
             "colorbar": {
              "outlinewidth": 0,
              "ticks": ""
             }
            },
            "type": "scatterpolargl"
           }
          ],
          "scatterternary": [
           {
            "marker": {
             "colorbar": {
              "outlinewidth": 0,
              "ticks": ""
             }
            },
            "type": "scatterternary"
           }
          ],
          "surface": [
           {
            "colorbar": {
             "outlinewidth": 0,
             "ticks": ""
            },
            "colorscale": [
             [
              0,
              "#0d0887"
             ],
             [
              0.1111111111111111,
              "#46039f"
             ],
             [
              0.2222222222222222,
              "#7201a8"
             ],
             [
              0.3333333333333333,
              "#9c179e"
             ],
             [
              0.4444444444444444,
              "#bd3786"
             ],
             [
              0.5555555555555556,
              "#d8576b"
             ],
             [
              0.6666666666666666,
              "#ed7953"
             ],
             [
              0.7777777777777778,
              "#fb9f3a"
             ],
             [
              0.8888888888888888,
              "#fdca26"
             ],
             [
              1,
              "#f0f921"
             ]
            ],
            "type": "surface"
           }
          ],
          "table": [
           {
            "cells": {
             "fill": {
              "color": "#EBF0F8"
             },
             "line": {
              "color": "white"
             }
            },
            "header": {
             "fill": {
              "color": "#C8D4E3"
             },
             "line": {
              "color": "white"
             }
            },
            "type": "table"
           }
          ]
         },
         "layout": {
          "annotationdefaults": {
           "arrowcolor": "#2a3f5f",
           "arrowhead": 0,
           "arrowwidth": 1
          },
          "autotypenumbers": "strict",
          "coloraxis": {
           "colorbar": {
            "outlinewidth": 0,
            "ticks": ""
           }
          },
          "colorscale": {
           "diverging": [
            [
             0,
             "#8e0152"
            ],
            [
             0.1,
             "#c51b7d"
            ],
            [
             0.2,
             "#de77ae"
            ],
            [
             0.3,
             "#f1b6da"
            ],
            [
             0.4,
             "#fde0ef"
            ],
            [
             0.5,
             "#f7f7f7"
            ],
            [
             0.6,
             "#e6f5d0"
            ],
            [
             0.7,
             "#b8e186"
            ],
            [
             0.8,
             "#7fbc41"
            ],
            [
             0.9,
             "#4d9221"
            ],
            [
             1,
             "#276419"
            ]
           ],
           "sequential": [
            [
             0,
             "#0d0887"
            ],
            [
             0.1111111111111111,
             "#46039f"
            ],
            [
             0.2222222222222222,
             "#7201a8"
            ],
            [
             0.3333333333333333,
             "#9c179e"
            ],
            [
             0.4444444444444444,
             "#bd3786"
            ],
            [
             0.5555555555555556,
             "#d8576b"
            ],
            [
             0.6666666666666666,
             "#ed7953"
            ],
            [
             0.7777777777777778,
             "#fb9f3a"
            ],
            [
             0.8888888888888888,
             "#fdca26"
            ],
            [
             1,
             "#f0f921"
            ]
           ],
           "sequentialminus": [
            [
             0,
             "#0d0887"
            ],
            [
             0.1111111111111111,
             "#46039f"
            ],
            [
             0.2222222222222222,
             "#7201a8"
            ],
            [
             0.3333333333333333,
             "#9c179e"
            ],
            [
             0.4444444444444444,
             "#bd3786"
            ],
            [
             0.5555555555555556,
             "#d8576b"
            ],
            [
             0.6666666666666666,
             "#ed7953"
            ],
            [
             0.7777777777777778,
             "#fb9f3a"
            ],
            [
             0.8888888888888888,
             "#fdca26"
            ],
            [
             1,
             "#f0f921"
            ]
           ]
          },
          "colorway": [
           "#636efa",
           "#EF553B",
           "#00cc96",
           "#ab63fa",
           "#FFA15A",
           "#19d3f3",
           "#FF6692",
           "#B6E880",
           "#FF97FF",
           "#FECB52"
          ],
          "font": {
           "color": "#2a3f5f"
          },
          "geo": {
           "bgcolor": "white",
           "lakecolor": "white",
           "landcolor": "#E5ECF6",
           "showlakes": true,
           "showland": true,
           "subunitcolor": "white"
          },
          "hoverlabel": {
           "align": "left"
          },
          "hovermode": "closest",
          "mapbox": {
           "style": "light"
          },
          "paper_bgcolor": "white",
          "plot_bgcolor": "#E5ECF6",
          "polar": {
           "angularaxis": {
            "gridcolor": "white",
            "linecolor": "white",
            "ticks": ""
           },
           "bgcolor": "#E5ECF6",
           "radialaxis": {
            "gridcolor": "white",
            "linecolor": "white",
            "ticks": ""
           }
          },
          "scene": {
           "xaxis": {
            "backgroundcolor": "#E5ECF6",
            "gridcolor": "white",
            "gridwidth": 2,
            "linecolor": "white",
            "showbackground": true,
            "ticks": "",
            "zerolinecolor": "white"
           },
           "yaxis": {
            "backgroundcolor": "#E5ECF6",
            "gridcolor": "white",
            "gridwidth": 2,
            "linecolor": "white",
            "showbackground": true,
            "ticks": "",
            "zerolinecolor": "white"
           },
           "zaxis": {
            "backgroundcolor": "#E5ECF6",
            "gridcolor": "white",
            "gridwidth": 2,
            "linecolor": "white",
            "showbackground": true,
            "ticks": "",
            "zerolinecolor": "white"
           }
          },
          "shapedefaults": {
           "line": {
            "color": "#2a3f5f"
           }
          },
          "ternary": {
           "aaxis": {
            "gridcolor": "white",
            "linecolor": "white",
            "ticks": ""
           },
           "baxis": {
            "gridcolor": "white",
            "linecolor": "white",
            "ticks": ""
           },
           "bgcolor": "#E5ECF6",
           "caxis": {
            "gridcolor": "white",
            "linecolor": "white",
            "ticks": ""
           }
          },
          "title": {
           "x": 0.05
          },
          "xaxis": {
           "automargin": true,
           "gridcolor": "white",
           "linecolor": "white",
           "ticks": "",
           "title": {
            "standoff": 15
           },
           "zerolinecolor": "white",
           "zerolinewidth": 2
          },
          "yaxis": {
           "automargin": true,
           "gridcolor": "white",
           "linecolor": "white",
           "ticks": "",
           "title": {
            "standoff": 15
           },
           "zerolinecolor": "white",
           "zerolinewidth": 2
          }
         }
        },
        "title": {
         "text": "Who accompanied client when applying for the application in %"
        },
        "xaxis": {
         "tickfont": {
          "color": "rgb(107, 107, 107)",
          "size": 14
         },
         "title": {
          "text": "Name of type of the Suite"
         }
        },
        "yaxis": {
         "tickfont": {
          "color": "rgb(107, 107, 107)",
          "size": 14
         },
         "title": {
          "font": {
           "color": "rgb(107, 107, 107)",
           "size": 16
          },
          "text": "Count of Name of type of the Suite in %"
         }
        }
       }
      },
      "text/html": [
       "<div>                            <div id=\"76dd5d1e-5f9d-4576-999c-e49e39e75aea\" class=\"plotly-graph-div\" style=\"height:525px; width:100%;\"></div>            <script type=\"text/javascript\">                require([\"plotly\"], function(Plotly) {                    window.PLOTLYENV=window.PLOTLYENV || {};                                    if (document.getElementById(\"76dd5d1e-5f9d-4576-999c-e49e39e75aea\")) {                    Plotly.newPlot(                        \"76dd5d1e-5f9d-4576-999c-e49e39e75aea\",                        [{\"x\":[\"Unaccompanied\",\"Family\",\"Spouse, partner\",\"Children\",\"Other_B\",\"Other_A\",\"Group of people\"],\"y\":[83.20962433321984,11.598002496878902,3.256157076381796,1.007831120190671,0.5311542390194076,0.3177845874475088,0.0794461468618772],\"type\":\"bar\"}],                        {\"title\":{\"text\":\"Who accompanied client when applying for the application in %\"},\"xaxis\":{\"tickfont\":{\"color\":\"rgb(107, 107, 107)\",\"size\":14},\"title\":{\"text\":\"Name of type of the Suite\"}},\"yaxis\":{\"tickfont\":{\"color\":\"rgb(107, 107, 107)\",\"size\":14},\"title\":{\"font\":{\"color\":\"rgb(107, 107, 107)\",\"size\":16},\"text\":\"Count of Name of type of the Suite in %\"}},\"template\":{\"data\":{\"histogram2dcontour\":[{\"type\":\"histogram2dcontour\",\"colorbar\":{\"outlinewidth\":0,\"ticks\":\"\"},\"colorscale\":[[0.0,\"#0d0887\"],[0.1111111111111111,\"#46039f\"],[0.2222222222222222,\"#7201a8\"],[0.3333333333333333,\"#9c179e\"],[0.4444444444444444,\"#bd3786\"],[0.5555555555555556,\"#d8576b\"],[0.6666666666666666,\"#ed7953\"],[0.7777777777777778,\"#fb9f3a\"],[0.8888888888888888,\"#fdca26\"],[1.0,\"#f0f921\"]]}],\"choropleth\":[{\"type\":\"choropleth\",\"colorbar\":{\"outlinewidth\":0,\"ticks\":\"\"}}],\"histogram2d\":[{\"type\":\"histogram2d\",\"colorbar\":{\"outlinewidth\":0,\"ticks\":\"\"},\"colorscale\":[[0.0,\"#0d0887\"],[0.1111111111111111,\"#46039f\"],[0.2222222222222222,\"#7201a8\"],[0.3333333333333333,\"#9c179e\"],[0.4444444444444444,\"#bd3786\"],[0.5555555555555556,\"#d8576b\"],[0.6666666666666666,\"#ed7953\"],[0.7777777777777778,\"#fb9f3a\"],[0.8888888888888888,\"#fdca26\"],[1.0,\"#f0f921\"]]}],\"heatmap\":[{\"type\":\"heatmap\",\"colorbar\":{\"outlinewidth\":0,\"ticks\":\"\"},\"colorscale\":[[0.0,\"#0d0887\"],[0.1111111111111111,\"#46039f\"],[0.2222222222222222,\"#7201a8\"],[0.3333333333333333,\"#9c179e\"],[0.4444444444444444,\"#bd3786\"],[0.5555555555555556,\"#d8576b\"],[0.6666666666666666,\"#ed7953\"],[0.7777777777777778,\"#fb9f3a\"],[0.8888888888888888,\"#fdca26\"],[1.0,\"#f0f921\"]]}],\"heatmapgl\":[{\"type\":\"heatmapgl\",\"colorbar\":{\"outlinewidth\":0,\"ticks\":\"\"},\"colorscale\":[[0.0,\"#0d0887\"],[0.1111111111111111,\"#46039f\"],[0.2222222222222222,\"#7201a8\"],[0.3333333333333333,\"#9c179e\"],[0.4444444444444444,\"#bd3786\"],[0.5555555555555556,\"#d8576b\"],[0.6666666666666666,\"#ed7953\"],[0.7777777777777778,\"#fb9f3a\"],[0.8888888888888888,\"#fdca26\"],[1.0,\"#f0f921\"]]}],\"contourcarpet\":[{\"type\":\"contourcarpet\",\"colorbar\":{\"outlinewidth\":0,\"ticks\":\"\"}}],\"contour\":[{\"type\":\"contour\",\"colorbar\":{\"outlinewidth\":0,\"ticks\":\"\"},\"colorscale\":[[0.0,\"#0d0887\"],[0.1111111111111111,\"#46039f\"],[0.2222222222222222,\"#7201a8\"],[0.3333333333333333,\"#9c179e\"],[0.4444444444444444,\"#bd3786\"],[0.5555555555555556,\"#d8576b\"],[0.6666666666666666,\"#ed7953\"],[0.7777777777777778,\"#fb9f3a\"],[0.8888888888888888,\"#fdca26\"],[1.0,\"#f0f921\"]]}],\"surface\":[{\"type\":\"surface\",\"colorbar\":{\"outlinewidth\":0,\"ticks\":\"\"},\"colorscale\":[[0.0,\"#0d0887\"],[0.1111111111111111,\"#46039f\"],[0.2222222222222222,\"#7201a8\"],[0.3333333333333333,\"#9c179e\"],[0.4444444444444444,\"#bd3786\"],[0.5555555555555556,\"#d8576b\"],[0.6666666666666666,\"#ed7953\"],[0.7777777777777778,\"#fb9f3a\"],[0.8888888888888888,\"#fdca26\"],[1.0,\"#f0f921\"]]}],\"mesh3d\":[{\"type\":\"mesh3d\",\"colorbar\":{\"outlinewidth\":0,\"ticks\":\"\"}}],\"scatter\":[{\"fillpattern\":{\"fillmode\":\"overlay\",\"size\":10,\"solidity\":0.2},\"type\":\"scatter\"}],\"parcoords\":[{\"type\":\"parcoords\",\"line\":{\"colorbar\":{\"outlinewidth\":0,\"ticks\":\"\"}}}],\"scatterpolargl\":[{\"type\":\"scatterpolargl\",\"marker\":{\"colorbar\":{\"outlinewidth\":0,\"ticks\":\"\"}}}],\"bar\":[{\"error_x\":{\"color\":\"#2a3f5f\"},\"error_y\":{\"color\":\"#2a3f5f\"},\"marker\":{\"line\":{\"color\":\"#E5ECF6\",\"width\":0.5},\"pattern\":{\"fillmode\":\"overlay\",\"size\":10,\"solidity\":0.2}},\"type\":\"bar\"}],\"scattergeo\":[{\"type\":\"scattergeo\",\"marker\":{\"colorbar\":{\"outlinewidth\":0,\"ticks\":\"\"}}}],\"scatterpolar\":[{\"type\":\"scatterpolar\",\"marker\":{\"colorbar\":{\"outlinewidth\":0,\"ticks\":\"\"}}}],\"histogram\":[{\"marker\":{\"pattern\":{\"fillmode\":\"overlay\",\"size\":10,\"solidity\":0.2}},\"type\":\"histogram\"}],\"scattergl\":[{\"type\":\"scattergl\",\"marker\":{\"colorbar\":{\"outlinewidth\":0,\"ticks\":\"\"}}}],\"scatter3d\":[{\"type\":\"scatter3d\",\"line\":{\"colorbar\":{\"outlinewidth\":0,\"ticks\":\"\"}},\"marker\":{\"colorbar\":{\"outlinewidth\":0,\"ticks\":\"\"}}}],\"scattermapbox\":[{\"type\":\"scattermapbox\",\"marker\":{\"colorbar\":{\"outlinewidth\":0,\"ticks\":\"\"}}}],\"scatterternary\":[{\"type\":\"scatterternary\",\"marker\":{\"colorbar\":{\"outlinewidth\":0,\"ticks\":\"\"}}}],\"scattercarpet\":[{\"type\":\"scattercarpet\",\"marker\":{\"colorbar\":{\"outlinewidth\":0,\"ticks\":\"\"}}}],\"carpet\":[{\"aaxis\":{\"endlinecolor\":\"#2a3f5f\",\"gridcolor\":\"white\",\"linecolor\":\"white\",\"minorgridcolor\":\"white\",\"startlinecolor\":\"#2a3f5f\"},\"baxis\":{\"endlinecolor\":\"#2a3f5f\",\"gridcolor\":\"white\",\"linecolor\":\"white\",\"minorgridcolor\":\"white\",\"startlinecolor\":\"#2a3f5f\"},\"type\":\"carpet\"}],\"table\":[{\"cells\":{\"fill\":{\"color\":\"#EBF0F8\"},\"line\":{\"color\":\"white\"}},\"header\":{\"fill\":{\"color\":\"#C8D4E3\"},\"line\":{\"color\":\"white\"}},\"type\":\"table\"}],\"barpolar\":[{\"marker\":{\"line\":{\"color\":\"#E5ECF6\",\"width\":0.5},\"pattern\":{\"fillmode\":\"overlay\",\"size\":10,\"solidity\":0.2}},\"type\":\"barpolar\"}],\"pie\":[{\"automargin\":true,\"type\":\"pie\"}]},\"layout\":{\"autotypenumbers\":\"strict\",\"colorway\":[\"#636efa\",\"#EF553B\",\"#00cc96\",\"#ab63fa\",\"#FFA15A\",\"#19d3f3\",\"#FF6692\",\"#B6E880\",\"#FF97FF\",\"#FECB52\"],\"font\":{\"color\":\"#2a3f5f\"},\"hovermode\":\"closest\",\"hoverlabel\":{\"align\":\"left\"},\"paper_bgcolor\":\"white\",\"plot_bgcolor\":\"#E5ECF6\",\"polar\":{\"bgcolor\":\"#E5ECF6\",\"angularaxis\":{\"gridcolor\":\"white\",\"linecolor\":\"white\",\"ticks\":\"\"},\"radialaxis\":{\"gridcolor\":\"white\",\"linecolor\":\"white\",\"ticks\":\"\"}},\"ternary\":{\"bgcolor\":\"#E5ECF6\",\"aaxis\":{\"gridcolor\":\"white\",\"linecolor\":\"white\",\"ticks\":\"\"},\"baxis\":{\"gridcolor\":\"white\",\"linecolor\":\"white\",\"ticks\":\"\"},\"caxis\":{\"gridcolor\":\"white\",\"linecolor\":\"white\",\"ticks\":\"\"}},\"coloraxis\":{\"colorbar\":{\"outlinewidth\":0,\"ticks\":\"\"}},\"colorscale\":{\"sequential\":[[0.0,\"#0d0887\"],[0.1111111111111111,\"#46039f\"],[0.2222222222222222,\"#7201a8\"],[0.3333333333333333,\"#9c179e\"],[0.4444444444444444,\"#bd3786\"],[0.5555555555555556,\"#d8576b\"],[0.6666666666666666,\"#ed7953\"],[0.7777777777777778,\"#fb9f3a\"],[0.8888888888888888,\"#fdca26\"],[1.0,\"#f0f921\"]],\"sequentialminus\":[[0.0,\"#0d0887\"],[0.1111111111111111,\"#46039f\"],[0.2222222222222222,\"#7201a8\"],[0.3333333333333333,\"#9c179e\"],[0.4444444444444444,\"#bd3786\"],[0.5555555555555556,\"#d8576b\"],[0.6666666666666666,\"#ed7953\"],[0.7777777777777778,\"#fb9f3a\"],[0.8888888888888888,\"#fdca26\"],[1.0,\"#f0f921\"]],\"diverging\":[[0,\"#8e0152\"],[0.1,\"#c51b7d\"],[0.2,\"#de77ae\"],[0.3,\"#f1b6da\"],[0.4,\"#fde0ef\"],[0.5,\"#f7f7f7\"],[0.6,\"#e6f5d0\"],[0.7,\"#b8e186\"],[0.8,\"#7fbc41\"],[0.9,\"#4d9221\"],[1,\"#276419\"]]},\"xaxis\":{\"gridcolor\":\"white\",\"linecolor\":\"white\",\"ticks\":\"\",\"title\":{\"standoff\":15},\"zerolinecolor\":\"white\",\"automargin\":true,\"zerolinewidth\":2},\"yaxis\":{\"gridcolor\":\"white\",\"linecolor\":\"white\",\"ticks\":\"\",\"title\":{\"standoff\":15},\"zerolinecolor\":\"white\",\"automargin\":true,\"zerolinewidth\":2},\"scene\":{\"xaxis\":{\"backgroundcolor\":\"#E5ECF6\",\"gridcolor\":\"white\",\"linecolor\":\"white\",\"showbackground\":true,\"ticks\":\"\",\"zerolinecolor\":\"white\",\"gridwidth\":2},\"yaxis\":{\"backgroundcolor\":\"#E5ECF6\",\"gridcolor\":\"white\",\"linecolor\":\"white\",\"showbackground\":true,\"ticks\":\"\",\"zerolinecolor\":\"white\",\"gridwidth\":2},\"zaxis\":{\"backgroundcolor\":\"#E5ECF6\",\"gridcolor\":\"white\",\"linecolor\":\"white\",\"showbackground\":true,\"ticks\":\"\",\"zerolinecolor\":\"white\",\"gridwidth\":2}},\"shapedefaults\":{\"line\":{\"color\":\"#2a3f5f\"}},\"annotationdefaults\":{\"arrowcolor\":\"#2a3f5f\",\"arrowhead\":0,\"arrowwidth\":1},\"geo\":{\"bgcolor\":\"white\",\"landcolor\":\"#E5ECF6\",\"subunitcolor\":\"white\",\"showland\":true,\"showlakes\":true,\"lakecolor\":\"white\"},\"title\":{\"x\":0.05},\"mapbox\":{\"style\":\"light\"}}}},                        {\"responsive\": true}                    ).then(function(){\n",
       "                            \n",
       "var gd = document.getElementById('76dd5d1e-5f9d-4576-999c-e49e39e75aea');\n",
       "var x = new MutationObserver(function (mutations, observer) {{\n",
       "        var display = window.getComputedStyle(gd).display;\n",
       "        if (!display || display === 'none') {{\n",
       "            console.log([gd, 'removed!']);\n",
       "            Plotly.purge(gd);\n",
       "            observer.disconnect();\n",
       "        }}\n",
       "}});\n",
       "\n",
       "// Listen for the removal of the full notebook cells\n",
       "var notebookContainer = gd.closest('#notebook-container');\n",
       "if (notebookContainer) {{\n",
       "    x.observe(notebookContainer, {childList: true});\n",
       "}}\n",
       "\n",
       "// Listen for the clearing of the current output cell\n",
       "var outputEl = gd.closest('.output');\n",
       "if (outputEl) {{\n",
       "    x.observe(outputEl, {childList: true});\n",
       "}}\n",
       "\n",
       "                        })                };                });            </script>        </div>"
      ]
     },
     "metadata": {},
     "output_type": "display_data"
    }
   ],
   "source": [
    "# Who accompanied the client distrinution\n",
    "temp = two_columns_df[\"NAME_TYPE_SUITE\"].value_counts()\n",
    "\n",
    "trace = go.Bar(\n",
    "    x=temp.index,\n",
    "    y=(temp / temp.sum()) * 100,\n",
    ")\n",
    "\n",
    "data = [trace]\n",
    "\n",
    "layout = go.Layout(\n",
    "    title=\"Who accompanied client when applying for the application in %\",\n",
    "    xaxis=dict(\n",
    "        title='Name of type of the Suite',\n",
    "        tickfont=dict(\n",
    "            size=14,\n",
    "            color='rgb(107, 107, 107)'\n",
    "        )\n",
    "    ),\n",
    "    yaxis=dict(\n",
    "        title='Count of Name of type of the Suite in %',\n",
    "        titlefont=dict(\n",
    "            size=16,\n",
    "            color='rgb(107, 107, 107)'\n",
    "        ),\n",
    "        tickfont=dict(\n",
    "            size=14,\n",
    "            color='rgb(107, 107, 107)'\n",
    "        )\n",
    "    )\n",
    ")\n",
    "\n",
    "fig = go.Figure(data=data, layout=layout)\n",
    "fig.show()"
   ]
  },
  {
   "cell_type": "markdown",
   "id": "5a1b227c",
   "metadata": {},
   "source": [
    "#### Visualizing Top Organization Distributions"
   ]
  },
  {
   "cell_type": "code",
   "execution_count": 102,
   "id": "53dc8439",
   "metadata": {},
   "outputs": [
    {
     "data": {
      "application/vnd.plotly.v1+json": {
       "config": {
        "plotlyServerURL": "https://plot.ly"
       },
       "data": [
        {
         "marker": {
          "color": [
           24.231981651168834,
           17.681087371620325,
           10.847729558114047,
           5.294496480504367,
           3.892347497938016,
           3.626831776017716,
           3.0155806885331105,
           2.425796829629295,
           2.4065893093201667,
           2.1907871693764336,
           2.181748336289785,
           2.08119131820082,
           1.9343102805427819,
           1.268826194538285,
           1.1727885929926447,
           1.0067000350254782,
           1.003310472617985,
           0.9807133899013637,
           0.9343893703322901,
           0.898234037985696,
           0.8247935191566769,
           0.758132125142644,
           0.7536127085993198,
           0.7423141672410092,
           0.6677437942761589,
           0.5954331295829708,
           0.5491091100138972,
           0.5253821731614449,
           0.5197329024822895,
           0.5027850904448236,
           0.3773712813675755,
           0.369462302416758,
           0.3186188663043601,
           0.3152293038968669,
           0.3073203249460495,
           0.26664557605613115,
           0.23274995198119924,
           0.22258126475871964,
           0.20337374444959155,
           0.20224389031376047,
           0.20111403617792942,
           0.18416622414046346,
           0.17286768278215284,
           0.1547900166088558,
           0.1355824962997277,
           0.1288033714847413,
           0.12767351734891025,
           0.1265436632130792,
           0.123154100805586,
           0.09264803913814726,
           0.058752415063215345,
           0.04406431129741151,
           0.040674748889918316,
           0.022597082716621284,
           0.020337374444959158,
           0.018077666173297025,
           0.012428395494141705,
           0.005649270679155321
          ],
          "colorscale": [
           [
            0,
            "rgb(247,252,245)"
           ],
           [
            0.125,
            "rgb(229,245,224)"
           ],
           [
            0.25,
            "rgb(199,233,192)"
           ],
           [
            0.375,
            "rgb(161,217,155)"
           ],
           [
            0.5,
            "rgb(116,196,118)"
           ],
           [
            0.625,
            "rgb(65,171,93)"
           ],
           [
            0.75,
            "rgb(35,139,69)"
           ],
           [
            0.875,
            "rgb(0,109,44)"
           ],
           [
            1,
            "rgb(0,68,27)"
           ]
          ],
          "reversescale": true
         },
         "type": "bar",
         "x": [
          "Business Entity Type 3",
          "XNA",
          "Self-employed",
          "Other",
          "Business Entity Type 2",
          "Medicine",
          "Government",
          "Trade: type 7",
          "School",
          "Construction",
          "Kindergarten",
          "Business Entity Type 1",
          "Transport: type 4",
          "Industry: type 9",
          "Trade: type 3",
          "Bank",
          "Security",
          "Housing",
          "Industry: type 11",
          "Military",
          "Industry: type 3",
          "Trade: type 2",
          "Police",
          "Transport: type 2",
          "Security Ministries",
          "Services",
          "University",
          "Postal",
          "Industry: type 7",
          "Restaurant",
          "Electricity",
          "Transport: type 3",
          "Industry: type 5",
          "Industry: type 1",
          "Industry: type 4",
          "Hotel",
          "Trade: type 6",
          "Telecom",
          "Industry: type 2",
          "Agriculture",
          "Insurance",
          "Advertising",
          "Realtor",
          "Emergency",
          "Trade: type 1",
          "Legal Services",
          "Industry: type 12",
          "Culture",
          "Mobile",
          "Cleaning",
          "Transport: type 1",
          "Industry: type 10",
          "Industry: type 6",
          "Trade: type 4",
          "Trade: type 5",
          "Religion",
          "Industry: type 13",
          "Industry: type 8"
         ],
         "y": [
          24.231981651168834,
          17.681087371620325,
          10.847729558114047,
          5.294496480504367,
          3.892347497938016,
          3.626831776017716,
          3.0155806885331105,
          2.425796829629295,
          2.4065893093201667,
          2.1907871693764336,
          2.181748336289785,
          2.08119131820082,
          1.9343102805427819,
          1.268826194538285,
          1.1727885929926447,
          1.0067000350254782,
          1.003310472617985,
          0.9807133899013637,
          0.9343893703322901,
          0.898234037985696,
          0.8247935191566769,
          0.758132125142644,
          0.7536127085993198,
          0.7423141672410092,
          0.6677437942761589,
          0.5954331295829708,
          0.5491091100138972,
          0.5253821731614449,
          0.5197329024822895,
          0.5027850904448236,
          0.3773712813675755,
          0.369462302416758,
          0.3186188663043601,
          0.3152293038968669,
          0.3073203249460495,
          0.26664557605613115,
          0.23274995198119924,
          0.22258126475871964,
          0.20337374444959155,
          0.20224389031376047,
          0.20111403617792942,
          0.18416622414046346,
          0.17286768278215284,
          0.1547900166088558,
          0.1355824962997277,
          0.1288033714847413,
          0.12767351734891025,
          0.1265436632130792,
          0.123154100805586,
          0.09264803913814726,
          0.058752415063215345,
          0.04406431129741151,
          0.040674748889918316,
          0.022597082716621284,
          0.020337374444959158,
          0.018077666173297025,
          0.012428395494141705,
          0.005649270679155321
         ]
        }
       ],
       "layout": {
        "template": {
         "data": {
          "bar": [
           {
            "error_x": {
             "color": "#2a3f5f"
            },
            "error_y": {
             "color": "#2a3f5f"
            },
            "marker": {
             "line": {
              "color": "#E5ECF6",
              "width": 0.5
             },
             "pattern": {
              "fillmode": "overlay",
              "size": 10,
              "solidity": 0.2
             }
            },
            "type": "bar"
           }
          ],
          "barpolar": [
           {
            "marker": {
             "line": {
              "color": "#E5ECF6",
              "width": 0.5
             },
             "pattern": {
              "fillmode": "overlay",
              "size": 10,
              "solidity": 0.2
             }
            },
            "type": "barpolar"
           }
          ],
          "carpet": [
           {
            "aaxis": {
             "endlinecolor": "#2a3f5f",
             "gridcolor": "white",
             "linecolor": "white",
             "minorgridcolor": "white",
             "startlinecolor": "#2a3f5f"
            },
            "baxis": {
             "endlinecolor": "#2a3f5f",
             "gridcolor": "white",
             "linecolor": "white",
             "minorgridcolor": "white",
             "startlinecolor": "#2a3f5f"
            },
            "type": "carpet"
           }
          ],
          "choropleth": [
           {
            "colorbar": {
             "outlinewidth": 0,
             "ticks": ""
            },
            "type": "choropleth"
           }
          ],
          "contour": [
           {
            "colorbar": {
             "outlinewidth": 0,
             "ticks": ""
            },
            "colorscale": [
             [
              0,
              "#0d0887"
             ],
             [
              0.1111111111111111,
              "#46039f"
             ],
             [
              0.2222222222222222,
              "#7201a8"
             ],
             [
              0.3333333333333333,
              "#9c179e"
             ],
             [
              0.4444444444444444,
              "#bd3786"
             ],
             [
              0.5555555555555556,
              "#d8576b"
             ],
             [
              0.6666666666666666,
              "#ed7953"
             ],
             [
              0.7777777777777778,
              "#fb9f3a"
             ],
             [
              0.8888888888888888,
              "#fdca26"
             ],
             [
              1,
              "#f0f921"
             ]
            ],
            "type": "contour"
           }
          ],
          "contourcarpet": [
           {
            "colorbar": {
             "outlinewidth": 0,
             "ticks": ""
            },
            "type": "contourcarpet"
           }
          ],
          "heatmap": [
           {
            "colorbar": {
             "outlinewidth": 0,
             "ticks": ""
            },
            "colorscale": [
             [
              0,
              "#0d0887"
             ],
             [
              0.1111111111111111,
              "#46039f"
             ],
             [
              0.2222222222222222,
              "#7201a8"
             ],
             [
              0.3333333333333333,
              "#9c179e"
             ],
             [
              0.4444444444444444,
              "#bd3786"
             ],
             [
              0.5555555555555556,
              "#d8576b"
             ],
             [
              0.6666666666666666,
              "#ed7953"
             ],
             [
              0.7777777777777778,
              "#fb9f3a"
             ],
             [
              0.8888888888888888,
              "#fdca26"
             ],
             [
              1,
              "#f0f921"
             ]
            ],
            "type": "heatmap"
           }
          ],
          "heatmapgl": [
           {
            "colorbar": {
             "outlinewidth": 0,
             "ticks": ""
            },
            "colorscale": [
             [
              0,
              "#0d0887"
             ],
             [
              0.1111111111111111,
              "#46039f"
             ],
             [
              0.2222222222222222,
              "#7201a8"
             ],
             [
              0.3333333333333333,
              "#9c179e"
             ],
             [
              0.4444444444444444,
              "#bd3786"
             ],
             [
              0.5555555555555556,
              "#d8576b"
             ],
             [
              0.6666666666666666,
              "#ed7953"
             ],
             [
              0.7777777777777778,
              "#fb9f3a"
             ],
             [
              0.8888888888888888,
              "#fdca26"
             ],
             [
              1,
              "#f0f921"
             ]
            ],
            "type": "heatmapgl"
           }
          ],
          "histogram": [
           {
            "marker": {
             "pattern": {
              "fillmode": "overlay",
              "size": 10,
              "solidity": 0.2
             }
            },
            "type": "histogram"
           }
          ],
          "histogram2d": [
           {
            "colorbar": {
             "outlinewidth": 0,
             "ticks": ""
            },
            "colorscale": [
             [
              0,
              "#0d0887"
             ],
             [
              0.1111111111111111,
              "#46039f"
             ],
             [
              0.2222222222222222,
              "#7201a8"
             ],
             [
              0.3333333333333333,
              "#9c179e"
             ],
             [
              0.4444444444444444,
              "#bd3786"
             ],
             [
              0.5555555555555556,
              "#d8576b"
             ],
             [
              0.6666666666666666,
              "#ed7953"
             ],
             [
              0.7777777777777778,
              "#fb9f3a"
             ],
             [
              0.8888888888888888,
              "#fdca26"
             ],
             [
              1,
              "#f0f921"
             ]
            ],
            "type": "histogram2d"
           }
          ],
          "histogram2dcontour": [
           {
            "colorbar": {
             "outlinewidth": 0,
             "ticks": ""
            },
            "colorscale": [
             [
              0,
              "#0d0887"
             ],
             [
              0.1111111111111111,
              "#46039f"
             ],
             [
              0.2222222222222222,
              "#7201a8"
             ],
             [
              0.3333333333333333,
              "#9c179e"
             ],
             [
              0.4444444444444444,
              "#bd3786"
             ],
             [
              0.5555555555555556,
              "#d8576b"
             ],
             [
              0.6666666666666666,
              "#ed7953"
             ],
             [
              0.7777777777777778,
              "#fb9f3a"
             ],
             [
              0.8888888888888888,
              "#fdca26"
             ],
             [
              1,
              "#f0f921"
             ]
            ],
            "type": "histogram2dcontour"
           }
          ],
          "mesh3d": [
           {
            "colorbar": {
             "outlinewidth": 0,
             "ticks": ""
            },
            "type": "mesh3d"
           }
          ],
          "parcoords": [
           {
            "line": {
             "colorbar": {
              "outlinewidth": 0,
              "ticks": ""
             }
            },
            "type": "parcoords"
           }
          ],
          "pie": [
           {
            "automargin": true,
            "type": "pie"
           }
          ],
          "scatter": [
           {
            "fillpattern": {
             "fillmode": "overlay",
             "size": 10,
             "solidity": 0.2
            },
            "type": "scatter"
           }
          ],
          "scatter3d": [
           {
            "line": {
             "colorbar": {
              "outlinewidth": 0,
              "ticks": ""
             }
            },
            "marker": {
             "colorbar": {
              "outlinewidth": 0,
              "ticks": ""
             }
            },
            "type": "scatter3d"
           }
          ],
          "scattercarpet": [
           {
            "marker": {
             "colorbar": {
              "outlinewidth": 0,
              "ticks": ""
             }
            },
            "type": "scattercarpet"
           }
          ],
          "scattergeo": [
           {
            "marker": {
             "colorbar": {
              "outlinewidth": 0,
              "ticks": ""
             }
            },
            "type": "scattergeo"
           }
          ],
          "scattergl": [
           {
            "marker": {
             "colorbar": {
              "outlinewidth": 0,
              "ticks": ""
             }
            },
            "type": "scattergl"
           }
          ],
          "scattermapbox": [
           {
            "marker": {
             "colorbar": {
              "outlinewidth": 0,
              "ticks": ""
             }
            },
            "type": "scattermapbox"
           }
          ],
          "scatterpolar": [
           {
            "marker": {
             "colorbar": {
              "outlinewidth": 0,
              "ticks": ""
             }
            },
            "type": "scatterpolar"
           }
          ],
          "scatterpolargl": [
           {
            "marker": {
             "colorbar": {
              "outlinewidth": 0,
              "ticks": ""
             }
            },
            "type": "scatterpolargl"
           }
          ],
          "scatterternary": [
           {
            "marker": {
             "colorbar": {
              "outlinewidth": 0,
              "ticks": ""
             }
            },
            "type": "scatterternary"
           }
          ],
          "surface": [
           {
            "colorbar": {
             "outlinewidth": 0,
             "ticks": ""
            },
            "colorscale": [
             [
              0,
              "#0d0887"
             ],
             [
              0.1111111111111111,
              "#46039f"
             ],
             [
              0.2222222222222222,
              "#7201a8"
             ],
             [
              0.3333333333333333,
              "#9c179e"
             ],
             [
              0.4444444444444444,
              "#bd3786"
             ],
             [
              0.5555555555555556,
              "#d8576b"
             ],
             [
              0.6666666666666666,
              "#ed7953"
             ],
             [
              0.7777777777777778,
              "#fb9f3a"
             ],
             [
              0.8888888888888888,
              "#fdca26"
             ],
             [
              1,
              "#f0f921"
             ]
            ],
            "type": "surface"
           }
          ],
          "table": [
           {
            "cells": {
             "fill": {
              "color": "#EBF0F8"
             },
             "line": {
              "color": "white"
             }
            },
            "header": {
             "fill": {
              "color": "#C8D4E3"
             },
             "line": {
              "color": "white"
             }
            },
            "type": "table"
           }
          ]
         },
         "layout": {
          "annotationdefaults": {
           "arrowcolor": "#2a3f5f",
           "arrowhead": 0,
           "arrowwidth": 1
          },
          "autotypenumbers": "strict",
          "coloraxis": {
           "colorbar": {
            "outlinewidth": 0,
            "ticks": ""
           }
          },
          "colorscale": {
           "diverging": [
            [
             0,
             "#8e0152"
            ],
            [
             0.1,
             "#c51b7d"
            ],
            [
             0.2,
             "#de77ae"
            ],
            [
             0.3,
             "#f1b6da"
            ],
            [
             0.4,
             "#fde0ef"
            ],
            [
             0.5,
             "#f7f7f7"
            ],
            [
             0.6,
             "#e6f5d0"
            ],
            [
             0.7,
             "#b8e186"
            ],
            [
             0.8,
             "#7fbc41"
            ],
            [
             0.9,
             "#4d9221"
            ],
            [
             1,
             "#276419"
            ]
           ],
           "sequential": [
            [
             0,
             "#0d0887"
            ],
            [
             0.1111111111111111,
             "#46039f"
            ],
            [
             0.2222222222222222,
             "#7201a8"
            ],
            [
             0.3333333333333333,
             "#9c179e"
            ],
            [
             0.4444444444444444,
             "#bd3786"
            ],
            [
             0.5555555555555556,
             "#d8576b"
            ],
            [
             0.6666666666666666,
             "#ed7953"
            ],
            [
             0.7777777777777778,
             "#fb9f3a"
            ],
            [
             0.8888888888888888,
             "#fdca26"
            ],
            [
             1,
             "#f0f921"
            ]
           ],
           "sequentialminus": [
            [
             0,
             "#0d0887"
            ],
            [
             0.1111111111111111,
             "#46039f"
            ],
            [
             0.2222222222222222,
             "#7201a8"
            ],
            [
             0.3333333333333333,
             "#9c179e"
            ],
            [
             0.4444444444444444,
             "#bd3786"
            ],
            [
             0.5555555555555556,
             "#d8576b"
            ],
            [
             0.6666666666666666,
             "#ed7953"
            ],
            [
             0.7777777777777778,
             "#fb9f3a"
            ],
            [
             0.8888888888888888,
             "#fdca26"
            ],
            [
             1,
             "#f0f921"
            ]
           ]
          },
          "colorway": [
           "#636efa",
           "#EF553B",
           "#00cc96",
           "#ab63fa",
           "#FFA15A",
           "#19d3f3",
           "#FF6692",
           "#B6E880",
           "#FF97FF",
           "#FECB52"
          ],
          "font": {
           "color": "#2a3f5f"
          },
          "geo": {
           "bgcolor": "white",
           "lakecolor": "white",
           "landcolor": "#E5ECF6",
           "showlakes": true,
           "showland": true,
           "subunitcolor": "white"
          },
          "hoverlabel": {
           "align": "left"
          },
          "hovermode": "closest",
          "mapbox": {
           "style": "light"
          },
          "paper_bgcolor": "white",
          "plot_bgcolor": "#E5ECF6",
          "polar": {
           "angularaxis": {
            "gridcolor": "white",
            "linecolor": "white",
            "ticks": ""
           },
           "bgcolor": "#E5ECF6",
           "radialaxis": {
            "gridcolor": "white",
            "linecolor": "white",
            "ticks": ""
           }
          },
          "scene": {
           "xaxis": {
            "backgroundcolor": "#E5ECF6",
            "gridcolor": "white",
            "gridwidth": 2,
            "linecolor": "white",
            "showbackground": true,
            "ticks": "",
            "zerolinecolor": "white"
           },
           "yaxis": {
            "backgroundcolor": "#E5ECF6",
            "gridcolor": "white",
            "gridwidth": 2,
            "linecolor": "white",
            "showbackground": true,
            "ticks": "",
            "zerolinecolor": "white"
           },
           "zaxis": {
            "backgroundcolor": "#E5ECF6",
            "gridcolor": "white",
            "gridwidth": 2,
            "linecolor": "white",
            "showbackground": true,
            "ticks": "",
            "zerolinecolor": "white"
           }
          },
          "shapedefaults": {
           "line": {
            "color": "#2a3f5f"
           }
          },
          "ternary": {
           "aaxis": {
            "gridcolor": "white",
            "linecolor": "white",
            "ticks": ""
           },
           "baxis": {
            "gridcolor": "white",
            "linecolor": "white",
            "ticks": ""
           },
           "bgcolor": "#E5ECF6",
           "caxis": {
            "gridcolor": "white",
            "linecolor": "white",
            "ticks": ""
           }
          },
          "title": {
           "x": 0.05
          },
          "xaxis": {
           "automargin": true,
           "gridcolor": "white",
           "linecolor": "white",
           "ticks": "",
           "title": {
            "standoff": 15
           },
           "zerolinecolor": "white",
           "zerolinewidth": 2
          },
          "yaxis": {
           "automargin": true,
           "gridcolor": "white",
           "linecolor": "white",
           "ticks": "",
           "title": {
            "standoff": 15
           },
           "zerolinecolor": "white",
           "zerolinewidth": 2
          }
         }
        },
        "title": {
         "text": "Top industry of the seller in %"
        },
        "xaxis": {
         "tickfont": {
          "color": "rgb(107, 107, 107)",
          "size": 14
         },
         "title": {
          "text": "Industry Name"
         }
        },
        "yaxis": {
         "tickfont": {
          "color": "rgb(107, 107, 107)",
          "size": 14
         },
         "title": {
          "font": {
           "color": "rgb(107, 107, 107)",
           "size": 16
          },
          "text": "Count in %"
         }
        }
       }
      },
      "text/html": [
       "<div>                            <div id=\"7b3cec36-30d6-47aa-a4cf-07d8101ffaaf\" class=\"plotly-graph-div\" style=\"height:525px; width:100%;\"></div>            <script type=\"text/javascript\">                require([\"plotly\"], function(Plotly) {                    window.PLOTLYENV=window.PLOTLYENV || {};                                    if (document.getElementById(\"7b3cec36-30d6-47aa-a4cf-07d8101ffaaf\")) {                    Plotly.newPlot(                        \"7b3cec36-30d6-47aa-a4cf-07d8101ffaaf\",                        [{\"marker\":{\"color\":[24.231981651168834,17.681087371620325,10.847729558114047,5.294496480504367,3.892347497938016,3.626831776017716,3.0155806885331105,2.425796829629295,2.4065893093201667,2.1907871693764336,2.181748336289785,2.08119131820082,1.9343102805427819,1.268826194538285,1.1727885929926447,1.0067000350254782,1.003310472617985,0.9807133899013637,0.9343893703322901,0.898234037985696,0.8247935191566769,0.758132125142644,0.7536127085993198,0.7423141672410092,0.6677437942761589,0.5954331295829708,0.5491091100138972,0.5253821731614449,0.5197329024822895,0.5027850904448236,0.3773712813675755,0.369462302416758,0.3186188663043601,0.3152293038968669,0.3073203249460495,0.26664557605613115,0.23274995198119924,0.22258126475871964,0.20337374444959155,0.20224389031376047,0.20111403617792942,0.18416622414046346,0.17286768278215284,0.1547900166088558,0.1355824962997277,0.1288033714847413,0.12767351734891025,0.1265436632130792,0.123154100805586,0.09264803913814726,0.058752415063215345,0.04406431129741151,0.040674748889918316,0.022597082716621284,0.020337374444959158,0.018077666173297025,0.012428395494141705,0.005649270679155321],\"colorscale\":[[0.0,\"rgb(247,252,245)\"],[0.125,\"rgb(229,245,224)\"],[0.25,\"rgb(199,233,192)\"],[0.375,\"rgb(161,217,155)\"],[0.5,\"rgb(116,196,118)\"],[0.625,\"rgb(65,171,93)\"],[0.75,\"rgb(35,139,69)\"],[0.875,\"rgb(0,109,44)\"],[1.0,\"rgb(0,68,27)\"]],\"reversescale\":true},\"x\":[\"Business Entity Type 3\",\"XNA\",\"Self-employed\",\"Other\",\"Business Entity Type 2\",\"Medicine\",\"Government\",\"Trade: type 7\",\"School\",\"Construction\",\"Kindergarten\",\"Business Entity Type 1\",\"Transport: type 4\",\"Industry: type 9\",\"Trade: type 3\",\"Bank\",\"Security\",\"Housing\",\"Industry: type 11\",\"Military\",\"Industry: type 3\",\"Trade: type 2\",\"Police\",\"Transport: type 2\",\"Security Ministries\",\"Services\",\"University\",\"Postal\",\"Industry: type 7\",\"Restaurant\",\"Electricity\",\"Transport: type 3\",\"Industry: type 5\",\"Industry: type 1\",\"Industry: type 4\",\"Hotel\",\"Trade: type 6\",\"Telecom\",\"Industry: type 2\",\"Agriculture\",\"Insurance\",\"Advertising\",\"Realtor\",\"Emergency\",\"Trade: type 1\",\"Legal Services\",\"Industry: type 12\",\"Culture\",\"Mobile\",\"Cleaning\",\"Transport: type 1\",\"Industry: type 10\",\"Industry: type 6\",\"Trade: type 4\",\"Trade: type 5\",\"Religion\",\"Industry: type 13\",\"Industry: type 8\"],\"y\":[24.231981651168834,17.681087371620325,10.847729558114047,5.294496480504367,3.892347497938016,3.626831776017716,3.0155806885331105,2.425796829629295,2.4065893093201667,2.1907871693764336,2.181748336289785,2.08119131820082,1.9343102805427819,1.268826194538285,1.1727885929926447,1.0067000350254782,1.003310472617985,0.9807133899013637,0.9343893703322901,0.898234037985696,0.8247935191566769,0.758132125142644,0.7536127085993198,0.7423141672410092,0.6677437942761589,0.5954331295829708,0.5491091100138972,0.5253821731614449,0.5197329024822895,0.5027850904448236,0.3773712813675755,0.369462302416758,0.3186188663043601,0.3152293038968669,0.3073203249460495,0.26664557605613115,0.23274995198119924,0.22258126475871964,0.20337374444959155,0.20224389031376047,0.20111403617792942,0.18416622414046346,0.17286768278215284,0.1547900166088558,0.1355824962997277,0.1288033714847413,0.12767351734891025,0.1265436632130792,0.123154100805586,0.09264803913814726,0.058752415063215345,0.04406431129741151,0.040674748889918316,0.022597082716621284,0.020337374444959158,0.018077666173297025,0.012428395494141705,0.005649270679155321],\"type\":\"bar\"}],                        {\"title\":{\"text\":\"Top industry of the seller in %\"},\"xaxis\":{\"tickfont\":{\"color\":\"rgb(107, 107, 107)\",\"size\":14},\"title\":{\"text\":\"Industry Name\"}},\"yaxis\":{\"tickfont\":{\"color\":\"rgb(107, 107, 107)\",\"size\":14},\"title\":{\"font\":{\"color\":\"rgb(107, 107, 107)\",\"size\":16},\"text\":\"Count in %\"}},\"template\":{\"data\":{\"histogram2dcontour\":[{\"type\":\"histogram2dcontour\",\"colorbar\":{\"outlinewidth\":0,\"ticks\":\"\"},\"colorscale\":[[0.0,\"#0d0887\"],[0.1111111111111111,\"#46039f\"],[0.2222222222222222,\"#7201a8\"],[0.3333333333333333,\"#9c179e\"],[0.4444444444444444,\"#bd3786\"],[0.5555555555555556,\"#d8576b\"],[0.6666666666666666,\"#ed7953\"],[0.7777777777777778,\"#fb9f3a\"],[0.8888888888888888,\"#fdca26\"],[1.0,\"#f0f921\"]]}],\"choropleth\":[{\"type\":\"choropleth\",\"colorbar\":{\"outlinewidth\":0,\"ticks\":\"\"}}],\"histogram2d\":[{\"type\":\"histogram2d\",\"colorbar\":{\"outlinewidth\":0,\"ticks\":\"\"},\"colorscale\":[[0.0,\"#0d0887\"],[0.1111111111111111,\"#46039f\"],[0.2222222222222222,\"#7201a8\"],[0.3333333333333333,\"#9c179e\"],[0.4444444444444444,\"#bd3786\"],[0.5555555555555556,\"#d8576b\"],[0.6666666666666666,\"#ed7953\"],[0.7777777777777778,\"#fb9f3a\"],[0.8888888888888888,\"#fdca26\"],[1.0,\"#f0f921\"]]}],\"heatmap\":[{\"type\":\"heatmap\",\"colorbar\":{\"outlinewidth\":0,\"ticks\":\"\"},\"colorscale\":[[0.0,\"#0d0887\"],[0.1111111111111111,\"#46039f\"],[0.2222222222222222,\"#7201a8\"],[0.3333333333333333,\"#9c179e\"],[0.4444444444444444,\"#bd3786\"],[0.5555555555555556,\"#d8576b\"],[0.6666666666666666,\"#ed7953\"],[0.7777777777777778,\"#fb9f3a\"],[0.8888888888888888,\"#fdca26\"],[1.0,\"#f0f921\"]]}],\"heatmapgl\":[{\"type\":\"heatmapgl\",\"colorbar\":{\"outlinewidth\":0,\"ticks\":\"\"},\"colorscale\":[[0.0,\"#0d0887\"],[0.1111111111111111,\"#46039f\"],[0.2222222222222222,\"#7201a8\"],[0.3333333333333333,\"#9c179e\"],[0.4444444444444444,\"#bd3786\"],[0.5555555555555556,\"#d8576b\"],[0.6666666666666666,\"#ed7953\"],[0.7777777777777778,\"#fb9f3a\"],[0.8888888888888888,\"#fdca26\"],[1.0,\"#f0f921\"]]}],\"contourcarpet\":[{\"type\":\"contourcarpet\",\"colorbar\":{\"outlinewidth\":0,\"ticks\":\"\"}}],\"contour\":[{\"type\":\"contour\",\"colorbar\":{\"outlinewidth\":0,\"ticks\":\"\"},\"colorscale\":[[0.0,\"#0d0887\"],[0.1111111111111111,\"#46039f\"],[0.2222222222222222,\"#7201a8\"],[0.3333333333333333,\"#9c179e\"],[0.4444444444444444,\"#bd3786\"],[0.5555555555555556,\"#d8576b\"],[0.6666666666666666,\"#ed7953\"],[0.7777777777777778,\"#fb9f3a\"],[0.8888888888888888,\"#fdca26\"],[1.0,\"#f0f921\"]]}],\"surface\":[{\"type\":\"surface\",\"colorbar\":{\"outlinewidth\":0,\"ticks\":\"\"},\"colorscale\":[[0.0,\"#0d0887\"],[0.1111111111111111,\"#46039f\"],[0.2222222222222222,\"#7201a8\"],[0.3333333333333333,\"#9c179e\"],[0.4444444444444444,\"#bd3786\"],[0.5555555555555556,\"#d8576b\"],[0.6666666666666666,\"#ed7953\"],[0.7777777777777778,\"#fb9f3a\"],[0.8888888888888888,\"#fdca26\"],[1.0,\"#f0f921\"]]}],\"mesh3d\":[{\"type\":\"mesh3d\",\"colorbar\":{\"outlinewidth\":0,\"ticks\":\"\"}}],\"scatter\":[{\"fillpattern\":{\"fillmode\":\"overlay\",\"size\":10,\"solidity\":0.2},\"type\":\"scatter\"}],\"parcoords\":[{\"type\":\"parcoords\",\"line\":{\"colorbar\":{\"outlinewidth\":0,\"ticks\":\"\"}}}],\"scatterpolargl\":[{\"type\":\"scatterpolargl\",\"marker\":{\"colorbar\":{\"outlinewidth\":0,\"ticks\":\"\"}}}],\"bar\":[{\"error_x\":{\"color\":\"#2a3f5f\"},\"error_y\":{\"color\":\"#2a3f5f\"},\"marker\":{\"line\":{\"color\":\"#E5ECF6\",\"width\":0.5},\"pattern\":{\"fillmode\":\"overlay\",\"size\":10,\"solidity\":0.2}},\"type\":\"bar\"}],\"scattergeo\":[{\"type\":\"scattergeo\",\"marker\":{\"colorbar\":{\"outlinewidth\":0,\"ticks\":\"\"}}}],\"scatterpolar\":[{\"type\":\"scatterpolar\",\"marker\":{\"colorbar\":{\"outlinewidth\":0,\"ticks\":\"\"}}}],\"histogram\":[{\"marker\":{\"pattern\":{\"fillmode\":\"overlay\",\"size\":10,\"solidity\":0.2}},\"type\":\"histogram\"}],\"scattergl\":[{\"type\":\"scattergl\",\"marker\":{\"colorbar\":{\"outlinewidth\":0,\"ticks\":\"\"}}}],\"scatter3d\":[{\"type\":\"scatter3d\",\"line\":{\"colorbar\":{\"outlinewidth\":0,\"ticks\":\"\"}},\"marker\":{\"colorbar\":{\"outlinewidth\":0,\"ticks\":\"\"}}}],\"scattermapbox\":[{\"type\":\"scattermapbox\",\"marker\":{\"colorbar\":{\"outlinewidth\":0,\"ticks\":\"\"}}}],\"scatterternary\":[{\"type\":\"scatterternary\",\"marker\":{\"colorbar\":{\"outlinewidth\":0,\"ticks\":\"\"}}}],\"scattercarpet\":[{\"type\":\"scattercarpet\",\"marker\":{\"colorbar\":{\"outlinewidth\":0,\"ticks\":\"\"}}}],\"carpet\":[{\"aaxis\":{\"endlinecolor\":\"#2a3f5f\",\"gridcolor\":\"white\",\"linecolor\":\"white\",\"minorgridcolor\":\"white\",\"startlinecolor\":\"#2a3f5f\"},\"baxis\":{\"endlinecolor\":\"#2a3f5f\",\"gridcolor\":\"white\",\"linecolor\":\"white\",\"minorgridcolor\":\"white\",\"startlinecolor\":\"#2a3f5f\"},\"type\":\"carpet\"}],\"table\":[{\"cells\":{\"fill\":{\"color\":\"#EBF0F8\"},\"line\":{\"color\":\"white\"}},\"header\":{\"fill\":{\"color\":\"#C8D4E3\"},\"line\":{\"color\":\"white\"}},\"type\":\"table\"}],\"barpolar\":[{\"marker\":{\"line\":{\"color\":\"#E5ECF6\",\"width\":0.5},\"pattern\":{\"fillmode\":\"overlay\",\"size\":10,\"solidity\":0.2}},\"type\":\"barpolar\"}],\"pie\":[{\"automargin\":true,\"type\":\"pie\"}]},\"layout\":{\"autotypenumbers\":\"strict\",\"colorway\":[\"#636efa\",\"#EF553B\",\"#00cc96\",\"#ab63fa\",\"#FFA15A\",\"#19d3f3\",\"#FF6692\",\"#B6E880\",\"#FF97FF\",\"#FECB52\"],\"font\":{\"color\":\"#2a3f5f\"},\"hovermode\":\"closest\",\"hoverlabel\":{\"align\":\"left\"},\"paper_bgcolor\":\"white\",\"plot_bgcolor\":\"#E5ECF6\",\"polar\":{\"bgcolor\":\"#E5ECF6\",\"angularaxis\":{\"gridcolor\":\"white\",\"linecolor\":\"white\",\"ticks\":\"\"},\"radialaxis\":{\"gridcolor\":\"white\",\"linecolor\":\"white\",\"ticks\":\"\"}},\"ternary\":{\"bgcolor\":\"#E5ECF6\",\"aaxis\":{\"gridcolor\":\"white\",\"linecolor\":\"white\",\"ticks\":\"\"},\"baxis\":{\"gridcolor\":\"white\",\"linecolor\":\"white\",\"ticks\":\"\"},\"caxis\":{\"gridcolor\":\"white\",\"linecolor\":\"white\",\"ticks\":\"\"}},\"coloraxis\":{\"colorbar\":{\"outlinewidth\":0,\"ticks\":\"\"}},\"colorscale\":{\"sequential\":[[0.0,\"#0d0887\"],[0.1111111111111111,\"#46039f\"],[0.2222222222222222,\"#7201a8\"],[0.3333333333333333,\"#9c179e\"],[0.4444444444444444,\"#bd3786\"],[0.5555555555555556,\"#d8576b\"],[0.6666666666666666,\"#ed7953\"],[0.7777777777777778,\"#fb9f3a\"],[0.8888888888888888,\"#fdca26\"],[1.0,\"#f0f921\"]],\"sequentialminus\":[[0.0,\"#0d0887\"],[0.1111111111111111,\"#46039f\"],[0.2222222222222222,\"#7201a8\"],[0.3333333333333333,\"#9c179e\"],[0.4444444444444444,\"#bd3786\"],[0.5555555555555556,\"#d8576b\"],[0.6666666666666666,\"#ed7953\"],[0.7777777777777778,\"#fb9f3a\"],[0.8888888888888888,\"#fdca26\"],[1.0,\"#f0f921\"]],\"diverging\":[[0,\"#8e0152\"],[0.1,\"#c51b7d\"],[0.2,\"#de77ae\"],[0.3,\"#f1b6da\"],[0.4,\"#fde0ef\"],[0.5,\"#f7f7f7\"],[0.6,\"#e6f5d0\"],[0.7,\"#b8e186\"],[0.8,\"#7fbc41\"],[0.9,\"#4d9221\"],[1,\"#276419\"]]},\"xaxis\":{\"gridcolor\":\"white\",\"linecolor\":\"white\",\"ticks\":\"\",\"title\":{\"standoff\":15},\"zerolinecolor\":\"white\",\"automargin\":true,\"zerolinewidth\":2},\"yaxis\":{\"gridcolor\":\"white\",\"linecolor\":\"white\",\"ticks\":\"\",\"title\":{\"standoff\":15},\"zerolinecolor\":\"white\",\"automargin\":true,\"zerolinewidth\":2},\"scene\":{\"xaxis\":{\"backgroundcolor\":\"#E5ECF6\",\"gridcolor\":\"white\",\"linecolor\":\"white\",\"showbackground\":true,\"ticks\":\"\",\"zerolinecolor\":\"white\",\"gridwidth\":2},\"yaxis\":{\"backgroundcolor\":\"#E5ECF6\",\"gridcolor\":\"white\",\"linecolor\":\"white\",\"showbackground\":true,\"ticks\":\"\",\"zerolinecolor\":\"white\",\"gridwidth\":2},\"zaxis\":{\"backgroundcolor\":\"#E5ECF6\",\"gridcolor\":\"white\",\"linecolor\":\"white\",\"showbackground\":true,\"ticks\":\"\",\"zerolinecolor\":\"white\",\"gridwidth\":2}},\"shapedefaults\":{\"line\":{\"color\":\"#2a3f5f\"}},\"annotationdefaults\":{\"arrowcolor\":\"#2a3f5f\",\"arrowhead\":0,\"arrowwidth\":1},\"geo\":{\"bgcolor\":\"white\",\"landcolor\":\"#E5ECF6\",\"subunitcolor\":\"white\",\"showland\":true,\"showlakes\":true,\"lakecolor\":\"white\"},\"title\":{\"x\":0.05},\"mapbox\":{\"style\":\"light\"}}}},                        {\"responsive\": true}                    ).then(function(){\n",
       "                            \n",
       "var gd = document.getElementById('7b3cec36-30d6-47aa-a4cf-07d8101ffaaf');\n",
       "var x = new MutationObserver(function (mutations, observer) {{\n",
       "        var display = window.getComputedStyle(gd).display;\n",
       "        if (!display || display === 'none') {{\n",
       "            console.log([gd, 'removed!']);\n",
       "            Plotly.purge(gd);\n",
       "            observer.disconnect();\n",
       "        }}\n",
       "}});\n",
       "\n",
       "// Listen for the removal of the full notebook cells\n",
       "var notebookContainer = gd.closest('#notebook-container');\n",
       "if (notebookContainer) {{\n",
       "    x.observe(notebookContainer, {childList: true});\n",
       "}}\n",
       "\n",
       "// Listen for the clearing of the current output cell\n",
       "var outputEl = gd.closest('.output');\n",
       "if (outputEl) {{\n",
       "    x.observe(outputEl, {childList: true});\n",
       "}}\n",
       "\n",
       "                        })                };                });            </script>        </div>"
      ]
     },
     "metadata": {},
     "output_type": "display_data"
    }
   ],
   "source": [
    "# Organization Type Distribution\n",
    "temp = two_columns_df[\"ORGANIZATION_TYPE\"].value_counts()\n",
    "\n",
    "trace = go.Bar(\n",
    "    x=temp.index,\n",
    "    y=(temp / temp.sum()) * 100,\n",
    "    marker=dict(\n",
    "        color=(temp / temp.sum()) * 100,\n",
    "        colorscale='Greens',\n",
    "        reversescale=True\n",
    "    ),\n",
    ")\n",
    "\n",
    "data = [trace]\n",
    "\n",
    "layout = go.Layout(\n",
    "    title=\"Top industry of the seller in %\",\n",
    "    xaxis=dict(\n",
    "        title='Industry Name',\n",
    "        tickfont=dict(\n",
    "            size=14,\n",
    "            color='rgb(107, 107, 107)'\n",
    "        )\n",
    "    ),\n",
    "    yaxis=dict(\n",
    "        title='Count in %',\n",
    "        titlefont=dict(\n",
    "            size=16,\n",
    "            color='rgb(107, 107, 107)'\n",
    "        ),\n",
    "        tickfont=dict(\n",
    "            size=14,\n",
    "            color='rgb(107, 107, 107)'\n",
    "        )\n",
    "    )\n",
    ")\n",
    "\n",
    "fig = go.Figure(data=data, layout=layout)\n",
    "fig.show()\n"
   ]
  },
  {
   "cell_type": "markdown",
   "id": "844ce6e2",
   "metadata": {},
   "source": [
    "#### Plotting distribution of Housing Type by sample applicants"
   ]
  },
  {
   "cell_type": "code",
   "execution_count": 29,
   "id": "a598f2d4",
   "metadata": {},
   "outputs": [
    {
     "data": {
      "image/png": "[encoded data removed]",
      "text/plain": [
       "<Figure size 640x480 with 1 Axes>"
      ]
     },
     "metadata": {},
     "output_type": "display_data"
    }
   ],
   "source": [
    "# Housing type distribution\n",
    "housing_type_counts = two_columns_df['NAME_HOUSING_TYPE'].value_counts()\n",
    "housing_type_counts.plot(kind='bar')\n",
    "plt.title('Count of Housing Types')\n",
    "plt.xlabel('Housing Type')\n",
    "plt.ylabel('Count')\n",
    "plt.show()"
   ]
  },
  {
   "cell_type": "markdown",
   "id": "ab6276ea",
   "metadata": {},
   "source": [
    "# Results"
   ]
  },
  {
   "cell_type": "markdown",
   "id": "83f2ae19",
   "metadata": {},
   "source": [
    "# Group Members and Participation"
   ]
  }
 ],
 "metadata": {
  "kernelspec": {
   "display_name": "Python 3 (ipykernel)",
   "language": "python",
   "name": "python3"
  },
  "language_info": {
   "codemirror_mode": {
    "name": "ipython",
    "version": 3
   },
   "file_extension": ".py",
   "mimetype": "text/x-python",
   "name": "python",
   "nbconvert_exporter": "python",
   "pygments_lexer": "ipython3",
   "version": "3.10.9"
  },
  "toc": {
   "base_numbering": 1,
   "nav_menu": {
    "height": "138.99px",
    "width": "481.99px"
   },
   "number_sections": false,
   "sideBar": false,
   "skip_h1_title": false,
   "title_cell": "Table of Contents",
   "title_sidebar": "Contents",
   "toc_cell": true,
   "toc_position": {
    "height": "421.297px",
    "left": "1642px",
    "top": "139px",
    "width": "158.312px"
   },
   "toc_section_display": true,
   "toc_window_display": true
  }
 },
 "nbformat": 4,
 "nbformat_minor": 5
}
