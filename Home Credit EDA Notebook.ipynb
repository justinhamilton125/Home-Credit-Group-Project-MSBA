{
 "cells": [
  {
   "cell_type": "markdown",
   "id": "ae4f1164",
   "metadata": {
    "toc": true
   },
   "source": [
    "<h1>Table of Contents<span class=\"tocSkip\"></span></h1>\n",
    "<div class=\"toc\"><ul class=\"toc-item\"><li><span><a href=\"#Title:-Group-2-Home-Credit-Exploratory-Data-Analysis\" data-toc-modified-id=\"Title:-Group-2-Home-Credit-Exploratory-Data-Analysis-1\">Title: Group 2 Home Credit Exploratory Data Analysis</a></span></li><li><span><a href=\"#Question-List\" data-toc-modified-id=\"Question-List-2\">Question List</a></span></li><li><span><a href=\"#Introduction\" data-toc-modified-id=\"Introduction-3\">Introduction</a></span></li><li><span><a href=\"#Description-of-the-Data\" data-toc-modified-id=\"Description-of-the-Data-4\">Description of the Data</a></span><ul class=\"toc-item\"><li><span><a href=\"#Data-Sets-Used-in-Project\" data-toc-modified-id=\"Data-Sets-Used-in-Project-4.1\"><strong>Data Sets Used in Project</strong></a></span><ul class=\"toc-item\"><li><span><a href=\"#application_train.csv\" data-toc-modified-id=\"application_train.csv-4.1.1\">application_train.csv</a></span></li><li><span><a href=\"#application_test.csv\" data-toc-modified-id=\"application_test.csv-4.1.2\">application_test.csv</a></span></li><li><span><a href=\"#bureau.csv\" data-toc-modified-id=\"bureau.csv-4.1.3\">bureau.csv</a></span></li><li><span><a href=\"#bureau_balance.csv\" data-toc-modified-id=\"bureau_balance.csv-4.1.4\">bureau_balance.csv</a></span></li><li><span><a href=\"#credit_card_balance.csv\" data-toc-modified-id=\"credit_card_balance.csv-4.1.5\">credit_card_balance.csv</a></span></li><li><span><a href=\"#HomeCredit_columns_descriptions.csv\" data-toc-modified-id=\"HomeCredit_columns_descriptions.csv-4.1.6\">HomeCredit_columns_descriptions.csv</a></span></li><li><span><a href=\"#installments_payments.csv\" data-toc-modified-id=\"installments_payments.csv-4.1.7\">installments_payments.csv</a></span></li><li><span><a href=\"#POS_CASH_balance.csv\" data-toc-modified-id=\"POS_CASH_balance.csv-4.1.8\">POS_CASH_balance.csv</a></span></li><li><span><a href=\"#previous_application.csv\" data-toc-modified-id=\"previous_application.csv-4.1.9\">previous_application.csv</a></span></li><li><span><a href=\"#sample_submission.csv\" data-toc-modified-id=\"sample_submission.csv-4.1.10\">sample_submission.csv</a></span></li></ul></li><li><span><a href=\"#Summary-of-the-Data\" data-toc-modified-id=\"Summary-of-the-Data-4.2\">Summary of the Data</a></span><ul class=\"toc-item\"><li><ul class=\"toc-item\"><li><span><a href=\"#Installing-Necessary-Packagees\" data-toc-modified-id=\"Installing-Necessary-Packagees-4.2.0.1\">Installing Necessary Packagees</a></span></li><li><span><a href=\"#Importing-Necessary-Packages\" data-toc-modified-id=\"Importing-Necessary-Packages-4.2.0.2\">Importing Necessary Packages</a></span></li><li><span><a href=\"#Making-the-dataframes-for-each-of-our-CSV-files\" data-toc-modified-id=\"Making-the-dataframes-for-each-of-our-CSV-files-4.2.0.3\">Making the dataframes for each of our CSV files</a></span></li><li><span><a href=\"#Printing-the-shape-of-each-of-our-dataframes-for-the-row-and-columns\" data-toc-modified-id=\"Printing-the-shape-of-each-of-our-dataframes-for-the-row-and-columns-4.2.0.4\">Printing the shape of each of our dataframes for the row and columns</a></span></li><li><span><a href=\"#Printing-the-top-5-rows-of-each-dataframe\" data-toc-modified-id=\"Printing-the-top-5-rows-of-each-dataframe-4.2.0.5\">Printing the top 5 rows of each dataframe</a></span></li><li><span><a href=\"#Printing-the-Common-Columns\" data-toc-modified-id=\"Printing-the-Common-Columns-4.2.0.6\">Printing the Common Columns</a></span></li><li><span><a href=\"#Printing-General-Info-for-Each-Dataframe\" data-toc-modified-id=\"Printing-General-Info-for-Each-Dataframe-4.2.0.7\">Printing General Info for Each Dataframe</a></span></li><li><span><a href=\"#Exploring-summary-stats-of-the-numeric-columns\" data-toc-modified-id=\"Exploring-summary-stats-of-the-numeric-columns-4.2.0.8\">Exploring summary stats of the numeric columns</a></span></li><li><span><a href=\"#Exploring-the-categorical-variables-in-the-dataframes\" data-toc-modified-id=\"Exploring-the-categorical-variables-in-the-dataframes-4.2.0.9\">Exploring the categorical variables in the dataframes</a></span></li><li><span><a href=\"#Getting-the-unique-values-for-the-categorical-columns-in-the-dataframe\" data-toc-modified-id=\"Getting-the-unique-values-for-the-categorical-columns-in-the-dataframe-4.2.0.10\">Getting the unique values for the categorical columns in the dataframe</a></span></li></ul></li></ul></li></ul></li><li><span><a href=\"#Discussion-of-Missing-Data\" data-toc-modified-id=\"Discussion-of-Missing-Data-5\">Discussion of Missing Data</a></span><ul class=\"toc-item\"><li><ul class=\"toc-item\"><li><ul class=\"toc-item\"><li><span><a href=\"#Re-examining-the-shape-of-the-test-and-training-set\" data-toc-modified-id=\"Re-examining-the-shape-of-the-test-and-training-set-5.0.0.1\">Re-examining the shape of the test and training set</a></span></li><li><span><a href=\"#Evaluating-the-missing-data-from-the-dataframes\" data-toc-modified-id=\"Evaluating-the-missing-data-from-the-dataframes-5.0.0.2\">Evaluating the missing data from the dataframes</a></span></li><li><span><a href=\"#Filtering-missing-values-and-printing-summary-metrics\" data-toc-modified-id=\"Filtering-missing-values-and-printing-summary-metrics-5.0.0.3\">Filtering missing values and printing summary metrics</a></span></li></ul></li></ul></li></ul></li><li><span><a href=\"#Exploratory-of-Visualizations\" data-toc-modified-id=\"Exploratory-of-Visualizations-6\">Exploratory of Visualizations</a></span><ul class=\"toc-item\"><li><ul class=\"toc-item\"><li><ul class=\"toc-item\"><li><span><a href=\"#Exploring-Gender-Distribution-of-Sample\" data-toc-modified-id=\"Exploring-Gender-Distribution-of-Sample-6.0.0.1\">Exploring Gender Distribution of Sample</a></span></li><li><span><a href=\"#Visualizing-Education-of-Sample-Applicants\" data-toc-modified-id=\"Visualizing-Education-of-Sample-Applicants-6.0.0.2\">Visualizing Education of Sample Applicants</a></span></li><li><span><a href=\"#Plotting-the-distribution-of-age-in-years-of-sample-applicants\" data-toc-modified-id=\"Plotting-the-distribution-of-age-in-years-of-sample-applicants-6.0.0.3\">Plotting the distribution of age in years of sample applicants</a></span></li><li><span><a href=\"#Visualizing-client-accompaniment-during-application\" data-toc-modified-id=\"Visualizing-client-accompaniment-during-application-6.0.0.4\">Visualizing client accompaniment during application</a></span></li><li><span><a href=\"#Visualizing-Top-Organization-Distributions\" data-toc-modified-id=\"Visualizing-Top-Organization-Distributions-6.0.0.5\">Visualizing Top Organization Distributions</a></span></li><li><span><a href=\"#Plotting-distribution-of-Housing-Type-by-sample-applicants\" data-toc-modified-id=\"Plotting-distribution-of-Housing-Type-by-sample-applicants-6.0.0.6\">Plotting distribution of Housing Type by sample applicants</a></span></li></ul></li></ul></li></ul></li><li><span><a href=\"#Results\" data-toc-modified-id=\"Results-7\">Results</a></span></li><li><span><a href=\"#Group-Members-and-Participation\" data-toc-modified-id=\"Group-Members-and-Participation-8\">Group Members and Participation</a></span></li></ul></div>"
   ]
  },
  {
   "cell_type": "markdown",
   "id": "4796c196",
   "metadata": {},
   "source": [
    "# Title: Group 2 Home Credit Exploratory Data Analysis"
   ]
  },
  {
   "cell_type": "markdown",
   "id": "a50f4703",
   "metadata": {},
   "source": [
    "# Question List"
   ]
  },
  {
   "cell_type": "markdown",
   "id": "99721e27",
   "metadata": {},
   "source": [
    "* What is the target variable?\n",
    "* What is our business and analytic problem?\n",
    "* What do each of the datasets have in common?\n",
    "* What information can we draw from in our datasets that will help us understand if a person may be trustworhty or not to borrow?\n",
    "* Are there any missing variables in our data set that we need to remove?\n",
    "* What demographic do we want to try and visualize that are in our data?\n",
    "* How can we use our EDA to lead into our project modeling?"
   ]
  },
  {
   "cell_type": "markdown",
   "id": "5d43d5f7",
   "metadata": {},
   "source": [
    "# Introduction"
   ]
  },
  {
   "cell_type": "markdown",
   "id": "2f95347c",
   "metadata": {},
   "source": [
    "**Project Goal:** Home Credit will be able to identify if a customer is a safe candidate to lend to, then create a personalized customer loan and repayment plan to be accountable for, resulting in an increase in revenue, improved customer experience, and lower default rates.\n",
    "\n",
    "\n",
    "**Business Problem:** Home Credit desires to know safe borrowers in a customer base that is unfamiliar with banking and give the customer a plan for successful loan repayment. Lending to those who are more likely to default on loans decreases the profits of Home Credit and results in negative customer experiences.\n",
    "\n",
    "**Analytic Problem:**\n",
    "\n",
    "The **target variable** is specificially customers that do have a negative history of repayment to lend to, and postive repayment. Represented in the application_train/test.csv sets of binary where 1 = Not trust worthy borrower (Client with payment difficulties), 0 = Trustworthy borrower (client with good repayment history).\n",
    "\n",
    "* Predict which customers will be good borrowers, using a classification method based on customer financial behavior data.\n",
    "\n",
    "* Use a regression method to see the relationship that a trust worthy customer has to other attributes about them.\n",
    "\n"
   ]
  },
  {
   "cell_type": "markdown",
   "id": "8170a613",
   "metadata": {},
   "source": [
    "# Description of the Data"
   ]
  },
  {
   "cell_type": "markdown",
   "id": "be3eb054",
   "metadata": {},
   "source": [
    "## **Data Sets Used in Project**\n",
    "\n",
    "\n",
    "### application_train.csv\n",
    "* application_train.csv: \n",
    "\n",
    "\n",
    "    * Main dataset. This file contains the information of the target variable as binary for trustworthy to loan to.\n",
    "   \n",
    "\n",
    "\n",
    "| Column                          | Description                                                                                          |\n",
    "|---------------------------------|------------------------------------------------------------------------------------------------------|\n",
    "| SK_ID_CURR                      | ID of loan in our sample                                                                             |\n",
    "| TARGET                          | Target variable (1 - client with payment difficulties: he/she had late payment more than X days on at least one of the first Y installments of the loan in our sample, 0 - all other cases)  |\n",
    "| NAME_CONTRACT_TYPE              | Identification if loan is cash or revolving                                                          |\n",
    "| CODE_GENDER                     | Gender of the client                                                                                 |\n",
    "| FLAG_OWN_CAR                    | Flag if the client owns a car                                                                        |\n",
    "| FLAG_OWN_REALTY                 | Flag if the client owns a house or flat                                                              |\n",
    "| CNT_CHILDREN                    | Number of children the client has                                                                    |\n",
    "| AMT_INCOME_TOTAL                | Income of the client                                                                                 |\n",
    "| AMT_CREDIT                      | Credit amount of the loan                                                                            |\n",
    "| AMT_ANNUITY                     | Loan annuity                                                                                         |\n",
    "| AMT_GOODS_PRICE                 | For consumer loans it is the price of the goods for which the loan is given                           |\n",
    "| NAME_TYPE_SUITE                 | Who was accompanying client when he was applying for the loan                                        |\n",
    "| NAME_INCOME_TYPE                | Clients income type (businessman, working, maternity leave,...)                                      |\n",
    "| NAME_EDUCATION_TYPE             | Level of highest education the client achieved                                                       |\n",
    "| NAME_FAMILY_STATUS              | Family status of the client                                                                          |\n",
    "| NAME_HOUSING_TYPE               | What is the housing situation of the client (renting, living with parents, ...)                      |\n",
    "| REGION_POPULATION_RELATIVE      | Normalized population of region where client lives (higher number means the client lives in...       |\n",
    "| DAYS_BIRTH                      | Client's age in days at the time of application                                                      |\n",
    "| DAYS_EMPLOYED                   | How many days before the application the person started current employment                           |\n",
    "| DAYS_REGISTRATION               | How many days before the application did client change his registration                              |\n",
    "| DAYS_ID_PUBLISH                 | How many days before the application did client change the identity document with which he...        |\n",
    "| OWN_CAR_AGE                     | Age of client's car                                                                                  |\n",
    "| FLAG_MOBIL                      | Did client provide mobile phone (1=YES, 0=NO)                                                        |\n",
    "| FLAG_EMP_PHONE                  | Did client provide work phone (1=YES, 0=NO)                                                          |\n",
    "| FLAG_WORK_PHONE                 | Did client provide home phone (1=YES, 0=NO)                                                          |\n",
    "| FLAG_CONT_MOBILE                | Was mobile phone reachable (1=YES, 0=NO)                                                             |\n",
    "| FLAG_PHONE                      | Did client provide home phone (1=YES, 0=NO)                                                          |\n",
    "| FLAG_EMAIL                      | Did client provide email (1=YES, 0=NO)                                                               |\n",
    "| OCCUPATION_TYPE                 | What kind of occupation does the client have                                                         |\n",
    "| CNT_FAM_MEMBERS                 | How many family members does client have                                                             |\n",
    "| REGION_RATING_CLIENT            | Our rating of the region where client lives (1,2,3)                                                  |\n",
    "| REGION_RATING_CLIENT_W_CITY     | Our rating of the region where client lives with taking city into account (1,2,3)                    |\n",
    "| WEEKDAY_APPR_PROCESS_START      | On which day of the week did the client apply for the loan                                           |\n",
    "| HOUR_APPR_PROCESS_START         | Approximately at what hour did the client apply for the loan                                         |\n",
    "| REG_REGION_NOT_LIVE_REGION      | Flag if client's permanent address does not match contact address (1=different, 0=same, at region level        |\n",
    "| REG_REGION_NOT_WORK_REGION      | Flag if client's permanent address does not match work address (1=different, 0=same, at region level)                                 |\n",
    "| LIVE_REGION_NOT_WORK_REGION     | Flag if client's contact address does not match work address (1=different, 0=same, at region level)                                    |\n",
    "| REG_CITY_NOT_LIVE_CITY          | Flag if client's permanent address does not match contact address (1=different, 0=same, at city level)                                 |\n",
    "| REG_CITY_NOT_WORK_CITY          | Flag if client's permanent address does not match work address (1=different, 0=same, at city level)                                    |\n",
    "| LIVE_CITY_NOT_WORK_CITY         | Flag if client's contact address does not match work address (1=different, 0=same, at city level)                                       |\n",
    "| ORGANIZATION_TYPE               | Type of organization where client works                                                                                                 |\n",
    "| EXT_SOURCE_1                    | Normalized score from external data source                                                                                             |\n",
    "| EXT_SOURCE_2                    | Normalized score from external data source                                                                                             |\n",
    "| EXT_SOURCE_3                    | Normalized score from external data source                                                                                             |\n",
    "| APARTMENTS_AVG                  | Normalized information about building where the client lives, average apartment size, common area, etc.                                |\n",
    "| BASEMENTAREA_AVG                | Normalized information about building where the client lives, average basement area, common area, etc.                                 |\n",
    "| YEARS_BEGINEXPLUATATION_AVG     | Normalized information about building where the client lives, average years of building exploitation, etc.                             |\n",
    "| YEARS_BUILD_AVG                 | Normalized information about building where the client lives, average years since building construction, etc.                          |\n",
    "| COMMONAREA_AVG                  | Normalized information about building where the client lives, average common area, etc.                                                |\n",
    "| ELEVATORS_AVG                   | Normalized information about building where the client lives, average number of elevators, etc.                                       |\n",
    "| ENTRANCES_AVG                   | Normalized information about building where the client lives, average number of entrances, etc.                                       |\n",
    "| FLOORSMAX_AVG                   | Normalized information about building where the client lives, average maximum number of floors, etc.                                   |\n",
    "| FLOORSMIN_AVG                   | Normalized information about building where the client lives, average minimum number of floors, etc.                                   |\n",
    "| LANDAREA_AVG                    | Normalized information about building where the client lives, average land area, etc.                                                  |\n",
    "| LIVINGAPARTMENTS_AVG            | Normalized information about building where the client lives, average living area of apartments, etc.                                  |\n",
    "| LIVINGAREA_AVG                  | Normalized information about building where the client lives, average living area, etc.                                                |\n",
    "| NONLIVINGAPARTMENTS_AVG         | Normalized information about building where the client lives, average non-living area of apartments, etc.                              |\n",
    "| NONLIVINGAREA_AVG               | Normalized information about building where the client lives, average non-living area, etc.                                            |\n",
    "| APARTMENTS_MODE                 | Normalized information about building where the client lives, modus (most common) apartment size, common area, etc.                   |\n",
    "| BASEMENTAREA_MODE               | Normalized information about building where the client lives, modus (most common) basement area, common area, etc.                    |\n",
    "| YEARS_BEGINEXPLUATATION_MODE    | Normalized information about building |\n",
    "| YEARS_BUILD_AVG            | Normalized information about building where the client lives, What is average (_AVG suffix), modus (_MODE suffix), median (_MEDI suffix) apartment size, common area, living area, age of building, number of elevators, number of entrances, state of the building, number of floor   |\n",
    "| COMMONAREA_AVG             | Normalized information about building where the client lives, What is average (_AVG suffix), modus (_MODE suffix), median (_MEDI suffix) apartment size, common area, living area, age of building, number of elevators, number of entrances, state of the building, number of floor   |\n",
    "| ELEVATORS_AVG              | Normalized information about building where the client lives, What is average (_AVG suffix), modus (_MODE suffix), median (_MEDI suffix) apartment size, common area, living area, age of building, number of elevators, number of entrances, state of the building, number of floor   |\n",
    "| ENTRANCES_AVG              | Normalized information about building where the client lives, What is average (_AVG suffix), modus (_MODE suffix), median (_MEDI suffix) apartment size, common area, living area, age of building, number of elevators, number of entrances, state of the building, number of floor   |\n",
    "| FLOORSMAX_AVG              | Normalized information about building where the client lives, What is average (_AVG suffix), modus (_MODE suffix), median (_MEDI suffix) apartment size, common area, living area, age of building, number of elevators, number of entrances, state of the building, number of floor   |\n",
    "| FLOORSMIN_AVG              | Normalized information about building where the client lives, What is average (_AVG suffix), modus (_MODE suffix), median (_MEDI suffix) apartment size, common area, living area, age of building, number of elevators, number of entrances, state of the building, number of floor   |\n",
    "| LANDAREA_AVG               | Normalized information about building where the client lives, What is average (_AVG suffix), modus (_MODE suffix), median (_MEDI suffix) apartment size, common area, living area, age of building, number of elevators, number of entrances, state of the building, number of floor   |\n",
    "| LIVINGAPARTMENTS_AVG       | Normalized information about building where the client lives, What is average (_AVG suffix), modus (_MODE suffix), median (_MEDI suffix) apartment size, common area, living area, age of building, number of elevators, number of entrances, state of the building, number of floor   |\n",
    "| LIVINGAREA_AVG             | Normalized information about building where the client lives, What is average (_AVG suffix), modus (_MODE suffix), median (_MEDI suffix) apartment size, common area, living area, age of building, number of elevators, number of entrances, state of the building, number of floor   |\n",
    "| NONLIVINGAPARTMENTS_AVG    | Normalized information about building where the client lives, What is average (_AVG suffix), modus (_MODE suffix), median (_MEDI suffix) apartment size, common area, living area, age of building, number of elevators, number of entrances, state of the building, number of floor   |\n",
    "| NONLIVINGAREA_AVG         | Normalized information about building where the client lives, What is average (_AVG suffix), modus (_MODE suffix), median (_MEDI suffix) apartment size, common area, living area, age of building, number of elevators, number of entrances, state of the building, number of floor |\n",
    "| APARTMENTS_MODE           | Normalized information about building where the client lives, What is average (_AVG suffix), modus (_MODE suffix), median (_MEDI suffix) apartment size, common area, living area, age of building, number of elevators, number of entrances, state of the building, number of floor |\n",
    "| BASEMENTAREA_MODE         | Normalized information about building where the client lives, What is average (_AVG suffix), modus (_MODE suffix), median (_MEDI suffix) apartment size, common area, living area, age of building, number of elevators, number of entrances, state of the building, number of floor |\n",
    "| YEARS_BEGINEXPLUATATION_MODE | Normalized information about building where the client lives, What is average (_AVG suffix), modus (_MODE suffix), median (_MEDI suffix) apartment size, common area, living area, age of building, number of elevators, number of entrances, state of the building, number of floor |\n",
    "| YEARS_BUILD_MODE          | Normalized information about building where the client lives, What is average (_AVG suffix), modus (_MODE suffix), median (_MEDI suffix) apartment size, common area, living area, age of building, number of elevators, number of entrances, state of the building, number of floor |\n",
    "| COMMONAREA_MODE           | Normalized information about building where the client lives, What is average (_AVG suffix), modus (_MODE suffix), median (_MEDI suffix) apartment size, common area, living area, age of building, number of elevators, number of entrances, state of the building, number of floor |\n",
    "| ELEVATORS_MODE            | Normalized information about building where the client lives, What is average (_AVG suffix), modus (_MODE suffix), median (_MEDI suffix) apartment size, common area, living area, age of building, number of elevators, number of entrances, state of the building, number of floor |\n",
    "| ENTRANCES_MODE            | Normalized information about building where the client lives, What is average (_AVG suffix), modus (_MODE suffix), median (_MEDI suffix) apartment size, common area, living area, age of building, number of elevators, number of entrances, state of the building, number of floor |\n",
    "| FLOORSMAX_MODE            | Normalized information about building where the client lives, What is average (_AVG suffix), modus (_MODE suffix), median (_MEDI suffix) apartment size, common area, living area, age of building, number of elevators, number of entrances, state of the building, number of floor |\n",
    "| FLOORSMIN_MODE            | Normalized information about building where the client lives, What is average (_AVG suffix), modus (_MODE suffix), median (_MEDI suffix) apartment size, common area, living area, age of building, number of elevators, number of entrances, state of the building, number of floor |\n",
    "| LANDAREA_MODE             | Normalized information about building where the client lives, What is average (_AVG suffix), modus (_MODE suffix), median (_MEDI suffix) apartment size, common area, living area, age of building, number of elevators, number of entrances, state of the building, number of floor |\n",
    "| LIVINGAPARTMENTS_MODE     | Normalized information about building where the client lives, What is average (_AVG suffix), modus (_MODE suffix), median (_MEDI suffix) apartment size, common area, living area, age of building, number of elevators, number of entrances, state of the building, number of floor |\n",
    "| LIVINGAREA_MODE           | Normalized information about building where the client lives, What is average (_AVG suffix), modus (_MODE suffix), median (_MEDI suffix) apartment size, common area, living area, age of building, number of elevators, number of entrances, state of the building, number of floor |\n",
    "| NONLIVINGAPARTMENTS_MODE  | Normalized information about building where the client lives, What is average (_AVG suffix), modus (_MODE suffix), median (_MEDI suffix) apartment size, common area, living area, age of building, number of elevators, number of entrances, state of the building, number of floor |\n",
    "| NONLIVINGAREA_MODE        | Normalized information about building where the client lives, What is average (_AVG suffix), modus (_MODE suffix), median (_MEDI suffix) apartment size, common area, living area, age of building, number of elevators, number of entrances, state of the building, number of floor |\n",
    "| FLOORSMIN_MODE            | Normalized information about building where the client lives, such as the mode (most common) value for the number of floors in the building           |\n",
    "| FLOORSMIN_MEDI            | Normalized information about building where the client lives, such as the median value for the number of floors in the building                   |\n",
    "| FLOORSMAX_MODE            | Normalized information about building where the client lives, such as the mode (most common) value for the highest floor in the building            |\n",
    "| FLOORSMAX_MEDI            | Normalized information about building where the client lives, such as the median value for the highest floor in the building                        |\n",
    "| YEARS_BUILD_MODE          | Normalized information about building where the client lives, such as the mode (most common) value for the age of the building                       |\n",
    "| YEARS_BUILD_MEDI          | Normalized information about building where the client lives, such as the median value for the age of the building                                   |\n",
    "| COMMONAREA_MODE           | Normalized information about the common areas in the building where the client lives, such as the mode (most common) value for the common area size |\n",
    "| COMMONAREA_MEDI           | Normalized information about the common areas in the building where the client lives, such as the median value for the common area size                 |\n",
    "| ELEVATORS_MODE            | Normalized information about the elevators in the building where the client lives, such as the mode (most common) value for the number of elevators   |\n",
    "| ELEVATORS_MEDI            | Normalized information about the elevators in the building where the client lives, such as the median value for the number of elevators               |\n",
    "| ENTRANCES_MODE            | Normalized information about the entrances in the building where the client lives, such as the mode (most common) value for the number of entrances   |\n",
    "| ENTRANCES_MEDI            | Normalized information about the entrances in the building where the client lives, such as the median value for the number of entrances               |\n",
    "| LANDAREA_MODE             | Normalized information about the land area of the building where the client lives, such as the mode (most common) value for the land area               |\n",
    "| LANDAREA_MEDI             | Normalized information about the land area of the building where the client lives, such as the median value for the land area                           |\n",
    "| LIVINGAPARTMENTS_MODE     | Normalized information about the living apartments in the building where the client lives, such as the mode (most common) value for the apartment size|\n",
    "| LIVINGAPARTMENTS_MEDI     | Normalized information about the living apartments in the building where the client lives, such as the median value for the apartment size            |\n",
    "| LIVINGAREA_MODE           | Normalized information about the living area in the building where the client lives, such as the mode (most common) value for the living area size    |\n",
    "| LIVINGAREA_MEDI           | Normalized information about the living area in the building where the client lives, such as the median value for the living area size                |\n",
    "| NONLIVINGAPARTMENTS_MODE  | Normalized information about the non-living apartments in the building where the client lives, such as the mode (most common) value for the apartment size|\n",
    "| NONLIVINGAPARTMENTS_MEDI  | Normalized information about the non-living apartments in the building where the client lives, such as the median value for the apartment size            |\n",
    "| NONLIVINGAREA_MODE        | Normalized information about the non-living area in the building where the client lives, such as the mode (most common) value for the non-living area size|\n",
    "| NONLIVINGAREA_MEDI        | Normalized information about the non-living area in the building where the client lives, such as the median value for the non-living area size            |\n",
    "| FONDKAPREMONT_MODE        | Normalized information about the fund kapremont (capital repairs) mode for the building where the client lives                                      |\n",
    "| HOUSETYPE_MODE            | Normalized information about the type of house in which the client lives                                                                       |\n",
    "| TOTALAREA_MODE            | Normalized information about the total area of the building where the client lives, such as the mode (most common) value for the total area            |\n",
    "| WALLSMATERIAL_MODE        | Normalized information about the wall material used in the building where the client lives                                                     |\n",
    "| EMERGENCYSTATE_MODE       | Normalized information about the emergency state of the building where the client lives                                                       |\n",
    "| OBS_30_CNT_SOCIAL_CIRCLE  | Number of observations of clients' social surroundings with observable 30 DPD (days past due) default                                  |\n",
    "| DEF_30_CNT_SOCIAL_CIRCLE  | Number of clients' social surroundings with 30 DPD (days past due) default                                    |\n",
    "| OBS_60_CNT_SOCIAL_CIRCLE  | Number of observations of clients' social surroundings with observable 60 DPD (days past due) default                                    |\n",
    "| DEF_60_CNT_SOCIAL_CIRCLE  | Number of clients' social surroundings with 60 DPD (days past due) default                                    |\n",
    "| DAYS_LAST_PHONE_CHANGE    | Number of days since the client last changed their phone number                                   |\n",
    "| FLAG_DOCUMENT_2           | Indicates if there is a second document provided by the client                                   |\n",
    "| FLAG_DOCUMENT_3           | Indicates if there is a third document provided by the client                                    |\n",
    "| FLAG_DOCUMENT_4           | Indicates if there is a fourth document provided by the client                                   |\n",
    "| FLAG_DOCUMENT_5           | Indicates if there is a fifth document provided by the client                                    |\n",
    "| FLAG_DOCUMENT_6           | Indicates if there is a sixth document provided by the client                                   |\n",
    "| FLAG_DOCUMENT_7           | Indicates if there is a seventh document provided by the client                                 |\n",
    "| FLAG_DOCUMENT_8           | Indicates if there is an eighth document provided by the client                                 |\n",
    "| FLAG_DOCUMENT_9           | Indicates if there is a ninth document provided by the client                                   |\n",
    "| FLAG_DOCUMENT_10          | Indicates if there is a tenth document provided by the client                                  |\n",
    "| FLAG_DOCUMENT_11          | Indicates if there is an eleventh document provided by the client                               |\n",
    "| FLAG_DOCUMENT_12          | Indicates if there is a twelfth document provided by the client                                 |\n",
    "| FLAG_DOCUMENT_13          | Indicates if there is a thirteenth document provided by the client                              |\n",
    "| FLAG_DOCUMENT_14          | Indicates if there is a fourteenth document provided by the client                              |\n",
    "| FLAG_DOCUMENT_15          | Indicates if there is a fifteenth document provided by the client                               |\n",
    "| FLAG_DOCUMENT_16          | Indicates if there is a sixteenth document provided by the client                               |\n",
    "| FLAG_DOCUMENT_17          | Indicates if there is a seventeenth document provided by the client                             |\n",
    "| FLAG_DOCUMENT_18          | Indicates if there is an eighteenth document provided by the client                             |\n",
    "| FLAG_DOCUMENT_19          | Indicates if there is a nineteenth document provided by the client                              |\n",
    "| FLAG_DOCUMENT_20          | Indicates if there is a twentieth document provided by the client                               |\n",
    "| FLAG_DOCUMENT_21          | Indicates if there is a twenty-first document provided by the client                            |\n",
    "| AMT_REQ_CREDIT_BUREAU_HOUR          | Number of enquiries to Credit Bureau about the client one hour before application |\n",
    "| AMT_REQ_CREDIT_BUREAU_DAY           | Number of enquiries to Credit Bureau about the client one day before application (excluding one hour before application) |\n",
    "| AMT_REQ_CREDIT_BUREAU_WEEK          | Number of enquiries to Credit Bureau about the client one week before application (excluding one day before application) |\n",
    "| AMT_REQ_CREDIT_BUREAU_MON           | Number of enquiries to Credit Bureau about the client one month before application (excluding one week before application) |\n",
    "| AMT_REQ_CREDIT_BUREAU_QRT           | Number of enquiries to Credit Bureau about the client three months before application (excluding one month before application) |\n",
    "| AMT_REQ_CREDIT_BUREAU_YEAR          | Number of enquiries to Credit Bureau about the client one year (excluding last three months before application) |\n",
    "\n",
    "\n",
    "\n",
    "\n",
    "### application_test.csv\n",
    "* application_test.csv: \n",
    "\n",
    "    * Main dataset, but does not include the Target variable information.\n",
    "    * Same variables as application_train.csv, other no Target variable here.\n",
    "\n",
    "\n",
    "### bureau.csv\n",
    "* bureau.csv:\n",
    "    * Each clients previous credit history provided by the Credit Bureau\n",
    "    * Each customer has may have multiple rows. Each row is a new credit history that a customer may have had.\n",
    "    \n",
    "\n",
    "\n",
    "| Column                    | Description                                                                                                            |\n",
    "|---------------------------|------------------------------------------------------------------------------------------------------------------------|\n",
    "| SK_ID_CURR                | ID of loan in our sample - one loan in our sample can have 0, 1, 2 or more related previous credits in credit bureau |\n",
    "| SK_BUREAU_ID              | Recoded ID of previous Credit Bureau credit related to our loan (unique coding for each loan application)             |\n",
    "| CREDIT_ACTIVE             | Status of the Credit Bureau (CB) reported credits                                                                     |\n",
    "| CREDIT_CURRENCY           | Recoded currency of the Credit Bureau credit                                                                           |\n",
    "| DAYS_CREDIT               | How many days before current application did client apply for Credit Bureau credit                                     |\n",
    "| CREDIT_DAY_OVERDUE        | Number of days past due on CB credit at the time of application for related loan in our sample                        |\n",
    "| DAYS_CREDIT_ENDDATE       | Remaining duration of CB credit (in days) at the time of application in Home Credit                                   |\n",
    "| DAYS_ENDDATE_FACT         | Days since CB credit ended at the time of application in Home Credit (only for closed credit)                         |\n",
    "| AMT_CREDIT_MAX_OVERDUE    | Maximal amount overdue on the Credit Bureau credit so far (at application date of loan in our sample)                 |\n",
    "| CNT_CREDIT_PROLONG        | How many times was the Credit Bureau credit prolonged                                                                 |\n",
    "| AMT_CREDIT_SUM            | Current credit amount for the Credit Bureau credit                                                                    |\n",
    "| AMT_CREDIT_SUM_DEBT       | Current debt on Credit Bureau credit                                                                                   |\n",
    "| AMT_CREDIT_SUM_LIMIT      | Current credit limit of credit card reported in Credit Bureau                                                         |\n",
    "| AMT_CREDIT_SUM_OVERDUE    | Current amount overdue on Credit Bureau credit                                                                         |\n",
    "| CREDIT_TYPE               | Type of Credit Bureau credit (Car, cash, ...)                                                                          |\n",
    "| DAYS_CREDIT_UPDATE        | How many days before loan application did last information about the Credit Bureau credit come                        |\n",
    "| AMT_ANNUITY               | Annuity of the Credit Bureau credit                                                                                    |\n",
    "\n",
    "\n",
    "\n",
    "### bureau_balance.csv\n",
    "* bureau_balance.csv:\n",
    "    * Monthly balances in previous credits from Credit Bureau. \n",
    "    * Each row is every month to the Credit Bureau\n",
    "\n",
    "\n",
    "\n",
    "\n",
    "|        Columns        |                                           Description                                           |\n",
    "|-----------------------|-----------------------------------------------------------------------------------------------|\n",
    "| SK_BUREAU_ID          | Recoded ID of Credit Bureau credit (unique coding for each application) - use this to join to CREDIT_BUREAU table |\n",
    "| MONTHS_BALANCE        | Month of balance relative to application date (-1 means the freshest balance date)              |\n",
    "| STATUS                | Status of Credit Bureau loan during the month (active, closed, DPD0-30,… [C means closed, X means status unknown, 0 means no DPD, 1 means maximal did during month between 1-30, 2 means DPD 31-60,… 5 means DPD 120+ or sold or written off ]) |\n",
    "\n",
    "\n",
    "\n",
    "### credit_card_balance.csv\n",
    "* credit_card_balance.csv:\n",
    "    * Previous credit cards the customer has had with Home Credit. \n",
    "    * One row for each month of history on the previous credit with Home Credit.\n",
    "    \n",
    "|              Columns                |                            Description                           |\n",
    "|-------------------------------------|-----------------------------------------------------------------|\n",
    "| SK_ID_PREV                          | ID of previous credit in Home Credit related to loan in our sample. (One loan in our sample can have 0, 1, 2 or more previous loans in Home Credit) |\n",
    "| SK_ID_CURR                          | ID of loan in our sample                                          |\n",
    "| MONTHS_BALANCE                      | Month of balance relative to application date (-1 means the freshest balance date) |\n",
    "| AMT_BALANCE                         | Balance during the month of previous credit                       |\n",
    "| AMT_CREDIT_LIMIT_ACTUAL             | Credit card limit during the month of the previous credit         |\n",
    "| AMT_DRAWINGS_ATM_CURRENT            | Amount drawing at ATM during the month of the previous credit     |\n",
    "| AMT_DRAWINGS_CURRENT                | Amount drawing during the month of the previous credit            |\n",
    "| AMT_DRAWINGS_OTHER_CURRENT          | Amount of other drawings during the month of the previous credit  |\n",
    "| AMT_DRAWINGS_POS_CURRENT            | Amount drawing or buying goods during the month of the previous credit |\n",
    "| AMT_INST_MIN_REGULARITY             | Minimal installment for this month of the previous credit         |\n",
    "| AMT_PAYMENT_CURRENT                 | How much did the client pay during the month on the previous credit |\n",
    "| AMT_PAYMENT_TOTAL_CURRENT           | How much did the client pay during the month in total on the previous credit |\n",
    "| AMT_RECEIVABLE_PRINCIPAL            | Amount receivable for principal on the previous credit            |\n",
    "| AMT_RECIVABLE                       | Amount receivable on the previous credit                          |\n",
    "| AMT_TOTAL_RECEIVABLE                | Total amount receivable on the previous credit                    |\n",
    "| CNT_DRAWINGS_ATM_CURRENT            | Number of drawings at ATM during this month on the previous credit |\n",
    "| CNT_DRAWINGS_CURRENT                | Number of drawings during this month on the previous credit       |\n",
    "| CNT_DRAWINGS_OTHER_CURRENT          | Number of other drawings during this month on the previous credit |\n",
    "| CNT_DRAWINGS_POS_CURRENT            | Number of drawings for goods during this month on the previous credit |\n",
    "| CNT_INSTALMENT_MATURE_CUM           | Number of paid installments on the previous credit               |\n",
    "| NAME_CONTRACT_STATUS                | Contract status (active signed, ...) on the previous credit       |\n",
    "| SK_DPD                              | DPD (Days past due) during the month on the previous credit       |\n",
    "| SK_DPD_DEF                          | DPD (Days past due) during the month with tolerance (debts with low loan amounts are ignored) of the previous credit |\n",
    "\n",
    "\n",
    "### HomeCredit_columns_descriptions.csv\n",
    "\n",
    "\n",
    "* HomeCredit_columns_description:\n",
    "    * Contains descriptions of each of the columns within the datasets. \n",
    "\n",
    "### installments_payments.csv\n",
    "* installments_payments.csv:\n",
    "    * Repayment history of each of the loans of Home Credit. \n",
    "    * One row for every payment that was made\n",
    "    * A row for each missed payment. \n",
    "    \n",
    "    \n",
    "|          Columns          |                                Description                                 |\n",
    "|---------------------------|------------------------------------------------------------------------------|\n",
    "| SK_ID_PREV                | ID of previous credit in Home credit related to loan in our sample. (One loan in our sample can have 0, 1, 2 or more previous loans in Home Credit) |\n",
    "| SK_ID_CURR                | ID of loan in our sample                                                    |\n",
    "| NUM_INSTALMENT_VERSION    | Version of installment calendar (0 is for credit card) of previous credit. Change of installment version from month to month signifies that some parameter of payment calendar has changed |\n",
    "| NUM_INSTALMENT_NUMBER     | On which installment we observe payment                                      |\n",
    "| DAYS_INSTALMENT           | When the installment of previous credit was supposed to be paid (relative to application date of current loan) |\n",
    "| DAYS_ENTRY_PAYMENT        | When the installments of previous credit were actually paid (relative to application date of current loan) |\n",
    "| AMT_INSTALMENT            | What was the prescribed installment amount of previous credit on this installment |\n",
    "| AMT_PAYMENT               | What the client actually paid on the previous credit on this installment      |\n",
    "\n",
    "\n",
    "### POS_CASH_balance.csv\n",
    "* POS_CASH_balance.csv:\n",
    "    * Month of the point of sales and cash loans  with Home Credit.\n",
    "    * One row for each month of history of every previous credit with Home Credit related to each of the loans.\n",
    "    \n",
    "    \n",
    "|         Columns        |                                        Description                                        |\n",
    "|------------------------|-------------------------------------------------------------------------------------------|\n",
    "|       SK_ID_PREV       | ID of previous credit in Home Credit related to loan in our sample. (One loan in our sample can have 0, 1, 2, or more previous loans in Home Credit) |\n",
    "|       SK_ID_CURR       |                         ID of loan in our sample                                          |\n",
    "|     MONTHS_BALANCE     |           Month of balance relative to application date (-1 means the freshest monthly snapshot, 0 means the information at application)           |\n",
    "|    CNT_INSTALMENT      |                      Term of previous credit (can change over time)                       |\n",
    "| CNT_INSTALMENT_FUTURE  |                 Installments left to pay on the previous credit                           |\n",
    "| NAME_CONTRACT_STATUS   |                           Contract status during the month                                |\n",
    "|         SK_DPD         |                 DPD (days past due) during the month of previous credit                    |\n",
    "|       SK_DPD_DEF       |    DPD during the month with tolerance (debts with low loan amounts are ignored)          |\n",
    "\n",
    "\n",
    "### previous_application.csv\n",
    "* previous_application.csv:\n",
    "    * All previous loan applications of customers with Home Credit\n",
    "    \n",
    "    \n",
    "|             Columns             |                                      Description                                      |\n",
    "|---------------------------------|----------------------------------------------------------------------------------------|\n",
    "| SK_ID_PREV                      | ID of previous credit in Home Credit related to loan in our sample                      |\n",
    "| SK_ID_CURR                      | ID of loan in our sample                                                               |\n",
    "| NAME_CONTRACT_TYPE              | Contract product type (Cash loan, consumer loan [POS], ...) of the previous application |\n",
    "| AMT_ANNUITY                     | Annuity of previous application                                                        |\n",
    "| AMT_APPLICATION                 | For how much credit did the client ask on the previous application                       |\n",
    "| AMT_CREDIT                      | Final credit amount on the previous application                                        |\n",
    "| AMT_DOWN_PAYMENT                | Down payment on the previous application                                               |\n",
    "| AMT_GOODS_PRICE                 | Goods price of good that the client asked for (if applicable) on the previous application |\n",
    "| WEEKDAY_APPR_PROCESS_START      | On which day of the week did the client apply for the previous application              |\n",
    "| HOUR_APPR_PROCESS_START         | Approximately at what hour of the day did the client apply for the previous application |\n",
    "| FLAG_LAST_APPL_PER_CONTRACT     | Flag if it was the last application for the previous contract                           |\n",
    "| NFLAG_LAST_APPL_IN_DAY          | Flag if the application was the last application per day of the client                  |\n",
    "| NFLAG_MICRO_CASH                | Flag for Micro finance loan                                                            |\n",
    "| RATE_DOWN_PAYMENT               | Down payment rate normalized on the previous credit                                    |\n",
    "| RATE_INTEREST_PRIMARY           | Interest rate normalized on the previous credit                                        |\n",
    "| RATE_INTEREST_PRIVILEGED        | Interest rate normalized on the previous credit                                        |\n",
    "| NAME_CASH_LOAN_PURPOSE          | Purpose of the cash loan                                                               |\n",
    "| NAME_CONTRACT_STATUS            | Contract status (approved, cancelled, ...) of the previous application                 |\n",
    "| DAYS_DECISION                   | Relative to the current application, when was the decision about the previous application made |\n",
    "| NAME_PAYMENT_TYPE               | Payment method that the client chose to pay for the previous application               |\n",
    "| CODE_REJECT_REASON              | Reason why the previous application was rejected                                       |\n",
    "| NAME_TYPE_SUITE                 | Who accompanied the client when applying for the previous application                  |\n",
    "| NAME_CLIENT_TYPE                | Whether the client was an old or new client when applying for the previous application |\n",
    "| NAME_GOODS_CATEGORY             | What kind of goods did the client apply for in the previous application                 |\n",
    "| NAME_PORTFOLIO                  | Whether the previous application was for CASH, POS, CAR, etc.                          |\n",
    "| NAME_PRODUCT_TYPE               | Whether the previous application was x-sell or walk-in                                 |\n",
    "| CHANNEL_TYPE                    | Through which channel we acquired the client on the previous application               |\n",
    "| SELLERPLACE_AREA                | Selling area of the seller place of the previous application                           |\n",
    "| NAME_SELLER_INDUSTRY            | The industry of the seller                                                            |\n",
    "| CNT_PAYMENT                     | Term of the previous credit at the application of the previous application             |\n",
    "| NAME_YIELD_GROUP                | Grouped interest rate into small, medium, and high of the previous application         |\n",
    "| PRODUCT_COMBINATION             | Detailed product combination of the previous application                               |\n",
    "| DAYS_FIRST_DRAWING              | Relative to the application date of the current application, when was the first disbursement of the previous application |\n",
    "| DAYS_FIRST_DUE                  | Relative to the application date of the current application, when was the first due supposed to be of the previous application |\n",
    "| DAYS_LAST_DUE_1ST_VERSION       | Relative to the application date of the current application, when was the first due of the previous application |\n",
    "| DAYS_LAST_DUE                   | Relative to the application date of the current application, when was the last due date of the previous application |\n",
    "| DAYS_TERMINATION                | Relative to the application date of the current application, when was the expected termination of the previous application |\n",
    "| NFLAG_INSURED_ON_APPROVAL       | Whether the client requested insurance during the previous application                  |\n",
    "\n",
    "\n",
    "### sample_submission.csv\n",
    "* sample_submission.csv:\n",
    "    * A sample of classifying each of the customers using a classification based on the Target variable of being Trustworthy to loan to or not. "
   ]
  },
  {
   "cell_type": "markdown",
   "id": "b61e04c1",
   "metadata": {},
   "source": [
    "#### Installing Necessary Packagees"
   ]
  },
  {
   "cell_type": "code",
   "execution_count": 9,
   "id": "a0870a86",
   "metadata": {},
   "outputs": [],
   "source": [
    "# !pip install pandas\n",
    "# !pip install numpy"
   ]
  },
  {
   "cell_type": "markdown",
   "id": "0bbccabc",
   "metadata": {},
   "source": [
    "#### Importing Necessary Packages"
   ]
  },
  {
   "cell_type": "code",
   "execution_count": 3,
   "id": "f26ae493",
   "metadata": {},
   "outputs": [],
   "source": [
    "import pandas as pd\n",
    "import numpy as np"
   ]
  },
  {
   "cell_type": "markdown",
   "id": "362a6437",
   "metadata": {},
   "source": [
    "#### Making the dataframes for each of our CSV files"
   ]
  },
  {
   "cell_type": "code",
   "execution_count": 4,
   "id": "10ffa8eb",
   "metadata": {},
   "outputs": [],
   "source": [
    "# Making Dataframes of each of the CSV Files\n",
    "\n",
    "applicationtestDF = pd.read_csv(\"application_test.csv\")\n",
    "applicationtrainDF = pd.read_csv(\"application_train.csv\")\n",
    "bureauDF = pd.read_csv(\"bureau.csv\")\n",
    "bureaubalanceDF = pd.read_csv(\"bureau_balance.csv\")\n",
    "creditcardbalanceDF = pd.read_csv(\"credit_card_balance.csv\")\n",
    "installmentpaymentsDF = pd.read_csv(\"installments_payments.csv\")\n",
    "poscashDF = pd.read_csv(\"POS_CASH_balance.csv\")\n",
    "previousDF = pd.read_csv(\"previous_application.csv\")"
   ]
  },
  {
   "cell_type": "markdown",
   "id": "0c0320dd",
   "metadata": {},
   "source": [
    "#### Printing the shape of each of our dataframes for the row and columns"
   ]
  },
  {
   "cell_type": "code",
   "execution_count": 12,
   "id": "1ac453d8",
   "metadata": {},
   "outputs": [
    {
     "output_type": "stream",
     "name": "stdout",
     "text": [
      "(48744, 121)\n(307511, 122)\n(1716428, 17)\n(27299925, 3)\n(3840312, 23)\n(13605401, 8)\n(10001358, 8)\n(1670214, 37)\n"
     ]
    }
   ],
   "source": [
    "# Printing the shape of each of the dataframes\n",
    "dataframes = [applicationtestDF, applicationtrainDF, bureauDF, bureaubalanceDF, creditcardbalanceDF, installmentpaymentsDF, poscashDF, previousDF]\n",
    "\n",
    "for df in dataframes:\n",
    "    print(df.shape)\n"
   ]
  },
  {
   "source": [
    "#### Printing the top 5 rows of each dataframe"
   ],
   "cell_type": "markdown",
   "metadata": {}
  },
  {
   "cell_type": "code",
   "execution_count": 13,
   "id": "22803f2a",
   "metadata": {},
   "outputs": [
    {
     "output_type": "stream",
     "name": "stdout",
     "text": [
      "   SK_ID_CURR NAME_CONTRACT_TYPE CODE_GENDER FLAG_OWN_CAR FLAG_OWN_REALTY  \\\n0      100001         Cash loans           F            N               Y   \n1      100005         Cash loans           M            N               Y   \n2      100013         Cash loans           M            Y               Y   \n3      100028         Cash loans           F            N               Y   \n4      100038         Cash loans           M            Y               N   \n\n   CNT_CHILDREN  AMT_INCOME_TOTAL  AMT_CREDIT  AMT_ANNUITY  AMT_GOODS_PRICE  \\\n0             0          135000.0    568800.0      20560.5         450000.0   \n1             0           99000.0    222768.0      17370.0         180000.0   \n2             0          202500.0    663264.0      69777.0         630000.0   \n3             2          315000.0   1575000.0      49018.5        1575000.0   \n4             1          180000.0    625500.0      32067.0         625500.0   \n\n   ... FLAG_DOCUMENT_18 FLAG_DOCUMENT_19 FLAG_DOCUMENT_20 FLAG_DOCUMENT_21  \\\n0  ...                0                0                0                0   \n1  ...                0                0                0                0   \n2  ...                0                0                0                0   \n3  ...                0                0                0                0   \n4  ...                0                0                0                0   \n\n  AMT_REQ_CREDIT_BUREAU_HOUR  AMT_REQ_CREDIT_BUREAU_DAY  \\\n0                        0.0                        0.0   \n1                        0.0                        0.0   \n2                        0.0                        0.0   \n3                        0.0                        0.0   \n4                        NaN                        NaN   \n\n   AMT_REQ_CREDIT_BUREAU_WEEK  AMT_REQ_CREDIT_BUREAU_MON  \\\n0                         0.0                        0.0   \n1                         0.0                        0.0   \n2                         0.0                        0.0   \n3                         0.0                        0.0   \n4                         NaN                        NaN   \n\n   AMT_REQ_CREDIT_BUREAU_QRT  AMT_REQ_CREDIT_BUREAU_YEAR  \n0                        0.0                         0.0  \n1                        0.0                         3.0  \n2                        1.0                         4.0  \n3                        0.0                         3.0  \n4                        NaN                         NaN  \n\n[5 rows x 121 columns]\n   SK_ID_CURR  TARGET NAME_CONTRACT_TYPE CODE_GENDER FLAG_OWN_CAR  \\\n0      100002       1         Cash loans           M            N   \n1      100003       0         Cash loans           F            N   \n2      100004       0    Revolving loans           M            Y   \n3      100006       0         Cash loans           F            N   \n4      100007       0         Cash loans           M            N   \n\n  FLAG_OWN_REALTY  CNT_CHILDREN  AMT_INCOME_TOTAL  AMT_CREDIT  AMT_ANNUITY  \\\n0               Y             0          202500.0    406597.5      24700.5   \n1               N             0          270000.0   1293502.5      35698.5   \n2               Y             0           67500.0    135000.0       6750.0   \n3               Y             0          135000.0    312682.5      29686.5   \n4               Y             0          121500.0    513000.0      21865.5   \n\n   ...  FLAG_DOCUMENT_18 FLAG_DOCUMENT_19 FLAG_DOCUMENT_20 FLAG_DOCUMENT_21  \\\n0  ...                 0                0                0                0   \n1  ...                 0                0                0                0   \n2  ...                 0                0                0                0   \n3  ...                 0                0                0                0   \n4  ...                 0                0                0                0   \n\n  AMT_REQ_CREDIT_BUREAU_HOUR AMT_REQ_CREDIT_BUREAU_DAY  \\\n0                        0.0                       0.0   \n1                        0.0                       0.0   \n2                        0.0                       0.0   \n3                        NaN                       NaN   \n4                        0.0                       0.0   \n\n   AMT_REQ_CREDIT_BUREAU_WEEK  AMT_REQ_CREDIT_BUREAU_MON  \\\n0                         0.0                        0.0   \n1                         0.0                        0.0   \n2                         0.0                        0.0   \n3                         NaN                        NaN   \n4                         0.0                        0.0   \n\n   AMT_REQ_CREDIT_BUREAU_QRT  AMT_REQ_CREDIT_BUREAU_YEAR  \n0                        0.0                         1.0  \n1                        0.0                         0.0  \n2                        0.0                         0.0  \n3                        NaN                         NaN  \n4                        0.0                         0.0  \n\n[5 rows x 122 columns]\n   SK_ID_CURR  SK_ID_BUREAU CREDIT_ACTIVE CREDIT_CURRENCY  DAYS_CREDIT  \\\n0      215354       5714462        Closed      currency 1         -497   \n1      215354       5714463        Active      currency 1         -208   \n2      215354       5714464        Active      currency 1         -203   \n3      215354       5714465        Active      currency 1         -203   \n4      215354       5714466        Active      currency 1         -629   \n\n   CREDIT_DAY_OVERDUE  DAYS_CREDIT_ENDDATE  DAYS_ENDDATE_FACT  \\\n0                   0               -153.0             -153.0   \n1                   0               1075.0                NaN   \n2                   0                528.0                NaN   \n3                   0                  NaN                NaN   \n4                   0               1197.0                NaN   \n\n   AMT_CREDIT_MAX_OVERDUE  CNT_CREDIT_PROLONG  AMT_CREDIT_SUM  \\\n0                     NaN                   0         91323.0   \n1                     NaN                   0        225000.0   \n2                     NaN                   0        464323.5   \n3                     NaN                   0         90000.0   \n4                 77674.5                   0       2700000.0   \n\n   AMT_CREDIT_SUM_DEBT  AMT_CREDIT_SUM_LIMIT  AMT_CREDIT_SUM_OVERDUE  \\\n0                  0.0                   NaN                     0.0   \n1             171342.0                   NaN                     0.0   \n2                  NaN                   NaN                     0.0   \n3                  NaN                   NaN                     0.0   \n4                  NaN                   NaN                     0.0   \n\n       CREDIT_TYPE  DAYS_CREDIT_UPDATE  AMT_ANNUITY  \n0  Consumer credit                -131          NaN  \n1      Credit card                 -20          NaN  \n2  Consumer credit                 -16          NaN  \n3      Credit card                 -16          NaN  \n4  Consumer credit                 -21          NaN  \n   SK_ID_BUREAU  MONTHS_BALANCE STATUS\n0       5715448               0      C\n1       5715448              -1      C\n2       5715448              -2      C\n3       5715448              -3      C\n4       5715448              -4      C\n   SK_ID_PREV  SK_ID_CURR  MONTHS_BALANCE  AMT_BALANCE  \\\n0     2562384      378907              -6       56.970   \n1     2582071      363914              -1    63975.555   \n2     1740877      371185              -7    31815.225   \n3     1389973      337855              -4   236572.110   \n4     1891521      126868              -1   453919.455   \n\n   AMT_CREDIT_LIMIT_ACTUAL  AMT_DRAWINGS_ATM_CURRENT  AMT_DRAWINGS_CURRENT  \\\n0                   135000                       0.0                 877.5   \n1                    45000                    2250.0                2250.0   \n2                   450000                       0.0                   0.0   \n3                   225000                    2250.0                2250.0   \n4                   450000                       0.0               11547.0   \n\n   AMT_DRAWINGS_OTHER_CURRENT  AMT_DRAWINGS_POS_CURRENT  \\\n0                         0.0                     877.5   \n1                         0.0                       0.0   \n2                         0.0                       0.0   \n3                         0.0                       0.0   \n4                         0.0                   11547.0   \n\n   AMT_INST_MIN_REGULARITY  ...  AMT_RECIVABLE  AMT_TOTAL_RECEIVABLE  \\\n0                 1700.325  ...          0.000                 0.000   \n1                 2250.000  ...      64875.555             64875.555   \n2                 2250.000  ...      31460.085             31460.085   \n3                11795.760  ...     233048.970            233048.970   \n4                22924.890  ...     453919.455            453919.455   \n\n   CNT_DRAWINGS_ATM_CURRENT  CNT_DRAWINGS_CURRENT  CNT_DRAWINGS_OTHER_CURRENT  \\\n0                       0.0                     1                         0.0   \n1                       1.0                     1                         0.0   \n2                       0.0                     0                         0.0   \n3                       1.0                     1                         0.0   \n4                       0.0                     1                         0.0   \n\n   CNT_DRAWINGS_POS_CURRENT  CNT_INSTALMENT_MATURE_CUM  NAME_CONTRACT_STATUS  \\\n0                       1.0                       35.0                Active   \n1                       0.0                       69.0                Active   \n2                       0.0                       30.0                Active   \n3                       0.0                       10.0                Active   \n4                       1.0                      101.0                Active   \n\n   SK_DPD  SK_DPD_DEF  \n0       0           0  \n1       0           0  \n2       0           0  \n3       0           0  \n4       0           0  \n\n[5 rows x 23 columns]\n   SK_ID_PREV  SK_ID_CURR  NUM_INSTALMENT_VERSION  NUM_INSTALMENT_NUMBER  \\\n0     1054186      161674                     1.0                      6   \n1     1330831      151639                     0.0                     34   \n2     2085231      193053                     2.0                      1   \n3     2452527      199697                     1.0                      3   \n4     2714724      167756                     1.0                      2   \n\n   DAYS_INSTALMENT  DAYS_ENTRY_PAYMENT  AMT_INSTALMENT  AMT_PAYMENT  \n0          -1180.0             -1187.0        6948.360     6948.360  \n1          -2156.0             -2156.0        1716.525     1716.525  \n2            -63.0               -63.0       25425.000    25425.000  \n3          -2418.0             -2426.0       24350.130    24350.130  \n4          -1383.0             -1366.0        2165.040     2160.585  \n   SK_ID_PREV  SK_ID_CURR  MONTHS_BALANCE  CNT_INSTALMENT  \\\n0     1803195      182943             -31            48.0   \n1     1715348      367990             -33            36.0   \n2     1784872      397406             -32            12.0   \n3     1903291      269225             -35            48.0   \n4     2341044      334279             -35            36.0   \n\n   CNT_INSTALMENT_FUTURE NAME_CONTRACT_STATUS  SK_DPD  SK_DPD_DEF  \n0                   45.0               Active       0           0  \n1                   35.0               Active       0           0  \n2                    9.0               Active       0           0  \n3                   42.0               Active       0           0  \n4                   35.0               Active       0           0  \n   SK_ID_PREV  SK_ID_CURR NAME_CONTRACT_TYPE  AMT_ANNUITY  AMT_APPLICATION  \\\n0     2030495      271877     Consumer loans     1730.430          17145.0   \n1     2802425      108129         Cash loans    25188.615         607500.0   \n2     2523466      122040         Cash loans    15060.735         112500.0   \n3     2819243      176158         Cash loans    47041.335         450000.0   \n4     1784265      202054         Cash loans    31924.395         337500.0   \n\n   AMT_CREDIT  AMT_DOWN_PAYMENT  AMT_GOODS_PRICE WEEKDAY_APPR_PROCESS_START  \\\n0     17145.0               0.0          17145.0                   SATURDAY   \n1    679671.0               NaN         607500.0                   THURSDAY   \n2    136444.5               NaN         112500.0                    TUESDAY   \n3    470790.0               NaN         450000.0                     MONDAY   \n4    404055.0               NaN         337500.0                   THURSDAY   \n\n   HOUR_APPR_PROCESS_START  ... NAME_SELLER_INDUSTRY  CNT_PAYMENT  \\\n0                       15  ...         Connectivity         12.0   \n1                       11  ...                  XNA         36.0   \n2                       11  ...                  XNA         12.0   \n3                        7  ...                  XNA         12.0   \n4                        9  ...                  XNA         24.0   \n\n   NAME_YIELD_GROUP       PRODUCT_COMBINATION  DAYS_FIRST_DRAWING  \\\n0            middle  POS mobile with interest            365243.0   \n1        low_action          Cash X-Sell: low            365243.0   \n2              high         Cash X-Sell: high            365243.0   \n3            middle       Cash X-Sell: middle            365243.0   \n4              high         Cash Street: high                 NaN   \n\n  DAYS_FIRST_DUE DAYS_LAST_DUE_1ST_VERSION  DAYS_LAST_DUE DAYS_TERMINATION  \\\n0          -42.0                     300.0          -42.0            -37.0   \n1         -134.0                     916.0       365243.0         365243.0   \n2         -271.0                      59.0       365243.0         365243.0   \n3         -482.0                    -152.0         -182.0           -177.0   \n4            NaN                       NaN            NaN              NaN   \n\n  NFLAG_INSURED_ON_APPROVAL  \n0                       0.0  \n1                       1.0  \n2                       1.0  \n3                       1.0  \n4                       NaN  \n\n[5 rows x 37 columns]\n"
     ]
    }
   ],
   "source": [
    "# Printing the head of each of the dataframes\n",
    "dataframes = [applicationtestDF, applicationtrainDF, bureauDF, bureaubalanceDF, creditcardbalanceDF, installmentpaymentsDF, poscashDF, previousDF]\n",
    "\n",
    "for df in dataframes:\n",
    "    print(df.head(n=5))\n",
    "\n",
    "    "
   ]
  },
  {
   "cell_type": "markdown",
   "id": "cf10280a",
   "metadata": {},
   "source": [
    "#### Printing the Common Columns"
   ]
  },
  {
   "cell_type": "code",
   "execution_count": 14,
   "id": "8015a94e",
   "metadata": {},
   "outputs": [
    {
     "output_type": "stream",
     "name": "stdout",
     "text": [
      "flag_mobil, flag_document_8, flag_document_21, name_type_suite, basementarea_avg, livingarea_mode, amt_req_credit_bureau_qrt, floorsmin_mode, amt_req_credit_bureau_week, days_registration, amt_annuity, flag_document_10, flag_email, flag_document_14, floorsmax_mode, obs_60_cnt_social_circle, flag_phone, fondkapremont_mode, basementarea_mode, name_family_status, flag_cont_mobile, cnt_children, days_last_phone_change, years_build_mode, live_region_not_work_region, days_birth, code_gender, amt_credit, landarea_mode, flag_document_7, def_30_cnt_social_circle, nonlivingapartments_avg, flag_document_13, sk_id_curr, name_contract_type, apartments_mode, entrances_mode, entrances_avg, livingarea_avg, flag_document_16, entrances_medi, region_rating_client, amt_req_credit_bureau_mon, housetype_mode, flag_document_18, livingapartments_avg, commonarea_medi, elevators_mode, years_beginexpluatation_medi, nonlivingapartments_mode, weekday_appr_process_start, occupation_type, totalarea_mode, commonarea_mode, elevators_avg, flag_document_6, reg_city_not_live_city, amt_income_total, flag_document_15, amt_req_credit_bureau_hour, reg_city_not_work_city, live_city_not_work_city, floorsmin_avg, years_beginexpluatation_avg, ext_source_3, hour_appr_process_start, flag_emp_phone, nonlivingarea_medi, region_rating_client_w_city, name_education_type, flag_document_2, flag_document_4, elevators_medi, basementarea_medi, flag_document_12, days_employed, flag_work_phone, flag_document_17, nonlivingarea_avg, livingapartments_mode, organization_type, ext_source_1, years_build_avg, years_build_medi, flag_document_3, livingarea_medi, flag_document_9, flag_document_20, flag_own_realty, nonlivingarea_mode, apartments_avg, flag_document_11, floorsmax_medi, reg_region_not_live_region, emergencystate_mode, apartments_medi, amt_goods_price, flag_document_19, amt_req_credit_bureau_day, floorsmax_avg, ext_source_2, region_population_relative, days_id_publish, name_income_type, cnt_fam_members, commonarea_avg, own_car_age, obs_30_cnt_social_circle, flag_document_5, floorsmin_medi, amt_req_credit_bureau_year, flag_own_car, nonlivingapartments_medi, livingapartments_medi, landarea_medi, years_beginexpluatation_mode, def_60_cnt_social_circle, landarea_avg, reg_region_not_work_region, wallsmaterial_mode, name_housing_type\namt_annuity, sk_id_curr\nNo common columns found.\nsk_id_curr\nsk_id_curr\nsk_id_curr\namt_annuity, amt_goods_price, weekday_appr_process_start, hour_appr_process_start, name_type_suite, sk_id_curr, name_contract_type, amt_credit\namt_annuity, sk_id_curr\nNo common columns found.\nsk_id_curr\nsk_id_curr\nsk_id_curr\namt_annuity, amt_goods_price, weekday_appr_process_start, hour_appr_process_start, name_type_suite, sk_id_curr, name_contract_type, amt_credit\nsk_id_bureau\nsk_id_curr\nsk_id_curr\nsk_id_curr\namt_annuity, sk_id_curr\nmonths_balance\nNo common columns found.\nmonths_balance\nNo common columns found.\nsk_id_curr, sk_id_prev\nsk_dpd, name_contract_status, sk_id_curr, sk_dpd_def, sk_id_prev, months_balance\nname_contract_status, sk_id_prev, sk_id_curr\nsk_id_curr, sk_id_prev\nsk_id_curr, sk_id_prev\nname_contract_status, sk_id_prev, sk_id_curr\n"
     ]
    }
   ],
   "source": [
    "# Printing out the common columns amongst the dataframes\n",
    "\n",
    "datasets = [applicationtrainDF, bureauDF, bureaubalanceDF, creditcardbalanceDF, installmentpaymentsDF, poscashDF, previousDF]\n",
    "\n",
    "\n",
    "# Get the column names from each DataFrame\n",
    "columns = [set(df.columns.str.strip().str.lower().tolist()) for df in dataframes]\n",
    "\n",
    "# Initialize a list to store the common columns for each comparison\n",
    "common_columns = []\n",
    "\n",
    "# Iterate over the dataframes\n",
    "for i in range(len(dataframes)):\n",
    "    for j in range(i + 1, len(dataframes)):\n",
    "        df1 = dataframes[i]\n",
    "        df2 = dataframes[j]\n",
    "        \n",
    "        # Get the column names for the current pair of dataframes\n",
    "        columns_df1 = columns[i]\n",
    "        columns_df2 = columns[j]\n",
    "        \n",
    "        # Find the common columns between the two dataframes\n",
    "        common = columns_df1.intersection(columns_df2)\n",
    "        \n",
    "        # Append the common columns for the current pair\n",
    "        common_columns.append((common))\n",
    "\n",
    "# Print the common column names for each pair of dataframes\n",
    "for common in common_columns:\n",
    "    if len(common) == 0:\n",
    "        print(\"No common columns found.\")\n",
    "    else:\n",
    "        print(\", \".join(common))\n",
    "\n",
    "\n"
   ]
  },
  {
   "cell_type": "markdown",
   "id": "7e17d86f",
   "metadata": {},
   "source": [
    "#### Printing General Info for Each Dataframe"
   ]
  },
  {
   "cell_type": "code",
   "execution_count": 78,
   "id": "0a207cbf",
   "metadata": {},
   "outputs": [
    {
     "output_type": "stream",
     "name": "stdout",
     "text": [
      "<class 'pandas.core.frame.DataFrame'>\nRangeIndex: 48744 entries, 0 to 48743\nColumns: 121 entries, SK_ID_CURR to AMT_REQ_CREDIT_BUREAU_YEAR\ndtypes: float64(65), int64(40), object(16)\nmemory usage: 45.0+ MB\n"
     ]
    },
    {
     "output_type": "display_data",
     "data": {
      "text/plain": "None"
     },
     "metadata": {}
    },
    {
     "output_type": "stream",
     "name": "stdout",
     "text": [
      "<class 'pandas.core.frame.DataFrame'>\nRangeIndex: 307511 entries, 0 to 307510\nColumns: 122 entries, SK_ID_CURR to AMT_REQ_CREDIT_BUREAU_YEAR\ndtypes: float64(65), int64(41), object(16)\nmemory usage: 286.2+ MB\n"
     ]
    },
    {
     "output_type": "display_data",
     "data": {
      "text/plain": "None"
     },
     "metadata": {}
    },
    {
     "output_type": "stream",
     "name": "stdout",
     "text": [
      "<class 'pandas.core.frame.DataFrame'>\nRangeIndex: 1716428 entries, 0 to 1716427\nData columns (total 17 columns):\n #   Column                  Dtype  \n---  ------                  -----  \n 0   SK_ID_CURR              int64  \n 1   SK_ID_BUREAU            int64  \n 2   CREDIT_ACTIVE           object \n 3   CREDIT_CURRENCY         object \n 4   DAYS_CREDIT             int64  \n 5   CREDIT_DAY_OVERDUE      int64  \n 6   DAYS_CREDIT_ENDDATE     float64\n 7   DAYS_ENDDATE_FACT       float64\n 8   AMT_CREDIT_MAX_OVERDUE  float64\n 9   CNT_CREDIT_PROLONG      int64  \n 10  AMT_CREDIT_SUM          float64\n 11  AMT_CREDIT_SUM_DEBT     float64\n 12  AMT_CREDIT_SUM_LIMIT    float64\n 13  AMT_CREDIT_SUM_OVERDUE  float64\n 14  CREDIT_TYPE             object \n 15  DAYS_CREDIT_UPDATE      int64  \n 16  AMT_ANNUITY             float64\ndtypes: float64(8), int64(6), object(3)\nmemory usage: 222.6+ MB\n"
     ]
    },
    {
     "output_type": "display_data",
     "data": {
      "text/plain": "None"
     },
     "metadata": {}
    },
    {
     "output_type": "stream",
     "name": "stdout",
     "text": [
      "<class 'pandas.core.frame.DataFrame'>\nRangeIndex: 27299925 entries, 0 to 27299924\nData columns (total 3 columns):\n #   Column          Dtype \n---  ------          ----- \n 0   SK_ID_BUREAU    int64 \n 1   MONTHS_BALANCE  int64 \n 2   STATUS          object\ndtypes: int64(2), object(1)\nmemory usage: 624.8+ MB\n"
     ]
    },
    {
     "output_type": "display_data",
     "data": {
      "text/plain": "None"
     },
     "metadata": {}
    },
    {
     "output_type": "stream",
     "name": "stdout",
     "text": [
      "<class 'pandas.core.frame.DataFrame'>\nRangeIndex: 3840312 entries, 0 to 3840311\nData columns (total 23 columns):\n #   Column                      Dtype  \n---  ------                      -----  \n 0   SK_ID_PREV                  int64  \n 1   SK_ID_CURR                  int64  \n 2   MONTHS_BALANCE              int64  \n 3   AMT_BALANCE                 float64\n 4   AMT_CREDIT_LIMIT_ACTUAL     int64  \n 5   AMT_DRAWINGS_ATM_CURRENT    float64\n 6   AMT_DRAWINGS_CURRENT        float64\n 7   AMT_DRAWINGS_OTHER_CURRENT  float64\n 8   AMT_DRAWINGS_POS_CURRENT    float64\n 9   AMT_INST_MIN_REGULARITY     float64\n 10  AMT_PAYMENT_CURRENT         float64\n 11  AMT_PAYMENT_TOTAL_CURRENT   float64\n 12  AMT_RECEIVABLE_PRINCIPAL    float64\n 13  AMT_RECIVABLE               float64\n 14  AMT_TOTAL_RECEIVABLE        float64\n 15  CNT_DRAWINGS_ATM_CURRENT    float64\n 16  CNT_DRAWINGS_CURRENT        int64  \n 17  CNT_DRAWINGS_OTHER_CURRENT  float64\n 18  CNT_DRAWINGS_POS_CURRENT    float64\n 19  CNT_INSTALMENT_MATURE_CUM   float64\n 20  NAME_CONTRACT_STATUS        object \n 21  SK_DPD                      int64  \n 22  SK_DPD_DEF                  int64  \ndtypes: float64(15), int64(7), object(1)\nmemory usage: 673.9+ MB\n"
     ]
    },
    {
     "output_type": "display_data",
     "data": {
      "text/plain": "None"
     },
     "metadata": {}
    },
    {
     "output_type": "stream",
     "name": "stdout",
     "text": [
      "<class 'pandas.core.frame.DataFrame'>\nRangeIndex: 13605401 entries, 0 to 13605400\nData columns (total 8 columns):\n #   Column                  Dtype  \n---  ------                  -----  \n 0   SK_ID_PREV              int64  \n 1   SK_ID_CURR              int64  \n 2   NUM_INSTALMENT_VERSION  float64\n 3   NUM_INSTALMENT_NUMBER   int64  \n 4   DAYS_INSTALMENT         float64\n 5   DAYS_ENTRY_PAYMENT      float64\n 6   AMT_INSTALMENT          float64\n 7   AMT_PAYMENT             float64\ndtypes: float64(5), int64(3)\nmemory usage: 830.4 MB\n"
     ]
    },
    {
     "output_type": "display_data",
     "data": {
      "text/plain": "None"
     },
     "metadata": {}
    },
    {
     "output_type": "stream",
     "name": "stdout",
     "text": [
      "<class 'pandas.core.frame.DataFrame'>\nRangeIndex: 10001358 entries, 0 to 10001357\nData columns (total 8 columns):\n #   Column                 Dtype  \n---  ------                 -----  \n 0   SK_ID_PREV             int64  \n 1   SK_ID_CURR             int64  \n 2   MONTHS_BALANCE         int64  \n 3   CNT_INSTALMENT         float64\n 4   CNT_INSTALMENT_FUTURE  float64\n 5   NAME_CONTRACT_STATUS   object \n 6   SK_DPD                 int64  \n 7   SK_DPD_DEF             int64  \ndtypes: float64(2), int64(5), object(1)\nmemory usage: 610.4+ MB\n"
     ]
    },
    {
     "output_type": "display_data",
     "data": {
      "text/plain": "None"
     },
     "metadata": {}
    },
    {
     "output_type": "stream",
     "name": "stdout",
     "text": [
      "<class 'pandas.core.frame.DataFrame'>\nRangeIndex: 1670214 entries, 0 to 1670213\nData columns (total 37 columns):\n #   Column                       Non-Null Count    Dtype  \n---  ------                       --------------    -----  \n 0   SK_ID_PREV                   1670214 non-null  int64  \n 1   SK_ID_CURR                   1670214 non-null  int64  \n 2   NAME_CONTRACT_TYPE           1670214 non-null  object \n 3   AMT_ANNUITY                  1297979 non-null  float64\n 4   AMT_APPLICATION              1670214 non-null  float64\n 5   AMT_CREDIT                   1670213 non-null  float64\n 6   AMT_DOWN_PAYMENT             774370 non-null   float64\n 7   AMT_GOODS_PRICE              1284699 non-null  float64\n 8   WEEKDAY_APPR_PROCESS_START   1670214 non-null  object \n 9   HOUR_APPR_PROCESS_START      1670214 non-null  int64  \n 10  FLAG_LAST_APPL_PER_CONTRACT  1670214 non-null  object \n 11  NFLAG_LAST_APPL_IN_DAY       1670214 non-null  int64  \n 12  RATE_DOWN_PAYMENT            774370 non-null   float64\n 13  RATE_INTEREST_PRIMARY        5951 non-null     float64\n 14  RATE_INTEREST_PRIVILEGED     5951 non-null     float64\n 15  NAME_CASH_LOAN_PURPOSE       1670214 non-null  object \n 16  NAME_CONTRACT_STATUS         1670214 non-null  object \n 17  DAYS_DECISION                1670214 non-null  int64  \n 18  NAME_PAYMENT_TYPE            1670214 non-null  object \n 19  CODE_REJECT_REASON           1670214 non-null  object \n 20  NAME_TYPE_SUITE              849809 non-null   object \n 21  NAME_CLIENT_TYPE             1670214 non-null  object \n 22  NAME_GOODS_CATEGORY          1670214 non-null  object \n 23  NAME_PORTFOLIO               1670214 non-null  object \n 24  NAME_PRODUCT_TYPE            1670214 non-null  object \n 25  CHANNEL_TYPE                 1670214 non-null  object \n 26  SELLERPLACE_AREA             1670214 non-null  int64  \n 27  NAME_SELLER_INDUSTRY         1670214 non-null  object \n 28  CNT_PAYMENT                  1297984 non-null  float64\n 29  NAME_YIELD_GROUP             1670214 non-null  object \n 30  PRODUCT_COMBINATION          1669868 non-null  object \n 31  DAYS_FIRST_DRAWING           997149 non-null   float64\n 32  DAYS_FIRST_DUE               997149 non-null   float64\n 33  DAYS_LAST_DUE_1ST_VERSION    997149 non-null   float64\n 34  DAYS_LAST_DUE                997149 non-null   float64\n 35  DAYS_TERMINATION             997149 non-null   float64\n 36  NFLAG_INSURED_ON_APPROVAL    997149 non-null   float64\ndtypes: float64(15), int64(6), object(16)\nmemory usage: 471.5+ MB\n"
     ]
    },
    {
     "output_type": "display_data",
     "data": {
      "text/plain": "None"
     },
     "metadata": {}
    }
   ],
   "source": [
    "# Printing info about each of the dataframes\n",
    "dataframes = [applicationtestDF, applicationtrainDF, bureauDF, bureaubalanceDF, creditcardbalanceDF, installmentpaymentsDF, poscashDF, previousDF]\n",
    "\n",
    "for df in dataframes:\n",
    "    display(df.info())"
   ]
  },
  {
   "cell_type": "markdown",
   "id": "78da5035",
   "metadata": {},
   "source": [
    "#### Exploring summary stats of the numeric columns"
   ]
  },
  {
   "cell_type": "code",
   "execution_count": 16,
   "id": "52b9059a",
   "metadata": {
    "tags": [
     "outputPrepend"
    ]
   },
   "outputs": [
    {
     "output_type": "stream",
     "name": "stdout",
     "text": [
      "         0.000000                   0.000000   \n",
      "50%                      0.000000                   0.000000   \n",
      "75%                      0.000000                   0.000000   \n",
      "max                      2.000000                   2.000000   \n",
      "\n",
      "       AMT_REQ_CREDIT_BUREAU_WEEK  AMT_REQ_CREDIT_BUREAU_MON  \\\n",
      "count                42695.000000               42695.000000   \n",
      "mean                     0.002787                   0.009299   \n",
      "std                      0.054037                   0.110924   \n",
      "min                      0.000000                   0.000000   \n",
      "25%                      0.000000                   0.000000   \n",
      "50%                      0.000000                   0.000000   \n",
      "75%                      0.000000                   0.000000   \n",
      "max                      2.000000                   6.000000   \n",
      "\n",
      "       AMT_REQ_CREDIT_BUREAU_QRT  AMT_REQ_CREDIT_BUREAU_YEAR  \n",
      "count               42695.000000                42695.000000  \n",
      "mean                    0.546902                    1.983769  \n",
      "std                     0.693305                    1.838873  \n",
      "min                     0.000000                    0.000000  \n",
      "25%                     0.000000                    0.000000  \n",
      "50%                     0.000000                    2.000000  \n",
      "75%                     1.000000                    3.000000  \n",
      "max                     7.000000                   17.000000  \n",
      "\n",
      "[8 rows x 105 columns]\n",
      "          SK_ID_CURR         TARGET   CNT_CHILDREN  AMT_INCOME_TOTAL  \\\n",
      "count  307511.000000  307511.000000  307511.000000      3.075110e+05   \n",
      "mean   278180.518577       0.080729       0.417052      1.687979e+05   \n",
      "std    102790.175348       0.272419       0.722121      2.371231e+05   \n",
      "min    100002.000000       0.000000       0.000000      2.565000e+04   \n",
      "25%    189145.500000       0.000000       0.000000      1.125000e+05   \n",
      "50%    278202.000000       0.000000       0.000000      1.471500e+05   \n",
      "75%    367142.500000       0.000000       1.000000      2.025000e+05   \n",
      "max    456255.000000       1.000000      19.000000      1.170000e+08   \n",
      "\n",
      "         AMT_CREDIT    AMT_ANNUITY  AMT_GOODS_PRICE  \\\n",
      "count  3.075110e+05  307499.000000     3.072330e+05   \n",
      "mean   5.990260e+05   27108.573909     5.383962e+05   \n",
      "std    4.024908e+05   14493.737315     3.694465e+05   \n",
      "min    4.500000e+04    1615.500000     4.050000e+04   \n",
      "25%    2.700000e+05   16524.000000     2.385000e+05   \n",
      "50%    5.135310e+05   24903.000000     4.500000e+05   \n",
      "75%    8.086500e+05   34596.000000     6.795000e+05   \n",
      "max    4.050000e+06  258025.500000     4.050000e+06   \n",
      "\n",
      "       REGION_POPULATION_RELATIVE     DAYS_BIRTH  DAYS_EMPLOYED  ...  \\\n",
      "count               307511.000000  307511.000000  307511.000000  ...   \n",
      "mean                     0.020868  -16036.995067   63815.045904  ...   \n",
      "std                      0.013831    4363.988632  141275.766519  ...   \n",
      "min                      0.000290  -25229.000000  -17912.000000  ...   \n",
      "25%                      0.010006  -19682.000000   -2760.000000  ...   \n",
      "50%                      0.018850  -15750.000000   -1213.000000  ...   \n",
      "75%                      0.028663  -12413.000000    -289.000000  ...   \n",
      "max                      0.072508   -7489.000000  365243.000000  ...   \n",
      "\n",
      "       FLAG_DOCUMENT_18  FLAG_DOCUMENT_19  FLAG_DOCUMENT_20  FLAG_DOCUMENT_21  \\\n",
      "count     307511.000000     307511.000000     307511.000000     307511.000000   \n",
      "mean           0.008130          0.000595          0.000507          0.000335   \n",
      "std            0.089798          0.024387          0.022518          0.018299   \n",
      "min            0.000000          0.000000          0.000000          0.000000   \n",
      "25%            0.000000          0.000000          0.000000          0.000000   \n",
      "50%            0.000000          0.000000          0.000000          0.000000   \n",
      "75%            0.000000          0.000000          0.000000          0.000000   \n",
      "max            1.000000          1.000000          1.000000          1.000000   \n",
      "\n",
      "       AMT_REQ_CREDIT_BUREAU_HOUR  AMT_REQ_CREDIT_BUREAU_DAY  \\\n",
      "count               265992.000000              265992.000000   \n",
      "mean                     0.006402                   0.007000   \n",
      "std                      0.083849                   0.110757   \n",
      "min                      0.000000                   0.000000   \n",
      "25%                      0.000000                   0.000000   \n",
      "50%                      0.000000                   0.000000   \n",
      "75%                      0.000000                   0.000000   \n",
      "max                      4.000000                   9.000000   \n",
      "\n",
      "       AMT_REQ_CREDIT_BUREAU_WEEK  AMT_REQ_CREDIT_BUREAU_MON  \\\n",
      "count               265992.000000              265992.000000   \n",
      "mean                     0.034362                   0.267395   \n",
      "std                      0.204685                   0.916002   \n",
      "min                      0.000000                   0.000000   \n",
      "25%                      0.000000                   0.000000   \n",
      "50%                      0.000000                   0.000000   \n",
      "75%                      0.000000                   0.000000   \n",
      "max                      8.000000                  27.000000   \n",
      "\n",
      "       AMT_REQ_CREDIT_BUREAU_QRT  AMT_REQ_CREDIT_BUREAU_YEAR  \n",
      "count              265992.000000               265992.000000  \n",
      "mean                    0.265474                    1.899974  \n",
      "std                     0.794056                    1.869295  \n",
      "min                     0.000000                    0.000000  \n",
      "25%                     0.000000                    0.000000  \n",
      "50%                     0.000000                    1.000000  \n",
      "75%                     0.000000                    3.000000  \n",
      "max                   261.000000                   25.000000  \n",
      "\n",
      "[8 rows x 106 columns]\n",
      "         SK_ID_CURR  SK_ID_BUREAU   DAYS_CREDIT  CREDIT_DAY_OVERDUE  \\\n",
      "count  1.716428e+06  1.716428e+06  1.716428e+06        1.716428e+06   \n",
      "mean   2.782149e+05  5.924434e+06 -1.142108e+03        8.181666e-01   \n",
      "std    1.029386e+05  5.322657e+05  7.951649e+02        3.654443e+01   \n",
      "min    1.000010e+05  5.000000e+06 -2.922000e+03        0.000000e+00   \n",
      "25%    1.888668e+05  5.463954e+06 -1.666000e+03        0.000000e+00   \n",
      "50%    2.780550e+05  5.926304e+06 -9.870000e+02        0.000000e+00   \n",
      "75%    3.674260e+05  6.385681e+06 -4.740000e+02        0.000000e+00   \n",
      "max    4.562550e+05  6.843457e+06  0.000000e+00        2.792000e+03   \n",
      "\n",
      "       DAYS_CREDIT_ENDDATE  DAYS_ENDDATE_FACT  AMT_CREDIT_MAX_OVERDUE  \\\n",
      "count         1.610875e+06       1.082775e+06            5.919400e+05   \n",
      "mean          5.105174e+02      -1.017437e+03            3.825418e+03   \n",
      "std           4.994220e+03       7.140106e+02            2.060316e+05   \n",
      "min          -4.206000e+04      -4.202300e+04            0.000000e+00   \n",
      "25%          -1.138000e+03      -1.489000e+03            0.000000e+00   \n",
      "50%          -3.300000e+02      -8.970000e+02            0.000000e+00   \n",
      "75%           4.740000e+02      -4.250000e+02            0.000000e+00   \n",
      "max           3.119900e+04       0.000000e+00            1.159872e+08   \n",
      "\n",
      "       CNT_CREDIT_PROLONG  AMT_CREDIT_SUM  AMT_CREDIT_SUM_DEBT  \\\n",
      "count        1.716428e+06    1.716415e+06         1.458759e+06   \n",
      "mean         6.410406e-03    3.549946e+05         1.370851e+05   \n",
      "std          9.622391e-02    1.149811e+06         6.774011e+05   \n",
      "min          0.000000e+00    0.000000e+00        -4.705600e+06   \n",
      "25%          0.000000e+00    5.130000e+04         0.000000e+00   \n",
      "50%          0.000000e+00    1.255185e+05         0.000000e+00   \n",
      "75%          0.000000e+00    3.150000e+05         4.015350e+04   \n",
      "max          9.000000e+00    5.850000e+08         1.701000e+08   \n",
      "\n",
      "       AMT_CREDIT_SUM_LIMIT  AMT_CREDIT_SUM_OVERDUE  DAYS_CREDIT_UPDATE  \\\n",
      "count          1.124648e+06            1.716428e+06        1.716428e+06   \n",
      "mean           6.229515e+03            3.791276e+01       -5.937483e+02   \n",
      "std            4.503203e+04            5.937650e+03        7.207473e+02   \n",
      "min           -5.864061e+05            0.000000e+00       -4.194700e+04   \n",
      "25%            0.000000e+00            0.000000e+00       -9.080000e+02   \n",
      "50%            0.000000e+00            0.000000e+00       -3.950000e+02   \n",
      "75%            0.000000e+00            0.000000e+00       -3.300000e+01   \n",
      "max            4.705600e+06            3.756681e+06        3.720000e+02   \n",
      "\n",
      "        AMT_ANNUITY  \n",
      "count  4.896370e+05  \n",
      "mean   1.571276e+04  \n",
      "std    3.258269e+05  \n",
      "min    0.000000e+00  \n",
      "25%    0.000000e+00  \n",
      "50%    0.000000e+00  \n",
      "75%    1.350000e+04  \n",
      "max    1.184534e+08  \n",
      "       SK_ID_BUREAU  MONTHS_BALANCE\n",
      "count  2.729992e+07    2.729992e+07\n",
      "mean   6.036297e+06   -3.074169e+01\n",
      "std    4.923489e+05    2.386451e+01\n",
      "min    5.001709e+06   -9.600000e+01\n",
      "25%    5.730933e+06   -4.600000e+01\n",
      "50%    6.070821e+06   -2.500000e+01\n",
      "75%    6.431951e+06   -1.100000e+01\n",
      "max    6.842888e+06    0.000000e+00\n",
      "         SK_ID_PREV    SK_ID_CURR  MONTHS_BALANCE   AMT_BALANCE  \\\n",
      "count  3.840312e+06  3.840312e+06    3.840312e+06  3.840312e+06   \n",
      "mean   1.904504e+06  2.783242e+05   -3.452192e+01  5.830016e+04   \n",
      "std    5.364695e+05  1.027045e+05    2.666775e+01  1.063070e+05   \n",
      "min    1.000018e+06  1.000060e+05   -9.600000e+01 -4.202502e+05   \n",
      "25%    1.434385e+06  1.895170e+05   -5.500000e+01  0.000000e+00   \n",
      "50%    1.897122e+06  2.783960e+05   -2.800000e+01  0.000000e+00   \n",
      "75%    2.369328e+06  3.675800e+05   -1.100000e+01  8.904669e+04   \n",
      "max    2.843496e+06  4.562500e+05   -1.000000e+00  1.505902e+06   \n",
      "\n",
      "       AMT_CREDIT_LIMIT_ACTUAL  AMT_DRAWINGS_ATM_CURRENT  \\\n",
      "count             3.840312e+06              3.090496e+06   \n",
      "mean              1.538080e+05              5.961325e+03   \n",
      "std               1.651457e+05              2.822569e+04   \n",
      "min               0.000000e+00             -6.827310e+03   \n",
      "25%               4.500000e+04              0.000000e+00   \n",
      "50%               1.125000e+05              0.000000e+00   \n",
      "75%               1.800000e+05              0.000000e+00   \n",
      "max               1.350000e+06              2.115000e+06   \n",
      "\n",
      "       AMT_DRAWINGS_CURRENT  AMT_DRAWINGS_OTHER_CURRENT  \\\n",
      "count          3.840312e+06                3.090496e+06   \n",
      "mean           7.433388e+03                2.881696e+02   \n",
      "std            3.384608e+04                8.201989e+03   \n",
      "min           -6.211620e+03                0.000000e+00   \n",
      "25%            0.000000e+00                0.000000e+00   \n",
      "50%            0.000000e+00                0.000000e+00   \n",
      "75%            0.000000e+00                0.000000e+00   \n",
      "max            2.287098e+06                1.529847e+06   \n",
      "\n",
      "       AMT_DRAWINGS_POS_CURRENT  AMT_INST_MIN_REGULARITY  ...  \\\n",
      "count              3.090496e+06             3.535076e+06  ...   \n",
      "mean               2.968805e+03             3.540204e+03  ...   \n",
      "std                2.079689e+04             5.600154e+03  ...   \n",
      "min                0.000000e+00             0.000000e+00  ...   \n",
      "25%                0.000000e+00             0.000000e+00  ...   \n",
      "50%                0.000000e+00             0.000000e+00  ...   \n",
      "75%                0.000000e+00             6.633911e+03  ...   \n",
      "max                2.239274e+06             2.028820e+05  ...   \n",
      "\n",
      "       AMT_RECEIVABLE_PRINCIPAL  AMT_RECIVABLE  AMT_TOTAL_RECEIVABLE  \\\n",
      "count              3.840312e+06   3.840312e+06          3.840312e+06   \n",
      "mean               5.596588e+04   5.808881e+04          5.809829e+04   \n",
      "std                1.025336e+05   1.059654e+05          1.059718e+05   \n",
      "min               -4.233058e+05  -4.202502e+05         -4.202502e+05   \n",
      "25%                0.000000e+00   0.000000e+00          0.000000e+00   \n",
      "50%                0.000000e+00   0.000000e+00          0.000000e+00   \n",
      "75%                8.535924e+04   8.889949e+04          8.891451e+04   \n",
      "max                1.472317e+06   1.493338e+06          1.493338e+06   \n",
      "\n",
      "       CNT_DRAWINGS_ATM_CURRENT  CNT_DRAWINGS_CURRENT  \\\n",
      "count              3.090496e+06          3.840312e+06   \n",
      "mean               3.094490e-01          7.031439e-01   \n",
      "std                1.100401e+00          3.190347e+00   \n",
      "min                0.000000e+00          0.000000e+00   \n",
      "25%                0.000000e+00          0.000000e+00   \n",
      "50%                0.000000e+00          0.000000e+00   \n",
      "75%                0.000000e+00          0.000000e+00   \n",
      "max                5.100000e+01          1.650000e+02   \n",
      "\n",
      "       CNT_DRAWINGS_OTHER_CURRENT  CNT_DRAWINGS_POS_CURRENT  \\\n",
      "count                3.090496e+06              3.090496e+06   \n",
      "mean                 4.812496e-03              5.594791e-01   \n",
      "std                  8.263861e-02              3.240649e+00   \n",
      "min                  0.000000e+00              0.000000e+00   \n",
      "25%                  0.000000e+00              0.000000e+00   \n",
      "50%                  0.000000e+00              0.000000e+00   \n",
      "75%                  0.000000e+00              0.000000e+00   \n",
      "max                  1.200000e+01              1.650000e+02   \n",
      "\n",
      "       CNT_INSTALMENT_MATURE_CUM        SK_DPD    SK_DPD_DEF  \n",
      "count               3.535076e+06  3.840312e+06  3.840312e+06  \n",
      "mean                2.082508e+01  9.283667e+00  3.316220e-01  \n",
      "std                 2.005149e+01  9.751570e+01  2.147923e+01  \n",
      "min                 0.000000e+00  0.000000e+00  0.000000e+00  \n",
      "25%                 4.000000e+00  0.000000e+00  0.000000e+00  \n",
      "50%                 1.500000e+01  0.000000e+00  0.000000e+00  \n",
      "75%                 3.200000e+01  0.000000e+00  0.000000e+00  \n",
      "max                 1.200000e+02  3.260000e+03  3.260000e+03  \n",
      "\n",
      "[8 rows x 22 columns]\n",
      "         SK_ID_PREV    SK_ID_CURR  NUM_INSTALMENT_VERSION  \\\n",
      "count  1.360540e+07  1.360540e+07            1.360540e+07   \n",
      "mean   1.903365e+06  2.784449e+05            8.566373e-01   \n",
      "std    5.362029e+05  1.027183e+05            1.035216e+00   \n",
      "min    1.000001e+06  1.000010e+05            0.000000e+00   \n",
      "25%    1.434191e+06  1.896390e+05            0.000000e+00   \n",
      "50%    1.896520e+06  2.786850e+05            1.000000e+00   \n",
      "75%    2.369094e+06  3.675300e+05            1.000000e+00   \n",
      "max    2.843499e+06  4.562550e+05            1.780000e+02   \n",
      "\n",
      "       NUM_INSTALMENT_NUMBER  DAYS_INSTALMENT  DAYS_ENTRY_PAYMENT  \\\n",
      "count           1.360540e+07     1.360540e+07        1.360250e+07   \n",
      "mean            1.887090e+01    -1.042270e+03       -1.051114e+03   \n",
      "std             2.666407e+01     8.009463e+02        8.005859e+02   \n",
      "min             1.000000e+00    -2.922000e+03       -4.921000e+03   \n",
      "25%             4.000000e+00    -1.654000e+03       -1.662000e+03   \n",
      "50%             8.000000e+00    -8.180000e+02       -8.270000e+02   \n",
      "75%             1.900000e+01    -3.610000e+02       -3.700000e+02   \n",
      "max             2.770000e+02    -1.000000e+00       -1.000000e+00   \n",
      "\n",
      "       AMT_INSTALMENT   AMT_PAYMENT  \n",
      "count    1.360540e+07  1.360250e+07  \n",
      "mean     1.705091e+04  1.723822e+04  \n",
      "std      5.057025e+04  5.473578e+04  \n",
      "min      0.000000e+00  0.000000e+00  \n",
      "25%      4.226085e+03  3.398265e+03  \n",
      "50%      8.884080e+03  8.125515e+03  \n",
      "75%      1.671021e+04  1.610842e+04  \n",
      "max      3.771488e+06  3.771488e+06  \n",
      "         SK_ID_PREV    SK_ID_CURR  MONTHS_BALANCE  CNT_INSTALMENT  \\\n",
      "count  1.000136e+07  1.000136e+07    1.000136e+07    9.975287e+06   \n",
      "mean   1.903217e+06  2.784039e+05   -3.501259e+01    1.708965e+01   \n",
      "std    5.358465e+05  1.027637e+05    2.606657e+01    1.199506e+01   \n",
      "min    1.000001e+06  1.000010e+05   -9.600000e+01    1.000000e+00   \n",
      "25%    1.434405e+06  1.895500e+05   -5.400000e+01    1.000000e+01   \n",
      "50%    1.896565e+06  2.786540e+05   -2.800000e+01    1.200000e+01   \n",
      "75%    2.368963e+06  3.674290e+05   -1.300000e+01    2.400000e+01   \n",
      "max    2.843499e+06  4.562550e+05   -1.000000e+00    9.200000e+01   \n",
      "\n",
      "       CNT_INSTALMENT_FUTURE        SK_DPD    SK_DPD_DEF  \n",
      "count           9.975271e+06  1.000136e+07  1.000136e+07  \n",
      "mean            1.048384e+01  1.160693e+01  6.544684e-01  \n",
      "std             1.110906e+01  1.327140e+02  3.276249e+01  \n",
      "min             0.000000e+00  0.000000e+00  0.000000e+00  \n",
      "25%             3.000000e+00  0.000000e+00  0.000000e+00  \n",
      "50%             7.000000e+00  0.000000e+00  0.000000e+00  \n",
      "75%             1.400000e+01  0.000000e+00  0.000000e+00  \n",
      "max             8.500000e+01  4.231000e+03  3.595000e+03  \n",
      "         SK_ID_PREV    SK_ID_CURR   AMT_ANNUITY  AMT_APPLICATION  \\\n",
      "count  1.670214e+06  1.670214e+06  1.297979e+06     1.670214e+06   \n",
      "mean   1.923089e+06  2.783572e+05  1.595512e+04     1.752339e+05   \n",
      "std    5.325980e+05  1.028148e+05  1.478214e+04     2.927798e+05   \n",
      "min    1.000001e+06  1.000010e+05  0.000000e+00     0.000000e+00   \n",
      "25%    1.461857e+06  1.893290e+05  6.321780e+03     1.872000e+04   \n",
      "50%    1.923110e+06  2.787145e+05  1.125000e+04     7.104600e+04   \n",
      "75%    2.384280e+06  3.675140e+05  2.065842e+04     1.803600e+05   \n",
      "max    2.845382e+06  4.562550e+05  4.180581e+05     6.905160e+06   \n",
      "\n",
      "         AMT_CREDIT  AMT_DOWN_PAYMENT  AMT_GOODS_PRICE  \\\n",
      "count  1.670213e+06      7.743700e+05     1.284699e+06   \n",
      "mean   1.961140e+05      6.697402e+03     2.278473e+05   \n",
      "std    3.185746e+05      2.092150e+04     3.153966e+05   \n",
      "min    0.000000e+00     -9.000000e-01     0.000000e+00   \n",
      "25%    2.416050e+04      0.000000e+00     5.084100e+04   \n",
      "50%    8.054100e+04      1.638000e+03     1.123200e+05   \n",
      "75%    2.164185e+05      7.740000e+03     2.340000e+05   \n",
      "max    6.905160e+06      3.060045e+06     6.905160e+06   \n",
      "\n",
      "       HOUR_APPR_PROCESS_START  NFLAG_LAST_APPL_IN_DAY  RATE_DOWN_PAYMENT  \\\n",
      "count             1.670214e+06            1.670214e+06      774370.000000   \n",
      "mean              1.248418e+01            9.964675e-01           0.079637   \n",
      "std               3.334028e+00            5.932963e-02           0.107823   \n",
      "min               0.000000e+00            0.000000e+00          -0.000015   \n",
      "25%               1.000000e+01            1.000000e+00           0.000000   \n",
      "50%               1.200000e+01            1.000000e+00           0.051605   \n",
      "75%               1.500000e+01            1.000000e+00           0.108909   \n",
      "max               2.300000e+01            1.000000e+00           1.000000   \n",
      "\n",
      "       ...  RATE_INTEREST_PRIVILEGED  DAYS_DECISION  SELLERPLACE_AREA  \\\n",
      "count  ...               5951.000000   1.670214e+06      1.670214e+06   \n",
      "mean   ...                  0.773503  -8.806797e+02      3.139511e+02   \n",
      "std    ...                  0.100879   7.790997e+02      7.127443e+03   \n",
      "min    ...                  0.373150  -2.922000e+03     -1.000000e+00   \n",
      "25%    ...                  0.715645  -1.300000e+03     -1.000000e+00   \n",
      "50%    ...                  0.835095  -5.810000e+02      3.000000e+00   \n",
      "75%    ...                  0.852537  -2.800000e+02      8.200000e+01   \n",
      "max    ...                  1.000000  -1.000000e+00      4.000000e+06   \n",
      "\n",
      "        CNT_PAYMENT  DAYS_FIRST_DRAWING  DAYS_FIRST_DUE  \\\n",
      "count  1.297984e+06       997149.000000   997149.000000   \n",
      "mean   1.605408e+01       342209.855039    13826.269337   \n",
      "std    1.456729e+01        88916.115834    72444.869708   \n",
      "min    0.000000e+00        -2922.000000    -2892.000000   \n",
      "25%    6.000000e+00       365243.000000    -1628.000000   \n",
      "50%    1.200000e+01       365243.000000     -831.000000   \n",
      "75%    2.400000e+01       365243.000000     -411.000000   \n",
      "max    8.400000e+01       365243.000000   365243.000000   \n",
      "\n",
      "       DAYS_LAST_DUE_1ST_VERSION  DAYS_LAST_DUE  DAYS_TERMINATION  \\\n",
      "count              997149.000000  997149.000000     997149.000000   \n",
      "mean                33767.774054   76582.403064      81992.343838   \n",
      "std                106857.034789  149647.415123     153303.516729   \n",
      "min                 -2801.000000   -2889.000000      -2874.000000   \n",
      "25%                 -1242.000000   -1314.000000      -1270.000000   \n",
      "50%                  -361.000000    -537.000000       -499.000000   \n",
      "75%                   129.000000     -74.000000        -44.000000   \n",
      "max                365243.000000  365243.000000     365243.000000   \n",
      "\n",
      "       NFLAG_INSURED_ON_APPROVAL  \n",
      "count              997149.000000  \n",
      "mean                    0.332570  \n",
      "std                     0.471134  \n",
      "min                     0.000000  \n",
      "25%                     0.000000  \n",
      "50%                     0.000000  \n",
      "75%                     1.000000  \n",
      "max                     1.000000  \n",
      "\n",
      "[8 rows x 21 columns]\n"
     ]
    }
   ],
   "source": [
    "# Get summary statistics of the numerical columns\n",
    "dataframes = [applicationtestDF, applicationtrainDF, bureauDF, bureaubalanceDF, creditcardbalanceDF, installmentpaymentsDF, poscashDF, previousDF]\n",
    "\n",
    "for df in dataframes:\n",
    "    print(df.describe())"
   ]
  },
  {
   "cell_type": "markdown",
   "id": "7fe78b78",
   "metadata": {},
   "source": [
    "#### Exploring the categorical variables in the dataframes"
   ]
  },
  {
   "cell_type": "code",
   "execution_count": 17,
   "id": "72c17ece",
   "metadata": {},
   "outputs": [
    {
     "output_type": "stream",
     "name": "stdout",
     "text": [
      "       NAME_CONTRACT_TYPE CODE_GENDER FLAG_OWN_CAR FLAG_OWN_REALTY  \\\n",
      "count               48744       48744        48744           48744   \n",
      "unique                  2           2            2               2   \n",
      "top            Cash loans           F            N               Y   \n",
      "freq                48305       32678        32311           33658   \n",
      "\n",
      "       NAME_TYPE_SUITE NAME_INCOME_TYPE            NAME_EDUCATION_TYPE  \\\n",
      "count            47833            48744                          48744   \n",
      "unique               7                7                              5   \n",
      "top      Unaccompanied          Working  Secondary / secondary special   \n",
      "freq             39727            24533                          33988   \n",
      "\n",
      "       NAME_FAMILY_STATUS  NAME_HOUSING_TYPE OCCUPATION_TYPE  \\\n",
      "count               48744              48744           33139   \n",
      "unique                  5                  6              18   \n",
      "top               Married  House / apartment        Laborers   \n",
      "freq                32283              43645            8655   \n",
      "\n",
      "       WEEKDAY_APPR_PROCESS_START       ORGANIZATION_TYPE FONDKAPREMONT_MODE  \\\n",
      "count                       48744                   48744              15947   \n",
      "unique                          7                      58                  4   \n",
      "top                       TUESDAY  Business Entity Type 3   reg oper account   \n",
      "freq                         9751                   10840              12124   \n",
      "\n",
      "        HOUSETYPE_MODE WALLSMATERIAL_MODE EMERGENCYSTATE_MODE  \n",
      "count            25125              24851               26535  \n",
      "unique               3                  7                   2  \n",
      "top     block of flats              Panel                  No  \n",
      "freq             24659              11269               26179  \n",
      "       NAME_CONTRACT_TYPE CODE_GENDER FLAG_OWN_CAR FLAG_OWN_REALTY  \\\n",
      "count              307511      307511       307511          307511   \n",
      "unique                  2           3            2               2   \n",
      "top            Cash loans           F            N               Y   \n",
      "freq               278232      202448       202924          213312   \n",
      "\n",
      "       NAME_TYPE_SUITE NAME_INCOME_TYPE            NAME_EDUCATION_TYPE  \\\n",
      "count           306219           307511                         307511   \n",
      "unique               7                8                              5   \n",
      "top      Unaccompanied          Working  Secondary / secondary special   \n",
      "freq            248526           158774                         218391   \n",
      "\n",
      "       NAME_FAMILY_STATUS  NAME_HOUSING_TYPE OCCUPATION_TYPE  \\\n",
      "count              307511             307511          211120   \n",
      "unique                  6                  6              18   \n",
      "top               Married  House / apartment        Laborers   \n",
      "freq               196432             272868           55186   \n",
      "\n",
      "       WEEKDAY_APPR_PROCESS_START       ORGANIZATION_TYPE FONDKAPREMONT_MODE  \\\n",
      "count                      307511                  307511              97216   \n",
      "unique                          7                      58                  4   \n",
      "top                       TUESDAY  Business Entity Type 3   reg oper account   \n",
      "freq                        53901                   67992              73830   \n",
      "\n",
      "        HOUSETYPE_MODE WALLSMATERIAL_MODE EMERGENCYSTATE_MODE  \n",
      "count           153214             151170              161756  \n",
      "unique               3                  7                   2  \n",
      "top     block of flats              Panel                  No  \n",
      "freq            150503              66040              159428  \n",
      "       CREDIT_ACTIVE CREDIT_CURRENCY      CREDIT_TYPE\n",
      "count        1716428         1716428          1716428\n",
      "unique             4               4               15\n",
      "top           Closed      currency 1  Consumer credit\n",
      "freq         1079273         1715020          1251615\n",
      "          STATUS\n",
      "count   27299925\n",
      "unique         8\n",
      "top            C\n",
      "freq    13646993\n",
      "       NAME_CONTRACT_STATUS\n",
      "count               3840312\n",
      "unique                    7\n",
      "top                  Active\n",
      "freq                3698436\n",
      "       NAME_CONTRACT_STATUS\n",
      "count              10001358\n",
      "unique                    9\n",
      "top                  Active\n",
      "freq                9151119\n",
      "       NAME_CONTRACT_TYPE WEEKDAY_APPR_PROCESS_START  \\\n",
      "count             1670214                    1670214   \n",
      "unique                  4                          7   \n",
      "top            Cash loans                    TUESDAY   \n",
      "freq               747553                     255118   \n",
      "\n",
      "       FLAG_LAST_APPL_PER_CONTRACT NAME_CASH_LOAN_PURPOSE  \\\n",
      "count                      1670214                1670214   \n",
      "unique                           2                     25   \n",
      "top                              Y                    XAP   \n",
      "freq                       1661739                 922661   \n",
      "\n",
      "       NAME_CONTRACT_STATUS      NAME_PAYMENT_TYPE CODE_REJECT_REASON  \\\n",
      "count               1670214                1670214            1670214   \n",
      "unique                    4                      4                  9   \n",
      "top                Approved  Cash through the bank                XAP   \n",
      "freq                1036781                1033552            1353093   \n",
      "\n",
      "       NAME_TYPE_SUITE NAME_CLIENT_TYPE NAME_GOODS_CATEGORY NAME_PORTFOLIO  \\\n",
      "count           849809          1670214             1670214        1670214   \n",
      "unique               7                4                  28              5   \n",
      "top      Unaccompanied         Repeater                 XNA            POS   \n",
      "freq            508970          1231261              950809         691011   \n",
      "\n",
      "       NAME_PRODUCT_TYPE             CHANNEL_TYPE NAME_SELLER_INDUSTRY  \\\n",
      "count            1670214                  1670214              1670214   \n",
      "unique                 3                        8                   11   \n",
      "top                  XNA  Credit and cash offices                  XNA   \n",
      "freq             1063666                   719968               855720   \n",
      "\n",
      "       NAME_YIELD_GROUP PRODUCT_COMBINATION  \n",
      "count           1670214             1669868  \n",
      "unique                5                  17  \n",
      "top                 XNA                Cash  \n",
      "freq             517215              285990  \n"
     ]
    }
   ],
   "source": [
    "# Getting information about the categorical columns\n",
    "# installmentpaymentsDF does not include any categorical data so we do not include it.\n",
    "\n",
    "dataframes = [applicationtestDF, applicationtrainDF, bureauDF, bureaubalanceDF, creditcardbalanceDF, poscashDF, previousDF]\n",
    "\n",
    "for df in dataframes:\n",
    "    print(df.describe(include='object'))"
   ]
  },
  {
   "cell_type": "markdown",
   "id": "96ab3010",
   "metadata": {},
   "source": [
    "#### Getting the unique values for the categorical columns in the dataframe"
   ]
  },
  {
   "cell_type": "code",
   "execution_count": 63,
   "id": "de49f525",
   "metadata": {},
   "outputs": [
    {
     "output_type": "stream",
     "name": "stdout",
     "text": [
      "\n",
      "\n",
      "NAME_CONTRACT_TYPE: ['Cash loans' 'Revolving loans']\n",
      "\n",
      "\n",
      "CODE_GENDER: ['F' 'M']\n",
      "\n",
      "\n",
      "FLAG_OWN_CAR: ['N' 'Y']\n",
      "\n",
      "\n",
      "FLAG_OWN_REALTY: ['Y' 'N']\n",
      "\n",
      "\n",
      "NAME_TYPE_SUITE: ['Unaccompanied' nan 'Family' 'Spouse, partner' 'Group of people'\n",
      " 'Other_B' 'Children' 'Other_A']\n",
      "\n",
      "\n",
      "NAME_INCOME_TYPE: ['Working' 'State servant' 'Pensioner' 'Commercial associate'\n",
      " 'Businessman' 'Student' 'Unemployed']\n",
      "\n",
      "\n",
      "NAME_EDUCATION_TYPE: ['Higher education' 'Secondary / secondary special' 'Incomplete higher'\n",
      " 'Lower secondary' 'Academic degree']\n",
      "\n",
      "\n",
      "NAME_FAMILY_STATUS: ['Married' 'Single / not married' 'Civil marriage' 'Widow' 'Separated']\n",
      "\n",
      "\n",
      "NAME_HOUSING_TYPE: ['House / apartment' 'With parents' 'Rented apartment'\n",
      " 'Municipal apartment' 'Office apartment' 'Co-op apartment']\n",
      "\n",
      "\n",
      "OCCUPATION_TYPE: [nan 'Low-skill Laborers' 'Drivers' 'Sales staff' 'High skill tech staff'\n",
      " 'Core staff' 'Laborers' 'Managers' 'Accountants' 'Medicine staff'\n",
      " 'Security staff' 'Private service staff' 'Secretaries' 'Cleaning staff'\n",
      " 'Cooking staff' 'HR staff' 'Waiters/barmen staff' 'Realty agents'\n",
      " 'IT staff']\n",
      "\n",
      "\n",
      "WEEKDAY_APPR_PROCESS_START: ['TUESDAY' 'FRIDAY' 'MONDAY' 'WEDNESDAY' 'THURSDAY' 'SATURDAY' 'SUNDAY']\n",
      "\n",
      "\n",
      "ORGANIZATION_TYPE: ['Kindergarten' 'Self-employed' 'Transport: type 3'\n",
      " 'Business Entity Type 3' 'Government' 'Industry: type 9' 'School'\n",
      " 'Trade: type 2' 'XNA' 'Services' 'Bank' 'Industry: type 3' 'Other'\n",
      " 'Trade: type 6' 'Industry: type 12' 'Trade: type 7' 'Postal' 'Medicine'\n",
      " 'Housing' 'Business Entity Type 2' 'Construction' 'Military'\n",
      " 'Industry: type 4' 'Trade: type 3' 'Legal Services' 'Security'\n",
      " 'Industry: type 11' 'University' 'Business Entity Type 1' 'Agriculture'\n",
      " 'Security Ministries' 'Transport: type 2' 'Industry: type 7'\n",
      " 'Transport: type 4' 'Telecom' 'Emergency' 'Police' 'Industry: type 1'\n",
      " 'Transport: type 1' 'Electricity' 'Industry: type 5' 'Hotel' 'Restaurant'\n",
      " 'Advertising' 'Mobile' 'Trade: type 1' 'Industry: type 8' 'Realtor'\n",
      " 'Cleaning' 'Industry: type 2' 'Trade: type 4' 'Industry: type 6'\n",
      " 'Culture' 'Insurance' 'Religion' 'Industry: type 13' 'Industry: type 10'\n",
      " 'Trade: type 5']\n",
      "\n",
      "\n",
      "FONDKAPREMONT_MODE: [nan 'reg oper account' 'not specified' 'org spec account'\n",
      " 'reg oper spec account']\n",
      "\n",
      "\n",
      "HOUSETYPE_MODE: ['block of flats' nan 'specific housing' 'terraced house']\n",
      "\n",
      "\n",
      "WALLSMATERIAL_MODE: ['Stone, brick' nan 'Panel' 'Block' 'Wooden' 'Mixed' 'Monolithic' 'Others']\n",
      "\n",
      "\n",
      "EMERGENCYSTATE_MODE: ['No' nan 'Yes']\n",
      "\n",
      "\n",
      "NAME_CONTRACT_TYPE: ['Cash loans' 'Revolving loans']\n",
      "\n",
      "\n",
      "CODE_GENDER: ['M' 'F' 'XNA']\n",
      "\n",
      "\n",
      "FLAG_OWN_CAR: ['N' 'Y']\n",
      "\n",
      "\n",
      "FLAG_OWN_REALTY: ['Y' 'N']\n",
      "\n",
      "\n",
      "NAME_TYPE_SUITE: ['Unaccompanied' 'Family' 'Spouse, partner' 'Children' 'Other_A' nan\n",
      " 'Other_B' 'Group of people']\n",
      "\n",
      "\n",
      "NAME_INCOME_TYPE: ['Working' 'State servant' 'Commercial associate' 'Pensioner' 'Unemployed'\n",
      " 'Student' 'Businessman' 'Maternity leave']\n",
      "\n",
      "\n",
      "NAME_EDUCATION_TYPE: ['Secondary / secondary special' 'Higher education' 'Incomplete higher'\n",
      " 'Lower secondary' 'Academic degree']\n",
      "\n",
      "\n",
      "NAME_FAMILY_STATUS: ['Single / not married' 'Married' 'Civil marriage' 'Widow' 'Separated'\n",
      " 'Unknown']\n",
      "\n",
      "\n",
      "NAME_HOUSING_TYPE: ['House / apartment' 'Rented apartment' 'With parents'\n",
      " 'Municipal apartment' 'Office apartment' 'Co-op apartment']\n",
      "\n",
      "\n",
      "OCCUPATION_TYPE: ['Laborers' 'Core staff' 'Accountants' 'Managers' nan 'Drivers'\n",
      " 'Sales staff' 'Cleaning staff' 'Cooking staff' 'Private service staff'\n",
      " 'Medicine staff' 'Security staff' 'High skill tech staff'\n",
      " 'Waiters/barmen staff' 'Low-skill Laborers' 'Realty agents' 'Secretaries'\n",
      " 'IT staff' 'HR staff']\n",
      "\n",
      "\n",
      "WEEKDAY_APPR_PROCESS_START: ['WEDNESDAY' 'MONDAY' 'THURSDAY' 'SUNDAY' 'SATURDAY' 'FRIDAY' 'TUESDAY']\n",
      "\n",
      "\n",
      "ORGANIZATION_TYPE: ['Business Entity Type 3' 'School' 'Government' 'Religion' 'Other' 'XNA'\n",
      " 'Electricity' 'Medicine' 'Business Entity Type 2' 'Self-employed'\n",
      " 'Transport: type 2' 'Construction' 'Housing' 'Kindergarten'\n",
      " 'Trade: type 7' 'Industry: type 11' 'Military' 'Services'\n",
      " 'Security Ministries' 'Transport: type 4' 'Industry: type 1' 'Emergency'\n",
      " 'Security' 'Trade: type 2' 'University' 'Transport: type 3' 'Police'\n",
      " 'Business Entity Type 1' 'Postal' 'Industry: type 4' 'Agriculture'\n",
      " 'Restaurant' 'Culture' 'Hotel' 'Industry: type 7' 'Trade: type 3'\n",
      " 'Industry: type 3' 'Bank' 'Industry: type 9' 'Insurance' 'Trade: type 6'\n",
      " 'Industry: type 2' 'Transport: type 1' 'Industry: type 12' 'Mobile'\n",
      " 'Trade: type 1' 'Industry: type 5' 'Industry: type 10' 'Legal Services'\n",
      " 'Advertising' 'Trade: type 5' 'Cleaning' 'Industry: type 13'\n",
      " 'Trade: type 4' 'Telecom' 'Industry: type 8' 'Realtor' 'Industry: type 6']\n",
      "\n",
      "\n",
      "FONDKAPREMONT_MODE: ['reg oper account' nan 'org spec account' 'reg oper spec account'\n",
      " 'not specified']\n",
      "\n",
      "\n",
      "HOUSETYPE_MODE: ['block of flats' nan 'terraced house' 'specific housing']\n",
      "\n",
      "\n",
      "WALLSMATERIAL_MODE: ['Stone, brick' 'Block' nan 'Panel' 'Mixed' 'Wooden' 'Others' 'Monolithic']\n",
      "\n",
      "\n",
      "EMERGENCYSTATE_MODE: ['No' nan 'Yes']\n",
      "\n",
      "\n",
      "CREDIT_ACTIVE: ['Closed' 'Active' 'Sold' 'Bad debt']\n",
      "\n",
      "\n",
      "CREDIT_CURRENCY: ['currency 1' 'currency 2' 'currency 4' 'currency 3']\n",
      "\n",
      "\n",
      "CREDIT_TYPE: ['Consumer credit' 'Credit card' 'Mortgage' 'Car loan' 'Microloan'\n",
      " 'Loan for working capital replenishment' 'Loan for business development'\n",
      " 'Real estate loan' 'Unknown type of loan' 'Another type of loan'\n",
      " 'Cash loan (non-earmarked)' 'Loan for the purchase of equipment'\n",
      " 'Mobile operator loan' 'Interbank credit'\n",
      " 'Loan for purchase of shares (margin lending)']\n",
      "\n",
      "\n",
      "STATUS: ['C' '0' 'X' '1' '2' '3' '5' '4']\n",
      "\n",
      "\n",
      "NAME_CONTRACT_STATUS: ['Active' 'Completed' 'Demand' 'Signed' 'Sent proposal' 'Refused'\n",
      " 'Approved']\n",
      "\n",
      "\n",
      "NAME_CONTRACT_STATUS: ['Active' 'Completed' 'Signed' 'Approved' 'Returned to the store' 'Demand'\n",
      " 'Canceled' 'XNA' 'Amortized debt']\n",
      "\n",
      "\n",
      "NAME_CONTRACT_TYPE: ['Consumer loans' 'Cash loans' 'Revolving loans' 'XNA']\n",
      "\n",
      "\n",
      "WEEKDAY_APPR_PROCESS_START: ['SATURDAY' 'THURSDAY' 'TUESDAY' 'MONDAY' 'FRIDAY' 'SUNDAY' 'WEDNESDAY']\n",
      "\n",
      "\n",
      "FLAG_LAST_APPL_PER_CONTRACT: ['Y' 'N']\n",
      "\n",
      "\n",
      "NAME_CASH_LOAN_PURPOSE: ['XAP' 'XNA' 'Repairs' 'Everyday expenses' 'Car repairs'\n",
      " 'Building a house or an annex' 'Other' 'Journey'\n",
      " 'Purchase of electronic equipment' 'Medicine' 'Payments on other loans'\n",
      " 'Urgent needs' 'Buying a used car' 'Buying a new car'\n",
      " 'Buying a holiday home / land' 'Education' 'Buying a home' 'Furniture'\n",
      " 'Buying a garage' 'Business development' 'Wedding / gift / holiday'\n",
      " 'Hobby' 'Gasification / water supply' 'Refusal to name the goal'\n",
      " 'Money for a third person']\n",
      "\n",
      "\n",
      "NAME_CONTRACT_STATUS: ['Approved' 'Refused' 'Canceled' 'Unused offer']\n",
      "\n",
      "\n",
      "NAME_PAYMENT_TYPE: ['Cash through the bank' 'XNA' 'Non-cash from your account'\n",
      " 'Cashless from the account of the employer']\n",
      "\n",
      "\n",
      "CODE_REJECT_REASON: ['XAP' 'HC' 'LIMIT' 'CLIENT' 'SCOFR' 'SCO' 'XNA' 'VERIF' 'SYSTEM']\n",
      "\n",
      "\n",
      "NAME_TYPE_SUITE: [nan 'Unaccompanied' 'Spouse, partner' 'Family' 'Children' 'Other_B'\n",
      " 'Other_A' 'Group of people']\n",
      "\n",
      "\n",
      "NAME_CLIENT_TYPE: ['Repeater' 'New' 'Refreshed' 'XNA']\n",
      "\n",
      "\n",
      "NAME_GOODS_CATEGORY: ['Mobile' 'XNA' 'Consumer Electronics' 'Construction Materials'\n",
      " 'Auto Accessories' 'Photo / Cinema Equipment' 'Computers' 'Audio/Video'\n",
      " 'Medicine' 'Clothing and Accessories' 'Furniture' 'Sport and Leisure'\n",
      " 'Homewares' 'Gardening' 'Jewelry' 'Vehicles' 'Education'\n",
      " 'Medical Supplies' 'Other' 'Direct Sales' 'Office Appliances' 'Fitness'\n",
      " 'Tourism' 'Insurance' 'Additional Service' 'Weapon' 'Animals'\n",
      " 'House Construction']\n",
      "\n",
      "\n",
      "NAME_PORTFOLIO: ['POS' 'Cash' 'XNA' 'Cards' 'Cars']\n",
      "\n",
      "\n",
      "NAME_PRODUCT_TYPE: ['XNA' 'x-sell' 'walk-in']\n",
      "\n",
      "\n",
      "CHANNEL_TYPE: ['Country-wide' 'Contact center' 'Credit and cash offices' 'Stone'\n",
      " 'Regional / Local' 'AP+ (Cash loan)' 'Channel of corporate sales'\n",
      " 'Car dealer']\n",
      "\n",
      "\n",
      "NAME_SELLER_INDUSTRY: ['Connectivity' 'XNA' 'Consumer electronics' 'Industry' 'Clothing'\n",
      " 'Furniture' 'Construction' 'Jewelry' 'Auto technology' 'MLM partners'\n",
      " 'Tourism']\n",
      "\n",
      "\n",
      "NAME_YIELD_GROUP: ['middle' 'low_action' 'high' 'low_normal' 'XNA']\n",
      "\n",
      "\n",
      "PRODUCT_COMBINATION: ['POS mobile with interest' 'Cash X-Sell: low' 'Cash X-Sell: high'\n",
      " 'Cash X-Sell: middle' 'Cash Street: high' 'Cash'\n",
      " 'POS household without interest' 'POS household with interest'\n",
      " 'POS other with interest' 'Card X-Sell' 'POS mobile without interest'\n",
      " 'Card Street' 'POS industry with interest' 'Cash Street: low'\n",
      " 'POS industry without interest' 'Cash Street: middle'\n",
      " 'POS others without interest' nan]\n"
     ]
    }
   ],
   "source": [
    "# Get the unique values in each categorical column\n",
    "def get_unique_values(data):\n",
    "    unique_values = {}\n",
    "    for column in data.select_dtypes(include='object'):\n",
    "        unique_values[column] = data[column].unique()\n",
    "\n",
    "    for column, values in unique_values.items():\n",
    "        print(\"\\n\")\n",
    "        print(f\"{column}: {values}\")\n",
    "\n",
    "        \n",
    "# Example usage with multiple DataFrames        \n",
    "get_unique_values(applicationtestDF)\n",
    "get_unique_values(applicationtrainDF)\n",
    "get_unique_values(bureauDF)\n",
    "get_unique_values(bureaubalanceDF)\n",
    "get_unique_values(creditcardbalanceDF)\n",
    "get_unique_values(installmentpaymentsDF)\n",
    "get_unique_values(poscashDF)\n",
    "get_unique_values(previousDF)\n"
   ]
  },
  {
   "cell_type": "markdown",
   "id": "257a49ff",
   "metadata": {},
   "source": [
    "#### Re-examining the shape of the test and training set"
   ]
  },
  {
   "cell_type": "code",
   "execution_count": 91,
   "id": "701b76ea",
   "metadata": {},
   "outputs": [
    {
     "name": "stdout",
     "output_type": "stream",
     "text": [
      "(307511, 122)\n",
      "(48744, 121)\n"
     ]
    }
   ],
   "source": [
    "#Shape of the train and test set\n",
    "\n",
    "#training set\n",
    "num_rows_train = applicationtrainDF.shape\n",
    "print(num_rows_train)\n",
    "\n",
    "#test set\n",
    "num_rows_test = applicationtestDF.shape\n",
    "print(num_rows_test)"
   ]
  },
  {
   "cell_type": "markdown",
   "id": "ee09c058",
   "metadata": {},
   "source": [
    "There are 50 variables in both data sets where 40% or more of their values are null. Nearly all of those variables involve a applicant's information about their living accomodations. "
   ]
  },
  {
   "cell_type": "markdown",
   "id": "13435cb5",
   "metadata": {},
   "source": [
    "#### Evaluating the missing data from the dataframes"
   ]
  },
  {
   "cell_type": "code",
   "execution_count": 92,
   "id": "10e7ee6c",
   "metadata": {},
   "outputs": [
    {
     "name": "stdout",
     "output_type": "stream",
     "text": [
      "                              Missing Count  Percentage\n",
      "COMMONAREA_MEDI                      214865   69.872297\n",
      "COMMONAREA_AVG                       214865   69.872297\n",
      "COMMONAREA_MODE                      214865   69.872297\n",
      "NONLIVINGAPARTMENTS_MEDI             213514   69.432963\n",
      "NONLIVINGAPARTMENTS_MODE             213514   69.432963\n",
      "NONLIVINGAPARTMENTS_AVG              213514   69.432963\n",
      "FONDKAPREMONT_MODE                   210295   68.386172\n",
      "LIVINGAPARTMENTS_MODE                210199   68.354953\n",
      "LIVINGAPARTMENTS_MEDI                210199   68.354953\n",
      "LIVINGAPARTMENTS_AVG                 210199   68.354953\n",
      "FLOORSMIN_MODE                       208642   67.848630\n",
      "FLOORSMIN_MEDI                       208642   67.848630\n",
      "FLOORSMIN_AVG                        208642   67.848630\n",
      "YEARS_BUILD_MODE                     204488   66.497784\n",
      "YEARS_BUILD_MEDI                     204488   66.497784\n",
      "YEARS_BUILD_AVG                      204488   66.497784\n",
      "OWN_CAR_AGE                          202929   65.990810\n",
      "LANDAREA_AVG                         182590   59.376738\n",
      "LANDAREA_MEDI                        182590   59.376738\n",
      "LANDAREA_MODE                        182590   59.376738\n",
      "BASEMENTAREA_MEDI                    179943   58.515956\n",
      "BASEMENTAREA_AVG                     179943   58.515956\n",
      "BASEMENTAREA_MODE                    179943   58.515956\n",
      "EXT_SOURCE_1                         173378   56.381073\n",
      "NONLIVINGAREA_MEDI                   169682   55.179164\n",
      "NONLIVINGAREA_MODE                   169682   55.179164\n",
      "NONLIVINGAREA_AVG                    169682   55.179164\n",
      "ELEVATORS_MEDI                       163891   53.295980\n",
      "ELEVATORS_MODE                       163891   53.295980\n",
      "ELEVATORS_AVG                        163891   53.295980\n",
      "WALLSMATERIAL_MODE                   156341   50.840783\n",
      "APARTMENTS_MODE                      156061   50.749729\n",
      "APARTMENTS_MEDI                      156061   50.749729\n",
      "APARTMENTS_AVG                       156061   50.749729\n",
      "ENTRANCES_MODE                       154828   50.348768\n",
      "ENTRANCES_AVG                        154828   50.348768\n",
      "ENTRANCES_MEDI                       154828   50.348768\n",
      "LIVINGAREA_MEDI                      154350   50.193326\n",
      "LIVINGAREA_MODE                      154350   50.193326\n",
      "LIVINGAREA_AVG                       154350   50.193326\n",
      "HOUSETYPE_MODE                       154297   50.176091\n",
      "FLOORSMAX_MEDI                       153020   49.760822\n",
      "FLOORSMAX_AVG                        153020   49.760822\n",
      "FLOORSMAX_MODE                       153020   49.760822\n",
      "YEARS_BEGINEXPLUATATION_AVG          150007   48.781019\n",
      "YEARS_BEGINEXPLUATATION_MEDI         150007   48.781019\n",
      "YEARS_BEGINEXPLUATATION_MODE         150007   48.781019\n",
      "TOTALAREA_MODE                       148431   48.268517\n",
      "EMERGENCYSTATE_MODE                  145755   47.398304\n",
      "OCCUPATION_TYPE                       96391   31.345545\n",
      "EXT_SOURCE_3                          60965   19.825307\n",
      "AMT_REQ_CREDIT_BUREAU_WEEK            41519   13.501631\n",
      "AMT_REQ_CREDIT_BUREAU_DAY             41519   13.501631\n",
      "AMT_REQ_CREDIT_BUREAU_MON             41519   13.501631\n",
      "AMT_REQ_CREDIT_BUREAU_QRT             41519   13.501631\n",
      "AMT_REQ_CREDIT_BUREAU_HOUR            41519   13.501631\n",
      "AMT_REQ_CREDIT_BUREAU_YEAR            41519   13.501631\n",
      "NAME_TYPE_SUITE                        1292    0.420148\n",
      "DEF_30_CNT_SOCIAL_CIRCLE               1021    0.332021\n",
      "OBS_60_CNT_SOCIAL_CIRCLE               1021    0.332021\n",
      "DEF_60_CNT_SOCIAL_CIRCLE               1021    0.332021\n",
      "OBS_30_CNT_SOCIAL_CIRCLE               1021    0.332021\n",
      "EXT_SOURCE_2                            660    0.214626\n",
      "AMT_GOODS_PRICE                         278    0.090403\n",
      "AMT_ANNUITY                              12    0.003902\n",
      "CNT_FAM_MEMBERS                           2    0.000650\n",
      "DAYS_LAST_PHONE_CHANGE                    1    0.000325\n"
     ]
    }
   ],
   "source": [
    "#Missing count and percentage of each column in training set\n",
    "\n",
    "#Check for null and provide a count of the total \n",
    "missing_train = applicationtrainDF.isnull().sum()\n",
    "\n",
    "#Filter for any columns that have greater than 0 null values\n",
    "missing_train = missing_train[missing_train > 0]\n",
    "\n",
    "#Sort the column in descending order based on count\n",
    "missing_train = missing_train.sort_values(ascending=False)\n",
    "\n",
    "#Provide a percentage of missing values in each column\n",
    "percent_missing_train = (missing_train / len(applicationtrainDF)) * 100\n",
    "\n",
    "#Create a data frame that includes the missing count and percentages\n",
    "missing_data_train = pd.DataFrame({'Missing Count': missing_train, 'Percentage': percent_missing_train})\n",
    "\n",
    "#Display all the columns based on the above criteria\n",
    "with pd.option_context('display.max_rows', None):\n",
    "    print(missing_data_train)"
   ]
  },
  {
   "cell_type": "code",
   "execution_count": 93,
   "id": "1bf83ba5",
   "metadata": {},
   "outputs": [
    {
     "name": "stdout",
     "output_type": "stream",
     "text": [
      "                              Missing Count  Percentage\n",
      "COMMONAREA_MODE                       33495   68.716150\n",
      "COMMONAREA_MEDI                       33495   68.716150\n",
      "COMMONAREA_AVG                        33495   68.716150\n",
      "NONLIVINGAPARTMENTS_MEDI              33347   68.412523\n",
      "NONLIVINGAPARTMENTS_AVG               33347   68.412523\n",
      "NONLIVINGAPARTMENTS_MODE              33347   68.412523\n",
      "FONDKAPREMONT_MODE                    32797   67.284179\n",
      "LIVINGAPARTMENTS_MODE                 32780   67.249302\n",
      "LIVINGAPARTMENTS_MEDI                 32780   67.249302\n",
      "LIVINGAPARTMENTS_AVG                  32780   67.249302\n",
      "FLOORSMIN_MEDI                        32466   66.605121\n",
      "FLOORSMIN_MODE                        32466   66.605121\n",
      "FLOORSMIN_AVG                         32466   66.605121\n",
      "OWN_CAR_AGE                           32312   66.289184\n",
      "YEARS_BUILD_AVG                       31818   65.275726\n",
      "YEARS_BUILD_MEDI                      31818   65.275726\n",
      "YEARS_BUILD_MODE                      31818   65.275726\n",
      "LANDAREA_MODE                         28254   57.964057\n",
      "LANDAREA_AVG                          28254   57.964057\n",
      "LANDAREA_MEDI                         28254   57.964057\n",
      "BASEMENTAREA_MEDI                     27641   56.706466\n",
      "BASEMENTAREA_AVG                      27641   56.706466\n",
      "BASEMENTAREA_MODE                     27641   56.706466\n",
      "NONLIVINGAREA_MEDI                    26084   53.512227\n",
      "NONLIVINGAREA_MODE                    26084   53.512227\n",
      "NONLIVINGAREA_AVG                     26084   53.512227\n",
      "ELEVATORS_MEDI                        25189   51.676104\n",
      "ELEVATORS_MODE                        25189   51.676104\n",
      "ELEVATORS_AVG                         25189   51.676104\n",
      "WALLSMATERIAL_MODE                    23893   49.017315\n",
      "APARTMENTS_MODE                       23887   49.005006\n",
      "APARTMENTS_MEDI                       23887   49.005006\n",
      "APARTMENTS_AVG                        23887   49.005006\n",
      "HOUSETYPE_MODE                        23619   48.455194\n",
      "ENTRANCES_MODE                        23579   48.373133\n",
      "ENTRANCES_MEDI                        23579   48.373133\n",
      "ENTRANCES_AVG                         23579   48.373133\n",
      "LIVINGAREA_AVG                        23552   48.317742\n",
      "LIVINGAREA_MEDI                       23552   48.317742\n",
      "LIVINGAREA_MODE                       23552   48.317742\n",
      "FLOORSMAX_MEDI                        23321   47.843837\n",
      "FLOORSMAX_MODE                        23321   47.843837\n",
      "FLOORSMAX_AVG                         23321   47.843837\n",
      "YEARS_BEGINEXPLUATATION_MEDI          22856   46.889874\n",
      "YEARS_BEGINEXPLUATATION_MODE          22856   46.889874\n",
      "YEARS_BEGINEXPLUATATION_AVG           22856   46.889874\n",
      "TOTALAREA_MODE                        22624   46.413918\n",
      "EMERGENCYSTATE_MODE                   22209   45.562531\n",
      "EXT_SOURCE_1                          20532   42.122107\n",
      "OCCUPATION_TYPE                       15605   32.014197\n",
      "EXT_SOURCE_3                           8668   17.782701\n",
      "AMT_REQ_CREDIT_BUREAU_MON              6049   12.409732\n",
      "AMT_REQ_CREDIT_BUREAU_HOUR             6049   12.409732\n",
      "AMT_REQ_CREDIT_BUREAU_QRT              6049   12.409732\n",
      "AMT_REQ_CREDIT_BUREAU_WEEK             6049   12.409732\n",
      "AMT_REQ_CREDIT_BUREAU_DAY              6049   12.409732\n",
      "AMT_REQ_CREDIT_BUREAU_YEAR             6049   12.409732\n",
      "NAME_TYPE_SUITE                         911    1.868948\n",
      "DEF_60_CNT_SOCIAL_CIRCLE                 29    0.059495\n",
      "OBS_60_CNT_SOCIAL_CIRCLE                 29    0.059495\n",
      "DEF_30_CNT_SOCIAL_CIRCLE                 29    0.059495\n",
      "OBS_30_CNT_SOCIAL_CIRCLE                 29    0.059495\n",
      "AMT_ANNUITY                              24    0.049237\n",
      "EXT_SOURCE_2                              8    0.016412\n"
     ]
    }
   ],
   "source": [
    "#See how many columns in applicationtestDF have null values\n",
    "\n",
    "#Check for null and provide a count of the total \n",
    "missing_test = applicationtestDF.isnull().sum()\n",
    "\n",
    "#Filter for any columns that have greater than 0 null values\n",
    "missing_test = missing_test[missing_test > 0]\n",
    "\n",
    "#Sort the column in descending order based on count\n",
    "missing_test = missing_test.sort_values(ascending=False)\n",
    "\n",
    "#Provide a percentage of missing values in each column\n",
    "percent_missing_test = (missing_test / len(applicationtestDF)) * 100\n",
    "\n",
    "#Create a data frame that includes the missing count and percentages\n",
    "missing_data_test = pd.DataFrame({'Missing Count': missing_test, 'Percentage': percent_missing_test})\n",
    "\n",
    "#Display all the columns based on the above criteria\n",
    "with pd.option_context('display.max_rows', None):\n",
    "    print(missing_data_test)\n"
   ]
  },
  {
   "cell_type": "markdown",
   "id": "70d2bc8a",
   "metadata": {},
   "source": [
    "The variables that are missing more than 40% of their values have been normalized. Their values range from 0-1. "
   ]
  },
  {
   "cell_type": "markdown",
   "id": "89436f75",
   "metadata": {},
   "source": [
    "#### Filtering missing values and printing summary metrics"
   ]
  },
  {
   "cell_type": "code",
   "execution_count": 17,
   "id": "42ec2f29",
   "metadata": {},
   "outputs": [
    {
     "name": "stdout",
     "output_type": "stream",
     "text": [
      "       COMMONAREA_MEDI  COMMONAREA_AVG  COMMONAREA_MODE  \\\n",
      "count     92646.000000    92646.000000     92646.000000   \n",
      "mean          0.044595        0.044621         0.042553   \n",
      "std           0.076144        0.076036         0.074445   \n",
      "min           0.000000        0.000000         0.000000   \n",
      "25%           0.007900        0.007800         0.007200   \n",
      "50%           0.020800        0.021100         0.019000   \n",
      "75%           0.051300        0.051500         0.049000   \n",
      "max           1.000000        1.000000         1.000000   \n",
      "\n",
      "       NONLIVINGAPARTMENTS_MEDI  NONLIVINGAPARTMENTS_MODE  \\\n",
      "count              93997.000000              93997.000000   \n",
      "mean                   0.008651                  0.008076   \n",
      "std                    0.047415                  0.046276   \n",
      "min                    0.000000                  0.000000   \n",
      "25%                    0.000000                  0.000000   \n",
      "50%                    0.000000                  0.000000   \n",
      "75%                    0.003900                  0.003900   \n",
      "max                    1.000000                  1.000000   \n",
      "\n",
      "       NONLIVINGAPARTMENTS_AVG  LIVINGAPARTMENTS_MODE  LIVINGAPARTMENTS_MEDI  \\\n",
      "count             93997.000000           97312.000000           97312.000000   \n",
      "mean                  0.008809               0.105645               0.101954   \n",
      "std                   0.047732               0.097880               0.093642   \n",
      "min                   0.000000               0.000000               0.000000   \n",
      "25%                   0.000000               0.054200               0.051300   \n",
      "50%                   0.000000               0.077100               0.076100   \n",
      "75%                   0.003900               0.131300               0.123100   \n",
      "max                   1.000000               1.000000               1.000000   \n",
      "\n",
      "       LIVINGAPARTMENTS_AVG  FLOORSMIN_MODE  ...  LIVINGAREA_MEDI  \\\n",
      "count          97312.000000    98869.000000  ...    153161.000000   \n",
      "mean               0.100775        0.228058  ...         0.108607   \n",
      "std                0.092576        0.161160  ...         0.112260   \n",
      "min                0.000000        0.000000  ...         0.000000   \n",
      "25%                0.050400        0.083300  ...         0.045700   \n",
      "50%                0.075600        0.208300  ...         0.074900   \n",
      "75%                0.121000        0.375000  ...         0.130300   \n",
      "max                1.000000        1.000000  ...         1.000000   \n",
      "\n",
      "       LIVINGAREA_MODE  LIVINGAREA_AVG  FLOORSMAX_MEDI  FLOORSMAX_AVG  \\\n",
      "count    153161.000000   153161.000000   154491.000000  154491.000000   \n",
      "mean          0.105975        0.107399        0.225897       0.226282   \n",
      "std           0.111845        0.110565        0.145067       0.144641   \n",
      "min           0.000000        0.000000        0.000000       0.000000   \n",
      "25%           0.042700        0.045300        0.166700       0.166700   \n",
      "50%           0.073100        0.074500        0.166700       0.166700   \n",
      "75%           0.125200        0.129900        0.333300       0.333300   \n",
      "max           1.000000        1.000000        1.000000       1.000000   \n",
      "\n",
      "       FLOORSMAX_MODE  YEARS_BEGINEXPLUATATION_AVG  \\\n",
      "count   154491.000000                157504.000000   \n",
      "mean         0.222315                     0.977735   \n",
      "std          0.143709                     0.059223   \n",
      "min          0.000000                     0.000000   \n",
      "25%          0.166700                     0.976700   \n",
      "50%          0.166700                     0.981600   \n",
      "75%          0.333300                     0.986600   \n",
      "max          1.000000                     1.000000   \n",
      "\n",
      "       YEARS_BEGINEXPLUATATION_MEDI  YEARS_BEGINEXPLUATATION_MODE  \\\n",
      "count                 157504.000000                 157504.000000   \n",
      "mean                       0.977752                      0.977065   \n",
      "std                        0.059897                      0.064575   \n",
      "min                        0.000000                      0.000000   \n",
      "25%                        0.976700                      0.976700   \n",
      "50%                        0.981600                      0.981600   \n",
      "75%                        0.986600                      0.986600   \n",
      "max                        1.000000                      1.000000   \n",
      "\n",
      "       TOTALAREA_MODE  \n",
      "count   159080.000000  \n",
      "mean         0.102547  \n",
      "std          0.107462  \n",
      "min          0.000000  \n",
      "25%          0.041200  \n",
      "50%          0.068800  \n",
      "75%          0.127600  \n",
      "max          1.000000  \n",
      "\n",
      "[8 rows x 45 columns]\n"
     ]
    }
   ],
   "source": [
    "#Summary Metrics of the training set\n",
    "\n",
    "# Filter columns with over 40% null values\n",
    "missingdata_columns = missing_data_train[missing_data_train['Percentage'] > 40].index\n",
    "\n",
    "# Calculate summary metrics for filtered columns\n",
    "summary_metrics = applicationtrainDF[missingdata_columns].describe(include=np.number)\n",
    "\n",
    "#Display summary metrics\n",
    "print(summary_metrics)"
   ]
  },
  {
   "cell_type": "code",
   "execution_count": 18,
   "id": "6cf7555c",
   "metadata": {},
   "outputs": [
    {
     "output_type": "stream",
     "name": "stdout",
     "text": [
      "        COMMONAREA_MEDI  NONLIVINGAPARTMENTS_AVG\n0                0.0144                   0.0000\n1                0.0608                   0.0039\n13               0.0585                   0.0000\n14               0.1150                   0.0193\n18               0.0018                   0.0000\n...                 ...                      ...\n307495           0.0137                   0.0039\n307505           0.1441                   0.0154\n307506           0.0203                   0.0753\n307507           0.0022                   0.0000\n307508           0.0124                   0.0000\n\n[88507 rows x 2 columns]\n"
     ]
    }
   ],
   "source": [
    "#View 2 of the columns' data from the summary metrics info above\n",
    "\n",
    "#Identify the two columns\n",
    "two_columns = [\"COMMONAREA_MEDI\", \"NONLIVINGAPARTMENTS_AVG\"]\n",
    "\n",
    "#create a dataframe of those columns where the rows do not contain null values\n",
    "two_columns_df = applicationtrainDF[applicationtrainDF[two_columns].notnull().all(axis=1)]\n",
    "\n",
    "#display the dataframe of the two columns\n",
    "print(two_columns_df[two_columns])"
   ]
  },
  {
   "cell_type": "markdown",
   "id": "5c5c1356",
   "metadata": {},
   "source": [
    "As we progress in our model building process, we need to analyze the greater than 40% null value variables and how they interact with the model using a subsample of the training dataset. The sample should contain the rows of these variables that are not null to see if they are statiscally significant to the model. If they are stasticially significant, we can then choose to either impute the data or build our model off only the subsample of the dataset. If we were to use only 30% of the training dataset, we'd still have a sample size of around 92,000. "
   ]
  },
  {
   "cell_type": "code",
   "execution_count": 19,
   "id": "dcfe160b",
   "metadata": {},
   "outputs": [
    {
     "name": "stdout",
     "output_type": "stream",
     "text": [
      "        EXT_SOURCE_3  AMT_REQ_CREDIT_BUREAU_WEEK  AMT_REQ_CREDIT_BUREAU_DAY  \\\n",
      "count  246546.000000               265992.000000              265992.000000   \n",
      "mean        0.510853                    0.034362                   0.007000   \n",
      "std         0.194844                    0.204685                   0.110757   \n",
      "min         0.000527                    0.000000                   0.000000   \n",
      "25%         0.370650                    0.000000                   0.000000   \n",
      "50%         0.535276                    0.000000                   0.000000   \n",
      "75%         0.669057                    0.000000                   0.000000   \n",
      "max         0.896010                    8.000000                   9.000000   \n",
      "\n",
      "       AMT_REQ_CREDIT_BUREAU_MON  AMT_REQ_CREDIT_BUREAU_QRT  \\\n",
      "count              265992.000000              265992.000000   \n",
      "mean                    0.267395                   0.265474   \n",
      "std                     0.916002                   0.794056   \n",
      "min                     0.000000                   0.000000   \n",
      "25%                     0.000000                   0.000000   \n",
      "50%                     0.000000                   0.000000   \n",
      "75%                     0.000000                   0.000000   \n",
      "max                    27.000000                 261.000000   \n",
      "\n",
      "       AMT_REQ_CREDIT_BUREAU_HOUR  AMT_REQ_CREDIT_BUREAU_YEAR  \\\n",
      "count               265992.000000               265992.000000   \n",
      "mean                     0.006402                    1.899974   \n",
      "std                      0.083849                    1.869295   \n",
      "min                      0.000000                    0.000000   \n",
      "25%                      0.000000                    0.000000   \n",
      "50%                      0.000000                    1.000000   \n",
      "75%                      0.000000                    3.000000   \n",
      "max                      4.000000                   25.000000   \n",
      "\n",
      "       DEF_30_CNT_SOCIAL_CIRCLE  OBS_60_CNT_SOCIAL_CIRCLE  \\\n",
      "count             306490.000000             306490.000000   \n",
      "mean                   0.143421                  1.405292   \n",
      "std                    0.446698                  2.379803   \n",
      "min                    0.000000                  0.000000   \n",
      "25%                    0.000000                  0.000000   \n",
      "50%                    0.000000                  0.000000   \n",
      "75%                    0.000000                  2.000000   \n",
      "max                   34.000000                344.000000   \n",
      "\n",
      "       DEF_60_CNT_SOCIAL_CIRCLE  OBS_30_CNT_SOCIAL_CIRCLE  EXT_SOURCE_2  \\\n",
      "count             306490.000000             306490.000000  3.068510e+05   \n",
      "mean                   0.100049                  1.422245  5.143927e-01   \n",
      "std                    0.362291                  2.400989  1.910602e-01   \n",
      "min                    0.000000                  0.000000  8.173617e-08   \n",
      "25%                    0.000000                  0.000000  3.924574e-01   \n",
      "50%                    0.000000                  0.000000  5.659614e-01   \n",
      "75%                    0.000000                  2.000000  6.636171e-01   \n",
      "max                   24.000000                348.000000  8.549997e-01   \n",
      "\n",
      "       AMT_GOODS_PRICE    AMT_ANNUITY  CNT_FAM_MEMBERS  DAYS_LAST_PHONE_CHANGE  \n",
      "count     3.072330e+05  307499.000000    307509.000000           307510.000000  \n",
      "mean      5.383962e+05   27108.573909         2.152665             -962.858788  \n",
      "std       3.694465e+05   14493.737315         0.910682              826.808487  \n",
      "min       4.050000e+04    1615.500000         1.000000            -4292.000000  \n",
      "25%       2.385000e+05   16524.000000         2.000000            -1570.000000  \n",
      "50%       4.500000e+05   24903.000000         2.000000             -757.000000  \n",
      "75%       6.795000e+05   34596.000000         3.000000             -274.000000  \n",
      "max       4.050000e+06  258025.500000        20.000000                0.000000  \n"
     ]
    }
   ],
   "source": [
    "#Summary Metrics of the training set\n",
    "\n",
    "# Filter columns with UNDER 40% null values\n",
    "missingdata_columns2 = missing_data_train[missing_data_train['Percentage'] < 40].index\n",
    "\n",
    "# Calculate summary metrics for filtered columns\n",
    "summary_metrics2 = applicationtrainDF[missingdata_columns2].describe(include=np.number)\n",
    "\n",
    "#Display summary metrics\n",
    "print(summary_metrics2)"
   ]
  },
  {
   "cell_type": "markdown",
   "id": "4e5a5906",
   "metadata": {},
   "source": [
    "When examining the variables that contain less than 40% null values, we can see that we need to take care of some possible outliers in the data. The max values listed on the summary stastics for some of the variables is well above 2 standard deviations from the mean. "
   ]
  },
  {
   "source": [
    "Calculating TARGET variable distribution in application_train.csv"
   ],
   "cell_type": "markdown",
   "metadata": {}
  },
  {
   "cell_type": "code",
   "execution_count": 60,
   "metadata": {},
   "outputs": [
    {
     "output_type": "stream",
     "name": "stdout",
     "text": [
      "unique_value: [1 0]\n",
      "target_total_count: 307511\n",
      "target_0_count: 282686\n",
      "target_1_count: 24825\n",
      "\n",
      " 0    91.927118\n",
      "1     8.072882\n",
      "Name: TARGET, dtype: float64\n"
     ]
    }
   ],
   "source": [
    "\n",
    "\n",
    "unique_value = (applicationtrainDF['TARGET']).unique()\n",
    "print('unique_value:', unique_value)\n",
    "\n",
    "target_total_count = len(applicationtrainDF['TARGET'])\n",
    "print('target_total_count:',target_total_count)\n",
    "\n",
    "target_0_count = len(applicationtrainDF[applicationtrainDF['TARGET'] == 0])\n",
    "print('target_0_count:',target_0_count)\n",
    "\n",
    "target_1_count = len(applicationtrainDF[applicationtrainDF['TARGET'] == 1])\n",
    "print('target_1_count:',target_1_count)\n",
    "\n",
    "\n",
    "# Calculate the class distribution or Percentage of occurance\n",
    "target_counts = applicationtrainDF['TARGET'].value_counts()\n",
    "\n",
    "class_distribution = target_counts / target_counts.sum() * 100\n",
    "\n",
    "print(\"\\n\", class_distribution)\n"
   ]
  },
  {
   "cell_type": "markdown",
   "id": "937ad95a",
   "metadata": {},
   "source": [
    "# Exploratory of Visualizations"
   ]
  },
  {
   "cell_type": "code",
   "execution_count": 6,
   "id": "db590014",
   "metadata": {},
   "outputs": [],
   "source": [
    "import matplotlib.pyplot as plt\n",
    "import numpy as np\n",
    "import plotly.graph_objects as go\n",
    "import plotly.express as px\n",
    "import seaborn as sns\n"
   ]
  },
  {
   "cell_type": "markdown",
   "id": "b9a595a6",
   "metadata": {},
   "source": [
    "#### Exploring Gender Distribution of Sample"
   ]
  },
  {
   "cell_type": "code",
   "execution_count": 30,
   "id": "f3a1b42a",
   "metadata": {},
   "outputs": [
    {
     "output_type": "display_data",
     "data": {
      "text/plain": "<Figure size 800x600 with 1 Axes>",
      "image/svg+xml": "<?xml version=\"1.0\" encoding=\"utf-8\" standalone=\"no\"?>\n<!DOCTYPE svg PUBLIC \"-//W3C//DTD SVG 1.1//EN\"\n  \"http://www.w3.org/Graphics/SVG/1.1/DTD/svg11.dtd\">\n<svg xmlns:xlink=\"http://www.w3.org/1999/xlink\" width=\"513.290625pt\" height=\"392.514375pt\" viewBox=\"0 0 513.290625 392.514375\" xmlns=\"http://www.w3.org/2000/svg\" version=\"1.1\">\n <metadata>\n  <rdf:RDF xmlns:dc=\"http://purl.org/dc/elements/1.1/\" xmlns:cc=\"http://creativecommons.org/ns#\" xmlns:rdf=\"http://www.w3.org/1999/02/22-rdf-syntax-ns#\">\n   <cc:Work>\n    <dc:type rdf:resource=\"http://purl.org/dc/dcmitype/StillImage\"/>\n    <dc:date>2023-06-17T11:09:09.272518</dc:date>\n    <dc:format>image/svg+xml</dc:format>\n    <dc:creator>\n     <cc:Agent>\n      <dc:title>Matplotlib v3.5.2, https://matplotlib.org/</dc:title>\n     </cc:Agent>\n    </dc:creator>\n   </cc:Work>\n  </rdf:RDF>\n </metadata>\n <defs>\n  <style type=\"text/css\">*{stroke-linejoin: round; stroke-linecap: butt}</style>\n </defs>\n <g id=\"figure_1\">\n  <g id=\"patch_1\">\n   <path d=\"M 0 392.514375 \nL 513.290625 392.514375 \nL 513.290625 0 \nL 0 0 \nz\n\" style=\"fill: #ffffff\"/>\n  </g>\n  <g id=\"axes_1\">\n   <g id=\"patch_2\">\n    <path d=\"M 59.690625 354.958125 \nL 506.090625 354.958125 \nL 506.090625 22.318125 \nL 59.690625 22.318125 \nz\n\" style=\"fill: #ffffff\"/>\n   </g>\n   <g id=\"patch_3\">\n    <path d=\"M 79.981534 354.958125 \nL 195.929586 354.958125 \nL 195.929586 38.158125 \nL 79.981534 38.158125 \nz\n\" clip-path=\"url(#pdcc336f97f)\" style=\"fill: #1f77b4\"/>\n   </g>\n   <g id=\"patch_4\">\n    <path d=\"M 224.916599 354.958125 \nL 340.864651 354.958125 \nL 340.864651 198.674829 \nL 224.916599 198.674829 \nz\n\" clip-path=\"url(#pdcc336f97f)\" style=\"fill: #1f77b4\"/>\n   </g>\n   <g id=\"patch_5\">\n    <path d=\"M 369.851664 354.958125 \nL 485.799716 354.958125 \nL 485.799716 354.95278 \nL 369.851664 354.95278 \nz\n\" clip-path=\"url(#pdcc336f97f)\" style=\"fill: #1f77b4\"/>\n   </g>\n   <g id=\"matplotlib.axis_1\">\n    <g id=\"xtick_1\">\n     <g id=\"line2d_1\">\n      <defs>\n       <path id=\"mbf5227e528\" d=\"M 0 0 \nL 0 3.5 \n\" style=\"stroke: #000000; stroke-width: 0.8\"/>\n      </defs>\n      <g>\n       <use xlink:href=\"#mbf5227e528\" x=\"137.95556\" y=\"354.958125\" style=\"stroke: #000000; stroke-width: 0.8\"/>\n      </g>\n     </g>\n     <g id=\"text_1\">\n      <!-- F -->\n      <g transform=\"translate(135.079779 369.556562)scale(0.1 -0.1)\">\n       <defs>\n        <path id=\"DejaVuSans-46\" d=\"M 628 4666 \nL 3309 4666 \nL 3309 4134 \nL 1259 4134 \nL 1259 2759 \nL 3109 2759 \nL 3109 2228 \nL 1259 2228 \nL 1259 0 \nL 628 0 \nL 628 4666 \nz\n\" transform=\"scale(0.015625)\"/>\n       </defs>\n       <use xlink:href=\"#DejaVuSans-46\"/>\n      </g>\n     </g>\n    </g>\n    <g id=\"xtick_2\">\n     <g id=\"line2d_2\">\n      <g>\n       <use xlink:href=\"#mbf5227e528\" x=\"282.890625\" y=\"354.958125\" style=\"stroke: #000000; stroke-width: 0.8\"/>\n      </g>\n     </g>\n     <g id=\"text_2\">\n      <!-- M -->\n      <g transform=\"translate(278.576562 369.556562)scale(0.1 -0.1)\">\n       <defs>\n        <path id=\"DejaVuSans-4d\" d=\"M 628 4666 \nL 1569 4666 \nL 2759 1491 \nL 3956 4666 \nL 4897 4666 \nL 4897 0 \nL 4281 0 \nL 4281 4097 \nL 3078 897 \nL 2444 897 \nL 1241 4097 \nL 1241 0 \nL 628 0 \nL 628 4666 \nz\n\" transform=\"scale(0.015625)\"/>\n       </defs>\n       <use xlink:href=\"#DejaVuSans-4d\"/>\n      </g>\n     </g>\n    </g>\n    <g id=\"xtick_3\">\n     <g id=\"line2d_3\">\n      <g>\n       <use xlink:href=\"#mbf5227e528\" x=\"427.82569\" y=\"354.958125\" style=\"stroke: #000000; stroke-width: 0.8\"/>\n      </g>\n     </g>\n     <g id=\"text_3\">\n      <!-- XNA -->\n      <g transform=\"translate(417.239752 369.556562)scale(0.1 -0.1)\">\n       <defs>\n        <path id=\"DejaVuSans-58\" d=\"M 403 4666 \nL 1081 4666 \nL 2241 2931 \nL 3406 4666 \nL 4084 4666 \nL 2584 2425 \nL 4184 0 \nL 3506 0 \nL 2194 1984 \nL 872 0 \nL 191 0 \nL 1856 2491 \nL 403 4666 \nz\n\" transform=\"scale(0.015625)\"/>\n        <path id=\"DejaVuSans-4e\" d=\"M 628 4666 \nL 1478 4666 \nL 3547 763 \nL 3547 4666 \nL 4159 4666 \nL 4159 0 \nL 3309 0 \nL 1241 3903 \nL 1241 0 \nL 628 0 \nL 628 4666 \nz\n\" transform=\"scale(0.015625)\"/>\n        <path id=\"DejaVuSans-41\" d=\"M 2188 4044 \nL 1331 1722 \nL 3047 1722 \nL 2188 4044 \nz\nM 1831 4666 \nL 2547 4666 \nL 4325 0 \nL 3669 0 \nL 3244 1197 \nL 1141 1197 \nL 716 0 \nL 50 0 \nL 1831 4666 \nz\n\" transform=\"scale(0.015625)\"/>\n       </defs>\n       <use xlink:href=\"#DejaVuSans-58\"/>\n       <use xlink:href=\"#DejaVuSans-4e\" x=\"68.505859\"/>\n       <use xlink:href=\"#DejaVuSans-41\" x=\"143.310547\"/>\n      </g>\n     </g>\n    </g>\n    <g id=\"text_4\">\n     <!-- Gender -->\n     <g transform=\"translate(264.464844 383.234687)scale(0.1 -0.1)\">\n      <defs>\n       <path id=\"DejaVuSans-47\" d=\"M 3809 666 \nL 3809 1919 \nL 2778 1919 \nL 2778 2438 \nL 4434 2438 \nL 4434 434 \nQ 4069 175 3628 42 \nQ 3188 -91 2688 -91 \nQ 1594 -91 976 548 \nQ 359 1188 359 2328 \nQ 359 3472 976 4111 \nQ 1594 4750 2688 4750 \nQ 3144 4750 3555 4637 \nQ 3966 4525 4313 4306 \nL 4313 3634 \nQ 3963 3931 3569 4081 \nQ 3175 4231 2741 4231 \nQ 1884 4231 1454 3753 \nQ 1025 3275 1025 2328 \nQ 1025 1384 1454 906 \nQ 1884 428 2741 428 \nQ 3075 428 3337 486 \nQ 3600 544 3809 666 \nz\n\" transform=\"scale(0.015625)\"/>\n       <path id=\"DejaVuSans-65\" d=\"M 3597 1894 \nL 3597 1613 \nL 953 1613 \nQ 991 1019 1311 708 \nQ 1631 397 2203 397 \nQ 2534 397 2845 478 \nQ 3156 559 3463 722 \nL 3463 178 \nQ 3153 47 2828 -22 \nQ 2503 -91 2169 -91 \nQ 1331 -91 842 396 \nQ 353 884 353 1716 \nQ 353 2575 817 3079 \nQ 1281 3584 2069 3584 \nQ 2775 3584 3186 3129 \nQ 3597 2675 3597 1894 \nz\nM 3022 2063 \nQ 3016 2534 2758 2815 \nQ 2500 3097 2075 3097 \nQ 1594 3097 1305 2825 \nQ 1016 2553 972 2059 \nL 3022 2063 \nz\n\" transform=\"scale(0.015625)\"/>\n       <path id=\"DejaVuSans-6e\" d=\"M 3513 2113 \nL 3513 0 \nL 2938 0 \nL 2938 2094 \nQ 2938 2591 2744 2837 \nQ 2550 3084 2163 3084 \nQ 1697 3084 1428 2787 \nQ 1159 2491 1159 1978 \nL 1159 0 \nL 581 0 \nL 581 3500 \nL 1159 3500 \nL 1159 2956 \nQ 1366 3272 1645 3428 \nQ 1925 3584 2291 3584 \nQ 2894 3584 3203 3211 \nQ 3513 2838 3513 2113 \nz\n\" transform=\"scale(0.015625)\"/>\n       <path id=\"DejaVuSans-64\" d=\"M 2906 2969 \nL 2906 4863 \nL 3481 4863 \nL 3481 0 \nL 2906 0 \nL 2906 525 \nQ 2725 213 2448 61 \nQ 2172 -91 1784 -91 \nQ 1150 -91 751 415 \nQ 353 922 353 1747 \nQ 353 2572 751 3078 \nQ 1150 3584 1784 3584 \nQ 2172 3584 2448 3432 \nQ 2725 3281 2906 2969 \nz\nM 947 1747 \nQ 947 1113 1208 752 \nQ 1469 391 1925 391 \nQ 2381 391 2643 752 \nQ 2906 1113 2906 1747 \nQ 2906 2381 2643 2742 \nQ 2381 3103 1925 3103 \nQ 1469 3103 1208 2742 \nQ 947 2381 947 1747 \nz\n\" transform=\"scale(0.015625)\"/>\n       <path id=\"DejaVuSans-72\" d=\"M 2631 2963 \nQ 2534 3019 2420 3045 \nQ 2306 3072 2169 3072 \nQ 1681 3072 1420 2755 \nQ 1159 2438 1159 1844 \nL 1159 0 \nL 581 0 \nL 581 3500 \nL 1159 3500 \nL 1159 2956 \nQ 1341 3275 1631 3429 \nQ 1922 3584 2338 3584 \nQ 2397 3584 2469 3576 \nQ 2541 3569 2628 3553 \nL 2631 2963 \nz\n\" transform=\"scale(0.015625)\"/>\n      </defs>\n      <use xlink:href=\"#DejaVuSans-47\"/>\n      <use xlink:href=\"#DejaVuSans-65\" x=\"77.490234\"/>\n      <use xlink:href=\"#DejaVuSans-6e\" x=\"139.013672\"/>\n      <use xlink:href=\"#DejaVuSans-64\" x=\"202.392578\"/>\n      <use xlink:href=\"#DejaVuSans-65\" x=\"265.869141\"/>\n      <use xlink:href=\"#DejaVuSans-72\" x=\"327.392578\"/>\n     </g>\n    </g>\n   </g>\n   <g id=\"matplotlib.axis_2\">\n    <g id=\"ytick_1\">\n     <g id=\"line2d_4\">\n      <defs>\n       <path id=\"m1d23834bef\" d=\"M 0 0 \nL -3.5 0 \n\" style=\"stroke: #000000; stroke-width: 0.8\"/>\n      </defs>\n      <g>\n       <use xlink:href=\"#m1d23834bef\" x=\"59.690625\" y=\"354.958125\" style=\"stroke: #000000; stroke-width: 0.8\"/>\n      </g>\n     </g>\n     <g id=\"text_5\">\n      <!-- 0 -->\n      <g transform=\"translate(46.328125 358.757344)scale(0.1 -0.1)\">\n       <defs>\n        <path id=\"DejaVuSans-30\" d=\"M 2034 4250 \nQ 1547 4250 1301 3770 \nQ 1056 3291 1056 2328 \nQ 1056 1369 1301 889 \nQ 1547 409 2034 409 \nQ 2525 409 2770 889 \nQ 3016 1369 3016 2328 \nQ 3016 3291 2770 3770 \nQ 2525 4250 2034 4250 \nz\nM 2034 4750 \nQ 2819 4750 3233 4129 \nQ 3647 3509 3647 2328 \nQ 3647 1150 3233 529 \nQ 2819 -91 2034 -91 \nQ 1250 -91 836 529 \nQ 422 1150 422 2328 \nQ 422 3509 836 4129 \nQ 1250 4750 2034 4750 \nz\n\" transform=\"scale(0.015625)\"/>\n       </defs>\n       <use xlink:href=\"#DejaVuSans-30\"/>\n      </g>\n     </g>\n    </g>\n    <g id=\"ytick_2\">\n     <g id=\"line2d_5\">\n      <g>\n       <use xlink:href=\"#m1d23834bef\" x=\"59.690625\" y=\"301.506009\" style=\"stroke: #000000; stroke-width: 0.8\"/>\n      </g>\n     </g>\n     <g id=\"text_6\">\n      <!-- 10000 -->\n      <g transform=\"translate(20.878125 305.305228)scale(0.1 -0.1)\">\n       <defs>\n        <path id=\"DejaVuSans-31\" d=\"M 794 531 \nL 1825 531 \nL 1825 4091 \nL 703 3866 \nL 703 4441 \nL 1819 4666 \nL 2450 4666 \nL 2450 531 \nL 3481 531 \nL 3481 0 \nL 794 0 \nL 794 531 \nz\n\" transform=\"scale(0.015625)\"/>\n       </defs>\n       <use xlink:href=\"#DejaVuSans-31\"/>\n       <use xlink:href=\"#DejaVuSans-30\" x=\"63.623047\"/>\n       <use xlink:href=\"#DejaVuSans-30\" x=\"127.246094\"/>\n       <use xlink:href=\"#DejaVuSans-30\" x=\"190.869141\"/>\n       <use xlink:href=\"#DejaVuSans-30\" x=\"254.492188\"/>\n      </g>\n     </g>\n    </g>\n    <g id=\"ytick_3\">\n     <g id=\"line2d_6\">\n      <g>\n       <use xlink:href=\"#m1d23834bef\" x=\"59.690625\" y=\"248.053893\" style=\"stroke: #000000; stroke-width: 0.8\"/>\n      </g>\n     </g>\n     <g id=\"text_7\">\n      <!-- 20000 -->\n      <g transform=\"translate(20.878125 251.853112)scale(0.1 -0.1)\">\n       <defs>\n        <path id=\"DejaVuSans-32\" d=\"M 1228 531 \nL 3431 531 \nL 3431 0 \nL 469 0 \nL 469 531 \nQ 828 903 1448 1529 \nQ 2069 2156 2228 2338 \nQ 2531 2678 2651 2914 \nQ 2772 3150 2772 3378 \nQ 2772 3750 2511 3984 \nQ 2250 4219 1831 4219 \nQ 1534 4219 1204 4116 \nQ 875 4013 500 3803 \nL 500 4441 \nQ 881 4594 1212 4672 \nQ 1544 4750 1819 4750 \nQ 2544 4750 2975 4387 \nQ 3406 4025 3406 3419 \nQ 3406 3131 3298 2873 \nQ 3191 2616 2906 2266 \nQ 2828 2175 2409 1742 \nQ 1991 1309 1228 531 \nz\n\" transform=\"scale(0.015625)\"/>\n       </defs>\n       <use xlink:href=\"#DejaVuSans-32\"/>\n       <use xlink:href=\"#DejaVuSans-30\" x=\"63.623047\"/>\n       <use xlink:href=\"#DejaVuSans-30\" x=\"127.246094\"/>\n       <use xlink:href=\"#DejaVuSans-30\" x=\"190.869141\"/>\n       <use xlink:href=\"#DejaVuSans-30\" x=\"254.492188\"/>\n      </g>\n     </g>\n    </g>\n    <g id=\"ytick_4\">\n     <g id=\"line2d_7\">\n      <g>\n       <use xlink:href=\"#m1d23834bef\" x=\"59.690625\" y=\"194.601778\" style=\"stroke: #000000; stroke-width: 0.8\"/>\n      </g>\n     </g>\n     <g id=\"text_8\">\n      <!-- 30000 -->\n      <g transform=\"translate(20.878125 198.400996)scale(0.1 -0.1)\">\n       <defs>\n        <path id=\"DejaVuSans-33\" d=\"M 2597 2516 \nQ 3050 2419 3304 2112 \nQ 3559 1806 3559 1356 \nQ 3559 666 3084 287 \nQ 2609 -91 1734 -91 \nQ 1441 -91 1130 -33 \nQ 819 25 488 141 \nL 488 750 \nQ 750 597 1062 519 \nQ 1375 441 1716 441 \nQ 2309 441 2620 675 \nQ 2931 909 2931 1356 \nQ 2931 1769 2642 2001 \nQ 2353 2234 1838 2234 \nL 1294 2234 \nL 1294 2753 \nL 1863 2753 \nQ 2328 2753 2575 2939 \nQ 2822 3125 2822 3475 \nQ 2822 3834 2567 4026 \nQ 2313 4219 1838 4219 \nQ 1578 4219 1281 4162 \nQ 984 4106 628 3988 \nL 628 4550 \nQ 988 4650 1302 4700 \nQ 1616 4750 1894 4750 \nQ 2613 4750 3031 4423 \nQ 3450 4097 3450 3541 \nQ 3450 3153 3228 2886 \nQ 3006 2619 2597 2516 \nz\n\" transform=\"scale(0.015625)\"/>\n       </defs>\n       <use xlink:href=\"#DejaVuSans-33\"/>\n       <use xlink:href=\"#DejaVuSans-30\" x=\"63.623047\"/>\n       <use xlink:href=\"#DejaVuSans-30\" x=\"127.246094\"/>\n       <use xlink:href=\"#DejaVuSans-30\" x=\"190.869141\"/>\n       <use xlink:href=\"#DejaVuSans-30\" x=\"254.492188\"/>\n      </g>\n     </g>\n    </g>\n    <g id=\"ytick_5\">\n     <g id=\"line2d_8\">\n      <g>\n       <use xlink:href=\"#m1d23834bef\" x=\"59.690625\" y=\"141.149662\" style=\"stroke: #000000; stroke-width: 0.8\"/>\n      </g>\n     </g>\n     <g id=\"text_9\">\n      <!-- 40000 -->\n      <g transform=\"translate(20.878125 144.94888)scale(0.1 -0.1)\">\n       <defs>\n        <path id=\"DejaVuSans-34\" d=\"M 2419 4116 \nL 825 1625 \nL 2419 1625 \nL 2419 4116 \nz\nM 2253 4666 \nL 3047 4666 \nL 3047 1625 \nL 3713 1625 \nL 3713 1100 \nL 3047 1100 \nL 3047 0 \nL 2419 0 \nL 2419 1100 \nL 313 1100 \nL 313 1709 \nL 2253 4666 \nz\n\" transform=\"scale(0.015625)\"/>\n       </defs>\n       <use xlink:href=\"#DejaVuSans-34\"/>\n       <use xlink:href=\"#DejaVuSans-30\" x=\"63.623047\"/>\n       <use xlink:href=\"#DejaVuSans-30\" x=\"127.246094\"/>\n       <use xlink:href=\"#DejaVuSans-30\" x=\"190.869141\"/>\n       <use xlink:href=\"#DejaVuSans-30\" x=\"254.492188\"/>\n      </g>\n     </g>\n    </g>\n    <g id=\"ytick_6\">\n     <g id=\"line2d_9\">\n      <g>\n       <use xlink:href=\"#m1d23834bef\" x=\"59.690625\" y=\"87.697546\" style=\"stroke: #000000; stroke-width: 0.8\"/>\n      </g>\n     </g>\n     <g id=\"text_10\">\n      <!-- 50000 -->\n      <g transform=\"translate(20.878125 91.496765)scale(0.1 -0.1)\">\n       <defs>\n        <path id=\"DejaVuSans-35\" d=\"M 691 4666 \nL 3169 4666 \nL 3169 4134 \nL 1269 4134 \nL 1269 2991 \nQ 1406 3038 1543 3061 \nQ 1681 3084 1819 3084 \nQ 2600 3084 3056 2656 \nQ 3513 2228 3513 1497 \nQ 3513 744 3044 326 \nQ 2575 -91 1722 -91 \nQ 1428 -91 1123 -41 \nQ 819 9 494 109 \nL 494 744 \nQ 775 591 1075 516 \nQ 1375 441 1709 441 \nQ 2250 441 2565 725 \nQ 2881 1009 2881 1497 \nQ 2881 1984 2565 2268 \nQ 2250 2553 1709 2553 \nQ 1456 2553 1204 2497 \nQ 953 2441 691 2322 \nL 691 4666 \nz\n\" transform=\"scale(0.015625)\"/>\n       </defs>\n       <use xlink:href=\"#DejaVuSans-35\"/>\n       <use xlink:href=\"#DejaVuSans-30\" x=\"63.623047\"/>\n       <use xlink:href=\"#DejaVuSans-30\" x=\"127.246094\"/>\n       <use xlink:href=\"#DejaVuSans-30\" x=\"190.869141\"/>\n       <use xlink:href=\"#DejaVuSans-30\" x=\"254.492188\"/>\n      </g>\n     </g>\n    </g>\n    <g id=\"ytick_7\">\n     <g id=\"line2d_10\">\n      <g>\n       <use xlink:href=\"#m1d23834bef\" x=\"59.690625\" y=\"34.24543\" style=\"stroke: #000000; stroke-width: 0.8\"/>\n      </g>\n     </g>\n     <g id=\"text_11\">\n      <!-- 60000 -->\n      <g transform=\"translate(20.878125 38.044649)scale(0.1 -0.1)\">\n       <defs>\n        <path id=\"DejaVuSans-36\" d=\"M 2113 2584 \nQ 1688 2584 1439 2293 \nQ 1191 2003 1191 1497 \nQ 1191 994 1439 701 \nQ 1688 409 2113 409 \nQ 2538 409 2786 701 \nQ 3034 994 3034 1497 \nQ 3034 2003 2786 2293 \nQ 2538 2584 2113 2584 \nz\nM 3366 4563 \nL 3366 3988 \nQ 3128 4100 2886 4159 \nQ 2644 4219 2406 4219 \nQ 1781 4219 1451 3797 \nQ 1122 3375 1075 2522 \nQ 1259 2794 1537 2939 \nQ 1816 3084 2150 3084 \nQ 2853 3084 3261 2657 \nQ 3669 2231 3669 1497 \nQ 3669 778 3244 343 \nQ 2819 -91 2113 -91 \nQ 1303 -91 875 529 \nQ 447 1150 447 2328 \nQ 447 3434 972 4092 \nQ 1497 4750 2381 4750 \nQ 2619 4750 2861 4703 \nQ 3103 4656 3366 4563 \nz\n\" transform=\"scale(0.015625)\"/>\n       </defs>\n       <use xlink:href=\"#DejaVuSans-36\"/>\n       <use xlink:href=\"#DejaVuSans-30\" x=\"63.623047\"/>\n       <use xlink:href=\"#DejaVuSans-30\" x=\"127.246094\"/>\n       <use xlink:href=\"#DejaVuSans-30\" x=\"190.869141\"/>\n       <use xlink:href=\"#DejaVuSans-30\" x=\"254.492188\"/>\n      </g>\n     </g>\n    </g>\n    <g id=\"text_12\">\n     <!-- Count -->\n     <g transform=\"translate(14.798438 203.486562)rotate(-90)scale(0.1 -0.1)\">\n      <defs>\n       <path id=\"DejaVuSans-43\" d=\"M 4122 4306 \nL 4122 3641 \nQ 3803 3938 3442 4084 \nQ 3081 4231 2675 4231 \nQ 1875 4231 1450 3742 \nQ 1025 3253 1025 2328 \nQ 1025 1406 1450 917 \nQ 1875 428 2675 428 \nQ 3081 428 3442 575 \nQ 3803 722 4122 1019 \nL 4122 359 \nQ 3791 134 3420 21 \nQ 3050 -91 2638 -91 \nQ 1578 -91 968 557 \nQ 359 1206 359 2328 \nQ 359 3453 968 4101 \nQ 1578 4750 2638 4750 \nQ 3056 4750 3426 4639 \nQ 3797 4528 4122 4306 \nz\n\" transform=\"scale(0.015625)\"/>\n       <path id=\"DejaVuSans-6f\" d=\"M 1959 3097 \nQ 1497 3097 1228 2736 \nQ 959 2375 959 1747 \nQ 959 1119 1226 758 \nQ 1494 397 1959 397 \nQ 2419 397 2687 759 \nQ 2956 1122 2956 1747 \nQ 2956 2369 2687 2733 \nQ 2419 3097 1959 3097 \nz\nM 1959 3584 \nQ 2709 3584 3137 3096 \nQ 3566 2609 3566 1747 \nQ 3566 888 3137 398 \nQ 2709 -91 1959 -91 \nQ 1206 -91 779 398 \nQ 353 888 353 1747 \nQ 353 2609 779 3096 \nQ 1206 3584 1959 3584 \nz\n\" transform=\"scale(0.015625)\"/>\n       <path id=\"DejaVuSans-75\" d=\"M 544 1381 \nL 544 3500 \nL 1119 3500 \nL 1119 1403 \nQ 1119 906 1312 657 \nQ 1506 409 1894 409 \nQ 2359 409 2629 706 \nQ 2900 1003 2900 1516 \nL 2900 3500 \nL 3475 3500 \nL 3475 0 \nL 2900 0 \nL 2900 538 \nQ 2691 219 2414 64 \nQ 2138 -91 1772 -91 \nQ 1169 -91 856 284 \nQ 544 659 544 1381 \nz\nM 1991 3584 \nL 1991 3584 \nz\n\" transform=\"scale(0.015625)\"/>\n       <path id=\"DejaVuSans-74\" d=\"M 1172 4494 \nL 1172 3500 \nL 2356 3500 \nL 2356 3053 \nL 1172 3053 \nL 1172 1153 \nQ 1172 725 1289 603 \nQ 1406 481 1766 481 \nL 2356 481 \nL 2356 0 \nL 1766 0 \nQ 1100 0 847 248 \nQ 594 497 594 1153 \nL 594 3053 \nL 172 3053 \nL 172 3500 \nL 594 3500 \nL 594 4494 \nL 1172 4494 \nz\n\" transform=\"scale(0.015625)\"/>\n      </defs>\n      <use xlink:href=\"#DejaVuSans-43\"/>\n      <use xlink:href=\"#DejaVuSans-6f\" x=\"69.824219\"/>\n      <use xlink:href=\"#DejaVuSans-75\" x=\"131.005859\"/>\n      <use xlink:href=\"#DejaVuSans-6e\" x=\"194.384766\"/>\n      <use xlink:href=\"#DejaVuSans-74\" x=\"257.763672\"/>\n     </g>\n    </g>\n   </g>\n   <g id=\"patch_6\">\n    <path d=\"M 59.690625 354.958125 \nL 59.690625 22.318125 \n\" style=\"fill: none; stroke: #000000; stroke-width: 0.8; stroke-linejoin: miter; stroke-linecap: square\"/>\n   </g>\n   <g id=\"patch_7\">\n    <path d=\"M 506.090625 354.958125 \nL 506.090625 22.318125 \n\" style=\"fill: none; stroke: #000000; stroke-width: 0.8; stroke-linejoin: miter; stroke-linecap: square\"/>\n   </g>\n   <g id=\"patch_8\">\n    <path d=\"M 59.690625 354.958125 \nL 506.090625 354.958125 \n\" style=\"fill: none; stroke: #000000; stroke-width: 0.8; stroke-linejoin: miter; stroke-linecap: square\"/>\n   </g>\n   <g id=\"patch_9\">\n    <path d=\"M 59.690625 22.318125 \nL 506.090625 22.318125 \n\" style=\"fill: none; stroke: #000000; stroke-width: 0.8; stroke-linejoin: miter; stroke-linecap: square\"/>\n   </g>\n   <g id=\"text_13\">\n    <!-- 59268 -->\n    <g transform=\"translate(120.561029 36.078437)scale(0.1 -0.1)\">\n     <defs>\n      <path id=\"DejaVuSans-Bold-35\" d=\"M 678 4666 \nL 3669 4666 \nL 3669 3781 \nL 1638 3781 \nL 1638 3059 \nQ 1775 3097 1914 3117 \nQ 2053 3138 2203 3138 \nQ 3056 3138 3531 2711 \nQ 4006 2284 4006 1522 \nQ 4006 766 3489 337 \nQ 2972 -91 2053 -91 \nQ 1656 -91 1267 -14 \nQ 878 63 494 219 \nL 494 1166 \nQ 875 947 1217 837 \nQ 1559 728 1863 728 \nQ 2300 728 2551 942 \nQ 2803 1156 2803 1522 \nQ 2803 1891 2551 2103 \nQ 2300 2316 1863 2316 \nQ 1603 2316 1309 2248 \nQ 1016 2181 678 2041 \nL 678 4666 \nz\n\" transform=\"scale(0.015625)\"/>\n      <path id=\"DejaVuSans-Bold-39\" d=\"M 641 103 \nL 641 966 \nQ 928 831 1190 764 \nQ 1453 697 1709 697 \nQ 2247 697 2547 995 \nQ 2847 1294 2900 1881 \nQ 2688 1725 2447 1647 \nQ 2206 1569 1925 1569 \nQ 1209 1569 770 1986 \nQ 331 2403 331 3084 \nQ 331 3838 820 4291 \nQ 1309 4744 2131 4744 \nQ 3044 4744 3544 4128 \nQ 4044 3513 4044 2388 \nQ 4044 1231 3459 570 \nQ 2875 -91 1856 -91 \nQ 1528 -91 1228 -42 \nQ 928 6 641 103 \nz\nM 2125 2350 \nQ 2441 2350 2600 2554 \nQ 2759 2759 2759 3169 \nQ 2759 3575 2600 3781 \nQ 2441 3988 2125 3988 \nQ 1809 3988 1650 3781 \nQ 1491 3575 1491 3169 \nQ 1491 2759 1650 2554 \nQ 1809 2350 2125 2350 \nz\n\" transform=\"scale(0.015625)\"/>\n      <path id=\"DejaVuSans-Bold-32\" d=\"M 1844 884 \nL 3897 884 \nL 3897 0 \nL 506 0 \nL 506 884 \nL 2209 2388 \nQ 2438 2594 2547 2791 \nQ 2656 2988 2656 3200 \nQ 2656 3528 2436 3728 \nQ 2216 3928 1850 3928 \nQ 1569 3928 1234 3808 \nQ 900 3688 519 3450 \nL 519 4475 \nQ 925 4609 1322 4679 \nQ 1719 4750 2100 4750 \nQ 2938 4750 3402 4381 \nQ 3866 4013 3866 3353 \nQ 3866 2972 3669 2642 \nQ 3472 2313 2841 1759 \nL 1844 884 \nz\n\" transform=\"scale(0.015625)\"/>\n      <path id=\"DejaVuSans-Bold-36\" d=\"M 2316 2303 \nQ 2000 2303 1842 2098 \nQ 1684 1894 1684 1484 \nQ 1684 1075 1842 870 \nQ 2000 666 2316 666 \nQ 2634 666 2792 870 \nQ 2950 1075 2950 1484 \nQ 2950 1894 2792 2098 \nQ 2634 2303 2316 2303 \nz\nM 3803 4544 \nL 3803 3681 \nQ 3506 3822 3243 3889 \nQ 2981 3956 2731 3956 \nQ 2194 3956 1894 3657 \nQ 1594 3359 1544 2772 \nQ 1750 2925 1990 3001 \nQ 2231 3078 2516 3078 \nQ 3231 3078 3670 2659 \nQ 4109 2241 4109 1563 \nQ 4109 813 3618 361 \nQ 3128 -91 2303 -91 \nQ 1394 -91 895 523 \nQ 397 1138 397 2266 \nQ 397 3422 980 4083 \nQ 1563 4744 2578 4744 \nQ 2900 4744 3203 4694 \nQ 3506 4644 3803 4544 \nz\n\" transform=\"scale(0.015625)\"/>\n      <path id=\"DejaVuSans-Bold-38\" d=\"M 2228 2088 \nQ 1891 2088 1709 1903 \nQ 1528 1719 1528 1375 \nQ 1528 1031 1709 848 \nQ 1891 666 2228 666 \nQ 2563 666 2741 848 \nQ 2919 1031 2919 1375 \nQ 2919 1722 2741 1905 \nQ 2563 2088 2228 2088 \nz\nM 1350 2484 \nQ 925 2613 709 2878 \nQ 494 3144 494 3541 \nQ 494 4131 934 4440 \nQ 1375 4750 2228 4750 \nQ 3075 4750 3515 4442 \nQ 3956 4134 3956 3541 \nQ 3956 3144 3739 2878 \nQ 3522 2613 3097 2484 \nQ 3572 2353 3814 2058 \nQ 4056 1763 4056 1313 \nQ 4056 619 3595 264 \nQ 3134 -91 2228 -91 \nQ 1319 -91 855 264 \nQ 391 619 391 1313 \nQ 391 1763 633 2058 \nQ 875 2353 1350 2484 \nz\nM 1631 3419 \nQ 1631 3141 1786 2991 \nQ 1941 2841 2228 2841 \nQ 2509 2841 2662 2991 \nQ 2816 3141 2816 3419 \nQ 2816 3697 2662 3845 \nQ 2509 3994 2228 3994 \nQ 1941 3994 1786 3844 \nQ 1631 3694 1631 3419 \nz\n\" transform=\"scale(0.015625)\"/>\n     </defs>\n     <use xlink:href=\"#DejaVuSans-Bold-35\"/>\n     <use xlink:href=\"#DejaVuSans-Bold-39\" x=\"69.580078\"/>\n     <use xlink:href=\"#DejaVuSans-Bold-32\" x=\"139.160156\"/>\n     <use xlink:href=\"#DejaVuSans-Bold-36\" x=\"208.740234\"/>\n     <use xlink:href=\"#DejaVuSans-Bold-38\" x=\"278.320312\"/>\n    </g>\n   </g>\n   <g id=\"text_14\">\n    <!-- 29238 -->\n    <g transform=\"translate(265.496094 196.595141)scale(0.1 -0.1)\">\n     <defs>\n      <path id=\"DejaVuSans-Bold-33\" d=\"M 2981 2516 \nQ 3453 2394 3698 2092 \nQ 3944 1791 3944 1325 \nQ 3944 631 3412 270 \nQ 2881 -91 1863 -91 \nQ 1503 -91 1142 -33 \nQ 781 25 428 141 \nL 428 1069 \nQ 766 900 1098 814 \nQ 1431 728 1753 728 \nQ 2231 728 2486 893 \nQ 2741 1059 2741 1369 \nQ 2741 1688 2480 1852 \nQ 2219 2016 1709 2016 \nL 1228 2016 \nL 1228 2791 \nL 1734 2791 \nQ 2188 2791 2409 2933 \nQ 2631 3075 2631 3366 \nQ 2631 3634 2415 3781 \nQ 2200 3928 1806 3928 \nQ 1516 3928 1219 3862 \nQ 922 3797 628 3669 \nL 628 4550 \nQ 984 4650 1334 4700 \nQ 1684 4750 2022 4750 \nQ 2931 4750 3382 4451 \nQ 3834 4153 3834 3553 \nQ 3834 3144 3618 2883 \nQ 3403 2622 2981 2516 \nz\n\" transform=\"scale(0.015625)\"/>\n     </defs>\n     <use xlink:href=\"#DejaVuSans-Bold-32\"/>\n     <use xlink:href=\"#DejaVuSans-Bold-39\" x=\"69.580078\"/>\n     <use xlink:href=\"#DejaVuSans-Bold-32\" x=\"139.160156\"/>\n     <use xlink:href=\"#DejaVuSans-Bold-33\" x=\"208.740234\"/>\n     <use xlink:href=\"#DejaVuSans-Bold-38\" x=\"278.320312\"/>\n    </g>\n   </g>\n   <g id=\"text_15\">\n    <!-- 1 -->\n    <g transform=\"translate(424.346784 352.873092)scale(0.1 -0.1)\">\n     <defs>\n      <path id=\"DejaVuSans-Bold-31\" d=\"M 750 831 \nL 1813 831 \nL 1813 3847 \nL 722 3622 \nL 722 4441 \nL 1806 4666 \nL 2950 4666 \nL 2950 831 \nL 4013 831 \nL 4013 0 \nL 750 0 \nL 750 831 \nz\n\" transform=\"scale(0.015625)\"/>\n     </defs>\n     <use xlink:href=\"#DejaVuSans-Bold-31\"/>\n    </g>\n   </g>\n   <g id=\"text_16\">\n    <!-- Gender Distribution -->\n    <g transform=\"translate(223.870313 16.318125)scale(0.12 -0.12)\">\n     <defs>\n      <path id=\"DejaVuSans-20\" transform=\"scale(0.015625)\"/>\n      <path id=\"DejaVuSans-44\" d=\"M 1259 4147 \nL 1259 519 \nL 2022 519 \nQ 2988 519 3436 956 \nQ 3884 1394 3884 2338 \nQ 3884 3275 3436 3711 \nQ 2988 4147 2022 4147 \nL 1259 4147 \nz\nM 628 4666 \nL 1925 4666 \nQ 3281 4666 3915 4102 \nQ 4550 3538 4550 2338 \nQ 4550 1131 3912 565 \nQ 3275 0 1925 0 \nL 628 0 \nL 628 4666 \nz\n\" transform=\"scale(0.015625)\"/>\n      <path id=\"DejaVuSans-69\" d=\"M 603 3500 \nL 1178 3500 \nL 1178 0 \nL 603 0 \nL 603 3500 \nz\nM 603 4863 \nL 1178 4863 \nL 1178 4134 \nL 603 4134 \nL 603 4863 \nz\n\" transform=\"scale(0.015625)\"/>\n      <path id=\"DejaVuSans-73\" d=\"M 2834 3397 \nL 2834 2853 \nQ 2591 2978 2328 3040 \nQ 2066 3103 1784 3103 \nQ 1356 3103 1142 2972 \nQ 928 2841 928 2578 \nQ 928 2378 1081 2264 \nQ 1234 2150 1697 2047 \nL 1894 2003 \nQ 2506 1872 2764 1633 \nQ 3022 1394 3022 966 \nQ 3022 478 2636 193 \nQ 2250 -91 1575 -91 \nQ 1294 -91 989 -36 \nQ 684 19 347 128 \nL 347 722 \nQ 666 556 975 473 \nQ 1284 391 1588 391 \nQ 1994 391 2212 530 \nQ 2431 669 2431 922 \nQ 2431 1156 2273 1281 \nQ 2116 1406 1581 1522 \nL 1381 1569 \nQ 847 1681 609 1914 \nQ 372 2147 372 2553 \nQ 372 3047 722 3315 \nQ 1072 3584 1716 3584 \nQ 2034 3584 2315 3537 \nQ 2597 3491 2834 3397 \nz\n\" transform=\"scale(0.015625)\"/>\n      <path id=\"DejaVuSans-62\" d=\"M 3116 1747 \nQ 3116 2381 2855 2742 \nQ 2594 3103 2138 3103 \nQ 1681 3103 1420 2742 \nQ 1159 2381 1159 1747 \nQ 1159 1113 1420 752 \nQ 1681 391 2138 391 \nQ 2594 391 2855 752 \nQ 3116 1113 3116 1747 \nz\nM 1159 2969 \nQ 1341 3281 1617 3432 \nQ 1894 3584 2278 3584 \nQ 2916 3584 3314 3078 \nQ 3713 2572 3713 1747 \nQ 3713 922 3314 415 \nQ 2916 -91 2278 -91 \nQ 1894 -91 1617 61 \nQ 1341 213 1159 525 \nL 1159 0 \nL 581 0 \nL 581 4863 \nL 1159 4863 \nL 1159 2969 \nz\n\" transform=\"scale(0.015625)\"/>\n     </defs>\n     <use xlink:href=\"#DejaVuSans-47\"/>\n     <use xlink:href=\"#DejaVuSans-65\" x=\"77.490234\"/>\n     <use xlink:href=\"#DejaVuSans-6e\" x=\"139.013672\"/>\n     <use xlink:href=\"#DejaVuSans-64\" x=\"202.392578\"/>\n     <use xlink:href=\"#DejaVuSans-65\" x=\"265.869141\"/>\n     <use xlink:href=\"#DejaVuSans-72\" x=\"327.392578\"/>\n     <use xlink:href=\"#DejaVuSans-20\" x=\"368.505859\"/>\n     <use xlink:href=\"#DejaVuSans-44\" x=\"400.292969\"/>\n     <use xlink:href=\"#DejaVuSans-69\" x=\"477.294922\"/>\n     <use xlink:href=\"#DejaVuSans-73\" x=\"505.078125\"/>\n     <use xlink:href=\"#DejaVuSans-74\" x=\"557.177734\"/>\n     <use xlink:href=\"#DejaVuSans-72\" x=\"596.386719\"/>\n     <use xlink:href=\"#DejaVuSans-69\" x=\"637.5\"/>\n     <use xlink:href=\"#DejaVuSans-62\" x=\"665.283203\"/>\n     <use xlink:href=\"#DejaVuSans-75\" x=\"728.759766\"/>\n     <use xlink:href=\"#DejaVuSans-74\" x=\"792.138672\"/>\n     <use xlink:href=\"#DejaVuSans-69\" x=\"831.347656\"/>\n     <use xlink:href=\"#DejaVuSans-6f\" x=\"859.130859\"/>\n     <use xlink:href=\"#DejaVuSans-6e\" x=\"920.3125\"/>\n    </g>\n   </g>\n  </g>\n </g>\n <defs>\n  <clipPath id=\"pdcc336f97f\">\n   <rect x=\"59.690625\" y=\"22.318125\" width=\"446.4\" height=\"332.64\"/>\n  </clipPath>\n </defs>\n</svg>\n",
      "image/png": "[encoded data removed]"
     },
     "metadata": {}
    }
   ],
   "source": [
    "# Gender Distribution\n",
    "plt.figure(figsize=(8, 6))\n",
    "gender_counts = two_columns_df['CODE_GENDER'].value_counts()\n",
    "plt.bar(gender_counts.index, gender_counts.values)\n",
    "plt.xlabel('Gender')\n",
    "plt.ylabel('Count')\n",
    "plt.title('Gender Distribution')\n",
    "\n",
    "for i, v in enumerate(gender_counts.values):\n",
    "    plt.text(i, v, str(v), ha='center', va='bottom', fontweight='bold')\n",
    "\n",
    "plt.show()\n",
    "\n",
    "gender_summary = gender_counts.reset_index().rename(columns={'index': 'Gender', 'Gender': 'Count'})\n"
   ]
  },
  {
   "cell_type": "markdown",
   "id": "4e7aaef3",
   "metadata": {},
   "source": [
    "#### Visualizing Education of Sample Applicants"
   ]
  },
  {
   "cell_type": "code",
   "execution_count": 23,
   "id": "8405602b",
   "metadata": {},
   "outputs": [
    {
     "output_type": "display_data",
     "data": {
      "application/vnd.plotly.v1+json": {
       "data": [
        {
         "domain": {
          "x": [
           0,
           1
          ],
          "y": [
           0,
           1
          ]
         },
         "hole": 0.5,
         "hovertemplate": "labels=%{label}<br>value=%{value}<extra></extra>",
         "labels": [
          "Secondary / secondary special",
          "Higher education",
          "Incomplete higher",
          "Lower secondary",
          "Academic degree"
         ],
         "legendgroup": "",
         "name": "",
         "showlegend": true,
         "values": [
          58435,
          25848,
          3436,
          724,
          64
         ],
         "type": "pie"
        }
       ],
       "layout": {
        "template": {
         "data": {
          "histogram2dcontour": [
           {
            "type": "histogram2dcontour",
            "colorbar": {
             "outlinewidth": 0,
             "ticks": ""
            },
            "colorscale": [
             [
              0,
              "#0d0887"
             ],
             [
              0.1111111111111111,
              "#46039f"
             ],
             [
              0.2222222222222222,
              "#7201a8"
             ],
             [
              0.3333333333333333,
              "#9c179e"
             ],
             [
              0.4444444444444444,
              "#bd3786"
             ],
             [
              0.5555555555555556,
              "#d8576b"
             ],
             [
              0.6666666666666666,
              "#ed7953"
             ],
             [
              0.7777777777777778,
              "#fb9f3a"
             ],
             [
              0.8888888888888888,
              "#fdca26"
             ],
             [
              1,
              "#f0f921"
             ]
            ]
           }
          ],
          "choropleth": [
           {
            "type": "choropleth",
            "colorbar": {
             "outlinewidth": 0,
             "ticks": ""
            }
           }
          ],
          "histogram2d": [
           {
            "type": "histogram2d",
            "colorbar": {
             "outlinewidth": 0,
             "ticks": ""
            },
            "colorscale": [
             [
              0,
              "#0d0887"
             ],
             [
              0.1111111111111111,
              "#46039f"
             ],
             [
              0.2222222222222222,
              "#7201a8"
             ],
             [
              0.3333333333333333,
              "#9c179e"
             ],
             [
              0.4444444444444444,
              "#bd3786"
             ],
             [
              0.5555555555555556,
              "#d8576b"
             ],
             [
              0.6666666666666666,
              "#ed7953"
             ],
             [
              0.7777777777777778,
              "#fb9f3a"
             ],
             [
              0.8888888888888888,
              "#fdca26"
             ],
             [
              1,
              "#f0f921"
             ]
            ]
           }
          ],
          "heatmap": [
           {
            "type": "heatmap",
            "colorbar": {
             "outlinewidth": 0,
             "ticks": ""
            },
            "colorscale": [
             [
              0,
              "#0d0887"
             ],
             [
              0.1111111111111111,
              "#46039f"
             ],
             [
              0.2222222222222222,
              "#7201a8"
             ],
             [
              0.3333333333333333,
              "#9c179e"
             ],
             [
              0.4444444444444444,
              "#bd3786"
             ],
             [
              0.5555555555555556,
              "#d8576b"
             ],
             [
              0.6666666666666666,
              "#ed7953"
             ],
             [
              0.7777777777777778,
              "#fb9f3a"
             ],
             [
              0.8888888888888888,
              "#fdca26"
             ],
             [
              1,
              "#f0f921"
             ]
            ]
           }
          ],
          "heatmapgl": [
           {
            "type": "heatmapgl",
            "colorbar": {
             "outlinewidth": 0,
             "ticks": ""
            },
            "colorscale": [
             [
              0,
              "#0d0887"
             ],
             [
              0.1111111111111111,
              "#46039f"
             ],
             [
              0.2222222222222222,
              "#7201a8"
             ],
             [
              0.3333333333333333,
              "#9c179e"
             ],
             [
              0.4444444444444444,
              "#bd3786"
             ],
             [
              0.5555555555555556,
              "#d8576b"
             ],
             [
              0.6666666666666666,
              "#ed7953"
             ],
             [
              0.7777777777777778,
              "#fb9f3a"
             ],
             [
              0.8888888888888888,
              "#fdca26"
             ],
             [
              1,
              "#f0f921"
             ]
            ]
           }
          ],
          "contourcarpet": [
           {
            "type": "contourcarpet",
            "colorbar": {
             "outlinewidth": 0,
             "ticks": ""
            }
           }
          ],
          "contour": [
           {
            "type": "contour",
            "colorbar": {
             "outlinewidth": 0,
             "ticks": ""
            },
            "colorscale": [
             [
              0,
              "#0d0887"
             ],
             [
              0.1111111111111111,
              "#46039f"
             ],
             [
              0.2222222222222222,
              "#7201a8"
             ],
             [
              0.3333333333333333,
              "#9c179e"
             ],
             [
              0.4444444444444444,
              "#bd3786"
             ],
             [
              0.5555555555555556,
              "#d8576b"
             ],
             [
              0.6666666666666666,
              "#ed7953"
             ],
             [
              0.7777777777777778,
              "#fb9f3a"
             ],
             [
              0.8888888888888888,
              "#fdca26"
             ],
             [
              1,
              "#f0f921"
             ]
            ]
           }
          ],
          "surface": [
           {
            "type": "surface",
            "colorbar": {
             "outlinewidth": 0,
             "ticks": ""
            },
            "colorscale": [
             [
              0,
              "#0d0887"
             ],
             [
              0.1111111111111111,
              "#46039f"
             ],
             [
              0.2222222222222222,
              "#7201a8"
             ],
             [
              0.3333333333333333,
              "#9c179e"
             ],
             [
              0.4444444444444444,
              "#bd3786"
             ],
             [
              0.5555555555555556,
              "#d8576b"
             ],
             [
              0.6666666666666666,
              "#ed7953"
             ],
             [
              0.7777777777777778,
              "#fb9f3a"
             ],
             [
              0.8888888888888888,
              "#fdca26"
             ],
             [
              1,
              "#f0f921"
             ]
            ]
           }
          ],
          "mesh3d": [
           {
            "type": "mesh3d",
            "colorbar": {
             "outlinewidth": 0,
             "ticks": ""
            }
           }
          ],
          "scatter": [
           {
            "fillpattern": {
             "fillmode": "overlay",
             "size": 10,
             "solidity": 0.2
            },
            "type": "scatter"
           }
          ],
          "parcoords": [
           {
            "type": "parcoords",
            "line": {
             "colorbar": {
              "outlinewidth": 0,
              "ticks": ""
             }
            }
           }
          ],
          "scatterpolargl": [
           {
            "type": "scatterpolargl",
            "marker": {
             "colorbar": {
              "outlinewidth": 0,
              "ticks": ""
             }
            }
           }
          ],
          "bar": [
           {
            "error_x": {
             "color": "#2a3f5f"
            },
            "error_y": {
             "color": "#2a3f5f"
            },
            "marker": {
             "line": {
              "color": "#E5ECF6",
              "width": 0.5
             },
             "pattern": {
              "fillmode": "overlay",
              "size": 10,
              "solidity": 0.2
             }
            },
            "type": "bar"
           }
          ],
          "scattergeo": [
           {
            "type": "scattergeo",
            "marker": {
             "colorbar": {
              "outlinewidth": 0,
              "ticks": ""
             }
            }
           }
          ],
          "scatterpolar": [
           {
            "type": "scatterpolar",
            "marker": {
             "colorbar": {
              "outlinewidth": 0,
              "ticks": ""
             }
            }
           }
          ],
          "histogram": [
           {
            "marker": {
             "pattern": {
              "fillmode": "overlay",
              "size": 10,
              "solidity": 0.2
             }
            },
            "type": "histogram"
           }
          ],
          "scattergl": [
           {
            "type": "scattergl",
            "marker": {
             "colorbar": {
              "outlinewidth": 0,
              "ticks": ""
             }
            }
           }
          ],
          "scatter3d": [
           {
            "type": "scatter3d",
            "line": {
             "colorbar": {
              "outlinewidth": 0,
              "ticks": ""
             }
            },
            "marker": {
             "colorbar": {
              "outlinewidth": 0,
              "ticks": ""
             }
            }
           }
          ],
          "scattermapbox": [
           {
            "type": "scattermapbox",
            "marker": {
             "colorbar": {
              "outlinewidth": 0,
              "ticks": ""
             }
            }
           }
          ],
          "scatterternary": [
           {
            "type": "scatterternary",
            "marker": {
             "colorbar": {
              "outlinewidth": 0,
              "ticks": ""
             }
            }
           }
          ],
          "scattercarpet": [
           {
            "type": "scattercarpet",
            "marker": {
             "colorbar": {
              "outlinewidth": 0,
              "ticks": ""
             }
            }
           }
          ],
          "carpet": [
           {
            "aaxis": {
             "endlinecolor": "#2a3f5f",
             "gridcolor": "white",
             "linecolor": "white",
             "minorgridcolor": "white",
             "startlinecolor": "#2a3f5f"
            },
            "baxis": {
             "endlinecolor": "#2a3f5f",
             "gridcolor": "white",
             "linecolor": "white",
             "minorgridcolor": "white",
             "startlinecolor": "#2a3f5f"
            },
            "type": "carpet"
           }
          ],
          "table": [
           {
            "cells": {
             "fill": {
              "color": "#EBF0F8"
             },
             "line": {
              "color": "white"
             }
            },
            "header": {
             "fill": {
              "color": "#C8D4E3"
             },
             "line": {
              "color": "white"
             }
            },
            "type": "table"
           }
          ],
          "barpolar": [
           {
            "marker": {
             "line": {
              "color": "#E5ECF6",
              "width": 0.5
             },
             "pattern": {
              "fillmode": "overlay",
              "size": 10,
              "solidity": 0.2
             }
            },
            "type": "barpolar"
           }
          ],
          "pie": [
           {
            "automargin": true,
            "type": "pie"
           }
          ]
         },
         "layout": {
          "autotypenumbers": "strict",
          "colorway": [
           "#636efa",
           "#EF553B",
           "#00cc96",
           "#ab63fa",
           "#FFA15A",
           "#19d3f3",
           "#FF6692",
           "#B6E880",
           "#FF97FF",
           "#FECB52"
          ],
          "font": {
           "color": "#2a3f5f"
          },
          "hovermode": "closest",
          "hoverlabel": {
           "align": "left"
          },
          "paper_bgcolor": "white",
          "plot_bgcolor": "#E5ECF6",
          "polar": {
           "bgcolor": "#E5ECF6",
           "angularaxis": {
            "gridcolor": "white",
            "linecolor": "white",
            "ticks": ""
           },
           "radialaxis": {
            "gridcolor": "white",
            "linecolor": "white",
            "ticks": ""
           }
          },
          "ternary": {
           "bgcolor": "#E5ECF6",
           "aaxis": {
            "gridcolor": "white",
            "linecolor": "white",
            "ticks": ""
           },
           "baxis": {
            "gridcolor": "white",
            "linecolor": "white",
            "ticks": ""
           },
           "caxis": {
            "gridcolor": "white",
            "linecolor": "white",
            "ticks": ""
           }
          },
          "coloraxis": {
           "colorbar": {
            "outlinewidth": 0,
            "ticks": ""
           }
          },
          "colorscale": {
           "sequential": [
            [
             0,
             "#0d0887"
            ],
            [
             0.1111111111111111,
             "#46039f"
            ],
            [
             0.2222222222222222,
             "#7201a8"
            ],
            [
             0.3333333333333333,
             "#9c179e"
            ],
            [
             0.4444444444444444,
             "#bd3786"
            ],
            [
             0.5555555555555556,
             "#d8576b"
            ],
            [
             0.6666666666666666,
             "#ed7953"
            ],
            [
             0.7777777777777778,
             "#fb9f3a"
            ],
            [
             0.8888888888888888,
             "#fdca26"
            ],
            [
             1,
             "#f0f921"
            ]
           ],
           "sequentialminus": [
            [
             0,
             "#0d0887"
            ],
            [
             0.1111111111111111,
             "#46039f"
            ],
            [
             0.2222222222222222,
             "#7201a8"
            ],
            [
             0.3333333333333333,
             "#9c179e"
            ],
            [
             0.4444444444444444,
             "#bd3786"
            ],
            [
             0.5555555555555556,
             "#d8576b"
            ],
            [
             0.6666666666666666,
             "#ed7953"
            ],
            [
             0.7777777777777778,
             "#fb9f3a"
            ],
            [
             0.8888888888888888,
             "#fdca26"
            ],
            [
             1,
             "#f0f921"
            ]
           ],
           "diverging": [
            [
             0,
             "#8e0152"
            ],
            [
             0.1,
             "#c51b7d"
            ],
            [
             0.2,
             "#de77ae"
            ],
            [
             0.3,
             "#f1b6da"
            ],
            [
             0.4,
             "#fde0ef"
            ],
            [
             0.5,
             "#f7f7f7"
            ],
            [
             0.6,
             "#e6f5d0"
            ],
            [
             0.7,
             "#b8e186"
            ],
            [
             0.8,
             "#7fbc41"
            ],
            [
             0.9,
             "#4d9221"
            ],
            [
             1,
             "#276419"
            ]
           ]
          },
          "xaxis": {
           "gridcolor": "white",
           "linecolor": "white",
           "ticks": "",
           "title": {
            "standoff": 15
           },
           "zerolinecolor": "white",
           "automargin": true,
           "zerolinewidth": 2
          },
          "yaxis": {
           "gridcolor": "white",
           "linecolor": "white",
           "ticks": "",
           "title": {
            "standoff": 15
           },
           "zerolinecolor": "white",
           "automargin": true,
           "zerolinewidth": 2
          },
          "scene": {
           "xaxis": {
            "backgroundcolor": "#E5ECF6",
            "gridcolor": "white",
            "linecolor": "white",
            "showbackground": true,
            "ticks": "",
            "zerolinecolor": "white",
            "gridwidth": 2
           },
           "yaxis": {
            "backgroundcolor": "#E5ECF6",
            "gridcolor": "white",
            "linecolor": "white",
            "showbackground": true,
            "ticks": "",
            "zerolinecolor": "white",
            "gridwidth": 2
           },
           "zaxis": {
            "backgroundcolor": "#E5ECF6",
            "gridcolor": "white",
            "linecolor": "white",
            "showbackground": true,
            "ticks": "",
            "zerolinecolor": "white",
            "gridwidth": 2
           }
          },
          "shapedefaults": {
           "line": {
            "color": "#2a3f5f"
           }
          },
          "annotationdefaults": {
           "arrowcolor": "#2a3f5f",
           "arrowhead": 0,
           "arrowwidth": 1
          },
          "geo": {
           "bgcolor": "white",
           "landcolor": "#E5ECF6",
           "subunitcolor": "white",
           "showland": true,
           "showlakes": true,
           "lakecolor": "white"
          },
          "title": {
           "x": 0.05
          },
          "mapbox": {
           "style": "light"
          }
         }
        },
        "legend": {
         "tracegroupgap": 0
        },
        "title": {
         "text": "Education of Applicants"
        }
       },
       "config": {
        "plotlyServerURL": "https://plot.ly"
       }
      }
     },
     "metadata": {}
    }
   ],
   "source": [
    "#Education of the applicants\n",
    "temp = two_columns_df[\"NAME_EDUCATION_TYPE\"].value_counts()\n",
    "\n",
    "df = pd.DataFrame({'labels': temp.index,\n",
    "                   'values': temp.values})\n",
    "\n",
    "fig = px.pie(df, names='labels', values='values', title='Education of Applicants', hole=0.5)\n",
    "fig.show()"
   ]
  },
  {
   "cell_type": "code",
   "execution_count": 19,
   "metadata": {},
   "outputs": [
    {
     "output_type": "display_data",
     "data": {
      "application/vnd.plotly.v1+json": {
       "data": [
        {
         "domain": {
          "x": [
           0,
           1
          ],
          "y": [
           0,
           1
          ]
         },
         "hole": 0.5,
         "hovertemplate": "labels=%{label}<br>value=%{value}<extra></extra>",
         "labels": [
          "Working",
          "Commercial associate",
          "Pensioner",
          "State servant",
          "Unemployed",
          "Businessman",
          "Student"
         ],
         "legendgroup": "",
         "name": "",
         "showlegend": true,
         "values": [
          43333,
          23577,
          15645,
          5936,
          7,
          5,
          4
         ],
         "type": "pie"
        }
       ],
       "layout": {
        "template": {
         "data": {
          "histogram2dcontour": [
           {
            "type": "histogram2dcontour",
            "colorbar": {
             "outlinewidth": 0,
             "ticks": ""
            },
            "colorscale": [
             [
              0,
              "#0d0887"
             ],
             [
              0.1111111111111111,
              "#46039f"
             ],
             [
              0.2222222222222222,
              "#7201a8"
             ],
             [
              0.3333333333333333,
              "#9c179e"
             ],
             [
              0.4444444444444444,
              "#bd3786"
             ],
             [
              0.5555555555555556,
              "#d8576b"
             ],
             [
              0.6666666666666666,
              "#ed7953"
             ],
             [
              0.7777777777777778,
              "#fb9f3a"
             ],
             [
              0.8888888888888888,
              "#fdca26"
             ],
             [
              1,
              "#f0f921"
             ]
            ]
           }
          ],
          "choropleth": [
           {
            "type": "choropleth",
            "colorbar": {
             "outlinewidth": 0,
             "ticks": ""
            }
           }
          ],
          "histogram2d": [
           {
            "type": "histogram2d",
            "colorbar": {
             "outlinewidth": 0,
             "ticks": ""
            },
            "colorscale": [
             [
              0,
              "#0d0887"
             ],
             [
              0.1111111111111111,
              "#46039f"
             ],
             [
              0.2222222222222222,
              "#7201a8"
             ],
             [
              0.3333333333333333,
              "#9c179e"
             ],
             [
              0.4444444444444444,
              "#bd3786"
             ],
             [
              0.5555555555555556,
              "#d8576b"
             ],
             [
              0.6666666666666666,
              "#ed7953"
             ],
             [
              0.7777777777777778,
              "#fb9f3a"
             ],
             [
              0.8888888888888888,
              "#fdca26"
             ],
             [
              1,
              "#f0f921"
             ]
            ]
           }
          ],
          "heatmap": [
           {
            "type": "heatmap",
            "colorbar": {
             "outlinewidth": 0,
             "ticks": ""
            },
            "colorscale": [
             [
              0,
              "#0d0887"
             ],
             [
              0.1111111111111111,
              "#46039f"
             ],
             [
              0.2222222222222222,
              "#7201a8"
             ],
             [
              0.3333333333333333,
              "#9c179e"
             ],
             [
              0.4444444444444444,
              "#bd3786"
             ],
             [
              0.5555555555555556,
              "#d8576b"
             ],
             [
              0.6666666666666666,
              "#ed7953"
             ],
             [
              0.7777777777777778,
              "#fb9f3a"
             ],
             [
              0.8888888888888888,
              "#fdca26"
             ],
             [
              1,
              "#f0f921"
             ]
            ]
           }
          ],
          "heatmapgl": [
           {
            "type": "heatmapgl",
            "colorbar": {
             "outlinewidth": 0,
             "ticks": ""
            },
            "colorscale": [
             [
              0,
              "#0d0887"
             ],
             [
              0.1111111111111111,
              "#46039f"
             ],
             [
              0.2222222222222222,
              "#7201a8"
             ],
             [
              0.3333333333333333,
              "#9c179e"
             ],
             [
              0.4444444444444444,
              "#bd3786"
             ],
             [
              0.5555555555555556,
              "#d8576b"
             ],
             [
              0.6666666666666666,
              "#ed7953"
             ],
             [
              0.7777777777777778,
              "#fb9f3a"
             ],
             [
              0.8888888888888888,
              "#fdca26"
             ],
             [
              1,
              "#f0f921"
             ]
            ]
           }
          ],
          "contourcarpet": [
           {
            "type": "contourcarpet",
            "colorbar": {
             "outlinewidth": 0,
             "ticks": ""
            }
           }
          ],
          "contour": [
           {
            "type": "contour",
            "colorbar": {
             "outlinewidth": 0,
             "ticks": ""
            },
            "colorscale": [
             [
              0,
              "#0d0887"
             ],
             [
              0.1111111111111111,
              "#46039f"
             ],
             [
              0.2222222222222222,
              "#7201a8"
             ],
             [
              0.3333333333333333,
              "#9c179e"
             ],
             [
              0.4444444444444444,
              "#bd3786"
             ],
             [
              0.5555555555555556,
              "#d8576b"
             ],
             [
              0.6666666666666666,
              "#ed7953"
             ],
             [
              0.7777777777777778,
              "#fb9f3a"
             ],
             [
              0.8888888888888888,
              "#fdca26"
             ],
             [
              1,
              "#f0f921"
             ]
            ]
           }
          ],
          "surface": [
           {
            "type": "surface",
            "colorbar": {
             "outlinewidth": 0,
             "ticks": ""
            },
            "colorscale": [
             [
              0,
              "#0d0887"
             ],
             [
              0.1111111111111111,
              "#46039f"
             ],
             [
              0.2222222222222222,
              "#7201a8"
             ],
             [
              0.3333333333333333,
              "#9c179e"
             ],
             [
              0.4444444444444444,
              "#bd3786"
             ],
             [
              0.5555555555555556,
              "#d8576b"
             ],
             [
              0.6666666666666666,
              "#ed7953"
             ],
             [
              0.7777777777777778,
              "#fb9f3a"
             ],
             [
              0.8888888888888888,
              "#fdca26"
             ],
             [
              1,
              "#f0f921"
             ]
            ]
           }
          ],
          "mesh3d": [
           {
            "type": "mesh3d",
            "colorbar": {
             "outlinewidth": 0,
             "ticks": ""
            }
           }
          ],
          "scatter": [
           {
            "fillpattern": {
             "fillmode": "overlay",
             "size": 10,
             "solidity": 0.2
            },
            "type": "scatter"
           }
          ],
          "parcoords": [
           {
            "type": "parcoords",
            "line": {
             "colorbar": {
              "outlinewidth": 0,
              "ticks": ""
             }
            }
           }
          ],
          "scatterpolargl": [
           {
            "type": "scatterpolargl",
            "marker": {
             "colorbar": {
              "outlinewidth": 0,
              "ticks": ""
             }
            }
           }
          ],
          "bar": [
           {
            "error_x": {
             "color": "#2a3f5f"
            },
            "error_y": {
             "color": "#2a3f5f"
            },
            "marker": {
             "line": {
              "color": "#E5ECF6",
              "width": 0.5
             },
             "pattern": {
              "fillmode": "overlay",
              "size": 10,
              "solidity": 0.2
             }
            },
            "type": "bar"
           }
          ],
          "scattergeo": [
           {
            "type": "scattergeo",
            "marker": {
             "colorbar": {
              "outlinewidth": 0,
              "ticks": ""
             }
            }
           }
          ],
          "scatterpolar": [
           {
            "type": "scatterpolar",
            "marker": {
             "colorbar": {
              "outlinewidth": 0,
              "ticks": ""
             }
            }
           }
          ],
          "histogram": [
           {
            "marker": {
             "pattern": {
              "fillmode": "overlay",
              "size": 10,
              "solidity": 0.2
             }
            },
            "type": "histogram"
           }
          ],
          "scattergl": [
           {
            "type": "scattergl",
            "marker": {
             "colorbar": {
              "outlinewidth": 0,
              "ticks": ""
             }
            }
           }
          ],
          "scatter3d": [
           {
            "type": "scatter3d",
            "line": {
             "colorbar": {
              "outlinewidth": 0,
              "ticks": ""
             }
            },
            "marker": {
             "colorbar": {
              "outlinewidth": 0,
              "ticks": ""
             }
            }
           }
          ],
          "scattermapbox": [
           {
            "type": "scattermapbox",
            "marker": {
             "colorbar": {
              "outlinewidth": 0,
              "ticks": ""
             }
            }
           }
          ],
          "scatterternary": [
           {
            "type": "scatterternary",
            "marker": {
             "colorbar": {
              "outlinewidth": 0,
              "ticks": ""
             }
            }
           }
          ],
          "scattercarpet": [
           {
            "type": "scattercarpet",
            "marker": {
             "colorbar": {
              "outlinewidth": 0,
              "ticks": ""
             }
            }
           }
          ],
          "carpet": [
           {
            "aaxis": {
             "endlinecolor": "#2a3f5f",
             "gridcolor": "white",
             "linecolor": "white",
             "minorgridcolor": "white",
             "startlinecolor": "#2a3f5f"
            },
            "baxis": {
             "endlinecolor": "#2a3f5f",
             "gridcolor": "white",
             "linecolor": "white",
             "minorgridcolor": "white",
             "startlinecolor": "#2a3f5f"
            },
            "type": "carpet"
           }
          ],
          "table": [
           {
            "cells": {
             "fill": {
              "color": "#EBF0F8"
             },
             "line": {
              "color": "white"
             }
            },
            "header": {
             "fill": {
              "color": "#C8D4E3"
             },
             "line": {
              "color": "white"
             }
            },
            "type": "table"
           }
          ],
          "barpolar": [
           {
            "marker": {
             "line": {
              "color": "#E5ECF6",
              "width": 0.5
             },
             "pattern": {
              "fillmode": "overlay",
              "size": 10,
              "solidity": 0.2
             }
            },
            "type": "barpolar"
           }
          ],
          "pie": [
           {
            "automargin": true,
            "type": "pie"
           }
          ]
         },
         "layout": {
          "autotypenumbers": "strict",
          "colorway": [
           "#636efa",
           "#EF553B",
           "#00cc96",
           "#ab63fa",
           "#FFA15A",
           "#19d3f3",
           "#FF6692",
           "#B6E880",
           "#FF97FF",
           "#FECB52"
          ],
          "font": {
           "color": "#2a3f5f"
          },
          "hovermode": "closest",
          "hoverlabel": {
           "align": "left"
          },
          "paper_bgcolor": "white",
          "plot_bgcolor": "#E5ECF6",
          "polar": {
           "bgcolor": "#E5ECF6",
           "angularaxis": {
            "gridcolor": "white",
            "linecolor": "white",
            "ticks": ""
           },
           "radialaxis": {
            "gridcolor": "white",
            "linecolor": "white",
            "ticks": ""
           }
          },
          "ternary": {
           "bgcolor": "#E5ECF6",
           "aaxis": {
            "gridcolor": "white",
            "linecolor": "white",
            "ticks": ""
           },
           "baxis": {
            "gridcolor": "white",
            "linecolor": "white",
            "ticks": ""
           },
           "caxis": {
            "gridcolor": "white",
            "linecolor": "white",
            "ticks": ""
           }
          },
          "coloraxis": {
           "colorbar": {
            "outlinewidth": 0,
            "ticks": ""
           }
          },
          "colorscale": {
           "sequential": [
            [
             0,
             "#0d0887"
            ],
            [
             0.1111111111111111,
             "#46039f"
            ],
            [
             0.2222222222222222,
             "#7201a8"
            ],
            [
             0.3333333333333333,
             "#9c179e"
            ],
            [
             0.4444444444444444,
             "#bd3786"
            ],
            [
             0.5555555555555556,
             "#d8576b"
            ],
            [
             0.6666666666666666,
             "#ed7953"
            ],
            [
             0.7777777777777778,
             "#fb9f3a"
            ],
            [
             0.8888888888888888,
             "#fdca26"
            ],
            [
             1,
             "#f0f921"
            ]
           ],
           "sequentialminus": [
            [
             0,
             "#0d0887"
            ],
            [
             0.1111111111111111,
             "#46039f"
            ],
            [
             0.2222222222222222,
             "#7201a8"
            ],
            [
             0.3333333333333333,
             "#9c179e"
            ],
            [
             0.4444444444444444,
             "#bd3786"
            ],
            [
             0.5555555555555556,
             "#d8576b"
            ],
            [
             0.6666666666666666,
             "#ed7953"
            ],
            [
             0.7777777777777778,
             "#fb9f3a"
            ],
            [
             0.8888888888888888,
             "#fdca26"
            ],
            [
             1,
             "#f0f921"
            ]
           ],
           "diverging": [
            [
             0,
             "#8e0152"
            ],
            [
             0.1,
             "#c51b7d"
            ],
            [
             0.2,
             "#de77ae"
            ],
            [
             0.3,
             "#f1b6da"
            ],
            [
             0.4,
             "#fde0ef"
            ],
            [
             0.5,
             "#f7f7f7"
            ],
            [
             0.6,
             "#e6f5d0"
            ],
            [
             0.7,
             "#b8e186"
            ],
            [
             0.8,
             "#7fbc41"
            ],
            [
             0.9,
             "#4d9221"
            ],
            [
             1,
             "#276419"
            ]
           ]
          },
          "xaxis": {
           "gridcolor": "white",
           "linecolor": "white",
           "ticks": "",
           "title": {
            "standoff": 15
           },
           "zerolinecolor": "white",
           "automargin": true,
           "zerolinewidth": 2
          },
          "yaxis": {
           "gridcolor": "white",
           "linecolor": "white",
           "ticks": "",
           "title": {
            "standoff": 15
           },
           "zerolinecolor": "white",
           "automargin": true,
           "zerolinewidth": 2
          },
          "scene": {
           "xaxis": {
            "backgroundcolor": "#E5ECF6",
            "gridcolor": "white",
            "linecolor": "white",
            "showbackground": true,
            "ticks": "",
            "zerolinecolor": "white",
            "gridwidth": 2
           },
           "yaxis": {
            "backgroundcolor": "#E5ECF6",
            "gridcolor": "white",
            "linecolor": "white",
            "showbackground": true,
            "ticks": "",
            "zerolinecolor": "white",
            "gridwidth": 2
           },
           "zaxis": {
            "backgroundcolor": "#E5ECF6",
            "gridcolor": "white",
            "linecolor": "white",
            "showbackground": true,
            "ticks": "",
            "zerolinecolor": "white",
            "gridwidth": 2
           }
          },
          "shapedefaults": {
           "line": {
            "color": "#2a3f5f"
           }
          },
          "annotationdefaults": {
           "arrowcolor": "#2a3f5f",
           "arrowhead": 0,
           "arrowwidth": 1
          },
          "geo": {
           "bgcolor": "white",
           "landcolor": "#E5ECF6",
           "subunitcolor": "white",
           "showland": true,
           "showlakes": true,
           "lakecolor": "white"
          },
          "title": {
           "x": 0.05
          },
          "mapbox": {
           "style": "light"
          }
         }
        },
        "legend": {
         "tracegroupgap": 0
        },
        "title": {
         "text": "Applicants Income Type"
        }
       },
       "config": {
        "plotlyServerURL": "https://plot.ly"
       }
      }
     },
     "metadata": {}
    }
   ],
   "source": [
    "#Income_type of the applicants\n",
    "temp = two_columns_df[\"NAME_INCOME_TYPE\"].value_counts()\n",
    "\n",
    "df = pd.DataFrame({'labels': temp.index,\n",
    "                   'values': temp.values})\n",
    "\n",
    "fig = px.pie(df, names='labels', values='values', title='Applicants Income Type', hole=0.5)\n",
    "fig.show()"
   ]
  },
  {
   "cell_type": "markdown",
   "id": "41ecb7bf",
   "metadata": {},
   "source": [
    "#### Plotting the distribution of age in years of sample applicants"
   ]
  },
  {
   "cell_type": "code",
   "execution_count": 100,
   "id": "acba98de",
   "metadata": {},
   "outputs": [
    {
     "data": {
      "image/png": "[encoded data removed]",
      "text/plain": [
       "<Figure size 800x600 with 1 Axes>"
      ]
     },
     "metadata": {},
     "output_type": "display_data"
    }
   ],
   "source": [
    "# Plot the distribution of ages in years\n",
    "plt.figure(figsize=(8, 6))\n",
    "plt.hist(np.abs(two_columns_df['DAYS_BIRTH'] / 365), edgecolor='k', bins=25)\n",
    "plt.title('Age of Client')\n",
    "plt.xlabel('Age (years)')\n",
    "plt.ylabel('Count')\n",
    "plt.show()\n"
   ]
  },
  {
   "cell_type": "markdown",
   "id": "41121ec6",
   "metadata": {},
   "source": [
    "#### Visualizing client accompaniment during application"
   ]
  },
  {
   "cell_type": "code",
   "execution_count": 21,
   "id": "efb7f356",
   "metadata": {},
   "outputs": [
    {
     "output_type": "display_data",
     "data": {
      "application/vnd.plotly.v1+json": {
       "data": [
        {
         "text": [
          73316,
          10219,
          2869,
          888,
          468,
          280,
          70
         ],
         "textposition": "auto",
         "x": [
          "Unaccompanied",
          "Family",
          "Spouse, partner",
          "Children",
          "Other_B",
          "Other_A",
          "Group of people"
         ],
         "y": [
          83.20962433321984,
          11.598002496878902,
          3.256157076381796,
          1.007831120190671,
          0.5311542390194076,
          0.3177845874475088,
          0.0794461468618772
         ],
         "type": "bar"
        }
       ],
       "layout": {
        "title": {
         "text": "Who accompanied client when applying for the application in %"
        },
        "xaxis": {
         "tickfont": {
          "color": "rgb(107, 107, 107)",
          "size": 14
         },
         "title": {
          "text": "Name of type of the Suite"
         }
        },
        "yaxis": {
         "tickfont": {
          "color": "rgb(107, 107, 107)",
          "size": 14
         },
         "title": {
          "font": {
           "color": "rgb(107, 107, 107)",
           "size": 16
          },
          "text": "Count of Name of type of the Suite in %"
         }
        },
        "template": {
         "data": {
          "histogram2dcontour": [
           {
            "type": "histogram2dcontour",
            "colorbar": {
             "outlinewidth": 0,
             "ticks": ""
            },
            "colorscale": [
             [
              0,
              "#0d0887"
             ],
             [
              0.1111111111111111,
              "#46039f"
             ],
             [
              0.2222222222222222,
              "#7201a8"
             ],
             [
              0.3333333333333333,
              "#9c179e"
             ],
             [
              0.4444444444444444,
              "#bd3786"
             ],
             [
              0.5555555555555556,
              "#d8576b"
             ],
             [
              0.6666666666666666,
              "#ed7953"
             ],
             [
              0.7777777777777778,
              "#fb9f3a"
             ],
             [
              0.8888888888888888,
              "#fdca26"
             ],
             [
              1,
              "#f0f921"
             ]
            ]
           }
          ],
          "choropleth": [
           {
            "type": "choropleth",
            "colorbar": {
             "outlinewidth": 0,
             "ticks": ""
            }
           }
          ],
          "histogram2d": [
           {
            "type": "histogram2d",
            "colorbar": {
             "outlinewidth": 0,
             "ticks": ""
            },
            "colorscale": [
             [
              0,
              "#0d0887"
             ],
             [
              0.1111111111111111,
              "#46039f"
             ],
             [
              0.2222222222222222,
              "#7201a8"
             ],
             [
              0.3333333333333333,
              "#9c179e"
             ],
             [
              0.4444444444444444,
              "#bd3786"
             ],
             [
              0.5555555555555556,
              "#d8576b"
             ],
             [
              0.6666666666666666,
              "#ed7953"
             ],
             [
              0.7777777777777778,
              "#fb9f3a"
             ],
             [
              0.8888888888888888,
              "#fdca26"
             ],
             [
              1,
              "#f0f921"
             ]
            ]
           }
          ],
          "heatmap": [
           {
            "type": "heatmap",
            "colorbar": {
             "outlinewidth": 0,
             "ticks": ""
            },
            "colorscale": [
             [
              0,
              "#0d0887"
             ],
             [
              0.1111111111111111,
              "#46039f"
             ],
             [
              0.2222222222222222,
              "#7201a8"
             ],
             [
              0.3333333333333333,
              "#9c179e"
             ],
             [
              0.4444444444444444,
              "#bd3786"
             ],
             [
              0.5555555555555556,
              "#d8576b"
             ],
             [
              0.6666666666666666,
              "#ed7953"
             ],
             [
              0.7777777777777778,
              "#fb9f3a"
             ],
             [
              0.8888888888888888,
              "#fdca26"
             ],
             [
              1,
              "#f0f921"
             ]
            ]
           }
          ],
          "heatmapgl": [
           {
            "type": "heatmapgl",
            "colorbar": {
             "outlinewidth": 0,
             "ticks": ""
            },
            "colorscale": [
             [
              0,
              "#0d0887"
             ],
             [
              0.1111111111111111,
              "#46039f"
             ],
             [
              0.2222222222222222,
              "#7201a8"
             ],
             [
              0.3333333333333333,
              "#9c179e"
             ],
             [
              0.4444444444444444,
              "#bd3786"
             ],
             [
              0.5555555555555556,
              "#d8576b"
             ],
             [
              0.6666666666666666,
              "#ed7953"
             ],
             [
              0.7777777777777778,
              "#fb9f3a"
             ],
             [
              0.8888888888888888,
              "#fdca26"
             ],
             [
              1,
              "#f0f921"
             ]
            ]
           }
          ],
          "contourcarpet": [
           {
            "type": "contourcarpet",
            "colorbar": {
             "outlinewidth": 0,
             "ticks": ""
            }
           }
          ],
          "contour": [
           {
            "type": "contour",
            "colorbar": {
             "outlinewidth": 0,
             "ticks": ""
            },
            "colorscale": [
             [
              0,
              "#0d0887"
             ],
             [
              0.1111111111111111,
              "#46039f"
             ],
             [
              0.2222222222222222,
              "#7201a8"
             ],
             [
              0.3333333333333333,
              "#9c179e"
             ],
             [
              0.4444444444444444,
              "#bd3786"
             ],
             [
              0.5555555555555556,
              "#d8576b"
             ],
             [
              0.6666666666666666,
              "#ed7953"
             ],
             [
              0.7777777777777778,
              "#fb9f3a"
             ],
             [
              0.8888888888888888,
              "#fdca26"
             ],
             [
              1,
              "#f0f921"
             ]
            ]
           }
          ],
          "surface": [
           {
            "type": "surface",
            "colorbar": {
             "outlinewidth": 0,
             "ticks": ""
            },
            "colorscale": [
             [
              0,
              "#0d0887"
             ],
             [
              0.1111111111111111,
              "#46039f"
             ],
             [
              0.2222222222222222,
              "#7201a8"
             ],
             [
              0.3333333333333333,
              "#9c179e"
             ],
             [
              0.4444444444444444,
              "#bd3786"
             ],
             [
              0.5555555555555556,
              "#d8576b"
             ],
             [
              0.6666666666666666,
              "#ed7953"
             ],
             [
              0.7777777777777778,
              "#fb9f3a"
             ],
             [
              0.8888888888888888,
              "#fdca26"
             ],
             [
              1,
              "#f0f921"
             ]
            ]
           }
          ],
          "mesh3d": [
           {
            "type": "mesh3d",
            "colorbar": {
             "outlinewidth": 0,
             "ticks": ""
            }
           }
          ],
          "scatter": [
           {
            "fillpattern": {
             "fillmode": "overlay",
             "size": 10,
             "solidity": 0.2
            },
            "type": "scatter"
           }
          ],
          "parcoords": [
           {
            "type": "parcoords",
            "line": {
             "colorbar": {
              "outlinewidth": 0,
              "ticks": ""
             }
            }
           }
          ],
          "scatterpolargl": [
           {
            "type": "scatterpolargl",
            "marker": {
             "colorbar": {
              "outlinewidth": 0,
              "ticks": ""
             }
            }
           }
          ],
          "bar": [
           {
            "error_x": {
             "color": "#2a3f5f"
            },
            "error_y": {
             "color": "#2a3f5f"
            },
            "marker": {
             "line": {
              "color": "#E5ECF6",
              "width": 0.5
             },
             "pattern": {
              "fillmode": "overlay",
              "size": 10,
              "solidity": 0.2
             }
            },
            "type": "bar"
           }
          ],
          "scattergeo": [
           {
            "type": "scattergeo",
            "marker": {
             "colorbar": {
              "outlinewidth": 0,
              "ticks": ""
             }
            }
           }
          ],
          "scatterpolar": [
           {
            "type": "scatterpolar",
            "marker": {
             "colorbar": {
              "outlinewidth": 0,
              "ticks": ""
             }
            }
           }
          ],
          "histogram": [
           {
            "marker": {
             "pattern": {
              "fillmode": "overlay",
              "size": 10,
              "solidity": 0.2
             }
            },
            "type": "histogram"
           }
          ],
          "scattergl": [
           {
            "type": "scattergl",
            "marker": {
             "colorbar": {
              "outlinewidth": 0,
              "ticks": ""
             }
            }
           }
          ],
          "scatter3d": [
           {
            "type": "scatter3d",
            "line": {
             "colorbar": {
              "outlinewidth": 0,
              "ticks": ""
             }
            },
            "marker": {
             "colorbar": {
              "outlinewidth": 0,
              "ticks": ""
             }
            }
           }
          ],
          "scattermapbox": [
           {
            "type": "scattermapbox",
            "marker": {
             "colorbar": {
              "outlinewidth": 0,
              "ticks": ""
             }
            }
           }
          ],
          "scatterternary": [
           {
            "type": "scatterternary",
            "marker": {
             "colorbar": {
              "outlinewidth": 0,
              "ticks": ""
             }
            }
           }
          ],
          "scattercarpet": [
           {
            "type": "scattercarpet",
            "marker": {
             "colorbar": {
              "outlinewidth": 0,
              "ticks": ""
             }
            }
           }
          ],
          "carpet": [
           {
            "aaxis": {
             "endlinecolor": "#2a3f5f",
             "gridcolor": "white",
             "linecolor": "white",
             "minorgridcolor": "white",
             "startlinecolor": "#2a3f5f"
            },
            "baxis": {
             "endlinecolor": "#2a3f5f",
             "gridcolor": "white",
             "linecolor": "white",
             "minorgridcolor": "white",
             "startlinecolor": "#2a3f5f"
            },
            "type": "carpet"
           }
          ],
          "table": [
           {
            "cells": {
             "fill": {
              "color": "#EBF0F8"
             },
             "line": {
              "color": "white"
             }
            },
            "header": {
             "fill": {
              "color": "#C8D4E3"
             },
             "line": {
              "color": "white"
             }
            },
            "type": "table"
           }
          ],
          "barpolar": [
           {
            "marker": {
             "line": {
              "color": "#E5ECF6",
              "width": 0.5
             },
             "pattern": {
              "fillmode": "overlay",
              "size": 10,
              "solidity": 0.2
             }
            },
            "type": "barpolar"
           }
          ],
          "pie": [
           {
            "automargin": true,
            "type": "pie"
           }
          ]
         },
         "layout": {
          "autotypenumbers": "strict",
          "colorway": [
           "#636efa",
           "#EF553B",
           "#00cc96",
           "#ab63fa",
           "#FFA15A",
           "#19d3f3",
           "#FF6692",
           "#B6E880",
           "#FF97FF",
           "#FECB52"
          ],
          "font": {
           "color": "#2a3f5f"
          },
          "hovermode": "closest",
          "hoverlabel": {
           "align": "left"
          },
          "paper_bgcolor": "white",
          "plot_bgcolor": "#E5ECF6",
          "polar": {
           "bgcolor": "#E5ECF6",
           "angularaxis": {
            "gridcolor": "white",
            "linecolor": "white",
            "ticks": ""
           },
           "radialaxis": {
            "gridcolor": "white",
            "linecolor": "white",
            "ticks": ""
           }
          },
          "ternary": {
           "bgcolor": "#E5ECF6",
           "aaxis": {
            "gridcolor": "white",
            "linecolor": "white",
            "ticks": ""
           },
           "baxis": {
            "gridcolor": "white",
            "linecolor": "white",
            "ticks": ""
           },
           "caxis": {
            "gridcolor": "white",
            "linecolor": "white",
            "ticks": ""
           }
          },
          "coloraxis": {
           "colorbar": {
            "outlinewidth": 0,
            "ticks": ""
           }
          },
          "colorscale": {
           "sequential": [
            [
             0,
             "#0d0887"
            ],
            [
             0.1111111111111111,
             "#46039f"
            ],
            [
             0.2222222222222222,
             "#7201a8"
            ],
            [
             0.3333333333333333,
             "#9c179e"
            ],
            [
             0.4444444444444444,
             "#bd3786"
            ],
            [
             0.5555555555555556,
             "#d8576b"
            ],
            [
             0.6666666666666666,
             "#ed7953"
            ],
            [
             0.7777777777777778,
             "#fb9f3a"
            ],
            [
             0.8888888888888888,
             "#fdca26"
            ],
            [
             1,
             "#f0f921"
            ]
           ],
           "sequentialminus": [
            [
             0,
             "#0d0887"
            ],
            [
             0.1111111111111111,
             "#46039f"
            ],
            [
             0.2222222222222222,
             "#7201a8"
            ],
            [
             0.3333333333333333,
             "#9c179e"
            ],
            [
             0.4444444444444444,
             "#bd3786"
            ],
            [
             0.5555555555555556,
             "#d8576b"
            ],
            [
             0.6666666666666666,
             "#ed7953"
            ],
            [
             0.7777777777777778,
             "#fb9f3a"
            ],
            [
             0.8888888888888888,
             "#fdca26"
            ],
            [
             1,
             "#f0f921"
            ]
           ],
           "diverging": [
            [
             0,
             "#8e0152"
            ],
            [
             0.1,
             "#c51b7d"
            ],
            [
             0.2,
             "#de77ae"
            ],
            [
             0.3,
             "#f1b6da"
            ],
            [
             0.4,
             "#fde0ef"
            ],
            [
             0.5,
             "#f7f7f7"
            ],
            [
             0.6,
             "#e6f5d0"
            ],
            [
             0.7,
             "#b8e186"
            ],
            [
             0.8,
             "#7fbc41"
            ],
            [
             0.9,
             "#4d9221"
            ],
            [
             1,
             "#276419"
            ]
           ]
          },
          "xaxis": {
           "gridcolor": "white",
           "linecolor": "white",
           "ticks": "",
           "title": {
            "standoff": 15
           },
           "zerolinecolor": "white",
           "automargin": true,
           "zerolinewidth": 2
          },
          "yaxis": {
           "gridcolor": "white",
           "linecolor": "white",
           "ticks": "",
           "title": {
            "standoff": 15
           },
           "zerolinecolor": "white",
           "automargin": true,
           "zerolinewidth": 2
          },
          "scene": {
           "xaxis": {
            "backgroundcolor": "#E5ECF6",
            "gridcolor": "white",
            "linecolor": "white",
            "showbackground": true,
            "ticks": "",
            "zerolinecolor": "white",
            "gridwidth": 2
           },
           "yaxis": {
            "backgroundcolor": "#E5ECF6",
            "gridcolor": "white",
            "linecolor": "white",
            "showbackground": true,
            "ticks": "",
            "zerolinecolor": "white",
            "gridwidth": 2
           },
           "zaxis": {
            "backgroundcolor": "#E5ECF6",
            "gridcolor": "white",
            "linecolor": "white",
            "showbackground": true,
            "ticks": "",
            "zerolinecolor": "white",
            "gridwidth": 2
           }
          },
          "shapedefaults": {
           "line": {
            "color": "#2a3f5f"
           }
          },
          "annotationdefaults": {
           "arrowcolor": "#2a3f5f",
           "arrowhead": 0,
           "arrowwidth": 1
          },
          "geo": {
           "bgcolor": "white",
           "landcolor": "#E5ECF6",
           "subunitcolor": "white",
           "showland": true,
           "showlakes": true,
           "lakecolor": "white"
          },
          "title": {
           "x": 0.05
          },
          "mapbox": {
           "style": "light"
          }
         }
        }
       },
       "config": {
        "plotlyServerURL": "https://plot.ly"
       }
      }
     },
     "metadata": {}
    }
   ],
   "source": [
    "# Who accompanied the client distrinution\n",
    "temp = two_columns_df[\"NAME_TYPE_SUITE\"].value_counts()\n",
    "\n",
    "trace = go.Bar(\n",
    "    x=temp.index,\n",
    "    y=(temp / temp.sum()) * 100,\n",
    "    text=temp.values,  \n",
    "    textposition='auto'\n",
    ")\n",
    "\n",
    "data = [trace]\n",
    "\n",
    "layout = go.Layout(\n",
    "    title=\"Who accompanied client when applying for the application in %\",\n",
    "    xaxis=dict(\n",
    "        title='Name of type of the Suite',\n",
    "        #tickangle=45,\n",
    "        tickfont=dict(\n",
    "            size=14,\n",
    "            color='rgb(107, 107, 107)'\n",
    "        )\n",
    "    ),\n",
    "    yaxis=dict(\n",
    "        title='Count of Name of type of the Suite in %',\n",
    "        titlefont=dict(\n",
    "            size=16,\n",
    "            color='rgb(107, 107, 107)'\n",
    "        ),\n",
    "        tickfont=dict(\n",
    "            size=14,\n",
    "            color='rgb(107, 107, 107)'\n",
    "        )\n",
    "    )\n",
    ")\n",
    "\n",
    "fig = go.Figure(data=data, layout=layout)\n",
    "fig.show()\n"
   ]
  },
  {
   "cell_type": "markdown",
   "id": "5a1b227c",
   "metadata": {},
   "source": [
    "#### Visualizing Top Organization Distributions"
   ]
  },
  {
   "cell_type": "code",
   "execution_count": 26,
   "id": "53dc8439",
   "metadata": {},
   "outputs": [
    {
     "output_type": "display_data",
     "data": {
      "application/vnd.plotly.v1+json": {
       "data": [
        {
         "marker": {
          "color": [
           24.231981651168834,
           17.681087371620325,
           10.847729558114047,
           5.294496480504367,
           3.892347497938016,
           3.626831776017716,
           3.0155806885331105,
           2.425796829629295,
           2.4065893093201667,
           2.1907871693764336,
           2.181748336289785,
           2.08119131820082,
           1.9343102805427819,
           1.268826194538285,
           1.1727885929926447,
           1.0067000350254782,
           1.003310472617985,
           0.9807133899013637,
           0.9343893703322901,
           0.898234037985696,
           0.8247935191566769,
           0.758132125142644,
           0.7536127085993198,
           0.7423141672410092,
           0.6677437942761589,
           0.5954331295829708,
           0.5491091100138972,
           0.5253821731614449,
           0.5197329024822895,
           0.5027850904448236,
           0.3773712813675755,
           0.369462302416758,
           0.3186188663043601,
           0.3152293038968669,
           0.3073203249460495,
           0.26664557605613115,
           0.23274995198119924,
           0.22258126475871964,
           0.20337374444959155,
           0.20224389031376047,
           0.20111403617792942,
           0.18416622414046346,
           0.17286768278215284,
           0.1547900166088558,
           0.1355824962997277,
           0.1288033714847413,
           0.12767351734891025,
           0.1265436632130792,
           0.123154100805586,
           0.09264803913814726,
           0.058752415063215345,
           0.04406431129741151,
           0.040674748889918316,
           0.022597082716621284,
           0.020337374444959158,
           0.018077666173297025,
           0.012428395494141705,
           0.005649270679155321
          ],
          "colorscale": [
           [
            0,
            "rgb(247,252,245)"
           ],
           [
            0.125,
            "rgb(229,245,224)"
           ],
           [
            0.25,
            "rgb(199,233,192)"
           ],
           [
            0.375,
            "rgb(161,217,155)"
           ],
           [
            0.5,
            "rgb(116,196,118)"
           ],
           [
            0.625,
            "rgb(65,171,93)"
           ],
           [
            0.75,
            "rgb(35,139,69)"
           ],
           [
            0.875,
            "rgb(0,109,44)"
           ],
           [
            1,
            "rgb(0,68,27)"
           ]
          ],
          "reversescale": true
         },
         "x": [
          "Business Entity Type 3",
          "XNA",
          "Self-employed",
          "Other",
          "Business Entity Type 2",
          "Medicine",
          "Government",
          "Trade: type 7",
          "School",
          "Construction",
          "Kindergarten",
          "Business Entity Type 1",
          "Transport: type 4",
          "Industry: type 9",
          "Trade: type 3",
          "Bank",
          "Security",
          "Housing",
          "Industry: type 11",
          "Military",
          "Industry: type 3",
          "Trade: type 2",
          "Police",
          "Transport: type 2",
          "Security Ministries",
          "Services",
          "University",
          "Postal",
          "Industry: type 7",
          "Restaurant",
          "Electricity",
          "Transport: type 3",
          "Industry: type 5",
          "Industry: type 1",
          "Industry: type 4",
          "Hotel",
          "Trade: type 6",
          "Telecom",
          "Industry: type 2",
          "Agriculture",
          "Insurance",
          "Advertising",
          "Realtor",
          "Emergency",
          "Trade: type 1",
          "Legal Services",
          "Industry: type 12",
          "Culture",
          "Mobile",
          "Cleaning",
          "Transport: type 1",
          "Industry: type 10",
          "Industry: type 6",
          "Trade: type 4",
          "Trade: type 5",
          "Religion",
          "Industry: type 13",
          "Industry: type 8"
         ],
         "y": [
          24.231981651168834,
          17.681087371620325,
          10.847729558114047,
          5.294496480504367,
          3.892347497938016,
          3.626831776017716,
          3.0155806885331105,
          2.425796829629295,
          2.4065893093201667,
          2.1907871693764336,
          2.181748336289785,
          2.08119131820082,
          1.9343102805427819,
          1.268826194538285,
          1.1727885929926447,
          1.0067000350254782,
          1.003310472617985,
          0.9807133899013637,
          0.9343893703322901,
          0.898234037985696,
          0.8247935191566769,
          0.758132125142644,
          0.7536127085993198,
          0.7423141672410092,
          0.6677437942761589,
          0.5954331295829708,
          0.5491091100138972,
          0.5253821731614449,
          0.5197329024822895,
          0.5027850904448236,
          0.3773712813675755,
          0.369462302416758,
          0.3186188663043601,
          0.3152293038968669,
          0.3073203249460495,
          0.26664557605613115,
          0.23274995198119924,
          0.22258126475871964,
          0.20337374444959155,
          0.20224389031376047,
          0.20111403617792942,
          0.18416622414046346,
          0.17286768278215284,
          0.1547900166088558,
          0.1355824962997277,
          0.1288033714847413,
          0.12767351734891025,
          0.1265436632130792,
          0.123154100805586,
          0.09264803913814726,
          0.058752415063215345,
          0.04406431129741151,
          0.040674748889918316,
          0.022597082716621284,
          0.020337374444959158,
          0.018077666173297025,
          0.012428395494141705,
          0.005649270679155321
         ],
         "type": "bar"
        }
       ],
       "layout": {
        "title": {
         "text": "Top industry of the seller in %"
        },
        "xaxis": {
         "tickangle": 45,
         "tickfont": {
          "color": "rgb(107, 107, 107)",
          "size": 14
         },
         "title": {
          "text": "Industry Name"
         }
        },
        "yaxis": {
         "tickfont": {
          "color": "rgb(107, 107, 107)",
          "size": 14
         },
         "title": {
          "font": {
           "color": "rgb(107, 107, 107)",
           "size": 16
          },
          "text": "Count in %"
         }
        },
        "template": {
         "data": {
          "histogram2dcontour": [
           {
            "type": "histogram2dcontour",
            "colorbar": {
             "outlinewidth": 0,
             "ticks": ""
            },
            "colorscale": [
             [
              0,
              "#0d0887"
             ],
             [
              0.1111111111111111,
              "#46039f"
             ],
             [
              0.2222222222222222,
              "#7201a8"
             ],
             [
              0.3333333333333333,
              "#9c179e"
             ],
             [
              0.4444444444444444,
              "#bd3786"
             ],
             [
              0.5555555555555556,
              "#d8576b"
             ],
             [
              0.6666666666666666,
              "#ed7953"
             ],
             [
              0.7777777777777778,
              "#fb9f3a"
             ],
             [
              0.8888888888888888,
              "#fdca26"
             ],
             [
              1,
              "#f0f921"
             ]
            ]
           }
          ],
          "choropleth": [
           {
            "type": "choropleth",
            "colorbar": {
             "outlinewidth": 0,
             "ticks": ""
            }
           }
          ],
          "histogram2d": [
           {
            "type": "histogram2d",
            "colorbar": {
             "outlinewidth": 0,
             "ticks": ""
            },
            "colorscale": [
             [
              0,
              "#0d0887"
             ],
             [
              0.1111111111111111,
              "#46039f"
             ],
             [
              0.2222222222222222,
              "#7201a8"
             ],
             [
              0.3333333333333333,
              "#9c179e"
             ],
             [
              0.4444444444444444,
              "#bd3786"
             ],
             [
              0.5555555555555556,
              "#d8576b"
             ],
             [
              0.6666666666666666,
              "#ed7953"
             ],
             [
              0.7777777777777778,
              "#fb9f3a"
             ],
             [
              0.8888888888888888,
              "#fdca26"
             ],
             [
              1,
              "#f0f921"
             ]
            ]
           }
          ],
          "heatmap": [
           {
            "type": "heatmap",
            "colorbar": {
             "outlinewidth": 0,
             "ticks": ""
            },
            "colorscale": [
             [
              0,
              "#0d0887"
             ],
             [
              0.1111111111111111,
              "#46039f"
             ],
             [
              0.2222222222222222,
              "#7201a8"
             ],
             [
              0.3333333333333333,
              "#9c179e"
             ],
             [
              0.4444444444444444,
              "#bd3786"
             ],
             [
              0.5555555555555556,
              "#d8576b"
             ],
             [
              0.6666666666666666,
              "#ed7953"
             ],
             [
              0.7777777777777778,
              "#fb9f3a"
             ],
             [
              0.8888888888888888,
              "#fdca26"
             ],
             [
              1,
              "#f0f921"
             ]
            ]
           }
          ],
          "heatmapgl": [
           {
            "type": "heatmapgl",
            "colorbar": {
             "outlinewidth": 0,
             "ticks": ""
            },
            "colorscale": [
             [
              0,
              "#0d0887"
             ],
             [
              0.1111111111111111,
              "#46039f"
             ],
             [
              0.2222222222222222,
              "#7201a8"
             ],
             [
              0.3333333333333333,
              "#9c179e"
             ],
             [
              0.4444444444444444,
              "#bd3786"
             ],
             [
              0.5555555555555556,
              "#d8576b"
             ],
             [
              0.6666666666666666,
              "#ed7953"
             ],
             [
              0.7777777777777778,
              "#fb9f3a"
             ],
             [
              0.8888888888888888,
              "#fdca26"
             ],
             [
              1,
              "#f0f921"
             ]
            ]
           }
          ],
          "contourcarpet": [
           {
            "type": "contourcarpet",
            "colorbar": {
             "outlinewidth": 0,
             "ticks": ""
            }
           }
          ],
          "contour": [
           {
            "type": "contour",
            "colorbar": {
             "outlinewidth": 0,
             "ticks": ""
            },
            "colorscale": [
             [
              0,
              "#0d0887"
             ],
             [
              0.1111111111111111,
              "#46039f"
             ],
             [
              0.2222222222222222,
              "#7201a8"
             ],
             [
              0.3333333333333333,
              "#9c179e"
             ],
             [
              0.4444444444444444,
              "#bd3786"
             ],
             [
              0.5555555555555556,
              "#d8576b"
             ],
             [
              0.6666666666666666,
              "#ed7953"
             ],
             [
              0.7777777777777778,
              "#fb9f3a"
             ],
             [
              0.8888888888888888,
              "#fdca26"
             ],
             [
              1,
              "#f0f921"
             ]
            ]
           }
          ],
          "surface": [
           {
            "type": "surface",
            "colorbar": {
             "outlinewidth": 0,
             "ticks": ""
            },
            "colorscale": [
             [
              0,
              "#0d0887"
             ],
             [
              0.1111111111111111,
              "#46039f"
             ],
             [
              0.2222222222222222,
              "#7201a8"
             ],
             [
              0.3333333333333333,
              "#9c179e"
             ],
             [
              0.4444444444444444,
              "#bd3786"
             ],
             [
              0.5555555555555556,
              "#d8576b"
             ],
             [
              0.6666666666666666,
              "#ed7953"
             ],
             [
              0.7777777777777778,
              "#fb9f3a"
             ],
             [
              0.8888888888888888,
              "#fdca26"
             ],
             [
              1,
              "#f0f921"
             ]
            ]
           }
          ],
          "mesh3d": [
           {
            "type": "mesh3d",
            "colorbar": {
             "outlinewidth": 0,
             "ticks": ""
            }
           }
          ],
          "scatter": [
           {
            "fillpattern": {
             "fillmode": "overlay",
             "size": 10,
             "solidity": 0.2
            },
            "type": "scatter"
           }
          ],
          "parcoords": [
           {
            "type": "parcoords",
            "line": {
             "colorbar": {
              "outlinewidth": 0,
              "ticks": ""
             }
            }
           }
          ],
          "scatterpolargl": [
           {
            "type": "scatterpolargl",
            "marker": {
             "colorbar": {
              "outlinewidth": 0,
              "ticks": ""
             }
            }
           }
          ],
          "bar": [
           {
            "error_x": {
             "color": "#2a3f5f"
            },
            "error_y": {
             "color": "#2a3f5f"
            },
            "marker": {
             "line": {
              "color": "#E5ECF6",
              "width": 0.5
             },
             "pattern": {
              "fillmode": "overlay",
              "size": 10,
              "solidity": 0.2
             }
            },
            "type": "bar"
           }
          ],
          "scattergeo": [
           {
            "type": "scattergeo",
            "marker": {
             "colorbar": {
              "outlinewidth": 0,
              "ticks": ""
             }
            }
           }
          ],
          "scatterpolar": [
           {
            "type": "scatterpolar",
            "marker": {
             "colorbar": {
              "outlinewidth": 0,
              "ticks": ""
             }
            }
           }
          ],
          "histogram": [
           {
            "marker": {
             "pattern": {
              "fillmode": "overlay",
              "size": 10,
              "solidity": 0.2
             }
            },
            "type": "histogram"
           }
          ],
          "scattergl": [
           {
            "type": "scattergl",
            "marker": {
             "colorbar": {
              "outlinewidth": 0,
              "ticks": ""
             }
            }
           }
          ],
          "scatter3d": [
           {
            "type": "scatter3d",
            "line": {
             "colorbar": {
              "outlinewidth": 0,
              "ticks": ""
             }
            },
            "marker": {
             "colorbar": {
              "outlinewidth": 0,
              "ticks": ""
             }
            }
           }
          ],
          "scattermapbox": [
           {
            "type": "scattermapbox",
            "marker": {
             "colorbar": {
              "outlinewidth": 0,
              "ticks": ""
             }
            }
           }
          ],
          "scatterternary": [
           {
            "type": "scatterternary",
            "marker": {
             "colorbar": {
              "outlinewidth": 0,
              "ticks": ""
             }
            }
           }
          ],
          "scattercarpet": [
           {
            "type": "scattercarpet",
            "marker": {
             "colorbar": {
              "outlinewidth": 0,
              "ticks": ""
             }
            }
           }
          ],
          "carpet": [
           {
            "aaxis": {
             "endlinecolor": "#2a3f5f",
             "gridcolor": "white",
             "linecolor": "white",
             "minorgridcolor": "white",
             "startlinecolor": "#2a3f5f"
            },
            "baxis": {
             "endlinecolor": "#2a3f5f",
             "gridcolor": "white",
             "linecolor": "white",
             "minorgridcolor": "white",
             "startlinecolor": "#2a3f5f"
            },
            "type": "carpet"
           }
          ],
          "table": [
           {
            "cells": {
             "fill": {
              "color": "#EBF0F8"
             },
             "line": {
              "color": "white"
             }
            },
            "header": {
             "fill": {
              "color": "#C8D4E3"
             },
             "line": {
              "color": "white"
             }
            },
            "type": "table"
           }
          ],
          "barpolar": [
           {
            "marker": {
             "line": {
              "color": "#E5ECF6",
              "width": 0.5
             },
             "pattern": {
              "fillmode": "overlay",
              "size": 10,
              "solidity": 0.2
             }
            },
            "type": "barpolar"
           }
          ],
          "pie": [
           {
            "automargin": true,
            "type": "pie"
           }
          ]
         },
         "layout": {
          "autotypenumbers": "strict",
          "colorway": [
           "#636efa",
           "#EF553B",
           "#00cc96",
           "#ab63fa",
           "#FFA15A",
           "#19d3f3",
           "#FF6692",
           "#B6E880",
           "#FF97FF",
           "#FECB52"
          ],
          "font": {
           "color": "#2a3f5f"
          },
          "hovermode": "closest",
          "hoverlabel": {
           "align": "left"
          },
          "paper_bgcolor": "white",
          "plot_bgcolor": "#E5ECF6",
          "polar": {
           "bgcolor": "#E5ECF6",
           "angularaxis": {
            "gridcolor": "white",
            "linecolor": "white",
            "ticks": ""
           },
           "radialaxis": {
            "gridcolor": "white",
            "linecolor": "white",
            "ticks": ""
           }
          },
          "ternary": {
           "bgcolor": "#E5ECF6",
           "aaxis": {
            "gridcolor": "white",
            "linecolor": "white",
            "ticks": ""
           },
           "baxis": {
            "gridcolor": "white",
            "linecolor": "white",
            "ticks": ""
           },
           "caxis": {
            "gridcolor": "white",
            "linecolor": "white",
            "ticks": ""
           }
          },
          "coloraxis": {
           "colorbar": {
            "outlinewidth": 0,
            "ticks": ""
           }
          },
          "colorscale": {
           "sequential": [
            [
             0,
             "#0d0887"
            ],
            [
             0.1111111111111111,
             "#46039f"
            ],
            [
             0.2222222222222222,
             "#7201a8"
            ],
            [
             0.3333333333333333,
             "#9c179e"
            ],
            [
             0.4444444444444444,
             "#bd3786"
            ],
            [
             0.5555555555555556,
             "#d8576b"
            ],
            [
             0.6666666666666666,
             "#ed7953"
            ],
            [
             0.7777777777777778,
             "#fb9f3a"
            ],
            [
             0.8888888888888888,
             "#fdca26"
            ],
            [
             1,
             "#f0f921"
            ]
           ],
           "sequentialminus": [
            [
             0,
             "#0d0887"
            ],
            [
             0.1111111111111111,
             "#46039f"
            ],
            [
             0.2222222222222222,
             "#7201a8"
            ],
            [
             0.3333333333333333,
             "#9c179e"
            ],
            [
             0.4444444444444444,
             "#bd3786"
            ],
            [
             0.5555555555555556,
             "#d8576b"
            ],
            [
             0.6666666666666666,
             "#ed7953"
            ],
            [
             0.7777777777777778,
             "#fb9f3a"
            ],
            [
             0.8888888888888888,
             "#fdca26"
            ],
            [
             1,
             "#f0f921"
            ]
           ],
           "diverging": [
            [
             0,
             "#8e0152"
            ],
            [
             0.1,
             "#c51b7d"
            ],
            [
             0.2,
             "#de77ae"
            ],
            [
             0.3,
             "#f1b6da"
            ],
            [
             0.4,
             "#fde0ef"
            ],
            [
             0.5,
             "#f7f7f7"
            ],
            [
             0.6,
             "#e6f5d0"
            ],
            [
             0.7,
             "#b8e186"
            ],
            [
             0.8,
             "#7fbc41"
            ],
            [
             0.9,
             "#4d9221"
            ],
            [
             1,
             "#276419"
            ]
           ]
          },
          "xaxis": {
           "gridcolor": "white",
           "linecolor": "white",
           "ticks": "",
           "title": {
            "standoff": 15
           },
           "zerolinecolor": "white",
           "automargin": true,
           "zerolinewidth": 2
          },
          "yaxis": {
           "gridcolor": "white",
           "linecolor": "white",
           "ticks": "",
           "title": {
            "standoff": 15
           },
           "zerolinecolor": "white",
           "automargin": true,
           "zerolinewidth": 2
          },
          "scene": {
           "xaxis": {
            "backgroundcolor": "#E5ECF6",
            "gridcolor": "white",
            "linecolor": "white",
            "showbackground": true,
            "ticks": "",
            "zerolinecolor": "white",
            "gridwidth": 2
           },
           "yaxis": {
            "backgroundcolor": "#E5ECF6",
            "gridcolor": "white",
            "linecolor": "white",
            "showbackground": true,
            "ticks": "",
            "zerolinecolor": "white",
            "gridwidth": 2
           },
           "zaxis": {
            "backgroundcolor": "#E5ECF6",
            "gridcolor": "white",
            "linecolor": "white",
            "showbackground": true,
            "ticks": "",
            "zerolinecolor": "white",
            "gridwidth": 2
           }
          },
          "shapedefaults": {
           "line": {
            "color": "#2a3f5f"
           }
          },
          "annotationdefaults": {
           "arrowcolor": "#2a3f5f",
           "arrowhead": 0,
           "arrowwidth": 1
          },
          "geo": {
           "bgcolor": "white",
           "landcolor": "#E5ECF6",
           "subunitcolor": "white",
           "showland": true,
           "showlakes": true,
           "lakecolor": "white"
          },
          "title": {
           "x": 0.05
          },
          "mapbox": {
           "style": "light"
          }
         }
        }
       },
       "config": {
        "plotlyServerURL": "https://plot.ly"
       }
      }
     },
     "metadata": {}
    }
   ],
   "source": [
    "# Organization Type Distribution\n",
    "temp = two_columns_df[\"ORGANIZATION_TYPE\"].value_counts()\n",
    "\n",
    "trace = go.Bar(\n",
    "    x=temp.index,\n",
    "    y=(temp / temp.sum()) * 100,\n",
    "    marker=dict(\n",
    "        color=(temp / temp.sum()) * 100,\n",
    "        colorscale='Greens',\n",
    "        reversescale=True\n",
    "    ),\n",
    ")\n",
    "\n",
    "data = [trace]\n",
    "\n",
    "layout = go.Layout(\n",
    "    title=\"Top industry of the seller in %\",\n",
    "    xaxis=dict(\n",
    "        title='Industry Name',\n",
    "        tickangle=45,\n",
    "        tickfont=dict(\n",
    "            size=14,\n",
    "            color='rgb(107, 107, 107)'\n",
    "        )\n",
    "    ),\n",
    "    yaxis=dict(\n",
    "        title='Count in %',\n",
    "        titlefont=dict(\n",
    "            size=16,\n",
    "            color='rgb(107, 107, 107)'\n",
    "        ),\n",
    "        tickfont=dict(\n",
    "            size=14,\n",
    "            color='rgb(107, 107, 107)'\n",
    "        )\n",
    "    )\n",
    ")\n",
    "\n",
    "fig = go.Figure(data=data, layout=layout)\n",
    "fig.show()\n"
   ]
  },
  {
   "cell_type": "markdown",
   "id": "844ce6e2",
   "metadata": {},
   "source": [
    "#### Plotting distribution of Housing Type by sample applicants"
   ]
  },
  {
   "cell_type": "code",
   "execution_count": 29,
   "id": "a598f2d4",
   "metadata": {},
   "outputs": [
    {
     "output_type": "display_data",
     "data": {
      "text/plain": "<Figure size 640x480 with 1 Axes>",
      "image/svg+xml": "<?xml version=\"1.0\" encoding=\"utf-8\" standalone=\"no\"?>\n<!DOCTYPE svg PUBLIC \"-//W3C//DTD SVG 1.1//EN\"\n  \"http://www.w3.org/Graphics/SVG/1.1/DTD/svg11.dtd\">\n<svg xmlns:xlink=\"http://www.w3.org/1999/xlink\" width=\"424.010625pt\" height=\"419.886375pt\" viewBox=\"0 0 424.010625 419.886375\" xmlns=\"http://www.w3.org/2000/svg\" version=\"1.1\">\n <metadata>\n  <rdf:RDF xmlns:dc=\"http://purl.org/dc/elements/1.1/\" xmlns:cc=\"http://creativecommons.org/ns#\" xmlns:rdf=\"http://www.w3.org/1999/02/22-rdf-syntax-ns#\">\n   <cc:Work>\n    <dc:type rdf:resource=\"http://purl.org/dc/dcmitype/StillImage\"/>\n    <dc:date>2023-06-17T11:07:36.031845</dc:date>\n    <dc:format>image/svg+xml</dc:format>\n    <dc:creator>\n     <cc:Agent>\n      <dc:title>Matplotlib v3.5.2, https://matplotlib.org/</dc:title>\n     </cc:Agent>\n    </dc:creator>\n   </cc:Work>\n  </rdf:RDF>\n </metadata>\n <defs>\n  <style type=\"text/css\">*{stroke-linejoin: round; stroke-linecap: butt}</style>\n </defs>\n <g id=\"figure_1\">\n  <g id=\"patch_1\">\n   <path d=\"M 0 419.886375 \nL 424.010625 419.886375 \nL 424.010625 0 \nL 0 0 \nz\n\" style=\"fill: #ffffff\"/>\n  </g>\n  <g id=\"axes_1\">\n   <g id=\"patch_2\">\n    <path d=\"M 59.690625 288.430125 \nL 416.810625 288.430125 \nL 416.810625 22.318125 \nL 59.690625 22.318125 \nz\n\" style=\"fill: #ffffff\"/>\n   </g>\n   <g id=\"patch_3\">\n    <path d=\"M 74.570625 288.430125 \nL 104.330625 288.430125 \nL 104.330625 34.990125 \nL 74.570625 34.990125 \nz\n\" clip-path=\"url(#pe1f14e4ddb)\" style=\"fill: #1f77b4\"/>\n   </g>\n   <g id=\"patch_4\">\n    <path d=\"M 134.090625 288.430125 \nL 163.850625 288.430125 \nL 163.850625 275.302775 \nL 134.090625 275.302775 \nz\n\" clip-path=\"url(#pe1f14e4ddb)\" style=\"fill: #1f77b4\"/>\n   </g>\n   <g id=\"patch_5\">\n    <path d=\"M 193.610625 288.430125 \nL 223.370625 288.430125 \nL 223.370625 276.27887 \nL 193.610625 276.27887 \nz\n\" clip-path=\"url(#pe1f14e4ddb)\" style=\"fill: #1f77b4\"/>\n   </g>\n   <g id=\"patch_6\">\n    <path d=\"M 253.130625 288.430125 \nL 282.890625 288.430125 \nL 282.890625 285.476069 \nL 253.130625 285.476069 \nz\n\" clip-path=\"url(#pe1f14e4ddb)\" style=\"fill: #1f77b4\"/>\n   </g>\n   <g id=\"patch_7\">\n    <path d=\"M 312.650625 288.430125 \nL 342.410625 288.430125 \nL 342.410625 286.088141 \nL 312.650625 286.088141 \nz\n\" clip-path=\"url(#pe1f14e4ddb)\" style=\"fill: #1f77b4\"/>\n   </g>\n   <g id=\"patch_8\">\n    <path d=\"M 372.170625 288.430125 \nL 401.930625 288.430125 \nL 401.930625 287.325173 \nL 372.170625 287.325173 \nz\n\" clip-path=\"url(#pe1f14e4ddb)\" style=\"fill: #1f77b4\"/>\n   </g>\n   <g id=\"matplotlib.axis_1\">\n    <g id=\"xtick_1\">\n     <g id=\"line2d_1\">\n      <defs>\n       <path id=\"m9b6af8dad1\" d=\"M 0 0 \nL 0 3.5 \n\" style=\"stroke: #000000; stroke-width: 0.8\"/>\n      </defs>\n      <g>\n       <use xlink:href=\"#m9b6af8dad1\" x=\"89.450625\" y=\"288.430125\" style=\"stroke: #000000; stroke-width: 0.8\"/>\n      </g>\n     </g>\n     <g id=\"text_1\">\n      <!-- House / apartment -->\n      <g transform=\"translate(92.21 389.281687)rotate(-90)scale(0.1 -0.1)\">\n       <defs>\n        <path id=\"DejaVuSans-48\" d=\"M 628 4666 \nL 1259 4666 \nL 1259 2753 \nL 3553 2753 \nL 3553 4666 \nL 4184 4666 \nL 4184 0 \nL 3553 0 \nL 3553 2222 \nL 1259 2222 \nL 1259 0 \nL 628 0 \nL 628 4666 \nz\n\" transform=\"scale(0.015625)\"/>\n        <path id=\"DejaVuSans-6f\" d=\"M 1959 3097 \nQ 1497 3097 1228 2736 \nQ 959 2375 959 1747 \nQ 959 1119 1226 758 \nQ 1494 397 1959 397 \nQ 2419 397 2687 759 \nQ 2956 1122 2956 1747 \nQ 2956 2369 2687 2733 \nQ 2419 3097 1959 3097 \nz\nM 1959 3584 \nQ 2709 3584 3137 3096 \nQ 3566 2609 3566 1747 \nQ 3566 888 3137 398 \nQ 2709 -91 1959 -91 \nQ 1206 -91 779 398 \nQ 353 888 353 1747 \nQ 353 2609 779 3096 \nQ 1206 3584 1959 3584 \nz\n\" transform=\"scale(0.015625)\"/>\n        <path id=\"DejaVuSans-75\" d=\"M 544 1381 \nL 544 3500 \nL 1119 3500 \nL 1119 1403 \nQ 1119 906 1312 657 \nQ 1506 409 1894 409 \nQ 2359 409 2629 706 \nQ 2900 1003 2900 1516 \nL 2900 3500 \nL 3475 3500 \nL 3475 0 \nL 2900 0 \nL 2900 538 \nQ 2691 219 2414 64 \nQ 2138 -91 1772 -91 \nQ 1169 -91 856 284 \nQ 544 659 544 1381 \nz\nM 1991 3584 \nL 1991 3584 \nz\n\" transform=\"scale(0.015625)\"/>\n        <path id=\"DejaVuSans-73\" d=\"M 2834 3397 \nL 2834 2853 \nQ 2591 2978 2328 3040 \nQ 2066 3103 1784 3103 \nQ 1356 3103 1142 2972 \nQ 928 2841 928 2578 \nQ 928 2378 1081 2264 \nQ 1234 2150 1697 2047 \nL 1894 2003 \nQ 2506 1872 2764 1633 \nQ 3022 1394 3022 966 \nQ 3022 478 2636 193 \nQ 2250 -91 1575 -91 \nQ 1294 -91 989 -36 \nQ 684 19 347 128 \nL 347 722 \nQ 666 556 975 473 \nQ 1284 391 1588 391 \nQ 1994 391 2212 530 \nQ 2431 669 2431 922 \nQ 2431 1156 2273 1281 \nQ 2116 1406 1581 1522 \nL 1381 1569 \nQ 847 1681 609 1914 \nQ 372 2147 372 2553 \nQ 372 3047 722 3315 \nQ 1072 3584 1716 3584 \nQ 2034 3584 2315 3537 \nQ 2597 3491 2834 3397 \nz\n\" transform=\"scale(0.015625)\"/>\n        <path id=\"DejaVuSans-65\" d=\"M 3597 1894 \nL 3597 1613 \nL 953 1613 \nQ 991 1019 1311 708 \nQ 1631 397 2203 397 \nQ 2534 397 2845 478 \nQ 3156 559 3463 722 \nL 3463 178 \nQ 3153 47 2828 -22 \nQ 2503 -91 2169 -91 \nQ 1331 -91 842 396 \nQ 353 884 353 1716 \nQ 353 2575 817 3079 \nQ 1281 3584 2069 3584 \nQ 2775 3584 3186 3129 \nQ 3597 2675 3597 1894 \nz\nM 3022 2063 \nQ 3016 2534 2758 2815 \nQ 2500 3097 2075 3097 \nQ 1594 3097 1305 2825 \nQ 1016 2553 972 2059 \nL 3022 2063 \nz\n\" transform=\"scale(0.015625)\"/>\n        <path id=\"DejaVuSans-20\" transform=\"scale(0.015625)\"/>\n        <path id=\"DejaVuSans-2f\" d=\"M 1625 4666 \nL 2156 4666 \nL 531 -594 \nL 0 -594 \nL 1625 4666 \nz\n\" transform=\"scale(0.015625)\"/>\n        <path id=\"DejaVuSans-61\" d=\"M 2194 1759 \nQ 1497 1759 1228 1600 \nQ 959 1441 959 1056 \nQ 959 750 1161 570 \nQ 1363 391 1709 391 \nQ 2188 391 2477 730 \nQ 2766 1069 2766 1631 \nL 2766 1759 \nL 2194 1759 \nz\nM 3341 1997 \nL 3341 0 \nL 2766 0 \nL 2766 531 \nQ 2569 213 2275 61 \nQ 1981 -91 1556 -91 \nQ 1019 -91 701 211 \nQ 384 513 384 1019 \nQ 384 1609 779 1909 \nQ 1175 2209 1959 2209 \nL 2766 2209 \nL 2766 2266 \nQ 2766 2663 2505 2880 \nQ 2244 3097 1772 3097 \nQ 1472 3097 1187 3025 \nQ 903 2953 641 2809 \nL 641 3341 \nQ 956 3463 1253 3523 \nQ 1550 3584 1831 3584 \nQ 2591 3584 2966 3190 \nQ 3341 2797 3341 1997 \nz\n\" transform=\"scale(0.015625)\"/>\n        <path id=\"DejaVuSans-70\" d=\"M 1159 525 \nL 1159 -1331 \nL 581 -1331 \nL 581 3500 \nL 1159 3500 \nL 1159 2969 \nQ 1341 3281 1617 3432 \nQ 1894 3584 2278 3584 \nQ 2916 3584 3314 3078 \nQ 3713 2572 3713 1747 \nQ 3713 922 3314 415 \nQ 2916 -91 2278 -91 \nQ 1894 -91 1617 61 \nQ 1341 213 1159 525 \nz\nM 3116 1747 \nQ 3116 2381 2855 2742 \nQ 2594 3103 2138 3103 \nQ 1681 3103 1420 2742 \nQ 1159 2381 1159 1747 \nQ 1159 1113 1420 752 \nQ 1681 391 2138 391 \nQ 2594 391 2855 752 \nQ 3116 1113 3116 1747 \nz\n\" transform=\"scale(0.015625)\"/>\n        <path id=\"DejaVuSans-72\" d=\"M 2631 2963 \nQ 2534 3019 2420 3045 \nQ 2306 3072 2169 3072 \nQ 1681 3072 1420 2755 \nQ 1159 2438 1159 1844 \nL 1159 0 \nL 581 0 \nL 581 3500 \nL 1159 3500 \nL 1159 2956 \nQ 1341 3275 1631 3429 \nQ 1922 3584 2338 3584 \nQ 2397 3584 2469 3576 \nQ 2541 3569 2628 3553 \nL 2631 2963 \nz\n\" transform=\"scale(0.015625)\"/>\n        <path id=\"DejaVuSans-74\" d=\"M 1172 4494 \nL 1172 3500 \nL 2356 3500 \nL 2356 3053 \nL 1172 3053 \nL 1172 1153 \nQ 1172 725 1289 603 \nQ 1406 481 1766 481 \nL 2356 481 \nL 2356 0 \nL 1766 0 \nQ 1100 0 847 248 \nQ 594 497 594 1153 \nL 594 3053 \nL 172 3053 \nL 172 3500 \nL 594 3500 \nL 594 4494 \nL 1172 4494 \nz\n\" transform=\"scale(0.015625)\"/>\n        <path id=\"DejaVuSans-6d\" d=\"M 3328 2828 \nQ 3544 3216 3844 3400 \nQ 4144 3584 4550 3584 \nQ 5097 3584 5394 3201 \nQ 5691 2819 5691 2113 \nL 5691 0 \nL 5113 0 \nL 5113 2094 \nQ 5113 2597 4934 2840 \nQ 4756 3084 4391 3084 \nQ 3944 3084 3684 2787 \nQ 3425 2491 3425 1978 \nL 3425 0 \nL 2847 0 \nL 2847 2094 \nQ 2847 2600 2669 2842 \nQ 2491 3084 2119 3084 \nQ 1678 3084 1418 2786 \nQ 1159 2488 1159 1978 \nL 1159 0 \nL 581 0 \nL 581 3500 \nL 1159 3500 \nL 1159 2956 \nQ 1356 3278 1631 3431 \nQ 1906 3584 2284 3584 \nQ 2666 3584 2933 3390 \nQ 3200 3197 3328 2828 \nz\n\" transform=\"scale(0.015625)\"/>\n        <path id=\"DejaVuSans-6e\" d=\"M 3513 2113 \nL 3513 0 \nL 2938 0 \nL 2938 2094 \nQ 2938 2591 2744 2837 \nQ 2550 3084 2163 3084 \nQ 1697 3084 1428 2787 \nQ 1159 2491 1159 1978 \nL 1159 0 \nL 581 0 \nL 581 3500 \nL 1159 3500 \nL 1159 2956 \nQ 1366 3272 1645 3428 \nQ 1925 3584 2291 3584 \nQ 2894 3584 3203 3211 \nQ 3513 2838 3513 2113 \nz\n\" transform=\"scale(0.015625)\"/>\n       </defs>\n       <use xlink:href=\"#DejaVuSans-48\"/>\n       <use xlink:href=\"#DejaVuSans-6f\" x=\"75.195312\"/>\n       <use xlink:href=\"#DejaVuSans-75\" x=\"136.376953\"/>\n       <use xlink:href=\"#DejaVuSans-73\" x=\"199.755859\"/>\n       <use xlink:href=\"#DejaVuSans-65\" x=\"251.855469\"/>\n       <use xlink:href=\"#DejaVuSans-20\" x=\"313.378906\"/>\n       <use xlink:href=\"#DejaVuSans-2f\" x=\"345.166016\"/>\n       <use xlink:href=\"#DejaVuSans-20\" x=\"378.857422\"/>\n       <use xlink:href=\"#DejaVuSans-61\" x=\"410.644531\"/>\n       <use xlink:href=\"#DejaVuSans-70\" x=\"471.923828\"/>\n       <use xlink:href=\"#DejaVuSans-61\" x=\"535.400391\"/>\n       <use xlink:href=\"#DejaVuSans-72\" x=\"596.679688\"/>\n       <use xlink:href=\"#DejaVuSans-74\" x=\"637.792969\"/>\n       <use xlink:href=\"#DejaVuSans-6d\" x=\"677.001953\"/>\n       <use xlink:href=\"#DejaVuSans-65\" x=\"774.414062\"/>\n       <use xlink:href=\"#DejaVuSans-6e\" x=\"835.9375\"/>\n       <use xlink:href=\"#DejaVuSans-74\" x=\"899.316406\"/>\n      </g>\n     </g>\n    </g>\n    <g id=\"xtick_2\">\n     <g id=\"line2d_2\">\n      <g>\n       <use xlink:href=\"#m9b6af8dad1\" x=\"148.970625\" y=\"288.430125\" style=\"stroke: #000000; stroke-width: 0.8\"/>\n      </g>\n     </g>\n     <g id=\"text_2\">\n      <!-- Municipal apartment -->\n      <g transform=\"translate(151.73 399.00825)rotate(-90)scale(0.1 -0.1)\">\n       <defs>\n        <path id=\"DejaVuSans-4d\" d=\"M 628 4666 \nL 1569 4666 \nL 2759 1491 \nL 3956 4666 \nL 4897 4666 \nL 4897 0 \nL 4281 0 \nL 4281 4097 \nL 3078 897 \nL 2444 897 \nL 1241 4097 \nL 1241 0 \nL 628 0 \nL 628 4666 \nz\n\" transform=\"scale(0.015625)\"/>\n        <path id=\"DejaVuSans-69\" d=\"M 603 3500 \nL 1178 3500 \nL 1178 0 \nL 603 0 \nL 603 3500 \nz\nM 603 4863 \nL 1178 4863 \nL 1178 4134 \nL 603 4134 \nL 603 4863 \nz\n\" transform=\"scale(0.015625)\"/>\n        <path id=\"DejaVuSans-63\" d=\"M 3122 3366 \nL 3122 2828 \nQ 2878 2963 2633 3030 \nQ 2388 3097 2138 3097 \nQ 1578 3097 1268 2742 \nQ 959 2388 959 1747 \nQ 959 1106 1268 751 \nQ 1578 397 2138 397 \nQ 2388 397 2633 464 \nQ 2878 531 3122 666 \nL 3122 134 \nQ 2881 22 2623 -34 \nQ 2366 -91 2075 -91 \nQ 1284 -91 818 406 \nQ 353 903 353 1747 \nQ 353 2603 823 3093 \nQ 1294 3584 2113 3584 \nQ 2378 3584 2631 3529 \nQ 2884 3475 3122 3366 \nz\n\" transform=\"scale(0.015625)\"/>\n        <path id=\"DejaVuSans-6c\" d=\"M 603 4863 \nL 1178 4863 \nL 1178 0 \nL 603 0 \nL 603 4863 \nz\n\" transform=\"scale(0.015625)\"/>\n       </defs>\n       <use xlink:href=\"#DejaVuSans-4d\"/>\n       <use xlink:href=\"#DejaVuSans-75\" x=\"86.279297\"/>\n       <use xlink:href=\"#DejaVuSans-6e\" x=\"149.658203\"/>\n       <use xlink:href=\"#DejaVuSans-69\" x=\"213.037109\"/>\n       <use xlink:href=\"#DejaVuSans-63\" x=\"240.820312\"/>\n       <use xlink:href=\"#DejaVuSans-69\" x=\"295.800781\"/>\n       <use xlink:href=\"#DejaVuSans-70\" x=\"323.583984\"/>\n       <use xlink:href=\"#DejaVuSans-61\" x=\"387.060547\"/>\n       <use xlink:href=\"#DejaVuSans-6c\" x=\"448.339844\"/>\n       <use xlink:href=\"#DejaVuSans-20\" x=\"476.123047\"/>\n       <use xlink:href=\"#DejaVuSans-61\" x=\"507.910156\"/>\n       <use xlink:href=\"#DejaVuSans-70\" x=\"569.189453\"/>\n       <use xlink:href=\"#DejaVuSans-61\" x=\"632.666016\"/>\n       <use xlink:href=\"#DejaVuSans-72\" x=\"693.945312\"/>\n       <use xlink:href=\"#DejaVuSans-74\" x=\"735.058594\"/>\n       <use xlink:href=\"#DejaVuSans-6d\" x=\"774.267578\"/>\n       <use xlink:href=\"#DejaVuSans-65\" x=\"871.679688\"/>\n       <use xlink:href=\"#DejaVuSans-6e\" x=\"933.203125\"/>\n       <use xlink:href=\"#DejaVuSans-74\" x=\"996.582031\"/>\n      </g>\n     </g>\n    </g>\n    <g id=\"xtick_3\">\n     <g id=\"line2d_3\">\n      <g>\n       <use xlink:href=\"#m9b6af8dad1\" x=\"208.490625\" y=\"288.430125\" style=\"stroke: #000000; stroke-width: 0.8\"/>\n      </g>\n     </g>\n     <g id=\"text_3\">\n      <!-- With parents -->\n      <g transform=\"translate(211.25 359.2895)rotate(-90)scale(0.1 -0.1)\">\n       <defs>\n        <path id=\"DejaVuSans-57\" d=\"M 213 4666 \nL 850 4666 \nL 1831 722 \nL 2809 4666 \nL 3519 4666 \nL 4500 722 \nL 5478 4666 \nL 6119 4666 \nL 4947 0 \nL 4153 0 \nL 3169 4050 \nL 2175 0 \nL 1381 0 \nL 213 4666 \nz\n\" transform=\"scale(0.015625)\"/>\n        <path id=\"DejaVuSans-68\" d=\"M 3513 2113 \nL 3513 0 \nL 2938 0 \nL 2938 2094 \nQ 2938 2591 2744 2837 \nQ 2550 3084 2163 3084 \nQ 1697 3084 1428 2787 \nQ 1159 2491 1159 1978 \nL 1159 0 \nL 581 0 \nL 581 4863 \nL 1159 4863 \nL 1159 2956 \nQ 1366 3272 1645 3428 \nQ 1925 3584 2291 3584 \nQ 2894 3584 3203 3211 \nQ 3513 2838 3513 2113 \nz\n\" transform=\"scale(0.015625)\"/>\n       </defs>\n       <use xlink:href=\"#DejaVuSans-57\"/>\n       <use xlink:href=\"#DejaVuSans-69\" x=\"96.626953\"/>\n       <use xlink:href=\"#DejaVuSans-74\" x=\"124.410156\"/>\n       <use xlink:href=\"#DejaVuSans-68\" x=\"163.619141\"/>\n       <use xlink:href=\"#DejaVuSans-20\" x=\"226.998047\"/>\n       <use xlink:href=\"#DejaVuSans-70\" x=\"258.785156\"/>\n       <use xlink:href=\"#DejaVuSans-61\" x=\"322.261719\"/>\n       <use xlink:href=\"#DejaVuSans-72\" x=\"383.541016\"/>\n       <use xlink:href=\"#DejaVuSans-65\" x=\"422.404297\"/>\n       <use xlink:href=\"#DejaVuSans-6e\" x=\"483.927734\"/>\n       <use xlink:href=\"#DejaVuSans-74\" x=\"547.306641\"/>\n       <use xlink:href=\"#DejaVuSans-73\" x=\"586.515625\"/>\n      </g>\n     </g>\n    </g>\n    <g id=\"xtick_4\">\n     <g id=\"line2d_4\">\n      <g>\n       <use xlink:href=\"#m9b6af8dad1\" x=\"268.010625\" y=\"288.430125\" style=\"stroke: #000000; stroke-width: 0.8\"/>\n      </g>\n     </g>\n     <g id=\"text_4\">\n      <!-- Rented apartment -->\n      <g transform=\"translate(270.77 386.806687)rotate(-90)scale(0.1 -0.1)\">\n       <defs>\n        <path id=\"DejaVuSans-52\" d=\"M 2841 2188 \nQ 3044 2119 3236 1894 \nQ 3428 1669 3622 1275 \nL 4263 0 \nL 3584 0 \nL 2988 1197 \nQ 2756 1666 2539 1819 \nQ 2322 1972 1947 1972 \nL 1259 1972 \nL 1259 0 \nL 628 0 \nL 628 4666 \nL 2053 4666 \nQ 2853 4666 3247 4331 \nQ 3641 3997 3641 3322 \nQ 3641 2881 3436 2590 \nQ 3231 2300 2841 2188 \nz\nM 1259 4147 \nL 1259 2491 \nL 2053 2491 \nQ 2509 2491 2742 2702 \nQ 2975 2913 2975 3322 \nQ 2975 3731 2742 3939 \nQ 2509 4147 2053 4147 \nL 1259 4147 \nz\n\" transform=\"scale(0.015625)\"/>\n        <path id=\"DejaVuSans-64\" d=\"M 2906 2969 \nL 2906 4863 \nL 3481 4863 \nL 3481 0 \nL 2906 0 \nL 2906 525 \nQ 2725 213 2448 61 \nQ 2172 -91 1784 -91 \nQ 1150 -91 751 415 \nQ 353 922 353 1747 \nQ 353 2572 751 3078 \nQ 1150 3584 1784 3584 \nQ 2172 3584 2448 3432 \nQ 2725 3281 2906 2969 \nz\nM 947 1747 \nQ 947 1113 1208 752 \nQ 1469 391 1925 391 \nQ 2381 391 2643 752 \nQ 2906 1113 2906 1747 \nQ 2906 2381 2643 2742 \nQ 2381 3103 1925 3103 \nQ 1469 3103 1208 2742 \nQ 947 2381 947 1747 \nz\n\" transform=\"scale(0.015625)\"/>\n       </defs>\n       <use xlink:href=\"#DejaVuSans-52\"/>\n       <use xlink:href=\"#DejaVuSans-65\" x=\"64.982422\"/>\n       <use xlink:href=\"#DejaVuSans-6e\" x=\"126.505859\"/>\n       <use xlink:href=\"#DejaVuSans-74\" x=\"189.884766\"/>\n       <use xlink:href=\"#DejaVuSans-65\" x=\"229.09375\"/>\n       <use xlink:href=\"#DejaVuSans-64\" x=\"290.617188\"/>\n       <use xlink:href=\"#DejaVuSans-20\" x=\"354.09375\"/>\n       <use xlink:href=\"#DejaVuSans-61\" x=\"385.880859\"/>\n       <use xlink:href=\"#DejaVuSans-70\" x=\"447.160156\"/>\n       <use xlink:href=\"#DejaVuSans-61\" x=\"510.636719\"/>\n       <use xlink:href=\"#DejaVuSans-72\" x=\"571.916016\"/>\n       <use xlink:href=\"#DejaVuSans-74\" x=\"613.029297\"/>\n       <use xlink:href=\"#DejaVuSans-6d\" x=\"652.238281\"/>\n       <use xlink:href=\"#DejaVuSans-65\" x=\"749.650391\"/>\n       <use xlink:href=\"#DejaVuSans-6e\" x=\"811.173828\"/>\n       <use xlink:href=\"#DejaVuSans-74\" x=\"874.552734\"/>\n      </g>\n     </g>\n    </g>\n    <g id=\"xtick_5\">\n     <g id=\"line2d_5\">\n      <g>\n       <use xlink:href=\"#m9b6af8dad1\" x=\"327.530625\" y=\"288.430125\" style=\"stroke: #000000; stroke-width: 0.8\"/>\n      </g>\n     </g>\n     <g id=\"text_5\">\n      <!-- Office apartment -->\n      <g transform=\"translate(330.29 380.737937)rotate(-90)scale(0.1 -0.1)\">\n       <defs>\n        <path id=\"DejaVuSans-4f\" d=\"M 2522 4238 \nQ 1834 4238 1429 3725 \nQ 1025 3213 1025 2328 \nQ 1025 1447 1429 934 \nQ 1834 422 2522 422 \nQ 3209 422 3611 934 \nQ 4013 1447 4013 2328 \nQ 4013 3213 3611 3725 \nQ 3209 4238 2522 4238 \nz\nM 2522 4750 \nQ 3503 4750 4090 4092 \nQ 4678 3434 4678 2328 \nQ 4678 1225 4090 567 \nQ 3503 -91 2522 -91 \nQ 1538 -91 948 565 \nQ 359 1222 359 2328 \nQ 359 3434 948 4092 \nQ 1538 4750 2522 4750 \nz\n\" transform=\"scale(0.015625)\"/>\n        <path id=\"DejaVuSans-66\" d=\"M 2375 4863 \nL 2375 4384 \nL 1825 4384 \nQ 1516 4384 1395 4259 \nQ 1275 4134 1275 3809 \nL 1275 3500 \nL 2222 3500 \nL 2222 3053 \nL 1275 3053 \nL 1275 0 \nL 697 0 \nL 697 3053 \nL 147 3053 \nL 147 3500 \nL 697 3500 \nL 697 3744 \nQ 697 4328 969 4595 \nQ 1241 4863 1831 4863 \nL 2375 4863 \nz\n\" transform=\"scale(0.015625)\"/>\n       </defs>\n       <use xlink:href=\"#DejaVuSans-4f\"/>\n       <use xlink:href=\"#DejaVuSans-66\" x=\"78.710938\"/>\n       <use xlink:href=\"#DejaVuSans-66\" x=\"113.916016\"/>\n       <use xlink:href=\"#DejaVuSans-69\" x=\"149.121094\"/>\n       <use xlink:href=\"#DejaVuSans-63\" x=\"176.904297\"/>\n       <use xlink:href=\"#DejaVuSans-65\" x=\"231.884766\"/>\n       <use xlink:href=\"#DejaVuSans-20\" x=\"293.408203\"/>\n       <use xlink:href=\"#DejaVuSans-61\" x=\"325.195312\"/>\n       <use xlink:href=\"#DejaVuSans-70\" x=\"386.474609\"/>\n       <use xlink:href=\"#DejaVuSans-61\" x=\"449.951172\"/>\n       <use xlink:href=\"#DejaVuSans-72\" x=\"511.230469\"/>\n       <use xlink:href=\"#DejaVuSans-74\" x=\"552.34375\"/>\n       <use xlink:href=\"#DejaVuSans-6d\" x=\"591.552734\"/>\n       <use xlink:href=\"#DejaVuSans-65\" x=\"688.964844\"/>\n       <use xlink:href=\"#DejaVuSans-6e\" x=\"750.488281\"/>\n       <use xlink:href=\"#DejaVuSans-74\" x=\"813.867188\"/>\n      </g>\n     </g>\n    </g>\n    <g id=\"xtick_6\">\n     <g id=\"line2d_6\">\n      <g>\n       <use xlink:href=\"#m9b6af8dad1\" x=\"387.050625\" y=\"288.430125\" style=\"stroke: #000000; stroke-width: 0.8\"/>\n      </g>\n     </g>\n     <g id=\"text_6\">\n      <!-- Co-op apartment -->\n      <g transform=\"translate(389.81 380.947312)rotate(-90)scale(0.1 -0.1)\">\n       <defs>\n        <path id=\"DejaVuSans-43\" d=\"M 4122 4306 \nL 4122 3641 \nQ 3803 3938 3442 4084 \nQ 3081 4231 2675 4231 \nQ 1875 4231 1450 3742 \nQ 1025 3253 1025 2328 \nQ 1025 1406 1450 917 \nQ 1875 428 2675 428 \nQ 3081 428 3442 575 \nQ 3803 722 4122 1019 \nL 4122 359 \nQ 3791 134 3420 21 \nQ 3050 -91 2638 -91 \nQ 1578 -91 968 557 \nQ 359 1206 359 2328 \nQ 359 3453 968 4101 \nQ 1578 4750 2638 4750 \nQ 3056 4750 3426 4639 \nQ 3797 4528 4122 4306 \nz\n\" transform=\"scale(0.015625)\"/>\n        <path id=\"DejaVuSans-2d\" d=\"M 313 2009 \nL 1997 2009 \nL 1997 1497 \nL 313 1497 \nL 313 2009 \nz\n\" transform=\"scale(0.015625)\"/>\n       </defs>\n       <use xlink:href=\"#DejaVuSans-43\"/>\n       <use xlink:href=\"#DejaVuSans-6f\" x=\"69.824219\"/>\n       <use xlink:href=\"#DejaVuSans-2d\" x=\"132.880859\"/>\n       <use xlink:href=\"#DejaVuSans-6f\" x=\"170.839844\"/>\n       <use xlink:href=\"#DejaVuSans-70\" x=\"232.021484\"/>\n       <use xlink:href=\"#DejaVuSans-20\" x=\"295.498047\"/>\n       <use xlink:href=\"#DejaVuSans-61\" x=\"327.285156\"/>\n       <use xlink:href=\"#DejaVuSans-70\" x=\"388.564453\"/>\n       <use xlink:href=\"#DejaVuSans-61\" x=\"452.041016\"/>\n       <use xlink:href=\"#DejaVuSans-72\" x=\"513.320312\"/>\n       <use xlink:href=\"#DejaVuSans-74\" x=\"554.433594\"/>\n       <use xlink:href=\"#DejaVuSans-6d\" x=\"593.642578\"/>\n       <use xlink:href=\"#DejaVuSans-65\" x=\"691.054688\"/>\n       <use xlink:href=\"#DejaVuSans-6e\" x=\"752.578125\"/>\n       <use xlink:href=\"#DejaVuSans-74\" x=\"815.957031\"/>\n      </g>\n     </g>\n    </g>\n    <g id=\"text_7\">\n     <!-- Housing Type -->\n     <g transform=\"translate(204.85375 410.606687)scale(0.1 -0.1)\">\n      <defs>\n       <path id=\"DejaVuSans-67\" d=\"M 2906 1791 \nQ 2906 2416 2648 2759 \nQ 2391 3103 1925 3103 \nQ 1463 3103 1205 2759 \nQ 947 2416 947 1791 \nQ 947 1169 1205 825 \nQ 1463 481 1925 481 \nQ 2391 481 2648 825 \nQ 2906 1169 2906 1791 \nz\nM 3481 434 \nQ 3481 -459 3084 -895 \nQ 2688 -1331 1869 -1331 \nQ 1566 -1331 1297 -1286 \nQ 1028 -1241 775 -1147 \nL 775 -588 \nQ 1028 -725 1275 -790 \nQ 1522 -856 1778 -856 \nQ 2344 -856 2625 -561 \nQ 2906 -266 2906 331 \nL 2906 616 \nQ 2728 306 2450 153 \nQ 2172 0 1784 0 \nQ 1141 0 747 490 \nQ 353 981 353 1791 \nQ 353 2603 747 3093 \nQ 1141 3584 1784 3584 \nQ 2172 3584 2450 3431 \nQ 2728 3278 2906 2969 \nL 2906 3500 \nL 3481 3500 \nL 3481 434 \nz\n\" transform=\"scale(0.015625)\"/>\n       <path id=\"DejaVuSans-54\" d=\"M -19 4666 \nL 3928 4666 \nL 3928 4134 \nL 2272 4134 \nL 2272 0 \nL 1638 0 \nL 1638 4134 \nL -19 4134 \nL -19 4666 \nz\n\" transform=\"scale(0.015625)\"/>\n       <path id=\"DejaVuSans-79\" d=\"M 2059 -325 \nQ 1816 -950 1584 -1140 \nQ 1353 -1331 966 -1331 \nL 506 -1331 \nL 506 -850 \nL 844 -850 \nQ 1081 -850 1212 -737 \nQ 1344 -625 1503 -206 \nL 1606 56 \nL 191 3500 \nL 800 3500 \nL 1894 763 \nL 2988 3500 \nL 3597 3500 \nL 2059 -325 \nz\n\" transform=\"scale(0.015625)\"/>\n      </defs>\n      <use xlink:href=\"#DejaVuSans-48\"/>\n      <use xlink:href=\"#DejaVuSans-6f\" x=\"75.195312\"/>\n      <use xlink:href=\"#DejaVuSans-75\" x=\"136.376953\"/>\n      <use xlink:href=\"#DejaVuSans-73\" x=\"199.755859\"/>\n      <use xlink:href=\"#DejaVuSans-69\" x=\"251.855469\"/>\n      <use xlink:href=\"#DejaVuSans-6e\" x=\"279.638672\"/>\n      <use xlink:href=\"#DejaVuSans-67\" x=\"343.017578\"/>\n      <use xlink:href=\"#DejaVuSans-20\" x=\"406.494141\"/>\n      <use xlink:href=\"#DejaVuSans-54\" x=\"438.28125\"/>\n      <use xlink:href=\"#DejaVuSans-79\" x=\"483.740234\"/>\n      <use xlink:href=\"#DejaVuSans-70\" x=\"542.919922\"/>\n      <use xlink:href=\"#DejaVuSans-65\" x=\"606.396484\"/>\n     </g>\n    </g>\n   </g>\n   <g id=\"matplotlib.axis_2\">\n    <g id=\"ytick_1\">\n     <g id=\"line2d_7\">\n      <defs>\n       <path id=\"me44c00154f\" d=\"M 0 0 \nL -3.5 0 \n\" style=\"stroke: #000000; stroke-width: 0.8\"/>\n      </defs>\n      <g>\n       <use xlink:href=\"#me44c00154f\" x=\"59.690625\" y=\"288.430125\" style=\"stroke: #000000; stroke-width: 0.8\"/>\n      </g>\n     </g>\n     <g id=\"text_8\">\n      <!-- 0 -->\n      <g transform=\"translate(46.328125 292.229344)scale(0.1 -0.1)\">\n       <defs>\n        <path id=\"DejaVuSans-30\" d=\"M 2034 4250 \nQ 1547 4250 1301 3770 \nQ 1056 3291 1056 2328 \nQ 1056 1369 1301 889 \nQ 1547 409 2034 409 \nQ 2525 409 2770 889 \nQ 3016 1369 3016 2328 \nQ 3016 3291 2770 3770 \nQ 2525 4250 2034 4250 \nz\nM 2034 4750 \nQ 2819 4750 3233 4129 \nQ 3647 3509 3647 2328 \nQ 3647 1150 3233 529 \nQ 2819 -91 2034 -91 \nQ 1250 -91 836 529 \nQ 422 1150 422 2328 \nQ 422 3509 836 4129 \nQ 1250 4750 2034 4750 \nz\n\" transform=\"scale(0.015625)\"/>\n       </defs>\n       <use xlink:href=\"#DejaVuSans-30\"/>\n      </g>\n     </g>\n    </g>\n    <g id=\"ytick_2\">\n     <g id=\"line2d_8\">\n      <g>\n       <use xlink:href=\"#me44c00154f\" x=\"59.690625\" y=\"256.215769\" style=\"stroke: #000000; stroke-width: 0.8\"/>\n      </g>\n     </g>\n     <g id=\"text_9\">\n      <!-- 10000 -->\n      <g transform=\"translate(20.878125 260.014988)scale(0.1 -0.1)\">\n       <defs>\n        <path id=\"DejaVuSans-31\" d=\"M 794 531 \nL 1825 531 \nL 1825 4091 \nL 703 3866 \nL 703 4441 \nL 1819 4666 \nL 2450 4666 \nL 2450 531 \nL 3481 531 \nL 3481 0 \nL 794 0 \nL 794 531 \nz\n\" transform=\"scale(0.015625)\"/>\n       </defs>\n       <use xlink:href=\"#DejaVuSans-31\"/>\n       <use xlink:href=\"#DejaVuSans-30\" x=\"63.623047\"/>\n       <use xlink:href=\"#DejaVuSans-30\" x=\"127.246094\"/>\n       <use xlink:href=\"#DejaVuSans-30\" x=\"190.869141\"/>\n       <use xlink:href=\"#DejaVuSans-30\" x=\"254.492188\"/>\n      </g>\n     </g>\n    </g>\n    <g id=\"ytick_3\">\n     <g id=\"line2d_9\">\n      <g>\n       <use xlink:href=\"#me44c00154f\" x=\"59.690625\" y=\"224.001414\" style=\"stroke: #000000; stroke-width: 0.8\"/>\n      </g>\n     </g>\n     <g id=\"text_10\">\n      <!-- 20000 -->\n      <g transform=\"translate(20.878125 227.800633)scale(0.1 -0.1)\">\n       <defs>\n        <path id=\"DejaVuSans-32\" d=\"M 1228 531 \nL 3431 531 \nL 3431 0 \nL 469 0 \nL 469 531 \nQ 828 903 1448 1529 \nQ 2069 2156 2228 2338 \nQ 2531 2678 2651 2914 \nQ 2772 3150 2772 3378 \nQ 2772 3750 2511 3984 \nQ 2250 4219 1831 4219 \nQ 1534 4219 1204 4116 \nQ 875 4013 500 3803 \nL 500 4441 \nQ 881 4594 1212 4672 \nQ 1544 4750 1819 4750 \nQ 2544 4750 2975 4387 \nQ 3406 4025 3406 3419 \nQ 3406 3131 3298 2873 \nQ 3191 2616 2906 2266 \nQ 2828 2175 2409 1742 \nQ 1991 1309 1228 531 \nz\n\" transform=\"scale(0.015625)\"/>\n       </defs>\n       <use xlink:href=\"#DejaVuSans-32\"/>\n       <use xlink:href=\"#DejaVuSans-30\" x=\"63.623047\"/>\n       <use xlink:href=\"#DejaVuSans-30\" x=\"127.246094\"/>\n       <use xlink:href=\"#DejaVuSans-30\" x=\"190.869141\"/>\n       <use xlink:href=\"#DejaVuSans-30\" x=\"254.492188\"/>\n      </g>\n     </g>\n    </g>\n    <g id=\"ytick_4\">\n     <g id=\"line2d_10\">\n      <g>\n       <use xlink:href=\"#me44c00154f\" x=\"59.690625\" y=\"191.787058\" style=\"stroke: #000000; stroke-width: 0.8\"/>\n      </g>\n     </g>\n     <g id=\"text_11\">\n      <!-- 30000 -->\n      <g transform=\"translate(20.878125 195.586277)scale(0.1 -0.1)\">\n       <defs>\n        <path id=\"DejaVuSans-33\" d=\"M 2597 2516 \nQ 3050 2419 3304 2112 \nQ 3559 1806 3559 1356 \nQ 3559 666 3084 287 \nQ 2609 -91 1734 -91 \nQ 1441 -91 1130 -33 \nQ 819 25 488 141 \nL 488 750 \nQ 750 597 1062 519 \nQ 1375 441 1716 441 \nQ 2309 441 2620 675 \nQ 2931 909 2931 1356 \nQ 2931 1769 2642 2001 \nQ 2353 2234 1838 2234 \nL 1294 2234 \nL 1294 2753 \nL 1863 2753 \nQ 2328 2753 2575 2939 \nQ 2822 3125 2822 3475 \nQ 2822 3834 2567 4026 \nQ 2313 4219 1838 4219 \nQ 1578 4219 1281 4162 \nQ 984 4106 628 3988 \nL 628 4550 \nQ 988 4650 1302 4700 \nQ 1616 4750 1894 4750 \nQ 2613 4750 3031 4423 \nQ 3450 4097 3450 3541 \nQ 3450 3153 3228 2886 \nQ 3006 2619 2597 2516 \nz\n\" transform=\"scale(0.015625)\"/>\n       </defs>\n       <use xlink:href=\"#DejaVuSans-33\"/>\n       <use xlink:href=\"#DejaVuSans-30\" x=\"63.623047\"/>\n       <use xlink:href=\"#DejaVuSans-30\" x=\"127.246094\"/>\n       <use xlink:href=\"#DejaVuSans-30\" x=\"190.869141\"/>\n       <use xlink:href=\"#DejaVuSans-30\" x=\"254.492188\"/>\n      </g>\n     </g>\n    </g>\n    <g id=\"ytick_5\">\n     <g id=\"line2d_11\">\n      <g>\n       <use xlink:href=\"#me44c00154f\" x=\"59.690625\" y=\"159.572703\" style=\"stroke: #000000; stroke-width: 0.8\"/>\n      </g>\n     </g>\n     <g id=\"text_12\">\n      <!-- 40000 -->\n      <g transform=\"translate(20.878125 163.371921)scale(0.1 -0.1)\">\n       <defs>\n        <path id=\"DejaVuSans-34\" d=\"M 2419 4116 \nL 825 1625 \nL 2419 1625 \nL 2419 4116 \nz\nM 2253 4666 \nL 3047 4666 \nL 3047 1625 \nL 3713 1625 \nL 3713 1100 \nL 3047 1100 \nL 3047 0 \nL 2419 0 \nL 2419 1100 \nL 313 1100 \nL 313 1709 \nL 2253 4666 \nz\n\" transform=\"scale(0.015625)\"/>\n       </defs>\n       <use xlink:href=\"#DejaVuSans-34\"/>\n       <use xlink:href=\"#DejaVuSans-30\" x=\"63.623047\"/>\n       <use xlink:href=\"#DejaVuSans-30\" x=\"127.246094\"/>\n       <use xlink:href=\"#DejaVuSans-30\" x=\"190.869141\"/>\n       <use xlink:href=\"#DejaVuSans-30\" x=\"254.492188\"/>\n      </g>\n     </g>\n    </g>\n    <g id=\"ytick_6\">\n     <g id=\"line2d_12\">\n      <g>\n       <use xlink:href=\"#me44c00154f\" x=\"59.690625\" y=\"127.358347\" style=\"stroke: #000000; stroke-width: 0.8\"/>\n      </g>\n     </g>\n     <g id=\"text_13\">\n      <!-- 50000 -->\n      <g transform=\"translate(20.878125 131.157566)scale(0.1 -0.1)\">\n       <defs>\n        <path id=\"DejaVuSans-35\" d=\"M 691 4666 \nL 3169 4666 \nL 3169 4134 \nL 1269 4134 \nL 1269 2991 \nQ 1406 3038 1543 3061 \nQ 1681 3084 1819 3084 \nQ 2600 3084 3056 2656 \nQ 3513 2228 3513 1497 \nQ 3513 744 3044 326 \nQ 2575 -91 1722 -91 \nQ 1428 -91 1123 -41 \nQ 819 9 494 109 \nL 494 744 \nQ 775 591 1075 516 \nQ 1375 441 1709 441 \nQ 2250 441 2565 725 \nQ 2881 1009 2881 1497 \nQ 2881 1984 2565 2268 \nQ 2250 2553 1709 2553 \nQ 1456 2553 1204 2497 \nQ 953 2441 691 2322 \nL 691 4666 \nz\n\" transform=\"scale(0.015625)\"/>\n       </defs>\n       <use xlink:href=\"#DejaVuSans-35\"/>\n       <use xlink:href=\"#DejaVuSans-30\" x=\"63.623047\"/>\n       <use xlink:href=\"#DejaVuSans-30\" x=\"127.246094\"/>\n       <use xlink:href=\"#DejaVuSans-30\" x=\"190.869141\"/>\n       <use xlink:href=\"#DejaVuSans-30\" x=\"254.492188\"/>\n      </g>\n     </g>\n    </g>\n    <g id=\"ytick_7\">\n     <g id=\"line2d_13\">\n      <g>\n       <use xlink:href=\"#me44c00154f\" x=\"59.690625\" y=\"95.143991\" style=\"stroke: #000000; stroke-width: 0.8\"/>\n      </g>\n     </g>\n     <g id=\"text_14\">\n      <!-- 60000 -->\n      <g transform=\"translate(20.878125 98.94321)scale(0.1 -0.1)\">\n       <defs>\n        <path id=\"DejaVuSans-36\" d=\"M 2113 2584 \nQ 1688 2584 1439 2293 \nQ 1191 2003 1191 1497 \nQ 1191 994 1439 701 \nQ 1688 409 2113 409 \nQ 2538 409 2786 701 \nQ 3034 994 3034 1497 \nQ 3034 2003 2786 2293 \nQ 2538 2584 2113 2584 \nz\nM 3366 4563 \nL 3366 3988 \nQ 3128 4100 2886 4159 \nQ 2644 4219 2406 4219 \nQ 1781 4219 1451 3797 \nQ 1122 3375 1075 2522 \nQ 1259 2794 1537 2939 \nQ 1816 3084 2150 3084 \nQ 2853 3084 3261 2657 \nQ 3669 2231 3669 1497 \nQ 3669 778 3244 343 \nQ 2819 -91 2113 -91 \nQ 1303 -91 875 529 \nQ 447 1150 447 2328 \nQ 447 3434 972 4092 \nQ 1497 4750 2381 4750 \nQ 2619 4750 2861 4703 \nQ 3103 4656 3366 4563 \nz\n\" transform=\"scale(0.015625)\"/>\n       </defs>\n       <use xlink:href=\"#DejaVuSans-36\"/>\n       <use xlink:href=\"#DejaVuSans-30\" x=\"63.623047\"/>\n       <use xlink:href=\"#DejaVuSans-30\" x=\"127.246094\"/>\n       <use xlink:href=\"#DejaVuSans-30\" x=\"190.869141\"/>\n       <use xlink:href=\"#DejaVuSans-30\" x=\"254.492188\"/>\n      </g>\n     </g>\n    </g>\n    <g id=\"ytick_8\">\n     <g id=\"line2d_14\">\n      <g>\n       <use xlink:href=\"#me44c00154f\" x=\"59.690625\" y=\"62.929636\" style=\"stroke: #000000; stroke-width: 0.8\"/>\n      </g>\n     </g>\n     <g id=\"text_15\">\n      <!-- 70000 -->\n      <g transform=\"translate(20.878125 66.728854)scale(0.1 -0.1)\">\n       <defs>\n        <path id=\"DejaVuSans-37\" d=\"M 525 4666 \nL 3525 4666 \nL 3525 4397 \nL 1831 0 \nL 1172 0 \nL 2766 4134 \nL 525 4134 \nL 525 4666 \nz\n\" transform=\"scale(0.015625)\"/>\n       </defs>\n       <use xlink:href=\"#DejaVuSans-37\"/>\n       <use xlink:href=\"#DejaVuSans-30\" x=\"63.623047\"/>\n       <use xlink:href=\"#DejaVuSans-30\" x=\"127.246094\"/>\n       <use xlink:href=\"#DejaVuSans-30\" x=\"190.869141\"/>\n       <use xlink:href=\"#DejaVuSans-30\" x=\"254.492188\"/>\n      </g>\n     </g>\n    </g>\n    <g id=\"ytick_9\">\n     <g id=\"line2d_15\">\n      <g>\n       <use xlink:href=\"#me44c00154f\" x=\"59.690625\" y=\"30.71528\" style=\"stroke: #000000; stroke-width: 0.8\"/>\n      </g>\n     </g>\n     <g id=\"text_16\">\n      <!-- 80000 -->\n      <g transform=\"translate(20.878125 34.514499)scale(0.1 -0.1)\">\n       <defs>\n        <path id=\"DejaVuSans-38\" d=\"M 2034 2216 \nQ 1584 2216 1326 1975 \nQ 1069 1734 1069 1313 \nQ 1069 891 1326 650 \nQ 1584 409 2034 409 \nQ 2484 409 2743 651 \nQ 3003 894 3003 1313 \nQ 3003 1734 2745 1975 \nQ 2488 2216 2034 2216 \nz\nM 1403 2484 \nQ 997 2584 770 2862 \nQ 544 3141 544 3541 \nQ 544 4100 942 4425 \nQ 1341 4750 2034 4750 \nQ 2731 4750 3128 4425 \nQ 3525 4100 3525 3541 \nQ 3525 3141 3298 2862 \nQ 3072 2584 2669 2484 \nQ 3125 2378 3379 2068 \nQ 3634 1759 3634 1313 \nQ 3634 634 3220 271 \nQ 2806 -91 2034 -91 \nQ 1263 -91 848 271 \nQ 434 634 434 1313 \nQ 434 1759 690 2068 \nQ 947 2378 1403 2484 \nz\nM 1172 3481 \nQ 1172 3119 1398 2916 \nQ 1625 2713 2034 2713 \nQ 2441 2713 2670 2916 \nQ 2900 3119 2900 3481 \nQ 2900 3844 2670 4047 \nQ 2441 4250 2034 4250 \nQ 1625 4250 1398 4047 \nQ 1172 3844 1172 3481 \nz\n\" transform=\"scale(0.015625)\"/>\n       </defs>\n       <use xlink:href=\"#DejaVuSans-38\"/>\n       <use xlink:href=\"#DejaVuSans-30\" x=\"63.623047\"/>\n       <use xlink:href=\"#DejaVuSans-30\" x=\"127.246094\"/>\n       <use xlink:href=\"#DejaVuSans-30\" x=\"190.869141\"/>\n       <use xlink:href=\"#DejaVuSans-30\" x=\"254.492188\"/>\n      </g>\n     </g>\n    </g>\n    <g id=\"text_17\">\n     <!-- Count -->\n     <g transform=\"translate(14.798438 170.222562)rotate(-90)scale(0.1 -0.1)\">\n      <use xlink:href=\"#DejaVuSans-43\"/>\n      <use xlink:href=\"#DejaVuSans-6f\" x=\"69.824219\"/>\n      <use xlink:href=\"#DejaVuSans-75\" x=\"131.005859\"/>\n      <use xlink:href=\"#DejaVuSans-6e\" x=\"194.384766\"/>\n      <use xlink:href=\"#DejaVuSans-74\" x=\"257.763672\"/>\n     </g>\n    </g>\n   </g>\n   <g id=\"patch_9\">\n    <path d=\"M 59.690625 288.430125 \nL 59.690625 22.318125 \n\" style=\"fill: none; stroke: #000000; stroke-width: 0.8; stroke-linejoin: miter; stroke-linecap: square\"/>\n   </g>\n   <g id=\"patch_10\">\n    <path d=\"M 416.810625 288.430125 \nL 416.810625 22.318125 \n\" style=\"fill: none; stroke: #000000; stroke-width: 0.8; stroke-linejoin: miter; stroke-linecap: square\"/>\n   </g>\n   <g id=\"patch_11\">\n    <path d=\"M 59.690625 288.430125 \nL 416.810625 288.430125 \n\" style=\"fill: none; stroke: #000000; stroke-width: 0.8; stroke-linejoin: miter; stroke-linecap: square\"/>\n   </g>\n   <g id=\"patch_12\">\n    <path d=\"M 59.690625 22.318125 \nL 416.810625 22.318125 \n\" style=\"fill: none; stroke: #000000; stroke-width: 0.8; stroke-linejoin: miter; stroke-linecap: square\"/>\n   </g>\n   <g id=\"text_18\">\n    <!-- 78673 -->\n    <g transform=\"translate(73.544375 32.910437)scale(0.1 -0.1)\">\n     <use xlink:href=\"#DejaVuSans-37\"/>\n     <use xlink:href=\"#DejaVuSans-38\" x=\"63.623047\"/>\n     <use xlink:href=\"#DejaVuSans-36\" x=\"127.246094\"/>\n     <use xlink:href=\"#DejaVuSans-37\" x=\"190.869141\"/>\n     <use xlink:href=\"#DejaVuSans-33\" x=\"254.492188\"/>\n    </g>\n   </g>\n   <g id=\"text_19\">\n    <!-- 4075 -->\n    <g transform=\"translate(136.245625 273.223088)scale(0.1 -0.1)\">\n     <use xlink:href=\"#DejaVuSans-34\"/>\n     <use xlink:href=\"#DejaVuSans-30\" x=\"63.623047\"/>\n     <use xlink:href=\"#DejaVuSans-37\" x=\"127.246094\"/>\n     <use xlink:href=\"#DejaVuSans-35\" x=\"190.869141\"/>\n    </g>\n   </g>\n   <g id=\"text_20\">\n    <!-- 3772 -->\n    <g transform=\"translate(195.765625 274.199183)scale(0.1 -0.1)\">\n     <use xlink:href=\"#DejaVuSans-33\"/>\n     <use xlink:href=\"#DejaVuSans-37\" x=\"63.623047\"/>\n     <use xlink:href=\"#DejaVuSans-37\" x=\"127.246094\"/>\n     <use xlink:href=\"#DejaVuSans-32\" x=\"190.869141\"/>\n    </g>\n   </g>\n   <g id=\"text_21\">\n    <!-- 917 -->\n    <g transform=\"translate(258.466875 283.396381)scale(0.1 -0.1)\">\n     <defs>\n      <path id=\"DejaVuSans-39\" d=\"M 703 97 \nL 703 672 \nQ 941 559 1184 500 \nQ 1428 441 1663 441 \nQ 2288 441 2617 861 \nQ 2947 1281 2994 2138 \nQ 2813 1869 2534 1725 \nQ 2256 1581 1919 1581 \nQ 1219 1581 811 2004 \nQ 403 2428 403 3163 \nQ 403 3881 828 4315 \nQ 1253 4750 1959 4750 \nQ 2769 4750 3195 4129 \nQ 3622 3509 3622 2328 \nQ 3622 1225 3098 567 \nQ 2575 -91 1691 -91 \nQ 1453 -91 1209 -44 \nQ 966 3 703 97 \nz\nM 1959 2075 \nQ 2384 2075 2632 2365 \nQ 2881 2656 2881 3163 \nQ 2881 3666 2632 3958 \nQ 2384 4250 1959 4250 \nQ 1534 4250 1286 3958 \nQ 1038 3666 1038 3163 \nQ 1038 2656 1286 2365 \nQ 1534 2075 1959 2075 \nz\n\" transform=\"scale(0.015625)\"/>\n     </defs>\n     <use xlink:href=\"#DejaVuSans-39\"/>\n     <use xlink:href=\"#DejaVuSans-31\" x=\"63.623047\"/>\n     <use xlink:href=\"#DejaVuSans-37\" x=\"127.246094\"/>\n    </g>\n   </g>\n   <g id=\"text_22\">\n    <!-- 727 -->\n    <g transform=\"translate(317.986875 284.008454)scale(0.1 -0.1)\">\n     <use xlink:href=\"#DejaVuSans-37\"/>\n     <use xlink:href=\"#DejaVuSans-32\" x=\"63.623047\"/>\n     <use xlink:href=\"#DejaVuSans-37\" x=\"127.246094\"/>\n    </g>\n   </g>\n   <g id=\"text_23\">\n    <!-- 343 -->\n    <g transform=\"translate(377.506875 285.245485)scale(0.1 -0.1)\">\n     <use xlink:href=\"#DejaVuSans-33\"/>\n     <use xlink:href=\"#DejaVuSans-34\" x=\"63.623047\"/>\n     <use xlink:href=\"#DejaVuSans-33\" x=\"127.246094\"/>\n    </g>\n   </g>\n   <g id=\"text_24\">\n    <!-- Count of Housing Types -->\n    <g transform=\"translate(167.633438 16.318125)scale(0.12 -0.12)\">\n     <use xlink:href=\"#DejaVuSans-43\"/>\n     <use xlink:href=\"#DejaVuSans-6f\" x=\"69.824219\"/>\n     <use xlink:href=\"#DejaVuSans-75\" x=\"131.005859\"/>\n     <use xlink:href=\"#DejaVuSans-6e\" x=\"194.384766\"/>\n     <use xlink:href=\"#DejaVuSans-74\" x=\"257.763672\"/>\n     <use xlink:href=\"#DejaVuSans-20\" x=\"296.972656\"/>\n     <use xlink:href=\"#DejaVuSans-6f\" x=\"328.759766\"/>\n     <use xlink:href=\"#DejaVuSans-66\" x=\"389.941406\"/>\n     <use xlink:href=\"#DejaVuSans-20\" x=\"425.146484\"/>\n     <use xlink:href=\"#DejaVuSans-48\" x=\"456.933594\"/>\n     <use xlink:href=\"#DejaVuSans-6f\" x=\"532.128906\"/>\n     <use xlink:href=\"#DejaVuSans-75\" x=\"593.310547\"/>\n     <use xlink:href=\"#DejaVuSans-73\" x=\"656.689453\"/>\n     <use xlink:href=\"#DejaVuSans-69\" x=\"708.789062\"/>\n     <use xlink:href=\"#DejaVuSans-6e\" x=\"736.572266\"/>\n     <use xlink:href=\"#DejaVuSans-67\" x=\"799.951172\"/>\n     <use xlink:href=\"#DejaVuSans-20\" x=\"863.427734\"/>\n     <use xlink:href=\"#DejaVuSans-54\" x=\"895.214844\"/>\n     <use xlink:href=\"#DejaVuSans-79\" x=\"940.673828\"/>\n     <use xlink:href=\"#DejaVuSans-70\" x=\"999.853516\"/>\n     <use xlink:href=\"#DejaVuSans-65\" x=\"1063.330078\"/>\n     <use xlink:href=\"#DejaVuSans-73\" x=\"1124.853516\"/>\n    </g>\n   </g>\n  </g>\n </g>\n <defs>\n  <clipPath id=\"pe1f14e4ddb\">\n   <rect x=\"59.690625\" y=\"22.318125\" width=\"357.12\" height=\"266.112\"/>\n  </clipPath>\n </defs>\n</svg>\n",
      "image/png": "[encoded data removed]"
     },
     "metadata": {}
    }
   ],
   "source": [
    "# Housing type distribution\n",
    "housing_type_counts = two_columns_df['NAME_HOUSING_TYPE'].value_counts()\n",
    "ax = housing_type_counts.plot(kind='bar')\n",
    "plt.title('Count of Housing Types')\n",
    "plt.xlabel('Housing Type')\n",
    "plt.ylabel('Count')\n",
    "for p in ax.patches:\n",
    "    ax.annotate(str(p.get_height()), (p.get_x() + p.get_width() / 2, p.get_height()), ha='center', va='bottom')\n",
    "plt.show()"
   ]
  },
  {
   "cell_type": "code",
   "execution_count": 16,
   "metadata": {},
   "outputs": [
    {
     "output_type": "display_data",
     "data": {
      "text/plain": "<Figure size 1200x600 with 1 Axes>",
      "image/svg+xml": "<?xml version=\"1.0\" encoding=\"utf-8\" standalone=\"no\"?>\n<!DOCTYPE svg PUBLIC \"-//W3C//DTD SVG 1.1//EN\"\n  \"http://www.w3.org/Graphics/SVG/1.1/DTD/svg11.dtd\">\n<svg xmlns:xlink=\"http://www.w3.org/1999/xlink\" width=\"736.490625pt\" height=\"463.953551pt\" viewBox=\"0 0 736.490625 463.953551\" xmlns=\"http://www.w3.org/2000/svg\" version=\"1.1\">\n <metadata>\n  <rdf:RDF xmlns:dc=\"http://purl.org/dc/elements/1.1/\" xmlns:cc=\"http://creativecommons.org/ns#\" xmlns:rdf=\"http://www.w3.org/1999/02/22-rdf-syntax-ns#\">\n   <cc:Work>\n    <dc:type rdf:resource=\"http://purl.org/dc/dcmitype/StillImage\"/>\n    <dc:date>2023-06-17T14:28:59.809180</dc:date>\n    <dc:format>image/svg+xml</dc:format>\n    <dc:creator>\n     <cc:Agent>\n      <dc:title>Matplotlib v3.5.2, https://matplotlib.org/</dc:title>\n     </cc:Agent>\n    </dc:creator>\n   </cc:Work>\n  </rdf:RDF>\n </metadata>\n <defs>\n  <style type=\"text/css\">*{stroke-linejoin: round; stroke-linecap: butt}</style>\n </defs>\n <g id=\"figure_1\">\n  <g id=\"patch_1\">\n   <path d=\"M 0 463.953551 \nL 736.490625 463.953551 \nL 736.490625 0 \nL 0 0 \nz\n\" style=\"fill: #ffffff\"/>\n  </g>\n  <g id=\"axes_1\">\n   <g id=\"patch_2\">\n    <path d=\"M 59.690625 354.958125 \nL 729.290625 354.958125 \nL 729.290625 22.318125 \nL 59.690625 22.318125 \nz\n\" style=\"fill: #ffffff\"/>\n   </g>\n   <g id=\"patch_3\">\n    <path d=\"M 63.410625 354.958125 \nL 93.170625 354.958125 \nL 93.170625 38.158125 \nL 63.410625 38.158125 \nz\n\" clip-path=\"url(#p4bf71c10b9)\" style=\"fill: #ea96a3\"/>\n   </g>\n   <g id=\"patch_4\">\n    <path d=\"M 100.610625 354.958125 \nL 130.370625 354.958125 \nL 130.370625 196.690158 \nL 100.610625 196.690158 \nz\n\" clip-path=\"url(#p4bf71c10b9)\" style=\"fill: #e7957e\"/>\n   </g>\n   <g id=\"patch_5\">\n    <path d=\"M 137.810625 354.958125 \nL 167.570625 354.958125 \nL 167.570625 298.625751 \nL 137.810625 298.625751 \nz\n\" clip-path=\"url(#p4bf71c10b9)\" style=\"fill: #d1964d\"/>\n   </g>\n   <g id=\"patch_6\">\n    <path d=\"M 175.010625 354.958125 \nL 204.770625 354.958125 \nL 204.770625 232.276053 \nL 175.010625 232.276053 \nz\n\" clip-path=\"url(#p4bf71c10b9)\" style=\"fill: #b89c49\"/>\n   </g>\n   <g id=\"patch_7\">\n    <path d=\"M 212.210625 354.958125 \nL 241.970625 354.958125 \nL 241.970625 248.165997 \nL 212.210625 248.165997 \nz\n\" clip-path=\"url(#p4bf71c10b9)\" style=\"fill: #a29f46\"/>\n   </g>\n   <g id=\"patch_8\">\n    <path d=\"M 249.410625 354.958125 \nL 279.170625 354.958125 \nL 279.170625 170.673821 \nL 249.410625 170.673821 \nz\n\" clip-path=\"url(#p4bf71c10b9)\" style=\"fill: #8ca646\"/>\n   </g>\n   <g id=\"patch_9\">\n    <path d=\"M 286.610625 354.958125 \nL 316.370625 354.958125 \nL 316.370625 328.247177 \nL 286.610625 328.247177 \nz\n\" clip-path=\"url(#p4bf71c10b9)\" style=\"fill: #60ae47\"/>\n   </g>\n   <g id=\"patch_10\">\n    <path d=\"M 323.810625 354.958125 \nL 353.570625 354.958125 \nL 353.570625 320.824598 \nL 323.810625 320.824598 \nz\n\" clip-path=\"url(#p4bf71c10b9)\" style=\"fill: #49af7c\"/>\n   </g>\n   <g id=\"patch_11\">\n    <path d=\"M 361.010625 354.958125 \nL 390.770625 354.958125 \nL 390.770625 339.73409 \nL 361.010625 339.73409 \nz\n\" clip-path=\"url(#p4bf71c10b9)\" style=\"fill: #4aad95\"/>\n   </g>\n   <g id=\"patch_12\">\n    <path d=\"M 398.210625 354.958125 \nL 427.970625 354.958125 \nL 427.970625 305.950739 \nL 398.210625 305.950739 \nz\n\" clip-path=\"url(#p4bf71c10b9)\" style=\"fill: #4baba4\"/>\n   </g>\n   <g id=\"patch_13\">\n    <path d=\"M 435.410625 354.958125 \nL 465.170625 354.958125 \nL 465.170625 316.375644 \nL 435.410625 316.375644 \nz\n\" clip-path=\"url(#p4bf71c10b9)\" style=\"fill: #4dabb3\"/>\n   </g>\n   <g id=\"patch_14\">\n    <path d=\"M 472.610625 354.958125 \nL 502.370625 354.958125 \nL 502.370625 289.630252 \nL 472.610625 289.630252 \nz\n\" clip-path=\"url(#p4bf71c10b9)\" style=\"fill: #51acc7\"/>\n   </g>\n   <g id=\"patch_15\">\n    <path d=\"M 509.810625 354.958125 \nL 539.570625 354.958125 \nL 539.570625 347.219815 \nL 509.810625 347.219815 \nz\n\" clip-path=\"url(#p4bf71c10b9)\" style=\"fill: #6daee2\"/>\n   </g>\n   <g id=\"patch_16\">\n    <path d=\"M 547.010625 354.958125 \nL 576.770625 354.958125 \nL 576.770625 342.943078 \nL 547.010625 342.943078 \nz\n\" clip-path=\"url(#p4bf71c10b9)\" style=\"fill: #a6acea\"/>\n   </g>\n   <g id=\"patch_17\">\n    <path d=\"M 584.210625 354.958125 \nL 613.970625 354.958125 \nL 613.970625 350.646945 \nL 584.210625 350.646945 \nz\n\" clip-path=\"url(#p4bf71c10b9)\" style=\"fill: #c4a1ea\"/>\n   </g>\n   <g id=\"patch_18\">\n    <path d=\"M 621.410625 354.958125 \nL 651.170625 354.958125 \nL 651.170625 347.46666 \nL 621.410625 347.46666 \nz\n\" clip-path=\"url(#p4bf71c10b9)\" style=\"fill: #df8fe7\"/>\n   </g>\n   <g id=\"patch_19\">\n    <path d=\"M 658.610625 354.958125 \nL 688.370625 354.958125 \nL 688.370625 351.938577 \nL 658.610625 351.938577 \nz\n\" clip-path=\"url(#p4bf71c10b9)\" style=\"fill: #e88ed1\"/>\n   </g>\n   <g id=\"patch_20\">\n    <path d=\"M 695.810625 354.958125 \nL 725.570625 354.958125 \nL 725.570625 351.726175 \nL 695.810625 351.726175 \nz\n\" clip-path=\"url(#p4bf71c10b9)\" style=\"fill: #e992bb\"/>\n   </g>\n   <g id=\"matplotlib.axis_1\">\n    <g id=\"xtick_1\">\n     <g id=\"line2d_1\">\n      <defs>\n       <path id=\"m7584ec6937\" d=\"M 0 0 \nL 0 3.5 \n\" style=\"stroke: #000000; stroke-width: 0.8\"/>\n      </defs>\n      <g>\n       <use xlink:href=\"#m7584ec6937\" x=\"78.290625\" y=\"354.958125\" style=\"stroke: #000000; stroke-width: 0.8\"/>\n      </g>\n     </g>\n     <g id=\"text_1\">\n      <!-- Laborers -->\n      <g transform=\"translate(64.852834 398.108959)rotate(-45)scale(0.1 -0.1)\">\n       <defs>\n        <path id=\"DejaVuSans-4c\" d=\"M 628 4666 \nL 1259 4666 \nL 1259 531 \nL 3531 531 \nL 3531 0 \nL 628 0 \nL 628 4666 \nz\n\" transform=\"scale(0.015625)\"/>\n        <path id=\"DejaVuSans-61\" d=\"M 2194 1759 \nQ 1497 1759 1228 1600 \nQ 959 1441 959 1056 \nQ 959 750 1161 570 \nQ 1363 391 1709 391 \nQ 2188 391 2477 730 \nQ 2766 1069 2766 1631 \nL 2766 1759 \nL 2194 1759 \nz\nM 3341 1997 \nL 3341 0 \nL 2766 0 \nL 2766 531 \nQ 2569 213 2275 61 \nQ 1981 -91 1556 -91 \nQ 1019 -91 701 211 \nQ 384 513 384 1019 \nQ 384 1609 779 1909 \nQ 1175 2209 1959 2209 \nL 2766 2209 \nL 2766 2266 \nQ 2766 2663 2505 2880 \nQ 2244 3097 1772 3097 \nQ 1472 3097 1187 3025 \nQ 903 2953 641 2809 \nL 641 3341 \nQ 956 3463 1253 3523 \nQ 1550 3584 1831 3584 \nQ 2591 3584 2966 3190 \nQ 3341 2797 3341 1997 \nz\n\" transform=\"scale(0.015625)\"/>\n        <path id=\"DejaVuSans-62\" d=\"M 3116 1747 \nQ 3116 2381 2855 2742 \nQ 2594 3103 2138 3103 \nQ 1681 3103 1420 2742 \nQ 1159 2381 1159 1747 \nQ 1159 1113 1420 752 \nQ 1681 391 2138 391 \nQ 2594 391 2855 752 \nQ 3116 1113 3116 1747 \nz\nM 1159 2969 \nQ 1341 3281 1617 3432 \nQ 1894 3584 2278 3584 \nQ 2916 3584 3314 3078 \nQ 3713 2572 3713 1747 \nQ 3713 922 3314 415 \nQ 2916 -91 2278 -91 \nQ 1894 -91 1617 61 \nQ 1341 213 1159 525 \nL 1159 0 \nL 581 0 \nL 581 4863 \nL 1159 4863 \nL 1159 2969 \nz\n\" transform=\"scale(0.015625)\"/>\n        <path id=\"DejaVuSans-6f\" d=\"M 1959 3097 \nQ 1497 3097 1228 2736 \nQ 959 2375 959 1747 \nQ 959 1119 1226 758 \nQ 1494 397 1959 397 \nQ 2419 397 2687 759 \nQ 2956 1122 2956 1747 \nQ 2956 2369 2687 2733 \nQ 2419 3097 1959 3097 \nz\nM 1959 3584 \nQ 2709 3584 3137 3096 \nQ 3566 2609 3566 1747 \nQ 3566 888 3137 398 \nQ 2709 -91 1959 -91 \nQ 1206 -91 779 398 \nQ 353 888 353 1747 \nQ 353 2609 779 3096 \nQ 1206 3584 1959 3584 \nz\n\" transform=\"scale(0.015625)\"/>\n        <path id=\"DejaVuSans-72\" d=\"M 2631 2963 \nQ 2534 3019 2420 3045 \nQ 2306 3072 2169 3072 \nQ 1681 3072 1420 2755 \nQ 1159 2438 1159 1844 \nL 1159 0 \nL 581 0 \nL 581 3500 \nL 1159 3500 \nL 1159 2956 \nQ 1341 3275 1631 3429 \nQ 1922 3584 2338 3584 \nQ 2397 3584 2469 3576 \nQ 2541 3569 2628 3553 \nL 2631 2963 \nz\n\" transform=\"scale(0.015625)\"/>\n        <path id=\"DejaVuSans-65\" d=\"M 3597 1894 \nL 3597 1613 \nL 953 1613 \nQ 991 1019 1311 708 \nQ 1631 397 2203 397 \nQ 2534 397 2845 478 \nQ 3156 559 3463 722 \nL 3463 178 \nQ 3153 47 2828 -22 \nQ 2503 -91 2169 -91 \nQ 1331 -91 842 396 \nQ 353 884 353 1716 \nQ 353 2575 817 3079 \nQ 1281 3584 2069 3584 \nQ 2775 3584 3186 3129 \nQ 3597 2675 3597 1894 \nz\nM 3022 2063 \nQ 3016 2534 2758 2815 \nQ 2500 3097 2075 3097 \nQ 1594 3097 1305 2825 \nQ 1016 2553 972 2059 \nL 3022 2063 \nz\n\" transform=\"scale(0.015625)\"/>\n        <path id=\"DejaVuSans-73\" d=\"M 2834 3397 \nL 2834 2853 \nQ 2591 2978 2328 3040 \nQ 2066 3103 1784 3103 \nQ 1356 3103 1142 2972 \nQ 928 2841 928 2578 \nQ 928 2378 1081 2264 \nQ 1234 2150 1697 2047 \nL 1894 2003 \nQ 2506 1872 2764 1633 \nQ 3022 1394 3022 966 \nQ 3022 478 2636 193 \nQ 2250 -91 1575 -91 \nQ 1294 -91 989 -36 \nQ 684 19 347 128 \nL 347 722 \nQ 666 556 975 473 \nQ 1284 391 1588 391 \nQ 1994 391 2212 530 \nQ 2431 669 2431 922 \nQ 2431 1156 2273 1281 \nQ 2116 1406 1581 1522 \nL 1381 1569 \nQ 847 1681 609 1914 \nQ 372 2147 372 2553 \nQ 372 3047 722 3315 \nQ 1072 3584 1716 3584 \nQ 2034 3584 2315 3537 \nQ 2597 3491 2834 3397 \nz\n\" transform=\"scale(0.015625)\"/>\n       </defs>\n       <use xlink:href=\"#DejaVuSans-4c\"/>\n       <use xlink:href=\"#DejaVuSans-61\" x=\"55.712891\"/>\n       <use xlink:href=\"#DejaVuSans-62\" x=\"116.992188\"/>\n       <use xlink:href=\"#DejaVuSans-6f\" x=\"180.46875\"/>\n       <use xlink:href=\"#DejaVuSans-72\" x=\"241.650391\"/>\n       <use xlink:href=\"#DejaVuSans-65\" x=\"280.513672\"/>\n       <use xlink:href=\"#DejaVuSans-72\" x=\"342.037109\"/>\n       <use xlink:href=\"#DejaVuSans-73\" x=\"383.150391\"/>\n      </g>\n     </g>\n    </g>\n    <g id=\"xtick_2\">\n     <g id=\"line2d_2\">\n      <g>\n       <use xlink:href=\"#m7584ec6937\" x=\"115.490625\" y=\"354.958125\" style=\"stroke: #000000; stroke-width: 0.8\"/>\n      </g>\n     </g>\n     <g id=\"text_2\">\n      <!-- Core staff -->\n      <g transform=\"translate(100.253026 401.708575)rotate(-45)scale(0.1 -0.1)\">\n       <defs>\n        <path id=\"DejaVuSans-43\" d=\"M 4122 4306 \nL 4122 3641 \nQ 3803 3938 3442 4084 \nQ 3081 4231 2675 4231 \nQ 1875 4231 1450 3742 \nQ 1025 3253 1025 2328 \nQ 1025 1406 1450 917 \nQ 1875 428 2675 428 \nQ 3081 428 3442 575 \nQ 3803 722 4122 1019 \nL 4122 359 \nQ 3791 134 3420 21 \nQ 3050 -91 2638 -91 \nQ 1578 -91 968 557 \nQ 359 1206 359 2328 \nQ 359 3453 968 4101 \nQ 1578 4750 2638 4750 \nQ 3056 4750 3426 4639 \nQ 3797 4528 4122 4306 \nz\n\" transform=\"scale(0.015625)\"/>\n        <path id=\"DejaVuSans-20\" transform=\"scale(0.015625)\"/>\n        <path id=\"DejaVuSans-74\" d=\"M 1172 4494 \nL 1172 3500 \nL 2356 3500 \nL 2356 3053 \nL 1172 3053 \nL 1172 1153 \nQ 1172 725 1289 603 \nQ 1406 481 1766 481 \nL 2356 481 \nL 2356 0 \nL 1766 0 \nQ 1100 0 847 248 \nQ 594 497 594 1153 \nL 594 3053 \nL 172 3053 \nL 172 3500 \nL 594 3500 \nL 594 4494 \nL 1172 4494 \nz\n\" transform=\"scale(0.015625)\"/>\n        <path id=\"DejaVuSans-66\" d=\"M 2375 4863 \nL 2375 4384 \nL 1825 4384 \nQ 1516 4384 1395 4259 \nQ 1275 4134 1275 3809 \nL 1275 3500 \nL 2222 3500 \nL 2222 3053 \nL 1275 3053 \nL 1275 0 \nL 697 0 \nL 697 3053 \nL 147 3053 \nL 147 3500 \nL 697 3500 \nL 697 3744 \nQ 697 4328 969 4595 \nQ 1241 4863 1831 4863 \nL 2375 4863 \nz\n\" transform=\"scale(0.015625)\"/>\n       </defs>\n       <use xlink:href=\"#DejaVuSans-43\"/>\n       <use xlink:href=\"#DejaVuSans-6f\" x=\"69.824219\"/>\n       <use xlink:href=\"#DejaVuSans-72\" x=\"131.005859\"/>\n       <use xlink:href=\"#DejaVuSans-65\" x=\"169.869141\"/>\n       <use xlink:href=\"#DejaVuSans-20\" x=\"231.392578\"/>\n       <use xlink:href=\"#DejaVuSans-73\" x=\"263.179688\"/>\n       <use xlink:href=\"#DejaVuSans-74\" x=\"315.279297\"/>\n       <use xlink:href=\"#DejaVuSans-61\" x=\"354.488281\"/>\n       <use xlink:href=\"#DejaVuSans-66\" x=\"415.767578\"/>\n       <use xlink:href=\"#DejaVuSans-66\" x=\"450.972656\"/>\n      </g>\n     </g>\n    </g>\n    <g id=\"xtick_3\">\n     <g id=\"line2d_3\">\n      <g>\n       <use xlink:href=\"#m7584ec6937\" x=\"152.690625\" y=\"354.958125\" style=\"stroke: #000000; stroke-width: 0.8\"/>\n      </g>\n     </g>\n     <g id=\"text_3\">\n      <!-- Accountants -->\n      <g transform=\"translate(132.731431 411.151765)rotate(-45)scale(0.1 -0.1)\">\n       <defs>\n        <path id=\"DejaVuSans-41\" d=\"M 2188 4044 \nL 1331 1722 \nL 3047 1722 \nL 2188 4044 \nz\nM 1831 4666 \nL 2547 4666 \nL 4325 0 \nL 3669 0 \nL 3244 1197 \nL 1141 1197 \nL 716 0 \nL 50 0 \nL 1831 4666 \nz\n\" transform=\"scale(0.015625)\"/>\n        <path id=\"DejaVuSans-63\" d=\"M 3122 3366 \nL 3122 2828 \nQ 2878 2963 2633 3030 \nQ 2388 3097 2138 3097 \nQ 1578 3097 1268 2742 \nQ 959 2388 959 1747 \nQ 959 1106 1268 751 \nQ 1578 397 2138 397 \nQ 2388 397 2633 464 \nQ 2878 531 3122 666 \nL 3122 134 \nQ 2881 22 2623 -34 \nQ 2366 -91 2075 -91 \nQ 1284 -91 818 406 \nQ 353 903 353 1747 \nQ 353 2603 823 3093 \nQ 1294 3584 2113 3584 \nQ 2378 3584 2631 3529 \nQ 2884 3475 3122 3366 \nz\n\" transform=\"scale(0.015625)\"/>\n        <path id=\"DejaVuSans-75\" d=\"M 544 1381 \nL 544 3500 \nL 1119 3500 \nL 1119 1403 \nQ 1119 906 1312 657 \nQ 1506 409 1894 409 \nQ 2359 409 2629 706 \nQ 2900 1003 2900 1516 \nL 2900 3500 \nL 3475 3500 \nL 3475 0 \nL 2900 0 \nL 2900 538 \nQ 2691 219 2414 64 \nQ 2138 -91 1772 -91 \nQ 1169 -91 856 284 \nQ 544 659 544 1381 \nz\nM 1991 3584 \nL 1991 3584 \nz\n\" transform=\"scale(0.015625)\"/>\n        <path id=\"DejaVuSans-6e\" d=\"M 3513 2113 \nL 3513 0 \nL 2938 0 \nL 2938 2094 \nQ 2938 2591 2744 2837 \nQ 2550 3084 2163 3084 \nQ 1697 3084 1428 2787 \nQ 1159 2491 1159 1978 \nL 1159 0 \nL 581 0 \nL 581 3500 \nL 1159 3500 \nL 1159 2956 \nQ 1366 3272 1645 3428 \nQ 1925 3584 2291 3584 \nQ 2894 3584 3203 3211 \nQ 3513 2838 3513 2113 \nz\n\" transform=\"scale(0.015625)\"/>\n       </defs>\n       <use xlink:href=\"#DejaVuSans-41\"/>\n       <use xlink:href=\"#DejaVuSans-63\" x=\"66.658203\"/>\n       <use xlink:href=\"#DejaVuSans-63\" x=\"121.638672\"/>\n       <use xlink:href=\"#DejaVuSans-6f\" x=\"176.619141\"/>\n       <use xlink:href=\"#DejaVuSans-75\" x=\"237.800781\"/>\n       <use xlink:href=\"#DejaVuSans-6e\" x=\"301.179688\"/>\n       <use xlink:href=\"#DejaVuSans-74\" x=\"364.558594\"/>\n       <use xlink:href=\"#DejaVuSans-61\" x=\"403.767578\"/>\n       <use xlink:href=\"#DejaVuSans-6e\" x=\"465.046875\"/>\n       <use xlink:href=\"#DejaVuSans-74\" x=\"528.425781\"/>\n       <use xlink:href=\"#DejaVuSans-73\" x=\"567.634766\"/>\n      </g>\n     </g>\n    </g>\n    <g id=\"xtick_4\">\n     <g id=\"line2d_4\">\n      <g>\n       <use xlink:href=\"#m7584ec6937\" x=\"189.890625\" y=\"354.958125\" style=\"stroke: #000000; stroke-width: 0.8\"/>\n      </g>\n     </g>\n     <g id=\"text_4\">\n      <!-- Managers -->\n      <g transform=\"translate(174.502214 402.0102)rotate(-45)scale(0.1 -0.1)\">\n       <defs>\n        <path id=\"DejaVuSans-4d\" d=\"M 628 4666 \nL 1569 4666 \nL 2759 1491 \nL 3956 4666 \nL 4897 4666 \nL 4897 0 \nL 4281 0 \nL 4281 4097 \nL 3078 897 \nL 2444 897 \nL 1241 4097 \nL 1241 0 \nL 628 0 \nL 628 4666 \nz\n\" transform=\"scale(0.015625)\"/>\n        <path id=\"DejaVuSans-67\" d=\"M 2906 1791 \nQ 2906 2416 2648 2759 \nQ 2391 3103 1925 3103 \nQ 1463 3103 1205 2759 \nQ 947 2416 947 1791 \nQ 947 1169 1205 825 \nQ 1463 481 1925 481 \nQ 2391 481 2648 825 \nQ 2906 1169 2906 1791 \nz\nM 3481 434 \nQ 3481 -459 3084 -895 \nQ 2688 -1331 1869 -1331 \nQ 1566 -1331 1297 -1286 \nQ 1028 -1241 775 -1147 \nL 775 -588 \nQ 1028 -725 1275 -790 \nQ 1522 -856 1778 -856 \nQ 2344 -856 2625 -561 \nQ 2906 -266 2906 331 \nL 2906 616 \nQ 2728 306 2450 153 \nQ 2172 0 1784 0 \nQ 1141 0 747 490 \nQ 353 981 353 1791 \nQ 353 2603 747 3093 \nQ 1141 3584 1784 3584 \nQ 2172 3584 2450 3431 \nQ 2728 3278 2906 2969 \nL 2906 3500 \nL 3481 3500 \nL 3481 434 \nz\n\" transform=\"scale(0.015625)\"/>\n       </defs>\n       <use xlink:href=\"#DejaVuSans-4d\"/>\n       <use xlink:href=\"#DejaVuSans-61\" x=\"86.279297\"/>\n       <use xlink:href=\"#DejaVuSans-6e\" x=\"147.558594\"/>\n       <use xlink:href=\"#DejaVuSans-61\" x=\"210.9375\"/>\n       <use xlink:href=\"#DejaVuSans-67\" x=\"272.216797\"/>\n       <use xlink:href=\"#DejaVuSans-65\" x=\"335.693359\"/>\n       <use xlink:href=\"#DejaVuSans-72\" x=\"397.216797\"/>\n       <use xlink:href=\"#DejaVuSans-73\" x=\"438.330078\"/>\n      </g>\n     </g>\n    </g>\n    <g id=\"xtick_5\">\n     <g id=\"line2d_5\">\n      <g>\n       <use xlink:href=\"#m7584ec6937\" x=\"227.090625\" y=\"354.958125\" style=\"stroke: #000000; stroke-width: 0.8\"/>\n      </g>\n     </g>\n     <g id=\"text_5\">\n      <!-- Drivers -->\n      <g transform=\"translate(216.320505 392.773618)rotate(-45)scale(0.1 -0.1)\">\n       <defs>\n        <path id=\"DejaVuSans-44\" d=\"M 1259 4147 \nL 1259 519 \nL 2022 519 \nQ 2988 519 3436 956 \nQ 3884 1394 3884 2338 \nQ 3884 3275 3436 3711 \nQ 2988 4147 2022 4147 \nL 1259 4147 \nz\nM 628 4666 \nL 1925 4666 \nQ 3281 4666 3915 4102 \nQ 4550 3538 4550 2338 \nQ 4550 1131 3912 565 \nQ 3275 0 1925 0 \nL 628 0 \nL 628 4666 \nz\n\" transform=\"scale(0.015625)\"/>\n        <path id=\"DejaVuSans-69\" d=\"M 603 3500 \nL 1178 3500 \nL 1178 0 \nL 603 0 \nL 603 3500 \nz\nM 603 4863 \nL 1178 4863 \nL 1178 4134 \nL 603 4134 \nL 603 4863 \nz\n\" transform=\"scale(0.015625)\"/>\n        <path id=\"DejaVuSans-76\" d=\"M 191 3500 \nL 800 3500 \nL 1894 563 \nL 2988 3500 \nL 3597 3500 \nL 2284 0 \nL 1503 0 \nL 191 3500 \nz\n\" transform=\"scale(0.015625)\"/>\n       </defs>\n       <use xlink:href=\"#DejaVuSans-44\"/>\n       <use xlink:href=\"#DejaVuSans-72\" x=\"77.001953\"/>\n       <use xlink:href=\"#DejaVuSans-69\" x=\"118.115234\"/>\n       <use xlink:href=\"#DejaVuSans-76\" x=\"145.898438\"/>\n       <use xlink:href=\"#DejaVuSans-65\" x=\"205.078125\"/>\n       <use xlink:href=\"#DejaVuSans-72\" x=\"266.601562\"/>\n       <use xlink:href=\"#DejaVuSans-73\" x=\"307.714844\"/>\n      </g>\n     </g>\n    </g>\n    <g id=\"xtick_6\">\n     <g id=\"line2d_6\">\n      <g>\n       <use xlink:href=\"#m7584ec6937\" x=\"264.290625\" y=\"354.958125\" style=\"stroke: #000000; stroke-width: 0.8\"/>\n      </g>\n     </g>\n     <g id=\"text_6\">\n      <!-- Sales staff -->\n      <g transform=\"translate(247.823876 404.166876)rotate(-45)scale(0.1 -0.1)\">\n       <defs>\n        <path id=\"DejaVuSans-53\" d=\"M 3425 4513 \nL 3425 3897 \nQ 3066 4069 2747 4153 \nQ 2428 4238 2131 4238 \nQ 1616 4238 1336 4038 \nQ 1056 3838 1056 3469 \nQ 1056 3159 1242 3001 \nQ 1428 2844 1947 2747 \nL 2328 2669 \nQ 3034 2534 3370 2195 \nQ 3706 1856 3706 1288 \nQ 3706 609 3251 259 \nQ 2797 -91 1919 -91 \nQ 1588 -91 1214 -16 \nQ 841 59 441 206 \nL 441 856 \nQ 825 641 1194 531 \nQ 1563 422 1919 422 \nQ 2459 422 2753 634 \nQ 3047 847 3047 1241 \nQ 3047 1584 2836 1778 \nQ 2625 1972 2144 2069 \nL 1759 2144 \nQ 1053 2284 737 2584 \nQ 422 2884 422 3419 \nQ 422 4038 858 4394 \nQ 1294 4750 2059 4750 \nQ 2388 4750 2728 4690 \nQ 3069 4631 3425 4513 \nz\n\" transform=\"scale(0.015625)\"/>\n        <path id=\"DejaVuSans-6c\" d=\"M 603 4863 \nL 1178 4863 \nL 1178 0 \nL 603 0 \nL 603 4863 \nz\n\" transform=\"scale(0.015625)\"/>\n       </defs>\n       <use xlink:href=\"#DejaVuSans-53\"/>\n       <use xlink:href=\"#DejaVuSans-61\" x=\"63.476562\"/>\n       <use xlink:href=\"#DejaVuSans-6c\" x=\"124.755859\"/>\n       <use xlink:href=\"#DejaVuSans-65\" x=\"152.539062\"/>\n       <use xlink:href=\"#DejaVuSans-73\" x=\"214.0625\"/>\n       <use xlink:href=\"#DejaVuSans-20\" x=\"266.162109\"/>\n       <use xlink:href=\"#DejaVuSans-73\" x=\"297.949219\"/>\n       <use xlink:href=\"#DejaVuSans-74\" x=\"350.048828\"/>\n       <use xlink:href=\"#DejaVuSans-61\" x=\"389.257812\"/>\n       <use xlink:href=\"#DejaVuSans-66\" x=\"450.537109\"/>\n       <use xlink:href=\"#DejaVuSans-66\" x=\"485.742188\"/>\n      </g>\n     </g>\n    </g>\n    <g id=\"xtick_7\">\n     <g id=\"line2d_7\">\n      <g>\n       <use xlink:href=\"#m7584ec6937\" x=\"301.490625\" y=\"354.958125\" style=\"stroke: #000000; stroke-width: 0.8\"/>\n      </g>\n     </g>\n     <g id=\"text_7\">\n      <!-- Cleaning staff -->\n      <g transform=\"translate(278.933366 416.347895)rotate(-45)scale(0.1 -0.1)\">\n       <use xlink:href=\"#DejaVuSans-43\"/>\n       <use xlink:href=\"#DejaVuSans-6c\" x=\"69.824219\"/>\n       <use xlink:href=\"#DejaVuSans-65\" x=\"97.607422\"/>\n       <use xlink:href=\"#DejaVuSans-61\" x=\"159.130859\"/>\n       <use xlink:href=\"#DejaVuSans-6e\" x=\"220.410156\"/>\n       <use xlink:href=\"#DejaVuSans-69\" x=\"283.789062\"/>\n       <use xlink:href=\"#DejaVuSans-6e\" x=\"311.572266\"/>\n       <use xlink:href=\"#DejaVuSans-67\" x=\"374.951172\"/>\n       <use xlink:href=\"#DejaVuSans-20\" x=\"438.427734\"/>\n       <use xlink:href=\"#DejaVuSans-73\" x=\"470.214844\"/>\n       <use xlink:href=\"#DejaVuSans-74\" x=\"522.314453\"/>\n       <use xlink:href=\"#DejaVuSans-61\" x=\"561.523438\"/>\n       <use xlink:href=\"#DejaVuSans-66\" x=\"622.802734\"/>\n       <use xlink:href=\"#DejaVuSans-66\" x=\"658.007812\"/>\n      </g>\n     </g>\n    </g>\n    <g id=\"xtick_8\">\n     <g id=\"line2d_8\">\n      <g>\n       <use xlink:href=\"#m7584ec6937\" x=\"338.690625\" y=\"354.958125\" style=\"stroke: #000000; stroke-width: 0.8\"/>\n      </g>\n     </g>\n     <g id=\"text_8\">\n      <!-- Cooking staff -->\n      <g transform=\"translate(317.324399 413.965829)rotate(-45)scale(0.1 -0.1)\">\n       <defs>\n        <path id=\"DejaVuSans-6b\" d=\"M 581 4863 \nL 1159 4863 \nL 1159 1991 \nL 2875 3500 \nL 3609 3500 \nL 1753 1863 \nL 3688 0 \nL 2938 0 \nL 1159 1709 \nL 1159 0 \nL 581 0 \nL 581 4863 \nz\n\" transform=\"scale(0.015625)\"/>\n       </defs>\n       <use xlink:href=\"#DejaVuSans-43\"/>\n       <use xlink:href=\"#DejaVuSans-6f\" x=\"69.824219\"/>\n       <use xlink:href=\"#DejaVuSans-6f\" x=\"131.005859\"/>\n       <use xlink:href=\"#DejaVuSans-6b\" x=\"192.1875\"/>\n       <use xlink:href=\"#DejaVuSans-69\" x=\"250.097656\"/>\n       <use xlink:href=\"#DejaVuSans-6e\" x=\"277.880859\"/>\n       <use xlink:href=\"#DejaVuSans-67\" x=\"341.259766\"/>\n       <use xlink:href=\"#DejaVuSans-20\" x=\"404.736328\"/>\n       <use xlink:href=\"#DejaVuSans-73\" x=\"436.523438\"/>\n       <use xlink:href=\"#DejaVuSans-74\" x=\"488.623047\"/>\n       <use xlink:href=\"#DejaVuSans-61\" x=\"527.832031\"/>\n       <use xlink:href=\"#DejaVuSans-66\" x=\"589.111328\"/>\n       <use xlink:href=\"#DejaVuSans-66\" x=\"624.316406\"/>\n      </g>\n     </g>\n    </g>\n    <g id=\"xtick_9\">\n     <g id=\"line2d_9\">\n      <g>\n       <use xlink:href=\"#m7584ec6937\" x=\"375.890625\" y=\"354.958125\" style=\"stroke: #000000; stroke-width: 0.8\"/>\n      </g>\n     </g>\n     <g id=\"text_9\">\n      <!-- Private service staff -->\n      <g transform=\"translate(342.719583 437.575461)rotate(-45)scale(0.1 -0.1)\">\n       <defs>\n        <path id=\"DejaVuSans-50\" d=\"M 1259 4147 \nL 1259 2394 \nL 2053 2394 \nQ 2494 2394 2734 2622 \nQ 2975 2850 2975 3272 \nQ 2975 3691 2734 3919 \nQ 2494 4147 2053 4147 \nL 1259 4147 \nz\nM 628 4666 \nL 2053 4666 \nQ 2838 4666 3239 4311 \nQ 3641 3956 3641 3272 \nQ 3641 2581 3239 2228 \nQ 2838 1875 2053 1875 \nL 1259 1875 \nL 1259 0 \nL 628 0 \nL 628 4666 \nz\n\" transform=\"scale(0.015625)\"/>\n       </defs>\n       <use xlink:href=\"#DejaVuSans-50\"/>\n       <use xlink:href=\"#DejaVuSans-72\" x=\"58.552734\"/>\n       <use xlink:href=\"#DejaVuSans-69\" x=\"99.666016\"/>\n       <use xlink:href=\"#DejaVuSans-76\" x=\"127.449219\"/>\n       <use xlink:href=\"#DejaVuSans-61\" x=\"186.628906\"/>\n       <use xlink:href=\"#DejaVuSans-74\" x=\"247.908203\"/>\n       <use xlink:href=\"#DejaVuSans-65\" x=\"287.117188\"/>\n       <use xlink:href=\"#DejaVuSans-20\" x=\"348.640625\"/>\n       <use xlink:href=\"#DejaVuSans-73\" x=\"380.427734\"/>\n       <use xlink:href=\"#DejaVuSans-65\" x=\"432.527344\"/>\n       <use xlink:href=\"#DejaVuSans-72\" x=\"494.050781\"/>\n       <use xlink:href=\"#DejaVuSans-76\" x=\"535.164062\"/>\n       <use xlink:href=\"#DejaVuSans-69\" x=\"594.34375\"/>\n       <use xlink:href=\"#DejaVuSans-63\" x=\"622.126953\"/>\n       <use xlink:href=\"#DejaVuSans-65\" x=\"677.107422\"/>\n       <use xlink:href=\"#DejaVuSans-20\" x=\"738.630859\"/>\n       <use xlink:href=\"#DejaVuSans-73\" x=\"770.417969\"/>\n       <use xlink:href=\"#DejaVuSans-74\" x=\"822.517578\"/>\n       <use xlink:href=\"#DejaVuSans-61\" x=\"861.726562\"/>\n       <use xlink:href=\"#DejaVuSans-66\" x=\"923.005859\"/>\n       <use xlink:href=\"#DejaVuSans-66\" x=\"958.210938\"/>\n      </g>\n     </g>\n    </g>\n    <g id=\"xtick_10\">\n     <g id=\"line2d_10\">\n      <g>\n       <use xlink:href=\"#m7584ec6937\" x=\"413.090625\" y=\"354.958125\" style=\"stroke: #000000; stroke-width: 0.8\"/>\n      </g>\n     </g>\n     <g id=\"text_10\">\n      <!-- Medicine staff -->\n      <g transform=\"translate(390.239475 416.935677)rotate(-45)scale(0.1 -0.1)\">\n       <defs>\n        <path id=\"DejaVuSans-64\" d=\"M 2906 2969 \nL 2906 4863 \nL 3481 4863 \nL 3481 0 \nL 2906 0 \nL 2906 525 \nQ 2725 213 2448 61 \nQ 2172 -91 1784 -91 \nQ 1150 -91 751 415 \nQ 353 922 353 1747 \nQ 353 2572 751 3078 \nQ 1150 3584 1784 3584 \nQ 2172 3584 2448 3432 \nQ 2725 3281 2906 2969 \nz\nM 947 1747 \nQ 947 1113 1208 752 \nQ 1469 391 1925 391 \nQ 2381 391 2643 752 \nQ 2906 1113 2906 1747 \nQ 2906 2381 2643 2742 \nQ 2381 3103 1925 3103 \nQ 1469 3103 1208 2742 \nQ 947 2381 947 1747 \nz\n\" transform=\"scale(0.015625)\"/>\n       </defs>\n       <use xlink:href=\"#DejaVuSans-4d\"/>\n       <use xlink:href=\"#DejaVuSans-65\" x=\"86.279297\"/>\n       <use xlink:href=\"#DejaVuSans-64\" x=\"147.802734\"/>\n       <use xlink:href=\"#DejaVuSans-69\" x=\"211.279297\"/>\n       <use xlink:href=\"#DejaVuSans-63\" x=\"239.0625\"/>\n       <use xlink:href=\"#DejaVuSans-69\" x=\"294.042969\"/>\n       <use xlink:href=\"#DejaVuSans-6e\" x=\"321.826172\"/>\n       <use xlink:href=\"#DejaVuSans-65\" x=\"385.205078\"/>\n       <use xlink:href=\"#DejaVuSans-20\" x=\"446.728516\"/>\n       <use xlink:href=\"#DejaVuSans-73\" x=\"478.515625\"/>\n       <use xlink:href=\"#DejaVuSans-74\" x=\"530.615234\"/>\n       <use xlink:href=\"#DejaVuSans-61\" x=\"569.824219\"/>\n       <use xlink:href=\"#DejaVuSans-66\" x=\"631.103516\"/>\n       <use xlink:href=\"#DejaVuSans-66\" x=\"666.308594\"/>\n      </g>\n     </g>\n    </g>\n    <g id=\"xtick_11\">\n     <g id=\"line2d_11\">\n      <g>\n       <use xlink:href=\"#m7584ec6937\" x=\"450.290625\" y=\"354.958125\" style=\"stroke: #000000; stroke-width: 0.8\"/>\n      </g>\n     </g>\n     <g id=\"text_11\">\n      <!-- Security staff -->\n      <g transform=\"translate(428.715582 414.383464)rotate(-45)scale(0.1 -0.1)\">\n       <defs>\n        <path id=\"DejaVuSans-79\" d=\"M 2059 -325 \nQ 1816 -950 1584 -1140 \nQ 1353 -1331 966 -1331 \nL 506 -1331 \nL 506 -850 \nL 844 -850 \nQ 1081 -850 1212 -737 \nQ 1344 -625 1503 -206 \nL 1606 56 \nL 191 3500 \nL 800 3500 \nL 1894 763 \nL 2988 3500 \nL 3597 3500 \nL 2059 -325 \nz\n\" transform=\"scale(0.015625)\"/>\n       </defs>\n       <use xlink:href=\"#DejaVuSans-53\"/>\n       <use xlink:href=\"#DejaVuSans-65\" x=\"63.476562\"/>\n       <use xlink:href=\"#DejaVuSans-63\" x=\"125\"/>\n       <use xlink:href=\"#DejaVuSans-75\" x=\"179.980469\"/>\n       <use xlink:href=\"#DejaVuSans-72\" x=\"243.359375\"/>\n       <use xlink:href=\"#DejaVuSans-69\" x=\"284.472656\"/>\n       <use xlink:href=\"#DejaVuSans-74\" x=\"312.255859\"/>\n       <use xlink:href=\"#DejaVuSans-79\" x=\"351.464844\"/>\n       <use xlink:href=\"#DejaVuSans-20\" x=\"410.644531\"/>\n       <use xlink:href=\"#DejaVuSans-73\" x=\"442.431641\"/>\n       <use xlink:href=\"#DejaVuSans-74\" x=\"494.53125\"/>\n       <use xlink:href=\"#DejaVuSans-61\" x=\"533.740234\"/>\n       <use xlink:href=\"#DejaVuSans-66\" x=\"595.019531\"/>\n       <use xlink:href=\"#DejaVuSans-66\" x=\"630.224609\"/>\n      </g>\n     </g>\n    </g>\n    <g id=\"xtick_12\">\n     <g id=\"line2d_12\">\n      <g>\n       <use xlink:href=\"#m7584ec6937\" x=\"487.490625\" y=\"354.958125\" style=\"stroke: #000000; stroke-width: 0.8\"/>\n      </g>\n     </g>\n     <g id=\"text_12\">\n      <!-- High skill tech staff -->\n      <g transform=\"translate(455.479128 435.256372)rotate(-45)scale(0.1 -0.1)\">\n       <defs>\n        <path id=\"DejaVuSans-48\" d=\"M 628 4666 \nL 1259 4666 \nL 1259 2753 \nL 3553 2753 \nL 3553 4666 \nL 4184 4666 \nL 4184 0 \nL 3553 0 \nL 3553 2222 \nL 1259 2222 \nL 1259 0 \nL 628 0 \nL 628 4666 \nz\n\" transform=\"scale(0.015625)\"/>\n        <path id=\"DejaVuSans-68\" d=\"M 3513 2113 \nL 3513 0 \nL 2938 0 \nL 2938 2094 \nQ 2938 2591 2744 2837 \nQ 2550 3084 2163 3084 \nQ 1697 3084 1428 2787 \nQ 1159 2491 1159 1978 \nL 1159 0 \nL 581 0 \nL 581 4863 \nL 1159 4863 \nL 1159 2956 \nQ 1366 3272 1645 3428 \nQ 1925 3584 2291 3584 \nQ 2894 3584 3203 3211 \nQ 3513 2838 3513 2113 \nz\n\" transform=\"scale(0.015625)\"/>\n       </defs>\n       <use xlink:href=\"#DejaVuSans-48\"/>\n       <use xlink:href=\"#DejaVuSans-69\" x=\"75.195312\"/>\n       <use xlink:href=\"#DejaVuSans-67\" x=\"102.978516\"/>\n       <use xlink:href=\"#DejaVuSans-68\" x=\"166.455078\"/>\n       <use xlink:href=\"#DejaVuSans-20\" x=\"229.833984\"/>\n       <use xlink:href=\"#DejaVuSans-73\" x=\"261.621094\"/>\n       <use xlink:href=\"#DejaVuSans-6b\" x=\"313.720703\"/>\n       <use xlink:href=\"#DejaVuSans-69\" x=\"371.630859\"/>\n       <use xlink:href=\"#DejaVuSans-6c\" x=\"399.414062\"/>\n       <use xlink:href=\"#DejaVuSans-6c\" x=\"427.197266\"/>\n       <use xlink:href=\"#DejaVuSans-20\" x=\"454.980469\"/>\n       <use xlink:href=\"#DejaVuSans-74\" x=\"486.767578\"/>\n       <use xlink:href=\"#DejaVuSans-65\" x=\"525.976562\"/>\n       <use xlink:href=\"#DejaVuSans-63\" x=\"587.5\"/>\n       <use xlink:href=\"#DejaVuSans-68\" x=\"642.480469\"/>\n       <use xlink:href=\"#DejaVuSans-20\" x=\"705.859375\"/>\n       <use xlink:href=\"#DejaVuSans-73\" x=\"737.646484\"/>\n       <use xlink:href=\"#DejaVuSans-74\" x=\"789.746094\"/>\n       <use xlink:href=\"#DejaVuSans-61\" x=\"828.955078\"/>\n       <use xlink:href=\"#DejaVuSans-66\" x=\"890.234375\"/>\n       <use xlink:href=\"#DejaVuSans-66\" x=\"925.439453\"/>\n      </g>\n     </g>\n    </g>\n    <g id=\"xtick_13\">\n     <g id=\"line2d_13\">\n      <g>\n       <use xlink:href=\"#m7584ec6937\" x=\"524.690625\" y=\"354.958125\" style=\"stroke: #000000; stroke-width: 0.8\"/>\n      </g>\n     </g>\n     <g id=\"text_13\">\n      <!-- Waiters/barmen staff -->\n      <g transform=\"translate(489.504881 441.604865)rotate(-45)scale(0.1 -0.1)\">\n       <defs>\n        <path id=\"DejaVuSans-57\" d=\"M 213 4666 \nL 850 4666 \nL 1831 722 \nL 2809 4666 \nL 3519 4666 \nL 4500 722 \nL 5478 4666 \nL 6119 4666 \nL 4947 0 \nL 4153 0 \nL 3169 4050 \nL 2175 0 \nL 1381 0 \nL 213 4666 \nz\n\" transform=\"scale(0.015625)\"/>\n        <path id=\"DejaVuSans-2f\" d=\"M 1625 4666 \nL 2156 4666 \nL 531 -594 \nL 0 -594 \nL 1625 4666 \nz\n\" transform=\"scale(0.015625)\"/>\n        <path id=\"DejaVuSans-6d\" d=\"M 3328 2828 \nQ 3544 3216 3844 3400 \nQ 4144 3584 4550 3584 \nQ 5097 3584 5394 3201 \nQ 5691 2819 5691 2113 \nL 5691 0 \nL 5113 0 \nL 5113 2094 \nQ 5113 2597 4934 2840 \nQ 4756 3084 4391 3084 \nQ 3944 3084 3684 2787 \nQ 3425 2491 3425 1978 \nL 3425 0 \nL 2847 0 \nL 2847 2094 \nQ 2847 2600 2669 2842 \nQ 2491 3084 2119 3084 \nQ 1678 3084 1418 2786 \nQ 1159 2488 1159 1978 \nL 1159 0 \nL 581 0 \nL 581 3500 \nL 1159 3500 \nL 1159 2956 \nQ 1356 3278 1631 3431 \nQ 1906 3584 2284 3584 \nQ 2666 3584 2933 3390 \nQ 3200 3197 3328 2828 \nz\n\" transform=\"scale(0.015625)\"/>\n       </defs>\n       <use xlink:href=\"#DejaVuSans-57\"/>\n       <use xlink:href=\"#DejaVuSans-61\" x=\"92.501953\"/>\n       <use xlink:href=\"#DejaVuSans-69\" x=\"153.78125\"/>\n       <use xlink:href=\"#DejaVuSans-74\" x=\"181.564453\"/>\n       <use xlink:href=\"#DejaVuSans-65\" x=\"220.773438\"/>\n       <use xlink:href=\"#DejaVuSans-72\" x=\"282.296875\"/>\n       <use xlink:href=\"#DejaVuSans-73\" x=\"323.410156\"/>\n       <use xlink:href=\"#DejaVuSans-2f\" x=\"375.509766\"/>\n       <use xlink:href=\"#DejaVuSans-62\" x=\"409.201172\"/>\n       <use xlink:href=\"#DejaVuSans-61\" x=\"472.677734\"/>\n       <use xlink:href=\"#DejaVuSans-72\" x=\"533.957031\"/>\n       <use xlink:href=\"#DejaVuSans-6d\" x=\"573.320312\"/>\n       <use xlink:href=\"#DejaVuSans-65\" x=\"670.732422\"/>\n       <use xlink:href=\"#DejaVuSans-6e\" x=\"732.255859\"/>\n       <use xlink:href=\"#DejaVuSans-20\" x=\"795.634766\"/>\n       <use xlink:href=\"#DejaVuSans-73\" x=\"827.421875\"/>\n       <use xlink:href=\"#DejaVuSans-74\" x=\"879.521484\"/>\n       <use xlink:href=\"#DejaVuSans-61\" x=\"918.730469\"/>\n       <use xlink:href=\"#DejaVuSans-66\" x=\"980.009766\"/>\n       <use xlink:href=\"#DejaVuSans-66\" x=\"1015.214844\"/>\n      </g>\n     </g>\n    </g>\n    <g id=\"xtick_14\">\n     <g id=\"line2d_14\">\n      <g>\n       <use xlink:href=\"#m7584ec6937\" x=\"561.890625\" y=\"354.958125\" style=\"stroke: #000000; stroke-width: 0.8\"/>\n      </g>\n     </g>\n     <g id=\"text_14\">\n      <!-- Low-skill Laborers -->\n      <g transform=\"translate(532.255117 430.504393)rotate(-45)scale(0.1 -0.1)\">\n       <defs>\n        <path id=\"DejaVuSans-77\" d=\"M 269 3500 \nL 844 3500 \nL 1563 769 \nL 2278 3500 \nL 2956 3500 \nL 3675 769 \nL 4391 3500 \nL 4966 3500 \nL 4050 0 \nL 3372 0 \nL 2619 2869 \nL 1863 0 \nL 1184 0 \nL 269 3500 \nz\n\" transform=\"scale(0.015625)\"/>\n        <path id=\"DejaVuSans-2d\" d=\"M 313 2009 \nL 1997 2009 \nL 1997 1497 \nL 313 1497 \nL 313 2009 \nz\n\" transform=\"scale(0.015625)\"/>\n       </defs>\n       <use xlink:href=\"#DejaVuSans-4c\"/>\n       <use xlink:href=\"#DejaVuSans-6f\" x=\"53.962891\"/>\n       <use xlink:href=\"#DejaVuSans-77\" x=\"115.144531\"/>\n       <use xlink:href=\"#DejaVuSans-2d\" x=\"196.931641\"/>\n       <use xlink:href=\"#DejaVuSans-73\" x=\"233.015625\"/>\n       <use xlink:href=\"#DejaVuSans-6b\" x=\"285.115234\"/>\n       <use xlink:href=\"#DejaVuSans-69\" x=\"343.025391\"/>\n       <use xlink:href=\"#DejaVuSans-6c\" x=\"370.808594\"/>\n       <use xlink:href=\"#DejaVuSans-6c\" x=\"398.591797\"/>\n       <use xlink:href=\"#DejaVuSans-20\" x=\"426.375\"/>\n       <use xlink:href=\"#DejaVuSans-4c\" x=\"458.162109\"/>\n       <use xlink:href=\"#DejaVuSans-61\" x=\"513.875\"/>\n       <use xlink:href=\"#DejaVuSans-62\" x=\"575.154297\"/>\n       <use xlink:href=\"#DejaVuSans-6f\" x=\"638.630859\"/>\n       <use xlink:href=\"#DejaVuSans-72\" x=\"699.8125\"/>\n       <use xlink:href=\"#DejaVuSans-65\" x=\"738.675781\"/>\n       <use xlink:href=\"#DejaVuSans-72\" x=\"800.199219\"/>\n       <use xlink:href=\"#DejaVuSans-73\" x=\"841.3125\"/>\n      </g>\n     </g>\n    </g>\n    <g id=\"xtick_15\">\n     <g id=\"line2d_15\">\n      <g>\n       <use xlink:href=\"#m7584ec6937\" x=\"599.090625\" y=\"354.958125\" style=\"stroke: #000000; stroke-width: 0.8\"/>\n      </g>\n     </g>\n     <g id=\"text_15\">\n      <!-- Realty agents -->\n      <g transform=\"translate(576.762624 415.88938)rotate(-45)scale(0.1 -0.1)\">\n       <defs>\n        <path id=\"DejaVuSans-52\" d=\"M 2841 2188 \nQ 3044 2119 3236 1894 \nQ 3428 1669 3622 1275 \nL 4263 0 \nL 3584 0 \nL 2988 1197 \nQ 2756 1666 2539 1819 \nQ 2322 1972 1947 1972 \nL 1259 1972 \nL 1259 0 \nL 628 0 \nL 628 4666 \nL 2053 4666 \nQ 2853 4666 3247 4331 \nQ 3641 3997 3641 3322 \nQ 3641 2881 3436 2590 \nQ 3231 2300 2841 2188 \nz\nM 1259 4147 \nL 1259 2491 \nL 2053 2491 \nQ 2509 2491 2742 2702 \nQ 2975 2913 2975 3322 \nQ 2975 3731 2742 3939 \nQ 2509 4147 2053 4147 \nL 1259 4147 \nz\n\" transform=\"scale(0.015625)\"/>\n       </defs>\n       <use xlink:href=\"#DejaVuSans-52\"/>\n       <use xlink:href=\"#DejaVuSans-65\" x=\"64.982422\"/>\n       <use xlink:href=\"#DejaVuSans-61\" x=\"126.505859\"/>\n       <use xlink:href=\"#DejaVuSans-6c\" x=\"187.785156\"/>\n       <use xlink:href=\"#DejaVuSans-74\" x=\"215.568359\"/>\n       <use xlink:href=\"#DejaVuSans-79\" x=\"254.777344\"/>\n       <use xlink:href=\"#DejaVuSans-20\" x=\"313.957031\"/>\n       <use xlink:href=\"#DejaVuSans-61\" x=\"345.744141\"/>\n       <use xlink:href=\"#DejaVuSans-67\" x=\"407.023438\"/>\n       <use xlink:href=\"#DejaVuSans-65\" x=\"470.5\"/>\n       <use xlink:href=\"#DejaVuSans-6e\" x=\"532.023438\"/>\n       <use xlink:href=\"#DejaVuSans-74\" x=\"595.402344\"/>\n       <use xlink:href=\"#DejaVuSans-73\" x=\"634.611328\"/>\n      </g>\n     </g>\n    </g>\n    <g id=\"xtick_16\">\n     <g id=\"line2d_16\">\n      <g>\n       <use xlink:href=\"#m7584ec6937\" x=\"636.290625\" y=\"354.958125\" style=\"stroke: #000000; stroke-width: 0.8\"/>\n      </g>\n     </g>\n     <g id=\"text_16\">\n      <!-- Secretaries -->\n      <g transform=\"translate(618.322931 407.168765)rotate(-45)scale(0.1 -0.1)\">\n       <use xlink:href=\"#DejaVuSans-53\"/>\n       <use xlink:href=\"#DejaVuSans-65\" x=\"63.476562\"/>\n       <use xlink:href=\"#DejaVuSans-63\" x=\"125\"/>\n       <use xlink:href=\"#DejaVuSans-72\" x=\"179.980469\"/>\n       <use xlink:href=\"#DejaVuSans-65\" x=\"218.84375\"/>\n       <use xlink:href=\"#DejaVuSans-74\" x=\"280.367188\"/>\n       <use xlink:href=\"#DejaVuSans-61\" x=\"319.576172\"/>\n       <use xlink:href=\"#DejaVuSans-72\" x=\"380.855469\"/>\n       <use xlink:href=\"#DejaVuSans-69\" x=\"421.96875\"/>\n       <use xlink:href=\"#DejaVuSans-65\" x=\"449.751953\"/>\n       <use xlink:href=\"#DejaVuSans-73\" x=\"511.275391\"/>\n      </g>\n     </g>\n    </g>\n    <g id=\"xtick_17\">\n     <g id=\"line2d_17\">\n      <g>\n       <use xlink:href=\"#m7584ec6937\" x=\"673.490625\" y=\"354.958125\" style=\"stroke: #000000; stroke-width: 0.8\"/>\n      </g>\n     </g>\n     <g id=\"text_17\">\n      <!-- IT staff -->\n      <g transform=\"translate(663.232052 391.750522)rotate(-45)scale(0.1 -0.1)\">\n       <defs>\n        <path id=\"DejaVuSans-49\" d=\"M 628 4666 \nL 1259 4666 \nL 1259 0 \nL 628 0 \nL 628 4666 \nz\n\" transform=\"scale(0.015625)\"/>\n        <path id=\"DejaVuSans-54\" d=\"M -19 4666 \nL 3928 4666 \nL 3928 4134 \nL 2272 4134 \nL 2272 0 \nL 1638 0 \nL 1638 4134 \nL -19 4134 \nL -19 4666 \nz\n\" transform=\"scale(0.015625)\"/>\n       </defs>\n       <use xlink:href=\"#DejaVuSans-49\"/>\n       <use xlink:href=\"#DejaVuSans-54\" x=\"29.492188\"/>\n       <use xlink:href=\"#DejaVuSans-20\" x=\"90.576172\"/>\n       <use xlink:href=\"#DejaVuSans-73\" x=\"122.363281\"/>\n       <use xlink:href=\"#DejaVuSans-74\" x=\"174.462891\"/>\n       <use xlink:href=\"#DejaVuSans-61\" x=\"213.671875\"/>\n       <use xlink:href=\"#DejaVuSans-66\" x=\"274.951172\"/>\n       <use xlink:href=\"#DejaVuSans-66\" x=\"310.15625\"/>\n      </g>\n     </g>\n    </g>\n    <g id=\"xtick_18\">\n     <g id=\"line2d_18\">\n      <g>\n       <use xlink:href=\"#m7584ec6937\" x=\"710.690625\" y=\"354.958125\" style=\"stroke: #000000; stroke-width: 0.8\"/>\n      </g>\n     </g>\n     <g id=\"text_18\">\n      <!-- HR staff -->\n      <g transform=\"translate(698.518997 395.576633)rotate(-45)scale(0.1 -0.1)\">\n       <use xlink:href=\"#DejaVuSans-48\"/>\n       <use xlink:href=\"#DejaVuSans-52\" x=\"75.195312\"/>\n       <use xlink:href=\"#DejaVuSans-20\" x=\"144.677734\"/>\n       <use xlink:href=\"#DejaVuSans-73\" x=\"176.464844\"/>\n       <use xlink:href=\"#DejaVuSans-74\" x=\"228.564453\"/>\n       <use xlink:href=\"#DejaVuSans-61\" x=\"267.773438\"/>\n       <use xlink:href=\"#DejaVuSans-66\" x=\"329.052734\"/>\n       <use xlink:href=\"#DejaVuSans-66\" x=\"364.257812\"/>\n      </g>\n     </g>\n    </g>\n    <g id=\"text_19\">\n     <!-- Client Occupation Type -->\n     <g transform=\"translate(336.935938 454.673864)scale(0.1 -0.1)\">\n      <defs>\n       <path id=\"DejaVuSans-4f\" d=\"M 2522 4238 \nQ 1834 4238 1429 3725 \nQ 1025 3213 1025 2328 \nQ 1025 1447 1429 934 \nQ 1834 422 2522 422 \nQ 3209 422 3611 934 \nQ 4013 1447 4013 2328 \nQ 4013 3213 3611 3725 \nQ 3209 4238 2522 4238 \nz\nM 2522 4750 \nQ 3503 4750 4090 4092 \nQ 4678 3434 4678 2328 \nQ 4678 1225 4090 567 \nQ 3503 -91 2522 -91 \nQ 1538 -91 948 565 \nQ 359 1222 359 2328 \nQ 359 3434 948 4092 \nQ 1538 4750 2522 4750 \nz\n\" transform=\"scale(0.015625)\"/>\n       <path id=\"DejaVuSans-70\" d=\"M 1159 525 \nL 1159 -1331 \nL 581 -1331 \nL 581 3500 \nL 1159 3500 \nL 1159 2969 \nQ 1341 3281 1617 3432 \nQ 1894 3584 2278 3584 \nQ 2916 3584 3314 3078 \nQ 3713 2572 3713 1747 \nQ 3713 922 3314 415 \nQ 2916 -91 2278 -91 \nQ 1894 -91 1617 61 \nQ 1341 213 1159 525 \nz\nM 3116 1747 \nQ 3116 2381 2855 2742 \nQ 2594 3103 2138 3103 \nQ 1681 3103 1420 2742 \nQ 1159 2381 1159 1747 \nQ 1159 1113 1420 752 \nQ 1681 391 2138 391 \nQ 2594 391 2855 752 \nQ 3116 1113 3116 1747 \nz\n\" transform=\"scale(0.015625)\"/>\n      </defs>\n      <use xlink:href=\"#DejaVuSans-43\"/>\n      <use xlink:href=\"#DejaVuSans-6c\" x=\"69.824219\"/>\n      <use xlink:href=\"#DejaVuSans-69\" x=\"97.607422\"/>\n      <use xlink:href=\"#DejaVuSans-65\" x=\"125.390625\"/>\n      <use xlink:href=\"#DejaVuSans-6e\" x=\"186.914062\"/>\n      <use xlink:href=\"#DejaVuSans-74\" x=\"250.292969\"/>\n      <use xlink:href=\"#DejaVuSans-20\" x=\"289.501953\"/>\n      <use xlink:href=\"#DejaVuSans-4f\" x=\"321.289062\"/>\n      <use xlink:href=\"#DejaVuSans-63\" x=\"400\"/>\n      <use xlink:href=\"#DejaVuSans-63\" x=\"454.980469\"/>\n      <use xlink:href=\"#DejaVuSans-75\" x=\"509.960938\"/>\n      <use xlink:href=\"#DejaVuSans-70\" x=\"573.339844\"/>\n      <use xlink:href=\"#DejaVuSans-61\" x=\"636.816406\"/>\n      <use xlink:href=\"#DejaVuSans-74\" x=\"698.095703\"/>\n      <use xlink:href=\"#DejaVuSans-69\" x=\"737.304688\"/>\n      <use xlink:href=\"#DejaVuSans-6f\" x=\"765.087891\"/>\n      <use xlink:href=\"#DejaVuSans-6e\" x=\"826.269531\"/>\n      <use xlink:href=\"#DejaVuSans-20\" x=\"889.648438\"/>\n      <use xlink:href=\"#DejaVuSans-54\" x=\"921.435547\"/>\n      <use xlink:href=\"#DejaVuSans-79\" x=\"966.894531\"/>\n      <use xlink:href=\"#DejaVuSans-70\" x=\"1026.074219\"/>\n      <use xlink:href=\"#DejaVuSans-65\" x=\"1089.550781\"/>\n     </g>\n    </g>\n   </g>\n   <g id=\"matplotlib.axis_2\">\n    <g id=\"ytick_1\">\n     <g id=\"line2d_19\">\n      <defs>\n       <path id=\"m1fd5791f6d\" d=\"M 0 0 \nL -3.5 0 \n\" style=\"stroke: #000000; stroke-width: 0.8\"/>\n      </defs>\n      <g>\n       <use xlink:href=\"#m1fd5791f6d\" x=\"59.690625\" y=\"354.958125\" style=\"stroke: #000000; stroke-width: 0.8\"/>\n      </g>\n     </g>\n     <g id=\"text_20\">\n      <!-- 0 -->\n      <g transform=\"translate(46.328125 358.757344)scale(0.1 -0.1)\">\n       <defs>\n        <path id=\"DejaVuSans-30\" d=\"M 2034 4250 \nQ 1547 4250 1301 3770 \nQ 1056 3291 1056 2328 \nQ 1056 1369 1301 889 \nQ 1547 409 2034 409 \nQ 2525 409 2770 889 \nQ 3016 1369 3016 2328 \nQ 3016 3291 2770 3770 \nQ 2525 4250 2034 4250 \nz\nM 2034 4750 \nQ 2819 4750 3233 4129 \nQ 3647 3509 3647 2328 \nQ 3647 1150 3233 529 \nQ 2819 -91 2034 -91 \nQ 1250 -91 836 529 \nQ 422 1150 422 2328 \nQ 422 3509 836 4129 \nQ 1250 4750 2034 4750 \nz\n\" transform=\"scale(0.015625)\"/>\n       </defs>\n       <use xlink:href=\"#DejaVuSans-30\"/>\n      </g>\n     </g>\n    </g>\n    <g id=\"ytick_2\">\n     <g id=\"line2d_20\">\n      <g>\n       <use xlink:href=\"#m1fd5791f6d\" x=\"59.690625\" y=\"297.552261\" style=\"stroke: #000000; stroke-width: 0.8\"/>\n      </g>\n     </g>\n     <g id=\"text_21\">\n      <!-- 10000 -->\n      <g transform=\"translate(20.878125 301.35148)scale(0.1 -0.1)\">\n       <defs>\n        <path id=\"DejaVuSans-31\" d=\"M 794 531 \nL 1825 531 \nL 1825 4091 \nL 703 3866 \nL 703 4441 \nL 1819 4666 \nL 2450 4666 \nL 2450 531 \nL 3481 531 \nL 3481 0 \nL 794 0 \nL 794 531 \nz\n\" transform=\"scale(0.015625)\"/>\n       </defs>\n       <use xlink:href=\"#DejaVuSans-31\"/>\n       <use xlink:href=\"#DejaVuSans-30\" x=\"63.623047\"/>\n       <use xlink:href=\"#DejaVuSans-30\" x=\"127.246094\"/>\n       <use xlink:href=\"#DejaVuSans-30\" x=\"190.869141\"/>\n       <use xlink:href=\"#DejaVuSans-30\" x=\"254.492188\"/>\n      </g>\n     </g>\n    </g>\n    <g id=\"ytick_3\">\n     <g id=\"line2d_21\">\n      <g>\n       <use xlink:href=\"#m1fd5791f6d\" x=\"59.690625\" y=\"240.146397\" style=\"stroke: #000000; stroke-width: 0.8\"/>\n      </g>\n     </g>\n     <g id=\"text_22\">\n      <!-- 20000 -->\n      <g transform=\"translate(20.878125 243.945616)scale(0.1 -0.1)\">\n       <defs>\n        <path id=\"DejaVuSans-32\" d=\"M 1228 531 \nL 3431 531 \nL 3431 0 \nL 469 0 \nL 469 531 \nQ 828 903 1448 1529 \nQ 2069 2156 2228 2338 \nQ 2531 2678 2651 2914 \nQ 2772 3150 2772 3378 \nQ 2772 3750 2511 3984 \nQ 2250 4219 1831 4219 \nQ 1534 4219 1204 4116 \nQ 875 4013 500 3803 \nL 500 4441 \nQ 881 4594 1212 4672 \nQ 1544 4750 1819 4750 \nQ 2544 4750 2975 4387 \nQ 3406 4025 3406 3419 \nQ 3406 3131 3298 2873 \nQ 3191 2616 2906 2266 \nQ 2828 2175 2409 1742 \nQ 1991 1309 1228 531 \nz\n\" transform=\"scale(0.015625)\"/>\n       </defs>\n       <use xlink:href=\"#DejaVuSans-32\"/>\n       <use xlink:href=\"#DejaVuSans-30\" x=\"63.623047\"/>\n       <use xlink:href=\"#DejaVuSans-30\" x=\"127.246094\"/>\n       <use xlink:href=\"#DejaVuSans-30\" x=\"190.869141\"/>\n       <use xlink:href=\"#DejaVuSans-30\" x=\"254.492188\"/>\n      </g>\n     </g>\n    </g>\n    <g id=\"ytick_4\">\n     <g id=\"line2d_22\">\n      <g>\n       <use xlink:href=\"#m1fd5791f6d\" x=\"59.690625\" y=\"182.740534\" style=\"stroke: #000000; stroke-width: 0.8\"/>\n      </g>\n     </g>\n     <g id=\"text_23\">\n      <!-- 30000 -->\n      <g transform=\"translate(20.878125 186.539752)scale(0.1 -0.1)\">\n       <defs>\n        <path id=\"DejaVuSans-33\" d=\"M 2597 2516 \nQ 3050 2419 3304 2112 \nQ 3559 1806 3559 1356 \nQ 3559 666 3084 287 \nQ 2609 -91 1734 -91 \nQ 1441 -91 1130 -33 \nQ 819 25 488 141 \nL 488 750 \nQ 750 597 1062 519 \nQ 1375 441 1716 441 \nQ 2309 441 2620 675 \nQ 2931 909 2931 1356 \nQ 2931 1769 2642 2001 \nQ 2353 2234 1838 2234 \nL 1294 2234 \nL 1294 2753 \nL 1863 2753 \nQ 2328 2753 2575 2939 \nQ 2822 3125 2822 3475 \nQ 2822 3834 2567 4026 \nQ 2313 4219 1838 4219 \nQ 1578 4219 1281 4162 \nQ 984 4106 628 3988 \nL 628 4550 \nQ 988 4650 1302 4700 \nQ 1616 4750 1894 4750 \nQ 2613 4750 3031 4423 \nQ 3450 4097 3450 3541 \nQ 3450 3153 3228 2886 \nQ 3006 2619 2597 2516 \nz\n\" transform=\"scale(0.015625)\"/>\n       </defs>\n       <use xlink:href=\"#DejaVuSans-33\"/>\n       <use xlink:href=\"#DejaVuSans-30\" x=\"63.623047\"/>\n       <use xlink:href=\"#DejaVuSans-30\" x=\"127.246094\"/>\n       <use xlink:href=\"#DejaVuSans-30\" x=\"190.869141\"/>\n       <use xlink:href=\"#DejaVuSans-30\" x=\"254.492188\"/>\n      </g>\n     </g>\n    </g>\n    <g id=\"ytick_5\">\n     <g id=\"line2d_23\">\n      <g>\n       <use xlink:href=\"#m1fd5791f6d\" x=\"59.690625\" y=\"125.33467\" style=\"stroke: #000000; stroke-width: 0.8\"/>\n      </g>\n     </g>\n     <g id=\"text_24\">\n      <!-- 40000 -->\n      <g transform=\"translate(20.878125 129.133889)scale(0.1 -0.1)\">\n       <defs>\n        <path id=\"DejaVuSans-34\" d=\"M 2419 4116 \nL 825 1625 \nL 2419 1625 \nL 2419 4116 \nz\nM 2253 4666 \nL 3047 4666 \nL 3047 1625 \nL 3713 1625 \nL 3713 1100 \nL 3047 1100 \nL 3047 0 \nL 2419 0 \nL 2419 1100 \nL 313 1100 \nL 313 1709 \nL 2253 4666 \nz\n\" transform=\"scale(0.015625)\"/>\n       </defs>\n       <use xlink:href=\"#DejaVuSans-34\"/>\n       <use xlink:href=\"#DejaVuSans-30\" x=\"63.623047\"/>\n       <use xlink:href=\"#DejaVuSans-30\" x=\"127.246094\"/>\n       <use xlink:href=\"#DejaVuSans-30\" x=\"190.869141\"/>\n       <use xlink:href=\"#DejaVuSans-30\" x=\"254.492188\"/>\n      </g>\n     </g>\n    </g>\n    <g id=\"ytick_6\">\n     <g id=\"line2d_24\">\n      <g>\n       <use xlink:href=\"#m1fd5791f6d\" x=\"59.690625\" y=\"67.928806\" style=\"stroke: #000000; stroke-width: 0.8\"/>\n      </g>\n     </g>\n     <g id=\"text_25\">\n      <!-- 50000 -->\n      <g transform=\"translate(20.878125 71.728025)scale(0.1 -0.1)\">\n       <defs>\n        <path id=\"DejaVuSans-35\" d=\"M 691 4666 \nL 3169 4666 \nL 3169 4134 \nL 1269 4134 \nL 1269 2991 \nQ 1406 3038 1543 3061 \nQ 1681 3084 1819 3084 \nQ 2600 3084 3056 2656 \nQ 3513 2228 3513 1497 \nQ 3513 744 3044 326 \nQ 2575 -91 1722 -91 \nQ 1428 -91 1123 -41 \nQ 819 9 494 109 \nL 494 744 \nQ 775 591 1075 516 \nQ 1375 441 1709 441 \nQ 2250 441 2565 725 \nQ 2881 1009 2881 1497 \nQ 2881 1984 2565 2268 \nQ 2250 2553 1709 2553 \nQ 1456 2553 1204 2497 \nQ 953 2441 691 2322 \nL 691 4666 \nz\n\" transform=\"scale(0.015625)\"/>\n       </defs>\n       <use xlink:href=\"#DejaVuSans-35\"/>\n       <use xlink:href=\"#DejaVuSans-30\" x=\"63.623047\"/>\n       <use xlink:href=\"#DejaVuSans-30\" x=\"127.246094\"/>\n       <use xlink:href=\"#DejaVuSans-30\" x=\"190.869141\"/>\n       <use xlink:href=\"#DejaVuSans-30\" x=\"254.492188\"/>\n      </g>\n     </g>\n    </g>\n    <g id=\"text_26\">\n     <!-- Count of Loan Applicants -->\n     <g transform=\"translate(14.798438 251.157656)rotate(-90)scale(0.1 -0.1)\">\n      <use xlink:href=\"#DejaVuSans-43\"/>\n      <use xlink:href=\"#DejaVuSans-6f\" x=\"69.824219\"/>\n      <use xlink:href=\"#DejaVuSans-75\" x=\"131.005859\"/>\n      <use xlink:href=\"#DejaVuSans-6e\" x=\"194.384766\"/>\n      <use xlink:href=\"#DejaVuSans-74\" x=\"257.763672\"/>\n      <use xlink:href=\"#DejaVuSans-20\" x=\"296.972656\"/>\n      <use xlink:href=\"#DejaVuSans-6f\" x=\"328.759766\"/>\n      <use xlink:href=\"#DejaVuSans-66\" x=\"389.941406\"/>\n      <use xlink:href=\"#DejaVuSans-20\" x=\"425.146484\"/>\n      <use xlink:href=\"#DejaVuSans-4c\" x=\"456.933594\"/>\n      <use xlink:href=\"#DejaVuSans-6f\" x=\"510.896484\"/>\n      <use xlink:href=\"#DejaVuSans-61\" x=\"572.078125\"/>\n      <use xlink:href=\"#DejaVuSans-6e\" x=\"633.357422\"/>\n      <use xlink:href=\"#DejaVuSans-20\" x=\"696.736328\"/>\n      <use xlink:href=\"#DejaVuSans-41\" x=\"728.523438\"/>\n      <use xlink:href=\"#DejaVuSans-70\" x=\"796.931641\"/>\n      <use xlink:href=\"#DejaVuSans-70\" x=\"860.408203\"/>\n      <use xlink:href=\"#DejaVuSans-6c\" x=\"923.884766\"/>\n      <use xlink:href=\"#DejaVuSans-69\" x=\"951.667969\"/>\n      <use xlink:href=\"#DejaVuSans-63\" x=\"979.451172\"/>\n      <use xlink:href=\"#DejaVuSans-61\" x=\"1034.431641\"/>\n      <use xlink:href=\"#DejaVuSans-6e\" x=\"1095.710938\"/>\n      <use xlink:href=\"#DejaVuSans-74\" x=\"1159.089844\"/>\n      <use xlink:href=\"#DejaVuSans-73\" x=\"1198.298828\"/>\n     </g>\n    </g>\n   </g>\n   <g id=\"patch_21\">\n    <path d=\"M 59.690625 354.958125 \nL 59.690625 22.318125 \n\" style=\"fill: none; stroke: #000000; stroke-width: 0.8; stroke-linejoin: miter; stroke-linecap: square\"/>\n   </g>\n   <g id=\"patch_22\">\n    <path d=\"M 729.290625 354.958125 \nL 729.290625 22.318125 \n\" style=\"fill: none; stroke: #000000; stroke-width: 0.8; stroke-linejoin: miter; stroke-linecap: square\"/>\n   </g>\n   <g id=\"patch_23\">\n    <path d=\"M 59.690625 354.958125 \nL 729.290625 354.958125 \n\" style=\"fill: none; stroke: #000000; stroke-width: 0.8; stroke-linejoin: miter; stroke-linecap: square\"/>\n   </g>\n   <g id=\"patch_24\">\n    <path d=\"M 59.690625 22.318125 \nL 729.290625 22.318125 \n\" style=\"fill: none; stroke: #000000; stroke-width: 0.8; stroke-linejoin: miter; stroke-linecap: square\"/>\n   </g>\n   <g id=\"text_27\">\n    <!-- 55186 -->\n    <g transform=\"translate(62.384375 30.9175)scale(0.1 -0.1)\">\n     <defs>\n      <path id=\"DejaVuSans-38\" d=\"M 2034 2216 \nQ 1584 2216 1326 1975 \nQ 1069 1734 1069 1313 \nQ 1069 891 1326 650 \nQ 1584 409 2034 409 \nQ 2484 409 2743 651 \nQ 3003 894 3003 1313 \nQ 3003 1734 2745 1975 \nQ 2488 2216 2034 2216 \nz\nM 1403 2484 \nQ 997 2584 770 2862 \nQ 544 3141 544 3541 \nQ 544 4100 942 4425 \nQ 1341 4750 2034 4750 \nQ 2731 4750 3128 4425 \nQ 3525 4100 3525 3541 \nQ 3525 3141 3298 2862 \nQ 3072 2584 2669 2484 \nQ 3125 2378 3379 2068 \nQ 3634 1759 3634 1313 \nQ 3634 634 3220 271 \nQ 2806 -91 2034 -91 \nQ 1263 -91 848 271 \nQ 434 634 434 1313 \nQ 434 1759 690 2068 \nQ 947 2378 1403 2484 \nz\nM 1172 3481 \nQ 1172 3119 1398 2916 \nQ 1625 2713 2034 2713 \nQ 2441 2713 2670 2916 \nQ 2900 3119 2900 3481 \nQ 2900 3844 2670 4047 \nQ 2441 4250 2034 4250 \nQ 1625 4250 1398 4047 \nQ 1172 3844 1172 3481 \nz\n\" transform=\"scale(0.015625)\"/>\n      <path id=\"DejaVuSans-36\" d=\"M 2113 2584 \nQ 1688 2584 1439 2293 \nQ 1191 2003 1191 1497 \nQ 1191 994 1439 701 \nQ 1688 409 2113 409 \nQ 2538 409 2786 701 \nQ 3034 994 3034 1497 \nQ 3034 2003 2786 2293 \nQ 2538 2584 2113 2584 \nz\nM 3366 4563 \nL 3366 3988 \nQ 3128 4100 2886 4159 \nQ 2644 4219 2406 4219 \nQ 1781 4219 1451 3797 \nQ 1122 3375 1075 2522 \nQ 1259 2794 1537 2939 \nQ 1816 3084 2150 3084 \nQ 2853 3084 3261 2657 \nQ 3669 2231 3669 1497 \nQ 3669 778 3244 343 \nQ 2819 -91 2113 -91 \nQ 1303 -91 875 529 \nQ 447 1150 447 2328 \nQ 447 3434 972 4092 \nQ 1497 4750 2381 4750 \nQ 2619 4750 2861 4703 \nQ 3103 4656 3366 4563 \nz\n\" transform=\"scale(0.015625)\"/>\n     </defs>\n     <use xlink:href=\"#DejaVuSans-35\"/>\n     <use xlink:href=\"#DejaVuSans-35\" x=\"63.623047\"/>\n     <use xlink:href=\"#DejaVuSans-31\" x=\"127.246094\"/>\n     <use xlink:href=\"#DejaVuSans-38\" x=\"190.869141\"/>\n     <use xlink:href=\"#DejaVuSans-36\" x=\"254.492188\"/>\n    </g>\n   </g>\n   <g id=\"text_28\">\n    <!-- 27570 -->\n    <g transform=\"translate(99.584375 189.449533)scale(0.1 -0.1)\">\n     <defs>\n      <path id=\"DejaVuSans-37\" d=\"M 525 4666 \nL 3525 4666 \nL 3525 4397 \nL 1831 0 \nL 1172 0 \nL 2766 4134 \nL 525 4134 \nL 525 4666 \nz\n\" transform=\"scale(0.015625)\"/>\n     </defs>\n     <use xlink:href=\"#DejaVuSans-32\"/>\n     <use xlink:href=\"#DejaVuSans-37\" x=\"63.623047\"/>\n     <use xlink:href=\"#DejaVuSans-35\" x=\"127.246094\"/>\n     <use xlink:href=\"#DejaVuSans-37\" x=\"190.869141\"/>\n     <use xlink:href=\"#DejaVuSans-30\" x=\"254.492188\"/>\n    </g>\n   </g>\n   <g id=\"text_29\">\n    <!-- 9813 -->\n    <g transform=\"translate(139.965625 291.385126)scale(0.1 -0.1)\">\n     <defs>\n      <path id=\"DejaVuSans-39\" d=\"M 703 97 \nL 703 672 \nQ 941 559 1184 500 \nQ 1428 441 1663 441 \nQ 2288 441 2617 861 \nQ 2947 1281 2994 2138 \nQ 2813 1869 2534 1725 \nQ 2256 1581 1919 1581 \nQ 1219 1581 811 2004 \nQ 403 2428 403 3163 \nQ 403 3881 828 4315 \nQ 1253 4750 1959 4750 \nQ 2769 4750 3195 4129 \nQ 3622 3509 3622 2328 \nQ 3622 1225 3098 567 \nQ 2575 -91 1691 -91 \nQ 1453 -91 1209 -44 \nQ 966 3 703 97 \nz\nM 1959 2075 \nQ 2384 2075 2632 2365 \nQ 2881 2656 2881 3163 \nQ 2881 3666 2632 3958 \nQ 2384 4250 1959 4250 \nQ 1534 4250 1286 3958 \nQ 1038 3666 1038 3163 \nQ 1038 2656 1286 2365 \nQ 1534 2075 1959 2075 \nz\n\" transform=\"scale(0.015625)\"/>\n     </defs>\n     <use xlink:href=\"#DejaVuSans-39\"/>\n     <use xlink:href=\"#DejaVuSans-38\" x=\"63.623047\"/>\n     <use xlink:href=\"#DejaVuSans-31\" x=\"127.246094\"/>\n     <use xlink:href=\"#DejaVuSans-33\" x=\"190.869141\"/>\n    </g>\n   </g>\n   <g id=\"text_30\">\n    <!-- 21371 -->\n    <g transform=\"translate(173.984375 225.035428)scale(0.1 -0.1)\">\n     <use xlink:href=\"#DejaVuSans-32\"/>\n     <use xlink:href=\"#DejaVuSans-31\" x=\"63.623047\"/>\n     <use xlink:href=\"#DejaVuSans-33\" x=\"127.246094\"/>\n     <use xlink:href=\"#DejaVuSans-37\" x=\"190.869141\"/>\n     <use xlink:href=\"#DejaVuSans-31\" x=\"254.492188\"/>\n    </g>\n   </g>\n   <g id=\"text_31\">\n    <!-- 18603 -->\n    <g transform=\"translate(211.184375 240.925372)scale(0.1 -0.1)\">\n     <use xlink:href=\"#DejaVuSans-31\"/>\n     <use xlink:href=\"#DejaVuSans-38\" x=\"63.623047\"/>\n     <use xlink:href=\"#DejaVuSans-36\" x=\"127.246094\"/>\n     <use xlink:href=\"#DejaVuSans-30\" x=\"190.869141\"/>\n     <use xlink:href=\"#DejaVuSans-33\" x=\"254.492188\"/>\n    </g>\n   </g>\n   <g id=\"text_32\">\n    <!-- 32102 -->\n    <g transform=\"translate(248.384375 163.433196)scale(0.1 -0.1)\">\n     <use xlink:href=\"#DejaVuSans-33\"/>\n     <use xlink:href=\"#DejaVuSans-32\" x=\"63.623047\"/>\n     <use xlink:href=\"#DejaVuSans-31\" x=\"127.246094\"/>\n     <use xlink:href=\"#DejaVuSans-30\" x=\"190.869141\"/>\n     <use xlink:href=\"#DejaVuSans-32\" x=\"254.492188\"/>\n    </g>\n   </g>\n   <g id=\"text_33\">\n    <!-- 4653 -->\n    <g transform=\"translate(288.765625 321.006552)scale(0.1 -0.1)\">\n     <use xlink:href=\"#DejaVuSans-34\"/>\n     <use xlink:href=\"#DejaVuSans-36\" x=\"63.623047\"/>\n     <use xlink:href=\"#DejaVuSans-35\" x=\"127.246094\"/>\n     <use xlink:href=\"#DejaVuSans-33\" x=\"190.869141\"/>\n    </g>\n   </g>\n   <g id=\"text_34\">\n    <!-- 5946 -->\n    <g transform=\"translate(325.965625 313.583973)scale(0.1 -0.1)\">\n     <use xlink:href=\"#DejaVuSans-35\"/>\n     <use xlink:href=\"#DejaVuSans-39\" x=\"63.623047\"/>\n     <use xlink:href=\"#DejaVuSans-34\" x=\"127.246094\"/>\n     <use xlink:href=\"#DejaVuSans-36\" x=\"190.869141\"/>\n    </g>\n   </g>\n   <g id=\"text_35\">\n    <!-- 2652 -->\n    <g transform=\"translate(363.165625 332.493465)scale(0.1 -0.1)\">\n     <use xlink:href=\"#DejaVuSans-32\"/>\n     <use xlink:href=\"#DejaVuSans-36\" x=\"63.623047\"/>\n     <use xlink:href=\"#DejaVuSans-35\" x=\"127.246094\"/>\n     <use xlink:href=\"#DejaVuSans-32\" x=\"190.869141\"/>\n    </g>\n   </g>\n   <g id=\"text_36\">\n    <!-- 8537 -->\n    <g transform=\"translate(400.365625 298.710114)scale(0.1 -0.1)\">\n     <use xlink:href=\"#DejaVuSans-38\"/>\n     <use xlink:href=\"#DejaVuSans-35\" x=\"63.623047\"/>\n     <use xlink:href=\"#DejaVuSans-33\" x=\"127.246094\"/>\n     <use xlink:href=\"#DejaVuSans-37\" x=\"190.869141\"/>\n    </g>\n   </g>\n   <g id=\"text_37\">\n    <!-- 6721 -->\n    <g transform=\"translate(437.565625 309.135019)scale(0.1 -0.1)\">\n     <use xlink:href=\"#DejaVuSans-36\"/>\n     <use xlink:href=\"#DejaVuSans-37\" x=\"63.623047\"/>\n     <use xlink:href=\"#DejaVuSans-32\" x=\"127.246094\"/>\n     <use xlink:href=\"#DejaVuSans-31\" x=\"190.869141\"/>\n    </g>\n   </g>\n   <g id=\"text_38\">\n    <!-- 11380 -->\n    <g transform=\"translate(471.584375 282.389627)scale(0.1 -0.1)\">\n     <use xlink:href=\"#DejaVuSans-31\"/>\n     <use xlink:href=\"#DejaVuSans-31\" x=\"63.623047\"/>\n     <use xlink:href=\"#DejaVuSans-33\" x=\"127.246094\"/>\n     <use xlink:href=\"#DejaVuSans-38\" x=\"190.869141\"/>\n     <use xlink:href=\"#DejaVuSans-30\" x=\"254.492188\"/>\n    </g>\n   </g>\n   <g id=\"text_39\">\n    <!-- 1348 -->\n    <g transform=\"translate(511.965625 339.97919)scale(0.1 -0.1)\">\n     <use xlink:href=\"#DejaVuSans-31\"/>\n     <use xlink:href=\"#DejaVuSans-33\" x=\"63.623047\"/>\n     <use xlink:href=\"#DejaVuSans-34\" x=\"127.246094\"/>\n     <use xlink:href=\"#DejaVuSans-38\" x=\"190.869141\"/>\n    </g>\n   </g>\n   <g id=\"text_40\">\n    <!-- 2093 -->\n    <g transform=\"translate(549.165625 335.702453)scale(0.1 -0.1)\">\n     <use xlink:href=\"#DejaVuSans-32\"/>\n     <use xlink:href=\"#DejaVuSans-30\" x=\"63.623047\"/>\n     <use xlink:href=\"#DejaVuSans-39\" x=\"127.246094\"/>\n     <use xlink:href=\"#DejaVuSans-33\" x=\"190.869141\"/>\n    </g>\n   </g>\n   <g id=\"text_41\">\n    <!-- 751 -->\n    <g transform=\"translate(589.546875 343.40632)scale(0.1 -0.1)\">\n     <use xlink:href=\"#DejaVuSans-37\"/>\n     <use xlink:href=\"#DejaVuSans-35\" x=\"63.623047\"/>\n     <use xlink:href=\"#DejaVuSans-31\" x=\"127.246094\"/>\n    </g>\n   </g>\n   <g id=\"text_42\">\n    <!-- 1305 -->\n    <g transform=\"translate(623.565625 340.226035)scale(0.1 -0.1)\">\n     <use xlink:href=\"#DejaVuSans-31\"/>\n     <use xlink:href=\"#DejaVuSans-33\" x=\"63.623047\"/>\n     <use xlink:href=\"#DejaVuSans-30\" x=\"127.246094\"/>\n     <use xlink:href=\"#DejaVuSans-35\" x=\"190.869141\"/>\n    </g>\n   </g>\n   <g id=\"text_43\">\n    <!-- 526 -->\n    <g transform=\"translate(663.946875 344.697952)scale(0.1 -0.1)\">\n     <use xlink:href=\"#DejaVuSans-35\"/>\n     <use xlink:href=\"#DejaVuSans-32\" x=\"63.623047\"/>\n     <use xlink:href=\"#DejaVuSans-36\" x=\"127.246094\"/>\n    </g>\n   </g>\n   <g id=\"text_44\">\n    <!-- 563 -->\n    <g transform=\"translate(701.146875 344.48555)scale(0.1 -0.1)\">\n     <use xlink:href=\"#DejaVuSans-35\"/>\n     <use xlink:href=\"#DejaVuSans-36\" x=\"63.623047\"/>\n     <use xlink:href=\"#DejaVuSans-33\" x=\"127.246094\"/>\n    </g>\n   </g>\n   <g id=\"text_45\">\n    <!-- Count of Loan Applicants by Client Occupation Type -->\n    <g transform=\"translate(239.2275 16.318125)scale(0.12 -0.12)\">\n     <use xlink:href=\"#DejaVuSans-43\"/>\n     <use xlink:href=\"#DejaVuSans-6f\" x=\"69.824219\"/>\n     <use xlink:href=\"#DejaVuSans-75\" x=\"131.005859\"/>\n     <use xlink:href=\"#DejaVuSans-6e\" x=\"194.384766\"/>\n     <use xlink:href=\"#DejaVuSans-74\" x=\"257.763672\"/>\n     <use xlink:href=\"#DejaVuSans-20\" x=\"296.972656\"/>\n     <use xlink:href=\"#DejaVuSans-6f\" x=\"328.759766\"/>\n     <use xlink:href=\"#DejaVuSans-66\" x=\"389.941406\"/>\n     <use xlink:href=\"#DejaVuSans-20\" x=\"425.146484\"/>\n     <use xlink:href=\"#DejaVuSans-4c\" x=\"456.933594\"/>\n     <use xlink:href=\"#DejaVuSans-6f\" x=\"510.896484\"/>\n     <use xlink:href=\"#DejaVuSans-61\" x=\"572.078125\"/>\n     <use xlink:href=\"#DejaVuSans-6e\" x=\"633.357422\"/>\n     <use xlink:href=\"#DejaVuSans-20\" x=\"696.736328\"/>\n     <use xlink:href=\"#DejaVuSans-41\" x=\"728.523438\"/>\n     <use xlink:href=\"#DejaVuSans-70\" x=\"796.931641\"/>\n     <use xlink:href=\"#DejaVuSans-70\" x=\"860.408203\"/>\n     <use xlink:href=\"#DejaVuSans-6c\" x=\"923.884766\"/>\n     <use xlink:href=\"#DejaVuSans-69\" x=\"951.667969\"/>\n     <use xlink:href=\"#DejaVuSans-63\" x=\"979.451172\"/>\n     <use xlink:href=\"#DejaVuSans-61\" x=\"1034.431641\"/>\n     <use xlink:href=\"#DejaVuSans-6e\" x=\"1095.710938\"/>\n     <use xlink:href=\"#DejaVuSans-74\" x=\"1159.089844\"/>\n     <use xlink:href=\"#DejaVuSans-73\" x=\"1198.298828\"/>\n     <use xlink:href=\"#DejaVuSans-20\" x=\"1250.398438\"/>\n     <use xlink:href=\"#DejaVuSans-62\" x=\"1282.185547\"/>\n     <use xlink:href=\"#DejaVuSans-79\" x=\"1345.662109\"/>\n     <use xlink:href=\"#DejaVuSans-20\" x=\"1404.841797\"/>\n     <use xlink:href=\"#DejaVuSans-43\" x=\"1436.628906\"/>\n     <use xlink:href=\"#DejaVuSans-6c\" x=\"1506.453125\"/>\n     <use xlink:href=\"#DejaVuSans-69\" x=\"1534.236328\"/>\n     <use xlink:href=\"#DejaVuSans-65\" x=\"1562.019531\"/>\n     <use xlink:href=\"#DejaVuSans-6e\" x=\"1623.542969\"/>\n     <use xlink:href=\"#DejaVuSans-74\" x=\"1686.921875\"/>\n     <use xlink:href=\"#DejaVuSans-20\" x=\"1726.130859\"/>\n     <use xlink:href=\"#DejaVuSans-4f\" x=\"1757.917969\"/>\n     <use xlink:href=\"#DejaVuSans-63\" x=\"1836.628906\"/>\n     <use xlink:href=\"#DejaVuSans-63\" x=\"1891.609375\"/>\n     <use xlink:href=\"#DejaVuSans-75\" x=\"1946.589844\"/>\n     <use xlink:href=\"#DejaVuSans-70\" x=\"2009.96875\"/>\n     <use xlink:href=\"#DejaVuSans-61\" x=\"2073.445312\"/>\n     <use xlink:href=\"#DejaVuSans-74\" x=\"2134.724609\"/>\n     <use xlink:href=\"#DejaVuSans-69\" x=\"2173.933594\"/>\n     <use xlink:href=\"#DejaVuSans-6f\" x=\"2201.716797\"/>\n     <use xlink:href=\"#DejaVuSans-6e\" x=\"2262.898438\"/>\n     <use xlink:href=\"#DejaVuSans-20\" x=\"2326.277344\"/>\n     <use xlink:href=\"#DejaVuSans-54\" x=\"2358.064453\"/>\n     <use xlink:href=\"#DejaVuSans-79\" x=\"2403.523438\"/>\n     <use xlink:href=\"#DejaVuSans-70\" x=\"2462.703125\"/>\n     <use xlink:href=\"#DejaVuSans-65\" x=\"2526.179688\"/>\n    </g>\n   </g>\n  </g>\n </g>\n <defs>\n  <clipPath id=\"p4bf71c10b9\">\n   <rect x=\"59.690625\" y=\"22.318125\" width=\"669.6\" height=\"332.64\"/>\n  </clipPath>\n </defs>\n</svg>\n",
      "image/png": "[encoded data removed]"
     },
     "metadata": {}
    }
   ],
   "source": [
    "\n",
    "# Count plot for client occupation type\n",
    "plt.figure(figsize=(12, 6))\n",
    "ax = sns.countplot(data=applicationtrainDF, x='OCCUPATION_TYPE')\n",
    "plt.xlabel('Client Occupation Type')\n",
    "plt.ylabel('Count of Loan Applicants')\n",
    "plt.title('Count of Loan Applicants by Client Occupation Type')\n",
    "plt.xticks(rotation=45)\n",
    "\n",
    "for p in ax.patches:\n",
    "    ax.annotate(format(p.get_height(), '.0f'), (p.get_x() + p.get_width() / 2., p.get_height()),\n",
    "                ha = 'center', va = 'center', xytext = (0, 10), textcoords = 'offset points')\n",
    "\n",
    "plt.show()\n",
    "\n"
   ]
  },
  {
   "cell_type": "markdown",
   "id": "ab6276ea",
   "metadata": {},
   "source": [
    "# Results"
   ]
  },
  {
   "source": [
    "# SUMMARY OF EXPLORATORY DATA ANALYSIS \n",
    "\n",
    "DATA SUMMARY: This project constitutes 6 datasets in csv format namely, application_{train|test}.csv which is the main dataset, which has an active relation to the datasets previous_application.csv and bureau.csv with the SK_ID_CURR column. This column in the main dataset is unique and acts as an identifier for all loan applications. Bereau.csv dataset is further mapped one-to-one to bureau_balance.csv dataset with the SK_ID_BUREAU column and previous_application.csv is further mapped to 3 other datasets POS_CASH_balance.csv, installments_payments.csv and credit_card_balance.csv with the column SK_ID_Prev and both these are active relations. \n",
    "\n",
    "The target variable in Home Credit default risk project is TARGET column in application_train.csv dataset containing binary values, 1 for clients with payment difficulties and 0 for all other situations. 91% of the total records have 0 while remaining 9% has 1 as TARGET value. Based on this column, the project attempts to identify which all clients are at higher risk of credit default. \n",
    "\n",
    "Within the analysis the steps taken are to find the shapes of the dataframes, examining the first 5 rows each dataframe using the head() function, discovering common columns that each dataframe with each other, print the info for each of the dataframe variable objects, get summary statistics for each of the variables in teh dataframes, gather information about the categorical variables used in the dataframes, and printing lists of each of the unique value in the categorical variables of the data frames.\n",
    "\n",
    "Both the application.train dataset and application.test dataset contain missing values. Deciding whether to remove the rows that contain missing values, excluding certain variables, or imputing the missing values can potentionally have a high impact on the model's ability to predict the target variable accurately. Considering columns to imputed which are having missing value percentage above 40% is a good approach for this project. \n",
    "\n",
    "The projects' visualization displays most applicants are female and stand at nearly 60000 compared to male at 29000 and most clients are middle-aged as per the age distribution. Most applicants are living in apartments and most applicants are of occupation 'laborers'. \n",
    "\n",
    "\n",
    "Each of the dataframes has an interesting way of interacting with one another that we can use to determine our target variable of whether the borrower is trustworthy or not within our training set.\n",
    "\n",
    "After EDA, the next of the project will be to perform feature engineering, obtaining correlation between independent variables and modelling predictive algorithm using strongest predictors and target variable. \n",
    "\n"
   ],
   "cell_type": "markdown",
   "metadata": {}
  },
  {
   "cell_type": "markdown",
   "id": "83f2ae19",
   "metadata": {},
   "source": [
    "# Group Members and Participation"
   ]
  },
  {
   "source": [
    "## Rachel Butterfield\n",
    "\n",
    "Rachel Butterfield explored the scope of missing data in the training and test datasets. She examined all the variables in both sets by looking at the total count and percentage of missing values, examining a handful of the variables to see what the values were, identified possible outliers in the data. She also provided some strategic suggestions as to how to manage the missing data as we continue building out model. "
   ],
   "cell_type": "markdown",
   "metadata": {}
  }
 ],
 "metadata": {
  "kernelspec": {
   "display_name": "Python 3 (ipykernel)",
   "language": "python",
   "name": "python3"
  },
  "language_info": {
   "codemirror_mode": {
    "name": "ipython",
    "version": 3
   },
   "file_extension": ".py",
   "mimetype": "text/x-python",
   "name": "python",
   "nbconvert_exporter": "python",
   "pygments_lexer": "ipython3",
   "version": "3.9.13-final"
  },
  "toc": {
   "base_numbering": 1,
   "nav_menu": {
    "height": "138.99px",
    "width": "481.99px"
   },
   "number_sections": false,
   "sideBar": false,
   "skip_h1_title": false,
   "title_cell": "Table of Contents",
   "title_sidebar": "Contents",
   "toc_cell": true,
   "toc_position": {
    "height": "421.297px",
    "left": "1642px",
    "top": "139px",
    "width": "158.312px"
   },
   "toc_section_display": true,
   "toc_window_display": true
  }
 },
 "nbformat": 4,
 "nbformat_minor": 5
}