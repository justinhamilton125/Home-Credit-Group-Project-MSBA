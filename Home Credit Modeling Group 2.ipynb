{
 "cells": [
  {
   "cell_type": "markdown",
   "id": "2f4c3056",
   "metadata": {
    "toc": true
   },
   "source": [
    "<h1>Table of Contents<span class=\"tocSkip\"></span></h1>\n",
    "<div class=\"toc\"><ul class=\"toc-item\"><li><span><a href=\"#HOME-CREDIT-MODELING-ASSIGNMENT-GROUP-2\" data-toc-modified-id=\"HOME-CREDIT-MODELING-ASSIGNMENT-GROUP-2-1\">HOME CREDIT MODELING ASSIGNMENT GROUP 2</a></span><ul class=\"toc-item\"><li><span><a href=\"#Introduction\" data-toc-modified-id=\"Introduction-1.1\">Introduction</a></span></li></ul></li><li><span><a href=\"#Data-Preparation\" data-toc-modified-id=\"Data-Preparation-2\">Data Preparation</a></span><ul class=\"toc-item\"><li><span><a href=\"#Importing-Necessary-Packages\" data-toc-modified-id=\"Importing-Necessary-Packages-2.1\">Importing Necessary Packages</a></span></li><li><span><a href=\"#Making-the-dataframes-for-each-of-our-CSV-files\" data-toc-modified-id=\"Making-the-dataframes-for-each-of-our-CSV-files-2.2\">Making the dataframes for each of our CSV files</a></span></li><li><span><a href=\"#Combining-the-DFs-for-our-Analysis\" data-toc-modified-id=\"Combining-the-DFs-for-our-Analysis-2.3\">Combining the DFs for our Analysis</a></span></li><li><span><a href=\"#Cleaning-Data\" data-toc-modified-id=\"Cleaning-Data-2.4\">Cleaning Data</a></span><ul class=\"toc-item\"><li><span><a href=\"#Missing-Data\" data-toc-modified-id=\"Missing-Data-2.4.1\">Missing Data</a></span></li><li><span><a href=\"#Encoding-Categorical-Variables\" data-toc-modified-id=\"Encoding-Categorical-Variables-2.4.2\">Encoding Categorical Variables</a></span></li></ul></li></ul></li><li><span><a href=\"#Modeling-Process\" data-toc-modified-id=\"Modeling-Process-3\">Modeling Process</a></span><ul class=\"toc-item\"><li><span><a href=\"#Modeling-the-Gradient-Boosted-Trees-Model-of-the-Home-Credit-Data\" data-toc-modified-id=\"Modeling-the-Gradient-Boosted-Trees-Model-of-the-Home-Credit-Data-3.1\">Modeling the Gradient Boosted Trees Model of the Home Credit Data</a></span><ul class=\"toc-item\"><li><span><a href=\"#Oversampling-on-the-Training-Set\" data-toc-modified-id=\"Oversampling-on-the-Training-Set-3.1.1\">Oversampling on the Training Set</a></span></li><li><span><a href=\"#Hyperparameter-Tuning\" data-toc-modified-id=\"Hyperparameter-Tuning-3.1.2\">Hyperparameter Tuning</a></span></li><li><span><a href=\"#Training-the-Model-and-Cross-Validation\" data-toc-modified-id=\"Training-the-Model-and-Cross-Validation-3.1.3\">Training the Model and Cross Validation</a></span></li><li><span><a href=\"#Feature-Importance\" data-toc-modified-id=\"Feature-Importance-3.1.4\">Feature Importance</a></span></li><li><span><a href=\"#Accuracy-of-the-Model\" data-toc-modified-id=\"Accuracy-of-the-Model-3.1.5\">Accuracy of the Model</a></span></li><li><span><a href=\"#Prediction-on-the-Test-Set\" data-toc-modified-id=\"Prediction-on-the-Test-Set-3.1.6\">Prediction on the Test Set</a></span></li></ul></li><li><span><a href=\"#Recalling-Training-sets-and-Cross-Validations-For-Next-Model\" data-toc-modified-id=\"Recalling-Training-sets-and-Cross-Validations-For-Next-Model-3.2\">Recalling Training sets and Cross Validations For Next Model</a></span></li><li><span><a href=\"#Identifying-the-performance-benchmark-established-by-the-majority-class-classifier.\" data-toc-modified-id=\"Identifying-the-performance-benchmark-established-by-the-majority-class-classifier.-3.3\">Identifying the performance benchmark established by the majority class classifier.</a></span></li><li><span><a href=\"#Performing-the-data-transformations-needed-throughout-our-algorithms\" data-toc-modified-id=\"Performing-the-data-transformations-needed-throughout-our-algorithms-3.4\">Performing the data transformations needed throughout our algorithms</a></span></li><li><span><a href=\"#Multiple-Regression-Models\" data-toc-modified-id=\"Multiple-Regression-Models-3.5\">Multiple Regression Models</a></span><ul class=\"toc-item\"><li><span><a href=\"#Fitting-several-different-logistic-regression-models-using-different-interactions\" data-toc-modified-id=\"Fitting-several-different-logistic-regression-models-using-different-interactions-3.5.1\">Fitting several different logistic regression models using different interactions</a></span></li><li><span><a href=\"#Attempting-for-the-Up-and-Down-Sampling-for-the-Logistic-Regression-Model\" data-toc-modified-id=\"Attempting-for-the-Up-and-Down-Sampling-for-the-Logistic-Regression-Model-3.5.2\">Attempting for the Up and Down Sampling for the Logistic Regression Model</a></span></li><li><span><a href=\"#Hyper-Parameter-Tuning-of-the-Logistic-Regressions\" data-toc-modified-id=\"Hyper-Parameter-Tuning-of-the-Logistic-Regressions-3.5.3\">Hyper Parameter Tuning of the Logistic Regressions</a></span></li><li><span><a href=\"#Model-performance-of-Best-Logistic-Regression-Model\" data-toc-modified-id=\"Model-performance-of-Best-Logistic-Regression-Model-3.5.4\">Model performance of Best Logistic Regression Model</a></span></li><li><span><a href=\"#Features-of-the-Best-Logistic-Model\" data-toc-modified-id=\"Features-of-the-Best-Logistic-Model-3.5.5\">Features of the Best Logistic Model</a></span></li><li><span><a href=\"#Prediction-on-the-Test-Set\" data-toc-modified-id=\"Prediction-on-the-Test-Set-3.5.6\">Prediction on the Test Set</a></span></li></ul></li><li><span><a href=\"#Random-Forest-Classification-Model\" data-toc-modified-id=\"Random-Forest-Classification-Model-3.6\">Random Forest Classification Model</a></span><ul class=\"toc-item\"><li><span><a href=\"#Creating-the-Random-Forest-Classification-and-printing-the-Accuracy-and-AUC-of-the-Model\" data-toc-modified-id=\"Creating-the-Random-Forest-Classification-and-printing-the-Accuracy-and-AUC-of-the-Model-3.6.1\">Creating the Random Forest Classification and printing the Accuracy and AUC of the Model</a></span></li><li><span><a href=\"#Attempting-for-the-Up-and-Down-Sampling-for-the-Random-Forest-Model\" data-toc-modified-id=\"Attempting-for-the-Up-and-Down-Sampling-for-the-Random-Forest-Model-3.6.2\">Attempting for the Up and Down Sampling for the Random Forest Model</a></span></li><li><span><a href=\"#Hyper-Parameters\" data-toc-modified-id=\"Hyper-Parameters-3.6.3\">Hyper Parameters</a></span></li><li><span><a href=\"#Evaluating-the-Best-Model-Performance-of-the-Random-Classification\" data-toc-modified-id=\"Evaluating-the-Best-Model-Performance-of-the-Random-Classification-3.6.4\">Evaluating the Best Model Performance of the Random Classification</a></span></li><li><span><a href=\"#Features-of-the-Best-Random-Forest-Classification-Model\" data-toc-modified-id=\"Features-of-the-Best-Random-Forest-Classification-Model-3.6.5\">Features of the Best Random Forest Classification Model</a></span></li><li><span><a href=\"#Prediction-on-the-Test-Set\" data-toc-modified-id=\"Prediction-on-the-Test-Set-3.6.6\">Prediction on the Test Set</a></span></li></ul></li><li><span><a href=\"#Ensemble-Model\" data-toc-modified-id=\"Ensemble-Model-3.7\">Ensemble Model</a></span><ul class=\"toc-item\"><li><span><a href=\"#Creating-the-Ensembel-Model-with-the-RandomForest,-Logistic-Regression,-and-Gradient-Boosting-Models\" data-toc-modified-id=\"Creating-the-Ensembel-Model-with-the-RandomForest,-Logistic-Regression,-and-Gradient-Boosting-Models-3.7.1\">Creating the Ensembel Model with the RandomForest, Logistic Regression, and Gradient Boosting Models</a></span></li><li><span><a href=\"#Up-and-Down-Sampling\" data-toc-modified-id=\"Up-and-Down-Sampling-3.7.2\">Up and Down Sampling</a></span></li><li><span><a href=\"#Hyper-Parameters\" data-toc-modified-id=\"Hyper-Parameters-3.7.3\">Hyper Parameters</a></span></li><li><span><a href=\"#Evaluating-the-Best-of-the-Ensemble-Model\" data-toc-modified-id=\"Evaluating-the-Best-of-the-Ensemble-Model-3.7.4\">Evaluating the Best of the Ensemble Model</a></span></li><li><span><a href=\"#Features-of-the-Best-Ensemble-Model\" data-toc-modified-id=\"Features-of-the-Best-Ensemble-Model-3.7.5\">Features of the Best Ensemble Model</a></span></li><li><span><a href=\"#Prediction-on-the-Test-Set\" data-toc-modified-id=\"Prediction-on-the-Test-Set-3.7.6\">Prediction on the Test Set</a></span></li></ul></li><li><span><a href=\"#Modeling-Creation-Processing-&amp;-Evaluation-of-Naive-Baies-Model\" data-toc-modified-id=\"Modeling-Creation-Processing-&amp;-Evaluation-of-Naive-Baies-Model-3.8\">Modeling Creation Processing &amp; Evaluation of Naive Baies Model</a></span><ul class=\"toc-item\"><li><span><a href=\"#Feature-Importance\" data-toc-modified-id=\"Feature-Importance-3.8.1\">Feature Importance</a></span></li><li><span><a href=\"#Prediction-on-the-Test-Set\" data-toc-modified-id=\"Prediction-on-the-Test-Set-3.8.2\">Prediction on the Test Set</a></span></li></ul></li></ul></li><li><span><a href=\"#Model-Performances-Summary\" data-toc-modified-id=\"Model-Performances-Summary-4\">Model Performances Summary</a></span></li><li><span><a href=\"#Results-Summary\" data-toc-modified-id=\"Results-Summary-5\">Results Summary</a></span></li><li><span><a href=\"#Group-Contributions\" data-toc-modified-id=\"Group-Contributions-6\">Group Contributions</a></span></li></ul></div>"
   ]
  },
  {
   "cell_type": "markdown",
   "id": "a9cd2105",
   "metadata": {},
   "source": [
    "# HOME CREDIT MODELING ASSIGNMENT GROUP 2"
   ]
  },
  {
   "cell_type": "markdown",
   "id": "bab15125",
   "metadata": {},
   "source": [
    "## Introduction"
   ]
  },
  {
   "cell_type": "markdown",
   "id": "e71d07e6",
   "metadata": {},
   "source": [
    "**Project Goal:** \n",
    "\n",
    "Home Credit will be able to identify if a customer is a safe candidate to lend to, then create a personalized customer loan and repayment plan to be accountable for, resulting in an increase in revenue, improved customer experience, and lower default rates.\n",
    "\n",
    "**Business Problem:**\n",
    "\n",
    "Home Credit desires to know safe borrowers in a customer base that is unfamiliar with banking and give the customer a plan for successful loan repayment. Lending to those who are more likely to default on loans decreases the profits of Home Credit and results in negative customer experiences.\n",
    "\n",
    "**Analytic Problem:**\n",
    "\n",
    "The target variable is specificially customers that do have a negative history of repayment to lend to, and postive repayment. Represented in the application_train/test.csv sets of binary where 1 = Not trust worthy borrower (Client with payment difficulties), 0 = Trustworthy borrower (client with good repayment history).\n",
    "\n",
    "\n",
    "**The Purpose of this Notebook:**\n",
    "* Evalaute and test different machine learning models to learn more about Customer Behaviors\n",
    "* Predict which customers will be good borrowers, using a classification method based on customer financial behavior data.\n",
    "* Use a machine learning method to see the relationship that a trust worthy customer has to other attributes about them."
   ]
  },
  {
   "cell_type": "markdown",
   "id": "da463f2b",
   "metadata": {},
   "source": [
    "# Data Preparation"
   ]
  },
  {
   "cell_type": "markdown",
   "id": "0bbccabc",
   "metadata": {},
   "source": [
    "## Importing Necessary Packages"
   ]
  },
  {
   "cell_type": "code",
   "execution_count": 1,
   "id": "f26ae493",
   "metadata": {},
   "outputs": [
    {
     "name": "stdout",
     "output_type": "stream",
     "text": [
      "pandas is already installed.\n",
      "numpy is already installed.\n",
      "matplotlib is already installed.\n",
      "xgboost is already installed.\n",
      "imbalanced-learn is not installed. Installing...\n",
      "Requirement already satisfied: imbalanced-learn in c:\\users\\jusha\\new folder\\lib\\site-packages (0.10.1)scipy is already installed.\n",
      "sklearn is already installed.\n",
      "\n",
      "Requirement already satisfied: scipy>=1.3.2 in c:\\users\\jusha\\new folder\\lib\\site-packages (from imbalanced-learn) (1.10.1)\n",
      "Requirement already satisfied: joblib>=1.1.1 in c:\\users\\jusha\\new folder\\lib\\site-packages (from imbalanced-learn) (1.3.1)\n",
      "Requirement already satisfied: scikit-learn>=1.0.2 in c:\\users\\jusha\\new folder\\lib\\site-packages (from imbalanced-learn) (1.3.0)\n",
      "Requirement already satisfied: threadpoolctl>=2.0.0 in c:\\users\\jusha\\new folder\\lib\\site-packages (from imbalanced-learn) (3.1.0)\n",
      "Requirement already satisfied: numpy>=1.17.3 in c:\\users\\jusha\\new folder\\lib\\site-packages (from imbalanced-learn) (1.24.3)\n"
     ]
    }
   ],
   "source": [
    "import importlib\n",
    "\n",
    "# List of required packages\n",
    "required_packages = [\n",
    "    'pandas',\n",
    "    'numpy',\n",
    "    'matplotlib',\n",
    "    'xgboost',\n",
    "    'imbalanced-learn',\n",
    "    'scipy',\n",
    "    'sklearn',\n",
    "]\n",
    "\n",
    "# Check and install missing packages\n",
    "for package in required_packages:\n",
    "    try:\n",
    "        importlib.import_module(package)\n",
    "        print(f\"{package} is already installed.\")\n",
    "    except ImportError:\n",
    "        print(f\"{package} is not installed. Installing...\")\n",
    "        !pip install {package}\n",
    "\n",
    "# Import the required modules\n",
    "import pandas as pd\n",
    "import numpy as np\n",
    "import matplotlib as mpl\n",
    "import matplotlib.pyplot as plt\n",
    "import xgboost as xgb\n",
    "\n",
    "from sklearn.model_selection import train_test_split\n",
    "from sklearn.model_selection import cross_val_score\n",
    "from sklearn.ensemble import RandomForestClassifier\n",
    "from sklearn.metrics import accuracy_score\n",
    "from sklearn.preprocessing import PolynomialFeatures\n",
    "from sklearn.linear_model import LogisticRegression\n",
    "from sklearn.metrics import accuracy_score, roc_auc_score\n",
    "from sklearn.ensemble import RandomForestClassifier, GradientBoostingClassifier\n",
    "from sklearn.metrics import accuracy_score, roc_auc_score\n",
    "from sklearn.preprocessing import StandardScaler, MinMaxScaler, OneHotEncoder\n",
    "import numpy as np\n",
    "\n",
    "from sklearn.utils import resample\n",
    "from sklearn.model_selection import train_test_split\n",
    "from sklearn.metrics import accuracy_score\n",
    "from sklearn.linear_model import LogisticRegression\n",
    "import pandas as pd\n",
    "\n",
    "from sklearn.ensemble import VotingClassifier\n",
    "from sklearn.model_selection import cross_val_score\n",
    "\n",
    "from sklearn.model_selection import GridSearchCV\n",
    "from sklearn.ensemble import RandomForestClassifier\n",
    "\n",
    "from sklearn.metrics import classification_report, roc_auc_score\n",
    "\n",
    "# from imblearn.over_sampling import RandomOverSampler\n",
    "from scipy.stats import randint, uniform\n",
    "from sklearn.model_selection import train_test_split, GridSearchCV, RandomizedSearchCV, cross_val_score\n",
    "from sklearn.preprocessing import OneHotEncoder, StandardScaler\n",
    "from sklearn.impute import SimpleImputer\n",
    "from sklearn.metrics import accuracy_score, classification_report, roc_auc_score, confusion_matrix\n",
    "from sklearn.ensemble import RandomForestClassifier\n",
    "\n",
    "# Additional configurations or settings\n",
    "import warnings\n",
    "warnings.filterwarnings('ignore')\n",
    "%matplotlib inline\n",
    "\n"
   ]
  },
  {
   "cell_type": "markdown",
   "id": "45f9835c",
   "metadata": {},
   "source": [
    "***Many of these packages have already been installed. Each of these packages serves different purposes within our code for each of the modeling. All of the packages have imported correctly and have succesfully been installed for use.***"
   ]
  },
  {
   "cell_type": "markdown",
   "id": "362a6437",
   "metadata": {},
   "source": [
    "## Making the dataframes for each of our CSV files"
   ]
  },
  {
   "cell_type": "code",
   "execution_count": 2,
   "id": "10ffa8eb",
   "metadata": {},
   "outputs": [],
   "source": [
    "# Making Dataframes of each of the CSV Files\n",
    "\n",
    "applicationtestDF = pd.read_csv(\"application_test.csv\")\n",
    "applicationtrainDF = pd.read_csv(\"application_train.csv\")\n",
    "bureauDF = pd.read_csv(\"bureau.csv\")\n",
    "bureaubalanceDF = pd.read_csv(\"bureau_balance.csv\")\n",
    "creditcardbalanceDF = pd.read_csv(\"credit_card_balance.csv\")\n",
    "installmentpaymentsDF = pd.read_csv(\"installments_payments.csv\")\n",
    "poscashDF = pd.read_csv(\"POS_CASH_balance.csv\")\n",
    "previousDF = pd.read_csv(\"previous_application.csv\")"
   ]
  },
  {
   "cell_type": "code",
   "execution_count": 3,
   "id": "7c384f72",
   "metadata": {},
   "outputs": [
    {
     "name": "stdout",
     "output_type": "stream",
     "text": [
      "(48744, 121)\n",
      "(307511, 122)\n",
      "(1716428, 17)\n",
      "(27299925, 3)\n",
      "(3840312, 23)\n",
      "(13605401, 8)\n",
      "(10001358, 8)\n",
      "(1670214, 37)\n"
     ]
    }
   ],
   "source": [
    "#Shape of datasets\n",
    "print(applicationtestDF.shape)\n",
    "print(applicationtrainDF.shape)\n",
    "print(bureauDF.shape)\n",
    "print(bureaubalanceDF.shape)\n",
    "print(creditcardbalanceDF.shape)\n",
    "print(installmentpaymentsDF.shape)\n",
    "print(poscashDF.shape)\n",
    "print(previousDF.shape)"
   ]
  },
  {
   "cell_type": "markdown",
   "id": "704efea4",
   "metadata": {},
   "source": [
    "***Each of the CSV were loaded and installed succcessfully. Due to the size of each of the CSV files, we have to be selected as to what files to use because it would require too much computation power to use all. Many of the CSV files have data points that are shared in commmon with other files. We will go into more analysis of which ones to combine into our aggregation of the data sets in our future analysis***"
   ]
  },
  {
   "cell_type": "markdown",
   "id": "7e6185a9",
   "metadata": {},
   "source": [
    "## Combining the DFs for our Analysis"
   ]
  },
  {
   "cell_type": "markdown",
   "id": "df43cccf",
   "metadata": {},
   "source": [
    "***The original approach that we took to getting the DF into one comnbined Dataframe to analyze as best as possible was to take this approach***"
   ]
  },
  {
   "cell_type": "code",
   "execution_count": 4,
   "id": "b08a6a6b",
   "metadata": {},
   "outputs": [],
   "source": [
    "# # # Combine the DataFrames\n",
    "# combined_df = pd.concat([applicationtestDF, applicationtrainDF, bureauDF, bureaubalanceDF,\n",
    "#                          creditcardbalanceDF, installmentpaymentsDF, poscashDF, previousDF])\n",
    "\n",
    "\n",
    "# Remove missing values (NA)\n",
    "# combined_df = combined_df.dropna()\n",
    "\n",
    "# # Remove duplicates from the combined DataFrame\n",
    "# combined_df = combined_df.drop_duplicates()\n",
    "\n",
    "# # Reset the index\n",
    "# combined_df = combined_df.reset_index(drop=True)\n",
    "\n",
    "# # Print the head of the combined DataFrame\n",
    "# combined_df.head()\n",
    "\n",
    "\n",
    "# # Print the data types of each column\n",
    "# combined_df.dtypes\n",
    "\n",
    "\n"
   ]
  },
  {
   "cell_type": "markdown",
   "id": "45f0b525",
   "metadata": {},
   "source": [
    "***However, this approach took up too much computational power to execute due to the size of the data. The append() function was then tried to be used other than the concat() to save memory. This execution was not very appropriate because each of our devices did not have the computation power at first to just combine all datasets into one. We then had decided to continue on and try to use CSV files that we felt are only relevant to our analysis*** "
   ]
  },
  {
   "cell_type": "code",
   "execution_count": 5,
   "id": "478b5766",
   "metadata": {},
   "outputs": [],
   "source": [
    "# combined_df = pd.DataFrame()  # Initialize an empty DataFrame\n",
    "\n",
    "# # List of DataFrames to be combined\n",
    "# dataframes = [applicationtestDF, applicationtrainDF, bureauDF, bureaubalanceDF,\n",
    "#               creditcardbalanceDF, installmentpaymentsDF, poscashDF, previousDF]\n",
    "\n",
    "# # Combine DataFrames in smaller batches\n",
    "# for df in dataframes:\n",
    "#     combined_df = combined_df.append(df, ignore_index=True)\n",
    "\n",
    "# # Remove missing values (NA)\n",
    "# combined_df = combined_df.dropna()\n",
    "\n",
    "# # Remove duplicates from the combined DataFrame\n",
    "# combined_df = combined_df.drop_duplicates()\n",
    "\n",
    "# # Reset the index\n",
    "# combined_df = combined_df.reset_index(drop=True)\n",
    "\n",
    "# # Print the head of the combined DataFrame\n",
    "# combined_df.head()\n",
    "\n",
    "# # Print the data types of each column\n",
    "# combined_df.dtypes\n"
   ]
  },
  {
   "cell_type": "markdown",
   "id": "d1372283",
   "metadata": {},
   "source": [
    "***This method did not work. So We then aggregated some of the values based upon the averages of each datasets. We thought the count of days since overdue payments on both credit card balance and the bureau tables would be good to examine.This method gave us a much better output. By using merge() rather than concat() we are able to merge datasets that fit within computation and add elements to understand for our modeling. We have chosen the creditcardbalance and bureauDF because these dataframes contain much of the same info from the other DF. This information also can tell us how customer behavior may lead to default.***"
   ]
  },
  {
   "cell_type": "code",
   "execution_count": 6,
   "id": "7663110d",
   "metadata": {},
   "outputs": [
    {
     "name": "stdout",
     "output_type": "stream",
     "text": [
      "(307511, 124)\n",
      "(48744, 123)\n"
     ]
    },
    {
     "data": {
      "text/html": [
       "<div>\n",
       "<style scoped>\n",
       "    .dataframe tbody tr th:only-of-type {\n",
       "        vertical-align: middle;\n",
       "    }\n",
       "\n",
       "    .dataframe tbody tr th {\n",
       "        vertical-align: top;\n",
       "    }\n",
       "\n",
       "    .dataframe thead th {\n",
       "        text-align: right;\n",
       "    }\n",
       "</style>\n",
       "<table border=\"1\" class=\"dataframe\">\n",
       "  <thead>\n",
       "    <tr style=\"text-align: right;\">\n",
       "      <th></th>\n",
       "      <th>SK_ID_CURR</th>\n",
       "      <th>TARGET</th>\n",
       "      <th>NAME_CONTRACT_TYPE</th>\n",
       "      <th>CODE_GENDER</th>\n",
       "      <th>FLAG_OWN_CAR</th>\n",
       "      <th>FLAG_OWN_REALTY</th>\n",
       "      <th>CNT_CHILDREN</th>\n",
       "      <th>AMT_INCOME_TOTAL</th>\n",
       "      <th>AMT_CREDIT</th>\n",
       "      <th>AMT_ANNUITY</th>\n",
       "      <th>...</th>\n",
       "      <th>FLAG_DOCUMENT_20</th>\n",
       "      <th>FLAG_DOCUMENT_21</th>\n",
       "      <th>AMT_REQ_CREDIT_BUREAU_HOUR</th>\n",
       "      <th>AMT_REQ_CREDIT_BUREAU_DAY</th>\n",
       "      <th>AMT_REQ_CREDIT_BUREAU_WEEK</th>\n",
       "      <th>AMT_REQ_CREDIT_BUREAU_MON</th>\n",
       "      <th>AMT_REQ_CREDIT_BUREAU_QRT</th>\n",
       "      <th>AMT_REQ_CREDIT_BUREAU_YEAR</th>\n",
       "      <th>SK_DPD</th>\n",
       "      <th>CREDIT_DAY_OVERDUE</th>\n",
       "    </tr>\n",
       "  </thead>\n",
       "  <tbody>\n",
       "    <tr>\n",
       "      <th>0</th>\n",
       "      <td>100002</td>\n",
       "      <td>1</td>\n",
       "      <td>Cash loans</td>\n",
       "      <td>M</td>\n",
       "      <td>N</td>\n",
       "      <td>Y</td>\n",
       "      <td>0</td>\n",
       "      <td>202500.0</td>\n",
       "      <td>406597.5</td>\n",
       "      <td>24700.5</td>\n",
       "      <td>...</td>\n",
       "      <td>0</td>\n",
       "      <td>0</td>\n",
       "      <td>0.0</td>\n",
       "      <td>0.0</td>\n",
       "      <td>0.0</td>\n",
       "      <td>0.0</td>\n",
       "      <td>0.0</td>\n",
       "      <td>1.0</td>\n",
       "      <td>0.0</td>\n",
       "      <td>0.0</td>\n",
       "    </tr>\n",
       "    <tr>\n",
       "      <th>1</th>\n",
       "      <td>100003</td>\n",
       "      <td>0</td>\n",
       "      <td>Cash loans</td>\n",
       "      <td>F</td>\n",
       "      <td>N</td>\n",
       "      <td>N</td>\n",
       "      <td>0</td>\n",
       "      <td>270000.0</td>\n",
       "      <td>1293502.5</td>\n",
       "      <td>35698.5</td>\n",
       "      <td>...</td>\n",
       "      <td>0</td>\n",
       "      <td>0</td>\n",
       "      <td>0.0</td>\n",
       "      <td>0.0</td>\n",
       "      <td>0.0</td>\n",
       "      <td>0.0</td>\n",
       "      <td>0.0</td>\n",
       "      <td>0.0</td>\n",
       "      <td>0.0</td>\n",
       "      <td>0.0</td>\n",
       "    </tr>\n",
       "    <tr>\n",
       "      <th>2</th>\n",
       "      <td>100004</td>\n",
       "      <td>0</td>\n",
       "      <td>Revolving loans</td>\n",
       "      <td>M</td>\n",
       "      <td>Y</td>\n",
       "      <td>Y</td>\n",
       "      <td>0</td>\n",
       "      <td>67500.0</td>\n",
       "      <td>135000.0</td>\n",
       "      <td>6750.0</td>\n",
       "      <td>...</td>\n",
       "      <td>0</td>\n",
       "      <td>0</td>\n",
       "      <td>0.0</td>\n",
       "      <td>0.0</td>\n",
       "      <td>0.0</td>\n",
       "      <td>0.0</td>\n",
       "      <td>0.0</td>\n",
       "      <td>0.0</td>\n",
       "      <td>0.0</td>\n",
       "      <td>0.0</td>\n",
       "    </tr>\n",
       "    <tr>\n",
       "      <th>3</th>\n",
       "      <td>100006</td>\n",
       "      <td>0</td>\n",
       "      <td>Cash loans</td>\n",
       "      <td>F</td>\n",
       "      <td>N</td>\n",
       "      <td>Y</td>\n",
       "      <td>0</td>\n",
       "      <td>135000.0</td>\n",
       "      <td>312682.5</td>\n",
       "      <td>29686.5</td>\n",
       "      <td>...</td>\n",
       "      <td>0</td>\n",
       "      <td>0</td>\n",
       "      <td>NaN</td>\n",
       "      <td>NaN</td>\n",
       "      <td>NaN</td>\n",
       "      <td>NaN</td>\n",
       "      <td>NaN</td>\n",
       "      <td>NaN</td>\n",
       "      <td>0.0</td>\n",
       "      <td>0.0</td>\n",
       "    </tr>\n",
       "    <tr>\n",
       "      <th>4</th>\n",
       "      <td>100007</td>\n",
       "      <td>0</td>\n",
       "      <td>Cash loans</td>\n",
       "      <td>M</td>\n",
       "      <td>N</td>\n",
       "      <td>Y</td>\n",
       "      <td>0</td>\n",
       "      <td>121500.0</td>\n",
       "      <td>513000.0</td>\n",
       "      <td>21865.5</td>\n",
       "      <td>...</td>\n",
       "      <td>0</td>\n",
       "      <td>0</td>\n",
       "      <td>0.0</td>\n",
       "      <td>0.0</td>\n",
       "      <td>0.0</td>\n",
       "      <td>0.0</td>\n",
       "      <td>0.0</td>\n",
       "      <td>0.0</td>\n",
       "      <td>0.0</td>\n",
       "      <td>0.0</td>\n",
       "    </tr>\n",
       "    <tr>\n",
       "      <th>5</th>\n",
       "      <td>100008</td>\n",
       "      <td>0</td>\n",
       "      <td>Cash loans</td>\n",
       "      <td>M</td>\n",
       "      <td>N</td>\n",
       "      <td>Y</td>\n",
       "      <td>0</td>\n",
       "      <td>99000.0</td>\n",
       "      <td>490495.5</td>\n",
       "      <td>27517.5</td>\n",
       "      <td>...</td>\n",
       "      <td>0</td>\n",
       "      <td>0</td>\n",
       "      <td>0.0</td>\n",
       "      <td>0.0</td>\n",
       "      <td>0.0</td>\n",
       "      <td>0.0</td>\n",
       "      <td>1.0</td>\n",
       "      <td>1.0</td>\n",
       "      <td>0.0</td>\n",
       "      <td>0.0</td>\n",
       "    </tr>\n",
       "    <tr>\n",
       "      <th>6</th>\n",
       "      <td>100009</td>\n",
       "      <td>0</td>\n",
       "      <td>Cash loans</td>\n",
       "      <td>F</td>\n",
       "      <td>Y</td>\n",
       "      <td>Y</td>\n",
       "      <td>1</td>\n",
       "      <td>171000.0</td>\n",
       "      <td>1560726.0</td>\n",
       "      <td>41301.0</td>\n",
       "      <td>...</td>\n",
       "      <td>0</td>\n",
       "      <td>0</td>\n",
       "      <td>0.0</td>\n",
       "      <td>0.0</td>\n",
       "      <td>0.0</td>\n",
       "      <td>1.0</td>\n",
       "      <td>1.0</td>\n",
       "      <td>2.0</td>\n",
       "      <td>0.0</td>\n",
       "      <td>0.0</td>\n",
       "    </tr>\n",
       "    <tr>\n",
       "      <th>7</th>\n",
       "      <td>100010</td>\n",
       "      <td>0</td>\n",
       "      <td>Cash loans</td>\n",
       "      <td>M</td>\n",
       "      <td>Y</td>\n",
       "      <td>Y</td>\n",
       "      <td>0</td>\n",
       "      <td>360000.0</td>\n",
       "      <td>1530000.0</td>\n",
       "      <td>42075.0</td>\n",
       "      <td>...</td>\n",
       "      <td>0</td>\n",
       "      <td>0</td>\n",
       "      <td>0.0</td>\n",
       "      <td>0.0</td>\n",
       "      <td>0.0</td>\n",
       "      <td>0.0</td>\n",
       "      <td>0.0</td>\n",
       "      <td>0.0</td>\n",
       "      <td>0.0</td>\n",
       "      <td>0.0</td>\n",
       "    </tr>\n",
       "    <tr>\n",
       "      <th>8</th>\n",
       "      <td>100011</td>\n",
       "      <td>0</td>\n",
       "      <td>Cash loans</td>\n",
       "      <td>F</td>\n",
       "      <td>N</td>\n",
       "      <td>Y</td>\n",
       "      <td>0</td>\n",
       "      <td>112500.0</td>\n",
       "      <td>1019610.0</td>\n",
       "      <td>33826.5</td>\n",
       "      <td>...</td>\n",
       "      <td>0</td>\n",
       "      <td>0</td>\n",
       "      <td>0.0</td>\n",
       "      <td>0.0</td>\n",
       "      <td>0.0</td>\n",
       "      <td>0.0</td>\n",
       "      <td>0.0</td>\n",
       "      <td>1.0</td>\n",
       "      <td>0.0</td>\n",
       "      <td>0.0</td>\n",
       "    </tr>\n",
       "    <tr>\n",
       "      <th>9</th>\n",
       "      <td>100012</td>\n",
       "      <td>0</td>\n",
       "      <td>Revolving loans</td>\n",
       "      <td>M</td>\n",
       "      <td>N</td>\n",
       "      <td>Y</td>\n",
       "      <td>0</td>\n",
       "      <td>135000.0</td>\n",
       "      <td>405000.0</td>\n",
       "      <td>20250.0</td>\n",
       "      <td>...</td>\n",
       "      <td>0</td>\n",
       "      <td>0</td>\n",
       "      <td>NaN</td>\n",
       "      <td>NaN</td>\n",
       "      <td>NaN</td>\n",
       "      <td>NaN</td>\n",
       "      <td>NaN</td>\n",
       "      <td>NaN</td>\n",
       "      <td>0.0</td>\n",
       "      <td>0.0</td>\n",
       "    </tr>\n",
       "  </tbody>\n",
       "</table>\n",
       "<p>10 rows × 124 columns</p>\n",
       "</div>"
      ],
      "text/plain": [
       "   SK_ID_CURR  TARGET NAME_CONTRACT_TYPE CODE_GENDER FLAG_OWN_CAR  \\\n",
       "0      100002       1         Cash loans           M            N   \n",
       "1      100003       0         Cash loans           F            N   \n",
       "2      100004       0    Revolving loans           M            Y   \n",
       "3      100006       0         Cash loans           F            N   \n",
       "4      100007       0         Cash loans           M            N   \n",
       "5      100008       0         Cash loans           M            N   \n",
       "6      100009       0         Cash loans           F            Y   \n",
       "7      100010       0         Cash loans           M            Y   \n",
       "8      100011       0         Cash loans           F            N   \n",
       "9      100012       0    Revolving loans           M            N   \n",
       "\n",
       "  FLAG_OWN_REALTY  CNT_CHILDREN  AMT_INCOME_TOTAL  AMT_CREDIT  AMT_ANNUITY  \\\n",
       "0               Y             0          202500.0    406597.5      24700.5   \n",
       "1               N             0          270000.0   1293502.5      35698.5   \n",
       "2               Y             0           67500.0    135000.0       6750.0   \n",
       "3               Y             0          135000.0    312682.5      29686.5   \n",
       "4               Y             0          121500.0    513000.0      21865.5   \n",
       "5               Y             0           99000.0    490495.5      27517.5   \n",
       "6               Y             1          171000.0   1560726.0      41301.0   \n",
       "7               Y             0          360000.0   1530000.0      42075.0   \n",
       "8               Y             0          112500.0   1019610.0      33826.5   \n",
       "9               Y             0          135000.0    405000.0      20250.0   \n",
       "\n",
       "   ...  FLAG_DOCUMENT_20 FLAG_DOCUMENT_21 AMT_REQ_CREDIT_BUREAU_HOUR  \\\n",
       "0  ...                 0                0                        0.0   \n",
       "1  ...                 0                0                        0.0   \n",
       "2  ...                 0                0                        0.0   \n",
       "3  ...                 0                0                        NaN   \n",
       "4  ...                 0                0                        0.0   \n",
       "5  ...                 0                0                        0.0   \n",
       "6  ...                 0                0                        0.0   \n",
       "7  ...                 0                0                        0.0   \n",
       "8  ...                 0                0                        0.0   \n",
       "9  ...                 0                0                        NaN   \n",
       "\n",
       "  AMT_REQ_CREDIT_BUREAU_DAY AMT_REQ_CREDIT_BUREAU_WEEK  \\\n",
       "0                       0.0                        0.0   \n",
       "1                       0.0                        0.0   \n",
       "2                       0.0                        0.0   \n",
       "3                       NaN                        NaN   \n",
       "4                       0.0                        0.0   \n",
       "5                       0.0                        0.0   \n",
       "6                       0.0                        0.0   \n",
       "7                       0.0                        0.0   \n",
       "8                       0.0                        0.0   \n",
       "9                       NaN                        NaN   \n",
       "\n",
       "  AMT_REQ_CREDIT_BUREAU_MON  AMT_REQ_CREDIT_BUREAU_QRT  \\\n",
       "0                       0.0                        0.0   \n",
       "1                       0.0                        0.0   \n",
       "2                       0.0                        0.0   \n",
       "3                       NaN                        NaN   \n",
       "4                       0.0                        0.0   \n",
       "5                       0.0                        1.0   \n",
       "6                       1.0                        1.0   \n",
       "7                       0.0                        0.0   \n",
       "8                       0.0                        0.0   \n",
       "9                       NaN                        NaN   \n",
       "\n",
       "   AMT_REQ_CREDIT_BUREAU_YEAR  SK_DPD  CREDIT_DAY_OVERDUE  \n",
       "0                         1.0     0.0                 0.0  \n",
       "1                         0.0     0.0                 0.0  \n",
       "2                         0.0     0.0                 0.0  \n",
       "3                         NaN     0.0                 0.0  \n",
       "4                         0.0     0.0                 0.0  \n",
       "5                         1.0     0.0                 0.0  \n",
       "6                         2.0     0.0                 0.0  \n",
       "7                         0.0     0.0                 0.0  \n",
       "8                         1.0     0.0                 0.0  \n",
       "9                         NaN     0.0                 0.0  \n",
       "\n",
       "[10 rows x 124 columns]"
      ]
     },
     "execution_count": 6,
     "metadata": {},
     "output_type": "execute_result"
    }
   ],
   "source": [
    "#Calculate average 'SK_DPD' values in credit_card_balance.csv\n",
    "average_sk_dpd = creditcardbalanceDF.groupby('SK_ID_CURR')['SK_DPD'].mean().reset_index()\n",
    "\n",
    "#Merge average_sk_dpd with train_data based on 'SK_ID_CURR'\n",
    "train_data = applicationtrainDF.merge(average_sk_dpd, on='SK_ID_CURR', how='left')\n",
    "\n",
    "#Merge average_sk_dpd with test_data based on 'SK_ID_CURR'\n",
    "test_data = applicationtestDF.merge(average_sk_dpd, on='SK_ID_CURR', how='left')\n",
    "\n",
    "#Fill missing values with 0\n",
    "train_data['SK_DPD'] = train_data['SK_DPD'].fillna(0)\n",
    "test_data['SK_DPD'] = test_data['SK_DPD'].fillna(0)\n",
    "\n",
    "#Calculate average 'CREDIT_DAY_OVERDUE' values in bureau.csv\n",
    "average_credit_day_overdue = bureauDF.groupby('SK_ID_CURR')['CREDIT_DAY_OVERDUE'].mean().reset_index()\n",
    "\n",
    "#Merge average_credit_day_overdue with train_data based on 'SK_ID_CURR'\n",
    "train_data = train_data.merge(average_credit_day_overdue, on='SK_ID_CURR', how='left')\n",
    "\n",
    "#Merge average_credit_day_overdue with test_data based on 'SK_ID_CURR'\n",
    "test_data = test_data.merge(average_credit_day_overdue, on='SK_ID_CURR', how='left')\n",
    "\n",
    "#Fill missing values with 0\n",
    "train_data['CREDIT_DAY_OVERDUE'] = train_data['CREDIT_DAY_OVERDUE'].fillna(0)\n",
    "test_data['CREDIT_DAY_OVERDUE'] = test_data['CREDIT_DAY_OVERDUE'].fillna(0)\n",
    "\n",
    "#Shape of the joined datasets\n",
    "print(train_data.shape)\n",
    "print(test_data.shape)\n",
    "\n",
    "#First 10 rows on the joined dataset\n",
    "train_data.head(10)"
   ]
  },
  {
   "cell_type": "markdown",
   "id": "2adeec0f",
   "metadata": {},
   "source": [
    "***This method worked a lot better to get our dataframes merged to set aside for our testinga and training datasets.***"
   ]
  },
  {
   "cell_type": "markdown",
   "id": "1b50a72d",
   "metadata": {},
   "source": [
    "## Cleaning Data"
   ]
  },
  {
   "cell_type": "markdown",
   "id": "145a6aa0",
   "metadata": {},
   "source": [
    "***The majority of the EDA examination and visuals were completed in the EDA portion of this project that was previously turned in. I did implement some of the strategies that we suggested in that assignment. I dropped any column that was missing more than 30% of it's values and imputed the mean value for columns with less than 30% null values.*** "
   ]
  },
  {
   "cell_type": "markdown",
   "id": "d607f751",
   "metadata": {},
   "source": [
    "### Missing Data"
   ]
  },
  {
   "cell_type": "code",
   "execution_count": 7,
   "id": "0184e3b3",
   "metadata": {},
   "outputs": [
    {
     "name": "stdout",
     "output_type": "stream",
     "text": [
      "Columns with null values (sorted by null percentages):\n",
      "                                            Column  Null Count  \\\n",
      "COMMONAREA_MODE                    COMMONAREA_MODE      214865   \n",
      "COMMONAREA_AVG                      COMMONAREA_AVG      214865   \n",
      "COMMONAREA_MEDI                    COMMONAREA_MEDI      214865   \n",
      "NONLIVINGAPARTMENTS_MEDI  NONLIVINGAPARTMENTS_MEDI      213514   \n",
      "NONLIVINGAPARTMENTS_AVG    NONLIVINGAPARTMENTS_AVG      213514   \n",
      "...                                            ...         ...   \n",
      "FLAG_EMAIL                              FLAG_EMAIL           0   \n",
      "FLAG_PHONE                              FLAG_PHONE           0   \n",
      "FLAG_CONT_MOBILE                  FLAG_CONT_MOBILE           0   \n",
      "FLAG_WORK_PHONE                    FLAG_WORK_PHONE           0   \n",
      "CREDIT_DAY_OVERDUE              CREDIT_DAY_OVERDUE           0   \n",
      "\n",
      "                          Null Percentage  \n",
      "COMMONAREA_MODE                 69.872297  \n",
      "COMMONAREA_AVG                  69.872297  \n",
      "COMMONAREA_MEDI                 69.872297  \n",
      "NONLIVINGAPARTMENTS_MEDI        69.432963  \n",
      "NONLIVINGAPARTMENTS_AVG         69.432963  \n",
      "...                                   ...  \n",
      "FLAG_EMAIL                       0.000000  \n",
      "FLAG_PHONE                       0.000000  \n",
      "FLAG_CONT_MOBILE                 0.000000  \n",
      "FLAG_WORK_PHONE                  0.000000  \n",
      "CREDIT_DAY_OVERDUE               0.000000  \n",
      "\n",
      "[124 rows x 3 columns]\n"
     ]
    }
   ],
   "source": [
    "#Calculate the null count and percentage for all columns\n",
    "null_counts = train_data.isnull().sum()\n",
    "null_percentages = (null_counts / len(train_data)) * 100\n",
    "\n",
    "#Create a DataFrame to display the results\n",
    "null_info = pd.DataFrame({\n",
    "    'Column': null_counts.index,\n",
    "    'Null Count': null_counts,\n",
    "    'Null Percentage': null_percentages\n",
    "})\n",
    "\n",
    "#Sort the DataFrame by null percentages in descending order\n",
    "null_info_sorted = null_info.sort_values('Null Percentage', ascending=False)\n",
    "\n",
    "#Print the columns with null values and their percentages\n",
    "print(\"Columns with null values (sorted by null percentages):\")\n",
    "print(null_info_sorted)"
   ]
  },
  {
   "cell_type": "markdown",
   "id": "0ea92077",
   "metadata": {},
   "source": [
    "***This output tells us that these columns within our data were removed because of the lack of values within each of the columns. For example we see that the column COMMONAREA_MODE has 214,865 Null Values, meaning about 69.87% of the values in this column were Null.***"
   ]
  },
  {
   "cell_type": "code",
   "execution_count": 8,
   "id": "232e3e5b",
   "metadata": {},
   "outputs": [
    {
     "data": {
      "image/png": "[encoded data removed]",
      "text/plain": [
       "<Figure size 1000x600 with 1 Axes>"
      ]
     },
     "metadata": {},
     "output_type": "display_data"
    }
   ],
   "source": [
    "#Plotting the null values\n",
    "\n",
    "#Filter the DataFrame for columns with null percentages greater than 30%\n",
    "filtered_null_info = null_info_sorted[null_info_sorted['Null Percentage'] > 30]\n",
    "\n",
    "# Set the figure size\n",
    "plt.figure(figsize=(10, 6))\n",
    "\n",
    "#Create the bar plot\n",
    "plt.bar(filtered_null_info['Column'], filtered_null_info['Null Percentage'])\n",
    "plt.xticks(rotation='vertical')\n",
    "plt.xlabel('Columns')\n",
    "plt.ylabel('Null Percentage')\n",
    "plt.title('Null Percentage of Columns (Null > 30%)')\n",
    "\n",
    "#Show the plot\n",
    "plt.show()"
   ]
  },
  {
   "cell_type": "markdown",
   "id": "988da18e",
   "metadata": {},
   "source": [
    "***Here we see the plotted the columns that have a Null Percentage that is Greater than 30%. We see here that within our dataframe we have a lot of columns that may not contribute very much to our analysis because they have so many null values. Including these columns in our analysis may not allow us to conduct our analysis as much as we can. We see many of our data are not useful because they have so many null values.***"
   ]
  },
  {
   "cell_type": "code",
   "execution_count": 9,
   "id": "ecf3f2ab",
   "metadata": {},
   "outputs": [],
   "source": [
    "#Remove columns with more than 30% null values\n",
    "train_data = train_data.dropna(thresh=len(train_data) * 0.7, axis=1)\n",
    "test_data = test_data.dropna(thresh=len(test_data) * 0.7, axis=1)\n",
    "\n",
    "#Select valid numeric columns\n",
    "numeric_columns = train_data.select_dtypes(include=np.number).columns\n",
    "\n",
    "#Impute mean for numeric columns with less than 30% null values in train_data\n",
    "train_data = train_data.loc[:, numeric_columns].fillna(train_data.loc[:, numeric_columns].mean())\n",
    "\n",
    "#Select valid numeric columns in test\n",
    "test_numeric_columns = test_data.select_dtypes(include=np.number).columns\n",
    "\n",
    "#Impute mean for numeric columns with less than 30% null values in test_data\n",
    "test_data = test_data.loc[:, test_numeric_columns].fillna(test_data.loc[:, test_numeric_columns].mean())"
   ]
  },
  {
   "cell_type": "code",
   "execution_count": 10,
   "id": "262e704b",
   "metadata": {},
   "outputs": [
    {
     "name": "stdout",
     "output_type": "stream",
     "text": [
      "SK_ID_CURR                    0\n",
      "TARGET                        0\n",
      "CNT_CHILDREN                  0\n",
      "AMT_INCOME_TOTAL              0\n",
      "AMT_CREDIT                    0\n",
      "                             ..\n",
      "AMT_REQ_CREDIT_BUREAU_MON     0\n",
      "AMT_REQ_CREDIT_BUREAU_QRT     0\n",
      "AMT_REQ_CREDIT_BUREAU_YEAR    0\n",
      "SK_DPD                        0\n",
      "CREDIT_DAY_OVERDUE            0\n",
      "Length: 63, dtype: int64\n",
      "(307511, 63)\n",
      "(48744, 62)\n"
     ]
    }
   ],
   "source": [
    "# Check for null values in train_data\n",
    "null_counts = train_data.isnull().sum()\n",
    "\n",
    "print(null_counts)\n",
    "\n",
    "print(train_data.shape)\n",
    "print(test_data.shape)"
   ]
  },
  {
   "cell_type": "markdown",
   "id": "aac7a5ff",
   "metadata": {},
   "source": [
    "***Reviewing these, we see that all of the Null Values have been removed from our dataframe because the null value counts are now 0 for each columns. We have also seen that the columns have been removed that have greater than 30% Null values in the columns. We see that the training data now consists of 307,511 rows and 63 columns. The test data set has been patritioned correctly with now have 48,744 rows and 62 columns. This is the one less column because the test dataset does not contain the target variable like the train data does.***"
   ]
  },
  {
   "cell_type": "markdown",
   "id": "4a94aae6",
   "metadata": {},
   "source": [
    "### Encoding Categorical Variables"
   ]
  },
  {
   "cell_type": "markdown",
   "id": "4438c7d3",
   "metadata": {},
   "source": [
    "***OneHotEncoder was used to take the object variables and convert it to a categorical variable, so then we could conduct the analysis based on these variables. We do this for our test and training data sets and it works correctly.***"
   ]
  },
  {
   "cell_type": "code",
   "execution_count": 11,
   "id": "d3a68420",
   "metadata": {},
   "outputs": [],
   "source": [
    "# Encode categorical variables in train data\n",
    "categorical_cols = train_data.select_dtypes(include=['object']).columns\n",
    "encoder = OneHotEncoder(sparse_output=False, handle_unknown='ignore')\n",
    "\n",
    "encoded_cols = pd.DataFrame(encoder.fit_transform(train_data[categorical_cols]))\n",
    "train_data = pd.concat([train_data, encoded_cols], axis=1).drop(categorical_cols, axis=1)\n",
    "\n",
    "# Encode categorical variables in test data\n",
    "encoded_cols = pd.DataFrame(encoder.transform(test_data[categorical_cols]))\n",
    "test_data = pd.concat([test_data, encoded_cols], axis=1).drop(categorical_cols, axis=1)"
   ]
  },
  {
   "cell_type": "markdown",
   "id": "f74f6aa2",
   "metadata": {},
   "source": [
    "# Modeling Process"
   ]
  },
  {
   "cell_type": "markdown",
   "id": "11dfda87",
   "metadata": {},
   "source": [
    "## Modeling the Gradient Boosted Trees Model of the Home Credit Data"
   ]
  },
  {
   "cell_type": "markdown",
   "id": "e3796f02",
   "metadata": {},
   "source": [
    "### Oversampling on the Training Set "
   ]
  },
  {
   "cell_type": "markdown",
   "id": "9aee5d09",
   "metadata": {},
   "source": [
    "***Since the target variable values are so heavy skewed for those who do not default on a loan (Target = 0), we split the training set into its own train, test, and validation and performed an oversampling on the split datasets.*** "
   ]
  },
  {
   "cell_type": "code",
   "execution_count": 12,
   "id": "8377b985",
   "metadata": {},
   "outputs": [
    {
     "data": {
      "image/png": "[encoded data removed]",
      "text/plain": [
       "<Figure size 600x400 with 1 Axes>"
      ]
     },
     "metadata": {},
     "output_type": "display_data"
    }
   ],
   "source": [
    "#Value counts of the target variable\n",
    "target_counts = train_data['TARGET'].value_counts()\n",
    "\n",
    "#Set the figure size\n",
    "plt.figure(figsize=(6, 4))\n",
    "\n",
    "#Create the bar plot\n",
    "target_counts.plot(kind='bar')\n",
    "\n",
    "#Set the labels and title\n",
    "plt.xlabel('Target Variable')\n",
    "plt.ylabel('Count')\n",
    "plt.title('Distribution of Target Variable')\n",
    "\n",
    "#Show the plot\n",
    "plt.show()"
   ]
  },
  {
   "cell_type": "markdown",
   "id": "3fd9afab",
   "metadata": {},
   "source": [
    "***Within our training and test datasets we see that the data is skewed to the target variable =0, so this may effect the analysis for the predictions. We then must oversample our datasets, so then we can have a more fair distribution of the target varaible outcomes and the datasets.***"
   ]
  },
  {
   "cell_type": "code",
   "execution_count": 66,
   "id": "dc747889",
   "metadata": {},
   "outputs": [],
   "source": [
    "#Split the data into training and validation sets\n",
    "y = train_data['TARGET']\n",
    "X = train_data.drop('TARGET', axis=1)\n",
    "X_train, X_val, y_train, y_val = train_test_split(X, y, test_size=0.2, random_state=42)\n",
    "\n",
    "#Perform oversampling on the training set\n",
    "oversampler = RandomOverSampler(random_state=42)\n",
    "X_train_resampled, y_train_resampled = oversampler.fit_resample(X_train, y_train)"
   ]
  },
  {
   "cell_type": "code",
   "execution_count": 82,
   "id": "adb32444",
   "metadata": {},
   "outputs": [
    {
     "data": {
      "image/png": "[encoded data removed]",
      "text/plain": [
       "<Figure size 600x400 with 1 Axes>"
      ]
     },
     "metadata": {},
     "output_type": "display_data"
    }
   ],
   "source": [
    "#Calculate the count of each class in the resampled training set\n",
    "target_counts_resampled = pd.Series(y_train_resampled).value_counts()\n",
    "\n",
    "#Set the figure size\n",
    "plt.figure(figsize=(6, 4))\n",
    "\n",
    "#Create the bar plot\n",
    "target_counts_resampled.plot(kind='bar')\n",
    "\n",
    "#Set the labels and title\n",
    "plt.xlabel('Target Variable')\n",
    "plt.ylabel('Count')\n",
    "plt.title('Distribution of Target Variable (After Oversampling)')\n",
    "\n",
    "#Show the plot\n",
    "plt.show()"
   ]
  },
  {
   "cell_type": "markdown",
   "id": "74002464",
   "metadata": {},
   "source": [
    "***After oversampling, we see that there is a better and more fair distribution between the target variable of the customer defaulting and the customer not defaulting. This is going to be a lot better at predicting the outcomes when we conduct our modeling using machine learning on the datasets.***"
   ]
  },
  {
   "cell_type": "markdown",
   "id": "5be4313f",
   "metadata": {},
   "source": [
    "### Hyperparameter Tuning"
   ]
  },
  {
   "cell_type": "markdown",
   "id": "47b1bd86",
   "metadata": {},
   "source": [
    "***When picking a search option for the boosted trees model, we first went with a grid search. To simply use a GridSearchCV function would take up too much time for the process to complete. To overcome this, we use the RamdomizedSearchCV rather than GridSearch to preserve on time and computation memory and still get an accurate model.***"
   ]
  },
  {
   "cell_type": "code",
   "execution_count": 67,
   "id": "21fffea6",
   "metadata": {},
   "outputs": [
    {
     "data": {
      "text/html": [
       "<style>#sk-container-id-3 {color: black;background-color: white;}#sk-container-id-3 pre{padding: 0;}#sk-container-id-3 div.sk-toggleable {background-color: white;}#sk-container-id-3 label.sk-toggleable__label {cursor: pointer;display: block;width: 100%;margin-bottom: 0;padding: 0.3em;box-sizing: border-box;text-align: center;}#sk-container-id-3 label.sk-toggleable__label-arrow:before {content: \"▸\";float: left;margin-right: 0.25em;color: #696969;}#sk-container-id-3 label.sk-toggleable__label-arrow:hover:before {color: black;}#sk-container-id-3 div.sk-estimator:hover label.sk-toggleable__label-arrow:before {color: black;}#sk-container-id-3 div.sk-toggleable__content {max-height: 0;max-width: 0;overflow: hidden;text-align: left;background-color: #f0f8ff;}#sk-container-id-3 div.sk-toggleable__content pre {margin: 0.2em;color: black;border-radius: 0.25em;background-color: #f0f8ff;}#sk-container-id-3 input.sk-toggleable__control:checked~div.sk-toggleable__content {max-height: 200px;max-width: 100%;overflow: auto;}#sk-container-id-3 input.sk-toggleable__control:checked~label.sk-toggleable__label-arrow:before {content: \"▾\";}#sk-container-id-3 div.sk-estimator input.sk-toggleable__control:checked~label.sk-toggleable__label {background-color: #d4ebff;}#sk-container-id-3 div.sk-label input.sk-toggleable__control:checked~label.sk-toggleable__label {background-color: #d4ebff;}#sk-container-id-3 input.sk-hidden--visually {border: 0;clip: rect(1px 1px 1px 1px);clip: rect(1px, 1px, 1px, 1px);height: 1px;margin: -1px;overflow: hidden;padding: 0;position: absolute;width: 1px;}#sk-container-id-3 div.sk-estimator {font-family: monospace;background-color: #f0f8ff;border: 1px dotted black;border-radius: 0.25em;box-sizing: border-box;margin-bottom: 0.5em;}#sk-container-id-3 div.sk-estimator:hover {background-color: #d4ebff;}#sk-container-id-3 div.sk-parallel-item::after {content: \"\";width: 100%;border-bottom: 1px solid gray;flex-grow: 1;}#sk-container-id-3 div.sk-label:hover label.sk-toggleable__label {background-color: #d4ebff;}#sk-container-id-3 div.sk-serial::before {content: \"\";position: absolute;border-left: 1px solid gray;box-sizing: border-box;top: 0;bottom: 0;left: 50%;z-index: 0;}#sk-container-id-3 div.sk-serial {display: flex;flex-direction: column;align-items: center;background-color: white;padding-right: 0.2em;padding-left: 0.2em;position: relative;}#sk-container-id-3 div.sk-item {position: relative;z-index: 1;}#sk-container-id-3 div.sk-parallel {display: flex;align-items: stretch;justify-content: center;background-color: white;position: relative;}#sk-container-id-3 div.sk-item::before, #sk-container-id-3 div.sk-parallel-item::before {content: \"\";position: absolute;border-left: 1px solid gray;box-sizing: border-box;top: 0;bottom: 0;left: 50%;z-index: -1;}#sk-container-id-3 div.sk-parallel-item {display: flex;flex-direction: column;z-index: 1;position: relative;background-color: white;}#sk-container-id-3 div.sk-parallel-item:first-child::after {align-self: flex-end;width: 50%;}#sk-container-id-3 div.sk-parallel-item:last-child::after {align-self: flex-start;width: 50%;}#sk-container-id-3 div.sk-parallel-item:only-child::after {width: 0;}#sk-container-id-3 div.sk-dashed-wrapped {border: 1px dashed gray;margin: 0 0.4em 0.5em 0.4em;box-sizing: border-box;padding-bottom: 0.4em;background-color: white;}#sk-container-id-3 div.sk-label label {font-family: monospace;font-weight: bold;display: inline-block;line-height: 1.2em;}#sk-container-id-3 div.sk-label-container {text-align: center;}#sk-container-id-3 div.sk-container {/* jupyter's `normalize.less` sets `[hidden] { display: none; }` but bootstrap.min.css set `[hidden] { display: none !important; }` so we also need the `!important` here to be able to override the default hidden behavior on the sphinx rendered scikit-learn.org. See: https://github.com/scikit-learn/scikit-learn/issues/21755 */display: inline-block !important;position: relative;}#sk-container-id-3 div.sk-text-repr-fallback {display: none;}</style><div id=\"sk-container-id-3\" class=\"sk-top-container\"><div class=\"sk-text-repr-fallback\"><pre>RandomizedSearchCV(cv=2,\n",
       "                   estimator=XGBClassifier(base_score=None, booster=None,\n",
       "                                           callbacks=None,\n",
       "                                           colsample_bylevel=None,\n",
       "                                           colsample_bynode=None,\n",
       "                                           colsample_bytree=None,\n",
       "                                           early_stopping_rounds=None,\n",
       "                                           enable_categorical=False,\n",
       "                                           eval_metric=None, feature_types=None,\n",
       "                                           gamma=None, gpu_id=None,\n",
       "                                           grow_policy=None,\n",
       "                                           importance_type=None,\n",
       "                                           interaction_constraints=None,\n",
       "                                           learning_rate...\n",
       "                                           predictor=None, random_state=None, ...),\n",
       "                   n_iter=5,\n",
       "                   param_distributions={&#x27;learning_rate&#x27;: &lt;scipy.stats._distn_infrastructure.rv_continuous_frozen object at 0x0000014F071B7460&gt;,\n",
       "                                        &#x27;max_depth&#x27;: &lt;scipy.stats._distn_infrastructure.rv_discrete_frozen object at 0x0000014F071B7CD0&gt;,\n",
       "                                        &#x27;n_estimators&#x27;: &lt;scipy.stats._distn_infrastructure.rv_discrete_frozen object at 0x0000014F405631F0&gt;},\n",
       "                   scoring=&#x27;accuracy&#x27;)</pre><b>In a Jupyter environment, please rerun this cell to show the HTML representation or trust the notebook. <br />On GitHub, the HTML representation is unable to render, please try loading this page with nbviewer.org.</b></div><div class=\"sk-container\" hidden><div class=\"sk-item sk-dashed-wrapped\"><div class=\"sk-label-container\"><div class=\"sk-label sk-toggleable\"><input class=\"sk-toggleable__control sk-hidden--visually\" id=\"sk-estimator-id-7\" type=\"checkbox\" ><label for=\"sk-estimator-id-7\" class=\"sk-toggleable__label sk-toggleable__label-arrow\">RandomizedSearchCV</label><div class=\"sk-toggleable__content\"><pre>RandomizedSearchCV(cv=2,\n",
       "                   estimator=XGBClassifier(base_score=None, booster=None,\n",
       "                                           callbacks=None,\n",
       "                                           colsample_bylevel=None,\n",
       "                                           colsample_bynode=None,\n",
       "                                           colsample_bytree=None,\n",
       "                                           early_stopping_rounds=None,\n",
       "                                           enable_categorical=False,\n",
       "                                           eval_metric=None, feature_types=None,\n",
       "                                           gamma=None, gpu_id=None,\n",
       "                                           grow_policy=None,\n",
       "                                           importance_type=None,\n",
       "                                           interaction_constraints=None,\n",
       "                                           learning_rate...\n",
       "                                           predictor=None, random_state=None, ...),\n",
       "                   n_iter=5,\n",
       "                   param_distributions={&#x27;learning_rate&#x27;: &lt;scipy.stats._distn_infrastructure.rv_continuous_frozen object at 0x0000014F071B7460&gt;,\n",
       "                                        &#x27;max_depth&#x27;: &lt;scipy.stats._distn_infrastructure.rv_discrete_frozen object at 0x0000014F071B7CD0&gt;,\n",
       "                                        &#x27;n_estimators&#x27;: &lt;scipy.stats._distn_infrastructure.rv_discrete_frozen object at 0x0000014F405631F0&gt;},\n",
       "                   scoring=&#x27;accuracy&#x27;)</pre></div></div></div><div class=\"sk-parallel\"><div class=\"sk-parallel-item\"><div class=\"sk-item\"><div class=\"sk-label-container\"><div class=\"sk-label sk-toggleable\"><input class=\"sk-toggleable__control sk-hidden--visually\" id=\"sk-estimator-id-8\" type=\"checkbox\" ><label for=\"sk-estimator-id-8\" class=\"sk-toggleable__label sk-toggleable__label-arrow\">estimator: XGBClassifier</label><div class=\"sk-toggleable__content\"><pre>XGBClassifier(base_score=None, booster=None, callbacks=None,\n",
       "              colsample_bylevel=None, colsample_bynode=None,\n",
       "              colsample_bytree=None, early_stopping_rounds=None,\n",
       "              enable_categorical=False, eval_metric=None, feature_types=None,\n",
       "              gamma=None, gpu_id=None, grow_policy=None, importance_type=None,\n",
       "              interaction_constraints=None, learning_rate=None, max_bin=None,\n",
       "              max_cat_threshold=None, max_cat_to_onehot=None,\n",
       "              max_delta_step=None, max_depth=None, max_leaves=None,\n",
       "              min_child_weight=None, missing=nan, monotone_constraints=None,\n",
       "              n_estimators=100, n_jobs=None, num_parallel_tree=None,\n",
       "              predictor=None, random_state=None, ...)</pre></div></div></div><div class=\"sk-serial\"><div class=\"sk-item\"><div class=\"sk-estimator sk-toggleable\"><input class=\"sk-toggleable__control sk-hidden--visually\" id=\"sk-estimator-id-9\" type=\"checkbox\" ><label for=\"sk-estimator-id-9\" class=\"sk-toggleable__label sk-toggleable__label-arrow\">XGBClassifier</label><div class=\"sk-toggleable__content\"><pre>XGBClassifier(base_score=None, booster=None, callbacks=None,\n",
       "              colsample_bylevel=None, colsample_bynode=None,\n",
       "              colsample_bytree=None, early_stopping_rounds=None,\n",
       "              enable_categorical=False, eval_metric=None, feature_types=None,\n",
       "              gamma=None, gpu_id=None, grow_policy=None, importance_type=None,\n",
       "              interaction_constraints=None, learning_rate=None, max_bin=None,\n",
       "              max_cat_threshold=None, max_cat_to_onehot=None,\n",
       "              max_delta_step=None, max_depth=None, max_leaves=None,\n",
       "              min_child_weight=None, missing=nan, monotone_constraints=None,\n",
       "              n_estimators=100, n_jobs=None, num_parallel_tree=None,\n",
       "              predictor=None, random_state=None, ...)</pre></div></div></div></div></div></div></div></div></div></div>"
      ],
      "text/plain": [
       "RandomizedSearchCV(cv=2,\n",
       "                   estimator=XGBClassifier(base_score=None, booster=None,\n",
       "                                           callbacks=None,\n",
       "                                           colsample_bylevel=None,\n",
       "                                           colsample_bynode=None,\n",
       "                                           colsample_bytree=None,\n",
       "                                           early_stopping_rounds=None,\n",
       "                                           enable_categorical=False,\n",
       "                                           eval_metric=None, feature_types=None,\n",
       "                                           gamma=None, gpu_id=None,\n",
       "                                           grow_policy=None,\n",
       "                                           importance_type=None,\n",
       "                                           interaction_constraints=None,\n",
       "                                           learning_rate...\n",
       "                                           predictor=None, random_state=None, ...),\n",
       "                   n_iter=5,\n",
       "                   param_distributions={'learning_rate': <scipy.stats._distn_infrastructure.rv_continuous_frozen object at 0x0000014F071B7460>,\n",
       "                                        'max_depth': <scipy.stats._distn_infrastructure.rv_discrete_frozen object at 0x0000014F071B7CD0>,\n",
       "                                        'n_estimators': <scipy.stats._distn_infrastructure.rv_discrete_frozen object at 0x0000014F405631F0>},\n",
       "                   scoring='accuracy')"
      ]
     },
     "execution_count": 67,
     "metadata": {},
     "output_type": "execute_result"
    }
   ],
   "source": [
    "#Create an XGBoost classifier\n",
    "xgb_model = xgb.XGBClassifier()\n",
    "\n",
    "#Define the parameter distributions for randomized search\n",
    "param_dist = {\n",
    "    'n_estimators': randint(100, 500),       \n",
    "    'max_depth': randint(3, 10),             \n",
    "    'learning_rate': uniform(0.01, 0.1)    \n",
    "}\n",
    "\n",
    "#Perform randomized search for hyperparameter tuning with increased iterations and cv folds\n",
    "random_search = RandomizedSearchCV(estimator=xgb_model, param_distributions=param_dist, n_iter=5, cv=2, scoring='accuracy')\n",
    "random_search.fit(X_train_resampled, y_train_resampled)"
   ]
  },
  {
   "cell_type": "markdown",
   "id": "480d1fc3",
   "metadata": {},
   "source": [
    "***This output tells us how we have used the hyper parameter while creating the Gradient Boosting model. We see that these hyper paramters were able to successfully execute while now being able to use our Gradient model for evaluation in the next few steps***"
   ]
  },
  {
   "cell_type": "markdown",
   "id": "0d468431",
   "metadata": {},
   "source": [
    "### Training the Model and Cross Validation"
   ]
  },
  {
   "cell_type": "code",
   "execution_count": 68,
   "id": "7b852bef",
   "metadata": {},
   "outputs": [],
   "source": [
    "#Get the best estimator from randomized search\n",
    "best_xgb_model = random_search.best_estimator_"
   ]
  },
  {
   "cell_type": "markdown",
   "id": "c691609e",
   "metadata": {},
   "source": [
    "***We performed a x5 cross validation method to test the accuracy of the model. The results of that is below in the accuracy of the model section.***"
   ]
  },
  {
   "cell_type": "code",
   "execution_count": 69,
   "id": "0cf56c56",
   "metadata": {},
   "outputs": [],
   "source": [
    "#Evaluate the model using cross-validation\n",
    "cv_scores = cross_val_score(best_xgb_model, X_train_resampled, y_train_resampled, cv=5, scoring='accuracy')"
   ]
  },
  {
   "cell_type": "code",
   "execution_count": 70,
   "id": "9aeeb535",
   "metadata": {},
   "outputs": [],
   "source": [
    "#Make predictions on the validation set\n",
    "val_predictions = best_xgb_model.predict(X_val)"
   ]
  },
  {
   "cell_type": "markdown",
   "id": "06591a09",
   "metadata": {},
   "source": [
    "### Feature Importance "
   ]
  },
  {
   "cell_type": "markdown",
   "id": "458f70fc",
   "metadata": {},
   "source": [
    "I ran this model many times trying to change it increase the accuracy. Each time the top feature importance fields would change slighly depending on the perimeters of the model. The top 5 important features of this final version include EXT_SOURCE_3, EXT_SOURCE_2, AMT_REQ_CREDIT_BUREAU_DAY, FLAG_EMP_PHONE and FLAG_DOCUMENT_3."
   ]
  },
  {
   "cell_type": "code",
   "execution_count": 79,
   "id": "013c7423",
   "metadata": {},
   "outputs": [
    {
     "name": "stdout",
     "output_type": "stream",
     "text": [
      "                        Feature  Importance\n",
      "28                 EXT_SOURCE_3    0.069916\n",
      "27                 EXT_SOURCE_2    0.050373\n",
      "55    AMT_REQ_CREDIT_BUREAU_DAY    0.040668\n",
      "12               FLAG_EMP_PHONE    0.037057\n",
      "35              FLAG_DOCUMENT_3    0.029822\n",
      "48             FLAG_DOCUMENT_16    0.025261\n",
      "19  REGION_RATING_CLIENT_W_CITY    0.023824\n",
      "5               AMT_GOODS_PRICE    0.023529\n",
      "54   AMT_REQ_CREDIT_BUREAU_HOUR    0.022048\n",
      "24       REG_CITY_NOT_LIVE_CITY    0.020464\n",
      "25       REG_CITY_NOT_WORK_CITY    0.019871\n",
      "50             FLAG_DOCUMENT_18    0.019775\n",
      "3                    AMT_CREDIT    0.019445\n",
      "32     DEF_60_CNT_SOCIAL_CIRCLE    0.019247\n",
      "4                   AMT_ANNUITY    0.018796\n",
      "46             FLAG_DOCUMENT_14    0.018267\n",
      "8                 DAYS_EMPLOYED    0.018109\n",
      "31     OBS_60_CNT_SOCIAL_CIRCLE    0.017978\n",
      "13              FLAG_WORK_PHONE    0.017963\n",
      "7                    DAYS_BIRTH    0.017441\n"
     ]
    }
   ],
   "source": [
    "#Feature importance\n",
    "feature_importances = best_xgb_model.feature_importances_\n",
    "\n",
    "#Create a DataFrame to store the feature importances\n",
    "importance_df = pd.DataFrame({'Feature': X_train.columns, 'Importance': feature_importances})\n",
    "\n",
    "#Sort the DataFrame by importance in descending order\n",
    "importance_df = importance_df.sort_values('Importance', ascending=False)\n",
    "\n",
    "#Display the top 10 most important features\n",
    "print(importance_df.head(20))"
   ]
  },
  {
   "cell_type": "code",
   "execution_count": 72,
   "id": "b50d2248",
   "metadata": {},
   "outputs": [
    {
     "data": {
      "image/png": "[encoded data removed]",
      "text/plain": [
       "<Figure size 1000x600 with 1 Axes>"
      ]
     },
     "metadata": {},
     "output_type": "display_data"
    }
   ],
   "source": [
    "#Visualize the feature importance\n",
    "\n",
    "#Set the figure size\n",
    "plt.figure(figsize=(10, 6))\n",
    "\n",
    "#Create the bar plot\n",
    "plt.bar(importance_df['Feature'], importance_df['Importance'])\n",
    "plt.xticks(rotation='vertical')\n",
    "plt.xlabel('Features')\n",
    "plt.ylabel('Importance')\n",
    "plt.title('Feature Importances')\n",
    "\n",
    "#Adjust the spacing between the bars and the plot's edges\n",
    "plt.tight_layout()\n",
    "\n",
    "#Display the plot\n",
    "plt.show()"
   ]
  },
  {
   "cell_type": "markdown",
   "id": "85687eeb",
   "metadata": {},
   "source": [
    "***For the chart above, we can see that the importance levels out after the top 5-10 features. A couple of the fields from the other datasets I added did make it into the top 20 important features (SK_DPD).***\n",
    "\n",
    "\n",
    "***Within our Gradient Boost model we can see that the variables of EXT_SOURCE_3, EXT_SOURCE_2, AMT_REQ_CREDIT_BUREAU_DAY, FLAG_EMP_PHONE, and FLAG_DOCUMENT_3 are the top 5 most important variables in predicting if the customer will default. This tell us that it is most important to pay attention to the normalized score from external data source, Number of enquiries to Credit Bureau about the client one day before application, Did client provide work phone (1=YES, 0=NO), and Indicating if there is a third document provided by the client are the most important to predicting if the customer will default.***\n",
    "\n"
   ]
  },
  {
   "cell_type": "markdown",
   "id": "0526bf45",
   "metadata": {},
   "source": [
    "### Accuracy of the Model "
   ]
  },
  {
   "cell_type": "code",
   "execution_count": 73,
   "id": "37a62639",
   "metadata": {},
   "outputs": [
    {
     "name": "stdout",
     "output_type": "stream",
     "text": [
      "AUC Score: 0.6688192795641691\n"
     ]
    }
   ],
   "source": [
    "#Calculate the AUC score\n",
    "auc_score = roc_auc_score(y_val, val_predictions)\n",
    "print(\"AUC Score:\", auc_score)"
   ]
  },
  {
   "cell_type": "markdown",
   "id": "60f69445",
   "metadata": {},
   "source": [
    "***This model received a AUC score fo .6688 suggesting that this model has a fair level of predictive power. It is a moderate power of predicting if the customer will default or not. This represents that using the model will still give us better results rather than randomly guessing because the AUC is greater than .5.***"
   ]
  },
  {
   "cell_type": "code",
   "execution_count": 74,
   "id": "dc3404f3",
   "metadata": {},
   "outputs": [
    {
     "name": "stdout",
     "output_type": "stream",
     "text": [
      "Cross-validation scores: [0.78187567 0.78186461 0.78562347 0.77866959 0.78151948]\n",
      "Mean Accuracy: 0.7819105646456832\n"
     ]
    }
   ],
   "source": [
    "#Print the cross-validation scores\n",
    "print(\"Cross-validation scores:\", cv_scores)\n",
    "print(\"Mean Accuracy:\", np.mean(cv_scores))"
   ]
  },
  {
   "cell_type": "markdown",
   "id": "2a74ebdb",
   "metadata": {},
   "source": [
    "***Within each of the folds of the cross validation scores we see that each fold is highly accurate. The accuracy score measures the proportion of correctly classified instances. Meaning that within each fold there is about a 78% chance that the classifications are correct***\n",
    "\n",
    "***The mean accuracy of  0.7819105646456832 means that on average the Cross Validation of the Gradient Boost Model got an average of 78.19% classifications correct. It is an average accuracy of 78.19%***"
   ]
  },
  {
   "cell_type": "code",
   "execution_count": 75,
   "id": "cfa83c26",
   "metadata": {},
   "outputs": [
    {
     "name": "stdout",
     "output_type": "stream",
     "text": [
      "Confusion Matrix:\n",
      "[[42898 13656]\n",
      " [ 2083  2866]]\n"
     ]
    }
   ],
   "source": [
    "#Create confusion matrix\n",
    "confusion_mat = confusion_matrix(y_val, val_predictions)\n",
    "print(\"Confusion Matrix:\")\n",
    "print(confusion_mat)"
   ]
  },
  {
   "cell_type": "markdown",
   "id": "84339462",
   "metadata": {},
   "source": [
    "* ***True Negative (TN): The model predicted the negative class correctly, and the actual class was also negative. In this case, there are 42,898 instances where the model correctly predicted the negative class.***\n",
    "\n",
    "* ***False Positive (FP): The model predicted the positive class incorrectly, while the actual class was negative. Here, the model made an incorrect positive prediction in 13,656 instances.***\n",
    "\n",
    "* ***False Negative (FN): The model predicted the negative class incorrectly, while the actual class was positive. There are 2,083 instances where the model made an incorrect negative prediction.***\n",
    "\n",
    "* ***True Positive (TP): The model predicted the positive class correctly, and the actual class was also positive. In this case, the model made correct positive predictions in 2,866 instances.***"
   ]
  },
  {
   "cell_type": "code",
   "execution_count": 76,
   "id": "91a4b639",
   "metadata": {},
   "outputs": [
    {
     "name": "stdout",
     "output_type": "stream",
     "text": [
      "Accuracy: 0.7440937840430548\n",
      "Precision: 0.17346568212080862\n",
      "Recall: 0.5791068902808648\n",
      "F1-score: 0.2669647431419124\n"
     ]
    }
   ],
   "source": [
    "#Evaluating confusion matrix values\n",
    "TN, FP, FN, TP = confusion_mat.ravel()\n",
    "\n",
    "#Calculate accuracy\n",
    "accuracy = (TP + TN) / (TP + TN + FP + FN)\n",
    "\n",
    "#Calculate precision\n",
    "precision = TP / (TP + FP)\n",
    "\n",
    "#Calculate recall\n",
    "recall = TP / (TP + FN)\n",
    "\n",
    "#Calculate F1-score\n",
    "f1_score = 2 * (precision * recall) / (precision + recall)\n",
    "\n",
    "# Print the metrics\n",
    "print(\"Accuracy:\", accuracy)\n",
    "print(\"Precision:\", precision)\n",
    "print(\"Recall:\", recall)\n",
    "print(\"F1-score:\", f1_score)"
   ]
  },
  {
   "cell_type": "markdown",
   "id": "96d90ce3",
   "metadata": {},
   "source": [
    "***The accuracy score is 0.744, indicating that 74.4% of the predictions made by the model were correct. A precision score of 0.173 indicates that out of all the cases predicted as positive, only 17.3% were actually true positives. A recall score of 0.579 means that the model identified 57.9% of the actual positive cases.The F1-score is 0.267, which suggests that the model's overall performance is on the low side.***"
   ]
  },
  {
   "cell_type": "markdown",
   "id": "772b10cd",
   "metadata": {},
   "source": [
    "### Prediction on the Test Set"
   ]
  },
  {
   "cell_type": "code",
   "execution_count": 77,
   "id": "4676d6e7",
   "metadata": {},
   "outputs": [],
   "source": [
    "#Make predictions on the test set\n",
    "test_predictions = best_xgb_model.predict(test_data)"
   ]
  },
  {
   "cell_type": "code",
   "execution_count": 78,
   "id": "7412f317",
   "metadata": {},
   "outputs": [],
   "source": [
    "#Create a submission DataFrame\n",
    "submission = pd.DataFrame({\n",
    "    \"SK_ID_CURR\": test_data[\"SK_ID_CURR\"], \n",
    "    \"TARGET\": test_predictions\n",
    "})\n",
    "\n",
    "#Remove duplicate SK_ID_CURR values\n",
    "submission = submission.drop_duplicates(subset=\"SK_ID_CURR\", keep=\"first\")\n",
    "\n",
    "#Save the submission DataFrame to a CSV file\n",
    "submission.to_csv(\"submission.csv\", index=False)"
   ]
  },
  {
   "cell_type": "markdown",
   "id": "e1771e4e",
   "metadata": {},
   "source": [
    "***When we take the CSV file and submit it into Kaggle we get a score of .5. While the Kaggle score may be .5, we know that because of our other metrics that this Gradient Boosting model is still accurate and is a sufficient model giving accuracy and AUC scores <= .6***"
   ]
  },
  {
   "cell_type": "markdown",
   "id": "024579ad",
   "metadata": {},
   "source": [
    "## Recalling Training sets and Cross Validations For Next Model"
   ]
  },
  {
   "cell_type": "markdown",
   "id": "b80e3327",
   "metadata": {},
   "source": [
    "***Here we have recalled our training and test sets that we established in the previous page. These are the sets that were used with our newly cleaned data and merged with other datasets. In this section we recall the sets already created by calling them and setting the same parameters after the cleaned data used.***"
   ]
  },
  {
   "cell_type": "code",
   "execution_count": 58,
   "id": "98550d07",
   "metadata": {},
   "outputs": [],
   "source": [
    "# import pandas as pd\n",
    "from sklearn.model_selection import train_test_split\n",
    "from sklearn.model_selection import cross_val_score\n",
    "from sklearn.ensemble import RandomForestClassifier\n",
    "from sklearn.metrics import accuracy_score\n",
    "\n",
    "\n",
    "y = train_data['TARGET']\n",
    "X = train_data.drop('TARGET', axis=1)\n",
    "X_train, X_val, y_train, y_val = train_test_split(X, y, test_size=0.2, random_state=42)\n",
    "\n",
    "\n"
   ]
  },
  {
   "cell_type": "markdown",
   "id": "a6eeb4e8",
   "metadata": {},
   "source": [
    "## Identifying the performance benchmark established by the majority class classifier. "
   ]
  },
  {
   "cell_type": "code",
   "execution_count": 59,
   "id": "8a3570a2",
   "metadata": {},
   "outputs": [
    {
     "name": "stdout",
     "output_type": "stream",
     "text": [
      "0.919205879483594\n"
     ]
    }
   ],
   "source": [
    "# Count the occurrences of each class\n",
    "class_counts = y_train.value_counts()\n",
    "\n",
    "# Identify the majority class\n",
    "majority_class = class_counts.idxmax()\n",
    "\n",
    "# Calculate the accuracy of the majority class classifier\n",
    "accuracy_majority_class = class_counts[majority_class] / len(X_train)\n",
    "print(accuracy_majority_class)"
   ]
  },
  {
   "cell_type": "markdown",
   "id": "99b860b8",
   "metadata": {},
   "source": [
    "***This tells us the accuracy of the majority class classifier. The accuracy of the majority class classifier is approximately 0.9192, or 91.92%. Meaning that if we were to predict the majority class for all variables in the training dataset, we would be correct about 91.921% of the time.***"
   ]
  },
  {
   "cell_type": "markdown",
   "id": "4b92a2a7",
   "metadata": {},
   "source": [
    "## Performing the data transformations needed throughout our algorithms"
   ]
  },
  {
   "cell_type": "code",
   "execution_count": 60,
   "id": "ca25b992",
   "metadata": {},
   "outputs": [],
   "source": [
    "from sklearn.preprocessing import StandardScaler, MinMaxScaler, OneHotEncoder\n",
    "import numpy as np\n",
    "\n",
    "# Concatenate training and validation datasets\n",
    "X_train_val = np.concatenate((X_train, X_val), axis=0)\n",
    "\n",
    "# Standardization\n",
    "scaler = StandardScaler()\n",
    "X_train_val_scaled = scaler.fit_transform(X_train_val)\n",
    "\n",
    "# Normalization\n",
    "normalizer = MinMaxScaler()\n",
    "X_train_val_normalized = normalizer.fit_transform(X_train_val)\n",
    "\n",
    "# One-Hot Encoding\n",
    "encoder = OneHotEncoder()\n",
    "X_train_val_encoded = encoder.fit_transform(X_train_val)\n"
   ]
  },
  {
   "cell_type": "markdown",
   "id": "9e3fbbf7",
   "metadata": {},
   "source": [
    "## Multiple Regression Models"
   ]
  },
  {
   "cell_type": "markdown",
   "id": "15c39773",
   "metadata": {},
   "source": [
    "### Fitting several different logistic regression models using different interactions"
   ]
  },
  {
   "cell_type": "code",
   "execution_count": 61,
   "id": "da5392fd",
   "metadata": {},
   "outputs": [
    {
     "name": "stdout",
     "output_type": "stream",
     "text": [
      "Runtime for generating interaction terms: 11.300916910171509 seconds\n",
      "Runtime for fitting model with interactions: 18.78170418739319 seconds\n",
      "Runtime for preparing validation data: 2.673457384109497 seconds\n",
      "Runtime for making predictions: 1.056178331375122 seconds\n",
      "Runtime for evaluating model performance: 0.1746351718902588 seconds\n",
      "\n",
      "Model without interactions:\n",
      "Accuracy: 0.9195161211648212\n",
      "AUC: 0.6203350955928995\n",
      "\n",
      "Model with interactions:\n",
      "Accuracy: 0.9195323805342829\n",
      "AUC: 0.5\n"
     ]
    }
   ],
   "source": [
    "import time\n",
    "from sklearn.preprocessing import PolynomialFeatures\n",
    "from sklearn.linear_model import LogisticRegression\n",
    "from sklearn.metrics import accuracy_score, roc_auc_score\n",
    "\n",
    "# Generate interaction terms\n",
    "poly = PolynomialFeatures(interaction_only=True, include_bias=False)\n",
    "start_time = time.time()\n",
    "X_train_with_interactions = poly.fit_transform(X_train)\n",
    "end_time = time.time()\n",
    "\n",
    "# Fit logistic regression models with and without interaction terms\n",
    "model_without_interactions = LogisticRegression()\n",
    "model_without_interactions.fit(X_train, y_train)\n",
    "\n",
    "model_with_interactions = LogisticRegression()\n",
    "start_time_with_interactions = time.time()\n",
    "model_with_interactions.fit(X_train_with_interactions, y_train)\n",
    "end_time_with_interactions = time.time()\n",
    "\n",
    "# Prepare validation data\n",
    "start_time_val = time.time()\n",
    "X_val_with_interactions = poly.transform(X_val)\n",
    "end_time_val = time.time()\n",
    "\n",
    "# Make predictions on the validation set\n",
    "start_time_preds = time.time()\n",
    "preds_without_interactions = model_without_interactions.predict(X_val)\n",
    "probs_without_interactions = model_without_interactions.predict_proba(X_val)[:, 1]\n",
    "\n",
    "preds_with_interactions = model_with_interactions.predict(X_val_with_interactions)\n",
    "probs_with_interactions = model_with_interactions.predict_proba(X_val_with_interactions)[:, 1]\n",
    "end_time_preds = time.time()\n",
    "\n",
    "# Evaluate model performance\n",
    "start_time_eval = time.time()\n",
    "accuracy_without_interactions = accuracy_score(y_val, preds_without_interactions)\n",
    "auc_without_interactions = roc_auc_score(y_val, probs_without_interactions)\n",
    "\n",
    "accuracy_with_interactions = accuracy_score(y_val, preds_with_interactions)\n",
    "auc_with_interactions = roc_auc_score(y_val, probs_with_interactions)\n",
    "end_time_eval = time.time()\n",
    "\n",
    "# Print the runtimes\n",
    "print(\"Runtime for generating interaction terms:\", end_time - start_time, \"seconds\")\n",
    "print(\"Runtime for fitting model with interactions:\", end_time_with_interactions - start_time_with_interactions, \"seconds\")\n",
    "print(\"Runtime for preparing validation data:\", end_time_val - start_time_val, \"seconds\")\n",
    "print(\"Runtime for making predictions:\", end_time_preds - start_time_preds, \"seconds\")\n",
    "print(\"Runtime for evaluating model performance:\", end_time_eval - start_time_eval, \"seconds\")\n",
    "\n",
    "# Compare model performance\n",
    "print(\"\\nModel without interactions:\")\n",
    "print(\"Accuracy:\", accuracy_without_interactions)\n",
    "print(\"AUC:\", auc_without_interactions)\n",
    "\n",
    "print(\"\\nModel with interactions:\")\n",
    "print(\"Accuracy:\", accuracy_with_interactions)\n",
    "print(\"AUC:\", auc_with_interactions)\n"
   ]
  },
  {
   "cell_type": "markdown",
   "id": "0f922258",
   "metadata": {},
   "source": [
    "***From our output of the logistic regression modeling, we see that the model without interactions had a accuracy of 91.9516% and an AUC of .62. The model with interactions has a accuracy of 91.9532% but an AUC of .5.***\n",
    "\n",
    "\n",
    "***There may be a higher AUC within the model without interactions because there is less to consider in the effect that intereactions can have one the target variable. Although our AUC is lower for the model with interactions, this may because now we are looking at the bigger picture with all interactive varaibles and we are resulting in getting a higher accuracy of the logistic regresssion model when we include the interactions.***"
   ]
  },
  {
   "cell_type": "markdown",
   "id": "2f943118",
   "metadata": {},
   "source": [
    "### Attempting for the Up and Down Sampling for the Logistic Regression Model"
   ]
  },
  {
   "cell_type": "code",
   "execution_count": 62,
   "id": "bbb82942",
   "metadata": {},
   "outputs": [
    {
     "name": "stdout",
     "output_type": "stream",
     "text": [
      "Class Distribution (Before):\n",
      "0    226132\n",
      "1     19876\n",
      "Name: TARGET, dtype: int64\n",
      "Upsampling Runtime: 1.366769790649414 seconds\n",
      "Downsampling Runtime: 0.23794841766357422 seconds\n",
      "Upsampled Training Runtime: 7.301072359085083 seconds\n",
      "Downsampled Training Runtime: 0.6300501823425293 seconds\n",
      "Original Prediction Runtime: 0.03173041343688965 seconds\n",
      "Accuracy (Original): 0.5965237468090987\n",
      "Accuracy (Upsampled): 0.5941986569760824\n",
      "Accuracy (Downsampled): 0.5965237468090987\n"
     ]
    }
   ],
   "source": [
    "import time\n",
    "from sklearn.linear_model import LogisticRegression\n",
    "from sklearn.utils import resample\n",
    "from sklearn.metrics import accuracy_score\n",
    "\n",
    "# Analyze class distribution in the training set\n",
    "class_counts = y_train.value_counts()\n",
    "print(\"Class Distribution (Before):\")\n",
    "print(class_counts)\n",
    "\n",
    "# Upsample the minority class\n",
    "df_majority = X_train[y_train == 0]\n",
    "df_minority = X_train[y_train == 1]\n",
    "\n",
    "start_time_upsample = time.time()\n",
    "df_minority_upsampled = resample(df_minority, replace=True, n_samples=len(df_majority), random_state=42)\n",
    "X_train_upsampled = pd.concat([df_majority, df_minority_upsampled])\n",
    "y_train_upsampled = pd.Series([0] * len(df_majority) + [1] * len(df_minority_upsampled))\n",
    "end_time_upsample = time.time()\n",
    "\n",
    "# Downsample the majority class\n",
    "start_time_downsample = time.time()\n",
    "df_majority_downsampled = resample(df_majority, replace=False, n_samples=len(df_minority), random_state=42)\n",
    "X_train_downsampled = pd.concat([df_majority_downsampled, df_minority])\n",
    "y_train_downsampled = pd.Series([0] * len(df_majority_downsampled) + [1] * len(df_minority))\n",
    "end_time_downsample = time.time()\n",
    "\n",
    "# Train and evaluate models on upsampled and downsampled data\n",
    "model = LogisticRegression()  # Initialize the LogisticRegression model\n",
    "\n",
    "# Train on upsampled data\n",
    "start_time_train_upsampled = time.time()\n",
    "model.fit(X_train_upsampled, y_train_upsampled)\n",
    "y_pred_upsampled = model.predict(X_val)\n",
    "accuracy_upsampled = accuracy_score(y_val, y_pred_upsampled)\n",
    "end_time_train_upsampled = time.time()\n",
    "\n",
    "# Train on downsampled data\n",
    "start_time_train_downsampled = time.time()\n",
    "model.fit(X_train_downsampled, y_train_downsampled)\n",
    "y_pred_downsampled = model.predict(X_val)\n",
    "accuracy_downsampled = accuracy_score(y_val, y_pred_downsampled)\n",
    "end_time_train_downsampled = time.time()\n",
    "\n",
    "# Compute predictions for original data\n",
    "start_time_pred_original = time.time()\n",
    "y_pred_original = model.predict(X_val)\n",
    "accuracy_original = accuracy_score(y_val, y_pred_original)\n",
    "end_time_pred_original = time.time()\n",
    "\n",
    "# Print the runtimes\n",
    "print(\"Upsampling Runtime:\", end_time_upsample - start_time_upsample, \"seconds\")\n",
    "print(\"Downsampling Runtime:\", end_time_downsample - start_time_downsample, \"seconds\")\n",
    "print(\"Upsampled Training Runtime:\", end_time_train_upsampled - start_time_train_upsampled, \"seconds\")\n",
    "print(\"Downsampled Training Runtime:\", end_time_train_downsampled - start_time_train_downsampled, \"seconds\")\n",
    "print(\"Original Prediction Runtime:\", end_time_pred_original - start_time_pred_original, \"seconds\")\n",
    "\n",
    "# Compare model performance\n",
    "print(\"Accuracy (Original):\", accuracy_original)\n",
    "print(\"Accuracy (Upsampled):\", accuracy_upsampled)\n",
    "print(\"Accuracy (Downsampled):\", accuracy_downsampled)\n"
   ]
  },
  {
   "cell_type": "markdown",
   "id": "14e84275",
   "metadata": {},
   "source": [
    "***When considering whether to up or downsample the dataset, we see that upsampling gives us the lowest accuracy within our modeling of only being 59.41% accurate in predicting for the target variable.***\n",
    "\n",
    "***We see that the original and downsample of the logistic regression give us the same and higher accuracy of 59.65%. Because of this when we perform our hyper paramters and evaluations within the logistic regression model we are going to keep our original data rather than the up or down sampled versions of the data.***"
   ]
  },
  {
   "cell_type": "markdown",
   "id": "1f242f20",
   "metadata": {},
   "source": [
    "### Hyper Parameter Tuning of the Logistic Regressions"
   ]
  },
  {
   "cell_type": "code",
   "execution_count": 63,
   "id": "c8c77faa",
   "metadata": {},
   "outputs": [
    {
     "name": "stdout",
     "output_type": "stream",
     "text": [
      "Grid Search Runtime: 364.85560846328735 seconds\n",
      "Training Runtime: 4.806471347808838 seconds\n",
      "Prediction Runtime: 0.051279544830322266 seconds\n",
      "Evaluation Runtime: 0.0 seconds\n",
      "Best Hyperparameters: {'C': 0.1, 'penalty': 'l2', 'solver': 'liblinear'}\n",
      "Best Score: 0.9192018146332195\n",
      "Accuracy: 0.9195161211648212\n"
     ]
    }
   ],
   "source": [
    "import time\n",
    "from sklearn.model_selection import GridSearchCV\n",
    "from sklearn.linear_model import LogisticRegression\n",
    "from sklearn.metrics import accuracy_score\n",
    "\n",
    "# Define the hyperparameters and their search space\n",
    "param_grid = {\n",
    "    'C': [0.1, 1.0, 10.0],\n",
    "    'penalty': ['l1', 'l2'],\n",
    "    'solver': ['liblinear']\n",
    "}\n",
    "\n",
    "# Initialize the model\n",
    "model = LogisticRegression(random_state=42)\n",
    "\n",
    "# Perform grid search with cross-validation\n",
    "start_time = time.time()\n",
    "grid_search = GridSearchCV(model, param_grid, cv=5, scoring='accuracy')\n",
    "grid_search.fit(X_train, y_train)\n",
    "end_time = time.time()\n",
    "\n",
    "# Get the best hyperparameter values and model performance\n",
    "best_params = grid_search.best_params_\n",
    "best_score = grid_search.best_score_\n",
    "\n",
    "# Train the model with the best hyperparameters\n",
    "start_time_train = time.time()\n",
    "best_model = LogisticRegression(**best_params, random_state=42)\n",
    "best_model.fit(X_train, y_train)\n",
    "end_time_train = time.time()\n",
    "\n",
    "# Make predictions using the best model\n",
    "start_time_pred = time.time()\n",
    "y_pred = best_model.predict(X_val)\n",
    "end_time_pred = time.time()\n",
    "\n",
    "# Evaluate the model performance\n",
    "start_time_eval = time.time()\n",
    "accuracy = accuracy_score(y_val, y_pred)\n",
    "end_time_eval = time.time()\n",
    "\n",
    "# Print the runtimes\n",
    "print(\"Grid Search Runtime:\", end_time - start_time, \"seconds\")\n",
    "print(\"Training Runtime:\", end_time_train - start_time_train, \"seconds\")\n",
    "print(\"Prediction Runtime:\", end_time_pred - start_time_pred, \"seconds\")\n",
    "print(\"Evaluation Runtime:\", end_time_eval - start_time_eval, \"seconds\")\n",
    "\n",
    "# Print the best hyperparameters and model performance\n",
    "print(\"Best Hyperparameters:\", best_params)\n",
    "print(\"Best Score:\", best_score)\n",
    "print(\"Accuracy:\", accuracy)\n"
   ]
  },
  {
   "cell_type": "markdown",
   "id": "dbec6e3c",
   "metadata": {},
   "source": [
    "***After using hyper parameters, we see a couple of interesting observations. The first of which is that this process takes a long time to complete. Taking about 6 minutes to compute.***\n",
    "\n",
    "***Within the best hyperparameters for modeling we see that***\n",
    "\n",
    "* ***Because C is .1, suggests a moderately strong regularization is preferred by the model***\n",
    "* ***The penalty being of L2 means that Ridge Regularization will give us our best results***\n",
    "* ***Solver being assigned as liblinear means that this solver is suitable for small to medium size datasets and supports L1 and L2 penalities***\n",
    "\n",
    "\n",
    "***With the best score being 0.9192018146332195 this means that at the cross validations the mean of the accuracies is 0.9192018146332195. Meaning, that on average at the best paramters the model was performing highly well.***\n",
    "\n",
    "***With best accuracy of  0.9195161211648212 meaning that in the best case scenario this model will be 91.95% accurate when predicting for the target variable when against unknown datasets.***"
   ]
  },
  {
   "cell_type": "markdown",
   "id": "481c0448",
   "metadata": {},
   "source": [
    "### Model performance of Best Logistic Regression Model"
   ]
  },
  {
   "cell_type": "code",
   "execution_count": 64,
   "id": "4141baad",
   "metadata": {},
   "outputs": [
    {
     "name": "stdout",
     "output_type": "stream",
     "text": [
      "Train Set Performance:\n",
      "AUC: 0.4999977889020572\n",
      "              precision    recall  f1-score   support\n",
      "\n",
      "           0       0.92      1.00      0.96    226132\n",
      "           1       0.00      0.00      0.00     19876\n",
      "\n",
      "    accuracy                           0.92    246008\n",
      "   macro avg       0.46      0.50      0.48    246008\n",
      "weighted avg       0.84      0.92      0.88    246008\n",
      "\n",
      "Train Set Runtime: 0.22581863403320312 seconds\n",
      "Test Set Performance:\n",
      "AUC: 0.49999115889238605\n",
      "              precision    recall  f1-score   support\n",
      "\n",
      "           0       0.92      1.00      0.96     56554\n",
      "           1       0.00      0.00      0.00      4949\n",
      "\n",
      "    accuracy                           0.92     61503\n",
      "   macro avg       0.46      0.50      0.48     61503\n",
      "weighted avg       0.85      0.92      0.88     61503\n",
      "\n",
      "Test Set Runtime: 0.03416752815246582 seconds\n"
     ]
    }
   ],
   "source": [
    "import time\n",
    "from sklearn.metrics import classification_report, roc_auc_score\n",
    "\n",
    "# Train set performance\n",
    "start_time_train = time.time()\n",
    "train_pred = best_model.predict(X_train)\n",
    "train_auc = roc_auc_score(y_train, train_pred)\n",
    "end_time_train = time.time()\n",
    "\n",
    "# Print train set performance and runtime\n",
    "print(\"Train Set Performance:\")\n",
    "print(\"AUC:\", train_auc)\n",
    "print(classification_report(y_train, train_pred))\n",
    "print(\"Train Set Runtime:\", end_time_train - start_time_train, \"seconds\")\n",
    "\n",
    "# Test set performance\n",
    "start_time_test = time.time()\n",
    "test_pred = best_model.predict(X_val)\n",
    "test_auc = roc_auc_score(y_val, test_pred)\n",
    "end_time_test = time.time()\n",
    "\n",
    "# Print test set performance and runtime\n",
    "print(\"Test Set Performance:\")\n",
    "print(\"AUC:\", test_auc)\n",
    "print(classification_report(y_val, test_pred))\n",
    "print(\"Test Set Runtime:\", end_time_test - start_time_test, \"seconds\")\n"
   ]
  },
  {
   "cell_type": "markdown",
   "id": "5b11d34c",
   "metadata": {},
   "source": [
    "***Under the best parameters set for the Logistic Regression Modeling***\n",
    "\n",
    "***The Train Set***\n",
    "* ***Has an AUC of 0.4999977889020572. Meaning that the models predictive powers seem to be pretty close to random and the discriminative power of the model are fairly low.***\n",
    "* ***The precision, recall, and F1 score for the majority class of 0 (Those who do not default) are all very high meaning that the model performs well in identifying the majority class***\n",
    "* ***However the precision, recall, and F1 score for the minority class of 1 (Those who do default) are very low at 0. Meaning that it is difficult for the model to predict those who will default.**\n",
    "* ***This train set does give a 92% accuracy though, largely due to its ability to correctly predict the majority class of those who do not default***\n",
    "\n",
    "***The Test Set***\n",
    "\n",
    "* ***The evaluation of the Test set performs almost identical to that of the train dataset.***\n",
    "\n",
    "\n",
    "***This shows us that the Logistic regression model is a model that does accurately and have a power to predict those who are safe to borrow to, which is the purpose of the model. It is a great model to use because it will have more power in predicting correctly those that will not default and are safe borrowers (Target = 0) with a high accuracy to do so.***\n",
    "\n",
    "***While the AUC may be lower and may suggest low discrimative power in classification, we do know that this model does provide a sense of accuracy when seeing who is a safe borrower.***\n",
    "\n"
   ]
  },
  {
   "cell_type": "markdown",
   "id": "d5443ac8",
   "metadata": {},
   "source": [
    "### Features of the Best Logistic Model"
   ]
  },
  {
   "cell_type": "code",
   "execution_count": 65,
   "id": "386b73bd",
   "metadata": {},
   "outputs": [
    {
     "name": "stdout",
     "output_type": "stream",
     "text": [
      "                       Feature  Coefficient\n",
      "33      DAYS_LAST_PHONE_CHANGE   0.00021637\n",
      "10             DAYS_ID_PUBLISH   0.00009348\n",
      "7                   DAYS_BIRTH   0.00008404\n",
      "9            DAYS_REGISTRATION   0.00002685\n",
      "4                  AMT_ANNUITY   0.00000776\n",
      "3                   AMT_CREDIT   0.00000310\n",
      "61          CREDIT_DAY_OVERDUE   0.00000259\n",
      "8                DAYS_EMPLOYED   0.00000052\n",
      "59  AMT_REQ_CREDIT_BUREAU_YEAR   0.00000048\n",
      "60                      SK_DPD   0.00000025\n",
      "Runtime for retrieving coefficients: 0.0 seconds\n",
      "Runtime for creating DataFrame: 0.024721384048461914 seconds\n",
      "Runtime for sorting DataFrame: 0.009205102920532227 seconds\n"
     ]
    }
   ],
   "source": [
    "import time\n",
    "from sklearn.linear_model import LogisticRegression\n",
    "import pandas as pd\n",
    "\n",
    "# Set pandas display options\n",
    "pd.set_option('display.float_format', lambda x: '%.8f' % x)\n",
    "\n",
    "# Get the feature coefficients and their corresponding names\n",
    "start_time = time.time()\n",
    "coefficients = best_model.coef_[0]\n",
    "feature_names = X_train.columns\n",
    "end_time = time.time()\n",
    "\n",
    "# Create a DataFrame to store the coefficients and feature names\n",
    "start_time_df = time.time()\n",
    "coefficients_df = pd.DataFrame({'Feature': feature_names, 'Coefficient': coefficients})\n",
    "end_time_df = time.time()\n",
    "\n",
    "# Sort the DataFrame by coefficient magnitude in descending order\n",
    "start_time_sort = time.time()\n",
    "coefficients_df = coefficients_df.sort_values('Coefficient', ascending=False)\n",
    "end_time_sort = time.time()\n",
    "\n",
    "# Display the coefficients and their impact on the target variable\n",
    "print(coefficients_df.head(10))\n",
    "\n",
    "# Print the runtimes\n",
    "print(\"Runtime for retrieving coefficients:\", end_time - start_time, \"seconds\")\n",
    "print(\"Runtime for creating DataFrame:\", end_time_df - start_time_df, \"seconds\")\n",
    "print(\"Runtime for sorting DataFrame:\", end_time_sort - start_time_sort, \"seconds\")\n"
   ]
  },
  {
   "cell_type": "markdown",
   "id": "5fbfb126",
   "metadata": {},
   "source": [
    "***From this output, we learn that when each of these things increases, so does the likelihood of the person being safe to borrow to increases***\n",
    "\n",
    "* ***Number of days since the clients last owned phone***\n",
    "* ***Number of days since the client changed their ID info***\n",
    "* ***Age in days of the client***\n",
    "* ***Number of days before the application the client change their registration***\n",
    "* ***Loan annuity***\n",
    "* ***Credit amount of the loan***\n",
    "* ***Number of days past due on CB credit at the time of application for related loan***\n",
    "*  ***Days before the application the person started current employment***\n",
    "* ***Number of enquiries to Credit Bureau about the client one year***\n",
    "* ***DPD (Days past due) during the month on the previous credit***"
   ]
  },
  {
   "cell_type": "markdown",
   "id": "026fe394",
   "metadata": {},
   "source": [
    "### Prediction on the Test Set"
   ]
  },
  {
   "cell_type": "code",
   "execution_count": 66,
   "id": "94e7abbf",
   "metadata": {},
   "outputs": [],
   "source": [
    "#Make predictions on the test set\n",
    "test_predictions = best_model.predict(test_data)"
   ]
  },
  {
   "cell_type": "code",
   "execution_count": 68,
   "id": "e2ca85a6",
   "metadata": {},
   "outputs": [],
   "source": [
    "#Create a submission DataFrame\n",
    "submission = pd.DataFrame({\n",
    "    \"SK_ID_CURR\": test_data[\"SK_ID_CURR\"], \n",
    "    \"TARGET\": test_predictions\n",
    "})\n",
    "\n",
    "#Remove duplicate SK_ID_CURR values\n",
    "submission = submission.drop_duplicates(subset=\"SK_ID_CURR\", keep=\"first\")\n",
    "\n",
    "#Save the submission DataFrame to a CSV file\n",
    "submission.to_csv(\"submission_log2.csv\", index=False)"
   ]
  },
  {
   "cell_type": "markdown",
   "id": "441ce365",
   "metadata": {},
   "source": [
    "***When we put this into Kaggle, we get a score of .5 While this may not be as high as anticipated, we see above the the accuracy of the model is much higher than that of the AUC even within the best hyper parameters.***"
   ]
  },
  {
   "cell_type": "markdown",
   "id": "556c621e",
   "metadata": {},
   "source": [
    "## Random Forest Classification Model"
   ]
  },
  {
   "cell_type": "markdown",
   "id": "995c33e2",
   "metadata": {},
   "source": [
    "### Creating the Random Forest Classification and printing the Accuracy and AUC of the Model"
   ]
  },
  {
   "cell_type": "code",
   "execution_count": 88,
   "id": "af80fb8a",
   "metadata": {},
   "outputs": [
    {
     "name": "stdout",
     "output_type": "stream",
     "text": [
      "Fit Runtime: 147.61922216415405 seconds\n",
      "Prediction Runtime: 4.936388731002808 seconds\n",
      "Evaluation Runtime: 0.02080988883972168 seconds\n",
      "Random Forest Model:\n",
      "Accuracy: 0.9196136773815912\n",
      "AUC: 0.7069750901140923\n"
     ]
    }
   ],
   "source": [
    "import time\n",
    "from sklearn.ensemble import RandomForestClassifier\n",
    "from sklearn.metrics import accuracy_score, roc_auc_score\n",
    "\n",
    "# Fit Random Forest model\n",
    "start_time_fit = time.time()\n",
    "rf_model = RandomForestClassifier()\n",
    "rf_model.fit(X_train, y_train)\n",
    "end_time_fit = time.time()\n",
    "\n",
    "# Make predictions with Random Forest model\n",
    "start_time_pred = time.time()\n",
    "rf_preds = rf_model.predict(X_val)\n",
    "rf_probs = rf_model.predict_proba(X_val)[:, 1]\n",
    "end_time_pred = time.time()\n",
    "\n",
    "# Evaluate Random Forest model performance\n",
    "start_time_eval = time.time()\n",
    "rf_accuracy = accuracy_score(y_val, rf_preds)\n",
    "rf_auc = roc_auc_score(y_val, rf_probs)\n",
    "end_time_eval = time.time()\n",
    "\n",
    "# Print the runtimes\n",
    "print(\"Fit Runtime:\", end_time_fit - start_time_fit, \"seconds\")\n",
    "print(\"Prediction Runtime:\", end_time_pred - start_time_pred, \"seconds\")\n",
    "print(\"Evaluation Runtime:\", end_time_eval - start_time_eval, \"seconds\")\n",
    "\n",
    "# Compare model performance\n",
    "print(\"Random Forest Model:\")\n",
    "print(\"Accuracy:\", rf_accuracy)\n",
    "print(\"AUC:\", rf_auc)\n"
   ]
  },
  {
   "cell_type": "markdown",
   "id": "520d382c",
   "metadata": {},
   "source": [
    "***When we perform a raw Random Forest Model we see that we get an accuracy of 0.919711233598361 or about 92%. This is a very high accuracy meaning that this model does a great job at predicting the accuracy of the majority class. We have an AUC of0.7069800939416186 meaning that the Random Forest Model has a strong discrimative power to tell if a customer would be a safe borrower or not.*** "
   ]
  },
  {
   "cell_type": "markdown",
   "id": "86d527ed",
   "metadata": {},
   "source": [
    "###  Attempting for the Up and Down Sampling for the Random Forest Model"
   ]
  },
  {
   "cell_type": "code",
   "execution_count": 89,
   "id": "9986e0f7",
   "metadata": {},
   "outputs": [
    {
     "name": "stdout",
     "output_type": "stream",
     "text": [
      "Class Distribution (Before):\n",
      "0    226132\n",
      "1     19876\n",
      "Name: TARGET, dtype: int64\n",
      "Accuracy (Original): 0.6793164561078321\n",
      "Accuracy (Upsampled): 0.9196299367510528\n",
      "Accuracy (Downsampled): 0.6793164561078321\n",
      "Class Distribution Runtime: 0.013184785842895508 seconds\n",
      "Upsampling Runtime: 0.5757849216461182 seconds\n",
      "Downsampling Runtime: 0.07246971130371094 seconds\n",
      "Training Runtime: 213.34045934677124 seconds\n",
      "Prediction Runtime: 1.3933310508728027 seconds\n"
     ]
    }
   ],
   "source": [
    "import time\n",
    "from sklearn.ensemble import RandomForestClassifier\n",
    "from sklearn.metrics import accuracy_score\n",
    "from sklearn.utils import resample\n",
    "\n",
    "# Analyze class distribution in the training set\n",
    "start_time_dist = time.time()\n",
    "class_counts = y_train.value_counts()\n",
    "end_time_dist = time.time()\n",
    "\n",
    "print(\"Class Distribution (Before):\")\n",
    "print(class_counts)\n",
    "\n",
    "# Upsample the minority class\n",
    "start_time_upsample = time.time()\n",
    "df_majority = X_train[y_train == 0]\n",
    "df_minority = X_train[y_train == 1]\n",
    "\n",
    "df_minority_upsampled = resample(df_minority, replace=True, n_samples=len(df_majority), random_state=42)\n",
    "\n",
    "X_train_upsampled = pd.concat([df_majority, df_minority_upsampled])\n",
    "y_train_upsampled = pd.Series([0] * len(df_majority) + [1] * len(df_minority_upsampled))\n",
    "end_time_upsample = time.time()\n",
    "\n",
    "# Downsample the majority class\n",
    "start_time_downsample = time.time()\n",
    "df_majority_downsampled = resample(df_majority, replace=False, n_samples=len(df_minority), random_state=42)\n",
    "\n",
    "X_train_downsampled = pd.concat([df_majority_downsampled, df_minority])\n",
    "y_train_downsampled = pd.Series([0] * len(df_majority_downsampled) + [1] * len(df_minority))\n",
    "end_time_downsample = time.time()\n",
    "\n",
    "# Train and evaluate models on upsampled and downsampled data\n",
    "start_time_train = time.time()\n",
    "model = RandomForestClassifier()  # Initialize the Random Forest model\n",
    "\n",
    "# Train on upsampled data\n",
    "model.fit(X_train_upsampled, y_train_upsampled)\n",
    "y_pred_upsampled = model.predict(X_val)\n",
    "accuracy_upsampled = accuracy_score(y_val, y_pred_upsampled)\n",
    "\n",
    "# Train on downsampled data\n",
    "model.fit(X_train_downsampled, y_train_downsampled)\n",
    "y_pred_downsampled = model.predict(X_val)\n",
    "accuracy_downsampled = accuracy_score(y_val, y_pred_downsampled)\n",
    "end_time_train = time.time()\n",
    "\n",
    "# Compute predictions for original data\n",
    "start_time_pred = time.time()\n",
    "y_pred_original = model.predict(X_val)\n",
    "accuracy_original = accuracy_score(y_val, y_pred_original)\n",
    "end_time_pred = time.time()\n",
    "\n",
    "# Compare model performance\n",
    "print(\"Accuracy (Original):\", accuracy_original)\n",
    "print(\"Accuracy (Upsampled):\", accuracy_upsampled)\n",
    "print(\"Accuracy (Downsampled):\", accuracy_downsampled)\n",
    "\n",
    "# Print the runtimes\n",
    "print(\"Class Distribution Runtime:\", end_time_dist - start_time_dist, \"seconds\")\n",
    "print(\"Upsampling Runtime:\", end_time_upsample - start_time_upsample, \"seconds\")\n",
    "print(\"Downsampling Runtime:\", end_time_downsample - start_time_downsample, \"seconds\")\n",
    "print(\"Training Runtime:\", end_time_train - start_time_train, \"seconds\")\n",
    "print(\"Prediction Runtime:\", end_time_pred - start_time_pred, \"seconds\")\n"
   ]
  },
  {
   "cell_type": "markdown",
   "id": "ee84880a",
   "metadata": {},
   "source": [
    "***When we test the accuracy of the data on the Random Forest Model, we see that it has the highest accuracy when the data is upsampled. Upsampmling gives us an accuracy of 0.9194998617953596 or 91.95%. Extremly accurate. While the original and downsampled version of the dataset gives us a moderate accuracy of 0.6786823406988277 or 67.87%. Because of this, when setting our Hyper Parameters we will be using the upsampled dataset and for the model evaluation.***"
   ]
  },
  {
   "cell_type": "markdown",
   "id": "675ab4bf",
   "metadata": {},
   "source": [
    "### Hyper Parameters"
   ]
  },
  {
   "cell_type": "code",
   "execution_count": 91,
   "id": "08a5b62e",
   "metadata": {},
   "outputs": [
    {
     "name": "stdout",
     "output_type": "stream",
     "text": [
      "Best Hyperparameters: {'n_estimators': 100, 'min_samples_split': 2, 'min_samples_leaf': 1, 'max_depth': None}\n",
      "Best Score: 0.9900522703553676\n",
      "Accuracy: 0.9194185649480513\n",
      "Randomized Search Runtime: 652.6474483013153 seconds\n",
      "Training Runtime: 191.16876101493835 seconds\n",
      "Prediction Runtime: 2.427534341812134 seconds\n",
      "Evaluation Runtime: 0.008106470108032227 seconds\n"
     ]
    }
   ],
   "source": [
    "import time\n",
    "from sklearn.model_selection import RandomizedSearchCV\n",
    "from sklearn.ensemble import RandomForestClassifier\n",
    "from sklearn.metrics import accuracy_score\n",
    "\n",
    "# Define the hyperparameters and their search space\n",
    "param_grid = {\n",
    "    'n_estimators': [100, 200],\n",
    "    'max_depth': [None, 5],\n",
    "    'min_samples_split': [2, 5],\n",
    "    'min_samples_leaf': [1, 2]\n",
    "}\n",
    "\n",
    "# Initialize the model\n",
    "model = RandomForestClassifier(random_state=42)\n",
    "\n",
    "# Perform randomized search with cross-validation\n",
    "start_time_search = time.time()\n",
    "# CV 2 was set here rather than 5 because the CV 5 took too much time. Longer than 8 hours. n_iter = 5 \n",
    "# was also set to make the process go faster\n",
    "random_search = RandomizedSearchCV(model, param_distributions=param_grid, n_iter=5, cv=2, scoring='accuracy')\n",
    "# Because our UpSampling had a better accuracy, we are using that here rather than the original \n",
    "random_search.fit(X_train_upsampled, y_train_upsampled)\n",
    "end_time_search = time.time()\n",
    "\n",
    "# Get the best hyperparameter values and model performance\n",
    "best_params = random_search.best_params_\n",
    "best_score = random_search.best_score_\n",
    "\n",
    "# Train the model with the best hyperparameters\n",
    "start_time_train = time.time()\n",
    "best_model = RandomForestClassifier(**best_params, random_state=42)\n",
    "best_model.fit(X_train_upsampled, y_train_upsampled)\n",
    "end_time_train = time.time()\n",
    "\n",
    "# Make predictions using the best model\n",
    "start_time_pred = time.time()\n",
    "y_pred = best_model.predict(X_val)\n",
    "end_time_pred = time.time()\n",
    "\n",
    "# Evaluate the model performance\n",
    "start_time_eval = time.time()\n",
    "accuracy = accuracy_score(y_val, y_pred)\n",
    "end_time_eval = time.time()\n",
    "\n",
    "# Print the best hyperparameters and model performance\n",
    "print(\"Best Hyperparameters:\", best_params)\n",
    "print(\"Best Score:\", best_score)\n",
    "print(\"Accuracy:\", accuracy)\n",
    "\n",
    "# Print the runtimes\n",
    "print(\"Randomized Search Runtime:\", end_time_search - start_time_search, \"seconds\")\n",
    "print(\"Training Runtime:\", end_time_train - start_time_train, \"seconds\")\n",
    "print(\"Prediction Runtime:\", end_time_pred - start_time_pred, \"seconds\")\n",
    "print(\"Evaluation Runtime:\", end_time_eval - start_time_eval, \"seconds\")\n"
   ]
  },
  {
   "cell_type": "markdown",
   "id": "767dcea1",
   "metadata": {},
   "source": [
    "***After using hyper parameters, we see a couple of interesting observations. The first of which is that this process takes a long time to complete. Taking about 14 minutes to compute.***\n",
    "\n",
    "***Within the best hyperparameters for modeling we see that***\n",
    "\n",
    "* ***Because n_estimators is 100 this means that at the best model, there will be 100 decision trees.***\n",
    "* ***min_samples_split tells us the minimum number of samples required to split into a node. The best is 2. Meaning a node is only split if it contains at least 2 samples***\n",
    "* ***min_samples_leaf is the minimum number of samples required to be at a leaf node. The best value is 1, indicating that a leaf node can have as few as 1 sample.***\n",
    "* ***max_depth is the maximum depth of the tree. The best value is None, which means there is no maximum depth limit, and the tree will grow until all leaves are pure or until all leaves contain a minimum number of samples.***\n",
    "\n",
    "\n",
    "***With the best score being 0.9900522703553676 meaning that the best score that can be achieved within the model is about .99. A near perfect score. Meaning that the best Random Forest model acheived an average accuracy of 99% during cross validation within the search. This means that the model performs extremely well.***\n",
    "\n",
    "***With best accuracy of  0.9194185649480513 meaning that in the best case scenario this model will be 91.94% accurate when predicting for the target variable when against unknown datasets.***"
   ]
  },
  {
   "cell_type": "markdown",
   "id": "8aad144b",
   "metadata": {},
   "source": [
    "### Evaluating the Best Model Performance of the Random Classification"
   ]
  },
  {
   "cell_type": "code",
   "execution_count": 92,
   "id": "e0d02ddd",
   "metadata": {},
   "outputs": [
    {
     "name": "stdout",
     "output_type": "stream",
     "text": [
      "Train Set Performance:\n",
      "AUC: 1.0\n",
      "              precision    recall  f1-score   support\n",
      "\n",
      "           0       1.00      1.00      1.00    226132\n",
      "           1       1.00      1.00      1.00     19876\n",
      "\n",
      "    accuracy                           1.00    246008\n",
      "   macro avg       1.00      1.00      1.00    246008\n",
      "weighted avg       1.00      1.00      1.00    246008\n",
      "\n",
      "Test Set Performance:\n",
      "AUC: 0.507036696323935\n",
      "              precision    recall  f1-score   support\n",
      "\n",
      "           0       0.92      1.00      0.96     56554\n",
      "           1       0.48      0.02      0.03      4949\n",
      "\n",
      "    accuracy                           0.92     61503\n",
      "   macro avg       0.70      0.51      0.49     61503\n",
      "weighted avg       0.88      0.92      0.88     61503\n",
      "\n",
      "Training Runtime: 9.18987774848938 seconds\n",
      "Testing Runtime: 2.0379745960235596 seconds\n"
     ]
    }
   ],
   "source": [
    "import time\n",
    "from sklearn.metrics import classification_report, roc_auc_score\n",
    "\n",
    "# Train set performance\n",
    "start_time_train = time.time()\n",
    "train_pred = best_model.predict(X_train)\n",
    "train_auc = roc_auc_score(y_train, train_pred)\n",
    "end_time_train = time.time()\n",
    "\n",
    "print(\"Train Set Performance:\")\n",
    "print(\"AUC:\", train_auc)\n",
    "print(classification_report(y_train, train_pred))\n",
    "\n",
    "# Test set performance\n",
    "start_time_test = time.time()\n",
    "test_pred = best_model.predict(X_val)\n",
    "test_auc = roc_auc_score(y_val, test_pred)\n",
    "end_time_test = time.time()\n",
    "\n",
    "print(\"Test Set Performance:\")\n",
    "print(\"AUC:\", test_auc)\n",
    "print(classification_report(y_val, test_pred))\n",
    "\n",
    "# Print the runtimes\n",
    "print(\"Training Runtime:\", end_time_train - start_time_train, \"seconds\")\n",
    "print(\"Testing Runtime:\", end_time_test - start_time_test, \"seconds\")\n"
   ]
  },
  {
   "cell_type": "markdown",
   "id": "df5d01be",
   "metadata": {},
   "source": [
    "***Under the best parameters set for the Random Forest Modeling***\n",
    "\n",
    "***The Train Set***\n",
    "* ***Has an AUC of 1.0. Meaning that the models predictive powers seem to be a high discriminative power of the model. Indication that this Random Forest Model is a perfect classifier.***\n",
    "* ***The precision, recall, and F1 score for the majority class of 0 (Those who do not default) are all 1.0. Very high meaning that the model performs well in identifying the majority class, perfection.***\n",
    "* ***The precision, recall, and F1 score for the minority class of 1 (Those who do default) are at 1.0. Meaning that the model is a perfect classifier of those that are safe to lend to.***\n",
    "* ***This train set gives us a 100% accuracy rating. Meaning that this model at it's best can predict 100% of the outcomes for the borrower.***\n",
    "\n",
    "***The Test Set***\n",
    "* ***AUC of AUC: 0.507036696323935. This shows us that within the test set, the model does have a discrimatory power, but it is relevatively low.***\n",
    "* ***The precision, recall, and F1 score are .92, 1.00, and .96 when the class of 0 (Those who are save borrowers). This means that the model predicts the class of 0 quite well.***\n",
    "* ***The precision, recall, and F1 score are .48, 0.02, and 0.03 when the class of 1 (Those who are NOT save borrowers). This means that the model predicts the class of 1 poorly.***\n",
    "* ***We see that because of the macro average and the weighted average they are unbalanced between the classes. This may be why the model is better at predicitng for class 0 than 1.***\n",
    "* ***The accuracy is 92% which again shows us that this model is accurate most often when predicting for the majority class of 0 , but not for the class of 1.***\n",
    "\n",
    "\n",
    "***Because of this fantastic AUC and accuracy score within the Training set, we see that the Random Forest model is a great one that we can use to predict and classify if a person is a safe borrower and should be given the loan, despite some of the lower classifications provided within the test set of this model.***\n"
   ]
  },
  {
   "cell_type": "markdown",
   "id": "b72030a9",
   "metadata": {},
   "source": [
    "### Features of the Best Random Forest Classification Model"
   ]
  },
  {
   "cell_type": "code",
   "execution_count": 93,
   "id": "e1da418b",
   "metadata": {},
   "outputs": [
    {
     "name": "stdout",
     "output_type": "stream",
     "text": [
      "                   Feature  Importance\n",
      "27            EXT_SOURCE_2  0.09877625\n",
      "28            EXT_SOURCE_3  0.09503074\n",
      "7               DAYS_BIRTH  0.05982140\n",
      "10         DAYS_ID_PUBLISH  0.05542707\n",
      "4              AMT_ANNUITY  0.05442446\n",
      "9        DAYS_REGISTRATION  0.05414072\n",
      "8            DAYS_EMPLOYED  0.05385393\n",
      "33  DAYS_LAST_PHONE_CHANGE  0.05312109\n",
      "0               SK_ID_CURR  0.05280328\n",
      "3               AMT_CREDIT  0.04984712\n",
      "Runtime: 0.11169624328613281 seconds\n"
     ]
    }
   ],
   "source": [
    "import time\n",
    "# Feature importance\n",
    "start_time = time.time()\n",
    "feature_importances = best_model.feature_importances_\n",
    "\n",
    "# Create a DataFrame to store the feature importances\n",
    "importance_df = pd.DataFrame({'Feature': X_train.columns, 'Importance': feature_importances})\n",
    "\n",
    "# Sort the DataFrame by importance in descending order\n",
    "importance_df = importance_df.sort_values('Importance', ascending=False)\n",
    "\n",
    "# Display the top 10 most important features\n",
    "print(importance_df.head(10))\n",
    "end_time = time.time()\n",
    "\n",
    "# Print the runtime\n",
    "print(\"Runtime:\", end_time - start_time, \"seconds\")\n"
   ]
  },
  {
   "cell_type": "markdown",
   "id": "f54f8572",
   "metadata": {},
   "source": [
    "***From this output, we learn that the top 10 most important features when seeing if someone is safe to lend money to are based on***\n",
    "\n",
    "\n",
    "* ***Normalized score from external data source***\n",
    "* ***Client's age in days at the time of application***\n",
    "* ***How many days before the application did client change the identity document***\n",
    "* ***Loan annuity***\n",
    "* ***How many days before the application did client change their registration***\n",
    "* ***How many days before the application the person started current employment***\n",
    "* ***Number of days since the client last changed their phone number***\n",
    "* ***ID of loan in our sample***\n",
    "* ***Credit amount of the loan***"
   ]
  },
  {
   "cell_type": "markdown",
   "id": "51e114f5",
   "metadata": {},
   "source": [
    "### Prediction on the Test Set"
   ]
  },
  {
   "cell_type": "code",
   "execution_count": 94,
   "id": "91099bc4",
   "metadata": {},
   "outputs": [],
   "source": [
    "#Make predictions on the test set\n",
    "test_predictions = best_model.predict(test_data)"
   ]
  },
  {
   "cell_type": "code",
   "execution_count": 95,
   "id": "bb3724c9",
   "metadata": {},
   "outputs": [],
   "source": [
    "#Create a submission DataFrame\n",
    "submission = pd.DataFrame({\n",
    "    \"SK_ID_CURR\": test_data[\"SK_ID_CURR\"], \n",
    "    \"TARGET\": test_predictions\n",
    "})\n",
    "\n",
    "#Remove duplicate SK_ID_CURR values\n",
    "submission = submission.drop_duplicates(subset=\"SK_ID_CURR\", keep=\"first\")\n",
    "\n",
    "#Save the submission DataFrame to a CSV file\n",
    "submission.to_csv(\"submission_randomforest3.csv\", index=False)"
   ]
  },
  {
   "cell_type": "markdown",
   "id": "a7592e92",
   "metadata": {},
   "source": [
    "***After putting this model into Kaggle, we see that we get a Kaggle score of .50195. This score may be different from our otherwise stronger AUC and Accuracy scores shown by the model previously because of the different ways that Kaggle examines the scores vs how the AUC parameters are evaluated amongst the data.***"
   ]
  },
  {
   "cell_type": "markdown",
   "id": "8c902327",
   "metadata": {},
   "source": [
    "## Ensemble Model"
   ]
  },
  {
   "cell_type": "markdown",
   "id": "7e53bcbc",
   "metadata": {},
   "source": [
    "### Creating the Ensembel Model with the RandomForest, Logistic Regression, and Gradient Boosting Models"
   ]
  },
  {
   "cell_type": "code",
   "execution_count": 96,
   "id": "79417dbc",
   "metadata": {},
   "outputs": [
    {
     "name": "stdout",
     "output_type": "stream",
     "text": [
      "Individual Random Forrest Classifier Accuracy: 0.9193278267373419\n",
      "Individual Logistic Regression Accuracy: 0.9192018145751357\n",
      "Individual Gradient Boosting Classifier Accuracy: 0.9192790478358427\n",
      "Ensemble Model Accuracy: 0.9196299367510528\n",
      "Ensemble Model Cross-Validation Scores: [0.9192919  0.91925125 0.91925125 0.91931058 0.91918863]\n",
      "Cross-Validation Runtime: 275.05734634399414 seconds\n",
      "Ensemble Cross-Validation Runtime: 1118.3136358261108 seconds\n",
      "Fit Runtime: 297.7979905605316 seconds\n",
      "Prediction Runtime: 2.6046464443206787 seconds\n",
      "Accuracy Calculation Runtime: 0.007262468338012695 seconds\n"
     ]
    }
   ],
   "source": [
    "import time\n",
    "from sklearn.ensemble import VotingClassifier\n",
    "from sklearn.model_selection import cross_val_score\n",
    "\n",
    "# Initialize individual models\n",
    "model1 = RandomForestClassifier()\n",
    "model2 = LogisticRegression()\n",
    "model3 = GradientBoostingClassifier()\n",
    "\n",
    "# Evaluate individual models using cross-validation\n",
    "start_time_cv = time.time()\n",
    "model1_scores = cross_val_score(model1, X_train, y_train, cv=2, scoring='accuracy')\n",
    "model2_scores = cross_val_score(model2, X_train, y_train, cv=2, scoring='accuracy')\n",
    "model3_scores = cross_val_score(model3, X_train, y_train, cv=2, scoring='accuracy')\n",
    "end_time_cv = time.time()\n",
    "\n",
    "# Create the ensemble model\n",
    "ensemble_model = VotingClassifier(estimators=[('model1', model1), ('model2', model2), ('model3', model3)])\n",
    "\n",
    "# Evaluate ensemble model using cross-validation\n",
    "start_time_ensemble_cv = time.time()\n",
    "ensemble_scores = cross_val_score(ensemble_model, X_train, y_train, cv=5, scoring='accuracy')\n",
    "end_time_ensemble_cv = time.time()\n",
    "\n",
    "# Fit the ensemble model on the entire training set\n",
    "start_time_fit = time.time()\n",
    "ensemble_model.fit(X_train, y_train)\n",
    "end_time_fit = time.time()\n",
    "\n",
    "# Make predictions with the ensemble model\n",
    "start_time_preds = time.time()\n",
    "ensemble_preds = ensemble_model.predict(X_val)\n",
    "end_time_preds = time.time()\n",
    "\n",
    "# Calculate ensemble model accuracy\n",
    "start_time_accuracy = time.time()\n",
    "# Calculate accuracy for each individual model\n",
    "model1_accuracy = np.mean(model1_scores)\n",
    "model2_accuracy = np.mean(model2_scores)\n",
    "model3_accuracy = np.mean(model3_scores)\n",
    "ensemble_accuracy = accuracy_score(y_val, ensemble_preds)\n",
    "end_time_accuracy = time.time()\n",
    "\n",
    "# Print individual models and ensemble model performance\n",
    "print(\"Individual Random Forrest Classifier Accuracy:\", model1_accuracy)\n",
    "print(\"Individual Logistic Regression Accuracy:\", model2_accuracy)\n",
    "print(\"Individual Gradient Boosting Classifier Accuracy:\", model3_accuracy)\n",
    "print(\"Ensemble Model Accuracy:\", ensemble_accuracy)\n",
    "print(\"Ensemble Model Cross-Validation Scores:\", ensemble_scores)\n",
    "\n",
    "# Print the runtimes\n",
    "print(\"Cross-Validation Runtime:\", end_time_cv - start_time_cv, \"seconds\")\n",
    "print(\"Ensemble Cross-Validation Runtime:\", end_time_ensemble_cv - start_time_ensemble_cv, \"seconds\")\n",
    "print(\"Fit Runtime:\", end_time_fit - start_time_fit, \"seconds\")\n",
    "print(\"Prediction Runtime:\", end_time_preds - start_time_preds, \"seconds\")\n",
    "print(\"Accuracy Calculation Runtime:\", end_time_accuracy - start_time_accuracy, \"seconds\")\n"
   ]
  },
  {
   "cell_type": "markdown",
   "id": "a6012b5c",
   "metadata": {},
   "source": [
    "***When we perform the ensemble model of all of the logistic Regression, Random Forest, and Gradient Boosting Models we can see that the Ensemble Model has an accuracy of 0.9196299367510528 or 91.96% accurate when predicting for the outcome of whether the customer will be a safe borrower or not.***\n",
    "\n",
    "***This is an impressively high accuracy for the begining of the model, so let us see if we can take it one step further by sampling up or down with the dataset.***"
   ]
  },
  {
   "cell_type": "markdown",
   "id": "0e0abca8",
   "metadata": {},
   "source": [
    "### Up and Down Sampling"
   ]
  },
  {
   "cell_type": "code",
   "execution_count": 97,
   "id": "03189c3d",
   "metadata": {
    "scrolled": true
   },
   "outputs": [
    {
     "name": "stdout",
     "output_type": "stream",
     "text": [
      "Class Distribution (Before):\n",
      "0    226132\n",
      "1     19876\n",
      "Name: TARGET, dtype: int64\n",
      "Accuracy (Original): 0.6838203014487099\n",
      "Accuracy (Upsampled): 0.7884493439344422\n",
      "Accuracy (Downsampled): 0.6838203014487099\n",
      "Upsampled Training Runtime: 454.61707830429077 seconds\n",
      "Upsampled Prediction Runtime: 2.442786931991577 seconds\n",
      "Upsampled Accuracy Calculation Runtime: 0.017435789108276367 seconds\n",
      "Downsampled Training Runtime: 47.265679121017456 seconds\n",
      "Downsampled Prediction Runtime: 2.351642370223999 seconds\n",
      "Downsampled Accuracy Calculation Runtime: 0.004544496536254883 seconds\n",
      "Original Prediction Runtime: 1.99517822265625 seconds\n",
      "Original Accuracy Calculation Runtime: 0.008304834365844727 seconds\n"
     ]
    }
   ],
   "source": [
    "import time\n",
    "from sklearn.metrics import accuracy_score\n",
    "from sklearn.utils import resample\n",
    "\n",
    "# Analyze class distribution in the training set\n",
    "class_counts = y_train.value_counts()\n",
    "print(\"Class Distribution (Before):\")\n",
    "print(class_counts)\n",
    "\n",
    "# Upsample the minority class\n",
    "df_majority = X_train[y_train == 0]\n",
    "df_minority = X_train[y_train == 1]\n",
    "\n",
    "df_minority_upsampled = resample(df_minority, replace=True, n_samples=len(df_majority), random_state=42)\n",
    "\n",
    "X_train_upsampled = pd.concat([df_majority, df_minority_upsampled])\n",
    "y_train_upsampled = pd.Series([0] * len(df_majority) + [1] * len(df_minority_upsampled))\n",
    "\n",
    "# Downsample the majority class\n",
    "df_majority_downsampled = resample(df_majority, replace=False, n_samples=len(df_minority), random_state=42)\n",
    "\n",
    "X_train_downsampled = pd.concat([df_majority_downsampled, df_minority])\n",
    "y_train_downsampled = pd.Series([0] * len(df_majority_downsampled) + [1] * len(df_minority))\n",
    "\n",
    "# Train and evaluate models on upsampled and downsampled data\n",
    "model = ensemble_model  # Initialize the Ensemble model created\n",
    "\n",
    "# Train on upsampled data\n",
    "start_time_upsampled = time.time()\n",
    "model.fit(X_train_upsampled, y_train_upsampled)\n",
    "end_time_upsampled = time.time()\n",
    "\n",
    "# Make predictions on upsampled data\n",
    "start_time_pred_upsampled = time.time()\n",
    "y_pred_upsampled = model.predict(X_val)\n",
    "end_time_pred_upsampled = time.time()\n",
    "\n",
    "# Calculate accuracy on upsampled data\n",
    "start_time_accuracy_upsampled = time.time()\n",
    "accuracy_upsampled = accuracy_score(y_val, y_pred_upsampled)\n",
    "end_time_accuracy_upsampled = time.time()\n",
    "\n",
    "# Train on downsampled data\n",
    "start_time_downsampled = time.time()\n",
    "model.fit(X_train_downsampled, y_train_downsampled)\n",
    "end_time_downsampled = time.time()\n",
    "\n",
    "# Make predictions on downsampled data\n",
    "start_time_pred_downsampled = time.time()\n",
    "y_pred_downsampled = model.predict(X_val)\n",
    "end_time_pred_downsampled = time.time()\n",
    "\n",
    "# Calculate accuracy on downsampled data\n",
    "start_time_accuracy_downsampled = time.time()\n",
    "accuracy_downsampled = accuracy_score(y_val, y_pred_downsampled)\n",
    "end_time_accuracy_downsampled = time.time()\n",
    "\n",
    "# Compute predictions for original data\n",
    "start_time_pred_original = time.time()\n",
    "y_pred_original = model.predict(X_val)\n",
    "end_time_pred_original = time.time()\n",
    "\n",
    "# Calculate accuracy on original data\n",
    "start_time_accuracy_original = time.time()\n",
    "accuracy_original = accuracy_score(y_val, y_pred_original)\n",
    "end_time_accuracy_original = time.time()\n",
    "\n",
    "# Print model performance and runtimes\n",
    "print(\"Accuracy (Original):\", accuracy_original)\n",
    "print(\"Accuracy (Upsampled):\", accuracy_upsampled)\n",
    "print(\"Accuracy (Downsampled):\", accuracy_downsampled)\n",
    "\n",
    "print(\"Upsampled Training Runtime:\", end_time_upsampled - start_time_upsampled, \"seconds\")\n",
    "print(\"Upsampled Prediction Runtime:\", end_time_pred_upsampled - start_time_pred_upsampled, \"seconds\")\n",
    "print(\"Upsampled Accuracy Calculation Runtime:\", end_time_accuracy_upsampled - start_time_accuracy_upsampled, \"seconds\")\n",
    "\n",
    "print(\"Downsampled Training Runtime:\", end_time_downsampled - start_time_downsampled, \"seconds\")\n",
    "print(\"Downsampled Prediction Runtime:\", end_time_pred_downsampled - start_time_pred_downsampled, \"seconds\")\n",
    "print(\"Downsampled Accuracy Calculation Runtime:\", end_time_accuracy_downsampled - start_time_accuracy_downsampled, \"seconds\")\n",
    "\n",
    "print(\"Original Prediction Runtime:\", end_time_pred_original - start_time_pred_original, \"seconds\")\n",
    "print(\"Original Accuracy Calculation Runtime:\", end_time_accuracy_original - start_time_accuracy_original, \"seconds\")\n"
   ]
  },
  {
   "cell_type": "markdown",
   "id": "1b10ae4b",
   "metadata": {},
   "source": [
    "***Within our Ensemble Model we see that the method that has the highest accuracy is when we use the Upsample dataset with an accuracy of 0.7884493439344422 or 78.84%. The original and downsampled dataset have an accuracy of 0.6838203014487099 or 68.38%. The Upsample data will now be used within our hyper parameters and evaluation of the model and features.***"
   ]
  },
  {
   "cell_type": "markdown",
   "id": "69996a6d",
   "metadata": {},
   "source": [
    "### Hyper Parameters"
   ]
  },
  {
   "cell_type": "code",
   "execution_count": 132,
   "id": "a1235d7f",
   "metadata": {},
   "outputs": [
    {
     "name": "stderr",
     "output_type": "stream",
     "text": [
      "100%|██████████████████████████████████| 14/14 [07:39<00:00, 32.79s/it], ETA: 0s\n",
      "100%|█████████████████████████| 452264/452264 [54:00<00:00, 139.54it/s], ETA: 0s\n"
     ]
    },
    {
     "name": "stdout",
     "output_type": "stream",
     "text": [
      "Best Hyperparameters: {'model1__max_depth': None, 'model1__min_samples_leaf': 1, 'model1__min_samples_split': 2, 'model1__n_estimators': 100, 'model2__C': 1.0, 'model2__penalty': 'l2', 'model2__solver': 'liblinear'}\n",
      "Best Score: 0.7919622167583535\n",
      "Accuracy: 0.890493146675772\n",
      "Grid Search Runtime: 459.12626457214355 seconds\n",
      "Fit Runtime: 4.412505865097046 seconds\n",
      "Prediction Runtime: 4.412505865097046 seconds\n",
      "Accuracy Calculation Runtime: 0.021256446838378906 seconds\n"
     ]
    }
   ],
   "source": [
    "import time\n",
    "from tqdm import tqdm\n",
    "from sklearn.model_selection import GridSearchCV\n",
    "from sklearn.ensemble import RandomForestClassifier, VotingClassifier\n",
    "from sklearn.linear_model import LogisticRegression\n",
    "from sklearn.ensemble import GradientBoostingClassifier\n",
    "from sklearn.metrics import accuracy_score\n",
    "from sklearn.model_selection import train_test_split\n",
    "\n",
    "# Define the hyperparameters and their search space\n",
    "param_grid = {\n",
    "    'model1__n_estimators': [50, 100],\n",
    "    'model1__max_depth': [None],\n",
    "    'model1__min_samples_split': [2],\n",
    "    'model1__min_samples_leaf': [1],\n",
    "    'model2__C': [1.0],\n",
    "    'model2__penalty': ['l2'],\n",
    "    'model2__solver': ['liblinear']\n",
    "}\n",
    "\n",
    "# Reduce the number of cross-validation folds\n",
    "cv = 2\n",
    "\n",
    "# Split the training data into a smaller subset\n",
    "X_train_subset, _, y_train_subset, _ = train_test_split(X_train_upsampled, y_train_upsampled, train_size=0.5, random_state=42)\n",
    "\n",
    "# Initialize base estimators\n",
    "model1 = RandomForestClassifier(n_estimators=50, random_state=42)  # Reduced number of estimators\n",
    "model2 = LogisticRegression(random_state=42, max_iter=1000)  # Increased max_iter for faster convergence\n",
    "model3 = GradientBoostingClassifier(random_state=42)\n",
    "\n",
    "# Initialize ensemble model\n",
    "ensemble_model = VotingClassifier(estimators=[('model1', model1),\n",
    "                                              ('model2', model2),\n",
    "                                              ('model3', model3)])\n",
    "\n",
    "# Perform grid search with cross-validation\n",
    "start_time_search = time.time()\n",
    "grid_search = GridSearchCV(ensemble_model, param_grid, cv=cv, scoring='accuracy', n_jobs=-1)\n",
    "\n",
    "# Wrap the grid search with tqdm and display progress and ETA\n",
    "with tqdm(total=cv * len(grid_search.param_grid), ncols=80,\n",
    "          bar_format='{l_bar}{bar}| {n_fmt}/{total_fmt} [{elapsed}<{remaining}, {rate_fmt}{postfix}], ETA: {remaining_s:.0f}s') as pbar:\n",
    "    grid_search.fit(X_train_subset, y_train_subset)\n",
    "    pbar.update(cv * len(grid_search.param_grid))  # Manually update progress bar to completion\n",
    "\n",
    "end_time_search = time.time()\n",
    "\n",
    "# Get the best hyperparameter values and model performance\n",
    "best_params = grid_search.best_params_\n",
    "best_score = grid_search.best_score_\n",
    "\n",
    "# Train the model with the best hyperparameters\n",
    "best_rf_params = {k.replace('model1__', ''): v for k, v in best_params.items() if k.startswith('model1__')}\n",
    "best_lr_params = {k.replace('model2__', ''): v for k, v in best_params.items() if k.startswith('model2__')}\n",
    "best_model = VotingClassifier(estimators=[('model1', RandomForestClassifier(**best_rf_params, random_state=42)),\n",
    "                                          ('model2', LogisticRegression(**best_lr_params, random_state=42, max_iter=1000)),\n",
    "                                          ('model3', GradientBoostingClassifier(**best_rf_params, random_state=42))])\n",
    "\n",
    "# Wrap the fitting process with tqdm and display progress and ETA\n",
    "with tqdm(total=len(X_train_upsampled), ncols=80,\n",
    "          bar_format='{l_bar}{bar}| {n_fmt}/{total_fmt} [{elapsed}<{remaining}, {rate_fmt}{postfix}], ETA: {remaining_s:.0f}s') as pbar:\n",
    "    best_model.fit(X_train_upsampled, y_train_upsampled)\n",
    "    pbar.update(len(X_train_upsampled))  # Manually update progress bar to completion\n",
    "\n",
    "# Make predictions using the best model\n",
    "start_time_pred = time.time()\n",
    "y_pred = best_model.predict(X_val)\n",
    "end_time_pred = time.time()\n",
    "\n",
    "# Evaluate the model performance\n",
    "start_time_accuracy = time.time()\n",
    "accuracy = accuracy_score(y_val, y_pred)\n",
    "end_time_accuracy = time.time()\n",
    "\n",
    "# Print the best hyperparameters and model performance\n",
    "print(\"Best Hyperparameters:\", best_params)\n",
    "print(\"Best Score:\", best_score)\n",
    "print(\"Accuracy:\", accuracy)\n",
    "\n",
    "# Print the runtimes\n",
    "print(\"Grid Search Runtime:\", end_time_search - start_time_search, \"seconds\")\n",
    "print(\"Fit Runtime:\", end_time_pred - start_time_pred, \"seconds\")\n",
    "print(\"Prediction Runtime:\", end_time_pred - start_time_pred, \"seconds\")\n",
    "print(\"Accuracy Calculation Runtime:\", end_time_accuracy - start_time_accuracy, \"seconds\")\n"
   ]
  },
  {
   "cell_type": "markdown",
   "id": "3c27ede1",
   "metadata": {},
   "source": [
    "***After using hyper parameters, we see a couple of interesting observations. The first of which is that this process takes a long time to complete. Taking about 10 minutes to compute.***\n",
    "\n",
    "***Within the best hyperparameters for modeling we see that***\n",
    "\n",
    "\n",
    "* **model1__max_depth: In our scenario, it is set to None, meaning that there is no maximum depth limit.**\n",
    "\n",
    "* **model1__min_samples_leaf: Here, it is set to 1, meaning each leaf node should have at least one sample.**\n",
    "\n",
    "* **model1__min_samples_split: It is set to 2, indicating that a node must have at least 2 samples to be split.  It may have more, but it must be a minimum of 2.**\n",
    "\n",
    "* **model1__n_estimators: The best value found during the grid search is 100. This means that it takes about 100 decision trees to come up with the best parameter of the model.** \n",
    "\n",
    "* **model2__C: This is used for the combination of the Logisitic Regtression within our model. The best value is 1.**\n",
    "\n",
    "* **model2__penalty:  The best choice is l2, which refers to ridge regularization.This ridge regularization may have also been thrown off because of the parameters set to reduce computation time and capacity.**\n",
    "\n",
    "* **model2__solver: The best choice is liblinear, which is suitable for small datasets. This means that this model is going to have the best results when performed on small or medium datasets, rather than a large one.**\n",
    "\n",
    "\n",
    "\n",
    "***With the best score being 0.7919622167583535 meaning that the best score that can be achieved within the ensemble model is about .79. Meaning that the best Ensemble model acheived an average accuracy during cross validation within the search. This means that the model performs extremely well across the different data types.***\n",
    "\n",
    "***With best accuracy of  0.890493146675772 meaning that in the best case scenario this model will be having the proportion of correct classifications with an unkown dataset of about .89 correct classifications. This means that at the best this model will still classify about .89 of the dataset correctly.***"
   ]
  },
  {
   "cell_type": "markdown",
   "id": "b67ca8df",
   "metadata": {},
   "source": [
    "### Evaluating the Best of the Ensemble Model"
   ]
  },
  {
   "cell_type": "code",
   "execution_count": 133,
   "id": "6f8426ac",
   "metadata": {},
   "outputs": [
    {
     "name": "stdout",
     "output_type": "stream",
     "text": [
      "Train Set Performance:\n",
      "AUC: 1.0\n",
      "              precision    recall  f1-score   support\n",
      "\n",
      "           0       1.00      1.00      1.00    226132\n",
      "           1       1.00      1.00      1.00     19876\n",
      "\n",
      "    accuracy                           1.00    246008\n",
      "   macro avg       1.00      1.00      1.00    246008\n",
      "weighted avg       1.00      1.00      1.00    246008\n",
      "\n",
      "Train Set Performance Runtime: 14.746994495391846 seconds\n",
      "Test Set Performance:\n",
      "AUC: 0.5319638928664842\n",
      "              precision    recall  f1-score   support\n",
      "\n",
      "           0       0.92      0.96      0.94     56554\n",
      "           1       0.18      0.10      0.13      4949\n",
      "\n",
      "    accuracy                           0.89     61503\n",
      "   macro avg       0.55      0.53      0.54     61503\n",
      "weighted avg       0.86      0.89      0.88     61503\n",
      "\n",
      "Test Set Performance Runtime: 3.51649808883667 seconds\n"
     ]
    }
   ],
   "source": [
    "import time\n",
    "from sklearn.metrics import classification_report, roc_auc_score\n",
    "\n",
    "# Train set performance\n",
    "start_time_train = time.time()\n",
    "train_pred = best_model.predict(X_train)\n",
    "train_auc = roc_auc_score(y_train, train_pred)\n",
    "end_time_train = time.time()\n",
    "\n",
    "# Print train set performance and runtime\n",
    "print(\"Train Set Performance:\")\n",
    "print(\"AUC:\", train_auc)\n",
    "print(classification_report(y_train, train_pred))\n",
    "print(\"Train Set Performance Runtime:\", end_time_train - start_time_train, \"seconds\")\n",
    "\n",
    "# Test set performance\n",
    "start_time_test = time.time()\n",
    "test_pred = best_model.predict(X_val)\n",
    "test_auc = roc_auc_score(y_val, test_pred)\n",
    "end_time_test = time.time()\n",
    "\n",
    "# Print test set performance and runtime\n",
    "print(\"Test Set Performance:\")\n",
    "print(\"AUC:\", test_auc)\n",
    "print(classification_report(y_val, test_pred))\n",
    "print(\"Test Set Performance Runtime:\", end_time_test - start_time_test, \"seconds\")\n"
   ]
  },
  {
   "cell_type": "markdown",
   "id": "e904695e",
   "metadata": {},
   "source": [
    "***Under the best parameters set for the Ensemble Modeling***\n",
    "\n",
    "***The Train Set***\n",
    "* ***Has an AUC of 1.0. Meaning that the models predictive powers seem to be a high discriminative power of the model. Indication that this Ensemble Model is a perfect classifier.***\n",
    "* ***The precision, recall, and F1 score for the majority class of 0 (Those who do not default) are all 1.0. Very high meaning that the model performs well in identifying the majority class, perfection.***\n",
    "* ***The precision, recall, and F1 score for the minority class of 1 (Those who do default) are at 1.0. Meaning that the model is a perfect classifier of those that are safe to lend to.***\n",
    "* ***This train set gives us a 100% accuracy rating. Meaning that this model at it's best can predict 100% of the outcomes for the borrower in the training set.***\n",
    "\n",
    "***The Test Set***\n",
    "* ***AUC of Test: 0.5319638928664842. This shows us that within the test set, the model does have a discrimatory power, but it is relevatively low.***\n",
    "* ***The precision, recall, and F1 score are  0.92, 0.96, and 0.94 when the class of 0 (Those who are save borrowers). This means that the model predicts the class of 0 quite well.***\n",
    "* ***The precision, recall, and F1 score are  0.18, 0.10, and 0.13  when the class of 1 (Those who are NOT save borrowers). This means that the model predicts the class of 1 poorly. This is in advantage of our model because we are testing to see which of the borrowers would classify as 0 and are good borrowers to lend to, not wanting to see if they are not worth lending to.***\n",
    "* ***We see that because of the macro average and the weighted average they are unbalanced between the classes. This may be why the model is better at predicitng for class 0 than 1.***\n",
    "* ***The accuracy is 0.89 or 89% which again shows us that this model is accurate most often when predicting for the majority class of 0 , but not for the class of 1.***\n",
    "\n",
    "\n",
    "***Because of this fantastic AUC and accuracy score within the Training and test set, we see that the Ensemble model is a great one that we can use to predict and classify if a person is a safe borrower and should be given the loan, despite some of the lower classifications provided within the test set of this model. We especially see that this model does best at identifying those that are safe borrowers (majority class of 0) rather than predicting those that are not safe borrowers (class of 1). This is to our advantage as we are more interested in knowing who is safe to borrow to rather than who is not.***\n"
   ]
  },
  {
   "cell_type": "markdown",
   "id": "446667e1",
   "metadata": {},
   "source": [
    "### Features of the Best Ensemble Model"
   ]
  },
  {
   "cell_type": "code",
   "execution_count": 137,
   "id": "6a44fdb8",
   "metadata": {},
   "outputs": [
    {
     "name": "stdout",
     "output_type": "stream",
     "text": [
      "                       Feature     model1      model2     model3  \\\n",
      "27                EXT_SOURCE_2 0.09877625 -0.00000771 0.11965889   \n",
      "28                EXT_SOURCE_3 0.09503074 -0.00000725 0.12221178   \n",
      "7                   DAYS_BIRTH 0.05982140  0.00000206 0.06640491   \n",
      "10             DAYS_ID_PUBLISH 0.05542707  0.00003227 0.06239986   \n",
      "9            DAYS_REGISTRATION 0.05414072  0.00001582 0.06051397   \n",
      "0                   SK_ID_CURR 0.05280328  0.00000103 0.06084362   \n",
      "8                DAYS_EMPLOYED 0.05385393 -0.00000093 0.05723017   \n",
      "4                  AMT_ANNUITY 0.05442446  0.00001633 0.05342831   \n",
      "33      DAYS_LAST_PHONE_CHANGE 0.05312109  0.00018206 0.05381501   \n",
      "6   REGION_POPULATION_RELATIVE 0.04318285 -0.00000008 0.04957898   \n",
      "\n",
      "    Average_Importance  \n",
      "27          0.07280914  \n",
      "28          0.07241176  \n",
      "7           0.04207612  \n",
      "10          0.03928640  \n",
      "9           0.03822350  \n",
      "0           0.03788264  \n",
      "8           0.03702772  \n",
      "4           0.03595637  \n",
      "33          0.03570605  \n",
      "6           0.03092058  \n"
     ]
    }
   ],
   "source": [
    "# #Feature importance\n",
    "# feature_importances = best_model.feature_importances_\n",
    "\n",
    "# #Create a DataFrame to store the feature importances\n",
    "# importance_df = pd.DataFrame({'Feature': X_train.columns, 'Importance': feature_importances})\n",
    "\n",
    "# #Sort the DataFrame by importance in descending order\n",
    "# importance_df = importance_df.sort_values('Importance', ascending=False)\n",
    "\n",
    "# #Display the top 10 most important features\n",
    "# print(importance_df.head(20))\n",
    "\n",
    "\n",
    "# Calculate feature importances for each individual model\n",
    "importance_df = pd.DataFrame({'Feature': X_train.columns})\n",
    "\n",
    "for name, model in best_model.named_estimators_.items():\n",
    "    if hasattr(model, 'feature_importances_'):\n",
    "        importance_df[name] = model.feature_importances_\n",
    "    elif hasattr(model, 'coef_'):\n",
    "        importance_df[name] = model.coef_[0]\n",
    "    else:\n",
    "        importance_df[name] = 0\n",
    "\n",
    "# Calculate the average importance across all individual models\n",
    "importance_df['Average_Importance'] = importance_df.iloc[:, 1:].mean(axis=1)\n",
    "\n",
    "# Sort the DataFrame by average importance in descending order\n",
    "importance_df = importance_df.sort_values('Average_Importance', ascending=False)\n",
    "\n",
    "# Display the top 20 most important features\n",
    "print(importance_df.head(10))"
   ]
  },
  {
   "cell_type": "markdown",
   "id": "1ebcc885",
   "metadata": {},
   "source": [
    "***From this output, we learn that the top 10 most important features from our ensemble model when seeing if someone is safe to lend money to are based on***\n",
    "\n",
    "\n",
    "* ***Normalized score from external data source***\n",
    "* ***Client's age in days at the time of application***\n",
    "* ***How many days before the application did client change the identity document***\n",
    "* ***How many days before the application did client change their registration***\n",
    "* ***ID of loan in our sample***\n",
    "* ***How many days before the application the person started current employment***\n",
    "* ***Loan annuity***\n",
    "* ***Number of days since the client last changed their phone number***\n",
    "* ***Normalized population of region where client lives***"
   ]
  },
  {
   "cell_type": "markdown",
   "id": "2fb3580f",
   "metadata": {},
   "source": [
    "### Prediction on the Test Set"
   ]
  },
  {
   "cell_type": "code",
   "execution_count": 138,
   "id": "39e057a7",
   "metadata": {},
   "outputs": [],
   "source": [
    "#Make predictions on the test set\n",
    "test_predictions = best_model.predict(test_data)"
   ]
  },
  {
   "cell_type": "code",
   "execution_count": 139,
   "id": "f558e44a",
   "metadata": {},
   "outputs": [],
   "source": [
    "#Create a submission DataFrame\n",
    "submission = pd.DataFrame({\n",
    "    \"SK_ID_CURR\": test_data[\"SK_ID_CURR\"], \n",
    "    \"TARGET\": test_predictions\n",
    "})\n",
    "\n",
    "#Remove duplicate SK_ID_CURR values\n",
    "submission = submission.drop_duplicates(subset=\"SK_ID_CURR\", keep=\"first\")\n",
    "\n",
    "#Save the submission DataFrame to a CSV file\n",
    "submission.to_csv(\"submission_ensemble2.csv\", index=False)"
   ]
  },
  {
   "cell_type": "markdown",
   "id": "e9265ee1",
   "metadata": {},
   "source": [
    "***When we put this dataset into Kaggle, we return a Kaggle score of .52188. Making it the highest performing model that we have created.***"
   ]
  },
  {
   "cell_type": "markdown",
   "id": "b8ac8c6a",
   "metadata": {},
   "source": [
    "## Modeling Creation Processing & Evaluation of Naive Baies Model"
   ]
  },
  {
   "cell_type": "code",
   "execution_count": 108,
   "id": "31f72056",
   "metadata": {},
   "outputs": [
    {
     "name": "stdout",
     "output_type": "stream",
     "text": [
      "Accuracy: 0.9195323805342829\n"
     ]
    }
   ],
   "source": [
    "\n",
    "# Preprocess the data\n",
    "label_encoder = LabelEncoder()\n",
    "for column in train_data.columns:\n",
    "    if train_data[column].dtype == 'object':\n",
    "        train_data[column] = label_encoder.fit_transform(train_data[column].astype(str))\n",
    "\n",
    "# Separate the features (X) and target variable (y)\n",
    "X = train_data.drop('TARGET', axis=1)\n",
    "y = train_data['TARGET']\n",
    "\n",
    "# Split the data into training and testing sets\n",
    "X_train, X_test, y_train, y_test = train_test_split(X, y, test_size=0.2, random_state=42)\n",
    "\n",
    "# Train the Naive Bayes model\n",
    "naive_bayes = GaussianNB()\n",
    "naive_bayes.fit(X_train, y_train)\n",
    "\n",
    "# Make predictions on the test set\n",
    "y_pred1 = naive_bayes.predict(X_test)\n",
    "\n",
    "# Calculate accuracy\n",
    "accuracy1 = accuracy_score(y_test, y_pred)\n",
    "print(\"Accuracy:\", accuracy)"
   ]
  },
  {
   "cell_type": "markdown",
   "id": "fa621b0e",
   "metadata": {},
   "source": [
    "***Here we have an accuracy of 0.9195323805342829 or about 92% at predicting the majority class. This is a high accuracy showing us that our model is accurate in predicting if somenoe would classify as being a safe borrower.***"
   ]
  },
  {
   "cell_type": "code",
   "execution_count": 107,
   "id": "7dd31b92",
   "metadata": {},
   "outputs": [
    {
     "name": "stdout",
     "output_type": "stream",
     "text": [
      "Accuracy: 0.9195323805342829\n"
     ]
    }
   ],
   "source": [
    "#Estimator BernoulliNB\n",
    "\n",
    "label_encoder = LabelEncoder()\n",
    "for column in train_data.columns:\n",
    "    if train_data[column].dtype == 'object':\n",
    "        train_data[column] = label_encoder.fit_transform(train_data[column].astype(str))\n",
    "\n",
    "# Separate the features (X) and target variable (y)\n",
    "X = train_data.drop('TARGET', axis=1)\n",
    "y = train_data['TARGET']\n",
    "\n",
    "# Split the data into training and testing sets\n",
    "X_train, X_test, y_train, y_test = train_test_split(X, y, test_size=0.2, random_state=42)\n",
    "\n",
    "# Train the Naive Bayes model\n",
    "naive_bayes_b1 = BernoulliNB()\n",
    "naive_bayes_b1.fit(X_train, y_train)\n",
    "\n",
    "# Make predictions on the test set\n",
    "y_pred2 = naive_bayes_b1.predict(X_test)\n",
    "\n",
    "# Calculate accuracy\n",
    "accuracy2 = accuracy_score(y_test, y_pred)\n",
    "print(\"Accuracy:\", accuracy)\n"
   ]
  },
  {
   "cell_type": "code",
   "execution_count": 89,
   "id": "4dcd31de",
   "metadata": {
    "scrolled": true
   },
   "outputs": [
    {
     "name": "stdout",
     "output_type": "stream",
     "text": [
      "Cross-Validation Scores: [0.91774725 0.91813341 0.91849925 0.91790817 0.91798947]\n",
      "Mean Accuracy: 0.9180555095225575\n",
      "Standard Deviation: 0.00025458504357842574\n"
     ]
    }
   ],
   "source": [
    "# Perform cross-validation\n",
    "scores = cross_val_score(naive_bayes, X_train, y_train, cv=5)\n",
    "\n",
    "# Print cross-validation scores\n",
    "print(\"Cross-Validation Scores:\", scores)\n",
    "print(\"Mean Accuracy:\", scores.mean())\n",
    "print(\"Standard Deviation:\", scores.std())"
   ]
  },
  {
   "cell_type": "markdown",
   "id": "bbaa7cc6",
   "metadata": {},
   "source": [
    "***Within this we now see that for each cross validation on average we get an acccuracy score of about 0.9180555095225575 or 91.8%. This accuracy shows us that for each of the folds we are getting a great accuracy of prediction on if the person is a safe borrower.***"
   ]
  },
  {
   "cell_type": "code",
   "execution_count": 109,
   "id": "5b138c11",
   "metadata": {},
   "outputs": [
    {
     "name": "stdout",
     "output_type": "stream",
     "text": [
      "Best Hyperparameters: {'alpha': 0.1, 'binarize': 1.0, 'fit_prior': True}\n",
      "Accuracy: 0.9195323805342829\n"
     ]
    }
   ],
   "source": [
    "# Adjusting hyperparameters for Bernoulli's Estimator \n",
    "# Perform label encoding on object columns\n",
    "label_encoder = LabelEncoder()\n",
    "for column in train_data.columns:\n",
    "    if train_data[column].dtype == 'object':\n",
    "        train_data[column] = label_encoder.fit_transform(train_data[column].astype(str))\n",
    "\n",
    "# Separate the features (X) and target variable (y)\n",
    "X = train_data.drop('TARGET', axis=1)\n",
    "y = train_data['TARGET']\n",
    "\n",
    "# Split the data into training and testing sets\n",
    "X_train, X_test, y_train, y_test = train_test_split(X, y, test_size=0.2, random_state=42)\n",
    "\n",
    "# Define the hyperparameters and their values to tune\n",
    "param_grid = {\n",
    "    'alpha': [0.1, 0.5, 1.0, 2.0, 5.0],\n",
    "    'binarize': [0.0, 0.5, 1.0],\n",
    "    'fit_prior': [True, False]\n",
    "}\n",
    "\n",
    "# Create Bernoulli Naive Bayes model\n",
    "naive_bayes_b2 = BernoulliNB()\n",
    "\n",
    "# Perform Grid Search with 5-fold cross-validation\n",
    "grid_search = GridSearchCV(estimator=naive_bayes_b2, param_grid=param_grid, cv=5)\n",
    "grid_search.fit(X_train, y_train)\n",
    "\n",
    "# Get the best hyperparameter values\n",
    "best_params = grid_search.best_params_\n",
    "print(\"Best Hyperparameters:\", best_params)\n",
    "\n",
    "# Train the Naive Bayes model with the best hyperparameters\n",
    "best_naive_bayes = BernoulliNB(**best_params)\n",
    "best_naive_bayes.fit(X_train, y_train)\n",
    "\n",
    "# Make predictions on the test set\n",
    "y_pred3 = best_naive_bayes.predict(X_test)\n",
    "\n",
    "# Calculate accuracy\n",
    "accuracy3 = accuracy_score(y_test, y_pred)\n",
    "print(\"Accuracy:\", accuracy)\n"
   ]
  },
  {
   "cell_type": "markdown",
   "id": "ebbf1831",
   "metadata": {},
   "source": [
    "***In the best situation possible of this model we see that the best accuracy that we can obtain is 0.9195323805342829 or 91.95%. This tells us that this model does to a good job at accurately predicting the borrowing behavior of the customer.***\n",
    "\n",
    "\n"
   ]
  },
  {
   "cell_type": "markdown",
   "id": "abc4ad97",
   "metadata": {},
   "source": [
    "### Feature Importance "
   ]
  },
  {
   "cell_type": "code",
   "execution_count": 105,
   "id": "529e17e9",
   "metadata": {
    "scrolled": true
   },
   "outputs": [
    {
     "name": "stdout",
     "output_type": "stream",
     "text": [
      "AMT_INCOME_TOTAL: -3.2518738923403843e-06\n",
      "AMT_CREDIT: -2.6014991138678666e-05\n",
      "AMT_ANNUITY: -5.8533730061949286e-05\n",
      "AMT_GOODS_PRICE: -9.755621676976744e-06\n",
      "DAYS_BIRTH: -6.5037477846585645e-06\n",
      "DAYS_EMPLOYED: -3.2518738923403843e-06\n",
      "DAYS_REGISTRATION: 1.95112433539979e-05\n",
      "DAYS_ID_PUBLISH: -1.6259369461657514e-05\n",
      "DAYS_LAST_PHONE_CHANGE: 9.105246898526431e-05\n",
      "SK_DPD: -6.5037477846585645e-06\n",
      "CREDIT_DAY_OVERDUE: 0.0003154317675560625\n"
     ]
    }
   ],
   "source": [
    "from sklearn.inspection import permutation_importance\n",
    "\n",
    "# Calculate permutation importance\n",
    "importance = permutation_importance(naive_bayes, X_test, y_test)\n",
    "\n",
    "# Get feature importances\n",
    "feature_importance = importance.importances_mean\n",
    "\n",
    "# Print feature importances\n",
    "for i, feature_name in enumerate(X.columns):\n",
    "    if feature_importance[i] != 0:\n",
    "        print(f\"{feature_name}: {feature_importance[i]}\")"
   ]
  },
  {
   "cell_type": "code",
   "execution_count": 111,
   "id": "55c5be2d",
   "metadata": {},
   "outputs": [
    {
     "name": "stdout",
     "output_type": "stream",
     "text": [
      "Confusion Matrix:\n",
      "[[56385   169]\n",
      " [ 4923    26]]\n",
      "[[56467    87]\n",
      " [ 4931    18]]\n",
      "[[56554     0]\n",
      " [ 4949     0]]\n"
     ]
    }
   ],
   "source": [
    "#Create confusion matrix\n",
    "# Calculate confusion matrix\n",
    "conf_matrix1 = confusion_matrix(y_test, y_pred1)\n",
    "conf_matrix2 = confusion_matrix(y_test, y_pred2)\n",
    "conf_matrix3 = confusion_matrix(y_test, y_pred3)\n",
    "\n",
    "\n",
    "# Print the confusion matrix\n",
    "print(\"Confusion Matrix:\")\n",
    "print(conf_matrix1)\n",
    "print(conf_matrix2)\n",
    "print(conf_matrix3)"
   ]
  },
  {
   "cell_type": "code",
   "execution_count": 112,
   "id": "3c7eb255",
   "metadata": {
    "scrolled": true
   },
   "outputs": [
    {
     "name": "stdout",
     "output_type": "stream",
     "text": [
      "Accuracy: 0.9172072907012666\n",
      "Precision: 0.13333333333333333\n",
      "Recall: 0.005253586583148111\n",
      "F1-score: 0.010108864696734058\n"
     ]
    }
   ],
   "source": [
    "#Evaluating confusion matrix values for Naive Bayes [Estimator = GausianNB]\n",
    "TN, FP, FN, TP = conf_matrix1.ravel()\n",
    "\n",
    "#Calculate accuracy\n",
    "accuracy = (TP + TN) / (TP + TN + FP + FN)\n",
    "\n",
    "#Calculate precision\n",
    "precision = TP / (TP + FP)\n",
    "\n",
    "#Calculate recall\n",
    "recall = TP / (TP + FN)\n",
    "\n",
    "#Calculate F1-score\n",
    "f1_score = 2 * (precision * recall) / (precision + recall)\n",
    "\n",
    "# Print the metrics\n",
    "print(\"Accuracy:\", accuracy)\n",
    "print(\"Precision:\", precision)\n",
    "print(\"Recall:\", recall)\n",
    "print(\"F1-score:\", f1_score)"
   ]
  },
  {
   "cell_type": "code",
   "execution_count": 113,
   "id": "0bc8c284",
   "metadata": {},
   "outputs": [
    {
     "name": "stdout",
     "output_type": "stream",
     "text": [
      "Accuracy: 0.9184104840414289\n",
      "Precision: 0.17142857142857143\n",
      "Recall: 0.003637098403717923\n",
      "F1-score: 0.007123070834982192\n"
     ]
    }
   ],
   "source": [
    "#Evaluating confusion matrix values for Naive Bayes [Estimator = BernoulliNB]\n",
    "TN, FP, FN, TP = conf_matrix2.ravel()\n",
    "\n",
    "#Calculate accuracy\n",
    "accuracy = (TP + TN) / (TP + TN + FP + FN)\n",
    "\n",
    "#Calculate precision\n",
    "precision = TP / (TP + FP)\n",
    "\n",
    "#Calculate recall\n",
    "recall = TP / (TP + FN)\n",
    "\n",
    "#Calculate F1-score\n",
    "f1_score = 2 * (precision * recall) / (precision + recall)\n",
    "\n",
    "# Print the metrics\n",
    "print(\"Accuracy:\", accuracy)\n",
    "print(\"Precision:\", precision)\n",
    "print(\"Recall:\", recall)\n",
    "print(\"F1-score:\", f1_score)"
   ]
  },
  {
   "cell_type": "code",
   "execution_count": 114,
   "id": "7271a96a",
   "metadata": {},
   "outputs": [
    {
     "name": "stdout",
     "output_type": "stream",
     "text": [
      "Accuracy: 0.9195323805342829\n",
      "Precision: nan\n",
      "Recall: 0.0\n",
      "F1-score: nan\n"
     ]
    },
    {
     "name": "stderr",
     "output_type": "stream",
     "text": [
      "C:\\Users\\u1427957\\AppData\\Local\\Temp\\ipykernel_8268\\1488848716.py:8: RuntimeWarning: invalid value encountered in longlong_scalars\n",
      "  precision = TP / (TP + FP)\n"
     ]
    }
   ],
   "source": [
    "#Evaluating confusion matrix values for Naive Bayes [Estimator = BernoulliNB] with hyperparameter tuning\n",
    "TN, FP, FN, TP = conf_matrix3.ravel()\n",
    "\n",
    "#Calculate accuracy\n",
    "accuracy = (TP + TN) / (TP + TN + FP + FN)\n",
    "\n",
    "#Calculate precision\n",
    "precision = TP / (TP + FP)\n",
    "\n",
    "#Calculate recall\n",
    "recall = TP / (TP + FN)\n",
    "\n",
    "#Calculate F1-score\n",
    "f1_score = 2 * (precision * recall) / (precision + recall)\n",
    "\n",
    "# Print the metrics\n",
    "print(\"Accuracy:\", accuracy)\n",
    "print(\"Precision:\", precision)\n",
    "print(\"Recall:\", recall)\n",
    "print(\"F1-score:\", f1_score)"
   ]
  },
  {
   "cell_type": "markdown",
   "id": "757de863",
   "metadata": {},
   "source": [
    "The accuracy score is 0.917, indicating that 91% of the predictions made by the model were correct. A precision score of 0.133 indicates that out of all the cases predicted as positive, only 13.3% were actually true positives. A recall score of 0.005 means that the model identified 5% of the actual positive cases.The F1-score is 0.010, which suggests that the model's overall performance is very low."
   ]
  },
  {
   "cell_type": "markdown",
   "id": "bd769aa9",
   "metadata": {},
   "source": [
    "### Prediction on the Test Set"
   ]
  },
  {
   "cell_type": "code",
   "execution_count": 116,
   "id": "40a401d2",
   "metadata": {},
   "outputs": [],
   "source": [
    "test_predictions = best_naive_bayes.predict(test_data)"
   ]
  },
  {
   "cell_type": "code",
   "execution_count": 117,
   "id": "2e44a7a4",
   "metadata": {},
   "outputs": [],
   "source": [
    "#Create a submission DataFrame\n",
    "submission = pd.DataFrame({\n",
    "    \"SK_ID_CURR\": test_data[\"SK_ID_CURR\"], \n",
    "    \"TARGET\": test_predictions\n",
    "})\n",
    "\n",
    "#Remove duplicate SK_ID_CURR values\n",
    "submission = submission.drop_duplicates(subset=\"SK_ID_CURR\", keep=\"first\")\n",
    "\n",
    "#Save the submission DataFrame to a CSV file\n",
    "#submission.to_csv(\"submission.csv\", index=False)"
   ]
  },
  {
   "cell_type": "code",
   "execution_count": 118,
   "id": "e058bd6a",
   "metadata": {},
   "outputs": [
    {
     "data": {
      "text/plain": [
       "array([0, 0, 0, ..., 0, 0, 0], dtype=int64)"
      ]
     },
     "execution_count": 118,
     "metadata": {},
     "output_type": "execute_result"
    }
   ],
   "source": [
    "test_predictions"
   ]
  },
  {
   "cell_type": "code",
   "execution_count": 119,
   "id": "d7ea2d27",
   "metadata": {
    "scrolled": true
   },
   "outputs": [
    {
     "data": {
      "text/html": [
       "<div>\n",
       "<style scoped>\n",
       "    .dataframe tbody tr th:only-of-type {\n",
       "        vertical-align: middle;\n",
       "    }\n",
       "\n",
       "    .dataframe tbody tr th {\n",
       "        vertical-align: top;\n",
       "    }\n",
       "\n",
       "    .dataframe thead th {\n",
       "        text-align: right;\n",
       "    }\n",
       "</style>\n",
       "<table border=\"1\" class=\"dataframe\">\n",
       "  <thead>\n",
       "    <tr style=\"text-align: right;\">\n",
       "      <th></th>\n",
       "      <th>SK_ID_CURR</th>\n",
       "      <th>TARGET</th>\n",
       "    </tr>\n",
       "  </thead>\n",
       "  <tbody>\n",
       "    <tr>\n",
       "      <th>0</th>\n",
       "      <td>100001</td>\n",
       "      <td>0</td>\n",
       "    </tr>\n",
       "    <tr>\n",
       "      <th>1</th>\n",
       "      <td>100005</td>\n",
       "      <td>0</td>\n",
       "    </tr>\n",
       "    <tr>\n",
       "      <th>2</th>\n",
       "      <td>100013</td>\n",
       "      <td>0</td>\n",
       "    </tr>\n",
       "    <tr>\n",
       "      <th>3</th>\n",
       "      <td>100028</td>\n",
       "      <td>0</td>\n",
       "    </tr>\n",
       "    <tr>\n",
       "      <th>4</th>\n",
       "      <td>100038</td>\n",
       "      <td>0</td>\n",
       "    </tr>\n",
       "    <tr>\n",
       "      <th>...</th>\n",
       "      <td>...</td>\n",
       "      <td>...</td>\n",
       "    </tr>\n",
       "    <tr>\n",
       "      <th>48739</th>\n",
       "      <td>456221</td>\n",
       "      <td>0</td>\n",
       "    </tr>\n",
       "    <tr>\n",
       "      <th>48740</th>\n",
       "      <td>456222</td>\n",
       "      <td>0</td>\n",
       "    </tr>\n",
       "    <tr>\n",
       "      <th>48741</th>\n",
       "      <td>456223</td>\n",
       "      <td>0</td>\n",
       "    </tr>\n",
       "    <tr>\n",
       "      <th>48742</th>\n",
       "      <td>456224</td>\n",
       "      <td>0</td>\n",
       "    </tr>\n",
       "    <tr>\n",
       "      <th>48743</th>\n",
       "      <td>456250</td>\n",
       "      <td>0</td>\n",
       "    </tr>\n",
       "  </tbody>\n",
       "</table>\n",
       "<p>48744 rows × 2 columns</p>\n",
       "</div>"
      ],
      "text/plain": [
       "       SK_ID_CURR  TARGET\n",
       "0          100001       0\n",
       "1          100005       0\n",
       "2          100013       0\n",
       "3          100028       0\n",
       "4          100038       0\n",
       "...           ...     ...\n",
       "48739      456221       0\n",
       "48740      456222       0\n",
       "48741      456223       0\n",
       "48742      456224       0\n",
       "48743      456250       0\n",
       "\n",
       "[48744 rows x 2 columns]"
      ]
     },
     "execution_count": 119,
     "metadata": {},
     "output_type": "execute_result"
    }
   ],
   "source": [
    "submission"
   ]
  },
  {
   "cell_type": "markdown",
   "id": "1701ab5c",
   "metadata": {},
   "source": [
    "***Using estimator as GaussianNB we get accuracy of 0.9172 while using estimator as BernoulliNB we get accuracy 0.91841 and the accuracy increases to 0.9195 when we reset the hyperparameters. \n",
    "In case of estimator = BernoulliNB, we have obtained a kaggle score of 0.502***"
   ]
  },
  {
   "cell_type": "markdown",
   "id": "28a0dbf0",
   "metadata": {},
   "source": [
    "# Model Performances Summary"
   ]
  },
  {
   "cell_type": "code",
   "execution_count": 140,
   "id": "e26cc1f7",
   "metadata": {},
   "outputs": [
    {
     "data": {
      "text/html": [
       "<div>\n",
       "<style scoped>\n",
       "    .dataframe tbody tr th:only-of-type {\n",
       "        vertical-align: middle;\n",
       "    }\n",
       "\n",
       "    .dataframe tbody tr th {\n",
       "        vertical-align: top;\n",
       "    }\n",
       "\n",
       "    .dataframe thead th {\n",
       "        text-align: right;\n",
       "    }\n",
       "</style>\n",
       "<table border=\"1\" class=\"dataframe\">\n",
       "  <thead>\n",
       "    <tr style=\"text-align: right;\">\n",
       "      <th></th>\n",
       "      <th>Model Performance Evaluation (Based on Best)</th>\n",
       "      <th>Unnamed: 1</th>\n",
       "      <th>Unnamed: 2</th>\n",
       "      <th>Unnamed: 3</th>\n",
       "      <th>Unnamed: 4</th>\n",
       "      <th>Unnamed: 5</th>\n",
       "    </tr>\n",
       "  </thead>\n",
       "  <tbody>\n",
       "    <tr>\n",
       "      <th>0</th>\n",
       "      <td>NaN</td>\n",
       "      <td>Gradient Boosting Model</td>\n",
       "      <td>Logistic Regression Model</td>\n",
       "      <td>Random Forest Classification</td>\n",
       "      <td>Ensemble Model</td>\n",
       "      <td>Naïve Bayes Model</td>\n",
       "    </tr>\n",
       "    <tr>\n",
       "      <th>1</th>\n",
       "      <td>Sample That gave Best Accuracy (Original, Upsa...</td>\n",
       "      <td>Upsampled</td>\n",
       "      <td>Original</td>\n",
       "      <td>Upsampled</td>\n",
       "      <td>Upsampled</td>\n",
       "      <td>Original</td>\n",
       "    </tr>\n",
       "    <tr>\n",
       "      <th>2</th>\n",
       "      <td>Best Hyperparameters</td>\n",
       "      <td>Not Applicable to our Creation of this Model</td>\n",
       "      <td>{'C': 0.1, 'penalty': 'l2', 'solver': 'libline...</td>\n",
       "      <td>{'n_estimators': 100, 'min_samples_split': 2, ...</td>\n",
       "      <td>{'model1__max_depth': None, 'model1__min_samp...</td>\n",
       "      <td>{'alpha': 0.1, 'binarize': 1.0, 'fit_prior': T...</td>\n",
       "    </tr>\n",
       "    <tr>\n",
       "      <th>3</th>\n",
       "      <td>Best Score</td>\n",
       "      <td>Not Applicable to our Creation of this Model</td>\n",
       "      <td>0.91920181</td>\n",
       "      <td>0.99005227</td>\n",
       "      <td>0.79196222</td>\n",
       "      <td>Not Applicable to our Creation of this Model</td>\n",
       "    </tr>\n",
       "    <tr>\n",
       "      <th>4</th>\n",
       "      <td>Best Accuracy</td>\n",
       "      <td>0.66881928</td>\n",
       "      <td>0.91951612</td>\n",
       "      <td>0.91941856</td>\n",
       "      <td>0.89049315</td>\n",
       "      <td>0.91953238</td>\n",
       "    </tr>\n",
       "    <tr>\n",
       "      <th>5</th>\n",
       "      <td>Best Train Set Performance AUC</td>\n",
       "      <td>Not Applicable to our Creation of this Model</td>\n",
       "      <td>0.49999779</td>\n",
       "      <td>1</td>\n",
       "      <td>1</td>\n",
       "      <td>Not Applicable to our Creation of this Model</td>\n",
       "    </tr>\n",
       "    <tr>\n",
       "      <th>6</th>\n",
       "      <td>Best Train Set Performance Accuracy</td>\n",
       "      <td>0.74409378</td>\n",
       "      <td>0.92000000</td>\n",
       "      <td>1</td>\n",
       "      <td>1</td>\n",
       "      <td>0.91841048</td>\n",
       "    </tr>\n",
       "    <tr>\n",
       "      <th>7</th>\n",
       "      <td>Best Train Set Precision, Recall, F1 Score for...</td>\n",
       "      <td>0.17346568212080862, 0.5791068902808648, 0.26...</td>\n",
       "      <td>0.92      1.00      0.96</td>\n",
       "      <td>1.00      1.00      1.00</td>\n",
       "      <td>1.00      1.00      1.00</td>\n",
       "      <td>0.17142857142857143\\n 0.003637098403717923\\n ...</td>\n",
       "    </tr>\n",
       "    <tr>\n",
       "      <th>8</th>\n",
       "      <td>Best Train Set Precision, Recall, F1 Score for...</td>\n",
       "      <td>0.826534317879192, 0.420893109719136, 0.73303...</td>\n",
       "      <td>0.00      0.00      0.00</td>\n",
       "      <td>1.00      1.00      1.00</td>\n",
       "      <td>1.00      1.00      1.00</td>\n",
       "      <td>Not Applicable to our Creation of this Model</td>\n",
       "    </tr>\n",
       "    <tr>\n",
       "      <th>9</th>\n",
       "      <td>Best Train Set Performance Runtime</td>\n",
       "      <td>Not Applicable to our Creation of this Model</td>\n",
       "      <td>0.22581863403320312 seconds</td>\n",
       "      <td>9.18987774848938 seconds</td>\n",
       "      <td>14.746994495391846 seconds</td>\n",
       "      <td>Not Applicable to our Creation of this Model</td>\n",
       "    </tr>\n",
       "    <tr>\n",
       "      <th>10</th>\n",
       "      <td>Best Test Set Performance AUC</td>\n",
       "      <td>Not Applicable to our Creation of this Model</td>\n",
       "      <td>0.49999116</td>\n",
       "      <td>0.50703670</td>\n",
       "      <td>0.53196389</td>\n",
       "      <td>Not Applicable to our Creation of this Model</td>\n",
       "    </tr>\n",
       "    <tr>\n",
       "      <th>11</th>\n",
       "      <td>Best Test Set Performance Accuracy</td>\n",
       "      <td>Not Applicable to our Creation of this Model</td>\n",
       "      <td>0.92000000</td>\n",
       "      <td>0.92000000</td>\n",
       "      <td>0.89000000</td>\n",
       "      <td>Not Applicable to our Creation of this Model</td>\n",
       "    </tr>\n",
       "    <tr>\n",
       "      <th>12</th>\n",
       "      <td>Best Test Set Performance Runtime</td>\n",
       "      <td>Not Applicable to our Creation of this Model</td>\n",
       "      <td>0.03416752815246582 seconds</td>\n",
       "      <td>2.0379745960235596 seconds</td>\n",
       "      <td>3.51649808883667 seconds</td>\n",
       "      <td>Not Applicable to our Creation of this Model</td>\n",
       "    </tr>\n",
       "    <tr>\n",
       "      <th>13</th>\n",
       "      <td>Best Test Set Precision, Recall, F1 Score for ...</td>\n",
       "      <td>Not Applicable to our Creation of this Model</td>\n",
       "      <td>0.92      1.00      0.96</td>\n",
       "      <td>0.92      1.00      0.96</td>\n",
       "      <td>0.92      0.96      0.94</td>\n",
       "      <td>Not Applicable to our Creation of this Model</td>\n",
       "    </tr>\n",
       "    <tr>\n",
       "      <th>14</th>\n",
       "      <td>Best Test Set Precision, Recall, F1 Score for ...</td>\n",
       "      <td>Not Applicable to our Creation of this Model</td>\n",
       "      <td>0.00      0.00      0.00</td>\n",
       "      <td>0.48      0.02      0.03</td>\n",
       "      <td>0.18      0.10      0.13</td>\n",
       "      <td>Not Applicable to our Creation of this Model</td>\n",
       "    </tr>\n",
       "    <tr>\n",
       "      <th>15</th>\n",
       "      <td>Top 10 Features in Relation to Customer Borrow...</td>\n",
       "      <td>EXT_SOURCE_3, EXT_SOURCE_2 , AMT_REQ_CREDIT_BU...</td>\n",
       "      <td>DAYS_LAST_PHONE_CHANGE, DAYS_ID_PUBLISH, DAYS_...</td>\n",
       "      <td>EXT_SOURCE_2, EXT_SOURCE_3, DAYS_BIRTH , DAYS_...</td>\n",
       "      <td>EXT_SOURCE_2 , EXT_SOURCE_3 , DAYS_BIRTH, DAYS...</td>\n",
       "      <td>AMT_INCOME_TOTAL:,\\nAMT_CREDIT:, AMT_ANNUITY:,...</td>\n",
       "    </tr>\n",
       "    <tr>\n",
       "      <th>16</th>\n",
       "      <td>Kaggle Score</td>\n",
       "      <td>0.50000000</td>\n",
       "      <td>0.50000000</td>\n",
       "      <td>0.50195000</td>\n",
       "      <td>0.52188000</td>\n",
       "      <td>0.50200000</td>\n",
       "    </tr>\n",
       "  </tbody>\n",
       "</table>\n",
       "</div>"
      ],
      "text/plain": [
       "         Model Performance Evaluation (Based on Best)  \\\n",
       "0                                                 NaN   \n",
       "1   Sample That gave Best Accuracy (Original, Upsa...   \n",
       "2                                Best Hyperparameters   \n",
       "3                                          Best Score   \n",
       "4                                       Best Accuracy   \n",
       "5                      Best Train Set Performance AUC   \n",
       "6                 Best Train Set Performance Accuracy   \n",
       "7   Best Train Set Precision, Recall, F1 Score for...   \n",
       "8   Best Train Set Precision, Recall, F1 Score for...   \n",
       "9                  Best Train Set Performance Runtime   \n",
       "10                      Best Test Set Performance AUC   \n",
       "11                 Best Test Set Performance Accuracy   \n",
       "12                  Best Test Set Performance Runtime   \n",
       "13  Best Test Set Precision, Recall, F1 Score for ...   \n",
       "14  Best Test Set Precision, Recall, F1 Score for ...   \n",
       "15  Top 10 Features in Relation to Customer Borrow...   \n",
       "16                                       Kaggle Score   \n",
       "\n",
       "                                           Unnamed: 1  \\\n",
       "0                             Gradient Boosting Model   \n",
       "1                                           Upsampled   \n",
       "2        Not Applicable to our Creation of this Model   \n",
       "3        Not Applicable to our Creation of this Model   \n",
       "4                                          0.66881928   \n",
       "5        Not Applicable to our Creation of this Model   \n",
       "6                                          0.74409378   \n",
       "7    0.17346568212080862, 0.5791068902808648, 0.26...   \n",
       "8    0.826534317879192, 0.420893109719136, 0.73303...   \n",
       "9        Not Applicable to our Creation of this Model   \n",
       "10       Not Applicable to our Creation of this Model   \n",
       "11       Not Applicable to our Creation of this Model   \n",
       "12       Not Applicable to our Creation of this Model   \n",
       "13       Not Applicable to our Creation of this Model   \n",
       "14       Not Applicable to our Creation of this Model   \n",
       "15  EXT_SOURCE_3, EXT_SOURCE_2 , AMT_REQ_CREDIT_BU...   \n",
       "16                                         0.50000000   \n",
       "\n",
       "                                           Unnamed: 2  \\\n",
       "0                           Logistic Regression Model   \n",
       "1                                            Original   \n",
       "2   {'C': 0.1, 'penalty': 'l2', 'solver': 'libline...   \n",
       "3                                          0.91920181   \n",
       "4                                          0.91951612   \n",
       "5                                          0.49999779   \n",
       "6                                          0.92000000   \n",
       "7                            0.92      1.00      0.96   \n",
       "8                            0.00      0.00      0.00   \n",
       "9                         0.22581863403320312 seconds   \n",
       "10                                         0.49999116   \n",
       "11                                         0.92000000   \n",
       "12                        0.03416752815246582 seconds   \n",
       "13                           0.92      1.00      0.96   \n",
       "14                           0.00      0.00      0.00   \n",
       "15  DAYS_LAST_PHONE_CHANGE, DAYS_ID_PUBLISH, DAYS_...   \n",
       "16                                         0.50000000   \n",
       "\n",
       "                                           Unnamed: 3  \\\n",
       "0                        Random Forest Classification   \n",
       "1                                           Upsampled   \n",
       "2   {'n_estimators': 100, 'min_samples_split': 2, ...   \n",
       "3                                          0.99005227   \n",
       "4                                          0.91941856   \n",
       "5                                                   1   \n",
       "6                                                   1   \n",
       "7                           1.00      1.00      1.00    \n",
       "8                            1.00      1.00      1.00   \n",
       "9                            9.18987774848938 seconds   \n",
       "10                                         0.50703670   \n",
       "11                                         0.92000000   \n",
       "12                         2.0379745960235596 seconds   \n",
       "13                           0.92      1.00      0.96   \n",
       "14                           0.48      0.02      0.03   \n",
       "15  EXT_SOURCE_2, EXT_SOURCE_3, DAYS_BIRTH , DAYS_...   \n",
       "16                                         0.50195000   \n",
       "\n",
       "                                           Unnamed: 4  \\\n",
       "0                                      Ensemble Model   \n",
       "1                                           Upsampled   \n",
       "2    {'model1__max_depth': None, 'model1__min_samp...   \n",
       "3                                          0.79196222   \n",
       "4                                          0.89049315   \n",
       "5                                                   1   \n",
       "6                                                   1   \n",
       "7                            1.00      1.00      1.00   \n",
       "8                            1.00      1.00      1.00   \n",
       "9                          14.746994495391846 seconds   \n",
       "10                                         0.53196389   \n",
       "11                                         0.89000000   \n",
       "12                           3.51649808883667 seconds   \n",
       "13                          0.92      0.96      0.94    \n",
       "14                           0.18      0.10      0.13   \n",
       "15  EXT_SOURCE_2 , EXT_SOURCE_3 , DAYS_BIRTH, DAYS...   \n",
       "16                                         0.52188000   \n",
       "\n",
       "                                           Unnamed: 5  \n",
       "0                                   Naïve Bayes Model  \n",
       "1                                            Original  \n",
       "2   {'alpha': 0.1, 'binarize': 1.0, 'fit_prior': T...  \n",
       "3        Not Applicable to our Creation of this Model  \n",
       "4                                          0.91953238  \n",
       "5        Not Applicable to our Creation of this Model  \n",
       "6                                          0.91841048  \n",
       "7    0.17142857142857143\\n 0.003637098403717923\\n ...  \n",
       "8        Not Applicable to our Creation of this Model  \n",
       "9        Not Applicable to our Creation of this Model  \n",
       "10       Not Applicable to our Creation of this Model  \n",
       "11       Not Applicable to our Creation of this Model  \n",
       "12       Not Applicable to our Creation of this Model  \n",
       "13       Not Applicable to our Creation of this Model  \n",
       "14       Not Applicable to our Creation of this Model  \n",
       "15  AMT_INCOME_TOTAL:,\\nAMT_CREDIT:, AMT_ANNUITY:,...  \n",
       "16                                         0.50200000  "
      ]
     },
     "execution_count": 140,
     "metadata": {},
     "output_type": "execute_result"
    }
   ],
   "source": [
    "# Running this code that will display a summary table of all of the metrics that we have used to evaluate our models.\n",
    "\n",
    "import pandas as pd\n",
    "#!pip install openpyxl\n",
    "\n",
    "\n",
    "\n",
    "# Set display options to show all rows and columns\n",
    "pd.set_option('display.max_rows', None)\n",
    "pd.set_option('display.max_columns', None)\n",
    "\n",
    "# Read the Excel file\n",
    "df = pd.read_excel(r\"C:\\Users\\jusha\\Documents\\IS 6812 MSBA Capstone 1\\Models Summary Modeling Assignment Excel.xlsx\")\n",
    "\n",
    "# Display the DataFrame as a table\n",
    "df\n",
    "\n"
   ]
  },
  {
   "cell_type": "markdown",
   "id": "d7fdb073",
   "metadata": {},
   "source": [
    "Describe the performance characteristics of your best model, including run time. What is the train set and test set performance? What is your Kaggle score?\n",
    "\n",
    "\n",
    "***As shown above, I have created a table summary that has all of our metrics that we have learned from each of our models that we have crated and the information within each one.*** \n",
    "\n",
    "***Although each of the models has their own pros and cons after evaluating for the best hyperparameters, we have come to the conclusion that the model that gives us the best results is the Ensemble Model that combines the Logistic Regression, Random Forest Model, and Gradient Boosting Models to get its compelte output. The Random Forest Classification Model was the runner up and does have pros against the Ensemble Model, but the Ensemble model ultamitely performed better when inserted into Kaggle and gave a similiar performance on the tests and training sets.***\n",
    "\n",
    "\n",
    "***The measurements that made the Ensemble Model one of the best models that we have created for determining whether a customer is a safe borrower are***\n",
    "\n",
    "\n",
    "* ***The Kaggle score was the highest of the models being .52188.***\n",
    "\n",
    "\n",
    "***Under the best parameters set for the Ensemble Modeling***\n",
    "\n",
    "***The Train Set***\n",
    "* ***Has an AUC of 1.0. Meaning that the models predictive powers seem to be a high discriminative power of the model. Indication that this Ensemble Model is a perfect classifier.***\n",
    "* ***The precision, recall, and F1 score for the majority class of 0 (Those who do not default) are all 1.0. Very high meaning that the model performs well in identifying the majority class, perfection.***\n",
    "* ***The precision, recall, and F1 score for the minority class of 1 (Those who do default) are at 1.0. Meaning that the model is a perfect classifier of those that are safe to lend to.***\n",
    "* ***This train set gives us a 100% accuracy rating. Meaning that this model at it's best can predict 100% of the outcomes for the borrower in the training set.***\n",
    "* ***Has a run time of 14.746994495391846 seconds***\n",
    "\n",
    "***The Test Set***\n",
    "* ***AUC of Test: 0.5319638928664842. This shows us that within the test set, the model does have a discrimatory power, but it is relevatively low.***\n",
    "* ***The precision, recall, and F1 score are  0.92, 0.96, and 0.94 when the class of 0 (Those who are save borrowers). This means that the model predicts the class of 0 quite well.***\n",
    "* ***The precision, recall, and F1 score are  0.18, 0.10, and 0.13  when the class of 1 (Those who are NOT save borrowers). This means that the model predicts the class of 1 poorly. This is in advantage of our model because we are testing to see which of the borrowers would classify as 0 and are good borrowers to lend to, not wanting to see if they are not worth lending to.***\n",
    "* ***We see that because of the macro average and the weighted average they are unbalanced between the classes. This may be why the model is better at predicitng for class 0 than 1.***\n",
    "* ***The accuracy is 0.89 or 89% which again shows us that this model is accurate most often when predicting for the majority class of 0 , but not for the class of 1.***\n",
    "* ***Has a run time of 3.51649808883667 seconds***\n",
    "\n",
    "\n",
    "***Because of this fantastic AUC and accuracy score within the Training and test set, we see that the Ensemble model is a great one that we can use to predict and classify if a person is a safe borrower and should be given the loan, despite some of the lower classifications provided within the test set of this model. We especially see that this model does best at identifying those that are safe borrowers (majority class of 0) rather than predicting those that are not safe borrowers (class of 1). This is to our advantage as we are more interested in knowing who is safe to borrow to rather than who is not.***\n",
    "\n",
    "\n",
    "***While there are some advantages that the Random Forest Classification model has over the Ensemble Model, the Ensemble performs better and looks at the data in a bigger picture to help us truly identify which customers may belong to the majority class of 0 of being safe borrowers. The difference of the 2 performance wise is marginal, and the Ensemble model gives us a better way to see the data of the customer in a larger picture.***\n",
    "\n"
   ]
  },
  {
   "cell_type": "markdown",
   "id": "8ee8ce2b",
   "metadata": {},
   "source": [
    "# Results Summary"
   ]
  },
  {
   "cell_type": "markdown",
   "id": "47f1a02d",
   "metadata": {},
   "source": [
    "***After performing our modeling processes we have discovered useful findings.***\n",
    "\n",
    "***The Top 10 most important attributes to consider about a customer to signal a customer being a safe borrower are***\n",
    "\n",
    "*The order changes based on each model, but these were attributes found within the top 10 of each model. The order stays mostly consistant within the modeling outputs.*\n",
    "\n",
    "* EXT_SOURCE_3:\n",
    "    * Normalized score from external data source\n",
    "* EXT_SOURCE_2: \n",
    "    * Normalized score from external data source\n",
    "* DAYS_BIRTH:\n",
    "    * Client's age in days at the time of application\n",
    "* DAYS_ID_PUBLISH\n",
    "    * How many days before the application did client change the identity document \n",
    "* DAYS_REGISTRATION\n",
    "    * How many days before the application did client change their registration\n",
    "* DAYS_EMPLOYED\n",
    "    * How many days before the application the person started current employment\n",
    "* DAYS_LAST_PHONE_CHANGE\n",
    "    * Number of days since the client last changed their phone number\n",
    "* AMT_ANNUITY\n",
    "    * Loan annuity\n",
    "* SK_ID_CURR\n",
    "    * ID of loan in our sample\n",
    "* AMT_CREDIT\n",
    "    * Final credit amount on the previous application\n",
    "\n",
    "***We know that these attributes are some of the most important because they appeared throughout all of our modeling processes.***\n",
    "\n",
    "\n",
    "***Other attributes that are still important when considering a customer being a safe borrower are, but did not appear as many times within the models.***\n",
    "\n",
    "* AMT_REQ_CREDIT_BUREAU_DAY\n",
    "    * Number of enquiries to Credit Bureau about the client one day before application (excluding one hour before application)\n",
    "* FLAG_EMP_PHONE\n",
    "    * Did client provide work phone (1=YES, 0=NO)\n",
    "* FLAG_DOCUMENT_3\n",
    "    * Indicates if there is a third document provided by the client\n",
    "* FLAG_DOCUMENT_16\n",
    "    * Indicates if there is a sixteenth document provided by the client\n",
    "* REGION_RATING_CLIENT_W_CITY\n",
    "    * Our rating of the region where client lives with taking city into account (1,2,3)\n",
    "* AMT_GOODS_PRICE\n",
    "    * For consumer loans it is the price of the goods for which the loan is given\n",
    "* AMT_REQ_CREDIT_BUREAU_HOUR\n",
    "    * Number of enquiries to Credit Bureau about the client one hour before application\n",
    "* REG_CITY_NOT_LIVE_CITY\n",
    "    * Flag if client's permanent address does not match contact address (1=different, 0=same, at city level)\n",
    "* CREDIT_DAY_OVERDUE\n",
    "    * Number of days past due on CB credit at the time of application for related loan in our sample\n",
    "* AMT_REQ_CREDIT_BUREAU_YEAR\n",
    "    * Number of enquiries to Credit Bureau about the client one year (excluding last three months before application)\n",
    "* SK_DPD\n",
    "    * DPD (Days past due) during the month on the previous credit\n",
    "* REGION_POPULATION_RELATIVE\n",
    "    * Normalized population of region where client lives\n",
    "* AMT_INCOME_TOTAL\n",
    "    * Income of the client"
   ]
  },
  {
   "cell_type": "markdown",
   "id": "ac2f1bc8",
   "metadata": {},
   "source": [
    "# Group Contributions"
   ]
  },
  {
   "cell_type": "markdown",
   "id": "15489caf",
   "metadata": {},
   "source": [
    "***Justin Hamilton:*** I first ran a trial model for the Gradient Boost, Logistic Regression, Random Forest Classifier, and Ensemble Model. I created this in my own document and then shared it within the group. After seeing the rest of the groups efforts, I then compiled all of the codes and models into this document and organized the files. I wrote the interpretations wtithin this notebook and created the Logisitic, Random Forest, and Ensemble Models. I wrote up the summary rough draft, made the interpretations throughtout the analysis, and compiled this whole document neatly for submission. I also wrote the model hyper parameters, evaluations, and feature engineering for each of the models to come to a conclusion. Wrote the results summary of the modeling.\n",
    "\n",
    "\n",
    "\n",
    "\n",
    "***Rachel Butterfield:*** Conducted the Gradient Booosting Model as well as the processes that went into evaluating this model. Attended and checked all of the notebooks provided by the group as well as contributing to group discussion.Tested multiple times the evaluation of the Gradient Boosting model. Cleaned the data that was then used for each of the other models throughout the notebook.\n",
    "\n",
    "\n",
    "\n",
    "\n",
    "***Debayan Dutta:*** Did a lot of QA. Tested and ran each of the final submissions as well as the progress up to that point. Ran a NB model and contributed a lot of good feedback throughout the whole process. Made sure to make changes when needed, add modeling data was needed, and reviewed each of the files for quality before continuing on to the next step. Conducted the processes for the Naive Bayes Model that was tested.\n",
    "\n",
    "\n",
    "\n",
    "\n",
    "***Sampoornaa Ghosh:*** Contributed by helping with the final submission. Helped with the compiling of the file and then checking to make sure that the final draft met the requirements of the models and of the assignments."
   ]
  }
 ],
 "metadata": {
  "kernelspec": {
   "display_name": "Python 3 (ipykernel)",
   "language": "python",
   "name": "python3"
  },
  "language_info": {
   "codemirror_mode": {
    "name": "ipython",
    "version": 3
   },
   "file_extension": ".py",
   "mimetype": "text/x-python",
   "name": "python",
   "nbconvert_exporter": "python",
   "pygments_lexer": "ipython3",
   "version": "3.10.9"
  },
  "toc": {
   "base_numbering": 1,
   "nav_menu": {},
   "number_sections": false,
   "sideBar": false,
   "skip_h1_title": false,
   "title_cell": "Table of Contents",
   "title_sidebar": "Contents",
   "toc_cell": true,
   "toc_position": {
    "height": "calc(100% - 180px)",
    "left": "10px",
    "top": "150px",
    "width": "384px"
   },
   "toc_section_display": true,
   "toc_window_display": true
  }
 },
 "nbformat": 4,
 "nbformat_minor": 5
}
