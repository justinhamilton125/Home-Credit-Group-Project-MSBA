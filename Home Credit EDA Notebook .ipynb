{
 "cells": [
  {
   "cell_type": "markdown",
   "id": "d91bb566",
   "metadata": {},
   "source": [
    "# Introduction"
   ]
  },
  {
   "cell_type": "markdown",
   "id": "75cf905f",
   "metadata": {},
   "source": [
    "# Description of the Data"
   ]
  },
  {
   "cell_type": "markdown",
   "id": "b7869310",
   "metadata": {},
   "source": [
    "# Discussion of Missing Data"
   ]
  },
  {
   "cell_type": "markdown",
   "id": "2882e773",
   "metadata": {},
   "source": [
    "# Exploratory of Visualizations"
   ]
  },
  {
   "cell_type": "markdown",
   "id": "ccc88503",
   "metadata": {},
   "source": [
    "# Results"
   ]
  },
  {
   "cell_type": "markdown",
   "id": "39c85ca7",
   "metadata": {},
   "source": [
    "# Group Members and Participation"
   ]
  }
 ],
 "metadata": {
  "kernelspec": {
   "display_name": "Python 3 (ipykernel)",
   "language": "python",
   "name": "python3"
  },
  "language_info": {
   "codemirror_mode": {
    "name": "ipython",
    "version": 3
   },
   "file_extension": ".py",
   "mimetype": "text/x-python",
   "name": "python",
   "nbconvert_exporter": "python",
   "pygments_lexer": "ipython3",
   "version": "3.10.9"
  },
  "toc": {
   "base_numbering": 1,
   "nav_menu": {},
   "number_sections": true,
   "sideBar": true,
   "skip_h1_title": false,
   "title_cell": "Table of Contents",
   "title_sidebar": "Contents",
   "toc_cell": false,
   "toc_position": {},
   "toc_section_display": true,
   "toc_window_display": false
  }
 },
 "nbformat": 4,
 "nbformat_minor": 5
}
